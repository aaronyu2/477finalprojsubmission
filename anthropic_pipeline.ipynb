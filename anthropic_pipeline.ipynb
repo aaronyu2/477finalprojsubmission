{
 "cells": [
  {
   "cell_type": "code",
   "execution_count": 1,
   "metadata": {},
   "outputs": [],
   "source": [
    "import prompts\n",
    "import pandas as pd\n",
    "from prompts import TEXT_IMAGE, TEXT_ONLY, IMAGE_ONLY"
   ]
  },
  {
   "cell_type": "code",
   "execution_count": 2,
   "metadata": {},
   "outputs": [],
   "source": [
    "df = pd.read_feather(\"data/hupd_sample_train_images_merged.feather\")"
   ]
  },
  {
   "cell_type": "markdown",
   "metadata": {},
   "source": [
    "## Image Only"
   ]
  },
  {
   "cell_type": "code",
   "execution_count": 3,
   "metadata": {},
   "outputs": [
    {
     "name": "stderr",
     "output_type": "stream",
     "text": [
      "/home/ubuntu/cs477-final-project/.conda/lib/python3.11/site-packages/tqdm/auto.py:21: TqdmWarning: IProgress not found. Please update jupyter and ipywidgets. See https://ipywidgets.readthedocs.io/en/stable/user_install.html\n",
      "  from .autonotebook import tqdm as notebook_tqdm\n",
      "0it [00:00, ?it/s]"
     ]
    },
    {
     "name": "stdout",
     "output_type": "stream",
     "text": [
      "PatentData(text='A portable drug dispenser includes a chamber for holding a plurality of separately contained drug products, a dispensing mechanism for dispensing one or more of the plurality of drug products, and may optionally include a processor to determine the time of each activation of the dispensing mechanism and to transmit the determined time of activation to a computer located remote to the dispenser. The dispenser may include more than one chamber for holding drugs.', image=<PIL.Image.Image image mode=RGB size=3000x1882 at 0x7F542C9BA810>, label='A61J', model_output=None, messages=None, model_type='claude3haiku', mode=2)\n"
     ]
    },
    {
     "name": "stderr",
     "output_type": "stream",
     "text": [
      "1it [00:01,  1.27s/it]"
     ]
    },
    {
     "name": "stdout",
     "output_type": "stream",
     "text": [
      "Output: F24F, Expected: A61J, Current Accuracy: 0.0, Token Usage: 0\n",
      "PatentData(text='A crystal growth furnace comprising a crucible containing at least feedstock material and a liquid-cooled heat exchanger that is vertically movable beneath the crucible to extract heat from it to promote the growth of a crystalline ingot is disclosed. The liquid-cooled heat exchanger comprises a heat extraction bulb made of high thermal conductivity material that is vertically movable into thermal communication with the crucible to extract heat from the crucible using a liquid coolant. A liquid-cooled heat exchanger enclosed in a sealed tubular outer jacket is also disclosed as is a method for producing a crystalline ingot using a vertically movable liquid-cooled heat exchanger.', image=<PIL.Image.Image image mode=RGB size=2651x3000 at 0x7F542C9CCE50>, label='C30B', model_output=None, messages=None, model_type='claude3haiku', mode=2)\n"
     ]
    },
    {
     "name": "stderr",
     "output_type": "stream",
     "text": [
      "2it [00:02,  1.41s/it]"
     ]
    },
    {
     "name": "stdout",
     "output_type": "stream",
     "text": [
      "Output: F01P, Expected: C30B, Current Accuracy: 0.0, Token Usage: 0\n",
      "PatentData(text='A shoe midsole is composed of a base plate (1), a cover (2), a plurality of blades (3), and liquid (4). The blades (3) are formed in such a manner as to rise within a first region (11) of the base plate (1). The blades (3) are each composed of a plurality of flat-shaped blade elements (32, 33) separated each other by slits (31), and are tilted toward the toe side or the heel side. The flat-shaped blade elements (32, 33) are disposed in such a manner as to be divergent toward the toe side or the heel side. The base plate (1) and the cover (2) are joined together, thereby forming a closed space (5), and the liquid (4) is sealed in the closed space.', image=<PIL.Image.Image image mode=RGB size=1470x3000 at 0x7F542C9CF610>, label='A43B', model_output=None, messages=None, model_type='claude3haiku', mode=2)\n"
     ]
    },
    {
     "name": "stderr",
     "output_type": "stream",
     "text": [
      "3it [00:04,  1.53s/it]"
     ]
    },
    {
     "name": "stdout",
     "output_type": "stream",
     "text": [
      "Output: A43B, Expected: A43B, Current Accuracy: 0.3333333333333333, Token Usage: 0\n",
      "PatentData(text='A ratchet tool includes a shaft member, a handle and a ratchet mechanism, in which the handle is connected to the ratchet mechanism, and the shaft member extends into the interior of the ratchet mechanism along the central axle of the ratchet mechanism from the front end of the ratchet mechanism and is connected to the ratchet mechanism. The shaft member includes a shaft and an extension portion which passes through the rear end of the ratchet mechanism along the central axle of the ratchet mechanism from the front end of the ratchet mechanism and is connected to the ratchet mechanism, and the shaft is designed to be integrated with or separated from the extension portion. Such a design of the shaft member solves the wobble problem of the shaft. The ratchet tool of the present invention also includes a lighting device. The ratchet tool of the present invention requires small turning force when turning back and has strong capacity of torque transferring, and at the same time achieves lighting feature.', image=<PIL.Image.Image image mode=RGB size=2716x3000 at 0x7F542C7DD0D0>, label='B25B', model_output=None, messages=None, model_type='claude3haiku', mode=2)\n"
     ]
    },
    {
     "name": "stderr",
     "output_type": "stream",
     "text": [
      "4it [00:05,  1.47s/it]"
     ]
    },
    {
     "name": "stdout",
     "output_type": "stream",
     "text": [
      "Output: F41G, Expected: B25B, Current Accuracy: 0.25, Token Usage: 0\n",
      "PatentData(text='Provided are a rubber composition using an antioxidant synthesized from biological resources including botanical resources, wherein the value of δ13C of the antioxidant is from −30‰ to −26‰, or −22‰ or more, and a tire using the rubber composition.', image=<PIL.Image.Image image mode=RGB size=2064x1423 at 0x7F542C9CFA50>, label='C08K', model_output=None, messages=None, model_type='claude3haiku', mode=2)\n"
     ]
    },
    {
     "name": "stderr",
     "output_type": "stream",
     "text": [
      "5it [00:07,  1.41s/it]"
     ]
    },
    {
     "name": "stdout",
     "output_type": "stream",
     "text": [
      "Output: C07C, Expected: C08K, Current Accuracy: 0.2, Token Usage: 0\n",
      "PatentData(text='Glazings comprising first and second channel-section glazing elements are described. The first and second channel-section glazing elements are arranged to define a cavity in which is located an inner glazing element comprising a glass glazing element, in particular a soda-lime-silica glass sheet, channel-section glazing element or sheet of rolled glass having at least one fire polished edge. The inner glazing element divides the cavity into at least two spaces to improve the thermal and/or noise performance of the glazing. By using low emissivity coatings on one or more major surfaces of one or more of the glazing elements, the thermal performance may be further improved. Mechanical performance may be modified by the particular type of inner glazing element used. It is possible to retrofit existing glazings to improve the thermal and/or noise performance thereof.', image=<PIL.Image.Image image mode=RGB size=3000x1274 at 0x7F542C7DEC50>, label='E04C', model_output=None, messages=None, model_type='claude3haiku', mode=2)\n"
     ]
    },
    {
     "name": "stderr",
     "output_type": "stream",
     "text": [
      "6it [00:08,  1.37s/it]"
     ]
    },
    {
     "name": "stdout",
     "output_type": "stream",
     "text": [
      "Output: F16L, Expected: E04C, Current Accuracy: 0.16666666666666666, Token Usage: 0\n",
      "PatentData(text='An exhaust stem for use with a valve assembly is provided. The exhaust stem is a hollow body which comprises an inner surface, a distal end, and an outer surface. The inner surface forms a portion of a fluid conduit through the exhaust stem. The distal end is shaped to sealingly engage a valve of the valve assembly. The outer surface defines a plurality of turbulence reducing protuberances. The plurality of turbulence reducing protuberances distributes a fluid within a valve housing of the valve assembly to facilitate operation of the valve assembly. The valve assembly decreases an amount of fluid turbulence in a tire inflation system, provides greater flexibility in configuring the tire inflation system, and facilitates accurate control of a pressure within individual tires of a vehicle.', image=<PIL.Image.Image image mode=RGB size=2452x2700 at 0x7F542C7DEDD0>, label='B60C', model_output=None, messages=None, model_type='claude3haiku', mode=2)\n"
     ]
    },
    {
     "name": "stderr",
     "output_type": "stream",
     "text": [
      "7it [00:09,  1.31s/it]"
     ]
    },
    {
     "name": "stdout",
     "output_type": "stream",
     "text": [
      "Output: F16G, Expected: B60C, Current Accuracy: 0.14285714285714285, Token Usage: 0\n",
      "PatentData(text='Liquefied gas tank that is easy to machine and quick to operate and bag for sealing cable ducts incorporating said tank. The tank is provided with breaking means for inflating sealed compartments composed of a main pipe (1) closed on one side, an outlet pipe (4) inserted on the other side of the main tube through a first end (6) and closed on the distal end thereof, wherein the outlet pipe is provided with a narrowing (5) that defines a breaking point and an internal orifice (8) that extends from the first end of the outlet pipe to the narrowing (5) towards the distal end, and wherein the size of the narrowing (5), the size of the orifice (8) and the length of the outlet pipe (4) are determined such that a force applied on a lever of between 19N and 80N will break the outlet pipe (4) at the breaking point (5), releasing the gas through the orifice (8).', image=<PIL.Image.Image image mode=RGB size=3000x1330 at 0x7F542C9CE710>, label='F17C', model_output=None, messages=None, model_type='claude3haiku', mode=2)\n"
     ]
    },
    {
     "name": "stderr",
     "output_type": "stream",
     "text": [
      "8it [00:10,  1.25s/it]"
     ]
    },
    {
     "name": "stdout",
     "output_type": "stream",
     "text": [
      "Output: F16B, Expected: F17C, Current Accuracy: 0.125, Token Usage: 0\n",
      "PatentData(text='A paper product comprising a planar fibrous cellulose substrate, and a coating composition disposed on a surface of said substrate comprising an interpolymer prepared by the emulsion polymerization of (i) one or more vinyl ester monomers; (ii) ethylene; (iii) an unsaturated silane co-monomer; and (iv) one or more emulsion-stabilizing ionic co-monomers comprising one or more of unsaturated, substituted sulfonic acid, one or more of an unsaturated phosphonic acid, or an ester of one of those acids, in the presence of (v) a stabilizing system which comprises one or more anionic and/or nonionic surfactants but less than about 1 pphm of any protective colloid material; and (v) water.', image=<PIL.Image.Image image mode=RGB size=1242x1516 at 0x7F542C9CEF90>, label='D21H', model_output=None, messages=None, model_type='claude3haiku', mode=2)\n"
     ]
    },
    {
     "name": "stderr",
     "output_type": "stream",
     "text": [
      "9it [00:11,  1.16s/it]"
     ]
    },
    {
     "name": "stdout",
     "output_type": "stream",
     "text": [
      "Output: G01N, Expected: D21H, Current Accuracy: 0.1111111111111111, Token Usage: 0\n",
      "PatentData(text='The present disclosure relates to a display panel, a pixel structure, and a method for driving the display panel. The pixel structure comprises a plurality of sub-pixels, each of which comprises: a main portion configured to receive a scan signal of a first scan line, and then to receive a data signal of a data line, so that it has a main-portion voltage; a first portion configured to receive the scan signal of the first scan line, and then to receive the data signal of the data line, so that it has a first-portion voltage; and a second portion configured to receive a scan signal of a second scan line, and then to receive the data signal of the data line, so that it a second-portion voltage, wherein the main-portion voltage, the first-portion voltage and the second-portion voltage are different from one another. The display panel can not only achieve lower color shift for 2D display, but also enable lower color shift for 3D display by using a voltage difference between the main portion and the first portion after turning the second portion into a light shielding area.', image=<PIL.Image.Image image mode=RGB size=2284x3000 at 0x7F542C7DC750>, label='G09G', model_output=None, messages=None, model_type='claude3haiku', mode=2)\n"
     ]
    },
    {
     "name": "stderr",
     "output_type": "stream",
     "text": [
      "10it [00:12,  1.17s/it]"
     ]
    },
    {
     "name": "stdout",
     "output_type": "stream",
     "text": [
      "Output: G09F, Expected: G09G, Current Accuracy: 0.1, Token Usage: 0\n",
      "PatentData(text='The disclosed broadband supercontinuum light emitting device includes a nonlinear optical fiber, a pump system, a cavity, and an active medium. The active medium may comprise an active fiber and may be located inside the cavity. The active medium is configured and arranged, by means of a pumping provided by the pump system, to generate and emit chaotic pulses of laser light towards the nonlinear optical fiber, which excite the nonlinear effects thereof for the generation and emission of supercontinuum light in the form of pulses of light distributed randomly over time. Numerous uses of the device are disclosed for multiple applications that require a low-cost, very bright light source with an adequate broadband spectrum.', image=<PIL.Image.Image image mode=RGB size=3000x2202 at 0x7F542C7DC390>, label='H01S', model_output=None, messages=None, model_type='claude3haiku', mode=2)\n"
     ]
    },
    {
     "name": "stderr",
     "output_type": "stream",
     "text": [
      "11it [00:14,  1.18s/it]"
     ]
    },
    {
     "name": "stdout",
     "output_type": "stream",
     "text": [
      "Output: G01N, Expected: H01S, Current Accuracy: 0.09090909090909091, Token Usage: 0\n",
      "PatentData(text='An offshore power generation structure comprising a submerged portion having a first deck portion comprising an integral multi-stage evaporator system, a second deck portion comprising an integral multi-stage condensing system, a third deck portion housing power generation equipment, cold water pipe; and a cold water pipe connection.', image=<PIL.Image.Image image mode=RGB size=2975x3000 at 0x7F542C7E7F90>, label='F03G', model_output=None, messages=None, model_type='claude3haiku', mode=2)\n"
     ]
    },
    {
     "name": "stderr",
     "output_type": "stream",
     "text": [
      "12it [00:16,  1.48s/it]"
     ]
    },
    {
     "name": "stdout",
     "output_type": "stream",
     "text": [
      "Output: F03B, Expected: F03G, Current Accuracy: 0.08333333333333333, Token Usage: 0\n",
      "PatentData(text='A burst-mode laser control circuit and related methods thereof are disclosed. Using an APC loop with an additional burst-mode control circuit, and a switch in series with a diode and in parallel with the laser, a continuous-mode laser driver is enabled to operate in burst-mode by turning the switch on or off via external logic. Burst-mode control manages the switch, and a bandwidth-select circuit using a high or low logic level input, wherein the laser is disabled and the bandwidth-select circuit enters a fast-track mode when the external logic signal has a first level. The laser provides regular optical signals, and the bandwidth-select circuit enters a slow-track mode, thereby enabling the APC loop to operate normally, when the external logic signal has a second level. In addition to a low cost and simple implementation, the control circuit and method provide lasers with a fast response capability using one or more externally-controlled switch circuits to meet demands of PON systems for burst-mode ONUs.', image=<PIL.Image.Image image mode=RGB size=2101x3000 at 0x7F542C7DD410>, label='H04B', model_output=None, messages=None, model_type='claude3haiku', mode=2)\n"
     ]
    },
    {
     "name": "stderr",
     "output_type": "stream",
     "text": [
      "13it [00:17,  1.47s/it]"
     ]
    },
    {
     "name": "stdout",
     "output_type": "stream",
     "text": [
      "Output: H04B, Expected: H04B, Current Accuracy: 0.15384615384615385, Token Usage: 0\n",
      "PatentData(text='Automated device for opening and closing metal goods-transportation boxes for stowage on ships relates to an automated device designed to open and close metal goods-transportation boxes for stowage on ships that obviates the need for storage silos close to the quay of the port and the conveyer belts and accessories thereof for loading the ship.', image=<PIL.Image.Image image mode=RGB size=2958x3000 at 0x7F542C7DE050>, label='B66C', model_output=None, messages=None, model_type='claude3haiku', mode=2)\n"
     ]
    },
    {
     "name": "stderr",
     "output_type": "stream",
     "text": [
      "14it [00:18,  1.41s/it]"
     ]
    },
    {
     "name": "stdout",
     "output_type": "stream",
     "text": [
      "Output: B66C, Expected: B66C, Current Accuracy: 0.21428571428571427, Token Usage: 0\n",
      "PatentData(text='A method for protecting data transmission in an ad hoc network including nodes, each node including a private key, a public key and a certificate of the public key signed by a certification authority, the method including transmitting by the first node to the second node: a first message signed with the private key of the first node; a third message containing a first set of initialization data including: a first certificate including the public key of the first node, signed by the certification authority; a second data set including the IP address of the first node; and the first certificate associated with the IP address of the first node, wherein the second data set is signed with the private key of the first node.', image=<PIL.Image.Image image mode=RGB size=3000x2182 at 0x7F542C7DC0D0>, label='H04L', model_output=None, messages=None, model_type='claude3haiku', mode=2)\n"
     ]
    },
    {
     "name": "stderr",
     "output_type": "stream",
     "text": [
      "15it [00:20,  1.38s/it]"
     ]
    },
    {
     "name": "stdout",
     "output_type": "stream",
     "text": [
      "Output: H04Q, Expected: H04L, Current Accuracy: 0.2, Token Usage: 0\n",
      "PatentData(text='A method for merging two sub-networks of an ad hoc network implementing the D2HCP routing protocol includes transmitting a first data set from the master node to the slave node, the first set including the identifiers of all the nodes of the sub-network containing the master node, the IP addresses of all the nodes of the sub-network containing the master node, each node identifier being associated with a single IP address, comparing each received IP address of the first set with the IP addresses of the routing table of the slave node in order to identify a list of duplicates corresponding to nodes of each sub-network having the same IP addresses.', image=<PIL.Image.Image image mode=RGB size=1767x2382 at 0x7F542C7DEA10>, label='H04L', model_output=None, messages=None, model_type='claude3haiku', mode=2)\n"
     ]
    },
    {
     "name": "stderr",
     "output_type": "stream",
     "text": [
      "16it [00:21,  1.27s/it]"
     ]
    },
    {
     "name": "stdout",
     "output_type": "stream",
     "text": [
      "Output: H04L, Expected: H04L, Current Accuracy: 0.25, Token Usage: 0\n",
      "PatentData(text='A pharmaceutical composition comprising at least two peptides of from 15 to 60 amino acids in length, selected from peptides comprising a sequence of at least 15 contiguous amino acids of one of the sequences shown in SEQ ID NOs: 1 to 4 or of a sequence having at least 80% identity to one of the sequences shown in SEQ ID NOs: to 4, wherein each peptide comprises at least one CD8+ T-cell epitope and/or at least one CD4+ T-cell epitope and wherein each peptide elicits a response in peripheral blood mononuclear cells (PBMC) from at least one chronically infected HBV individual in an 10 in vitroassay.', image=<PIL.Image.Image image mode=RGB size=3000x2161 at 0x7F542C7DE3D0>, label='A61K', model_output=None, messages=None, model_type='claude3haiku', mode=2)\n"
     ]
    },
    {
     "name": "stderr",
     "output_type": "stream",
     "text": [
      "17it [00:22,  1.37s/it]"
     ]
    },
    {
     "name": "stdout",
     "output_type": "stream",
     "text": [
      "Output: G01N, Expected: A61K, Current Accuracy: 0.23529411764705882, Token Usage: 0\n",
      "PatentData(text='To expose a desired feature, focused ion beam milling of thin slices from a cross section alternate with forming a scanning electron image of each newly exposed cross section. Milling is stopped when automatic analysis of an electron beam image of the newly exposed cross section shows that a pre-determined criterion is met.', image=<PIL.Image.Image image mode=RGB size=1678x3000 at 0x7F542C7DE610>, label='H01J', model_output=None, messages=None, model_type='claude3haiku', mode=2)\n"
     ]
    },
    {
     "name": "stderr",
     "output_type": "stream",
     "text": [
      "18it [00:24,  1.34s/it]"
     ]
    },
    {
     "name": "stdout",
     "output_type": "stream",
     "text": [
      "Output: H01J, Expected: H01J, Current Accuracy: 0.2777777777777778, Token Usage: 0\n",
      "PatentData(text='A lift with guide rails and guide device and by using a cable winch reduction, an electric drive or a hydraulic cylinder enables a lift platform or a double platform to move vertically over a lifting and the swimming pool lift includes a flotation body, which can receive the drive, the hydraulic system and the swimming pool cleaning system.', image=<PIL.Image.Image image mode=RGB size=2522x3000 at 0x7F542C7E7E50>, label='A61G', model_output=None, messages=None, model_type='claude3haiku', mode=2)\n"
     ]
    },
    {
     "name": "stderr",
     "output_type": "stream",
     "text": [
      "19it [00:25,  1.37s/it]"
     ]
    },
    {
     "name": "stdout",
     "output_type": "stream",
     "text": [
      "Output: F16D, Expected: A61G, Current Accuracy: 0.2631578947368421, Token Usage: 0\n",
      "PatentData(text=\"Disclosed are compounds of formula (1)-(V): where the substituents are as provided herein. Further disclosed are methods of inhibiting tau aggregation, treating or ameliorating a tauopathy or cancer by administration of such a compound. Tau is a microtubule-binding protein that accumulates in a number of neurodegenerative disorders, including frontotemporal dementia and Alzheimer's disease (AD). The presence of abnormal tau correlates with neuron loss and memory deficits in patients with AD and other neurodegenerative disorders that involve tau accumulation.\", image=<PIL.Image.Image image mode=RGB size=1553x3000 at 0x7F542C7E4210>, label='A61K', model_output=None, messages=None, model_type='claude3haiku', mode=2)\n"
     ]
    },
    {
     "name": "stderr",
     "output_type": "stream",
     "text": [
      "20it [00:27,  1.41s/it]"
     ]
    },
    {
     "name": "stdout",
     "output_type": "stream",
     "text": [
      "Output: A61K, Expected: A61K, Current Accuracy: 0.3, Token Usage: 0\n",
      "PatentData(text='The present invention relates to a method for targeted inactivation of transcription factor using an artificial small interfering peptide and a use thereof. According to the present invention, an artificial small interfering peptide (a-siPEP) as a truncated from of the transcription factor for regulating transcription by dimerization was produced. It was also confirmed that, as a-siPEP forms a heterodimer with a transcription factor, DNA binding and transport into a nucleus of the transcription factor are inhibited, so that inactivation of the transcription factor is achieved at protein level. The method for inhibiting transcription factor activity using a-siPEP can replace a gene knock-out method and it allows protein-level inhibition of a transcription factor. Also, it is a transcription regulation method with high precision and high efficiency that can be applied for both monocot and dicot plants.', image=<PIL.Image.Image image mode=RGB size=2303x3000 at 0x7F542C7E50D0>, label='C12N', model_output=None, messages=None, model_type='claude3haiku', mode=2)\n"
     ]
    },
    {
     "name": "stderr",
     "output_type": "stream",
     "text": [
      "21it [00:28,  1.45s/it]"
     ]
    },
    {
     "name": "stdout",
     "output_type": "stream",
     "text": [
      "Output: C12Q, Expected: C12N, Current Accuracy: 0.2857142857142857, Token Usage: 0\n",
      "PatentData(text='The inner surface of one side section of a frame (1) has the base-end section of a rotation arm (44) of a rotation-biasing means (4) provided so as to be rotatable. A roller (47) is provided on the tip-end section of the rotation arm (44). The roller (47) is pressed against and contacts the rear surface (2a) of a door (2) as a result of the biasing by the rotation-biasing, means (nut illustrated). The rear surface of the door (2) is equipped with a damper means (5). The damper means (5) has a contact member (52) for pressing against and contacting the roller (47) when the door is in the closed position or in a prescribed intermediate position. The contact member (52) minimizes the speed at which the roller (47) moves forward.', image=<PIL.Image.Image image mode=RGB size=2078x3000 at 0x7F542C7E5510>, label='E05F', model_output=None, messages=None, model_type='claude3haiku', mode=2)\n"
     ]
    },
    {
     "name": "stderr",
     "output_type": "stream",
     "text": [
      "23it [00:30,  1.16s/it]"
     ]
    },
    {
     "name": "stdout",
     "output_type": "stream",
     "text": [
      "Output: F41C, Expected: E05F, Current Accuracy: 0.2608695652173913, Token Usage: 0\n",
      "PatentData(text='Disclosed herein is a spindle drive for an adjustable element of a motor vehicle, wherein a drive unit and a spindle/spindle nut mechanism arranged downstream of the drive unit in the drivetrain, for generating linear drive movements are provided, wherein the spindle/spindle nut mechanism has a spindle and a spindle nut meshing with the spindle, wherein the spindle drive has two drive portions which run telescopically inside one another during a motorized adjustment, wherein the spindle is assigned to one drive portion and the spindle nut is assigned to the other drive portion wherein the two drive portions are coupled in a torque-transmitting manner to provide an antitwist safeguard.', image=<PIL.Image.Image image mode=RGB size=2125x3000 at 0x7F542C7DE410>, label='F16H', model_output=None, messages=None, model_type='claude3haiku', mode=2)\n"
     ]
    },
    {
     "name": "stderr",
     "output_type": "stream",
     "text": [
      "24it [00:31,  1.22s/it]"
     ]
    },
    {
     "name": "stdout",
     "output_type": "stream",
     "text": [
      "Output: B62D, Expected: F16H, Current Accuracy: 0.25, Token Usage: 0\n",
      "PatentData(text='In front view of the application nozzle, all of the pressurized air flow K and adhesive flow H are made to run parallel to each other in the vertical direction. Of the pressurized air flows K from the pressurized air hole b in the pressurized air plate, the two that are located on one side of the adhesive hole opening a and from a pair in the front-to-back direction are tilted so as to approach each other. The extension lines thereof are located on the side of the adhesive bead, which results from the adhesive flow discharged from the adhesive hole opening, and have directions that converge. The respective pressurized air flows on the two side of the adhesive bead are made to flow downward while uniting in the direction of convergence. A web in which the adhesive bead is elongated while being swung in the transverse direction is formed and, near the bottom surface of the application nozzle, a non-interference space Q is formed between the adhesive bead and the fore pressurized air flow. The adhesive bead, resulting from the adhesive flow discharged from the adhesive hole opening, and the pressurized air flows do not interfere with each other and walls R of pressurized air flows are formed below the non-interference space Q and on either side of the adhesive bead.', image=<PIL.Image.Image image mode=RGB size=2311x3000 at 0x7F542C7E4AD0>, label='B05B', model_output=None, messages=None, model_type='claude3haiku', mode=2)\n"
     ]
    },
    {
     "name": "stderr",
     "output_type": "stream",
     "text": [
      "25it [00:33,  1.26s/it]"
     ]
    },
    {
     "name": "stdout",
     "output_type": "stream",
     "text": [
      "Output: F16L, Expected: B05B, Current Accuracy: 0.24, Token Usage: 0\n",
      "PatentData(text='A fast-response horizontal vibration micro motor that includes a housing, a cover plate, a vibration assembly and coils. The cover plate is installed on the housing; the vibration assembly is suspended in the installation space; the coils are located at positions a certain distance above the vibration assembly; the vibration assembly can perform reciprocating vibration in a direction substantially parallel to the bottom surface of the housing, and also enables the two elastic supporting members located on the two opposite sidewalls to be correspondingly stretched and compressed during vibration; the vibration assembly includes a vibration block, and the vibration block is provided with at least three installation through holes and permanent magnets installed in the installation through holes. The arrangement of the three permanent magnets increases the response speed of the motor, and the arrangement of the two serially-connected coils also increases the response speed of the motor.', image=<PIL.Image.Image image mode=RGB size=2770x2548 at 0x7F542C7E49D0>, label='H02K', model_output=None, messages=None, model_type='claude3haiku', mode=2)\n"
     ]
    },
    {
     "name": "stderr",
     "output_type": "stream",
     "text": [
      "26it [00:34,  1.23s/it]"
     ]
    },
    {
     "name": "stdout",
     "output_type": "stream",
     "text": [
      "Output: H01R, Expected: H02K, Current Accuracy: 0.23076923076923078, Token Usage: 0\n",
      "PatentData(text='The invention relates to a process for manufacturing light-emitting diodes comprising the following steps: a) forming light-emitting diodes (5) on a silicon layer (1) of an SOI wafer (1, 2, 3), said layer resting on a carrier (2, 3); b) bonding, on the light-emitting diode side, a silicon wafer forming a cap (7) equipped with a void facing each light-emitting diode; c) thinning the silicon wafer to form an aperture facing each light-emitting diode; d) filling each aperture with a transparent material (21, 23); and e) at least partially removing the carrier of the SOI wafer (3) and producing connecting and heat-sinking metallisations.', image=<PIL.Image.Image image mode=RGB size=3000x2731 at 0x7F542C7E6750>, label='H01L', model_output=None, messages=None, model_type='claude3haiku', mode=2)\n"
     ]
    },
    {
     "name": "stderr",
     "output_type": "stream",
     "text": [
      "27it [00:35,  1.27s/it]"
     ]
    },
    {
     "name": "stdout",
     "output_type": "stream",
     "text": [
      "Output: H01H, Expected: H01L, Current Accuracy: 0.2222222222222222, Token Usage: 0\n",
      "PatentData(text='Provided is a method for producing a lignin degradation product that includes (1) a degradation step of degrading a raw material containing a plant biomass, in a mixed solvent of water and an aliphatic alcohol having from 4 to 10 carbon atoms, which separates into two phases at 0° C. or higher and 50° C. or lower, under the following conditions, and (2) after the degradation step, a liquid-liquid separation step of separating the lignin degradation product-containing organic phase from the solvent that has separated at the temperature for two-phase separation. The method produces a lignin degradation product at a high yield from lignin or a material containing lignin. Condition A: The concentration of the raw material to be in the mixed solvent is 1% by mass or more and 20% by mass or less. Condition B: The reaction temperature is 100° C. or higher and 350° C. or lower. Condition C: The reaction time is 0.1 hours or more and 10 hours or less.', image=<PIL.Image.Image image mode=RGB size=1648x2432 at 0x7F542C7DD910>, label='C08H', model_output=None, messages=None, model_type='claude3haiku', mode=2)\n"
     ]
    },
    {
     "name": "stderr",
     "output_type": "stream",
     "text": [
      "28it [00:36,  1.21s/it]"
     ]
    },
    {
     "name": "stdout",
     "output_type": "stream",
     "text": [
      "Output: F16K, Expected: C08H, Current Accuracy: 0.21428571428571427, Token Usage: 0\n",
      "PatentData(text='There is provided a solar shading device for window that can set the window shading area minimum, ventilate a space between a rolling screen and a window, and have inexpensive and simple structure. The solar shading device for window includes a rolling screen installed at an upper portion of a window on the outdoor side of a building. An upper end of the rolling screen being fixed to a winding shaft biased in a winding direction by a biasing means. A lower end of the rolling screen is supported by a support shaft. One ends of a pair of arms are coupled to respective ends of the support shaft so as for the pair of arm to be disposed on planes perpendicular to the axis of the support shaft. The other ends of the pair of arms are fixed to respective sides of the window on the outdoor side via hinges capable of holding the arms at a desired rotational angle.', image=<PIL.Image.Image image mode=RGB size=2430x2002 at 0x7F542C7DDF10>, label='E04F', model_output=None, messages=None, model_type='claude3haiku', mode=2)\n"
     ]
    },
    {
     "name": "stderr",
     "output_type": "stream",
     "text": [
      "29it [00:37,  1.18s/it]"
     ]
    },
    {
     "name": "stdout",
     "output_type": "stream",
     "text": [
      "Output: E04D, Expected: E04F, Current Accuracy: 0.20689655172413793, Token Usage: 0\n",
      "PatentData(text='The present invention relates to metal complexes in accordance with formula (1), to use thereof in electronic devices and to electronic devices, particularly organic electroluminescent devices, containing said metal complexes.', image=<PIL.Image.Image image mode=RGB size=2291x3000 at 0x7F542C7DE310>, label='H01L', model_output=None, messages=None, model_type='claude3haiku', mode=2)\n"
     ]
    },
    {
     "name": "stderr",
     "output_type": "stream",
     "text": [
      "30it [00:39,  1.22s/it]"
     ]
    },
    {
     "name": "stdout",
     "output_type": "stream",
     "text": [
      "Output: G01N, Expected: H01L, Current Accuracy: 0.2, Token Usage: 0\n",
      "PatentData(text='A 3D printer spray nozzle includes a feeding pipeline, an extruder located under the feeding pipeline, an external housing and a driving device; wherein the feeding pipeline is embedded in the external housing, the extruder is coaxially fixed under the feeding pipeline, a center of gravity of a cross section area of an inner channel of the feeding pipeline and that of the extruder are located on a same axis which is perpendicular to the cross section area of the inner channel of the feeding pipeline and that of the extruder, the feeding pipeline is driven by the driving device to rotate around the axis relative to the extruder, thereby aiming at different rotation angles, widths of extruding forming areas of the extruder at a same direction are different so as to adjust a cross section area of a sprayed filament.', image=<PIL.Image.Image image mode=RGB size=3000x2655 at 0x7F542C9CE190>, label='B29C', model_output=None, messages=None, model_type='claude3haiku', mode=2)\n"
     ]
    },
    {
     "name": "stderr",
     "output_type": "stream",
     "text": [
      "31it [00:40,  1.30s/it]"
     ]
    },
    {
     "name": "stdout",
     "output_type": "stream",
     "text": [
      "Output: G06Q, Expected: B29C, Current Accuracy: 0.1935483870967742, Token Usage: 0\n",
      "PatentData(text='The present invention relates to a method for preparing a protein cage which comprises: a 1st step of preparing an amphiphilic polymer comprising a 1st hydrophobic polymer and a 1st hydrophilic functional group; a 2nd step of preparing a hydrophilic protein comprising a 2nd functional group binding to the 1st functional group; a 3rd step of forming an amphiphilic polymer-protein hybrid by the binding of the 1st functional group and the 2nd functional group, and forming core-shell structured particles comprising a protein shell and an amphiphilic polymer core by the self-assembly of the amphiphilic polymer in a hydrophilic solvent; and a fourth step of removing some or all of the hydrophobic polymer of the core part from the core-shell structured particles.', image=<PIL.Image.Image image mode=RGB size=3000x1877 at 0x7F542C7E9210>, label='A61K', model_output=None, messages=None, model_type='claude3haiku', mode=2)\n"
     ]
    },
    {
     "name": "stderr",
     "output_type": "stream",
     "text": [
      "34it [00:42,  1.05it/s]"
     ]
    },
    {
     "name": "stdout",
     "output_type": "stream",
     "text": [
      "Output: G01N, Expected: A61K, Current Accuracy: 0.17647058823529413, Token Usage: 0\n",
      "PatentData(text='Disclosed is a lithagogue equipment in vitro, comprising a vibrating bed (10) and a control device (20) located externally, wherein said vibrating bed (10) includes a primary oscillator (111) located above a bed body (102) and connected therewith via an adjustable mechanical arm (108) and a sub oscillator (107) protruding from an upper surface of the bed body (120), wherein said control device (20) is used for controlling the vibration of the primary oscillator (111) and the sub oscillator (107) and the movement of the bed body (102). Said control device (20) and said vibrating bed (10) are separated from each other, and a display (201) is arranged on the control device (20). Accordingly, medical personnel are able to timely adjust the vibrating bed (10), the primary oscillator (111) and the sub vibrator (107) based on the calculus condition displayed via the display (201), greatly improving the operational efficiency.', image=<PIL.Image.Image image mode=RGB size=3000x1684 at 0x7F542C7E6450>, label='A61B', model_output=None, messages=None, model_type='claude3haiku', mode=2)\n"
     ]
    },
    {
     "name": "stderr",
     "output_type": "stream",
     "text": [
      "35it [00:43,  1.01it/s]"
     ]
    },
    {
     "name": "stdout",
     "output_type": "stream",
     "text": [
      "Output: A61B, Expected: A61B, Current Accuracy: 0.2, Token Usage: 0\n",
      "PatentData(text='A plant for manufacturing long-fiber legume hay and grass hay-based feed pellets for zootechnical use includes a loading station loading predetermined amounts of the hays, a processing station processing the hays to reduce fiber length to a predetermined average value, a mixing station mixing the reduced hays with predetermined amounts of binders and nutritional additives to obtain a dough, a forming station forming the dough which has a collection chamber, a forming die communicating with the collection chamber, and an extrusion passage, a pushing element, held within the collection chamber and feeding the dough toward said passage, an extruder downstream of the pushing element and moving in the collection chamber to cyclically push predetermined amounts of dough into the passage and form a stratified bead of dough, and a breaking system for breaking the bead forming stratified feed pellets. A method of manufacturing long-fiber feed pellets for zootechnical use.', image=<PIL.Image.Image image mode=RGB size=1582x3000 at 0x7F542C9CD750>, label='A23K', model_output=None, messages=None, model_type='claude3haiku', mode=2)\n"
     ]
    },
    {
     "name": "stderr",
     "output_type": "stream",
     "text": [
      "36it [00:45,  1.08s/it]"
     ]
    },
    {
     "name": "stdout",
     "output_type": "stream",
     "text": [
      "Output: F16G, Expected: A23K, Current Accuracy: 0.19444444444444445, Token Usage: 0\n",
      "PatentData(text='A privacy masking method is provided. The privacy masking method is configured to accurately position a mask area on a privacy area in a captured image despite any kind of camera movement. Therefore, even if a camera makes any one or more of pan, tilt, and zoom movements, the present invention can accurately match a mask area with a privacy area.', image=<PIL.Image.Image image mode=RGB size=1639x3000 at 0x7F542C9CC990>, label='H04N', model_output=None, messages=None, model_type='claude3haiku', mode=2)\n"
     ]
    },
    {
     "name": "stderr",
     "output_type": "stream",
     "text": [
      "37it [00:46,  1.13s/it]"
     ]
    },
    {
     "name": "stdout",
     "output_type": "stream",
     "text": [
      "Output: G06T, Expected: H04N, Current Accuracy: 0.1891891891891892, Token Usage: 0\n",
      "PatentData(text='An object of the present invention is to provide a liquid crystal composition which has a positive Δ∈, a liquid crystal phase in a wide temperature range, an good solubility at a low temperature, excellent ODE process compatibility, high specific resistance, and a high voltage holding ratio, and is stable with respect to heat and light, and in order to achieve the object, a liquid crystal composition containing compounds represented by the following Formulas (i) and (ii) is provided. (In the formula, Ri1 represents an alkyl group having 2 to 5 carbon atoms, Rii1 represents an alkenyl group having 2 to 5 carbon atoms, and Rii2 represents an alkyl group having 1 to 5 carbon atoms or an alkoxy group having 1 to 4 carbon atoms.)', image=<PIL.Image.Image image mode=RGB size=1748x2112 at 0x7F542C7DFC10>, label='C09K', model_output=None, messages=None, model_type='claude3haiku', mode=2)\n"
     ]
    },
    {
     "name": "stderr",
     "output_type": "stream",
     "text": [
      "38it [00:47,  1.13s/it]"
     ]
    },
    {
     "name": "stdout",
     "output_type": "stream",
     "text": [
      "Output: H01L, Expected: C09K, Current Accuracy: 0.18421052631578946, Token Usage: 0\n",
      "PatentData(text='A battery system having a secondary battery and a battery-side control device, and a discharger configured to discharge the secondary battery to output direct-current power and convert power from an alternating-current power supply into direct current to charge the secondary battery; the charger/discharger having a charge/discharge-side control device that controls charge and discharge; and when the charge/discharge-side control device establishes communicable connection with the battery-side control device, and receives specific information for specifying a charge/discharge control program, which is a program for controlling the charge and discharge transmitted from the battery system, the charge/discharge-side control device establishes communicable connection with the external server device, acquires charge/discharge control program specified by the specific information, and performs control according to the charge/discharge control program.', image=<PIL.Image.Image image mode=RGB size=1593x3000 at 0x7F542C9CF190>, label='H02J', model_output=None, messages=None, model_type='claude3haiku', mode=2)\n"
     ]
    },
    {
     "name": "stderr",
     "output_type": "stream",
     "text": [
      "39it [00:49,  1.34s/it]"
     ]
    },
    {
     "name": "stdout",
     "output_type": "stream",
     "text": [
      "Output: H01M, Expected: H02J, Current Accuracy: 0.1794871794871795, Token Usage: 0\n",
      "PatentData(text='Provided are: a rubber composition (a silica master batch) that contains silica in a highly dispersed state, which is prepared by mixing a suspension with an emulsion of an emulsion-polymerized conjugated diene polymer and then coagulating the resultant mixture, wherein the suspension is prepared by highly dispersing wet silica, which does not undergo secondary coagulation yet, or silica, which is prepared by mechanically dissociating secondary coagulation masses of silica, in water and the emulsion-polymerized conjugated diene polymer contains a functional group that is reactive with silica or has high affinity for silica; and a method for producing the rubber composition. A clam (a small mass of a rubber) which contains silica in a highly dispersed state is hardly dried. Therefore, the clam is dried in an apparatus which is composed of a drying apparatus composed of a dehydrator and a hot-air drier and a heating roll for drying purposes provided to the drying apparatus, whereby a rubber composition in which silica is highly dispersed and which has high reinforcing performance can be produced. As a method for mixing the emulsion of the emulsion-polymerized conjugated diene copolymer with the silica suspension, a mere agitating/mixing procedure can be employed, and a process of mixing the components homogenously while applying a stimulus such as heat or pressure to the mixture of the components using a steam ejector to cause the coagulation of the components can also be employed desirably.', image=<PIL.Image.Image image mode=RGB size=2190x2551 at 0x7F542C7DE090>, label='C08K', model_output=None, messages=None, model_type='claude3haiku', mode=2)\n"
     ]
    },
    {
     "name": "stderr",
     "output_type": "stream",
     "text": [
      "40it [00:50,  1.25s/it]"
     ]
    },
    {
     "name": "stdout",
     "output_type": "stream",
     "text": [
      "Output: F16K, Expected: C08K, Current Accuracy: 0.175, Token Usage: 0\n",
      "PatentData(text='The object of the present invention is to provide an electrode member with the hydrogel substrate, capable of producing a high-voltage pulse. Further, the other object of the present invention is to provide an electrode member which is not broken due to a deformation of the hydrogel. The object can be solved by a porous substrate electrode member characterized in that an electrode is bound to a porous body by an adhesion layer of an electrically conducting polymer, and the electrode is at least one selected from a group consisting of a metallic electrode, a stretch electrode, a carbon electrode, and a composite electrode thereof.', image=<PIL.Image.Image image mode=RGB size=2108x3000 at 0x7F542C7DFC10>, label='H01B', model_output=None, messages=None, model_type='claude3haiku', mode=2)\n"
     ]
    },
    {
     "name": "stderr",
     "output_type": "stream",
     "text": [
      "41it [00:52,  1.45s/it]"
     ]
    },
    {
     "name": "stdout",
     "output_type": "stream",
     "text": [
      "Output: C25D, Expected: H01B, Current Accuracy: 0.17073170731707318, Token Usage: 0\n",
      "PatentData(text='Disclosed is a main synchronization sequence design method for global covering multi-beam satellite LTE, comprising the follow steps: extending a standard Zadoff-Chu sequence to a generalized Zadoff-Chu sequence so as to obtain an initial candidate main synchronization sequence set of more candidate sequences; gradually narrowing down the candidate main synchronization sequence set according to a selection standard of a main synchronization sequence to obtain a final candidate main synchronization sequence set; and obtaining a main synchronization sequence set with optimal eclectic performance and complexity from the final candidate main synchronization sequence set. According to the present invention, a main synchronization sequence with optimal eclectic performance and calculation complexity can be designed for a global covering same-frequency networking multi-beam satellite LTE system.', image=<PIL.Image.Image image mode=RGB size=951x3000 at 0x7F542C7EF750>, label='H04W', model_output=None, messages=None, model_type='claude3haiku', mode=2)\n"
     ]
    },
    {
     "name": "stderr",
     "output_type": "stream",
     "text": [
      "42it [00:54,  1.51s/it]"
     ]
    },
    {
     "name": "stdout",
     "output_type": "stream",
     "text": [
      "Output: G06F, Expected: H04W, Current Accuracy: 0.16666666666666666, Token Usage: 0\n",
      "PatentData(text='A new multiparameter device for measuring by optical means, the level of filling of tanks and reservoirs for liquids and liquefied products, index of refraction and image analysis, without moving parts, which is more specifically intended, but without restrictions of application, for the measuring the level of a liquid in a reservoir, besides being able to make possible the distinction and detection of the type of liquid included in this reservoir, by measuring the index of refraction and image analysis of these liquids, performing this task in a simple, practical and efficient manner through a specific configuration utilizing optical and electronic means, without use of moving parts, what allows that the same may be used for numerous applications between them, for the fuel quality control, the fuel identification, the measuring of the index of refraction, flow measurement, color measurement, temperature measurement and pressure measurement, inter alia, and more specifically for application in the automotive and associated industries.', image=<PIL.Image.Image image mode=RGB size=3000x1616 at 0x7F542C9CE090>, label='G01F', model_output=None, messages=None, model_type='claude3haiku', mode=2)\n"
     ]
    },
    {
     "name": "stderr",
     "output_type": "stream",
     "text": [
      "43it [00:55,  1.38s/it]"
     ]
    },
    {
     "name": "stdout",
     "output_type": "stream",
     "text": [
      "Output: F16B, Expected: G01F, Current Accuracy: 0.16279069767441862, Token Usage: 0\n",
      "PatentData(text='The present invention refers to a stationary swimming pool (1) which comprises a structural system having a modular design, with a tank (3), a stationary swimming device connected to the structural system and to an in-place swimmer in the tank (3), a strain measurement device (6) associated with the stationary swimming device and mounted on the structural system, a training monitoring system which receives and processes the information from the strain measurement device, and an internal display system (8) capable of displaying both information received from the monitoring system and information for entertaining the swimmer. The present invention further refers to a station for practicing stationary swimming, comprising one or more pools as previously defined.', image=<PIL.Image.Image image mode=RGB size=2288x3000 at 0x7F542C7DD6D0>, label='A63B', model_output=None, messages=None, model_type='claude3haiku', mode=2)\n"
     ]
    },
    {
     "name": "stderr",
     "output_type": "stream",
     "text": [
      "44it [00:56,  1.41s/it]"
     ]
    },
    {
     "name": "stdout",
     "output_type": "stream",
     "text": [
      "Output: F24B, Expected: A63B, Current Accuracy: 0.1590909090909091, Token Usage: 0\n",
      "PatentData(text='Provided is a material that, when compared with SAPd, exhibits the similar activity in cross-coupling (CC) reactions, can decrease the amount of catalytic metal that is mixed into the reaction product, and increases the number of times use can be repeated. Provided are a catalyst and a catalyst precursor that use a catalytic metal other than Pd and that exhibit the CC reaction activity similar to when Pd is used. Provided are a catalyst and a catalyst precursor that exhibit the similar CC reaction activity when using Pd or a catalytic metal other than Pd, without using a carrier such as metal and without using piranha solution. A composite wherein catalytic metal nanoparticles are dispersed in a continuous phase comprising a polymer having C2-6 alkylene group units and phenylene group units (an alkylene group unit being bonded to at least the first and fourth position of the phenylene group unit). The particle diameter of the catalytic metal nanoparticles is at most 20 nm. A composite structure including a substrate, and the aforementioned composite provided to the surface of the substrate. A method for manufacturing the composite structure by dehydrocondensating, in the presence of a catalytic metal compound, a benzene compound having at least two alkyl groups (two of the alkyl groups being at the first and fourth position) in order to form the composite on the substrate surface.', image=<PIL.Image.Image image mode=RGB size=2405x3000 at 0x7F542C7E98D0>, label='C07D', model_output=None, messages=None, model_type='claude3haiku', mode=2)\n"
     ]
    },
    {
     "name": "stderr",
     "output_type": "stream",
     "text": [
      "45it [00:58,  1.47s/it]"
     ]
    },
    {
     "name": "stdout",
     "output_type": "stream",
     "text": [
      "Output: G01N, Expected: C07D, Current Accuracy: 0.15555555555555556, Token Usage: 0\n",
      "PatentData(text='The invention relates to a fitting (1) for a glass element (5) having at least one drivable liquid crystal film (6). The fitting (1) has at least one interface (8) for at least one control device (12) for driving the liquid crystals (6, 7).', image=<PIL.Image.Image image mode=RGB size=3000x2485 at 0x7F542C7EE310>, label='G02F', model_output=None, messages=None, model_type='claude3haiku', mode=2)\n"
     ]
    },
    {
     "name": "stderr",
     "output_type": "stream",
     "text": [
      "47it [00:59,  1.02s/it]"
     ]
    },
    {
     "name": "stdout",
     "output_type": "stream",
     "text": [
      "Output: H04M, Expected: G02F, Current Accuracy: 0.14893617021276595, Token Usage: 0\n",
      "PatentData(text='An inclination detection unit detects an inclination of the terminal device. A screen image rotation unit rotates a screen image when an inclination state of the terminal device detected by the inclination detection unit becomes a predetermined state. A captured image obtaining unit obtains a captured image of an image capturing unit for capturing an image of a user seeing the screen image. A comparison unit compares a captured image of the image capturing unit before the inclination state of the terminal device becomes the predetermined state with a captured image of the image capturing unit when or after the inclination state of the terminal device becomes the predetermined state. A suppression unit suppresses a rotation of the screen image by the screen image rotation unit, based on a result of comparison by the comparison unit.', image=<PIL.Image.Image image mode=RGB size=2568x3000 at 0x7F542C7EABD0>, label='G09G', model_output=None, messages=None, model_type='claude3haiku', mode=2)\n"
     ]
    },
    {
     "name": "stderr",
     "output_type": "stream",
     "text": [
      "48it [01:00,  1.16s/it]"
     ]
    },
    {
     "name": "stdout",
     "output_type": "stream",
     "text": [
      "Output: G06F, Expected: G09G, Current Accuracy: 0.14583333333333334, Token Usage: 0\n",
      "PatentData(text='This system (18) comprises a holding and separating tank (36), an inlet (38) for moving untreated waste water into the holding tank (36), and a bubble generator (32), able to introduce a quantity of bubbles into the waste water of the holding tank (36), in order to form, in a lower region (50) of the holding tank (36), a treated water and, in an upper region (52) of the holding tank (36), a supernatant. The system (18) comprises a lower outlet (40) for recovering a treated water from the holding tank (36) and an upper outlet (42) for discharging a foamy supernatant from the holding tank (36). The system (18) is devoid of means for injecting a compound for flocculating and/or coagulating the waste water, at least upstream from the holding tank (36).', image=<PIL.Image.Image image mode=RGB size=3000x2772 at 0x7F542C9CEF90>, label='C02F', model_output=None, messages=None, model_type='claude3haiku', mode=2)\n"
     ]
    },
    {
     "name": "stderr",
     "output_type": "stream",
     "text": [
      "49it [01:02,  1.22s/it]"
     ]
    },
    {
     "name": "stdout",
     "output_type": "stream",
     "text": [
      "Output: A47C, Expected: C02F, Current Accuracy: 0.14285714285714285, Token Usage: 0\n",
      "PatentData(text='The present invention addresses the problem of providing an orthodontic retainer with which there are no aesthetic concerns and smooth pronunciation during conversation is possible, and which is able to secure favorable fitting and can be worn for long periods. The retainer is configured so that, by being fitted so as to surround the entire dental arch (T) of the maxilla (A) or the mandible and by the inner surface being fitted, on the front and back surfaces of the entire dental arch (T), with a specified vertical width (H) that encompasses the cervical sections (T1, T2) of said teeth, a retaining force is applied on a portion of the crown (T3) of each tooth from the front and back surfaces.', image=<PIL.Image.Image image mode=RGB size=3000x2145 at 0x7F542C7E87D0>, label='A61C', model_output=None, messages=None, model_type='claude3haiku', mode=2)\n"
     ]
    },
    {
     "name": "stderr",
     "output_type": "stream",
     "text": [
      "50it [01:03,  1.27s/it]"
     ]
    },
    {
     "name": "stdout",
     "output_type": "stream",
     "text": [
      "Output: A61C, Expected: A61C, Current Accuracy: 0.16, Token Usage: 0\n",
      "PatentData(text='A fast magnetic resonance imaging method and system, the method comprising: applying a periodic radio-frequency pulse train to drive the magnetization vector of an imaging volume into a steady state (102); acquiring a free induction decay (FID) signal and an echo signal alternately in a steady-state free precession sequence (104); conducting an FID signal imaging and a T2-weighted imaging (106). Alternate acquisition of the FID signal and the echo signal in the steady-state free precession sequence effectively increases the signal-to-noise ratio (SNR) of the acquired signals and reduces the sensitivity of the sequence to motions.', image=<PIL.Image.Image image mode=RGB size=2779x3000 at 0x7F542C7EBCD0>, label='G01R', model_output=None, messages=None, model_type='claude3haiku', mode=2)\n"
     ]
    },
    {
     "name": "stderr",
     "output_type": "stream",
     "text": [
      "51it [01:04,  1.27s/it]"
     ]
    },
    {
     "name": "stdout",
     "output_type": "stream",
     "text": [
      "Output: G01R, Expected: G01R, Current Accuracy: 0.17647058823529413, Token Usage: 0\n",
      "PatentData(text='Disclosed are methods for receiving device discovery information and sending device discovery information, and UE. The method for receiving the device discovery information includes that: first UE receives device discovery information sent by second UE, wherein the device discovery information contains at least one piece of the following information: UE identification information and attribute information of the UE; and the first UE performs D2D discovery and/or D2D communication under the condition that the device discovery information is consistent with a preset condition. By the disclosure, the technical problem of difficulty in meeting a requirement on D2D communication diversity caused by containing of only an ID in the device discovery information in the related technology is effectively solved, and the technical effect of improving D2D communication effectiveness and flexibility is achieved.', image=<PIL.Image.Image image mode=RGB size=2538x2730 at 0x7F542C7EED50>, label='H04W', model_output=None, messages=None, model_type='claude3haiku', mode=2)\n"
     ]
    },
    {
     "name": "stderr",
     "output_type": "stream",
     "text": [
      "52it [01:05,  1.14s/it]"
     ]
    },
    {
     "name": "stdout",
     "output_type": "stream",
     "text": [
      "Output: H04W, Expected: H04W, Current Accuracy: 0.19230769230769232, Token Usage: 0\n",
      "PatentData(text='The reverberation chamber comprises a shielded enclosure (10) made up of a floor (11), side walls (13 to 16), and a ceiling (12), together with an antenna (2) for emitting radiofrequency waves in order to generate radiation inside the enclosure (10) at a lowest usable frequency. The chamber also comprises, inside the enclosure (10), a set (5, 6) of passive and selective elements for absorbing radiofrequencies in a defined frequency band.', image=<PIL.Image.Image image mode=RGB size=1660x3000 at 0x7F542C7EBB10>, label='G01R', model_output=None, messages=None, model_type='claude3haiku', mode=2)\n"
     ]
    },
    {
     "name": "stderr",
     "output_type": "stream",
     "text": [
      "53it [01:06,  1.18s/it]"
     ]
    },
    {
     "name": "stdout",
     "output_type": "stream",
     "text": [
      "Output: G06F, Expected: G01R, Current Accuracy: 0.18867924528301888, Token Usage: 0\n",
      "PatentData(text='A microscope includes: a sample placement part having a placement surface on which to place a sample and a bottom face opposite to the placement surface; an observation lens; and an optical unit for generating sheet light and use of the microscope. The microscope of an embodiment is arranged such that the sheet light enters the sample placement part from the bottom face and passing through the sample placement part to irradiate the sample, and fluorescence from the sample passes through the sample placement part toward the bottom face to be received by the observation lens. The microscope can, with this arrangement, utilize the advantages of a SPIM, and allows observation of a sample which observation is free from a restriction of the size of a sample.', image=<PIL.Image.Image image mode=RGB size=2681x3000 at 0x7F542C7E9710>, label='G02B', model_output=None, messages=None, model_type='claude3haiku', mode=2)\n"
     ]
    },
    {
     "name": "stderr",
     "output_type": "stream",
     "text": [
      "54it [01:08,  1.41s/it]"
     ]
    },
    {
     "name": "stdout",
     "output_type": "stream",
     "text": [
      "Output: F41G, Expected: G02B, Current Accuracy: 0.18518518518518517, Token Usage: 0\n",
      "PatentData(text='There is provided an eddy current flaw detection technique capable of, even when inspecting an object having a narrow portion with a small curvature radius, recognizing detection sensitivity change due to change of attitude of a probe. An eddy current flaw detection apparatus 10 includes: an AC power source 14 which generates an excitation magnetic field in each of excitation coils 12a accommodated in a probe 11 to excite an eddy current in an inspection object 13; a detecting section 15 which detects a detection signal generated by an induction magnetic field induced by the eddy current in each of detection coils 12 accommodated in the probe 11; an output section 16 which outputs flaw detection data based on the detection signals; a storage section 17 which mutually associates and stores the detection signals detected at the same timing from the plurality of coils 12b; and an evaluating section 18 which evaluates an attitude of the probe 11 based on the plurality of detection signals detected at the same timing and associated with each other.', image=<PIL.Image.Image image mode=RGB size=1434x3000 at 0x7F542C7DDFD0>, label='G01N', model_output=None, messages=None, model_type='claude3haiku', mode=2)\n"
     ]
    },
    {
     "name": "stderr",
     "output_type": "stream",
     "text": [
      "55it [01:10,  1.41s/it]"
     ]
    },
    {
     "name": "stdout",
     "output_type": "stream",
     "text": [
      "Output: G01N, Expected: G01N, Current Accuracy: 0.2, Token Usage: 0\n",
      "PatentData(text='A near-infrared cut filter of which a transmittance satisfies the conditions (A) and (B), and a solid-state image pickup device including the filter are provided.', image=<PIL.Image.Image image mode=RGB size=3000x1010 at 0x7F542C7EA390>, label='G02B', model_output=None, messages=None, model_type='claude3haiku', mode=2)\n"
     ]
    },
    {
     "name": "stderr",
     "output_type": "stream",
     "text": [
      "56it [01:11,  1.23s/it]"
     ]
    },
    {
     "name": "stdout",
     "output_type": "stream",
     "text": [
      "Output: G01N, Expected: G02B, Current Accuracy: 0.19642857142857142, Token Usage: 0\n",
      "PatentData(text='The present invention relates to an extrusion-type connecting rod which is installed between a piston and a crank and can convert the reciprocating motion of the piston into the rotary motion of a crank shaft, an extrusion apparatus for a connecting rod, and a manufacturing method for the extrusion-type connecting rod. The extrusion-type connecting rod may comprise: a first big end having a portion of a crank shaft hole formed on one side and having a seam-line divided surface, which comprises a seam line formed at the time of extrusion, formed on the other side; a second big end, being extrusion-molded simultaneously with the first big end, having the other portion of the crank shaft hole formed on one side, and having a seam-line divided surface, which comprises a seam line formed at the time of extrusion, formed so as to contact the seam-line divided surface of the first big end; a connection part which is extrusion-molded integrally with the second big end; and a small end which is extrusion-molded integrally with the connection part.', image=<PIL.Image.Image image mode=RGB size=1865x3000 at 0x7F542C7E9090>, label='F16C', model_output=None, messages=None, model_type='claude3haiku', mode=2)\n"
     ]
    },
    {
     "name": "stderr",
     "output_type": "stream",
     "text": [
      "58it [01:12,  1.03it/s]"
     ]
    },
    {
     "name": "stdout",
     "output_type": "stream",
     "text": [
      "Output: B29C, Expected: F16C, Current Accuracy: 0.1896551724137931, Token Usage: 0\n",
      "PatentData(text='Provided are an adhesive composition for a touch panel, including: a hydrophilic functional group-containing monomer, wherein a dielectric constant at a frequency of 100 kHz to 2 MHz is 3.5 or less, and an adhesive film having an adhesive layer including a cured product of the adhesive composition for a touch panel. In addition, provided is a touch panel including: a conductive plastic film having a conductive layer formed on one surface; and an adhesive layer attached onto the conductive layer and including a cured product of the adhesive composition for a touch panel.', image=<PIL.Image.Image image mode=RGB size=3000x2305 at 0x7F542C7E0750>, label='C09J', model_output=None, messages=None, model_type='claude3haiku', mode=2)\n"
     ]
    },
    {
     "name": "stderr",
     "output_type": "stream",
     "text": [
      "59it [01:13,  1.04it/s]"
     ]
    },
    {
     "name": "stdout",
     "output_type": "stream",
     "text": [
      "Output: G01N, Expected: C09J, Current Accuracy: 0.1864406779661017, Token Usage: 0\n",
      "PatentData(text='The invention regards to a device for comminuting ore and/or slag, which comprises an ore feed unit for feeding ore to be comminuted to a first comminuting means, the first comminuting means being composed of at least two comminuting elements that can be moved relative to each other, which elements form at least one comminuting space for the ore to be comminuted with each other such that, by a relative movement in the form of a rotation around the rotational axis of at least one of the two comminuting elements, the ore to be comminuted is pulverised in that one or more accelerating elements, in particular protrusions, are provided on at least one of the comminuting elements, said accelerating elements being arranged in particular on the end face of one of the two comminuting elements and accelerating and comminuting the ore to be comminuted by the rotation of one of the two comminuting elements, and wherein at least one of the two comminuting elements comprises a functional connection with a spring means, wherein the spring means is formed in such a way, that it mounts the comminuting element being in functional connection with variably in the direction of the other comminuting element.', image=<PIL.Image.Image image mode=RGB size=3000x1710 at 0x7F542C7EAE50>, label='B02C', model_output=None, messages=None, model_type='claude3haiku', mode=2)\n"
     ]
    },
    {
     "name": "stderr",
     "output_type": "stream",
     "text": [
      "60it [01:14,  1.03s/it]"
     ]
    },
    {
     "name": "stdout",
     "output_type": "stream",
     "text": [
      "Output: F16L, Expected: B02C, Current Accuracy: 0.18333333333333332, Token Usage: 0\n",
      "PatentData(text='The invention regards to a device for comminuting ore and/or slag, which comprises an ore feed unit for feeding ore to be comminuted to a first comminuting means. The first comminuting means being composed of at least two comminuting elements that can be moved relative to each other, which elements form at least one comminuting space for the ore to be comminuted with each other such that, by a relative movement in the form of a rotation around the rotational axis of at least one of the two comminuting elements. The ore to be comminuted is pulverised in that one or more accelerating elements, in particular protrusions, are provided on at least one of the comminuting elements. The accelerating elements being arranged in particular on the end face of one of the two comminuting elements and accelerating and comminuting the ore to be comminuted by the rotation of one of the two comminuting elements. Between the two comminuting elements and/or in at least one of the two comminuting elements, an intermediate space is provided through which during the rotation the pulverised ore can be conveyed away outwards from the centre of the rotation and from the two comminuting elements. An outlet unit for outletting ore comminuted by the first comminuting means is provided which is connected to the intermediate space. The outlet unit is connected with a separating means, by means of which the comminuted ore is separated into two portions. A first portion of the comminuted ore comprises a particle size, which is essentially larger as a predefined particle size of a second portion of comminuted ore. The first portion of the comminuted ore is guided to the first comminuting means or to a second comminuting means and the second portion of the comminuted ore is guided to a flotation means.', image=<PIL.Image.Image image mode=RGB size=3000x1721 at 0x7F542C7EB610>, label='B02C', model_output=None, messages=None, model_type='claude3haiku', mode=2)\n"
     ]
    },
    {
     "name": "stderr",
     "output_type": "stream",
     "text": [
      "61it [01:16,  1.17s/it]"
     ]
    },
    {
     "name": "stdout",
     "output_type": "stream",
     "text": [
      "Output: F16L, Expected: B02C, Current Accuracy: 0.18032786885245902, Token Usage: 0\n",
      "PatentData(text='The purpose of the invention is to ensure proper action of a latch member. A brake cylinder device (2) having a parking spring brake mechanism (25), provided with a clutch mechanism (27) configured so as to transmit or block urging force of a piston (35) to or from a brake force transmitting unit (14); a latch member (49) for restricting displacement of the brake force transmitting unit (14) relative to the piston (35) by engaging with the clutch mechanism (27), and allowing displacement of the brake force transmitting unit (14) relative to the piston (35) by disengaging from the clutch mechanism (27); a latch lock member (51) for engaging at an inclined part with a protruding part of the latch member (49); and a rotation-preventing part (5) for preventing the latch lock member (51) from rotating.', image=<PIL.Image.Image image mode=RGB size=2063x3000 at 0x7F542C7E9110>, label='B60T', model_output=None, messages=None, model_type='claude3haiku', mode=2)\n"
     ]
    },
    {
     "name": "stderr",
     "output_type": "stream",
     "text": [
      "62it [01:17,  1.27s/it]"
     ]
    },
    {
     "name": "stdout",
     "output_type": "stream",
     "text": [
      "Output: F16H, Expected: B60T, Current Accuracy: 0.1774193548387097, Token Usage: 0\n",
      "PatentData(text='A closure is shown and described, preferably for an orthosis, which has a belt assembly, having a first closure part (1) and a second closure part (21), which can be releasably connected to one another, wherein the first and the second closure parts (1, 21) have connecting means for belts of the belt assembly, wherein the first closure part (1) has a pin (3), wherein the second closure part (21) has a connection end (23) and a coupling end (25), and between the connection end (23) and the coupling end (25) a guide track (37) extending in a closure plane is provided, which extends from an entrance opening (41) to a guide track end (43), wherein the pin (3) has a first section (7) and a second section (9), wherein the dimensions of the first section (7) perpendicular to the direction of extension of the pin (3) correspond to the dimensions of the guide track (37) in the closure plane at the guide track end (43), and wherein the dimensions of the second section (9) perpendicular to the direction of extension of the pin (3) are greater than the dimensions of the guide track (37) at the guide track end (43), so that the second section (9) restricts a movement of the pin (3) relative to the second closure part (21) perpendicular to the closure plane.', image=<PIL.Image.Image image mode=RGB size=3000x1962 at 0x7F542C7E0210>, label='A44B', model_output=None, messages=None, model_type='claude3haiku', mode=2)\n"
     ]
    },
    {
     "name": "stderr",
     "output_type": "stream",
     "text": [
      "63it [01:18,  1.22s/it]"
     ]
    },
    {
     "name": "stdout",
     "output_type": "stream",
     "text": [
      "Output: A41G, Expected: A44B, Current Accuracy: 0.1746031746031746, Token Usage: 0\n",
      "PatentData(text='Provided is a novel use of a plasminogen activator inhibitor-1 inhibitor (PAI-1 inhibitor) that is used as an active ingredient of an agent for controlling a tumor stem cell, an agent for enhancing the antitumor effect of an antitumor agent, an agent for tumor chemotherapy, a stem-cell protecting drug, or a hematopoietic disorder improving agent.', image=<PIL.Image.Image image mode=RGB size=3000x2612 at 0x7F542C7E0450>, label='A61K', model_output=None, messages=None, model_type='claude3haiku', mode=2)\n"
     ]
    },
    {
     "name": "stderr",
     "output_type": "stream",
     "text": [
      "64it [01:20,  1.42s/it]"
     ]
    },
    {
     "name": "stdout",
     "output_type": "stream",
     "text": [
      "Output: G01N, Expected: A61K, Current Accuracy: 0.171875, Token Usage: 0\n",
      "PatentData(text='[Object] Provided are a press-molded product in which the plank pieces can be appropriately matched with each other and the weight of the product is not increased even when the plank pieces can be appropriately matched with each other, and a method of manufacturing the same. [Solving Means] The present invention is a press-molded product (100) formed by bending a blank (B) to divide the blank into a first plank piece (10) and a second plank piece (20) with a bending portion interposed therebetween and making the first plank piece and the second plank piece come into contact with each other through the bending. The first plank piece and the second plank piece include punching portions (11, 21) formed by punching the blank, and a first rising portion (12) and a second rising portion (22) formed by raising the rims of the punching portions. There is provided a positioning portion (40) that positions the first plank piece and the second plank piece by engaging the first rising portion of the first plank piece with the second rising portion of the second plank piece.', image=<PIL.Image.Image image mode=RGB size=3000x2543 at 0x7F542C7EB690>, label='B21D', model_output=None, messages=None, model_type='claude3haiku', mode=2)\n"
     ]
    },
    {
     "name": "stderr",
     "output_type": "stream",
     "text": [
      "65it [01:21,  1.39s/it]"
     ]
    },
    {
     "name": "stdout",
     "output_type": "stream",
     "text": [
      "Output: F16K, Expected: B21D, Current Accuracy: 0.16923076923076924, Token Usage: 0\n",
      "PatentData(text='A process for producing an electrode-gel electrolyte assembly based on porous carbonaceous material comprising radical-trapping sites comprises: a step of forming a bond between the radical-trapping sites of the carbonaceous material and functionalizing molecules, a step of preparing a solution comprising at least one monofunctional monomer and at least one polyfunctional monomer, an ionically conductive electrolyte and a radical initiator, a step of impregnating the solution of the monomers into the pores of the carbonaceous material, and a step of in situ radical polymerization of the monomers.', image=<PIL.Image.Image image mode=RGB size=3000x973 at 0x7F542C7DE050>, label='H01G', model_output=None, messages=None, model_type='claude3haiku', mode=2)\n"
     ]
    },
    {
     "name": "stderr",
     "output_type": "stream",
     "text": [
      "66it [01:22,  1.18s/it]"
     ]
    },
    {
     "name": "stdout",
     "output_type": "stream",
     "text": [
      "Output: C08G, Expected: H01G, Current Accuracy: 0.16666666666666666, Token Usage: 0\n",
      "PatentData(text='A device for recognizing the inscription on the wall of a tire, including a driving surface plane, at least one directional light source to illuminate the tire; at least one camera to record multiple images of a wall of the tire rolling on the driving surface plane; and an evaluation device to synthesize an image of the wall of the tire from the multiple recorded images and to evaluate the synthesized image with the aid of a text recognition method.', image=<PIL.Image.Image image mode=RGB size=2801x3000 at 0x7F542C7E3F10>, label='H04N', model_output=None, messages=None, model_type='claude3haiku', mode=2)\n"
     ]
    },
    {
     "name": "stderr",
     "output_type": "stream",
     "text": [
      "67it [01:23,  1.20s/it]"
     ]
    },
    {
     "name": "stdout",
     "output_type": "stream",
     "text": [
      "Output: B60R, Expected: H04N, Current Accuracy: 0.16417910447761194, Token Usage: 0\n",
      "PatentData(text='A folding house having a housing block and a base block. In one example, the folding house provides that the housing block has a housing block floor, a housing block front wall and two housing block side walls rigidly connected to the housing block front wall and the housing block floor, and the base block has a base block back wall, a base block floor and two base block side walls rigidly connected to the base block back wall and the base block floor, wherein the housing block and the base block can be brought into a housing position in which the housing block supplements the base block, and into a transport position in which the base block is arranged in the housing block.', image=<PIL.Image.Image image mode=RGB size=3000x2799 at 0x7F542C7E1150>, label='E04B', model_output=None, messages=None, model_type='claude3haiku', mode=2)\n"
     ]
    },
    {
     "name": "stderr",
     "output_type": "stream",
     "text": [
      "68it [01:25,  1.23s/it]"
     ]
    },
    {
     "name": "stdout",
     "output_type": "stream",
     "text": [
      "Output: E04H, Expected: E04B, Current Accuracy: 0.16176470588235295, Token Usage: 0\n",
      "PatentData(text='System for managing a collection of objects, for example in a store, employing identification tags (RFID) assigned to object (O) locations and individual labels (ID-O) associated with the objects. The objects are identified using a portable label scanner (RFIDL) operating in either a local mode (M1) or in a single mode (M2), with said scanner being connected to a control unit (CPU) that controls the operation of the scanner. The local mode (M1) consists of reading the label (ID-Pj) of the display location (Pj) of a batch of objects (Oi) and of scanning the label of the objects located in this location for comparison and verification. The single mode (M2) is a close-up scan of the label of an object, taken individually.', image=<PIL.Image.Image image mode=RGB size=1551x3000 at 0x7F542C9BBBD0>, label='G06Q', model_output=None, messages=None, model_type='claude3haiku', mode=2)\n"
     ]
    },
    {
     "name": "stderr",
     "output_type": "stream",
     "text": [
      "69it [01:26,  1.20s/it]"
     ]
    },
    {
     "name": "stdout",
     "output_type": "stream",
     "text": [
      "Output: G05B, Expected: G06Q, Current Accuracy: 0.15942028985507245, Token Usage: 0\n",
      "PatentData(text='Provided herein is a method for forming a transparent electrode film for display and the transparent electrode film for display, the method comprising forming an electrode pattern by printing a fine electrode pattern on a release film using a conductive ink composition; forming an insulating layer by applying an insulating resin on the release film on which the electrode pattern has been formed; forming a substrate layer by laminating a substrate on the insulating layer; and removing the release film.', image=<PIL.Image.Image image mode=RGB size=3000x1198 at 0x7F542C7E13D0>, label='H05K', model_output=None, messages=None, model_type='claude3haiku', mode=2)\n"
     ]
    },
    {
     "name": "stderr",
     "output_type": "stream",
     "text": [
      "70it [01:27,  1.06s/it]"
     ]
    },
    {
     "name": "stdout",
     "output_type": "stream",
     "text": [
      "Output: B32B, Expected: H05K, Current Accuracy: 0.15714285714285714, Token Usage: 0\n",
      "PatentData(text='Knitting spirality stabilizer constituted of the main frame and the internal mechanism (removable capsule). The main body of the machine is constituted of the frame (1) in which is placed a circle pattern constituted of two rings, one constant (2) and one removable (3). Circumferentially and symmetrically of the movable ring (3) has been placed a layout that regulates the operation diameter according to the fabric. It is constituted of independent rests (4), which can be height regulated (5) and can be stabilized in the desirable location by using pins (6). Lengthwise of the vertical surface of rests, magnets have been placed (7), which have been covered with Teflon. There are turn wheels on the rests (10) with coating made from soft material so that is performed smooth fabric rolling without wears. Inside the frame it is found the internal mechanism (9) that is constituted of foldable frame (11) and pins (6) for the initial placement. On the foldable frame edges (11) rests have been placed (12) that correspond to those on the external movable ring, that respectively have their own turn wheels (10) with coating made from soft material and magnets (8) with opposite polarity to create magnetic field and flexible metal stripes (13) that are used as drivers during the fabric passage.', image=<PIL.Image.Image image mode=RGB size=1903x3000 at 0x7F542C7E0F50>, label='D06C', model_output=None, messages=None, model_type='claude3haiku', mode=2)\n"
     ]
    },
    {
     "name": "stderr",
     "output_type": "stream",
     "text": [
      "71it [01:28,  1.14s/it]"
     ]
    },
    {
     "name": "stdout",
     "output_type": "stream",
     "text": [
      "Output: A63H, Expected: D06C, Current Accuracy: 0.15492957746478872, Token Usage: 0\n",
      "PatentData(text='A high-quality polyacetal copolymer produced by a simple process in an economical manner. The process includes supplying a raw material including trioxane and the like to a reaction device; setting the polymerization environmental temperature to no more than 100° C. until the reaction device conversion rate becomes 0.5, and then carrying out further polymerization; vaporizing and separating unreacted monomers from the reaction mixture at an environmental temperature of at least 115° C. and less than 140° C.; supplying the separated monomers to the raw material supply; and recovering the polyacetal copolymer from the reaction mixture.', image=<PIL.Image.Image image mode=RGB size=1811x3000 at 0x7F542C7E29D0>, label='C08G', model_output=None, messages=None, model_type='claude3haiku', mode=2)\n"
     ]
    },
    {
     "name": "stderr",
     "output_type": "stream",
     "text": [
      "72it [01:29,  1.09s/it]"
     ]
    },
    {
     "name": "stdout",
     "output_type": "stream",
     "text": [
      "Output: C08F, Expected: C08G, Current Accuracy: 0.1527777777777778, Token Usage: 0\n",
      "PatentData(text='The present invention is to provide a color material dispersion liquid which is able to form a high-luminance coating film having excellent heat resistance, with adjusting the color tone of the coating film to a desired color tone. Disclosed is a color material dispersion liquid containing: (A) a color material, (B) a dispersant and (C) a solvent, wherein the color material (A) contains a color material (A-1) in which at least a cation represented by the following general formula (I) and a monovalent anion represented by the following general formula (II) form a salt: (symbols in the general formulae (I) and (II) are as described in the Description.)', image=<PIL.Image.Image image mode=RGB size=3000x1796 at 0x7F542C7E1310>, label='G02B', model_output=None, messages=None, model_type='claude3haiku', mode=2)\n"
     ]
    },
    {
     "name": "stderr",
     "output_type": "stream",
     "text": [
      "73it [01:30,  1.13s/it]"
     ]
    },
    {
     "name": "stdout",
     "output_type": "stream",
     "text": [
      "Output: C23C, Expected: G02B, Current Accuracy: 0.1506849315068493, Token Usage: 0\n",
      "PatentData(text='The object of the present invention is to provide a method for screening peptide(s) highly specific to a target molecule. The object can be solved by a peptide-presenting protein wherein a peptide is presented in a presentation region consisting of the 131st to 139th amino acids in the amino acid sequence of the SEQ ID NO: 54, wherein the peptide consisting of 4 to 15 amino acids is inserted in the 131st to 139th amino acids sequence, or substituted for any of 1 to 9 amino acid(s) sequence in the 131st to 139th amino acids sequence; and a total length of an amino acid sequence corresponding to the 131st to 139th amino acids sequence is 15 or less.', image=<PIL.Image.Image image mode=RGB size=2684x3000 at 0x7F542C7E1950>, label='C12N', model_output=None, messages=None, model_type='claude3haiku', mode=2)\n"
     ]
    },
    {
     "name": "stderr",
     "output_type": "stream",
     "text": [
      "74it [01:32,  1.23s/it]"
     ]
    },
    {
     "name": "stdout",
     "output_type": "stream",
     "text": [
      "Output: C12Q, Expected: C12N, Current Accuracy: 0.14864864864864866, Token Usage: 0\n",
      "PatentData(text='The invention relates to a process for producing an aqueous gel comprising hyaluronic acid, vitamin C, and a stabilizing agent selected from the metabisulfites. According to the invention, such a process comprises the steps of a) preparing a mixture comprising crosslinked or non-crosslinked hyaluronic acid and/or a salt thereof with a molar mass of between 1000 Da and 10 MDa, from 0.1 to 20.0% by weight of vitamin C in its acid form, or its equivalent in ascorbate derived from a vitamin C salt, from 0.01 to 1.00% by weight of a stabilizing agent selected from the metabisulfites, and an aqueous solution added so that the hyaluronic acid content is between 0.01 and 100 mg/ml, so as to form a hydrogel, and b) degassing the mixture before the hydrogel being formed is completely swollen.', image=<PIL.Image.Image image mode=RGB size=1928x2404 at 0x7F542C7E5ED0>, label='A61K', model_output=None, messages=None, model_type='claude3haiku', mode=2)\n"
     ]
    },
    {
     "name": "stderr",
     "output_type": "stream",
     "text": [
      "76it [01:32,  1.20it/s]"
     ]
    },
    {
     "name": "stdout",
     "output_type": "stream",
     "text": [
      "Output: A61K, Expected: A61K, Current Accuracy: 0.15789473684210525, Token Usage: 0\n",
      "PatentData(text='The component (100) according to the invention has a first wood element (110) with at least a first main fiber direction (114) and a second wood element (120) with at least a second main fiber direction (124). At the end, and spaced apart, the first wood element (110) is adhesively bonded, on a first side cutting through the first main fiber direction (114), to a first side (121) of the second wood element (120) cutting through the second main fiber direction (124).', image=<PIL.Image.Image image mode=RGB size=3000x2742 at 0x7F542C7E1950>, label='B27M', model_output=None, messages=None, model_type='claude3haiku', mode=2)\n"
     ]
    },
    {
     "name": "stderr",
     "output_type": "stream",
     "text": [
      "77it [01:34,  1.08it/s]"
     ]
    },
    {
     "name": "stdout",
     "output_type": "stream",
     "text": [
      "Output: B27N, Expected: B27M, Current Accuracy: 0.15584415584415584, Token Usage: 0\n",
      "PatentData(text='The present invention relates to novel formulations of soluble Fc receptors and especially to formulations containing high concentrations of soluble FcγRIIB receptor. The invention further relates to the use of such formulations as pharmaceutical compounds for the treatment of autoimmune diseases, infections and other conditions where the immune system is involved.', image=<PIL.Image.Image image mode=RGB size=2772x3000 at 0x7F542C7E1090>, label='A61K', model_output=None, messages=None, model_type='claude3haiku', mode=2)\n"
     ]
    },
    {
     "name": "stderr",
     "output_type": "stream",
     "text": [
      "78it [01:35,  1.08s/it]"
     ]
    },
    {
     "name": "stdout",
     "output_type": "stream",
     "text": [
      "Output: G01N, Expected: A61K, Current Accuracy: 0.15384615384615385, Token Usage: 0\n",
      "PatentData(text='The present disclosure discloses a non-invasive wireless glucose level monitoring device. The device is fitted into a contact lens and can analyze glucose levels in tear fluid. The results of the analysis can be continuously transmitted to a nearby receiver and uploaded to a computer, mobile device or server.', image=<PIL.Image.Image image mode=RGB size=3000x2751 at 0x7F542C7E2850>, label='G01N', model_output=None, messages=None, model_type='claude3haiku', mode=2)\n"
     ]
    },
    {
     "name": "stderr",
     "output_type": "stream",
     "text": [
      "79it [01:37,  1.22s/it]"
     ]
    },
    {
     "name": "stdout",
     "output_type": "stream",
     "text": [
      "Output: G01N, Expected: G01N, Current Accuracy: 0.16455696202531644, Token Usage: 0\n",
      "PatentData(text='A vacuum condenser adapted to reduce pressure in an enclosure containing a secondary liquid and thereby cause the accelerated production of vapor from the secondary liquid by the passage of a primary liquid through the vacuum condenser and whereby the vapor produced is absorbed by the primary liquid within the vacuum condenser by being entrained and condensed within the primary liquid wherein the vacuum condenser is configured to cause the operating temperature of the secondary liquid within the enclosure to maintain a stable minimum temperature for a predetermined substantial rate of production of vapor.', image=<PIL.Image.Image image mode=RGB size=2951x3000 at 0x7F542C7E2CD0>, label='B01D', model_output=None, messages=None, model_type='claude3haiku', mode=2)\n"
     ]
    },
    {
     "name": "stderr",
     "output_type": "stream",
     "text": [
      "80it [01:38,  1.32s/it]"
     ]
    },
    {
     "name": "stdout",
     "output_type": "stream",
     "text": [
      "Output: F22B, Expected: B01D, Current Accuracy: 0.1625, Token Usage: 0\n",
      "PatentData(text='A zinc production method includes a reaction step such as a leaching step (101) of bringing electric arc furnace dust (1) containing zinc oxide or the like into contact with a chlorine gas (8) to obtain a zinc oxide component in the electric arc furnace dust (1) or the like as crude zinc chloride (3), a purification step (102) of heating the crude zinc chloride (3) obtained at the reaction step to produce zinc chloride vapor, and cooling and condensing the zinc chloride vapor, thereby obtaining purified zinc chloride (6), and an electrolysis step (103) of electrolyzing the purified zinc chloride (6) obtained at the purification step (102) in a molten state to obtain a zinc melt (9) and the chlorine gas (8).', image=<PIL.Image.Image image mode=RGB size=2360x3000 at 0x7F542C7E2850>, label='C22B', model_output=None, messages=None, model_type='claude3haiku', mode=2)\n"
     ]
    },
    {
     "name": "stderr",
     "output_type": "stream",
     "text": [
      "81it [01:39,  1.21s/it]"
     ]
    },
    {
     "name": "stdout",
     "output_type": "stream",
     "text": [
      "Output: C22B, Expected: C22B, Current Accuracy: 0.1728395061728395, Token Usage: 0\n",
      "PatentData(text='The invention relates to a transport carriage for cargo, particularly balls compressed from agricultural crops such as straw or silage, having a loading platform, which is designed to reach under the cargo in the loading state of the transport carriage, and having a strapping system which enables the cargo so be secured on the loading platform. The strapping system comprises at least one, preferably a plurality of tensioning means, arranged spaced apart from each other, which can be guided around the cargo loaded on the loading platform, at least in sections, by means of a common conveying device.', image=<PIL.Image.Image image mode=RGB size=3000x2860 at 0x7F542C7E3210>, label='B60P', model_output=None, messages=None, model_type='claude3haiku', mode=2)\n"
     ]
    },
    {
     "name": "stderr",
     "output_type": "stream",
     "text": [
      "82it [01:40,  1.24s/it]"
     ]
    },
    {
     "name": "stdout",
     "output_type": "stream",
     "text": [
      "Output: B62D, Expected: B60P, Current Accuracy: 0.17073170731707318, Token Usage: 0\n",
      "PatentData(text='The present disclosure provides an information transmission method and an information transmission device. The information transmission method includes a step of transmitting, by a network-side device, at least one of information about a power back-off value, information about a resource allocation mode and DRX configuration information to a UE in accordance with information about a type or a capability level of a PA reported by the UE.', image=<PIL.Image.Image image mode=RGB size=3000x1822 at 0x7F542C7E13D0>, label='H04W', model_output=None, messages=None, model_type='claude3haiku', mode=2)\n"
     ]
    },
    {
     "name": "stderr",
     "output_type": "stream",
     "text": [
      "83it [01:42,  1.26s/it]"
     ]
    },
    {
     "name": "stdout",
     "output_type": "stream",
     "text": [
      "Output: H04L, Expected: H04W, Current Accuracy: 0.1686746987951807, Token Usage: 0\n",
      "PatentData(text='The present invention relates to a diketopyrrolopyrrole polymer, which is an organic semiconductor compound for an organic electronic device, and a use thereof. The diketopyrrolopyrrole polymer according to the present invention is a novel organic semiconductor compound having high π-electron stacking by introducing an electron donor compound, and an organic electronic device employing the same has excellent charge mobility and on/off ratio.', image=<PIL.Image.Image image mode=RGB size=3000x2601 at 0x7F542C7E3610>, label='H01L', model_output=None, messages=None, model_type='claude3haiku', mode=2)\n"
     ]
    },
    {
     "name": "stderr",
     "output_type": "stream",
     "text": [
      "84it [01:43,  1.36s/it]"
     ]
    },
    {
     "name": "stdout",
     "output_type": "stream",
     "text": [
      "Output: H01L, Expected: H01L, Current Accuracy: 0.17857142857142858, Token Usage: 0\n",
      "PatentData(text='An object of the present invention is to provide a curable epoxy resin composition, which is cured to provide a cured product having a high glass-transition temperature and particularly having excellent balance between heat resistance and transparency. The present invention relates to a curable epoxy resin composition comprising an alicyclic epoxy compound (A) represented by the following formula (1) and a curing agent (B), or a curable epoxy resin composition comprising an alicyclic epoxy compound (A) represented by the following formula (1) and a curing catalyst (C). wherein R1 to R22, which may be the same or different, each represent a hydrogen atom, a methyl group or an ethyl group; and m and n, which may be the same or different, each represent an integer of 1 to 4.', image=<PIL.Image.Image image mode=RGB size=1947x1271 at 0x7F542C7DD290>, label='C08G', model_output=None, messages=None, model_type='claude3haiku', mode=2)\n"
     ]
    },
    {
     "name": "stderr",
     "output_type": "stream",
     "text": [
      "85it [01:44,  1.26s/it]"
     ]
    },
    {
     "name": "stdout",
     "output_type": "stream",
     "text": [
      "Output: G01N, Expected: C08G, Current Accuracy: 0.17647058823529413, Token Usage: 0\n",
      "PatentData(text='The invention relates to fastening elements for connecting transmission means such as tie rods, Bowden cables or the like to lever elements, in particular for motor vehicle locks, and to connecting arrangements equipped with such fastening elements. In order to allow reliable mounting and a structurally simple manufacture of the fastening elements, the fastening element is provided with a bayonet contour in such a manner that the fastening element, when mounted, is hinged to the lever element so as to be swiveled about a swivel axis. Owing to the swivelability and secure fastening to the lever element, the fastening element is particularly suitable for use in an actuation-force transmission chain between a motor vehicle lock and an actuating element for actuating said motor vehicle lock.', image=<PIL.Image.Image image mode=RGB size=2416x2386 at 0x7F542C7E19D0>, label='F16C', model_output=None, messages=None, model_type='claude3haiku', mode=2)\n"
     ]
    },
    {
     "name": "stderr",
     "output_type": "stream",
     "text": [
      "86it [01:45,  1.12s/it]"
     ]
    },
    {
     "name": "stdout",
     "output_type": "stream",
     "text": [
      "Output: F16D, Expected: F16C, Current Accuracy: 0.1744186046511628, Token Usage: 0\n",
      "PatentData(text='New designed ankyrin repeat proteins with binding specificity for HGF are described, as well as nucleic acids encoding such HGF binding proteins, pharmaceutical compositions comprising such proteins and the use of such proteins in the treatment of diseases.', image=<PIL.Image.Image image mode=RGB size=2113x3000 at 0x7F542C7E3A50>, label='C07K', model_output=None, messages=None, model_type='claude3haiku', mode=2)\n"
     ]
    },
    {
     "name": "stderr",
     "output_type": "stream",
     "text": [
      "87it [01:46,  1.09s/it]"
     ]
    },
    {
     "name": "stdout",
     "output_type": "stream",
     "text": [
      "Output: G01P, Expected: C07K, Current Accuracy: 0.1724137931034483, Token Usage: 0\n",
      "PatentData(text=\"A method for providing a assistance for maintaining or improving an individual's wellness, comprising the steps of measuring a presence and/or concentration of one or more biomarkers in a sample from the individual; predicting a wellness need for maintaining or improving the individual's wellness based on the measured presence and/or concentration of the one or more biomarkers, wherein the one or more biomarkers are indicators of the wellness need; and altering the living environment of the individual, providing a wellness product or service to the individual or providing information, guidance or advice to the individual for addressing the wellness need of the individual. A system providing assistance for maintaining or improving an individual's wellness is also provided.\", image=<PIL.Image.Image image mode=RGB size=2330x2556 at 0x7F542C7EACD0>, label='G06F', model_output=None, messages=None, model_type='claude3haiku', mode=2)\n"
     ]
    },
    {
     "name": "stderr",
     "output_type": "stream",
     "text": [
      "88it [01:47,  1.01it/s]"
     ]
    },
    {
     "name": "stdout",
     "output_type": "stream",
     "text": [
      "Output: G06F, Expected: G06F, Current Accuracy: 0.18181818181818182, Token Usage: 0\n",
      "PatentData(text='A wafer holding apparatus for holding a wafer including a wafer holder on which the wafer is placed; and a lift pin that is configured to be lifted up and down with respect to the wafer holder in a direction along a normal line of a placement surface of the wafer, the lift pin includes a tip part, the tip part includes: a bottom part that forms a suction region for sucking a rear surface of the wafer; and a convex part that supports the rear surface of the wafer in the suction region. When a substrate is placed on a target position, it is possible to prevent a local deterioration of flatness of the substrate even if the substrate is large.', image=<PIL.Image.Image image mode=RGB size=3000x1699 at 0x7F542C7F0AD0>, label='H01L', model_output=None, messages=None, model_type='claude3haiku', mode=2)\n"
     ]
    },
    {
     "name": "stderr",
     "output_type": "stream",
     "text": [
      "89it [01:49,  1.18s/it]"
     ]
    },
    {
     "name": "stdout",
     "output_type": "stream",
     "text": [
      "Output: F21V, Expected: H01L, Current Accuracy: 0.1797752808988764, Token Usage: 0\n",
      "PatentData(text='An X-ray source is provided, the X-ray source including an outer housing that may be evacuated, including at least one radiation exit window, an electron source for emitting an electron beam, and an anode for producing X-rays. When the X-ray source is in operation, the anode is present in a vapor phase, wherein the vaporous anode may be produced by evaporating a stock of anode material present in a condensed phase by exposure to the electron beam. A method for producing X-rays is also provided, in which inside of an outer housing of an X-ray, which may be evacuated, a vaporous anode is continuously formed by bombarding the anode material that is present in a condensed phase with an electron beam. The vaporous anode emits X-rays by interaction with the electron beam.', image=<PIL.Image.Image image mode=RGB size=3000x2775 at 0x7F542C7F28D0>, label='H05G', model_output=None, messages=None, model_type='claude3haiku', mode=2)\n"
     ]
    },
    {
     "name": "stderr",
     "output_type": "stream",
     "text": [
      "90it [01:50,  1.22s/it]"
     ]
    },
    {
     "name": "stdout",
     "output_type": "stream",
     "text": [
      "Output: G04C, Expected: H05G, Current Accuracy: 0.17777777777777778, Token Usage: 0\n",
      "PatentData(text='The invention relates to a device for water purification, especially in flowing or stagnant waterbodies. In this connection, the present embodiments propose that the device has a container in which xylitol fibers are accommodated and/or that the xylitol fibers are surrounded by a structure through which it is firstly possible for water to flow and which secondly retains the xylitol fibers within the structure.', image=<PIL.Image.Image image mode=RGB size=3000x2300 at 0x7F542C7F2CD0>, label='C02F', model_output=None, messages=None, model_type='claude3haiku', mode=2)\n"
     ]
    },
    {
     "name": "stderr",
     "output_type": "stream",
     "text": [
      "91it [01:51,  1.18s/it]"
     ]
    },
    {
     "name": "stdout",
     "output_type": "stream",
     "text": [
      "Output: E02D, Expected: C02F, Current Accuracy: 0.17582417582417584, Token Usage: 0\n",
      "PatentData(text='A blow-molded panel with reinforced edges and a folding table. A flange is extended downward on the periphery of the panel and surrounding the reinforced edge. The flange includes an inner flange layer and an outer flange layer. A hollow space is formed between the upper portion of the inner flange layer and the upper curvy portion of the outer flange layer, and the lower portion of the inner flange layer is attached to the lower straight portion of the outer flange layer. The flange has two layers, and the lower portion of the inner flange layer is attached to the lower straight portion of the outer flange layer, so that the firmness and the shock resistance of the fragile parts on the periphery of the panel are remarkably improved.', image=<PIL.Image.Image image mode=RGB size=3000x2766 at 0x7F542C7F0B90>, label='A47B', model_output=None, messages=None, model_type='claude3haiku', mode=2)\n"
     ]
    },
    {
     "name": "stderr",
     "output_type": "stream",
     "text": [
      "92it [01:52,  1.17s/it]"
     ]
    },
    {
     "name": "stdout",
     "output_type": "stream",
     "text": [
      "Output: G06C, Expected: A47B, Current Accuracy: 0.17391304347826086, Token Usage: 0\n",
      "PatentData(text='The present invention provides a novel compound isolated from a plant of the genus Quamoclit and a method for preparing a novel compound isolated from a plant of the genus Quamoclit through chemical synthesis, and relates to a novel compound and a composition containing the novel compound as an active ingredient for preventing or treating diabetes and diabetic complications. The compound derived from a plant of the genus Quamoclit and the composition containing the compound as an active ingredient according to the present invention have an excellent effect of promoting insulin secretion, thereby exhibiting efficacies in preventing or treating diabetes and the resulting various complications.', image=<PIL.Image.Image image mode=RGB size=1650x3000 at 0x7F542C7F1250>, label='C07H', model_output=None, messages=None, model_type='claude3haiku', mode=2)\n"
     ]
    },
    {
     "name": "stderr",
     "output_type": "stream",
     "text": [
      "93it [01:54,  1.24s/it]"
     ]
    },
    {
     "name": "stdout",
     "output_type": "stream",
     "text": [
      "Output: G01N, Expected: C07H, Current Accuracy: 0.17204301075268819, Token Usage: 0\n",
      "PatentData(text='An electronic actuator according to the present invention comprises: a shaft; a bobbin; a nut; an upper bushing; a housing; a bearing; and a lower bushing. The shaft rotates by receiving a rotational force from an engine crank shaft. The bobbin is mounted to surround the middle portion of the shaft, wherein the bobbin has a coil wound inside thereof. The nut is made of a magnetic material and mounted to surround one side in the longitudinal direction of the shaft, while being screw-connected to a clutch. The upper bushing is made of as nonmagnetic material and is press-fit between the one side in the longitudinal direction of the shaft and the nut, so as to connect the shaft and the nut to form a single body. The housing is made of a magnetic material and comprises a bottom plate and a side wall to surround the other side in the longitudinal direction of the shaft, wherein the side wall extends to partially overlap the nut. The bearing is mounted on the outer peripheral surface on the other side in the longitudinal direction of the shaft, positioned inside the housing. The lower hushing is made of a nonmagnetic material and is press-fit between the bearing and the housing so as to connect the bearing and the housing to form a single body.', image=<PIL.Image.Image image mode=RGB size=2563x3000 at 0x7F542C7F1610>, label='F16D', model_output=None, messages=None, model_type='claude3haiku', mode=2)\n"
     ]
    },
    {
     "name": "stderr",
     "output_type": "stream",
     "text": [
      "94it [01:55,  1.27s/it]"
     ]
    },
    {
     "name": "stdout",
     "output_type": "stream",
     "text": [
      "Output: F02M, Expected: F16D, Current Accuracy: 0.1702127659574468, Token Usage: 0\n",
      "PatentData(text='The present invention has an object to provide an X-ray fluorescence spectrometer capable of preventing a decrease in analysis precision of light elements whose atomic number is less than 23 and making helium gas replacement for the inside of an analysis chamber more efficient. An X-ray fluorescence spectrometer of the present invention includes: an X-ray tube 12 for irradiating a sample S on a sample stage 14 with a primary X-ray, the sample stage 14 having an X-ray passing port 141; a detector 13 for detecting a fluorescent X-ray emitted from the sample S; an analysis chamber 16 having an introduction port 17 for the primary X-ray emitted from the X-ray tube 12 and a detection port 181 for the detector 13, the analysis chamber 16 containing an internal space including an optical path of the primary X-ray from the introduction port 17 to the X-ray passing port 141 and an optical path of the fluorescent X-ray from the X-ray passing port 141 to the detection port 181; first and second introduction pipes 201 and 202 for introducing helium gas supplied from a helium gas cylinder 22 into the analysis chamber 16 through the introduction port 17 and the detection port 181, respectively; and a flow rate control valve 24 for controlling a helium gas flow rate in each of the first and second introduction pipes 201 and 202.', image=<PIL.Image.Image image mode=RGB size=3000x2412 at 0x7F542C7F0110>, label='G01N', model_output=None, messages=None, model_type='claude3haiku', mode=2)\n"
     ]
    },
    {
     "name": "stderr",
     "output_type": "stream",
     "text": [
      "95it [01:56,  1.29s/it]"
     ]
    },
    {
     "name": "stdout",
     "output_type": "stream",
     "text": [
      "Output: G01T, Expected: G01N, Current Accuracy: 0.16842105263157894, Token Usage: 0\n",
      "PatentData(text='A clothing wire for a clothing roller of a carding machine extends in a wire longitudinal direction and having a base segment, which is thicker transversely to the wire longitudinal direction. A leaf segment, which is narrower compared to the base segment, protrudes from the base segment. A plurality of teeth is formed on the leaf segment along the clothing wire in the wire longitudinal direction. Each tooth has two leaf segment lateral surfaces adjoining the base segment. On at least one of the leaf segment lateral surfaces, at least one projection is formed on each tooth. The cross-sectional profile of the projection is asymmetric and preferably has the contour of a nose. The design of the clothing wire results in a homogenization or parallelization of the fibers, with little wear of the clothing wire and less damage to the fibers.', image=<PIL.Image.Image image mode=RGB size=3000x2704 at 0x7F542C7EABD0>, label='D01G', model_output=None, messages=None, model_type='claude3haiku', mode=2)\n"
     ]
    },
    {
     "name": "stderr",
     "output_type": "stream",
     "text": [
      "96it [01:57,  1.21s/it]"
     ]
    },
    {
     "name": "stdout",
     "output_type": "stream",
     "text": [
      "Output: F16B, Expected: D01G, Current Accuracy: 0.16666666666666666, Token Usage: 0\n",
      "PatentData(text='The present invention consists of an improved System and Method for managing and operating a company on a global basis wherein company data, income, costs and expenditures may be assigned down to the level of Practice Group, Sub Practice Group, a Timekeeper or Local Profit Center. In lieu of managing a company by the top down from a main parent Global Corporation, an International company is managed horizontally by grouping workers into categories, and then managing those workers across Local Worker Groups, then Regional and then National. In such a manner, the company may run reports to show optimal profitability and management of workers.', image=<PIL.Image.Image image mode=RGB size=2445x3000 at 0x7F542C7F2DD0>, label='G06Q', model_output=None, messages=None, model_type='claude3haiku', mode=2)\n"
     ]
    },
    {
     "name": "stderr",
     "output_type": "stream",
     "text": [
      "97it [01:59,  1.28s/it]"
     ]
    },
    {
     "name": "stdout",
     "output_type": "stream",
     "text": [
      "Output: G06Q, Expected: G06Q, Current Accuracy: 0.17525773195876287, Token Usage: 0\n",
      "PatentData(text='Methods and compositions for environmentally-friendly weed control are provided. In particular, bioherbicide compositions are provided comprising plant extracts selected from Russian Olive, Austrian Pine, Tree of Heaven, Autumn Olive, and Black Walnut extract, either alone, or combination with at least one mulching substrate. Methods of using the herbicide compositions are also provided.', image=<PIL.Image.Image image mode=RGB size=2164x3000 at 0x7F542C7F2C10>, label='A01N', model_output=None, messages=None, model_type='claude3haiku', mode=2)\n"
     ]
    },
    {
     "name": "stderr",
     "output_type": "stream",
     "text": [
      "98it [02:00,  1.32s/it]"
     ]
    },
    {
     "name": "stdout",
     "output_type": "stream",
     "text": [
      "Output: A01B, Expected: A01N, Current Accuracy: 0.17346938775510204, Token Usage: 0\n",
      "PatentData(text='A stack array in a solid oxide fuel cell power generation system is provided. The stack array comprises a supporting body and a stack group, wherein the supporting body is in a layered structure and comprises one layer or at least two layers of supporting units; and on each layer of the supporting units, a plurality of stacks are sequentially arranged to form the stack group, and each stack is horizontal, and fasteners are provided between the stacks to enable the stack groups and the supporting units to form a pressurized fastening structure. The stack array of the present disclosure simplifies the arrangement of pipelines in the related art, enables effective pressurized fastening on the stacks, so as to allow the whole stack array to be compact and steady, while facilitating the detach, repair and maintenance of the stacks, which is favorable for the integration of the system.', image=<PIL.Image.Image image mode=RGB size=2370x3000 at 0x7F542C7E3210>, label='H01M', model_output=None, messages=None, model_type='claude3haiku', mode=2)\n"
     ]
    },
    {
     "name": "stderr",
     "output_type": "stream",
     "text": [
      "99it [02:01,  1.31s/it]"
     ]
    },
    {
     "name": "stdout",
     "output_type": "stream",
     "text": [
      "Output: F23C, Expected: H01M, Current Accuracy: 0.1717171717171717, Token Usage: 0\n",
      "PatentData(text='A method of access to a motor vehicle includes establishing contactless communication according to an NFC protocol between a badge of the motor vehicle and a smartphone, communicating an authentication key from the badge to the smartphone, transmitting the authentication key of the smartphone to a server by telephone communication, the server being capable of communicating with the vehicle, and recognizing the authentication key by the server and transmitting data concerning a status of the vehicle from the server to the smartphone.', image=<PIL.Image.Image image mode=RGB size=1807x2092 at 0x7F542C7E02D0>, label='G07C', model_output=None, messages=None, model_type='claude3haiku', mode=2)\n"
     ]
    },
    {
     "name": "stderr",
     "output_type": "stream",
     "text": [
      "100it [02:02,  1.24s/it]"
     ]
    },
    {
     "name": "stdout",
     "output_type": "stream",
     "text": [
      "Output: H04B, Expected: G07C, Current Accuracy: 0.17, Token Usage: 0\n",
      "PatentData(text='Provided are a method, device and system for implementing address sharing. An address pool configured for unified management over IP addresses is configured on an AAA server; and the AAA server may allocate an IP address to a CGN device according to the configured address pool. By such a technology for implementing address sharing in the present disclosure, IP address resource sharing among CGN devices is implemented, so that problems about resource load sharing among the CGN devices may be solved, a sharing rate of IP address resources is increased, and resource optimization may be implemented; and moreover, in terms of IP address management, a more available platform is provided for an operating company. In addition, the IP addresses are managed by the AAA server in a unified manner, and then the address pool is not required to be configured on the CGN device, so that the CGN device may be started without any address pool.', image=<PIL.Image.Image image mode=RGB size=1925x3000 at 0x7F542C7E2BD0>, label='H04L', model_output=None, messages=None, model_type='claude3haiku', mode=2)\n"
     ]
    },
    {
     "name": "stderr",
     "output_type": "stream",
     "text": [
      "102it [02:04,  1.03s/it]"
     ]
    },
    {
     "name": "stdout",
     "output_type": "stream",
     "text": [
      "Output: H04L, Expected: H04L, Current Accuracy: 0.17647058823529413, Token Usage: 0\n",
      "PatentData(text='An object of the present invention is to provide an orally disintegrating tablet (ultrafast-disintegrating tablet) having an extremely high disintegrability (short disintegration time), and a high tablet hardness, and to provide a simple method for the production of said ultrafast-disintegrating tablet without such a complicated process as freeze-drying. This invention relates to an orally disintegrating tablet comprising a first disintegrator component of an acid-type carboxymethylcellulose, and having a tablet hardness of 10 N or more and a disintegration time in water of less than 15 seconds, a method for the production of said orally disintegrating tablet, and to a disintegrative particulate composition for use in said method.', image=<PIL.Image.Image image mode=RGB size=2181x1795 at 0x7F542C7EA110>, label='A61K', model_output=None, messages=None, model_type='claude3haiku', mode=2)\n"
     ]
    },
    {
     "name": "stderr",
     "output_type": "stream",
     "text": [
      "103it [02:05,  1.07s/it]"
     ]
    },
    {
     "name": "stdout",
     "output_type": "stream",
     "text": [
      "Output: G01B, Expected: A61K, Current Accuracy: 0.17475728155339806, Token Usage: 0\n",
      "PatentData(text='A control valve including: a valve body, a flow shutter operatively interposed between an inlet and an outlet, a driving spindle having at least a first actuating end and a second end connected to the flow shutter. The valve also includes a differential pressure automatic regulation device, comprising: a cup-shaped body arranged around the driving spindle and axially mobile with respect to said driving spindle; a spring operatively interposed between the valve body and the cup-shaped body to push the latter away from the flow shutter; a rolling membrane having a radially inner edge fixed to the cup-shaped body and a radially outer edge fixed to the valve body to delimit a first chamber in fluid communication with the inlet and a second chamber in fluid communication with the outlet.', image=<PIL.Image.Image image mode=RGB size=1885x3000 at 0x7F542C7F30D0>, label='G05D', model_output=None, messages=None, model_type='claude3haiku', mode=2)\n"
     ]
    },
    {
     "name": "stderr",
     "output_type": "stream",
     "text": [
      "104it [02:07,  1.15s/it]"
     ]
    },
    {
     "name": "stdout",
     "output_type": "stream",
     "text": [
      "Output: F16C, Expected: G05D, Current Accuracy: 0.17307692307692307, Token Usage: 0\n",
      "PatentData(text='The invention relates to a high-pressure pump (1), in particular for a motor vehicle, for pumping a fluid, in particular fuel, such as diesel, comprising: a drive shaft (2), which is supported in such a way that the drive shaft can be rotated about an axis of rotation (26) and which has at least one cam (3); at least two pistons (5); at least two cylinders (6) for supporting the at least two pistons (5); wherein the pistons (5) each have a piston longitudinal axis (16) and the piston longitudinal axes (16) are oriented at an angle to each other in a projection of the piston longitudinal axes (16) in the direction of the axis of rotation (26) of the drive shaft (2) onto a fictitious projection plane perpendicular to the axis of rotation (26), wherein each of the at least two pistons (5) is supported on a shaft rolling surface (4) of the drive shaft (2) having the at least one cam (3) indirectly by means of a respective supporting element (14) having a supporting rolling surface (15), such that a translational motion can be performed by the at least two pistons (5) as the result of a rotational motion of the drive shaft (2), wherein the piston longitudinal axes (16) of the pistons (5) have an axial distance in the direction of the axis of rotation (26) of the drive shaft (2).', image=<PIL.Image.Image image mode=RGB size=1889x3000 at 0x7F542C7E2BD0>, label='F02M', model_output=None, messages=None, model_type='claude3haiku', mode=2)\n"
     ]
    },
    {
     "name": "stderr",
     "output_type": "stream",
     "text": [
      "105it [02:08,  1.18s/it]"
     ]
    },
    {
     "name": "stdout",
     "output_type": "stream",
     "text": [
      "Output: F16J, Expected: F02M, Current Accuracy: 0.17142857142857143, Token Usage: 0\n",
      "PatentData(text='The present invention relates to a liquid crystal display device that includes a particular color filter containing a material containing chiral liquid crystals and a particular pigment. The present invention provides a liquid crystal display device that can prevent a decrease in the voltage holding ratio (VHR) of a liquid crystal layer and solve the problem of display defects, such as white spots, variations in alignment, and burn-in. Because liquid crystal display devices according to the present invention characteristically prevent a decrease in the voltage holding ratio (VHR) of a liquid crystal layer and reduces the occurrence of display defects, such as burn-in, the liquid crystal display devices are particularly useful as liquid crystal display devices in IPS mode and FFS mode for active-matrix driving and can be applied to household electrical appliances, automobiles, production facilities, measuring and analytical instruments, and communication devices.', image=<PIL.Image.Image image mode=RGB size=1763x2370 at 0x7F542C7E3D50>, label='C09K', model_output=None, messages=None, model_type='claude3haiku', mode=2)\n"
     ]
    },
    {
     "name": "stderr",
     "output_type": "stream",
     "text": [
      "106it [02:09,  1.05s/it]"
     ]
    },
    {
     "name": "stdout",
     "output_type": "stream",
     "text": [
      "Output: B65D, Expected: C09K, Current Accuracy: 0.16981132075471697, Token Usage: 0\n",
      "PatentData(text='The invention relates to a bursting device (1) for a high-voltage device (2). The bursting device (1) is suitable in particular for on-load tap changers or high-voltage transformers filled with a filling medium such as gas or oil. The bursting device (1) according to the invention has a bursting cork (3) with support blocks (7) arranged on the inner surface (3B). A shear pin (8) is in arranged in each receiving block (7), said shear pin being divided into a first portion (8A) and a second portion (8B). The first portion (8A) of the shear pin (8) protrudes into the receiving block (7). The second portion (8B) of the shear pin (8) is arranged below the circumferential edge (9) of an opening (5) of the high-voltage device (2).', image=<PIL.Image.Image image mode=RGB size=2132x3000 at 0x7F542C7E38D0>, label='H01F', model_output=None, messages=None, model_type='claude3haiku', mode=2)\n"
     ]
    },
    {
     "name": "stderr",
     "output_type": "stream",
     "text": [
      "107it [02:10,  1.22s/it]"
     ]
    },
    {
     "name": "stdout",
     "output_type": "stream",
     "text": [
      "Output: G04B, Expected: H01F, Current Accuracy: 0.16822429906542055, Token Usage: 0\n",
      "PatentData(text='The present invention relates to a device for efficiently preparing magnesium hydroxide, comprising a material mixing tank, a pressure control linkage unit I, a reactor, a pressure control linkage unit II, a condenser, a three-way valve, a material storage tank, a pressure control linkage unit III and a vapor generator. The beneficial effect of the present invention is that magnesium hydroxide slurry can be prepared quickly and efficiently.', image=<PIL.Image.Image image mode=RGB size=1846x1896 at 0x7F542C7EA650>, label='C01F', model_output=None, messages=None, model_type='claude3haiku', mode=2)\n"
     ]
    },
    {
     "name": "stderr",
     "output_type": "stream",
     "text": [
      "108it [02:11,  1.07s/it]"
     ]
    },
    {
     "name": "stdout",
     "output_type": "stream",
     "text": [
      "Output: F15B, Expected: C01F, Current Accuracy: 0.16666666666666666, Token Usage: 0\n",
      "PatentData(text='An atomizer-humidifier includes a water reservoir and an atomizer module. The atomizer module has an atomizer housing and an oscillation element that can be induced to oscillate and which, in the normal mode of the humidifier, is covered by water. The humidifier also includes a device for supplying water from the water reservoir to a water receiving zone above the atomizer module. The atomizer module has at least one ultraviolet light source fastened to the atomizer module housing.', image=<PIL.Image.Image image mode=RGB size=2780x3000 at 0x7F542C7E2D10>, label='F24F', model_output=None, messages=None, model_type='claude3haiku', mode=2)\n"
     ]
    },
    {
     "name": "stderr",
     "output_type": "stream",
     "text": [
      "109it [02:13,  1.22s/it]"
     ]
    },
    {
     "name": "stdout",
     "output_type": "stream",
     "text": [
      "Output: G11B, Expected: F24F, Current Accuracy: 0.1651376146788991, Token Usage: 0\n",
      "PatentData(text='The invention relates to a bending press (1) for bending workpieces, comprising an upper tool (2) and a lower tool (3), a tool holder (4), in which the upper tool (2) is inserted, and a tool holder (5), in which the lower tool (3) is inserted, wherein the upper tool (2) and the lower tool (3) can be fixed in various positions within the respective tool holder (4, 5), a control device (13) for controlling the bending press (1), a sensor device (8), which is connected to the control device (13), and a stop (6) for positioning the workpiece within the bending press (1), wherein the stop (6) can be moved in relation to the tools (2, 3) by means of a drive (9) controlled by the control device (13). The sensor device (8) is designed to detect the position of the upper tool (2) and of the lower tool (3) within the bending press (1) without contact, and the control device (13) is designed to adapt the movement process by means of which the stop (6) is positioned in relation to the tools (2, 3), in dependence on the position of the upper tool (2) and of the lower tool (3) detected by means of the sensor device (8).', image=<PIL.Image.Image image mode=RGB size=3000x2568 at 0x7F542C7EB710>, label='B21D', model_output=None, messages=None, model_type='claude3haiku', mode=2)\n"
     ]
    },
    {
     "name": "stderr",
     "output_type": "stream",
     "text": [
      "110it [02:14,  1.17s/it]"
     ]
    },
    {
     "name": "stdout",
     "output_type": "stream",
     "text": [
      "Output: B41J, Expected: B21D, Current Accuracy: 0.16363636363636364, Token Usage: 0\n",
      "PatentData(text='There is provided an internal combustion engine, provided with a crankshaft and one or several cylinders provided on the wall thereof with exhaust ports and closed at the top by a cylinder head provided with intake ports; each cylinder accommodating an engine piston connected to the crankshaft and a coaxial auxiliary piston opposite the engine piston, defining an intake chamber and a combustion chamber; said auxiliary piston axially determining on the side of the combustion chamber a housing that communicates with the intake chamber via transfer ports, the housing of which includes a secondary piston which opens and closes the transfer ports in a back-and-forth movement between a rear position and a forward position.', image=<PIL.Image.Image image mode=RGB size=1813x3000 at 0x7F542C7F8850>, label='F01L', model_output=None, messages=None, model_type='claude3haiku', mode=2)\n"
     ]
    },
    {
     "name": "stderr",
     "output_type": "stream",
     "text": [
      "112it [02:15,  1.03s/it]"
     ]
    },
    {
     "name": "stdout",
     "output_type": "stream",
     "text": [
      "Output: B66C, Expected: F01L, Current Accuracy: 0.16071428571428573, Token Usage: 0\n",
      "PatentData(text='An electronically commutated motor has a rotor with a permanent magnet arrangement, a stator (30) with a bundle of laminations (32) and a winding (34). The bundle of laminations is, at at least at one axial end (32′), provided with an insulator (41) and the winding (34) has a plurality of coils (38A, 38B, 38C, 38D) that are wound from at least one winding wire (36); at least one winding wire contact element (50) which is attached to an insulator body (41) and mechanically and electrically conductive connected with at least one section (36A) of at least one winding wire (36); at least one contact track (60) with a first section (61) which is mechanically and electrically conductive connected to the winding wire contact element (50), a second section (62) which is arranged with an internal threaded part (65) with an internal thread (66) to enable an electrical connection of the winding (34) to the associated voltage source and a third section (63) which connects the first section (61) with the second section (62) electrically conductive.', image=<PIL.Image.Image image mode=RGB size=2746x3000 at 0x7F542C7E0410>, label='H02K', model_output=None, messages=None, model_type='claude3haiku', mode=2)\n"
     ]
    },
    {
     "name": "stderr",
     "output_type": "stream",
     "text": [
      "113it [02:17,  1.12s/it]"
     ]
    },
    {
     "name": "stdout",
     "output_type": "stream",
     "text": [
      "Output: H02P, Expected: H02K, Current Accuracy: 0.1592920353982301, Token Usage: 0\n",
      "PatentData(text='The present invention relates to a method for determining an amount of a peroxide in a sample, wherein the method comprises the steps of: —providing a sample, —contacting the sample with a terbium(III) benzene dicarboxylic acid complex, and —determining the luminescence of the terbium(III) benzene dicarboxylic acid complex.', image=<PIL.Image.Image image mode=RGB size=1692x3000 at 0x7F542C7F8550>, label='C12Q', model_output=None, messages=None, model_type='claude3haiku', mode=2)\n"
     ]
    },
    {
     "name": "stderr",
     "output_type": "stream",
     "text": [
      "114it [02:18,  1.13s/it]"
     ]
    },
    {
     "name": "stdout",
     "output_type": "stream",
     "text": [
      "Output: G01N, Expected: C12Q, Current Accuracy: 0.15789473684210525, Token Usage: 0\n",
      "PatentData(text='A method and apparatus for planning medical treatment, the method comprising: displaying a first image of a patient or a body part, wherein the body part is to be designed or operated on, the first image having first imaging characteristics; displaying a second image of the patient or the body part, the second image having imaging characteristics different from the first imaging characteristics; displaying an image of a model of the body part; receiving a user indication associated with adapting the model for the patient; and outputting a model adapted for the patient, the adapted model based on the model and on the user indication.', image=<PIL.Image.Image image mode=RGB size=1700x3000 at 0x7F542C7F1690>, label='A61C', model_output=None, messages=None, model_type='claude3haiku', mode=2)\n"
     ]
    },
    {
     "name": "stderr",
     "output_type": "stream",
     "text": [
      "115it [02:20,  1.30s/it]"
     ]
    },
    {
     "name": "stdout",
     "output_type": "stream",
     "text": [
      "Output: A61B, Expected: A61C, Current Accuracy: 0.1565217391304348, Token Usage: 0\n",
      "PatentData(text='The present invention discloses a 3D printer, comprising a printing chamber, and the printing chamber comprises a printing assembly and a loading platform inside, and the printing assembly is located above the loading platform, and the printing assembly comprises a printing support and a printing head assembly and a curing lamp assembly connected on the printing support, and the printing support is moved along a printing direction, and in the printing direction, the printing head assembly is in front of the curing lamp assembly, and the printing head assembly comprises a main printing head of printing a model mainbody and a sub printing head of printing support material, and material of the model mainbody is photosensitive resin, and a printing temperature inside the printing chamber is lower than a solidification temperature of the support material, and the support material is solidified at the printing temperature.', image=<PIL.Image.Image image mode=RGB size=3000x1719 at 0x7F542C7E35D0>, label='B29C', model_output=None, messages=None, model_type='claude3haiku', mode=2)\n"
     ]
    },
    {
     "name": "stderr",
     "output_type": "stream",
     "text": [
      "116it [02:21,  1.30s/it]"
     ]
    },
    {
     "name": "stdout",
     "output_type": "stream",
     "text": [
      "Output: F16L, Expected: B29C, Current Accuracy: 0.15517241379310345, Token Usage: 0\n",
      "PatentData(text='The present invention relates to an oligonucleotide structure and a method for preparing the same and, more particularly, to an oligonucleotide structure in which a polymer compound is linked to an oligonucleotide via a covalent bond to improve in vivo stability of the oligonucleotide and cellular delivery efficiency of the oligonucleotide; and to a method for preparing the same. The oligonucleotide structure is improved into a homogenous material, thereby solving the problem in material verification due to polydispersion characteristics occurring when a hydrophilic material linked to the oligonucleotide is a synthetic polymer; the oligonucleotide structure is easy to synthesize compared with the existing process; and the size of a double-stranded oligo RNA structure can be accurately adjusted through the control of the repetition number of a hydrophilic material block, and thus, the gene expression regulation function of the oligonucleotide does not deteriorate through the synthesis of the optimized oligonucleotide structure, and the oligonucleotide can be delivered into cells at even a relatively low-concentration dosage. Therefore, the oligonucleotide structure of the present invention can be useful as a novel type oligonucleotide delivery system as well as a tool for treating cancers, infectious diseases, and the like.', image=<PIL.Image.Image image mode=RGB size=2838x3000 at 0x7F542C7F9610>, label='C12N', model_output=None, messages=None, model_type='claude3haiku', mode=2)\n"
     ]
    },
    {
     "name": "stderr",
     "output_type": "stream",
     "text": [
      "118it [02:22,  1.02it/s]"
     ]
    },
    {
     "name": "stdout",
     "output_type": "stream",
     "text": [
      "Output: C12Q, Expected: C12N, Current Accuracy: 0.15254237288135594, Token Usage: 0\n",
      "PatentData(text='The present invention relates to a dengue virus-specific siRNA, a double-stranded oligo RNA structure comprising the siRNA, and a composition for inhibiting dengue virus replication, which comprises the same, in which the double-stranded oligo RNA structure comprises a hydrophilic compound and hydrophobic compound conjugated to both ends of the double-stranded RNA (siRNA) by a single covalent bond or a linker-mediated covalent bond so that they will be efficiently delivered into cells, and can be converted into nanoparticles by hydrophobic interactions between the double-stranded oligo RNA structures in an aqueous solution. The siRNA included in the double-stranded oligo RNA structure acts specifically on all dengue virus serotypes. The present invention also relates to a method for preparing the double-stranded oligo RNA structure, and a pharmaceutical composition for preventing or treating dengue virus infection, which comprises the double-stranded oligo RNA structure.', image=<PIL.Image.Image image mode=RGB size=2095x3000 at 0x7F542C7E1F50>, label='C12N', model_output=None, messages=None, model_type='claude3haiku', mode=2)\n"
     ]
    },
    {
     "name": "stderr",
     "output_type": "stream",
     "text": [
      "119it [02:23,  1.07s/it]"
     ]
    },
    {
     "name": "stdout",
     "output_type": "stream",
     "text": [
      "Output: G01N, Expected: C12N, Current Accuracy: 0.15126050420168066, Token Usage: 0\n",
      "PatentData(text='Described is a method for the production of 3-buten-2-one comprising the enzymatic conversion of 4-hydroxy-2-butanone into 3-buten-2-one by making use of an enzyme catalyzing 4-hydroxy-2-butanone dehydration, wherein said enzyme catalyzing 4-hydroxy-2-butanone dehydration is (a) a 3-hydroxypropiony-CoA dehydratase (EC 4.2.1.116), (b) a 3-hydroxybutyryl-CoA dehydratase (EC 4.2.1.55), (c) an enoyl-CoA hydratase (EC 4.2.1.17), (d) a 3-hydroxyoctanoyl-[acyl-carrier-protein] dehydratase (EC 4.2.1.59), (e) a crotonyl-[acyl-carrier-protein] hydratase (EC 4.2.1.58), (f) a 3-hydroxydecanoyl-[acyl-carrier-protein] dehydratase (EC 4.2.1.60), (g) a 3-hydroxypalmitoyl-[acyl-carrier-protein] dehydratase (EC 4.2.1.61), (h) a long-chain-enoyl-CoA hydratase (EC 4.2.1.74), or (i) a 3-methylglutaconyl-CoA hydratase (EC 4.2.1.18). The produced 3-buten-2-one can be further converted into 3-buten-2-ol and finally into 1,3-butadiene.', image=<PIL.Image.Image image mode=RGB size=2838x3000 at 0x7F542D6C0650>, label='C12P', model_output=None, messages=None, model_type='claude3haiku', mode=2)\n"
     ]
    },
    {
     "name": "stderr",
     "output_type": "stream",
     "text": [
      "120it [02:25,  1.13s/it]"
     ]
    },
    {
     "name": "stdout",
     "output_type": "stream",
     "text": [
      "Output: A61K, Expected: C12P, Current Accuracy: 0.15, Token Usage: 0\n",
      "PatentData(text='The present invention relates to a gene specific siRNA related with respiratory diseases, particularly, to a gene specific siRNA related with idiopathic pulmonary fibrosis and chronic obstructive pulmonary disease (COPD), and a highly efficient double-helical oligo RNA structure containing the same, wherein the double-helical oligo RNA structure has a structure in which hydrophilic and hydrophobic materials are bonded at the both ends of the double-helical RNA (siRNA) using a simple covalent bond or a linker-mediated covalent bond to be effectively transferred into a cell, and may be converted into nanoparticles by the hydrophobic interaction of the double-helical oligo RNA structure in a solution. It is desirable that the siRNA contained in the double-helical oligo RNA structure is a siRNA specific to a CTGF, Cyr61, or Plekho1, which are genes related with respiratory diseases, particularly idiopathic pulmonary fibrosis and COPD. In addition, the present invention relates to a method for producing the double-helical oligo RNA structure and a pharmaceutical composition containing the double-helical oligo RNA structure for preventing or treating respiratory diseases, particularly idiopathic pulmonary fibrosis and COPD.', image=<PIL.Image.Image image mode=RGB size=2860x3000 at 0x7F542C7FB110>, label='C12N', model_output=None, messages=None, model_type='claude3haiku', mode=2)\n"
     ]
    },
    {
     "name": "stderr",
     "output_type": "stream",
     "text": [
      "121it [02:26,  1.24s/it]"
     ]
    },
    {
     "name": "stdout",
     "output_type": "stream",
     "text": [
      "Output: C12Q, Expected: C12N, Current Accuracy: 0.1487603305785124, Token Usage: 0\n",
      "PatentData(text='The economic efficiency of wind turbines improves by upscaling but the weight to strength ratio deteriorates. This is especially true for the large shaft and bearing of the rotor, the gearbox and the generator. Solutions to this was the gearless generator, getting heavy because the amount of magnetic material is inversely proportional to speed, or several smaller generators adapted to the wind on a distribution gear as shown in references (1), (2) and (3). The large roller bearing of the rotor has relatively large bearing clearance so only the top or lower rollers bear the entire weight of the rotor and thus must be dimensioned relatively large. The present invention spreads the load on the support bearing to more rollers and to smaller faster running and thereby lighter generators. It has the rotor attached to the outer ring, each roller rotatably mounted to the nacelle and the inner ring free wheeling. The outer and inner rings are relatively stiffer than the rotatable fixation of the upper rollers to the nacelle, so that the upper rollers flex slightly down under the weight of the rotor allowing some of the force of gravity to be transferred to the inner ring and on to the bottom relatively stiff journalled rollers. Gear teeth can be used to transfer torque to all rollers, or the inner ring pressed against the side rollers, or the conical rollers can be pressed dynamically in between the outer and inner ring with relatively constant force. This is shown in FIGS. 1 and 6 in perspective and FIG. 2 and FIG. 3, in radial section. The relatively small roller shafts can now be used as PTO with gear ratio bearing diameter to roller diameter. The cost of the extra bearings for each roller is offset by savings in the usual center shaft and gear. Also, the friction from the edge of the outer or inner ring to keep the large rollers in place is missing. These benefits are especially important for wind turbines with heavy hub, axle and gear on a tall tower, and large wing rotor bearing clearance causing inappropriate vibrations of the long components. With no central hub shaft, gear and generator in the nacelle center there is space for force carrying structures as strong as the top of the tower to a point on the centre line of the rotor in front of it. To this a bearing for sustaining the varying moments of the wind can be affixed so the weight carrying bearing and gear unit can be designed cylindrical; or stays can be continued to other tower elements achieving a tower structure with significantly lower weight and higher natural frequency than usual wind moment influenced single column towers.', image=<PIL.Image.Image image mode=RGB size=3000x2470 at 0x7F542C7E1090>, label='F03D', model_output=None, messages=None, model_type='claude3haiku', mode=2)\n"
     ]
    },
    {
     "name": "stderr",
     "output_type": "stream",
     "text": [
      "122it [02:28,  1.24s/it]"
     ]
    },
    {
     "name": "stdout",
     "output_type": "stream",
     "text": [
      "Output: F16D, Expected: F03D, Current Accuracy: 0.14754098360655737, Token Usage: 0\n",
      "PatentData(text='A method for extracting coalbed gas. A wellhead device delivers power fluid into a downhole power fluid pipe in a well shaft, and conveys the fluid to a pump in a pump cylinder connected with the downhole power fluid pipe. The pump sucks in formation fluid via a suction inlet, mixes the fluid with the power fluid to produce a mixed fluid, and conveys the mixed fluid to ground surface. The mixed fluid containing coal dust travels at a flow rate greater than a sedimentation rate of the coal dust, passes though the wellhead device, and flows to the ground surface, thereby preventing a sedimentation of the coal dust. The suction inlet of the pump reaches a lower boundary of a coalbed so as to prevent coal dust from burying the coalbed, and the coalbed gas automatically shoots through an annular space of a well shaft casing.', image=<PIL.Image.Image image mode=RGB size=1505x3000 at 0x7F542C7E3190>, label='E21B', model_output=None, messages=None, model_type='claude3haiku', mode=2)\n"
     ]
    },
    {
     "name": "stderr",
     "output_type": "stream",
     "text": [
      "123it [02:29,  1.28s/it]"
     ]
    },
    {
     "name": "stdout",
     "output_type": "stream",
     "text": [
      "Output: F16L, Expected: E21B, Current Accuracy: 0.14634146341463414, Token Usage: 0\n",
      "PatentData(text='The present invention relates to set comprising an apparatus (100) for folding or unfolding at least one medical implant (300) by means of at least one tension thread (11, 11′), wherein the apparatus (100) comprises a shaft (1) and a tensioning device for altering a form or shape of the foldable and/or unfoldable implant (300) by means of the tension thread (11, 11′). In at least one shaft section thereof, the shaft (1) comprises a plurality of individual shaft fibers (13).', image=<PIL.Image.Image image mode=RGB size=2261x3000 at 0x7F542C7E1E90>, label='A61F', model_output=None, messages=None, model_type='claude3haiku', mode=2)\n"
     ]
    },
    {
     "name": "stderr",
     "output_type": "stream",
     "text": [
      "124it [02:30,  1.30s/it]"
     ]
    },
    {
     "name": "stdout",
     "output_type": "stream",
     "text": [
      "Output: B65D, Expected: A61F, Current Accuracy: 0.14516129032258066, Token Usage: 0\n",
      "PatentData(text='A mailbox assembly includes a replacement mailbox having an outer surface, a rib extending along the outer surface of the replacement mailbox, a notification device secured to a front end of the replacement mailbox. A method to replace a damaged mailbox includes providing a replacement mailbox having a geometric shape smaller than a geometric shape of the damaged mailbox, sliding the replacement mailbox within the damaged mailbox, and securing the replacement mailbox at a spaced distance within the damaged mailbox with a rib secured to an outer surface of the replacement mailbox.', image=<PIL.Image.Image image mode=RGB size=2282x3000 at 0x7F542C7FB250>, label='A47G', model_output=None, messages=None, model_type='claude3haiku', mode=2)\n"
     ]
    },
    {
     "name": "stderr",
     "output_type": "stream",
     "text": [
      "125it [02:32,  1.30s/it]"
     ]
    },
    {
     "name": "stdout",
     "output_type": "stream",
     "text": [
      "Output: E04C, Expected: A47G, Current Accuracy: 0.144, Token Usage: 0\n",
      "PatentData(text='A cooking apparatus comprises a heated compartment to warm cooking media that may be packaged in metal containers or the like. The heater system includes at least one heater disposed at a location to heat the bottom of the unused cooking medium container. The heater system may also include at least one heater disposed at a location to heat at least one side of the unused cooking medium container. A cooking apparatus comprises at least one supply reservoir, a fluid motive device, various enclosed cooking medium conductors or lines, a three-way valve that introduces air for purging the lines, and a cooking medium receiving system.', image=<PIL.Image.Image image mode=RGB size=1632x3000 at 0x7F542C7EBAD0>, label='A47J', model_output=None, messages=None, model_type='claude3haiku', mode=2)\n"
     ]
    },
    {
     "name": "stderr",
     "output_type": "stream",
     "text": [
      "126it [02:33,  1.25s/it]"
     ]
    },
    {
     "name": "stdout",
     "output_type": "stream",
     "text": [
      "Output: F16J, Expected: A47J, Current Accuracy: 0.14285714285714285, Token Usage: 0\n",
      "PatentData(text='A method of operating a turbine engine, the turbine engine having an inlet, a shaft, a turbine, a control system, a fuel system and a modular liquid fuel burner system having at least two interchangeable liquid burners and a liquid-fuel manifold. The control system controls a fuel supply via the liquid-fuel manifold to the burners dependent on demanded output power. The at least two interchangeable liquid fuel burners have different operating power output ranges and having at least a high power output liquid fuel burner and a low power output liquid fuel burner. The method of operating the turbine engine includes the steps of controlling a liquid fuel supply to the high power output burner for a high power output having a turbine entry temperature limit and controlling a liquid fuel supply to the low power output burner for a low power output having a liquid fuel manifold pressure limit.', image=<PIL.Image.Image image mode=RGB size=2090x3000 at 0x7F542C7EA750>, label='F02C', model_output=None, messages=None, model_type='claude3haiku', mode=2)\n"
     ]
    },
    {
     "name": "stderr",
     "output_type": "stream",
     "text": [
      "127it [02:34,  1.23s/it]"
     ]
    },
    {
     "name": "stdout",
     "output_type": "stream",
     "text": [
      "Output: F02D, Expected: F02C, Current Accuracy: 0.14173228346456693, Token Usage: 0\n",
      "PatentData(text='Hydrogels and composite material containing hydrogels and liposomes dispersed therein, which exhibit a reduced friction coefficient compared to neat hydrogels or composites containing hydrogels, processes for preparing the same, and methods for using the same are disclosed.', image=<PIL.Image.Image image mode=RGB size=2769x3000 at 0x7F542C7F3810>, label='A61L', model_output=None, messages=None, model_type='claude3haiku', mode=2)\n"
     ]
    },
    {
     "name": "stderr",
     "output_type": "stream",
     "text": [
      "128it [02:36,  1.61s/it]"
     ]
    },
    {
     "name": "stdout",
     "output_type": "stream",
     "text": [
      "Output: G01N, Expected: A61L, Current Accuracy: 0.140625, Token Usage: 0\n",
      "PatentData(text='A method for performing reactive sputtering processes while maintaining the sputtering characteristic at: the target as well as the deposition rate constant, or at least in an acceptable range for the industrial production context, independent of the target age.', image=<PIL.Image.Image image mode=RGB size=1778x3000 at 0x7F542C7F1BD0>, label='C23C', model_output=None, messages=None, model_type='claude3haiku', mode=2)\n"
     ]
    },
    {
     "name": "stderr",
     "output_type": "stream",
     "text": [
      "129it [02:38,  1.50s/it]"
     ]
    },
    {
     "name": "stdout",
     "output_type": "stream",
     "text": [
      "Output: G01N, Expected: C23C, Current Accuracy: 0.13953488372093023, Token Usage: 0\n",
      "PatentData(text='Recreational mobile structure for letting children play and for transporting and securing them while protecting them from falling objects, smoke and flames. The structure is also suitable to simultaneously fill the need of containing and entertaining children, as in a playpen, ensuring that they do not exit, and to store and transport toys.', image=<PIL.Image.Image image mode=RGB size=2798x1812 at 0x7F542C7FB250>, label='B62B', model_output=None, messages=None, model_type='claude3haiku', mode=2)\n"
     ]
    },
    {
     "name": "stderr",
     "output_type": "stream",
     "text": [
      "130it [02:38,  1.31s/it]"
     ]
    },
    {
     "name": "stdout",
     "output_type": "stream",
     "text": [
      "Output: B60P, Expected: B62B, Current Accuracy: 0.13846153846153847, Token Usage: 0\n",
      "PatentData(text='A device for cooling a target, having a component that includes a cooling duct and having an additional thermally conductive plate that is detachably fastened to the cooling side of the component, the cooling side being the side on which the cooling duct exerts its cooling action, characterized in that between the additional thermally conductive plate and the cooling side of the component, a first self-adhesive carbon film is provided, which is extensively and self-adhesively glued to the one side of the additional thermally conductive plate that faces the cooling side.', image=<PIL.Image.Image image mode=RGB size=3000x2735 at 0x7F542C7E2250>, label='H01J', model_output=None, messages=None, model_type='claude3haiku', mode=2)\n"
     ]
    },
    {
     "name": "stderr",
     "output_type": "stream",
     "text": [
      "131it [02:40,  1.30s/it]"
     ]
    },
    {
     "name": "stdout",
     "output_type": "stream",
     "text": [
      "Output: B23B, Expected: H01J, Current Accuracy: 0.13740458015267176, Token Usage: 0\n",
      "PatentData(text='It is an object of the present invention to provide a seal ring which has small oil leak and low torque generation performance for improving fuel consumption in a favorable balance as originally intended by the present invention. A seal ring (1) is mounted on an annular groove formed on one member consisting of either a housing having a shaft hole or a rotary shaft inserted into the shaft hole, contacts a surface of other member consisting of either the housing or the rotary shaft, and slidably contacts a side wall surface of the annular groove at a non-sealed fluid side thereof. V-shaped concave portions (3) which do not contact the side wall surface of the annular groove are formed on at least one portion of an end of an inner diameter side of a side surface (2) of the seal ring (1).', image=<PIL.Image.Image image mode=RGB size=2341x3000 at 0x7F542C7FB450>, label='F16J', model_output=None, messages=None, model_type='claude3haiku', mode=2)\n"
     ]
    },
    {
     "name": "stderr",
     "output_type": "stream",
     "text": [
      "132it [02:41,  1.37s/it]"
     ]
    },
    {
     "name": "stdout",
     "output_type": "stream",
     "text": [
      "Output: F16J, Expected: F16J, Current Accuracy: 0.14393939393939395, Token Usage: 0\n",
      "PatentData(text='A composite polymer composition comprising: the emulsion polymerization product of: (i) an aqueous polyolefin dispersion comprising the melt kneading product of one or more polyolefins, from 2 to 25 wt % of one or more dispersion stabilizing agents and water, and (ii) one or more (meth)acrylic monomers; wherein the one or more polyolefins have a Tg equal to or less than 50° C.; and wherein the melt kneading product (i) comprises polymer particles having a volume average particle size between 150 nm and 2000 nm dispersed in the water; and wherein the one or more (meth)acrylic monomers polymerize onto the polymer particles form composite polymer particles is provided. Also provided is a method of making the composition and impact modifiers comprising the composition.', image=<PIL.Image.Image image mode=RGB size=1136x3000 at 0x7F542C7F1BD0>, label='C08L', model_output=None, messages=None, model_type='claude3haiku', mode=2)\n"
     ]
    },
    {
     "name": "stderr",
     "output_type": "stream",
     "text": [
      "134it [02:42,  1.02it/s]"
     ]
    },
    {
     "name": "stdout",
     "output_type": "stream",
     "text": [
      "Output: C09K, Expected: C08L, Current Accuracy: 0.1417910447761194, Token Usage: 0\n",
      "PatentData(text='A method for coating workpieces includes the following steps: charging a coating chamber with the workpieces to be coated; closing and evacuating the coating chamber to a predetermined process pressure, starting a coating source, which comprises a target as a material source, whereby particles are accelerated from the surface of the target toward substrates, characterized in that until the target has been conditioned a shield is provided between the target surface and the substrate, wherein meanwhile the substrates to be coated are at least partially subjected to a pretreatment.', image=<PIL.Image.Image image mode=RGB size=1996x2679 at 0x7F542D6C0D10>, label='C23C', model_output=None, messages=None, model_type='claude3haiku', mode=2)\n"
     ]
    },
    {
     "name": "stderr",
     "output_type": "stream",
     "text": [
      "135it [02:43,  1.01s/it]"
     ]
    },
    {
     "name": "stdout",
     "output_type": "stream",
     "text": [
      "Output: G01N, Expected: C23C, Current Accuracy: 0.14074074074074075, Token Usage: 0\n",
      "PatentData(text='A computing system includes a plurality of processing circuits and a storage device. The processing circuits have at least a first processing circuit and a second processing circuit. The storage device is shared between at least the first processing circuit and the second processing circuit. The first processing circuit performs a whole cache flush operation to prepare exchange data in the storage device. The second processing circuit gets the exchange data from the storage device.', image=<PIL.Image.Image image mode=RGB size=3000x2439 at 0x7F542C7EAC10>, label='G06F', model_output=None, messages=None, model_type='claude3haiku', mode=2)\n"
     ]
    },
    {
     "name": "stderr",
     "output_type": "stream",
     "text": [
      "136it [02:45,  1.14s/it]"
     ]
    },
    {
     "name": "stdout",
     "output_type": "stream",
     "text": [
      "Output: G06F, Expected: G06F, Current Accuracy: 0.14705882352941177, Token Usage: 0\n",
      "PatentData(text='The present invention provides a method for manufacturing a quantum dot color filter. The method for manufacturing a quantum dot color filter of the present invention, after forming a blue sub-pixel part of a quantum dot color filter by applying a photolithographic operation to a transparent organic photoresist material, applies hydrophobicity treatment to the transparent organic photoresist layer so as to make use of hydrophobic characteristics so formed to help coat green quantum dot curable paste and red quantum dot photoresist sequentially on corresponding areas to form, in sequence, a green quantum dot curable paste layer and a red quantum dot photoresist layer located thereon, and then applies photolithographic operations to subject portions of the red quantum dot photoresist layer to etching for forming a green sub-pixel part and a red sub-pixel part of the quantum dot color filter, whereby compared to the conventional ways of manufacturing a quantum dot color filter, at least one round of photolithographic operation can be saved to greatly simplify the manufacturing process, reduce cost, and improve manufacturing efficiency, and it only needs to develop one type of quantum dot photoresist so as to greatly reduce difficulty and cost of development.', image=<PIL.Image.Image image mode=RGB size=3000x1730 at 0x7F542C7E9810>, label='G03F', model_output=None, messages=None, model_type='claude3haiku', mode=2)\n"
     ]
    },
    {
     "name": "stderr",
     "output_type": "stream",
     "text": [
      "137it [02:46,  1.15s/it]"
     ]
    },
    {
     "name": "stdout",
     "output_type": "stream",
     "text": [
      "Output: G03F, Expected: G03F, Current Accuracy: 0.15328467153284672, Token Usage: 0\n",
      "PatentData(text='The present invention relates to novel brazing filler metals comprising copper, silver, zinc, manganese and at least one metal selected from the group indium, gallium and tin, the brazing filler metal is free from cadmium and phosphorus, aside from unavoidable impurities, comprising copper, from 15.5 weight percent to 49 weight percent silver, from 10 weight percent to 35 weight percent zinc, from 6 weight percent to 19 weight percent manganese, from 0.1 weight percent to 5 weight percent of at least one metal selected from the group consisting of Indium, Gallium, Tin and combinations thereof, the balance being copper and unavoidable impurities, with the proviso that if the silver content is from 35 weight percent to 49 weight percent, the manganese content is more than 8 weight percent. The present invention further relates to a sandwich brazing filler metal, Use of the brazing filler metal, and a combination of a brazing filler metal with a flux and a method for joining metal parts by brazing, a brazed article.', image=<PIL.Image.Image image mode=RGB size=1804x1988 at 0x7F542C7E7FD0>, label='B23K', model_output=None, messages=None, model_type='claude3haiku', mode=2)\n"
     ]
    },
    {
     "name": "stderr",
     "output_type": "stream",
     "text": [
      "138it [02:47,  1.12s/it]"
     ]
    },
    {
     "name": "stdout",
     "output_type": "stream",
     "text": [
      "Output: B32B, Expected: B23K, Current Accuracy: 0.15217391304347827, Token Usage: 0\n",
      "PatentData(text='The subject of the invention is a device for dispensing a cosmetic composition, comprising a dispensing head (1) intended to be fitted on a container containing said cosmetic composition to be dispensed, (i) the dispensing head comprising: a body (3) that is open at its two opposite axial ends, an engaging part (10) that is open at its two opposite axial ends and at least partially defines at least one dispensing orifice (12), the cross section of the dispensing orifice being between 0.05 mm2 and 0.5 mm2, (ii) the anhydrous cosmetic composition comprising, in a cosmetically acceptable medium, at least one oily phase comprising one or more oils chosen from silicone oils, hydrocarbon-based oils and fluoro oils, at least one cosmetic active agent, in particular at least one deodorant active agent and/or antiperspirant active agent.', image=<PIL.Image.Image image mode=RGB size=1392x3000 at 0x7F542C803B50>, label='B65D', model_output=None, messages=None, model_type='claude3haiku', mode=2)\n"
     ]
    },
    {
     "name": "stderr",
     "output_type": "stream",
     "text": [
      "139it [02:49,  1.19s/it]"
     ]
    },
    {
     "name": "stdout",
     "output_type": "stream",
     "text": [
      "Output: F16H, Expected: B65D, Current Accuracy: 0.1510791366906475, Token Usage: 0\n",
      "PatentData(text='The present invention provides a photoresist composition and a color filter manufacturing method. The photoresist composition of the present invention includes a first solvent, a second solvent, a photo initiator, a monomer, a polymer, an additive, and a pigment. After heating, phase separation occurs between the first solvent and the second solvent. After the phase separation, the first solvent is located above the second solvent. At least one of the photo initiator, the monomer, the polymer, and the additive has solubility in the second solvent that is higher than that in the first solvent so as to alleviate the wrinkling issue caused by different degrees of solidification between upper and lower layers of the photoresist during a manufacturing process of a color filter.', image=<PIL.Image.Image image mode=RGB size=2902x2216 at 0x7F542C7F8650>, label='G03F', model_output=None, messages=None, model_type='claude3haiku', mode=2)\n"
     ]
    },
    {
     "name": "stderr",
     "output_type": "stream",
     "text": [
      "140it [02:49,  1.10s/it]"
     ]
    },
    {
     "name": "stdout",
     "output_type": "stream",
     "text": [
      "Output: G03C, Expected: G03F, Current Accuracy: 0.15, Token Usage: 0\n",
      "PatentData(text='The subject of the invention is a device for dispensing a cosmetic composition, comprising a dispensing head (1) intended to be fitted on a container containing said cosmetic composition to be dispensed, (i) the dispensing head comprising: a body (3) that is open at its two opposite axial ends, an engaging part (10) that is open at its two opposite axial ends and at least partially defines at least one dispensing orifice (12), the individual cross section of the dispensing orifice being between 0.03 mm2 and 0.5 mm2, and (ii) the cosmetic composition comprising, in a cosmetically acceptable medium, at least one emulsion chosen from a water-in-oil emulsion and an oil-in-water emulsion, at least one cosmetic active agent, in particular at least one deodorant active agent and/or antiperspirant active agent.', image=<PIL.Image.Image image mode=RGB size=2947x3000 at 0x7F542C7EB510>, label='A45D', model_output=None, messages=None, model_type='claude3haiku', mode=2)\n"
     ]
    },
    {
     "name": "stderr",
     "output_type": "stream",
     "text": [
      "141it [02:51,  1.16s/it]"
     ]
    },
    {
     "name": "stdout",
     "output_type": "stream",
     "text": [
      "Output: F16J, Expected: A45D, Current Accuracy: 0.14893617021276595, Token Usage: 0\n",
      "PatentData(text='The subject of the invention is a device for dispensing a cosmetic composition, said device comprising a dispensing head (1) intended to be fitted on a container containing said cosmetic composition to be dispensed, (i) the dispensing head comprising: a body (3) that is open at its two opposite axial ends, an engaging part (10) that is open at its two opposite axial ends and at least partially defines a dispensing orifice (12), and (ii) the cosmetic composition comprising, in a cosmetically acceptable medium, at least one cosmetic active agent, in particular at least one deodorant active agent and/or antiperspirant active agent, at least one C1 to C5 alcohol, at least one propellant, the concentration of propellant being between 60% and 90% by weight with respect to the total weight of the pressurized composition.', image=<PIL.Image.Image image mode=RGB size=3000x2694 at 0x7F542C7E0FD0>, label='B65D', model_output=None, messages=None, model_type='claude3haiku', mode=2)\n"
     ]
    },
    {
     "name": "stderr",
     "output_type": "stream",
     "text": [
      "142it [02:52,  1.28s/it]"
     ]
    },
    {
     "name": "stdout",
     "output_type": "stream",
     "text": [
      "Output: F16C, Expected: B65D, Current Accuracy: 0.14788732394366197, Token Usage: 0\n",
      "PatentData(text='The present invention relates to a band-rejection filter comprising, on a substrate with a ground plane, three printed line sections or “stubs” open circuit at one of their extremities, called first extremities, and first and second printed transmission lines connected in series between an input terminal and an output terminal and connecting between each other the other extremities, called second extremities, said stubs, each of said first and second transmission lines being inserted between the second extremities of two stubs, said stubs being dimensioned to reject a first frequency band. According to the invention, an open circuit stub is inserted in at least one of said first and second printed transmission lines to reject a second frequency band.', image=<PIL.Image.Image image mode=RGB size=2204x974 at 0x7F542C7FACD0>, label='H01P', model_output=None, messages=None, model_type='claude3haiku', mode=2)\n"
     ]
    },
    {
     "name": "stderr",
     "output_type": "stream",
     "text": [
      "143it [02:53,  1.12s/it]"
     ]
    },
    {
     "name": "stdout",
     "output_type": "stream",
     "text": [
      "Output: G01N, Expected: H01P, Current Accuracy: 0.14685314685314685, Token Usage: 0\n",
      "PatentData(text='The present invention relates to a tablet capable of sensing a location using electromagnetic induction and electrostatic capacitance. The tablet comprises: a loop antenna, having a closed-loop shape for surrounding a sensing area, capable of sensing an electromagnetic wave emitted from an electronic pen; a first line antenna provided with a plurality of first conductive patterns, both ends of each of the plurality of first conductive patterns being located on one side of the first line antenna; a second line antenna provided with a plurality of second conductive patterns which cross the plurality of first conductive patterns in the sensing area, both ends of each of the plurality of second conductive patterns being located on the side on which the both ends of each of the plurality of first conductive patterns are located; and a control circuit for sensing a location using electromagnetic induction and electrostatic capacitance by controlling a connection relation between the plurality of first conductive patterns and the plurality of second conductive patterns. Accordingly, it is possible to selectively recognize the manipulation of the electronic pen and the touch of a finger with the same antenna pattern.', image=<PIL.Image.Image image mode=RGB size=2677x3000 at 0x7F542C7EC290>, label='G06F', model_output=None, messages=None, model_type='claude3haiku', mode=2)\n"
     ]
    },
    {
     "name": "stderr",
     "output_type": "stream",
     "text": [
      "144it [02:55,  1.30s/it]"
     ]
    },
    {
     "name": "stdout",
     "output_type": "stream",
     "text": [
      "Output: H01Q, Expected: G06F, Current Accuracy: 0.14583333333333334, Token Usage: 0\n",
      "PatentData(text='A projection display component of an electronic device includes a carrier and a first cover. The carrier is arranged to carry the electronic device. The first cover is arranged to partially reflect a projected image from the electronic device. The first cover is attached to the carrier via a first hinge set.', image=<PIL.Image.Image image mode=RGB size=2480x3000 at 0x7F542C7ED110>, label='H04N', model_output=None, messages=None, model_type='claude3haiku', mode=2)\n"
     ]
    },
    {
     "name": "stderr",
     "output_type": "stream",
     "text": [
      "145it [02:56,  1.43s/it]"
     ]
    },
    {
     "name": "stdout",
     "output_type": "stream",
     "text": [
      "Output: G06F, Expected: H04N, Current Accuracy: 0.14482758620689656, Token Usage: 0\n",
      "PatentData(text='An aluminum alloy brazing sheet which is thin but has excellent weldability and post-brazing strength. An aluminum alloy brazing sheet having a core material comprising an aluminum alloy, an Al—Si based brazing filler metal clad on one surface of the core material and a sacrificial anode material clad on the other surface of the core material: wherein the core material comprises certain amounts of Si, Fe, Cu and Mn and certain amounts of one, two or more selected from Ti, Zr, Cr and V; the sacrificial anode material comprises certain amounts of Si, Fe, Mg and Zn; in a cross section parallel to the longitudinal direction and along the thickness direction, the interface between the core material and the sacrificial anode material includes 300 pieces/mm or less of an Al—Mg—Cu based intermetallic compound; and the core material and the sacrificial anode material have an unrecrystallized structure.', image=<PIL.Image.Image image mode=RGB size=1311x1710 at 0x7F542C7DC890>, label='F28F', model_output=None, messages=None, model_type='claude3haiku', mode=2)\n"
     ]
    },
    {
     "name": "stderr",
     "output_type": "stream",
     "text": [
      "146it [02:57,  1.20s/it]"
     ]
    },
    {
     "name": "stdout",
     "output_type": "stream",
     "text": [
      "Output: B29D, Expected: F28F, Current Accuracy: 0.14383561643835616, Token Usage: 0\n",
      "PatentData(text='A pneumatic tire includes plural land portions that are provided at a tread and that are partitioned by plural circumferential direction grooves that extend along a tire circumferential direction. A lug groove is provided at at least one land portion among the plural land portions and crosses the land portion in a tire width direction. A fine groove is provided at a groove bottom portion of the lug groove, has a narrower groove width than the lug groove, and has a groove bottom face formed with a circular arc shaped profile when viewed in cross-section at right angles to a groove length direction. A coupling curved face joins the groove bottom face and a groove side face at a length direction end portion of the fine groove, to a groove side face of the circumferential direction grooves.', image=<PIL.Image.Image image mode=RGB size=1948x3000 at 0x7F542C7E1890>, label='B60C', model_output=None, messages=None, model_type='claude3haiku', mode=2)\n"
     ]
    },
    {
     "name": "stderr",
     "output_type": "stream",
     "text": [
      "147it [02:59,  1.25s/it]"
     ]
    },
    {
     "name": "stdout",
     "output_type": "stream",
     "text": [
      "Output: A44C, Expected: B60C, Current Accuracy: 0.14285714285714285, Token Usage: 0\n",
      "PatentData(text='A forward and backward speed adjusting handle for an electric vehicle includes a bar handle, a fixing element formed by a handle seat, and a twist grip. A leftward rotation spring and a rightward rotation spring are provided between the fixing element and the twist grip. The leftward rotation spring drives the twist grip to rotate counter-clockwise relative to the bar handle; the rightward rotation spring drives the twist grip to rotate clockwise relative to the bar handle. Under a common effect of the two springs, the twist grip is at an idle position. When the twist grip is applied with an external force, the twist grip is rotated away from the idle position. A Hall-effect sensor and an arc permanent magnet are respectively provided on the twist grip and the fixing element. When the twist grip is rotated, the Hall-effect sensor moves relative to the arc permanent magnet.', image=<PIL.Image.Image image mode=RGB size=2752x3000 at 0x7F542C8026D0>, label='B62K', model_output=None, messages=None, model_type='claude3haiku', mode=2)\n"
     ]
    },
    {
     "name": "stderr",
     "output_type": "stream",
     "text": [
      "148it [03:00,  1.40s/it]"
     ]
    },
    {
     "name": "stdout",
     "output_type": "stream",
     "text": [
      "Output: F16B, Expected: B62K, Current Accuracy: 0.14189189189189189, Token Usage: 0\n",
      "PatentData(text='A memory pool management method includes: allocating a plurality of memory pools in a memory device according to information about a plurality of computing units, wherein the computing units are independently executed on a same processor; and assigning one of the memory pools to one of the computing units, wherein at least one of the memory pools is shared among different computing units of the computing units.', image=<PIL.Image.Image image mode=RGB size=1150x3000 at 0x7F542C7F8F50>, label='G06F', model_output=None, messages=None, model_type='claude3haiku', mode=2)\n"
     ]
    },
    {
     "name": "stderr",
     "output_type": "stream",
     "text": [
      "150it [03:02,  1.05s/it]"
     ]
    },
    {
     "name": "stdout",
     "output_type": "stream",
     "text": [
      "Output: G06F, Expected: G06F, Current Accuracy: 0.14666666666666667, Token Usage: 0\n",
      "PatentData(text='A jewelry system with interchangeable decorative segments is provided. The jewelry system includes a plurality of decorative segments, each such segment having a center aperture that extends through the segment along a vertical axis in the center of the segment from a top surface to a bottom surface. The jewelry system also includes a central rod for receiving one or more segments, the rod including a stopper at the lower end to support the received segments and an eyelet at the upper end to receive a chain which when received, prevents the received segments from slipping off the top part of the rod while also facilitating the jewelry to be worn.', image=<PIL.Image.Image image mode=RGB size=1848x2300 at 0x7F542C7FA110>, label='A44C', model_output=None, messages=None, model_type='claude3haiku', mode=2)\n"
     ]
    },
    {
     "name": "stderr",
     "output_type": "stream",
     "text": [
      "151it [03:02,  1.00it/s]"
     ]
    },
    {
     "name": "stdout",
     "output_type": "stream",
     "text": [
      "Output: A01K, Expected: A44C, Current Accuracy: 0.1456953642384106, Token Usage: 0\n",
      "PatentData(text='The invention relates to a fabric comprising at least one weft thread and at least one warp thread, wherein the fabric exhibits a polymer layer on at least one surface, characterized in that the diameter of the weft thread is larger than the diameter of the warp thread, the use of this fabric, as well as a process for the production thereof.', image=<PIL.Image.Image image mode=RGB size=2682x1422 at 0x7F542C7F8E10>, label='B08B', model_output=None, messages=None, model_type='claude3haiku', mode=2)\n"
     ]
    },
    {
     "name": "stderr",
     "output_type": "stream",
     "text": [
      "152it [03:03,  1.01it/s]"
     ]
    },
    {
     "name": "stdout",
     "output_type": "stream",
     "text": [
      "Output: E04C, Expected: B08B, Current Accuracy: 0.14473684210526316, Token Usage: 0\n",
      "PatentData(text='An electronic cigarette case, comprising a case body (2) and a case cover (1) movably connected to the case body (2), also comprising a flexible structure (3). One end of the flexible structure (3) is connected to the case body (2), while the other end is connected to the case cover (1). When opening the case cover (1), the flexible structure (3) undergoes a first elastic deformation along a moving direction of the case cover (1) relative to the case body (2). When closing the case cover (1), the flexible structure (3) undergoes a second elastic deformation in a direction opposite to the moving direction in which the first elastic deformation occurs. The electronic cigarette case is structurally simple and low-cost.', image=<PIL.Image.Image image mode=RGB size=1912x3000 at 0x7F542C7F89D0>, label='A24F', model_output=None, messages=None, model_type='claude3haiku', mode=2)\n"
     ]
    },
    {
     "name": "stderr",
     "output_type": "stream",
     "text": [
      "153it [03:04,  1.02s/it]"
     ]
    },
    {
     "name": "stdout",
     "output_type": "stream",
     "text": [
      "Output: B65D, Expected: A24F, Current Accuracy: 0.1437908496732026, Token Usage: 0\n",
      "PatentData(text='Rotary indexing device for manufacturing packaging tubes, comprising an indexing turntable (3) mounted in a rotary manner about an axis (9), and mandrels (4) and respective supports (14) secured to said turntable (3) and disposed radially with respect to said axis (9); radial actuating means (10, 11) for moving the mandrels (4) in a direction perpendicular to said axis (9) and linear guide means (13) for moving the mandrels (4) in a direction perpendicular to said axis (9); characterized in that the mandrels and respective supports (14), the radial actuating means (10, 11) and the linear guide means (13) are disposed in a direction parallel to said axis (9).', image=<PIL.Image.Image image mode=RGB size=3000x1574 at 0x7F542C7FB0D0>, label='B29C', model_output=None, messages=None, model_type='claude3haiku', mode=2)\n"
     ]
    },
    {
     "name": "stderr",
     "output_type": "stream",
     "text": [
      "154it [03:05,  1.01it/s]"
     ]
    },
    {
     "name": "stdout",
     "output_type": "stream",
     "text": [
      "Output: B64C, Expected: B29C, Current Accuracy: 0.14285714285714285, Token Usage: 0\n",
      "PatentData(text='An electromagnetic actuating apparatus with two armature means which are designed to exert an actuating force on two tappet units which are extended in the longitudinal direction along a longitudinal movement axis and are guided such that they can be moved in a parallel manner in a common guide section of a housing which accommodates the armature means, wherein the tappet units each have an engagement end which is designed to interact with an actuating groove in a motor vehicle motor adjustment system and projects from the guide section at least in an engaged state, and the common guide section forms a guide end surface in which guide openings associated with the two tappet units, are open, wherein a connecting path which runs through centre axes of the only two guide openings in the guide end surface forms an offset (v) from a surface centre point of the guide end surface and/or from a surface centre point of a housing end surface of the housing, wherein the surface centre point lies on a perpendicular bisector of the connecting path.', image=<PIL.Image.Image image mode=RGB size=2152x2434 at 0x7F542C7F1890>, label='F01L', model_output=None, messages=None, model_type='claude3haiku', mode=2)\n"
     ]
    },
    {
     "name": "stderr",
     "output_type": "stream",
     "text": [
      "155it [03:06,  1.07it/s]"
     ]
    },
    {
     "name": "stdout",
     "output_type": "stream",
     "text": [
      "Output: F16J, Expected: F01L, Current Accuracy: 0.14193548387096774, Token Usage: 0\n",
      "PatentData(text='A programming device creating a program in FBD language describing processes by connecting FBD parts on an editor screen, includes: a part information managing unit managing size information indicating a size of an FBD part; a recommended order determining unit acquiring, when operation to newly arrange an FBD part relative to an already-arranged FBD part on the editor screen is performed, size information on the already-arranged FBD part and size information on the FBD part to be newly arranged, from the part information managing unit, detecting regions where the FBD part to be newly arranged can be arranged based on the acquired size information, and determining a recommended priority order of part arrangement among the regions based on positions of the detected regions; and an editor unit displaying the recommended priority order determined by the recommended order determining unit in the regions.', image=<PIL.Image.Image image mode=RGB size=3000x2722 at 0x7F542C7FBF10>, label='G06F', model_output=None, messages=None, model_type='claude3haiku', mode=2)\n"
     ]
    },
    {
     "name": "stderr",
     "output_type": "stream",
     "text": [
      "156it [03:08,  1.06s/it]"
     ]
    },
    {
     "name": "stdout",
     "output_type": "stream",
     "text": [
      "Output: G06F, Expected: G06F, Current Accuracy: 0.14743589743589744, Token Usage: 0\n",
      "PatentData(text='A parenteral vial, stopper and cap assembly comprises a vial having a body defining an interior, and an opening leading to the interior. The assembly further comprises a stopper configured to sealingly engage the opening, a cap configured to cover the opening and the stopper. The stopper and the cap fit together to form an integral unit configured to cap the vial. The cap moves with respect to the vial between a partially engaged position that permits gas flow out from the vial interior, and a fully engaged position in which the stopper sealingly engages the opening.', image=<PIL.Image.Image image mode=RGB size=3000x2819 at 0x7F542C801310>, label='A61J', model_output=None, messages=None, model_type='claude3haiku', mode=2)\n"
     ]
    },
    {
     "name": "stderr",
     "output_type": "stream",
     "text": [
      "157it [03:09,  1.29s/it]"
     ]
    },
    {
     "name": "stdout",
     "output_type": "stream",
     "text": [
      "Output: B65D, Expected: A61J, Current Accuracy: 0.1464968152866242, Token Usage: 0\n",
      "PatentData(text='Many internet of things (IoT) are “sleepy” and thus occasionally go into a sleep mode. As described herein, nodes in a connected network of nodes may determine that other nodes in the network are sleepy. Further, nodes, such as endpoint devices and routers for example, may process packets in the network based on a reachability state of their neighboring nodes.', image=<PIL.Image.Image image mode=RGB size=1973x3000 at 0x7F542C7F84D0>, label='H04W', model_output=None, messages=None, model_type='claude3haiku', mode=2)\n"
     ]
    },
    {
     "name": "stderr",
     "output_type": "stream",
     "text": [
      "158it [03:11,  1.44s/it]"
     ]
    },
    {
     "name": "stdout",
     "output_type": "stream",
     "text": [
      "Output: H04L, Expected: H04W, Current Accuracy: 0.14556962025316456, Token Usage: 0\n",
      "PatentData(text='A system for preparing recipes with components coming from closed containers (S1-S5) provides for using one or more robotic units (1), each of which withdraws a selected container, arranging a plurality of hoppers (7.1-7.5), in each of which the withdrawn selected container is inserted by the robotic unit (1), and in each of which the container is automatically opened for loading the component into the hopper (7), discharging a preset component dose from each hopper (7), and collecting the dosed components for preparing the required recipe; a driving and control unit (15) provides for driving and controlling all of these operations as a function of the required recipe. Thereby, an automatic system for preparing recipes is achieved, which is fast, with a low processing cost, and free from risks related to the processing.', image=<PIL.Image.Image image mode=RGB size=3000x2505 at 0x7F542C800B10>, label='B01F', model_output=None, messages=None, model_type='claude3haiku', mode=2)\n"
     ]
    },
    {
     "name": "stderr",
     "output_type": "stream",
     "text": [
      "159it [03:12,  1.40s/it]"
     ]
    },
    {
     "name": "stdout",
     "output_type": "stream",
     "text": [
      "Output: F16K, Expected: B01F, Current Accuracy: 0.14465408805031446, Token Usage: 0\n",
      "PatentData(text='The present invention relates to sample holders for holding a sample, particularly for an atomic force microscope. Such a sample holder comprising a sample dish (1) comprising a bottom (2), and an opening (3) arranged in said bottom (2) for receiving and holding the sample (15). Furthermore the present invention relates to a sample holder system and to a method for transferring an e.g. biological sample (15) from a biopsy tool (18) to a sample holder.', image=<PIL.Image.Image image mode=RGB size=3000x2272 at 0x7F542C7F2FD0>, label='G01Q', model_output=None, messages=None, model_type='claude3haiku', mode=2)\n"
     ]
    },
    {
     "name": "stderr",
     "output_type": "stream",
     "text": [
      "160it [03:14,  1.33s/it]"
     ]
    },
    {
     "name": "stdout",
     "output_type": "stream",
     "text": [
      "Output: F16H, Expected: G01Q, Current Accuracy: 0.14375, Token Usage: 0\n",
      "PatentData(text='The invention relates to a carburetor assembly (10) for a two-stroke internal combustion engine, the assembly comprising a main intake passage (12) accommodating a throttle valve (30), an additional air passage (14) accommodating an additional air valve (50), a pivotable air valve lever (55) turning together with the air valve (50), and an interlock lever (35) turning together with the throttle valve (30). The interlock lever (35) is configured to be settable in an interlocked pivotal position, in which the throttle valve (30) is open to a certain degree in order to provide a start gas position of the throttle valve (30), wherein the interlock is arranged to be released if the interlock lever (35) is pivoted further in the opening direction of the throttle valve (30). The assembly further comprising a pivotable trigger lever (45) responsive to e.g. pulling of a throttle trigger and being operatively connected to the air valve lever (55). The pivotable trigger lever (45) is operatively connectable to the interlock lever (35) or a member that moves with the interlock lever (35) via an abutting engagement at predetermined relative positions of the trigger lever (45) and the interlock lever (35). Further, the trigger lever (45) is arranged to permit the interlock lever (35) to pivot away from the abutting engagement in the opening direction of the throttle valve (30) at least to an offset angle ( ) relative to the trigger lever (45), such that the interlocked lever (35) can be set in the interlocked position without affecting the pivotal position of the trigger lever (45).', image=<PIL.Image.Image image mode=RGB size=2382x2480 at 0x7F542C7F1090>, label='F02M', model_output=None, messages=None, model_type='claude3haiku', mode=2)\n"
     ]
    },
    {
     "name": "stderr",
     "output_type": "stream",
     "text": [
      "162it [03:15,  1.08it/s]"
     ]
    },
    {
     "name": "stdout",
     "output_type": "stream",
     "text": [
      "Output: F01L, Expected: F02M, Current Accuracy: 0.1419753086419753, Token Usage: 0\n",
      "PatentData(text='One variation may include a method of controlling exhaust gas flow in an internal combustion engine system, and products and systems using same.', image=<PIL.Image.Image image mode=RGB size=2560x3000 at 0x7F542C7F9DD0>, label='F01N', model_output=None, messages=None, model_type='claude3haiku', mode=2)\n"
     ]
    },
    {
     "name": "stderr",
     "output_type": "stream",
     "text": [
      "163it [03:17,  1.20s/it]"
     ]
    },
    {
     "name": "stdout",
     "output_type": "stream",
     "text": [
      "Output: F01L, Expected: F01N, Current Accuracy: 0.1411042944785276, Token Usage: 0\n",
      "PatentData(text='Methods and apparatus for connecting a user equipment to at least one of a plurality of radio access networks. Retrieving charging data for a subscription of a user of the telecommunications network. Transmitting the charging data to one or more of the user equipment and a radio access network node of the one or more of the plurality of radio access networks. Selecting, at least partially, at least one of the plurality of radio access networks based on one or more of: the charging data received from the core network node and selection data received from the user equipment and relating to a selection of one of the plurality of radio access networks by the user equipment. Connecting the user equipment to at least one of the plurality of radio access nodes, the connection being based at least partly on the selection made by the radio access network selector of the radio access network node.', image=<PIL.Image.Image image mode=RGB size=3000x2710 at 0x7F542C7F8A10>, label='H04W', model_output=None, messages=None, model_type='claude3haiku', mode=2)\n"
     ]
    },
    {
     "name": "stderr",
     "output_type": "stream",
     "text": [
      "164it [03:18,  1.26s/it]"
     ]
    },
    {
     "name": "stdout",
     "output_type": "stream",
     "text": [
      "Output: H04W, Expected: H04W, Current Accuracy: 0.14634146341463414, Token Usage: 0\n",
      "PatentData(text='In a programmable controller system, a program display device includes: a command name conversion table; a second conversion unit that receives a program list from a programmable controller and converts a command number described in the program list into a command name on the basis of a command name conversion table; a non-corresponding command name acquisition unit that acquires a command name corresponding to a non-corresponding command number among the command numbers described in the program list on the basis of an additional command information table; and a display unit that displays the command name converted by the second conversion unit and the command name acquired by the non-corresponding command name acquisition unit.', image=<PIL.Image.Image image mode=RGB size=2985x3000 at 0x7F542C8017D0>, label='G05B', model_output=None, messages=None, model_type='claude3haiku', mode=2)\n"
     ]
    },
    {
     "name": "stderr",
     "output_type": "stream",
     "text": [
      "165it [03:19,  1.26s/it]"
     ]
    },
    {
     "name": "stdout",
     "output_type": "stream",
     "text": [
      "Output: G06F, Expected: G05B, Current Accuracy: 0.14545454545454545, Token Usage: 0\n",
      "PatentData(text='The present invention relates to a unit and a method for energy regulation of an electrical production and consumption system as well as such a system. The regulating unit (1) comprises means for storing a plurality of estimated mean production and/or consumption values, means for decoding the instantaneous productions and/or consumption thus measured, processing means for calculating the average instantaneous productions and/or consumption measured per given time period, calculating and recording the deviation between each instantaneous average production or consumption thus calculated and each estimated production or consumption value, and formulating/generating and revising an estimated and previously recorded production and/or consumption value, as well as means for driving the system regulation means according to a function whose parameters comprise the production and/or consumption values estimated for the current given time period.', image=<PIL.Image.Image image mode=RGB size=1661x3000 at 0x7F542C7F00D0>, label='G05F', model_output=None, messages=None, model_type='claude3haiku', mode=2)\n"
     ]
    },
    {
     "name": "stderr",
     "output_type": "stream",
     "text": [
      "166it [03:20,  1.17s/it]"
     ]
    },
    {
     "name": "stdout",
     "output_type": "stream",
     "text": [
      "Output: G06F, Expected: G05F, Current Accuracy: 0.14457831325301204, Token Usage: 0\n",
      "PatentData(text='The present invention relates to novel alternative splice transcripts (AST) for MICA (MHC class I related chain alpha) encoding novel MICA protein isoforms and uses thereof. In particular, the present invention relates to an isolated polypeptide at least 80% of identity with a sequence selected from the group consisting of SEQ ID NO:1 (MICA-A), SEQ ID NO:2 (MICA-B1), SEQ ID NO:3 (MICA-B2); SEQ ID NO:4 (MICA-C) and SEQ ID NO: (MICA-D).', image=<PIL.Image.Image image mode=RGB size=3000x2612 at 0x7F542C7F8410>, label='C07K', model_output=None, messages=None, model_type='claude3haiku', mode=2)\n"
     ]
    },
    {
     "name": "stderr",
     "output_type": "stream",
     "text": [
      "167it [03:22,  1.24s/it]"
     ]
    },
    {
     "name": "stdout",
     "output_type": "stream",
     "text": [
      "Output: C12N, Expected: C07K, Current Accuracy: 0.1437125748502994, Token Usage: 0\n",
      "PatentData(text='A display device, a reflective display panel and the reflective unit are disclosed. The reflective display panel includes a top substrate unit; a down substrate unit opposite to the top substrate unit; a liquid crystal layer arranged between the top substrate unit and the down substrate unit; a mirror reflective layer arranged at an inner side of the down substrate unit; a color-film polarizer unit arranged at an outer side of the top substrate unit; and wherein external light beams are reflected by the mirror reflective layer and pass through the color-film polarizer unit to generate diffused reflection effect. Compared to conventional technology, the cost of the mask may be reduced and the manufacturing process may be simplified. In this way, the defects are avoided and the reflection performance is enhanced.', image=<PIL.Image.Image image mode=RGB size=2396x602 at 0x7F542C7F9690>, label='G02F', model_output=None, messages=None, model_type='claude3haiku', mode=2)\n"
     ]
    },
    {
     "name": "stderr",
     "output_type": "stream",
     "text": [
      "169it [03:22,  1.23it/s]"
     ]
    },
    {
     "name": "stdout",
     "output_type": "stream",
     "text": [
      "Output: G09B, Expected: G02F, Current Accuracy: 0.14201183431952663, Token Usage: 0\n",
      "PatentData(text='A control method for an electrical hair removal device, the electrical hair removal device including a heat generator having a heating wire formed thereon, including the steps of step S11: starting the electrical hair removal device and letting it go into a standby state; step S12: placing the heat generator on an hair removal needed area; and step S13: electrifying the heating wire to a predetermined temperature, for realizing hair removal with a constant heating temperature. An electrical hair removal device includes a main body and a cover for accommodating the main body. The main body has a heat generator having a heating wire thereon, a supporting element and a printed circuit board (PCB). The heating wire is electrically connected to the PCB, which is electrified and heated to a predetermined temperature, for realizing hair removal with a constant heating temperature.', image=<PIL.Image.Image image mode=RGB size=1625x3000 at 0x7F542C7E2D90>, label='A45D', model_output=None, messages=None, model_type='claude3haiku', mode=2)\n"
     ]
    },
    {
     "name": "stderr",
     "output_type": "stream",
     "text": [
      "170it [03:24,  1.14s/it]"
     ]
    },
    {
     "name": "stdout",
     "output_type": "stream",
     "text": [
      "Output: F41C, Expected: A45D, Current Accuracy: 0.1411764705882353, Token Usage: 0\n",
      "PatentData(text='Methods of compensating for source signature effects in seismic data are described. One method includes a step of receiving seismic data recorded with a receiver; a step of receiving source data of the seismic waves generated by the moving source; a step of receiving position data of the source while generating the seismic waves; a step of determining a transform operator using the source data, the position data, and a selected domain-transform operator; a step of determining a seismic model by mathematically optimizing a relationship between the transform and the seismic data; and a step of compensating for the source signature effects in the seismic data using the seismic model. A method for generating an image of a subsurface of a geographical area using seismic data includes compensating the seismic data for source signature effects using a model which assumes a moving, non-impulsive source.', image=<PIL.Image.Image image mode=RGB size=3000x2315 at 0x7F542C7EDED0>, label='G01V', model_output=None, messages=None, model_type='claude3haiku', mode=2)\n"
     ]
    },
    {
     "name": "stderr",
     "output_type": "stream",
     "text": [
      "171it [03:26,  1.29s/it]"
     ]
    },
    {
     "name": "stdout",
     "output_type": "stream",
     "text": [
      "Output: G01N, Expected: G01V, Current Accuracy: 0.14035087719298245, Token Usage: 0\n",
      "PatentData(text='An electrode slipping device comprises an upper holder and a lower holder, both holders containing one or more clamping shoes and one or more clamping cylinders in cooperation with the clamping shoes. The clamping shoes are operable between a position where the electrode is clamped and a position where the electrode is unclamped. The clamping cylinder is connected to the electrode holder by first fastening means and to the clamping shoe by second fastening means such that the clamping cylinder can be released from engagement with the holder by unlocking both sets of fastening means.', image=<PIL.Image.Image image mode=RGB size=2037x3000 at 0x7F542C7F2110>, label='H05B', model_output=None, messages=None, model_type='claude3haiku', mode=2)\n"
     ]
    },
    {
     "name": "stderr",
     "output_type": "stream",
     "text": [
      "172it [03:27,  1.27s/it]"
     ]
    },
    {
     "name": "stdout",
     "output_type": "stream",
     "text": [
      "Output: F16D, Expected: H05B, Current Accuracy: 0.13953488372093023, Token Usage: 0\n",
      "PatentData(text='An internal combustion heat engine, of which the architecture of one elementary “cylinder” includes 4 identical mobile couplings distributed about the Z axis of the engine, consisting of a segmented “piston” driven by the crank pin of a crankshaft and guided by a roller rolling in a slide. The crankshafts, which are parallel and synchronised by a gear mechanism, perform one revolution per cycle. Each piston includes a sliding surface that nearly touches the cylinder face of the adjacent piston, but on which the segmentation slides in sealed contact. The concave shape of the 4 overlapping faces encloses a chamber volume that changes cyclically: at a minimum, having a quasi-spherical shape during combustion, reducing the heat losses at the walls, and at a maximum, uncovering the ports allowing intake and exhaust via transfer units and manifolds with the possibility of more economical Miller/Atkinson distribution, via rotary plates.', image=<PIL.Image.Image image mode=RGB size=3000x2340 at 0x7F542C7EC650>, label='F01B', model_output=None, messages=None, model_type='claude3haiku', mode=2)\n"
     ]
    },
    {
     "name": "stderr",
     "output_type": "stream",
     "text": [
      "173it [03:29,  1.53s/it]"
     ]
    },
    {
     "name": "stdout",
     "output_type": "stream",
     "text": [
      "Output: F16L, Expected: F01B, Current Accuracy: 0.13872832369942195, Token Usage: 0\n",
      "PatentData(text='A method for screening catalytic peptides using phage display technology is disclosed. A compound is exposed to a phage library. If a peptide in the library catalyzes a reaction, a gel is formed about the phage that displays the peptide. The gel, including the first phage, is separated from un-reacted phages and released from the gel. The phage is then replicated and analyzed to determine the composition of the peptide that functioned as a catalyst.', image=<PIL.Image.Image image mode=RGB size=2578x3000 at 0x7F542C7E9310>, label='C12N', model_output=None, messages=None, model_type='claude3haiku', mode=2)\n"
     ]
    },
    {
     "name": "stderr",
     "output_type": "stream",
     "text": [
      "174it [03:32,  1.68s/it]"
     ]
    },
    {
     "name": "stdout",
     "output_type": "stream",
     "text": [
      "Output: C12P, Expected: C12N, Current Accuracy: 0.13793103448275862, Token Usage: 0\n",
      "PatentData(text='An electromagnetic valve device with an armature unit (10) which is designed for carrying out an opening or closing operation of a fluid channel and, as a reaction to stationary coil means (18, 20, 22), which at least partially surround the armature unit, being energized, is driveable so as to be movable along an axial direction (12) relative thereto, wherein the coil means have a coil former (20) which forms a winding section (20) for a winding (22) to be energized, and the coil former forms an axially extending inner casing which is designed for guiding the armature unit and in the lateral surface of which slot- or groove-like channels (54) permitting drainage of an armature movement space are formed, wherein the coil former provides a channel outlet (56) for the channels (54) lying axially opposite an inlet- or respectively outlet section (24) of the fluid channel and on the end face, with which channel outlet blocking and/or deflection means against infiltrating intrusive media are associated.', image=<PIL.Image.Image image mode=RGB size=3000x2537 at 0x7F542C7F2B90>, label='F16K', model_output=None, messages=None, model_type='claude3haiku', mode=2)\n"
     ]
    },
    {
     "name": "stderr",
     "output_type": "stream",
     "text": [
      "175it [03:33,  1.56s/it]"
     ]
    },
    {
     "name": "stdout",
     "output_type": "stream",
     "text": [
      "Output: F16B, Expected: F16K, Current Accuracy: 0.13714285714285715, Token Usage: 0\n",
      "PatentData(text='An apparatus (10) and method for controlling an angular position of a camshaft (12) in an internal combustion engine having a camshaft phaser (14) for controllably varying the phase relationship between a crankshaft of the internal combustion engine and the camshaft (12). The camshaft phaser (14) can be actuated by an electric motor (16) having an actuator shaft (18) operating through a gear reduction drive train (20) having a stationary adjusting member (22) which rotates when a phase change adjustment is desired. A sensor (30) can generate a signal corresponding to an angular position of the stationary adjusting member (22) of the gear reduction drive train (20). An engine control unit (40) can adjust a position of the camshaft (12) through operation of the electric motor (16) for rotating the stationary adjusting member (22) based on the generated signal corresponding to the angular position of the stationary adjusting member (22).', image=<PIL.Image.Image image mode=RGB size=3000x2441 at 0x7F542C7E9090>, label='F01L', model_output=None, messages=None, model_type='claude3haiku', mode=2)\n"
     ]
    },
    {
     "name": "stderr",
     "output_type": "stream",
     "text": [
      "176it [03:35,  1.65s/it]"
     ]
    },
    {
     "name": "stdout",
     "output_type": "stream",
     "text": [
      "Output: F16C, Expected: F01L, Current Accuracy: 0.13636363636363635, Token Usage: 0\n",
      "PatentData(text='The present invention is related to an intermediate node, an end node, and method for avoiding latency in a packet-switched network. According to the invention, the maximum bandwidth per flow is determined locally and transferred from the sending node to the receiving node. At each node, the information is updated if a lower local value is computed. By adjusting the transmission rate based on the maximum bandwidth per flow receiving at the receiving node, the link capacity can be optimally utilized and congestion can be minimized.', image=<PIL.Image.Image image mode=RGB size=3000x1322 at 0x7F542C7FAD10>, label='H04L', model_output=None, messages=None, model_type='claude3haiku', mode=2)\n"
     ]
    },
    {
     "name": "stderr",
     "output_type": "stream",
     "text": [
      "177it [03:36,  1.41s/it]"
     ]
    },
    {
     "name": "stdout",
     "output_type": "stream",
     "text": [
      "Output: H04L, Expected: H04L, Current Accuracy: 0.14124293785310735, Token Usage: 0\n",
      "PatentData(text='A workpiece having a coating which has at least one TiB2 layer, characterized in that the TiB2 layers have a texture, in the XRD-spectrum, which leads to significant peaks which display a pronounced (002) orientation. The invention also relates to a method for producing said type of workpiece with a coating.', image=<PIL.Image.Image image mode=RGB size=1621x2444 at 0x7F542C7F1F50>, label='C23C', model_output=None, messages=None, model_type='claude3haiku', mode=2)\n"
     ]
    },
    {
     "name": "stderr",
     "output_type": "stream",
     "text": [
      "178it [03:37,  1.30s/it]"
     ]
    },
    {
     "name": "stdout",
     "output_type": "stream",
     "text": [
      "Output: G01N, Expected: C23C, Current Accuracy: 0.1404494382022472, Token Usage: 0\n",
      "PatentData(text='A video decoding method includes determining, from among a first sample and a second sample with different color components, at least one second sample that is used to correct a value of the first sample; determining a filter parameter set based on a band including the value of the first sample, wherein the band is from among a plurality of bands determined by dividing a total range of sample values into signaled intervals or predetermined intervals; and filtering a value of the at least one second sample by using the determined filter parameter set and correcting the value of the first sample by using a value obtained by the filtering, wherein the first sample is any one of a luma sample and a chroma sample, and the second sample is any one of the luma sample and the chroma sample that is not the first sample.', image=<PIL.Image.Image image mode=RGB size=3000x2061 at 0x7F542C7DF310>, label='H04N', model_output=None, messages=None, model_type='claude3haiku', mode=2)\n"
     ]
    },
    {
     "name": "stderr",
     "output_type": "stream",
     "text": [
      "179it [03:38,  1.40s/it]"
     ]
    },
    {
     "name": "stdout",
     "output_type": "stream",
     "text": [
      "Output: G06F, Expected: H04N, Current Accuracy: 0.13966480446927373, Token Usage: 0\n",
      "PatentData(text='A heat transfer profile has coaxial cylindrical inner and outer peripheries. A cylindrical first space is formed inside the inner periphery. The cylindrical outer periphery has a shape cut on at least one side. Blade-like heat transfer flanges extend between and contact both the inner periphery and the outer periphery. A second space is provided inside the cut part of the outer periphery, defined in part by a section of the inner periphery and two heat transfer flanges. The second space is open at least from the cut side of the outer periphery to the exterior of the outer periphery.', image=<PIL.Image.Image image mode=RGB size=3000x1678 at 0x7F542C7EAD90>, label='F28F', model_output=None, messages=None, model_type='claude3haiku', mode=2)\n"
     ]
    },
    {
     "name": "stderr",
     "output_type": "stream",
     "text": [
      "180it [03:39,  1.29s/it]"
     ]
    },
    {
     "name": "stdout",
     "output_type": "stream",
     "text": [
      "Output: F16B, Expected: F28F, Current Accuracy: 0.1388888888888889, Token Usage: 0\n",
      "PatentData(text=\"A bone screw includes a screw shaft with an external thread. The screw shaft anchors the bone screw in a bone. A proximal end of the screw shaft includes a screw head. The ratio between the outer thread diameter and the thread core diameter increases toward the screw head in a proximal screw shaft portion or in the area of the thread's run-out.\", image=<PIL.Image.Image image mode=RGB size=3000x936 at 0x7F542C7EA010>, label='A61B', model_output=None, messages=None, model_type='claude3haiku', mode=2)\n"
     ]
    },
    {
     "name": "stderr",
     "output_type": "stream",
     "text": [
      "181it [03:40,  1.19s/it]"
     ]
    },
    {
     "name": "stdout",
     "output_type": "stream",
     "text": [
      "Output: F42B, Expected: A61B, Current Accuracy: 0.13812154696132597, Token Usage: 0\n",
      "PatentData(text='A method for continuously detecting a fill level of a conveyor for transporting containers on a transport plane includes forming a container stream along said first transport section of the conveyor, forming a container knot at a measuring section, the container knot comprising a tightly packed multi-row stream of containers, using a first contactless distance sensor, measuring a distance from a first side of the measuring section to the container knot, and, based on the measured distance, determining a fill level of the conveyor.', image=<PIL.Image.Image image mode=RGB size=1594x3000 at 0x7F542C7FAAD0>, label='B65G', model_output=None, messages=None, model_type='claude3haiku', mode=2)\n"
     ]
    },
    {
     "name": "stderr",
     "output_type": "stream",
     "text": [
      "182it [03:41,  1.22s/it]"
     ]
    },
    {
     "name": "stdout",
     "output_type": "stream",
     "text": [
      "Output: F16L, Expected: B65G, Current Accuracy: 0.13736263736263737, Token Usage: 0\n",
      "PatentData(text='Provided are a method and a system for theme management. According to the method, a client obtains a desktop theme, extracts characteristic value information of one or more comparative items from the desktop theme, then sends the characteristic value information of the one or more comparative items of the desktop theme to the theme management server; the theme management server calculates and obtains similarity degrees between a plurality of desktop themes and a pre-selected reference desktop theme by using a plurality of similarity-degree-calculation-dimensions; ranks the similarity degrees of the plurality of desktop themes; selects a pre-determined number of desktop themes whose similarity degrees are of top ranks and/or bottom ranks, and then sends the selected desktop themes to the client; the client displays to a user a list of desktop themes sent from the theme management server.', image=<PIL.Image.Image image mode=RGB size=3000x2767 at 0x7F542C7F3D90>, label='G06F', model_output=None, messages=None, model_type='claude3haiku', mode=2)\n"
     ]
    },
    {
     "name": "stderr",
     "output_type": "stream",
     "text": [
      "183it [03:43,  1.23s/it]"
     ]
    },
    {
     "name": "stdout",
     "output_type": "stream",
     "text": [
      "Output: G06F, Expected: G06F, Current Accuracy: 0.14207650273224043, Token Usage: 0\n",
      "PatentData(text='A device for moving at least one cutting and welding arrangement able to cut, then weld a tail of a first metal strip to a head of a second metal strip, includes at least one first carriage holding at least one welding head. The first carriage is movable over a guide path following a first course across a transverse strip region. At least one second carriage is movable separately from the first carriage and holds a cutting head. The second carriage is movable on a guide path following a second course. The welding head is used exclusively for a welding mode, the second carriage is used exclusively for a cutting mode and the two carriages have parked positions on either side of the tail and head widths of the strips. A welding method which is associated with the device is also provided.', image=<PIL.Image.Image image mode=RGB size=2036x3000 at 0x7F542C7F3610>, label='B23Q', model_output=None, messages=None, model_type='claude3haiku', mode=2)\n"
     ]
    },
    {
     "name": "stderr",
     "output_type": "stream",
     "text": [
      "184it [03:44,  1.29s/it]"
     ]
    },
    {
     "name": "stdout",
     "output_type": "stream",
     "text": [
      "Output: F15B, Expected: B23Q, Current Accuracy: 0.14130434782608695, Token Usage: 0\n",
      "PatentData(text='A device and a method for operating decentralized functional units in an industrial system include a) a higher-level control system which exchanges information with the decentralized functional units by data telegrams, b) a data transport network with network access points; c) communication units connected to a network access point and providing the decentralized functional units with access to the data transport network; d) an energy transport network to which the decentralized functional units are connected and which supplies electric energy to the decentralized functional units; e) intelligent energy storage devices connected to the energy transport network and consuming or outputting energy in accordance with the higher-level control system and/or with at least one of the remaining energy storage devices. The energy transport network has energy supply points distributed along a bus structure. Selectively one of at least two independent energy backbones can supply corresponding electric power to the supply points.', image=<PIL.Image.Image image mode=RGB size=2016x3000 at 0x7F542C7FB190>, label='B61L', model_output=None, messages=None, model_type='claude3haiku', mode=2)\n"
     ]
    },
    {
     "name": "stderr",
     "output_type": "stream",
     "text": [
      "185it [03:45,  1.25s/it]"
     ]
    },
    {
     "name": "stdout",
     "output_type": "stream",
     "text": [
      "Output: H02M, Expected: B61L, Current Accuracy: 0.14054054054054055, Token Usage: 0\n",
      "PatentData(text='There are provided a data processing device for chromatograph and a data processing method for chromatograph which allow a peak to be desirably checked. A peak (correction target peak (P1)) whose intensity exceeds a predetermined threshold in a chromatogram at a target wavelength (X1) is corrected based on correction reference values (height (H1) and area (A1) of a peak (P11)) and a sensitivity coefficient (R=I1/I2), and the chromatogram after correction is displayed or printed. Therefore, even if the correction target peak (P1) is saturated, display or printing may be performed in a state where correction has been performed so that the chromatogram at the peak (P1) is not cut off in the middle. Accordingly, at the time of display or printing of the chromatogram, a fine peak may be prevented from becoming too small, and also the correction target peak (P1) may be prevented from being cut off in the middle, and thus the peaks may be desirably checked.', image=<PIL.Image.Image image mode=RGB size=2142x3000 at 0x7F542C7FB4D0>, label='G01N', model_output=None, messages=None, model_type='claude3haiku', mode=2)\n"
     ]
    },
    {
     "name": "stderr",
     "output_type": "stream",
     "text": [
      "186it [03:47,  1.24s/it]"
     ]
    },
    {
     "name": "stdout",
     "output_type": "stream",
     "text": [
      "Output: G01N, Expected: G01N, Current Accuracy: 0.14516129032258066, Token Usage: 0\n",
      "PatentData(text='An adaptation method for a modelling method in which, by means of target geometry, model geometry, which is derived from the target geometry, is created for an object to be produced by a selective laser melting method is provided. In the adaptation method, adapted model geometry is produced from the derived model geometry by dimension adaptation by means of a correction factor and/or by geometry adaptation by means of correction geometry.', image=<PIL.Image.Image image mode=RGB size=2094x2796 at 0x7F542C8035D0>, label='B29C', model_output=None, messages=None, model_type='claude3haiku', mode=2)\n"
     ]
    },
    {
     "name": "stderr",
     "output_type": "stream",
     "text": [
      "187it [03:48,  1.19s/it]"
     ]
    },
    {
     "name": "stdout",
     "output_type": "stream",
     "text": [
      "Output: G01C, Expected: B29C, Current Accuracy: 0.1443850267379679, Token Usage: 0\n",
      "PatentData(text='A membrane excelling in flame retardancy and a seat device using the same are provided. A membrane includes a first film haying at least a first wiring. A layer of flame retardant material is formed on a surface not formed with the first wiring of the first film. The layer contains an organic substance and phosphorus, and that forms a layer of carbide for physically supporting the first wiring by combustion.', image=<PIL.Image.Image image mode=RGB size=2809x3000 at 0x7F542C801F50>, label='H01H', model_output=None, messages=None, model_type='claude3haiku', mode=2)\n"
     ]
    },
    {
     "name": "stderr",
     "output_type": "stream",
     "text": [
      "188it [03:49,  1.19s/it]"
     ]
    },
    {
     "name": "stdout",
     "output_type": "stream",
     "text": [
      "Output: B60R, Expected: H01H, Current Accuracy: 0.14361702127659576, Token Usage: 0\n",
      "PatentData(text='The application describes improvements to (MEMS) transducers (100) having a flexible membrane (301) with a membrane electrode (302), especially where the membrane is crystalline or polycrystalline and the membrane electrode is metal or a metal alloy. Such transducers may typically include a back-plate having at least one back-plate layer (304) coupled to a back-plate electrode (303), with a plurality of holes (314) in the back-plate electrode corresponding to a plurality back-plate holes (312) through the back-plate. In embodiments of the invention the membrane electrode has at least one opening (313) in the membrane electrode wherein, at least part of the area of the opening corresponds to the area of at least one back-plate hole, in a direction normal to the membrane, and there is no hole in the flexible membrane at said opening in the membrane electrode. There may be a plurality of such openings. The openings effectively allow a reduction in the amount of membrane electrode material, e.g. metal, that may undergo plastic deformation and permanently deform the membrane. The openings are at least partly aligned with the back-plate holes to minimise any loss of capacitance.', image=<PIL.Image.Image image mode=RGB size=3000x1969 at 0x7F542C7F3F10>, label='B81B', model_output=None, messages=None, model_type='claude3haiku', mode=2)\n"
     ]
    },
    {
     "name": "stderr",
     "output_type": "stream",
     "text": [
      "189it [03:50,  1.22s/it]"
     ]
    },
    {
     "name": "stdout",
     "output_type": "stream",
     "text": [
      "Output: A44C, Expected: B81B, Current Accuracy: 0.14285714285714285, Token Usage: 0\n",
      "PatentData(text='Actuator system comprising at least one electrically driven linear actuator with an electric motor and an electric controller with an operating unit, wherein the electric motor is furnished with means for electrical noise dampening of the motor, which comprises a first inductance and a second inductance for electrical noise dampening of the motor, said first and second inductance are physically wound on the same coil form and thus provides a more compact construction, which moreover reduces the costs.', image=<PIL.Image.Image image mode=RGB size=3000x1985 at 0x7F542C7E2D50>, label='H02K', model_output=None, messages=None, model_type='claude3haiku', mode=2)\n"
     ]
    },
    {
     "name": "stderr",
     "output_type": "stream",
     "text": [
      "190it [03:51,  1.24s/it]"
     ]
    },
    {
     "name": "stdout",
     "output_type": "stream",
     "text": [
      "Output: F41G, Expected: H02K, Current Accuracy: 0.14210526315789473, Token Usage: 0\n",
      "PatentData(text='Methods as disclosed herein are generally configured to help determine a pressure differential (or pressure head) in a fluid circulation system of for example, a HVAC system, for controlling the fluid circulation system. The method may include ob taming a correlation between a fluid flow rate and a pressure differential in the fluid circulation system by varying an operation speed of the pump. The method may also include obtaining a desired fluid flow rate for matching a cooling capacity of the HVAC system and determining a pressure differential setpoint corresponding to the desired fluid flow rate based on the correlation between the fluid flow rate and the pressure differential. The methods can be executed by, for example, a controller of the HVAC system so as to eliminate the requirement of a user to set up the pressure differential.', image=<PIL.Image.Image image mode=RGB size=1529x3000 at 0x7F542C7F19D0>, label='F24F', model_output=None, messages=None, model_type='claude3haiku', mode=2)\n"
     ]
    },
    {
     "name": "stderr",
     "output_type": "stream",
     "text": [
      "191it [03:52,  1.13s/it]"
     ]
    },
    {
     "name": "stdout",
     "output_type": "stream",
     "text": [
      "Output: F15B, Expected: F24F, Current Accuracy: 0.14136125654450263, Token Usage: 0\n",
      "PatentData(text=\"Method for temporarily closing off a grate (111)-covered gutter (110) of a paved part of the earth's surface (100) by means of a closing organ (130), the gutter (110) being connected to a sewage pipe (120). Thus, the draining away of contaminating liquid can be prevented. According to the invention the gutter (110) comprises a closing organ (130) comprising a valve (131), which valve (131) is fitted rotatably in the gutter (110). The valve (131) can be in a first stable position wherein the valve (131) seals. The valve can also be in a second stable position in which the valve (131) releases the gutter (110) for the discharge of liquid (rainwater) to the sewage pipe. The invention also relates to a closing organ (130) suitable for use with the method.\", image=<PIL.Image.Image image mode=RGB size=2094x3000 at 0x7F542C7E6A90>, label='E03F', model_output=None, messages=None, model_type='claude3haiku', mode=2)\n"
     ]
    },
    {
     "name": "stderr",
     "output_type": "stream",
     "text": [
      "192it [03:54,  1.21s/it]"
     ]
    },
    {
     "name": "stdout",
     "output_type": "stream",
     "text": [
      "Output: A47K, Expected: E03F, Current Accuracy: 0.140625, Token Usage: 0\n",
      "PatentData(text='A wearable magnetic device, a method for subjecting a body region to a magnetic field and a set of parts. The wearable magnetic device comprises a magnetic structure configured to generate a magnetic field in a field area of the device; an auxiliary magnet connected to the magnetic structure and configured to increase the intensity of the magnetic field in the field area of the device; and a fastener; wherein the auxiliary magnet and the fastener are configured to magnetically secure the fastener on a side of the auxiliary magnet facing away from the field area of the device with a piece of fabric or a piece of garment disposed between the auxiliary magnet and the fastener.', image=<PIL.Image.Image image mode=RGB size=2001x3000 at 0x7F542C7EEC90>, label='A61N', model_output=None, messages=None, model_type='claude3haiku', mode=2)\n"
     ]
    },
    {
     "name": "stderr",
     "output_type": "stream",
     "text": [
      "193it [03:55,  1.32s/it]"
     ]
    },
    {
     "name": "stdout",
     "output_type": "stream",
     "text": [
      "Output: A61B, Expected: A61N, Current Accuracy: 0.13989637305699482, Token Usage: 0\n",
      "PatentData(text='A filling element for filling containers includes a liquid valve disposed to control flow into the container. The valve has an elastic diaphragm and a valve surface. An actuator causes the diaphragm to transition between a first state, in which it butts against the valve surface, and a second state, in which it is spaced apart from the valve surface.', image=<PIL.Image.Image image mode=RGB size=1621x3000 at 0x7F542C7E1DD0>, label='B67C', model_output=None, messages=None, model_type='claude3haiku', mode=2)\n"
     ]
    },
    {
     "name": "stderr",
     "output_type": "stream",
     "text": [
      "194it [03:57,  1.44s/it]"
     ]
    },
    {
     "name": "stdout",
     "output_type": "stream",
     "text": [
      "Output: F16B, Expected: B67C, Current Accuracy: 0.13917525773195877, Token Usage: 0\n",
      "PatentData(text='This disclosure relates to scheduling by a processor the supply a consumable liquid to a mobile machine, such as the supply of water to a blasthole drill. The processor receives from the one or more mobile machines status information relative to a machine cycle. The machine cycle comprises one or more first periods where supply of the consumable liquid is preferred. The processor then determines based on the status information the supply schedule to supply the liquid to the one or more machines during their respective one or more first periods. The supply schedule is determined such that the supply schedule reduces the likelihood that any of the one or more mobile machines has an insufficient amount of the consumable liquid available. This method reduces downtime of the mobile machines because liquid is supplied during the preferred periods while reducing the likelihood of running out of liquid.', image=<PIL.Image.Image image mode=RGB size=3000x2481 at 0x7F542C800110>, label='G06Q', model_output=None, messages=None, model_type='claude3haiku', mode=2)\n"
     ]
    },
    {
     "name": "stderr",
     "output_type": "stream",
     "text": [
      "195it [03:58,  1.35s/it]"
     ]
    },
    {
     "name": "stdout",
     "output_type": "stream",
     "text": [
      "Output: G06F, Expected: G06Q, Current Accuracy: 0.13846153846153847, Token Usage: 0\n",
      "PatentData(text='A drug-delivery composition includes an intermediate composition having a hydrophilic matrix of a cross-linked polymer in form of particles, and a pharmaceutically active composition distributed in the cross-linked polymer of the particles.', image=<PIL.Image.Image image mode=RGB size=2867x3000 at 0x7F542C7DE750>, label='A61K', model_output=None, messages=None, model_type='claude3haiku', mode=2)\n"
     ]
    },
    {
     "name": "stderr",
     "output_type": "stream",
     "text": [
      "196it [04:00,  1.43s/it]"
     ]
    },
    {
     "name": "stdout",
     "output_type": "stream",
     "text": [
      "Output: G01N, Expected: A61K, Current Accuracy: 0.1377551020408163, Token Usage: 0\n",
      "PatentData(text='A device for acquiring a combined eye gaze image of an object under dark-eye effect conditions, with a first camera, a second camera, a first light source and a second light source being located on opposite sides of, and on essentially equal distance to a central optical axis. A control unit is arranged to acquire the combined eye gaze image by capturing, in a first point in time, a first frame of the object with the first camera with the second light source activated, and, at a second point in time, capturing a second frame of the object with the second camera with the first light source activated. The device comprises no additional light sources further away from the central optical axis than the first location and the second location. The device is thereby designed as compact as possible while a sufficient eye gaze tracking accuracy and robustness is maintained.', image=<PIL.Image.Image image mode=RGB size=3000x2797 at 0x7F542C7F8590>, label='G06F', model_output=None, messages=None, model_type='claude3haiku', mode=2)\n"
     ]
    },
    {
     "name": "stderr",
     "output_type": "stream",
     "text": [
      "198it [04:01,  1.05s/it]"
     ]
    },
    {
     "name": "stdout",
     "output_type": "stream",
     "text": [
      "Output: G06T, Expected: G06F, Current Accuracy: 0.13636363636363635, Token Usage: 0\n",
      "PatentData(text='A sensor for sensing an angular orientation of a magnet producing a magnetic field includes a sensing unit having N≧2 magnetic field sensing devices MFSD; a scanning circuit for repeatedly sequentially probing at least two of the MFSDs and concatenating signals outputted by the respective MFSDs for obtaining a magnetic signal; a magnet-signal output for outputting the magnetic signal; and a reference output for outputting a reference signal independent of the magnetic field. The sensor includes a first signal processing unit SPU1 and a second signal processing unit which are identically constructed, each having an input and an output; a phase detection unit PDU having a first input PDU1 and a second input PDU2, for deriving phase differences between inputted signals, and for outputting a signal related to the angular orientation.', image=<PIL.Image.Image image mode=RGB size=2120x3000 at 0x7F542C7F9F50>, label='G01D', model_output=None, messages=None, model_type='claude3haiku', mode=2)\n"
     ]
    },
    {
     "name": "stderr",
     "output_type": "stream",
     "text": [
      "199it [04:02,  1.08s/it]"
     ]
    },
    {
     "name": "stdout",
     "output_type": "stream",
     "text": [
      "Output: G06F, Expected: G01D, Current Accuracy: 0.135678391959799, Token Usage: 0\n",
      "PatentData(text='A skinning device for removing skin from an animal carcass has a housing, a manipulation arm extending from the housing, an cutting blade, a motor driven tooth roll mounted on the housing having plurality of tooth wheels arranged in axially spaced apart arrangement such that the space between adjacent tooth wheels has a pre-set distance. The tooth wheels have circumferentially arranged teeth projecting outwardly therefrom adapted to grab the skin with the circumferentially arranged teeth and pull it towards the cutting blade. The skinning device includes a support structure mounted on the housing arranged in proximity to the tooth roll, and is adapted to engage the skin while the skin is simultaneously being pulled off the carcass. Strippers are arranged in the space of pre-set distance and circumferentially surround at least a space portion where the arc-shaped contour essentially follows the tooth roll.', image=<PIL.Image.Image image mode=RGB size=3000x2461 at 0x7F542C801F90>, label='A22B', model_output=None, messages=None, model_type='claude3haiku', mode=2)\n"
     ]
    },
    {
     "name": "stderr",
     "output_type": "stream",
     "text": [
      "200it [04:03,  1.10s/it]"
     ]
    },
    {
     "name": "stdout",
     "output_type": "stream",
     "text": [
      "Output: F16L, Expected: A22B, Current Accuracy: 0.135, Token Usage: 0\n",
      "PatentData(text='Reflective microstructured films include a base layer, and an ordered arrangement of a plurality of microstructures projecting from the base layer. The microstructures have rounded peaks defined by an radius of curvature. Additionally, the micro-structures include a reflective layer. These reflective microstructured films can be used in solar modules.', image=<PIL.Image.Image image mode=RGB size=1758x1664 at 0x7F542C7EA290>, label='H01L', model_output=None, messages=None, model_type='claude3haiku', mode=2)\n"
     ]
    },
    {
     "name": "stderr",
     "output_type": "stream",
     "text": [
      "201it [04:04,  1.04it/s]"
     ]
    },
    {
     "name": "stdout",
     "output_type": "stream",
     "text": [
      "Output: G09D, Expected: H01L, Current Accuracy: 0.13432835820895522, Token Usage: 0\n",
      "PatentData(text='Embodiments relate to formulations comprising sodium acetate trihydrate and other components. In addition, embodiments further relate to methods of preparing such formulations. Furthermore, embodiments relate to products including such formulations.', image=<PIL.Image.Image image mode=RGB size=2493x3000 at 0x7F542C7F0590>, label='C09K', model_output=None, messages=None, model_type='claude3haiku', mode=2)\n"
     ]
    },
    {
     "name": "stderr",
     "output_type": "stream",
     "text": [
      "204it [04:05,  1.59it/s]"
     ]
    },
    {
     "name": "stdout",
     "output_type": "stream",
     "text": [
      "Output: F16J, Expected: C09K, Current Accuracy: 0.1323529411764706, Token Usage: 0\n",
      "PatentData(text='Vibrations of a hydraulic pressure in an upstream portion due to operations of a slip control device during anti-lock control are transmitted to a control pressure chamber via a pressurizing piston of a master cylinder and a control piston of a regulator. During anti-lock control, in contrast, a pressure-increase linear valve and a pressure-reduction linear valve are opened, allowing change in volume of the control pressure chamber, resulting in reduction in stiffness. This reduction suppresses vibrations of a hydraulic pressure in the control pressure chamber, resulting in suppression of vibrations of a hydraulic pressure in a front pressure chamber. As a result, it is possible to reduce the lowering in control accuracy for a hydraulic pressure in a brake cylinder in anti-lock control using the hydraulic pressure in the front pressure chamber, which can well avoid a long braking distance.', image=<PIL.Image.Image image mode=RGB size=3000x2029 at 0x7F542C7DDB10>, label='B60T', model_output=None, messages=None, model_type='claude3haiku', mode=2)\n"
     ]
    },
    {
     "name": "stderr",
     "output_type": "stream",
     "text": [
      "205it [04:06,  1.30it/s]"
     ]
    },
    {
     "name": "stdout",
     "output_type": "stream",
     "text": [
      "Output: F15B, Expected: B60T, Current Accuracy: 0.13170731707317074, Token Usage: 0\n",
      "PatentData(text='A method, apparatus and computer program product are provided to enhance the experience of a user of a computing device, such as a computing device having a plurality of speakers. In the context of a method, content is caused to be presented upon the display. The content is associated with a representation of an audio source. The method also includes determining a location of the representation of the audio source relative to the display. The method further includes preferentially directing audio signals generated by the audio source to one or more of a plurality of speakers that have different respective positions relative to the display. In this regard, the method may preferentially direct the audio signals by preferentially directing audio signals based upon the location of the representation of the audio source relative to the display and also based upon the respective positions of the speakers relative to the display.', image=<PIL.Image.Image image mode=RGB size=2544x3000 at 0x7F542C7E6D10>, label='G06F', model_output=None, messages=None, model_type='claude3haiku', mode=2)\n"
     ]
    },
    {
     "name": "stderr",
     "output_type": "stream",
     "text": [
      "207it [04:08,  1.32it/s]"
     ]
    },
    {
     "name": "stdout",
     "output_type": "stream",
     "text": [
      "Output: G06F, Expected: G06F, Current Accuracy: 0.13526570048309178, Token Usage: 0\n",
      "PatentData(text='The invention relates to a mortar (1) comprising a stand (2) disposed on a mortar barrel (3) and a base plate (4) for setting up the mortar (1), characterized in that a device (10) for simulating the function of the mortar (1) is provided, wherein in a neutral position said device (10) is arranged almost completely inside the mortar barrel (3) and in an operating position from the mortar barrel (30 and device is arranged such that it protrudes from the mortar barrel (3) relative to the neutral position.', image=<PIL.Image.Image image mode=RGB size=2548x2866 at 0x7F542C7E5610>, label='F41G', model_output=None, messages=None, model_type='claude3haiku', mode=2)\n"
     ]
    },
    {
     "name": "stderr",
     "output_type": "stream",
     "text": [
      "210it [04:08,  1.86it/s]"
     ]
    },
    {
     "name": "stdout",
     "output_type": "stream",
     "text": [
      "Output: F41B, Expected: F41G, Current Accuracy: 0.13333333333333333, Token Usage: 0\n",
      "PatentData(text='A process for separating off acid gases from a nitrogen oxide-comprising fluid stream, wherein a) the fluid stream is brought into contact in an absorption zone with an aqueous absorbent which comprises at least one amino group-comprising compound, wherein a deacidified fluid stream is obtained, b) the deacidified fluid stream is brought into contact in at least one scrubbing zone with an aqueous scrubbing liquid and a de-aminated deacidified fluid stream is obtained, wherein the scrubbing liquid is recycled via at least one scrubbing zone, c) overflow from the at least one scrubbing zone is treated with UV light, and d) the UV-treated overflow is combined with the absorbent. The process permits the efficient degradation of the nitrosamines present in the absorbent.', image=<PIL.Image.Image image mode=RGB size=2307x3000 at 0x7F542C7F0590>, label='B01D', model_output=None, messages=None, model_type='claude3haiku', mode=2)\n"
     ]
    },
    {
     "name": "stderr",
     "output_type": "stream",
     "text": [
      "211it [04:10,  1.56it/s]"
     ]
    },
    {
     "name": "stdout",
     "output_type": "stream",
     "text": [
      "Output: F16K, Expected: B01D, Current Accuracy: 0.13270142180094788, Token Usage: 0\n",
      "PatentData(text='Provided are a washing machine motor including: an outer shaft connected to a washing tub; an inner shaft rotatably disposed inside the outer shaft and connected to a pulsator; an inner rotor connected to the outer shaft; an outer rotor connected to the inner shaft; a stator disposed between the inner rotor and the outer rotor with an air gap; and a planetary gear set mounted on the inner shaft so as to reduce a rotational speed. The washing machine motor includes the planetary gear set which increases a torque by reducing a rotational speed in the inner shaft connected to the pulsator to thereby allow implementation of a large-capacity washing machine.', image=<PIL.Image.Image image mode=RGB size=2145x2826 at 0x7F542C7E6950>, label='D06F', model_output=None, messages=None, model_type='claude3haiku', mode=2)\n"
     ]
    },
    {
     "name": "stderr",
     "output_type": "stream",
     "text": [
      "213it [04:10,  1.72it/s]"
     ]
    },
    {
     "name": "stdout",
     "output_type": "stream",
     "text": [
      "Output: H02N, Expected: D06F, Current Accuracy: 0.13145539906103287, Token Usage: 0\n",
      "PatentData(text='An organic light-emitting diode includes a substrate with a top; an organic layer on the top that generates radiation; first and second electrical contact area at or on the top that electrically contacts the diode; a holding device by which the diode is mechanically supported and electrically contacted; and a cover sheet on a side of the organic layer remote from the substrate that protects the organic layer, wherein at least one opening is in the cover sheet and the opening, in plan view, is surrounded by the cover sheet and the organic layer; the areas are located at an edge of the opening and freely accessible; the device engages through the opening; the first area has a different average distance from the opening than the second area; and the electrical areas are each arranged concentrically around the opening and partially or completely surround the opening in plan view.', image=<PIL.Image.Image image mode=RGB size=3000x2165 at 0x7F542C9CD8D0>, label='F21V', model_output=None, messages=None, model_type='claude3haiku', mode=2)\n"
     ]
    },
    {
     "name": "stderr",
     "output_type": "stream",
     "text": [
      "214it [04:12,  1.25it/s]"
     ]
    },
    {
     "name": "stdout",
     "output_type": "stream",
     "text": [
      "Output: F21V, Expected: F21V, Current Accuracy: 0.13551401869158877, Token Usage: 0\n",
      "PatentData(text='An engine (10) is a cylinder injection engine, and includes an injector (21) that directly injects a fuel into a combustion chamber (23), and an ignition plug (34) that generates an ignition spark in the combustion chamber (23). An ECU (40) performs multiple first injections to each produce an air-fuel mixture of a lean air-fuel ratio in the combustion chamber (23) before an ignition in one combustion cycle of the engine, and performs a second injection to produce an air-fuel mixture of a rich air-fuel ratio in the combustion chamber (23) before the ignition and after the first injection. In particular, the ECU implements the multiple first injections in such a manner that the first injection implemented early among the multiple first injections produces an air-fuel mixture leaner than that of the first injection implemented subsequently. The ECU implements the second injection only once immediately before an ignition timing.', image=<PIL.Image.Image image mode=RGB size=3000x2703 at 0x7F542C801F50>, label='F02D', model_output=None, messages=None, model_type='claude3haiku', mode=2)\n"
     ]
    },
    {
     "name": "stderr",
     "output_type": "stream",
     "text": [
      "215it [04:13,  1.12it/s]"
     ]
    },
    {
     "name": "stdout",
     "output_type": "stream",
     "text": [
      "Output: F02D, Expected: F02D, Current Accuracy: 0.13953488372093023, Token Usage: 0\n",
      "PatentData(text='The device and method for crushing and discharging a granular clump material in a flexible container includes a hanging step for hanging from above a flexible container containing a compacted granular clump material, a thrusting step for thrusting top portions of contact units against a bottom wall of the flexible container in regions on opposite sides of a discharge tube extending downward from a central region of the bottom wall, and a pushing step for pushing side portions of the contact units in regions from the bottom wall to side portions of the flexible container. The method and device are capable of crushing the granular clump material in the flexible container and of discharging substantially whole amount thereof.', image=<PIL.Image.Image image mode=RGB size=2270x3000 at 0x7F542C9CEC10>, label='B65B', model_output=None, messages=None, model_type='claude3haiku', mode=2)\n"
     ]
    },
    {
     "name": "stderr",
     "output_type": "stream",
     "text": [
      "216it [04:15,  1.11s/it]"
     ]
    },
    {
     "name": "stdout",
     "output_type": "stream",
     "text": [
      "Output: F16B, Expected: B65B, Current Accuracy: 0.1388888888888889, Token Usage: 0\n",
      "PatentData(text='A method for decoding a video sequence from a bitstream is described. The bitstream has a conformance that when a first SPS having a first layer ID is activated for a second layer and an infer scaling list flag is equal to 1 in the first SPS, an infer scaling list flag is equal to 0 for a second SPS that is active for a third layer specified in the first SPS.', image=<PIL.Image.Image image mode=RGB size=2973x3000 at 0x7F542C812F50>, label='H04N', model_output=None, messages=None, model_type='claude3haiku', mode=2)\n"
     ]
    },
    {
     "name": "stderr",
     "output_type": "stream",
     "text": [
      "217it [04:18,  1.40s/it]"
     ]
    },
    {
     "name": "stdout",
     "output_type": "stream",
     "text": [
      "Output: G06F, Expected: H04N, Current Accuracy: 0.1382488479262673, Token Usage: 0\n",
      "PatentData(text='There is provided an apparatus and method to control reproduction of content recorded to a recording medium; control reading, from the recording medium, first content information indicating whether an initial output mode at a start of reproduction is 4K or 2K; and output a notification based on the initial output mode at start of reproduction indicated by the first content information.', image=<PIL.Image.Image image mode=RGB size=3000x2530 at 0x7F542C802DD0>, label='H04N', model_output=None, messages=None, model_type='claude3haiku', mode=2)\n"
     ]
    },
    {
     "name": "stderr",
     "output_type": "stream",
     "text": [
      "218it [04:19,  1.40s/it]"
     ]
    },
    {
     "name": "stdout",
     "output_type": "stream",
     "text": [
      "Output: G06F, Expected: H04N, Current Accuracy: 0.13761467889908258, Token Usage: 0\n",
      "PatentData(text='A hydrostatic assembly employing a 1st hydraulic piston drive unit is described in which the output is increased without using additional servo assemblies by incorporating a 2nd hydraulic piston drive unit, coupling the drive shafts of both drive units together, and employing a common means to simultaneously adjust displacement of both the 1st and 2nd hydraulic piston drive units. In such embodiments, coupling the drive shafts together such that the 1st hydraulic piston drive unit is rotationally offset with respect to the 2nd hydraulic piston drive allows for a reduction in the amplitude of pressure pulsations associated with the hydrostatic assembly output, thereby smoothing out operation and improving durability.', image=<PIL.Image.Image image mode=RGB size=2708x3000 at 0x7F542C7ED350>, label='F16H', model_output=None, messages=None, model_type='claude3haiku', mode=2)\n"
     ]
    },
    {
     "name": "stderr",
     "output_type": "stream",
     "text": [
      "220it [04:21,  1.21s/it]"
     ]
    },
    {
     "name": "stdout",
     "output_type": "stream",
     "text": [
      "Output: F16H, Expected: F16H, Current Accuracy: 0.1409090909090909, Token Usage: 0\n",
      "PatentData(text='Provided are a video communication method and device. The method includes: a cloud platform stored conference related information of a video conference terminal is received from the cloud platform; and according to the conference related information, a video conference is initiated. The disclosure improves the efficiency of holding the video conference.', image=<PIL.Image.Image image mode=RGB size=3000x981 at 0x7F542C7F3E50>, label='H04N', model_output=None, messages=None, model_type='claude3haiku', mode=2)\n"
     ]
    },
    {
     "name": "stderr",
     "output_type": "stream",
     "text": [
      "221it [04:21,  1.07s/it]"
     ]
    },
    {
     "name": "stdout",
     "output_type": "stream",
     "text": [
      "Output: H04L, Expected: H04N, Current Accuracy: 0.14027149321266968, Token Usage: 0\n",
      "PatentData(text='A container-fabricating apparatus having an injection head establishing fluid communication between an injection fluid port disposed therein and a preform disposed in communication with a nozzle of the injection head. The apparatus also including a stretching rod moveable between a position projecting from the injection head through the nozzle and a substantially retracted position. The apparatus further includes a cleaning chamber at least partially defined by a hollow, elongate housing contiguous with and extending from the injection head, a plurality of cleaning chamber ports in a wall of the housing establishing fluid communication with the cleaning chamber, the stretching rod being substantially disposed within the cleaning chamber when disposed in the substantially retracted position.', image=<PIL.Image.Image image mode=RGB size=1303x3000 at 0x7F542C7E3610>, label='B29C', model_output=None, messages=None, model_type='claude3haiku', mode=2)\n"
     ]
    },
    {
     "name": "stderr",
     "output_type": "stream",
     "text": [
      "222it [04:23,  1.11s/it]"
     ]
    },
    {
     "name": "stdout",
     "output_type": "stream",
     "text": [
      "Output: F41C, Expected: B29C, Current Accuracy: 0.13963963963963963, Token Usage: 0\n",
      "PatentData(text='A measurement container supply device A supply section transfers the measurement container to the predetermined supply position includes a holding section (50) that holds the measurement container, and the holding section (50) has a first groove (52) that is formed to have a width that corresponds to the outer diameter of a body of the measurement container, and a second groove (54) that is formed to have a width that corresponds to the outer diameter of a neck of the measurement container. When the holding section (50) holds the measurement container, the first groove (52) comes in contact with the outer circumferential surface of the body, the second groove (54) comes in contact with the outer circumferential surface of the neck, and a step (56) that is formed by the first groove (52) and the second groove (54) comes in contact with a step that is formed by the body and the neck.', image=<PIL.Image.Image image mode=RGB size=1802x3000 at 0x7F542C7F2110>, label='G01N', model_output=None, messages=None, model_type='claude3haiku', mode=2)\n"
     ]
    },
    {
     "name": "stderr",
     "output_type": "stream",
     "text": [
      "223it [04:24,  1.09s/it]"
     ]
    },
    {
     "name": "stdout",
     "output_type": "stream",
     "text": [
      "Output: B65D, Expected: G01N, Current Accuracy: 0.13901345291479822, Token Usage: 0\n",
      "PatentData(text='In a method for ascertaining a degree of attentiveness of a vehicle driver during travel with his vehicle, e.g., a motor vehicle, using a sensor of the vehicle, a direction of vision of the vehicle driver toward a region of a surrounding environment visible to the driver is recognized, and the region visible to the vehicle driver is assigned a probability distribution through which, on the basis of the recognized direction of vision of the vehicle driver, a degree of attentiveness of the vehicle driver is ascertained.', image=<PIL.Image.Image image mode=RGB size=2302x3000 at 0x7F542C7E2150>, label='B60W', model_output=None, messages=None, model_type='claude3haiku', mode=2)\n"
     ]
    },
    {
     "name": "stderr",
     "output_type": "stream",
     "text": [
      "224it [04:25,  1.07s/it]"
     ]
    },
    {
     "name": "stdout",
     "output_type": "stream",
     "text": [
      "Output: G06F, Expected: B60W, Current Accuracy: 0.13839285714285715, Token Usage: 0\n",
      "PatentData(text='An efferent contraction training device may include a fixing unit, an electrical stimulation pad and a driving unit. The fixing unit may be configured to fix an articulation of a patient. The fixing unit may include a first member and a second member connected to the first member. The second member of the fixing unit may have an angle with respect to the first member changed in accordance with movements of the articulation of the patient. The electrical stimulation pad may apply an electrical stimulation to a muscle of the articulation to provide the articulation with an efferent contraction exercise. The driving unit may drive the electrical stimulation pad. Thus, the efferent contraction training device may be effectively used for rehabilitating the patient with the paralytic musculature.', image=<PIL.Image.Image image mode=RGB size=2581x3000 at 0x7F542C802DD0>, label='A61N', model_output=None, messages=None, model_type='claude3haiku', mode=2)\n"
     ]
    },
    {
     "name": "stderr",
     "output_type": "stream",
     "text": [
      "225it [04:26,  1.13s/it]"
     ]
    },
    {
     "name": "stdout",
     "output_type": "stream",
     "text": [
      "Output: A61N, Expected: A61N, Current Accuracy: 0.14222222222222222, Token Usage: 0\n",
      "PatentData(text='The present invention relates to a method for producing mineral oil from an underground mineral oil deposit using a composition (Z) and to the use of the composition (Z) as a medium for mineral oil production.', image=<PIL.Image.Image image mode=RGB size=3000x1850 at 0x7F542C7E8250>, label='C09K', model_output=None, messages=None, model_type='claude3haiku', mode=2)\n"
     ]
    },
    {
     "name": "stderr",
     "output_type": "stream",
     "text": [
      "227it [04:27,  1.11it/s]"
     ]
    },
    {
     "name": "stdout",
     "output_type": "stream",
     "text": [
      "Output: C09K, Expected: C09K, Current Accuracy: 0.14537444933920704, Token Usage: 0\n",
      "PatentData(text='The invention is a method of transferring user data from a first instance of a package to a second instance of another package corresponding to an upgraded version. The first instance stores the user data in its own storage format. The two instances are embedded in a secure element. The method comprises the steps of: establishing a direct channel within the portable secure device between the two instances, the first instance gets in a locked state where it refuses any service requests except the communication with the second instance, prepares a pack by formatting the user data in a transport format, and automatically sends the pack to the second instance through the direct channel, the second instance retrieves the user data from the pack and stores the user data in another storage format', image=<PIL.Image.Image image mode=RGB size=2560x3000 at 0x7F542C7F0AD0>, label='G06F', model_output=None, messages=None, model_type='claude3haiku', mode=2)\n"
     ]
    },
    {
     "name": "stderr",
     "output_type": "stream",
     "text": [
      "228it [04:29,  1.00s/it]"
     ]
    },
    {
     "name": "stdout",
     "output_type": "stream",
     "text": [
      "Output: H04L, Expected: G06F, Current Accuracy: 0.14473684210526316, Token Usage: 0\n",
      "PatentData(text='A six-stroke engine includes a cylinder, a piston, a cylinder head, a combustion chamber, an intake port, an exhaust port, an intake valve, an exhaust valve, a fuel injector, and an ignition plug. The six-stroke engine includes a valve gear that operates the intake valve and the exhaust valve to execute an intake stroke, a compression stroke with ignition, an expansion stroke with combustion, an exhaust stroke, an expansion stroke without combustion, and a compression stroke without ignition. The valve gear opens, only for a predetermined period of time while the piston is located at top dead center, at least one of the intake valve and the exhaust valve within a period from the exhaust stroke to the intake stroke. A valve overlap state is produced at least once within the period from the exhaust stroke to the intake stroke.', image=<PIL.Image.Image image mode=RGB size=2810x3000 at 0x7F542C7EE250>, label='F02D', model_output=None, messages=None, model_type='claude3haiku', mode=2)\n"
     ]
    },
    {
     "name": "stderr",
     "output_type": "stream",
     "text": [
      "230it [04:30,  1.08it/s]"
     ]
    },
    {
     "name": "stdout",
     "output_type": "stream",
     "text": [
      "Output: F16H, Expected: F02D, Current Accuracy: 0.14347826086956522, Token Usage: 0\n",
      "PatentData(text='A fluid swivel for fluid transfer across a rotary interface includes inner annular and outer annular elements, located with their adjacent surfaces in close proximity to define a chamber between the adjacent surfaces. The swivel inner annular element has a conduit connected to an end of an incoming fluid line. The outer annular element is connected to outgoing product piping and has a primary duct for transport of fluid from the chamber to the product piping. The swivel includes an outer reinforcing annular wall arranged adjacent to the outer peripheral wall of the outer annular element. The outer reinforcing annular wall has two peripheral centering surface portions for contacting and/or registering with the outer peripheral wall of the outer annular element. The outer reinforcing annular wall further has a central peripheral opening extending along a portion of the periphery for allowing the primary duct to pass through.', image=<PIL.Image.Image image mode=RGB size=3000x2280 at 0x7F542C7E7790>, label='F16L', model_output=None, messages=None, model_type='claude3haiku', mode=2)\n"
     ]
    },
    {
     "name": "stderr",
     "output_type": "stream",
     "text": [
      "231it [04:31,  1.02it/s]"
     ]
    },
    {
     "name": "stdout",
     "output_type": "stream",
     "text": [
      "Output: F16L, Expected: F16L, Current Accuracy: 0.1471861471861472, Token Usage: 0\n",
      "PatentData(text='The invention discloses a structural arrangement, which includes a rectangular steel frame consisting of I-beams and having a base structure, a top structure, the top structure being supported above the base structure by means of vertical pillar members; the base structure consisting of steel tubes; and the top structure consisting of steel tubes.', image=<PIL.Image.Image image mode=RGB size=3000x2032 at 0x7F542C7E4C10>, label='E04B', model_output=None, messages=None, model_type='claude3haiku', mode=2)\n"
     ]
    },
    {
     "name": "stderr",
     "output_type": "stream",
     "text": [
      "232it [04:33,  1.03s/it]"
     ]
    },
    {
     "name": "stdout",
     "output_type": "stream",
     "text": [
      "Output: E04B, Expected: E04B, Current Accuracy: 0.15086206896551724, Token Usage: 0\n",
      "PatentData(text='The present invention relates to a device (1) for packaging a product, comprising:—a container (2) having joined front and rear walls,—an article (3) packaged in a folded state inside the container (2), this article (3) bearing said product, having at least two sections separated by at least one fold line (4), at least one of these two sections being attached to one of the front and rear walls by at least one weld zone (5).', image=<PIL.Image.Image image mode=RGB size=1234x1084 at 0x7F542C7DFB90>, label='B65D', model_output=None, messages=None, model_type='claude3haiku', mode=2)\n"
     ]
    },
    {
     "name": "stderr",
     "output_type": "stream",
     "text": [
      "233it [04:33,  1.07it/s]"
     ]
    },
    {
     "name": "stdout",
     "output_type": "stream",
     "text": [
      "Output: B65D, Expected: B65D, Current Accuracy: 0.15450643776824036, Token Usage: 0\n",
      "PatentData(text='The invention disclosed herein relates to a side press safety cap, wherein when an outer cap is rotated to opening direction with sides of the outer cap pressurized, a first rotation protrusion of an outer cap is interlocked with open guide protrusions of an inner cap, rotating the inner cap, and thereby an inner cap is opened. On the other hand, when the outer cap is rotated to closing direction, a second rotation protrusion is interlocked with close guide protrusions, rotating the inner cap and thereby the inner cap is closed. As a result, the side press safety cap is possible to be opened and closed stably.', image=<PIL.Image.Image image mode=RGB size=2752x3000 at 0x7F542C9CF690>, label='B65D', model_output=None, messages=None, model_type='claude3haiku', mode=2)\n"
     ]
    },
    {
     "name": "stderr",
     "output_type": "stream",
     "text": [
      "234it [04:35,  1.06s/it]"
     ]
    },
    {
     "name": "stdout",
     "output_type": "stream",
     "text": [
      "Output: B65D, Expected: B65D, Current Accuracy: 0.1581196581196581, Token Usage: 0\n",
      "PatentData(text='The present technology relates to an imaging apparatus capable of offering useful information with higher certainty. An imaging apparatus includes an optical system that condenses light received from a subject, an imaging device that photoelectrically converts the light received from the optical system to form a pickup image, and a cover glass disposed between the optical system and the imaging device to protect a surface of the imaging device. The cover glass is disposed obliquely to the imaging device. When stray light corresponding to light reflected on the imaging device enters the cover glass as a part of light having entered the imaging device via the optical system and the cover glass, this stray light is reflected on the cover glass toward a low harmful area of the imaging device. Accordingly, flares generated by stray light decreases in a recognition useful area. The present technology is applicable to an on-vehicle camera, a ceiling type monitoring camera, or others.', image=<PIL.Image.Image image mode=RGB size=3000x2166 at 0x7F542C9CD810>, label='H04N', model_output=None, messages=None, model_type='claude3haiku', mode=2)\n"
     ]
    },
    {
     "name": "stderr",
     "output_type": "stream",
     "text": [
      "235it [04:36,  1.12s/it]"
     ]
    },
    {
     "name": "stdout",
     "output_type": "stream",
     "text": [
      "Output: B60P, Expected: H04N, Current Accuracy: 0.1574468085106383, Token Usage: 0\n",
      "PatentData(text='A device for the damming of a liquid in a liquid basin including a tubular enclosure suitable for arrangement at an edge of the liquid basin, wherein a longitudinal direction of the tubular enclosure extends substantially parallel to the edge, wherein the enclosure encloses a liquid-fillable space, wherein the, enclosure, at an exterior side thereof, facing the liquid basin, is provided with a skirt for being supported by a sloping underground of the liquid basin, seen from the edge, wherein the support during use is carried out in such a way, that a contact surface present between the skirt and the underground remains substantially free from liquid from the liquid basin, wherein the enclosure, near the lower side of the side during use facing the liquid basin, is provided with one or more filling openings, arranged above the skirt, that during use create an open liquid connection between the space and the liquid in the liquid basin.', image=<PIL.Image.Image image mode=RGB size=3000x2377 at 0x7F542C7E7750>, label='E02B', model_output=None, messages=None, model_type='claude3haiku', mode=2)\n"
     ]
    },
    {
     "name": "stderr",
     "output_type": "stream",
     "text": [
      "236it [04:37,  1.18s/it]"
     ]
    },
    {
     "name": "stdout",
     "output_type": "stream",
     "text": [
      "Output: B64D, Expected: E02B, Current Accuracy: 0.15677966101694915, Token Usage: 0\n",
      "PatentData(text='A method of fabricating parts out of metallic, intermetallic, ceramic, ceramic matrix composite, or metal matrix composite material with discontinuous reinforcement, includes melting or sintering powder particles by means of a high-energy beam. The powder used is a single powder of particles that present sphericity lying in the range 0.8 to 1.0 and of form factor lying in the range 1 to √2, each powder particle presenting substantially identical mean composition, and the grain size distribution of the particles of the powder is narrowed around the mean diameter value d50% in such a manner that: (d90%−d50%)/d50%≦0.66; and (d50%−d10%)/d50%≦0.33; with a “span”: (d90%−d10%)/d50%≦1.00.', image=<PIL.Image.Image image mode=RGB size=2671x3000 at 0x7F542C7DF510>, label='B22F', model_output=None, messages=None, model_type='claude3haiku', mode=2)\n"
     ]
    },
    {
     "name": "stderr",
     "output_type": "stream",
     "text": [
      "237it [04:39,  1.23s/it]"
     ]
    },
    {
     "name": "stdout",
     "output_type": "stream",
     "text": [
      "Output: G01N, Expected: B22F, Current Accuracy: 0.15611814345991562, Token Usage: 0\n",
      "PatentData(text='The present application relates to a steaming device. The steaming device comprises a steam generator (8) having a heated surface (6), a pump configured to direct fluid against the heated surface (6) to generate steam, an orientation detector to detect orientation of the heated surface (6), and a control unit. The control unit is configured to operate the pump to adjust the flow rate of the pump in dependence on the orientation of the heated surface determined by the orientation detector.', image=<PIL.Image.Image image mode=RGB size=2256x1648 at 0x7F542C8013D0>, label='D06F', model_output=None, messages=None, model_type='claude3haiku', mode=2)\n"
     ]
    },
    {
     "name": "stderr",
     "output_type": "stream",
     "text": [
      "238it [04:40,  1.16s/it]"
     ]
    },
    {
     "name": "stdout",
     "output_type": "stream",
     "text": [
      "Output: F41C, Expected: D06F, Current Accuracy: 0.15546218487394958, Token Usage: 0\n",
      "PatentData(text='A spray bottle cap comprising a base lid, a pressing head and a protective cap. An upper end of an inner wall of the base lid is provided with a first limit rib and a first guide groove penetrating the first limit rib. The pressing head connects to the upper end of the base lid, and comprises a outlet rob, a pressing handle and a connection portion, where the outlet rod is provided with an outer thread, the lower end of the connection portion is provided with a first limit flange and a protrusion portion, and the pressing handle is provided with an anti-reversion snap parent body; the first limit flange is arranged under the first limit rib, and the protrusion portion is up-down slidable along the first guide groove and is supportable on the upper end face of the base lid. The protection cap is a double-layer structure covering the outside of the outlet rod.', image=<PIL.Image.Image image mode=RGB size=1398x3000 at 0x7F542C9CFB50>, label='B05B', model_output=None, messages=None, model_type='claude3haiku', mode=2)\n"
     ]
    },
    {
     "name": "stderr",
     "output_type": "stream",
     "text": [
      "239it [04:41,  1.16s/it]"
     ]
    },
    {
     "name": "stdout",
     "output_type": "stream",
     "text": [
      "Output: B65D, Expected: B05B, Current Accuracy: 0.15481171548117154, Token Usage: 0\n",
      "PatentData(text='The discovery is in the field of plant breeding and improvement, related specifically to a hybrid field corn seed production method that utilizes floret development variant donors as female inbreds or modified inbreds. The methods increase yield in a production field and speeds and aids production. Also provided are field corn ears with the floret development phenotype and seed from the ears.', image=<PIL.Image.Image image mode=RGB size=2126x2824 at 0x7F542C7F0150>, label='A01H', model_output=None, messages=None, model_type='claude3haiku', mode=2)\n"
     ]
    },
    {
     "name": "stderr",
     "output_type": "stream",
     "text": [
      "240it [04:42,  1.05s/it]"
     ]
    },
    {
     "name": "stdout",
     "output_type": "stream",
     "text": [
      "Output: A01G, Expected: A01H, Current Accuracy: 0.15416666666666667, Token Usage: 0\n",
      "PatentData(text='A light source for a colour display apparatus (1) for displaying light at optical wavelengths corresponding a plurality of different colours sequentially, comprising a plurality of light-emitting diodes (3, 4, 5) each respectively operable to emit light to display a respective one of the plurality of different colours, a power source (26) connected to the plurality of LEDs for supplying power thereto a plurality of capacitor units (7, 8, 9) connected to the power source to be provided thereby with charge for generating a respective one of a plurality of different respective forward bias voltages for application to the LEDs to operate the LED. A control unit (10) is operable to selectively connect a capacitor unit to an LED for applying a desired one of the different said forward bias voltages thereto according to the colour of light which the LED is operable to display.', image=<PIL.Image.Image image mode=RGB size=1849x3000 at 0x7F542C7DFFD0>, label='H05B', model_output=None, messages=None, model_type='claude3haiku', mode=2)\n"
     ]
    },
    {
     "name": "stderr",
     "output_type": "stream",
     "text": [
      "241it [04:43,  1.11s/it]"
     ]
    },
    {
     "name": "stdout",
     "output_type": "stream",
     "text": [
      "Output: H04L, Expected: H05B, Current Accuracy: 0.15352697095435686, Token Usage: 0\n",
      "PatentData(text='Ceramic and stone tiles are shown, which are provided with a locking system including a separate strip part connected to vertical and horizontal grooves formed in the tile edge. A set of ceramic or stone tiles including a first tile provided with a first edge and a second tile provided with a second edge wherein the tiles are provided with a locking system for locking the first edge to the second edge in a horizontal direction parallel with a tile surface and in a vertical direction perpendicular to the horizontal direction, said locking system includes a first and a second tongue and a strip part provided with a first and a second locking element.', image=<PIL.Image.Image image mode=RGB size=3000x1196 at 0x7F542C7F9610>, label='E04F', model_output=None, messages=None, model_type='claude3haiku', mode=2)\n"
     ]
    },
    {
     "name": "stderr",
     "output_type": "stream",
     "text": [
      "243it [04:44,  1.20it/s]"
     ]
    },
    {
     "name": "stdout",
     "output_type": "stream",
     "text": [
      "Output: B63B, Expected: E04F, Current Accuracy: 0.1522633744855967, Token Usage: 0\n",
      "PatentData(text='The invention relates to a two phase fermentation process for producing an organic compound, in particular an isoprenoid and to a bioreactor comprising a two phase fermentation system for producing an organic compound.', image=<PIL.Image.Image image mode=RGB size=1916x2539 at 0x7F542C7E7050>, label='C12P', model_output=None, messages=None, model_type='claude3haiku', mode=2)\n"
     ]
    },
    {
     "name": "stderr",
     "output_type": "stream",
     "text": [
      "244it [04:45,  1.19it/s]"
     ]
    },
    {
     "name": "stdout",
     "output_type": "stream",
     "text": [
      "Output: G01N, Expected: C12P, Current Accuracy: 0.15163934426229508, Token Usage: 0\n",
      "PatentData(text='A reception interface for a machine for preparing beverages by infusion from a ground product to be infused, wherein the interface removably receives by manual action of a user a filter-holder device for containing the ground product, wherein it comprises a selection element that is movable from a rest position and configured to be reach one of a plurality of work positions each corresponding to a respective operation mode of the machine, wherein the selection element can moved into one or the other of the work positions by the filter-holder device when received in the reception interface. One or more embodiments of the invention also relate to a machine for preparing beverages as well as a method for operating such a machine.', image=<PIL.Image.Image image mode=RGB size=1976x3000 at 0x7F542C7F8310>, label='A47J', model_output=None, messages=None, model_type='claude3haiku', mode=2)\n"
     ]
    },
    {
     "name": "stderr",
     "output_type": "stream",
     "text": [
      "245it [04:46,  1.15it/s]"
     ]
    },
    {
     "name": "stdout",
     "output_type": "stream",
     "text": [
      "Output: A01F, Expected: A47J, Current Accuracy: 0.1510204081632653, Token Usage: 0\n",
      "PatentData(text='A composition comprises, in weight percent: Al as a largest constituent; 3.0 6.0 Cr; 1.5 4.0 Mn; 0.1 3.5 Co; and 0.3 2.0 Zr.', image=<PIL.Image.Image image mode=RGB size=1941x3000 at 0x7F542C7E0150>, label='C22C', model_output=None, messages=None, model_type='claude3haiku', mode=2)\n"
     ]
    },
    {
     "name": "stderr",
     "output_type": "stream",
     "text": [
      "246it [04:47,  1.06s/it]"
     ]
    },
    {
     "name": "stdout",
     "output_type": "stream",
     "text": [
      "Output: G01N, Expected: C22C, Current Accuracy: 0.15040650406504066, Token Usage: 0\n",
      "PatentData(text='A module (10) for heating a preform (12) made of a thermoplastic, includes: a lamp (16) having an emissive portion (22) emitting heating electromagnetic radiation and a non-emissive portion (24) that does not emit the heating radiation; and a longitudinal lens (32) that is fastened to the lamp (16), by at least one fastening brace (34), parallel to the emitting portion (22) in order to focus the heating radiation toward a selected zone of the preform; wherein each brace (34) is only fastened to the non-emissive portion (24) of the lamp (16).', image=<PIL.Image.Image image mode=RGB size=2745x3000 at 0x7F542C7E41D0>, label='B29C', model_output=None, messages=None, model_type='claude3haiku', mode=2)\n"
     ]
    },
    {
     "name": "stderr",
     "output_type": "stream",
     "text": [
      "247it [04:49,  1.29s/it]"
     ]
    },
    {
     "name": "stdout",
     "output_type": "stream",
     "text": [
      "Output: F41C, Expected: B29C, Current Accuracy: 0.14979757085020243, Token Usage: 0\n",
      "PatentData(text='A seat for a vehicle, including a seating part pivoting about a pivot connection, a pivot connection allowing the seating part to be lowered into a substantially horizontal position or lifted against a back rest, the lowering of the seating part being limited in the course thereof by at least one first abutment that can release the lowering following an impact, the being characterized in that the seating part includes at least two adjacent panels that can carry out a fold-back movement in relation to each other about an axis parallel to the pivot connection between the seating part and the back rest in such a way as to be able to bring the upper faces of the panels towards each other.', image=<PIL.Image.Image image mode=RGB size=2233x3000 at 0x7F542C7F15D0>, label='B60N', model_output=None, messages=None, model_type='claude3haiku', mode=2)\n"
     ]
    },
    {
     "name": "stderr",
     "output_type": "stream",
     "text": [
      "248it [04:50,  1.21s/it]"
     ]
    },
    {
     "name": "stdout",
     "output_type": "stream",
     "text": [
      "Output: F16B, Expected: B60N, Current Accuracy: 0.14919354838709678, Token Usage: 0\n",
      "PatentData(text='A method and an automatically controlled vehicle for transporting an object such as an item of luggage, with two pivotable axles each having at the outer ends two wheels driven with drive motors, with a control unit which is configured to perform the steps of controlling each of the drive motors such that an at least substantially equal basic drive torque is applied to each of the wheels and, for the purpose of changing the direction of the vehicle, controlling the drive motors associated with a wheel support arm such that a steering torque which is of the same magnitude but of opposite direction is applied in addition to the basic drive torque to the associated wheels.', image=<PIL.Image.Image image mode=RGB size=2602x3000 at 0x7F542C9CFA50>, label='B62D', model_output=None, messages=None, model_type='claude3haiku', mode=2)\n"
     ]
    },
    {
     "name": "stderr",
     "output_type": "stream",
     "text": [
      "249it [04:51,  1.18s/it]"
     ]
    },
    {
     "name": "stdout",
     "output_type": "stream",
     "text": [
      "Output: B65G, Expected: B62D, Current Accuracy: 0.14859437751004015, Token Usage: 0\n",
      "PatentData(text='Disclosed are a control method for supporting multiple connections in a mobile communication system and an apparatus for supporting multiple connections. In the method for supporting the multiple connections to be performed in first and second base stations, a first base station receives the measured results for multiple connections from a terminal, determines whether the plurality of connections are set on the basis of the measured results, transmits the information for setting the multiple connections to the second base station when setting the multiple results, and the second base station generates the control information for setting the multiple connections of the terminal on the basis of the information for setting the multiple connections received from the first base station. Thus, the multiple connections can be easily supported and the performance of the mobile communication system can be improved therethrough.', image=<PIL.Image.Image image mode=RGB size=3000x2543 at 0x7F542C7E32D0>, label='H04W', model_output=None, messages=None, model_type='claude3haiku', mode=2)\n"
     ]
    },
    {
     "name": "stderr",
     "output_type": "stream",
     "text": [
      "250it [04:53,  1.40s/it]"
     ]
    },
    {
     "name": "stdout",
     "output_type": "stream",
     "text": [
      "Output: G08G, Expected: H04W, Current Accuracy: 0.148, Token Usage: 0\n",
      "PatentData(text='Compositions for use in oral hygiene contain a Lactobacillus helveticus strain. Compositions further containing a Lactobacillus plantarum strain, especially Lactobacillus plantarum SD5870, are particularly effective. The combination of Lactobacillus helveticus LAFTI L10 and Lactobacillus plantarum SD5870 synergistically improves oral hygiene. The compositions are particularly useful against dental caries.', image=<PIL.Image.Image image mode=RGB size=1540x3000 at 0x7F542C800350>, label='A61K', model_output=None, messages=None, model_type='claude3haiku', mode=2)\n"
     ]
    },
    {
     "name": "stderr",
     "output_type": "stream",
     "text": [
      "251it [04:54,  1.32s/it]"
     ]
    },
    {
     "name": "stdout",
     "output_type": "stream",
     "text": [
      "Output: G01N, Expected: A61K, Current Accuracy: 0.14741035856573706, Token Usage: 0\n",
      "PatentData(text='The present invention relates to transgenic nucleic acids, expression cassettes, vectors, plant cells, plant organs and plants. The invention also relates to methods for increasing expression or activity of a target gene, particularly in a plant cell or plant organ, and also to uses of recombinant nucleic acids and expression cassettes to increase expression or activity of a target gene or for manufacturing of a vector, plant cell, plant organ or plant. Incidentally, the invention relates to enhancers for achieving increased expression or activity of a target gene, particularly in a plant cell or plant organ, when operably linked to a promoter functional in such plant cell, plant organ or plant. The invention is described herein with reference to the technical field of production of polyunsaturated fatty acids (PUFAs), without being limited to this technical field. For the production of desired molecules in plant cells, e.g. PUFAs, it is frequently required to express a target gene heterologous to the plant cell, or to overexpress a target gene naturally found in said plant cell.', image=<PIL.Image.Image image mode=RGB size=1630x3000 at 0x7F542C7EF150>, label='C12N', model_output=None, messages=None, model_type='claude3haiku', mode=2)\n"
     ]
    },
    {
     "name": "stderr",
     "output_type": "stream",
     "text": [
      "252it [04:57,  1.62s/it]"
     ]
    },
    {
     "name": "stdout",
     "output_type": "stream",
     "text": [
      "Output: G06F, Expected: C12N, Current Accuracy: 0.14682539682539683, Token Usage: 0\n",
      "PatentData(text='The invention relates to an affinity chromatography matrix, as a gel, comprising polymeric particles on which at least one oligosaccharide corresponding to a blood group A epitope and/or blood group B is grafted, via a spacer, characterized in that the density of oligosaccharides is comprised between 0.2 and 0.7 mg/ml of matrix. The invention also relates to the uses of this matrix for preparing concentrates of immunoglobulins for therapeutic use.', image=<PIL.Image.Image image mode=RGB size=1562x616 at 0x7F542C810550>, label='C07K', model_output=None, messages=None, model_type='claude3haiku', mode=2)\n"
     ]
    },
    {
     "name": "stderr",
     "output_type": "stream",
     "text": [
      "253it [04:57,  1.38s/it]"
     ]
    },
    {
     "name": "stdout",
     "output_type": "stream",
     "text": [
      "Output: A61K, Expected: C07K, Current Accuracy: 0.14624505928853754, Token Usage: 0\n",
      "PatentData(text='Polymeric materials for use in challenging situations in the oil and gas industry (e.g. challenging physical and chemical environments) are described. The polymeric materials comprise a polymeric material having a repeat unit of formula I and a repeat unit of formula II wherein Ph represents a phenylene moiety; wherein the repeat units I and II are in the relative molar proportions 95:5 to 80:20.', image=<PIL.Image.Image image mode=RGB size=1266x3000 at 0x7F542C812990>, label='C08G', model_output=None, messages=None, model_type='claude3haiku', mode=2)\n"
     ]
    },
    {
     "name": "stderr",
     "output_type": "stream",
     "text": [
      "254it [04:58,  1.29s/it]"
     ]
    },
    {
     "name": "stdout",
     "output_type": "stream",
     "text": [
      "Output: G01N, Expected: C08G, Current Accuracy: 0.14566929133858267, Token Usage: 0\n",
      "PatentData(text='A first ring section and a second ring section made of resin are integrally formed in both ends in the direction of a center axis of a rod section. A plurality of first ribs, intermediate ribs, and second ribs are provided in an outer circumferential surface of the second ring section so as to project in the direction intersecting at right angles to a center axis of the second ring section. The first ribs and the intermediate ribs, and the second ribs each are integrally connected on either side in the left and right direction to vertical ribs that are formed long in the direction of the center axis. Projecting heights of the vertical ribs and the second ribs are varied along inclined straight lines.', image=<PIL.Image.Image image mode=RGB size=3000x2135 at 0x7F542D6B6D10>, label='B60K', model_output=None, messages=None, model_type='claude3haiku', mode=2)\n"
     ]
    },
    {
     "name": "stderr",
     "output_type": "stream",
     "text": [
      "255it [05:00,  1.39s/it]"
     ]
    },
    {
     "name": "stdout",
     "output_type": "stream",
     "text": [
      "Output: F16H, Expected: B60K, Current Accuracy: 0.1450980392156863, Token Usage: 0\n",
      "PatentData(text='Disclosed are compositions and methods for treating disease or condition caused or exacerbated by S100A9 activity, such as myelodysplastic syndromes (MDS) using a composition comprising an effective amount of a CD33/S100A9 inhibitor.', image=<PIL.Image.Image image mode=RGB size=2376x3000 at 0x7F542C811E90>, label='C07K', model_output=None, messages=None, model_type='claude3haiku', mode=2)\n"
     ]
    },
    {
     "name": "stderr",
     "output_type": "stream",
     "text": [
      "256it [05:02,  1.58s/it]"
     ]
    },
    {
     "name": "stdout",
     "output_type": "stream",
     "text": [
      "Output: G01N, Expected: C07K, Current Accuracy: 0.14453125, Token Usage: 0\n",
      "PatentData(text='The present invention relates to peptides comprising at least one CD4+ T epitope, which is immunodominant in vitro, of the cyclin B1 tumor antigen, said peptides being capable of stimulating a specific human CD4+ T lymphocyte response in subjects who have varied HLA II molecules, and to the use of these peptides as a cancer vaccine and as a reagent for the diagnosis of cancer or the immunomonitoring of the cellular response against cyclin B1 during cancer or during an anticancer treatment.', image=<PIL.Image.Image image mode=RGB size=1917x3000 at 0x7F542C8057D0>, label='C07K', model_output=None, messages=None, model_type='claude3haiku', mode=2)\n"
     ]
    },
    {
     "name": "stderr",
     "output_type": "stream",
     "text": [
      "258it [05:03,  1.08s/it]"
     ]
    },
    {
     "name": "stdout",
     "output_type": "stream",
     "text": [
      "Output: G01N, Expected: C07K, Current Accuracy: 0.1434108527131783, Token Usage: 0\n",
      "PatentData(text='An electric arc furnace (2) and to a method for operating an electric arc furnace having at least one electrode (4a, 4b, 4c) for generating an electric arc (6a, 6b, 6c), in which the desired value of the current (I) guided to the electrode (4a, 4b, 4c) oscillates about a predetermined base value (I0).', image=<PIL.Image.Image image mode=RGB size=1580x2414 at 0x7F542C9CD910>, label='F27B', model_output=None, messages=None, model_type='claude3haiku', mode=2)\n"
     ]
    },
    {
     "name": "stderr",
     "output_type": "stream",
     "text": [
      "259it [05:04,  1.01s/it]"
     ]
    },
    {
     "name": "stdout",
     "output_type": "stream",
     "text": [
      "Output: H02M, Expected: F27B, Current Accuracy: 0.14285714285714285, Token Usage: 0\n",
      "PatentData(text='A medical navigation system is provided for performing at least part of an assessment of a non-living body. The medical navigation system comprises a positioning device having a positioning arm with an end effector at the end of the positioning arm, an imaging device coupled to the end effector, and a controller electrically coupled to the positioning device and the imaging device. The controller has a processor coupled to a memory and a display. The controller is configured to generate a signal to move the positioning arm to position the imaging device through a range of motion to perform a scan of a surface of the body and receive and save as data in the memory signals generated by the imaging device during the range of motion.', image=<PIL.Image.Image image mode=RGB size=3000x2362 at 0x7F542C7EF190>, label='A61B', model_output=None, messages=None, model_type='claude3haiku', mode=2)\n"
     ]
    },
    {
     "name": "stderr",
     "output_type": "stream",
     "text": [
      "260it [05:05,  1.08s/it]"
     ]
    },
    {
     "name": "stdout",
     "output_type": "stream",
     "text": [
      "Output: A61B, Expected: A61B, Current Accuracy: 0.14615384615384616, Token Usage: 0\n",
      "PatentData(text='Photocatalysts for reduction of carbon dioxide and water are provided that can be tuned to produce certain reaction products, including hydrogen, alcohol, aldehyde, and/or hydrocarbon products. These photocatalysts can form artificial photosystems and can be incorporated into devices that reduce carbon dioxide and water for production of various fuels. Doped wide-bandgap semiconductor nanotubes are provided along with synthesis methods. A variety of optical, electronic and magnetic dopants (substitutional and interstitial, energetically shallow and deep) are incorporated into hollow nanotubes, ranging from a few dopants to heavily-doped semiconductors. The resulting wide-bandgap nanotubes, with desired electronic (p- or n-doped), optical (ultraviolet bandgap to infrared absorption in co-doped nanotubes), and magnetic (from paramagnetic to ferromagnetic) properties, can be used in photovoltaics, display technologies, photocatalysis, and spintronic applications.', image=<PIL.Image.Image image mode=RGB size=3000x2699 at 0x7F542C806710>, label='B01J', model_output=None, messages=None, model_type='claude3haiku', mode=2)\n"
     ]
    },
    {
     "name": "stderr",
     "output_type": "stream",
     "text": [
      "261it [05:08,  1.48s/it]"
     ]
    },
    {
     "name": "stdout",
     "output_type": "stream",
     "text": [
      "Output: G01N, Expected: B01J, Current Accuracy: 0.14559386973180077, Token Usage: 0\n",
      "PatentData(text='The present invention provides new p38 mitogen activated protein (MAP) kinase allosteric inhibitors which are useful for the treatment of p38 mediated diseases such as inflammatory diseases, e.g. rheumatoid arthritis, osteoarthritis, psoriatic arthritis, pain, musculoskeletal system inflammation and musculoskeletal system aging. The present invention thus provides compounds for use in a method for treatment of inflammatory diseases, as well as for use in therapy in general, wherein the compound binds to the region composed of amino acids at positions 170-199 of Mitogen-activated protein kinase 14 (Uniprot accession nr Q16539 or SEQ ID No 1) and/or Mitogen-activated protein kinase 11 (Uniprot accession nr Q15759 or SEQ ID No 2), SEQ ID NO. 1 and SEQ ID NO. 2 being the amino acid sequences of MAPK14 (p38cx) and MAPK11 (p38β), respectively. The specific region composed of amino acids at positions 170-199 is herein disclosed as SEQ ID NO. 4 for Mitogen-activated protein kinase 14 and SEQ ID NO. 5 for Mitogen-activated protein kinase 11 and are believed to be new inhibitory binding sites.', image=<PIL.Image.Image image mode=RGB size=3000x2108 at 0x7F542C812890>, label='C07D', model_output=None, messages=None, model_type='claude3haiku', mode=2)\n"
     ]
    },
    {
     "name": "stderr",
     "output_type": "stream",
     "text": [
      "262it [05:09,  1.43s/it]"
     ]
    },
    {
     "name": "stdout",
     "output_type": "stream",
     "text": [
      "Output: A61K, Expected: C07D, Current Accuracy: 0.1450381679389313, Token Usage: 0\n",
      "PatentData(text='The present invention relates to processes for providing creamer compositions with enhanced coffee taste and/or coffee aromas. In addition the invention relates to the use of such creamer compositions in coffee mixes.', image=<PIL.Image.Image image mode=RGB size=1964x2604 at 0x7F542C810710>, label='A23C', model_output=None, messages=None, model_type='claude3haiku', mode=2)\n"
     ]
    },
    {
     "name": "stderr",
     "output_type": "stream",
     "text": [
      "263it [05:11,  1.57s/it]"
     ]
    },
    {
     "name": "stdout",
     "output_type": "stream",
     "text": [
      "Output: B01D, Expected: A23C, Current Accuracy: 0.1444866920152091, Token Usage: 0\n",
      "PatentData(text='Provided are a composite carrier for immobilization of a protein, polypeptide or oligopeptide, a preparation method and an application thereof. The composite carrier is a porous material which comprises: (1) a porous organic foam material containing open pores; and (2) a crosslinked product having aldehyde groups and immobilized on the surface of the walls of one or more pores of the porous organic foam material, wherein the aldehyde groups are able to react with the protein, polypeptide or oligopeptide, and the crosslinked product are formed by chitosan via a crosslinking reaction with a polyaldehyde compound.', image=<PIL.Image.Image image mode=RGB size=1582x2924 at 0x7F542C7ECCD0>, label='C08J', model_output=None, messages=None, model_type='claude3haiku', mode=2)\n"
     ]
    },
    {
     "name": "stderr",
     "output_type": "stream",
     "text": [
      "264it [05:12,  1.39s/it]"
     ]
    },
    {
     "name": "stdout",
     "output_type": "stream",
     "text": [
      "Output: G01N, Expected: C08J, Current Accuracy: 0.14393939393939395, Token Usage: 0\n",
      "PatentData(text='There is described a method for producing a synthetic yarn based on polyamide with high moisture regain capacity, comprising the steps of: reacting polyamide and polyetheramine having a molecular weight of at least 1500 to obtain a modified polyamide containing polyetheramine to increase the moisture regain of the polyamide; and generating a yarn from a molten mass of the modified polyamide.', image=<PIL.Image.Image image mode=RGB size=2624x3000 at 0x7F542C9CF0D0>, label='D01F', model_output=None, messages=None, model_type='claude3haiku', mode=2)\n"
     ]
    },
    {
     "name": "stderr",
     "output_type": "stream",
     "text": [
      "265it [05:13,  1.43s/it]"
     ]
    },
    {
     "name": "stdout",
     "output_type": "stream",
     "text": [
      "Output: B01D, Expected: D01F, Current Accuracy: 0.14339622641509434, Token Usage: 0\n",
      "PatentData(text='A simulator for in-silico testing of Type 1 diabetes patients uses a model that puts in relation plasma concentrations, i.e., glucose G and insulin /, with glucose fluxes, i.e. endogenous glucose production (EGP), glucose rate of appearance (Ra), glucose utilization by the tissues (U), renal extraction (E), and insulin fluxes, i.e., rate of insulin appearance from the subcutaneous tissues (SC) and insulin degradation (D). A module is also included to describe counter-regulation, i.e. glucagon kinetics, secretion and action. A glucagon subcutaneous absorption model enables simulation of dual hormone control.', image=<PIL.Image.Image image mode=RGB size=2457x3000 at 0x7F542C810850>, label='G06F', model_output=None, messages=None, model_type='claude3haiku', mode=2)\n"
     ]
    },
    {
     "name": "stderr",
     "output_type": "stream",
     "text": [
      "266it [05:15,  1.41s/it]"
     ]
    },
    {
     "name": "stdout",
     "output_type": "stream",
     "text": [
      "Output: A61B, Expected: G06F, Current Accuracy: 0.14285714285714285, Token Usage: 0\n",
      "PatentData(text='A dispenser device, including an outlet, air expeller including a piston that slides in an air chamber between rest position and dispensing positions, and a reservoir containing a dose composition. The reservoir includes an air inlet connected to the air expeller, and a composition outlet connected to the outlet, the air inlet including a composition retainer member, and the composition outlet being closed by a closure element force fitted in the composition outlet of the reservoir. A mechanical opening system co-operates with the closure element to expel it from its closed position while the device is actuated. The piston, when in its rest position, co-operates in non-airtight manner with the air chamber so that the air chamber communicates with the atmosphere. The piston includes an inner lip co-operating with a cylindrical surface, the cylindrical surface including fluting co-operating in non-airtight manner with the inner lip in the rest position.', image=<PIL.Image.Image image mode=RGB size=1701x3000 at 0x7F542C811A50>, label='B05B', model_output=None, messages=None, model_type='claude3haiku', mode=2)\n"
     ]
    },
    {
     "name": "stderr",
     "output_type": "stream",
     "text": [
      "267it [05:16,  1.37s/it]"
     ]
    },
    {
     "name": "stdout",
     "output_type": "stream",
     "text": [
      "Output: F41A, Expected: B05B, Current Accuracy: 0.14232209737827714, Token Usage: 0\n",
      "PatentData(text='An electrode array having a splayable bundle of fibers having heat-sharpened tips. A method of manufacturing an electrode array including heat-sharpening a tip of each of a plurality of fibers; and bundling the plurality of fibers. A method of implanting an electrode array into a subject, the electrode array having a bundle of fibers, the method including exposing a target in the subject for the electrode array; and inserting the bundle of fibers into the target, where forces holding the bundle of fibers together are released during the insertion thus resulting in splaying of the fibers. An electrical connection with the fibers can be formed by a conductive material, or in high-channel count designs formed by surface mounting two-dimensional amplifier arrays to a base of a fiber array.', image=<PIL.Image.Image image mode=RGB size=2237x3000 at 0x7F542C7F21D0>, label='A61N', model_output=None, messages=None, model_type='claude3haiku', mode=2)\n"
     ]
    },
    {
     "name": "stderr",
     "output_type": "stream",
     "text": [
      "268it [05:18,  1.58s/it]"
     ]
    },
    {
     "name": "stdout",
     "output_type": "stream",
     "text": [
      "Output: G01N, Expected: A61N, Current Accuracy: 0.1417910447761194, Token Usage: 0\n",
      "PatentData(text='A shower head is disclosed that includes means for accessing its interior. A method for accessing the interior of the shower head is also disclosed. The shower head includes a main body with an interior, a proximal water receiving end for connecting to a water source and a distal water dispensing end. A face plate is movably affixed to the water dispensing end. The face plate has openings for water to pass therethrough to reach a user. The face plate is movable between a closed position where the face plate closes the distal water dispensing end of the main body and an open position where the face plate is displaced away from the distal water dispensing end of the main body to access the interior of the main body. The interior of the shower head is therefore easily accessible without the need for tools or plumbing expertise. The shower head may include a regulating device, also easily accessible, for controlling the flow or for treating the water passing therethrough.', image=<PIL.Image.Image image mode=RGB size=1283x3000 at 0x7F542C7EC190>, label='B05B', model_output=None, messages=None, model_type='claude3haiku', mode=2)\n"
     ]
    },
    {
     "name": "stderr",
     "output_type": "stream",
     "text": [
      "269it [05:19,  1.36s/it]"
     ]
    },
    {
     "name": "stdout",
     "output_type": "stream",
     "text": [
      "Output: B05B, Expected: B05B, Current Accuracy: 0.1449814126394052, Token Usage: 0\n",
      "PatentData(text='A braking device 1 is provided for a tape reel mounted rotatably about its axis. The braking device 1 includes two rotating members 10, 20 rotationally coupled with the reel, and a selection member 30 configured to cooperate by friction selectively with either one of the rotating members 10, 20 by moving the selection member to engage one or the other rotating member for friction braking.', image=<PIL.Image.Image image mode=RGB size=1626x2193 at 0x7F542C7E5A50>, label='B65H', model_output=None, messages=None, model_type='claude3haiku', mode=2)\n"
     ]
    },
    {
     "name": "stderr",
     "output_type": "stream",
     "text": [
      "270it [05:20,  1.28s/it]"
     ]
    },
    {
     "name": "stdout",
     "output_type": "stream",
     "text": [
      "Output: F16H, Expected: B65H, Current Accuracy: 0.14444444444444443, Token Usage: 0\n",
      "PatentData(text='A diffusion plate includes a plate member facing an opening end of a supply pipe with a thickness direction thereof substantially parallel with a supply direction a supply fluid. The plate member is rotatable around a rotation axis substantially parallel with the thickness direction and has a diffusion hole, penetrating in the thickness direction at a position other than a rotation center of the plate member. The diffusion hole has a wall surface defined at a rear side in a rotation direction and has a first wall surface end defined in a facing surface facing the supply pipe, at a rearmost in the rotation direction and a second wall surface end defined in a non-facing surface at a rearmost in the rotation direction. The wall surface is inclined with the first wall surface end being at a front side of the second wall surface end in the rotation direction.', image=<PIL.Image.Image image mode=RGB size=3000x2947 at 0x7F542C802D50>, label='B24D', model_output=None, messages=None, model_type='claude3haiku', mode=2)\n"
     ]
    },
    {
     "name": "stderr",
     "output_type": "stream",
     "text": [
      "271it [05:21,  1.30s/it]"
     ]
    },
    {
     "name": "stdout",
     "output_type": "stream",
     "text": [
      "Output: B24B, Expected: B24D, Current Accuracy: 0.14391143911439114, Token Usage: 0\n",
      "PatentData(text='The present invention relates to methods and plants for the treatment of an organic waste material, wherein waste is subjected to anaerobic fermentation in a biogas digester; effluent is mechanically separated from the biogas digester into a concentrated fraction and a liquid fraction; the liquid fraction is heated to a high temperature below the boiling point of the liquid; the heated liquid is introduced to a flash column to partially remove volatile carbon dioxide, the pH of the liquid is elevated and ammonia is removed from the liquid.', image=<PIL.Image.Image image mode=RGB size=1420x3000 at 0x7F542C7FBE10>, label='C05D', model_output=None, messages=None, model_type='claude3haiku', mode=2)\n"
     ]
    },
    {
     "name": "stderr",
     "output_type": "stream",
     "text": [
      "272it [05:23,  1.28s/it]"
     ]
    },
    {
     "name": "stdout",
     "output_type": "stream",
     "text": [
      "Output: C10L, Expected: C05D, Current Accuracy: 0.14338235294117646, Token Usage: 0\n",
      "PatentData(text='The present invention relates to an apparatus for testing and conditioning rechargeable batteries such that: it minimizes the communication times among the various converters of said apparatus which are connected in parallel, thus reducing the accesses to the communication data bus by the control module; it makes the response times of the feedback loop faster, the latter being connected to the power supply common to the group of converters connected in parallel, so as to thus make the adjustment of the voltage on the load more accurate.', image=<PIL.Image.Image image mode=RGB size=3000x2010 at 0x7F542C810650>, label='H02J', model_output=None, messages=None, model_type='claude3haiku', mode=2)\n"
     ]
    },
    {
     "name": "stderr",
     "output_type": "stream",
     "text": [
      "273it [05:24,  1.20s/it]"
     ]
    },
    {
     "name": "stdout",
     "output_type": "stream",
     "text": [
      "Output: G01R, Expected: H02J, Current Accuracy: 0.14285714285714285, Token Usage: 0\n",
      "PatentData(text='A method, for removing contaminants from wastewater includes electrolytic treatment of wastewater with the use of an anode containing materials which withstand electrolysis as well as so-called sacrificial materials which are dissolved during electrolysis, both of which are simultaneously exposed to the wastewater. An apparatus for carrying out the method includes a dimensionally stable anode cage made from platinum, titanium, niobium, palladium, ruthenium, Iridium oxide, tantalum oxide or platinized titanium, as the part of the anode that withstands electrolysis, which anode cage is provided with aluminum, iron, magnesium, calcium or mixtures of these metals as sacrificial material.', image=<PIL.Image.Image image mode=RGB size=3000x1978 at 0x7F542C803090>, label='C02F', model_output=None, messages=None, model_type='claude3haiku', mode=2)\n"
     ]
    },
    {
     "name": "stderr",
     "output_type": "stream",
     "text": [
      "274it [05:25,  1.10s/it]"
     ]
    },
    {
     "name": "stdout",
     "output_type": "stream",
     "text": [
      "Output: A46B, Expected: C02F, Current Accuracy: 0.14233576642335766, Token Usage: 0\n",
      "PatentData(text='An autoinjector having a body (1; 2), a reservoir (S), a piston (P), a needle (A), and a piston rod (5) co-operating with the piston. The piston rod is movable between a first rest position, a second pricking position, and a third injection position. An actuator spring (6) is provided to urge the piston rod towards its pricking position and then towards its injection position. A force-adjustment system (7, 8) exerts a force (F1, F2) on the piston rod (5). The force (F1) opposes the force exerted by the actuator spring at the end of pricking to decrease the force exerted on the reservoir by the piston rod at the end of pricking, and the force (F2) adding to the force exerted by the actuator spring at the beginning of injection, to amplify the force exerted on the piston by the piston rod at the beginning of injection.', image=<PIL.Image.Image image mode=RGB size=3000x2339 at 0x7F542C812110>, label='A61M', model_output=None, messages=None, model_type='claude3haiku', mode=2)\n"
     ]
    },
    {
     "name": "stderr",
     "output_type": "stream",
     "text": [
      "275it [05:26,  1.10s/it]"
     ]
    },
    {
     "name": "stdout",
     "output_type": "stream",
     "text": [
      "Output: F41C, Expected: A61M, Current Accuracy: 0.14181818181818182, Token Usage: 0\n",
      "PatentData(text='The present invention relates to complexes of lactoferrin, osteopontin and iron. In particular the invention relates to a composition comprising at least 2 g/kg of lactoferrin-osteopontin-iron complex for use in the treatment or prevention of iron deficiency. An aspect of the invention is a fortified foodstuff comprising a lactoferrin- osteopontin-iron complex. Further aspects of the invention are a process for fortifying a food product with iron and the use of a lactoferrin-osteopontin-iron complex to fortify a food product with iron.', image=<PIL.Image.Image image mode=RGB size=2161x1606 at 0x7F542C803110>, label='A61K', model_output=None, messages=None, model_type='claude3haiku', mode=2)\n"
     ]
    },
    {
     "name": "stderr",
     "output_type": "stream",
     "text": [
      "276it [05:26,  1.01it/s]"
     ]
    },
    {
     "name": "stdout",
     "output_type": "stream",
     "text": [
      "Output: G01N, Expected: A61K, Current Accuracy: 0.14130434782608695, Token Usage: 0\n",
      "PatentData(text=\"A method for producing a solution including a positron emitting zinc cation of 63Zn, and the method comprises bombarding a solution target including 63Cu with high energy protons to produce a solution including a positron emitting zinc cation. A method for detecting or ruling out Alzheimer's disease in a patient comprises administering to a patient a detectable amount of a compound including a positron emitting zinc cation, wherein the zinc cation is targeted to beta-amyloid in the patient, and acquiring an image to detect the presence or absence of beta-amyloid in the patient.\", image=<PIL.Image.Image image mode=RGB size=3000x2573 at 0x7F542C7E0950>, label='A61K', model_output=None, messages=None, model_type='claude3haiku', mode=2)\n"
     ]
    },
    {
     "name": "stderr",
     "output_type": "stream",
     "text": [
      "277it [05:28,  1.19s/it]"
     ]
    },
    {
     "name": "stdout",
     "output_type": "stream",
     "text": [
      "Output: G01N, Expected: A61K, Current Accuracy: 0.1407942238267148, Token Usage: 0\n",
      "PatentData(text='A sprocket assembly comprises a first sprocket (54) which serves as a hub for a larger second sprocket. An annular extension member (70) is secured to the outer periphery of first sprocket (54) to prevent relative axial movement. The annular extension (70) comprises teeth (77,81) on both an inner edge (76) and an outer edge (80). The inner set of teeth (77) may be rounded so as to mate and lock with the profile of teeth of the first sprocket (54). The outer set of teeth (81) provide the larger second sprocket and engage with a chain (56).', image=<PIL.Image.Image image mode=RGB size=3000x2738 at 0x7F542C813F50>, label='A01D', model_output=None, messages=None, model_type='claude3haiku', mode=2)\n"
     ]
    },
    {
     "name": "stderr",
     "output_type": "stream",
     "text": [
      "278it [05:30,  1.30s/it]"
     ]
    },
    {
     "name": "stdout",
     "output_type": "stream",
     "text": [
      "Output: F16B, Expected: A01D, Current Accuracy: 0.14028776978417265, Token Usage: 0\n",
      "PatentData(text='An eNB 200 transmits a broadcast control signal commonly applied to all UEs 100 in a cell of the eNB 200 and an dedicated control signal dedicatedly applied to a UE 100 in the cell. A UE 100 receives the broadcast control signal and the dedicated control signal. The broadcast control signal includes a plurality of D2D resource information. Each of the plurality of D2D resource information indicates a radio resource available for the D2D communication. The dedicated control signal includes instruction information for instructing a use of a radio resource indicated by specific D2D resource information, out of the plurality of D2D resource information.', image=<PIL.Image.Image image mode=RGB size=3000x1810 at 0x7F542C810410>, label='H04W', model_output=None, messages=None, model_type='claude3haiku', mode=2)\n"
     ]
    },
    {
     "name": "stderr",
     "output_type": "stream",
     "text": [
      "279it [05:31,  1.20s/it]"
     ]
    },
    {
     "name": "stdout",
     "output_type": "stream",
     "text": [
      "Output: H04L, Expected: H04W, Current Accuracy: 0.13978494623655913, Token Usage: 0\n",
      "PatentData(text='A controller may include circuitry to execute a management policy associated with a computer accessible resource based on a process identifier. The process identifier may be associated with a thread initiated by a set of instructions executed by a processor resource. The controller may be operatively coupled to a register to contain a process identifier.', image=<PIL.Image.Image image mode=RGB size=1719x3000 at 0x7F542C7FB990>, label='G06F', model_output=None, messages=None, model_type='claude3haiku', mode=2)\n"
     ]
    },
    {
     "name": "stderr",
     "output_type": "stream",
     "text": [
      "280it [05:32,  1.15s/it]"
     ]
    },
    {
     "name": "stdout",
     "output_type": "stream",
     "text": [
      "Output: G06F, Expected: G06F, Current Accuracy: 0.14285714285714285, Token Usage: 0\n",
      "PatentData(text='The present invention relates to an apparatus and a method for managing a buffer having three states on the basis of a flash memory and, more specifically, to an apparatus and a method for improving the performance of a database management system (DBMS) on the basis of the flash memory and a use life span of a storage device by reducing a writing operation for a flash memory device in which the writing operation is very slow in comparison with a reading operation, through an efficient buffer managing method and a new index node split policy. To this end, the buffer management device having three states on the basis of the flash memory according to an embodiment of the present invention comprises: a buffer memory unit; a list management unit; a buffer memory management unit; and a log buffer unit.', image=<PIL.Image.Image image mode=RGB size=3000x2522 at 0x7F542C8129D0>, label='G06F', model_output=None, messages=None, model_type='claude3haiku', mode=2)\n"
     ]
    },
    {
     "name": "stderr",
     "output_type": "stream",
     "text": [
      "281it [05:33,  1.20s/it]"
     ]
    },
    {
     "name": "stdout",
     "output_type": "stream",
     "text": [
      "Output: G06F, Expected: G06F, Current Accuracy: 0.14590747330960854, Token Usage: 0\n",
      "PatentData(text='An LED replacement lamp (20) is described. An LED lighting assembly (40) comprising LED lighting elements is electrically connected to filament emulation circuits, connected to electrical contacts at each of two opposite ends (22a, 22b) of an elongated member. The filament emulation circuits (42) each comprise a first resistor circuit (46) and a second resistor circuit (48) connected to first and second electrical contacts (26a, 24a). The first and second resistor circuits (46, 48) are connected to the LED lighting assembly (40) at a common terminal (50). In order to provide an LED replacement lamp for safe operation even in cases of component failure, and if the replacement lamp (20) is used in incorrect wiring configurations, the first and second resistor circuits (46, 48) each comprise a series connection of at least two resistors, in such a way that in case of failure of one of the resistors, the total resistance of the filament emulation circuits (42) remains above a determined resistance value.', image=<PIL.Image.Image image mode=RGB size=3000x1966 at 0x7F542C7F1A10>, label='H05B', model_output=None, messages=None, model_type='claude3haiku', mode=2)\n"
     ]
    },
    {
     "name": "stderr",
     "output_type": "stream",
     "text": [
      "282it [05:34,  1.09s/it]"
     ]
    },
    {
     "name": "stdout",
     "output_type": "stream",
     "text": [
      "Output: F16B, Expected: H05B, Current Accuracy: 0.1453900709219858, Token Usage: 0\n",
      "PatentData(text='A laser alignment device for a drill rig having an elongate drill rod, the laser alignment device including a head unit having at least a pair of laser emitting devices mounted independently to one another thereon, each of the laser devices movable in one plane only and oriented in substantially opposite directions to one another, an attachment means to attach the head unit to a drill rig and a length adjustable assembly to adjust the separation distance between the head unit and the drill rod, wherein the alignment device is used to align at least the azimuth of the drill rod relative to survey marks.', image=<PIL.Image.Image image mode=RGB size=2730x3000 at 0x7F542C7E2510>, label='E21B', model_output=None, messages=None, model_type='claude3haiku', mode=2)\n"
     ]
    },
    {
     "name": "stderr",
     "output_type": "stream",
     "text": [
      "284it [05:36,  1.08s/it]"
     ]
    },
    {
     "name": "stdout",
     "output_type": "stream",
     "text": [
      "Output: F41G, Expected: E21B, Current Accuracy: 0.1443661971830986, Token Usage: 0\n",
      "PatentData(text='A method for the quantitative characterization of amyloid and/or aggregated peptides and/or proteins in a sample, comprising: providing a sample, wherein the sample includes an amyloid and/or aggregated peptide and/or protein having at least one aggregate size and shape; adding an active ingredient to be analyzed to the sample solution; separating the amyloid and/or aggregated peptides and/or proteins are from one another according to their aggregate size and shape; optionally completely denaturing the amyloid and/or aggregated peptides and/or proteins of a particular fraction into monomer building blocks; determining the change in concentration of the peptide and/or protein building blocks in at least one fraction by comparison against control values without the active ingredient.', image=<PIL.Image.Image image mode=RGB size=2612x3000 at 0x7F542C801D50>, label='G01N', model_output=None, messages=None, model_type='claude3haiku', mode=2)\n"
     ]
    },
    {
     "name": "stderr",
     "output_type": "stream",
     "text": [
      "285it [05:37,  1.16s/it]"
     ]
    },
    {
     "name": "stdout",
     "output_type": "stream",
     "text": [
      "Output: G01N, Expected: G01N, Current Accuracy: 0.14736842105263157, Token Usage: 0\n",
      "PatentData(text='A process for producing liquid pig iron (1), in which charge materials (2) containing iron oxide are reduced by a reducing gas (5) in a first reduction plant (4) to form a partially reduced first iron product (3) and are melted in a fusion gasifier (11) to form the liquid pig iron (1). The spent reducing gas (5) is introduced as export gas (6) into a second reduction plant (7), wherein a sulfur-containing gas (13) is introduced together with an oxygen-containing gas (9) and/or together with dust (16) into the fusion gasifier (11) and/or into the reducing gas line (12). Also, a device for carrying out the process. It is therefore possible for sulfur-containing gas (13) to be used for production of liquid pig iron (1), or DRI, with a simultaneous increase in productivity, without damaging the environment or adversely affecting the quality of the liquid pig iron (1) or of the DRI.', image=<PIL.Image.Image image mode=RGB size=1856x3000 at 0x7F542C7F9890>, label='C21B', model_output=None, messages=None, model_type='claude3haiku', mode=2)\n"
     ]
    },
    {
     "name": "stderr",
     "output_type": "stream",
     "text": [
      "286it [05:38,  1.08s/it]"
     ]
    },
    {
     "name": "stdout",
     "output_type": "stream",
     "text": [
      "Output: F17D, Expected: C21B, Current Accuracy: 0.14685314685314685, Token Usage: 0\n",
      "PatentData(text='The present invention relates to humanized or chimeric antibodies binding CD3. It furthermore relates to bispecific antibodies, compositions, pharmaceutical compositions, use of said antibodies in the treatment of a disease, and method of treatment.', image=<PIL.Image.Image image mode=RGB size=1703x3000 at 0x7F542C7DEB50>, label='C07K', model_output=None, messages=None, model_type='claude3haiku', mode=2)\n"
     ]
    },
    {
     "name": "stderr",
     "output_type": "stream",
     "text": [
      "287it [05:39,  1.16s/it]"
     ]
    },
    {
     "name": "stdout",
     "output_type": "stream",
     "text": [
      "Output: G01N, Expected: C07K, Current Accuracy: 0.14634146341463414, Token Usage: 0\n",
      "PatentData(text='The present disclosure relates to an image decoding device capable of recognizing performance necessary for decoding more accurately and a method. Coded data of image data and decoding load definition information for defining a magnitude of a load of a decoding process of a partial region of an image of the image data are acquired; decoding of the acquired coded data is controlled based on the acquired decoding load definition information; and the acquired coded data is decoded according to the controlling. The present disclosure can be applied to an information processing device such as an image coding device that scalably codes image data or an image decoding device that decodes encoded data obtained by scalably coding image data.', image=<PIL.Image.Image image mode=RGB size=2668x3000 at 0x7F542C817310>, label='H04N', model_output=None, messages=None, model_type='claude3haiku', mode=2)\n"
     ]
    },
    {
     "name": "stderr",
     "output_type": "stream",
     "text": [
      "289it [05:42,  1.24s/it]"
     ]
    },
    {
     "name": "stdout",
     "output_type": "stream",
     "text": [
      "Output: G06F, Expected: H04N, Current Accuracy: 0.1453287197231834, Token Usage: 0\n",
      "PatentData(text='A mass body that includes two weights that face each other via a support member is provided. Each of the two weights is formed with a recessed portion that is recessed from an outside surface toward an inside surface. An additional weight formed of a material that is higher in specific gravity than the weight is attached to the recessed portion. Consequently, the weight of the mass body can be increased without increasing the radial length or the thickness of the mass body (weights). As a result, the vibration damping effect can be improved while suppressing an increase in size of the device.', image=<PIL.Image.Image image mode=RGB size=2120x3000 at 0x7F542C7FA110>, label='F16F', model_output=None, messages=None, model_type='claude3haiku', mode=2)\n"
     ]
    },
    {
     "name": "stderr",
     "output_type": "stream",
     "text": [
      "290it [05:43,  1.22s/it]"
     ]
    },
    {
     "name": "stdout",
     "output_type": "stream",
     "text": [
      "Output: F16G, Expected: F16F, Current Accuracy: 0.14482758620689656, Token Usage: 0\n",
      "PatentData(text='Joint health compositions for maintaining mobility and cartilage and preventing osteoarthritis, one of the compositions comprises Fructus Corni, said composition further comprises a Kudzu extract and/or a source of protein, a source of calcium and a source of vitamin D, another composition comprises Fructus Corni aqueous extract and milk powder.', image=<PIL.Image.Image image mode=RGB size=1887x2200 at 0x7F542C802110>, label='A61K', model_output=None, messages=None, model_type='claude3haiku', mode=2)\n"
     ]
    },
    {
     "name": "stderr",
     "output_type": "stream",
     "text": [
      "291it [05:44,  1.09s/it]"
     ]
    },
    {
     "name": "stdout",
     "output_type": "stream",
     "text": [
      "Output: G01N, Expected: A61K, Current Accuracy: 0.14432989690721648, Token Usage: 0\n",
      "PatentData(text='A technique disclosed herein relates to a manufacturing method for a semiconductor substrate having the bonded interface with high bonding strength without forming an oxide layer at the bonded interface also for the substrate having surface that is hardly planarized. The manufacturing method for the semiconductor substrate may include an amorphous layer formation process in which a first amorphous layer is formed by modifying a surface of a support substrate and a second amorphous layer is formed by modifying a surface of a single-crystalline layer of a semiconductor. The manufacturing method may include a contact process in which the first amorphous layer and the second amorphous layer are contacted with each other. The manufacturing method may include a heat treatment process in which the support substrate and single-crystalline layer are heat-treated with the first amorphous layer and the second amorphous layer being in contact with each other.', image=<PIL.Image.Image image mode=RGB size=2845x3000 at 0x7F542C7F0590>, label='H01L', model_output=None, messages=None, model_type='claude3haiku', mode=2)\n"
     ]
    },
    {
     "name": "stderr",
     "output_type": "stream",
     "text": [
      "292it [05:45,  1.13s/it]"
     ]
    },
    {
     "name": "stdout",
     "output_type": "stream",
     "text": [
      "Output: H01L, Expected: H01L, Current Accuracy: 0.14726027397260275, Token Usage: 0\n",
      "PatentData(text='[Object] To achieve more flexible DRX. [Solution] Provided is a communication control apparatus including: a selection unit configured to select a paging segment from a plurality of paging segments that are repeatedly present during a period having a length of a first discontinuous reception (DRX) cycle for a terminal apparatus; and a control unit configured to perform paging for the terminal apparatus during the selected paging segment if performing the paging. The length of the first DRX cycle is not divisible by a length of each of the plurality of paging segments.', image=<PIL.Image.Image image mode=RGB size=1623x3000 at 0x7F542C7E6E90>, label='H04W', model_output=None, messages=None, model_type='claude3haiku', mode=2)\n"
     ]
    },
    {
     "name": "stderr",
     "output_type": "stream",
     "text": [
      "293it [05:46,  1.13s/it]"
     ]
    },
    {
     "name": "stdout",
     "output_type": "stream",
     "text": [
      "Output: G06F, Expected: H04W, Current Accuracy: 0.14675767918088736, Token Usage: 0\n",
      "PatentData(text='The present invention refers to lipid nanoparticles comprising a growth factor and/or an antimicrobial peptide and to the method for their preparation. Moreover, it refers to pharmaceutical compositions comprising such lipid nanoparticles, and a pharmaceutical acceptable carrier. Finally, it also refers to said pharmaceutical composition for its use as medicament and for its use in promoting wound healing, particularly by topical administration.', image=<PIL.Image.Image image mode=RGB size=2138x3000 at 0x7F542C807550>, label='A61K', model_output=None, messages=None, model_type='claude3haiku', mode=2)\n"
     ]
    },
    {
     "name": "stderr",
     "output_type": "stream",
     "text": [
      "294it [05:48,  1.23s/it]"
     ]
    },
    {
     "name": "stdout",
     "output_type": "stream",
     "text": [
      "Output: G06F, Expected: A61K, Current Accuracy: 0.14625850340136054, Token Usage: 0\n",
      "PatentData(text='A tandem master cylinder primary piston, includes a tandem master cylinder primary piston arrangement formed from a body equipped with a skirt and separating the rear of the primary piston on the pushrod side from the front, turned toward the primary chamber, this front cavity housing the return spring and its telescopic guide, one extremity of the spring resting against the back of the front cavity and, the other extremity, against an exterior flange of the telescopic guide, in which the piston is of plastic material, and in which the guide of the return spring is formed of a retention sleeve equipped with a flange for support of the front of the return spring, and a headed rod passing through the sleeve and, when extended, retained by its head against the back of the sleeve, the rod being screwed to the back of the front cavity of the primary piston.', image=<PIL.Image.Image image mode=RGB size=3000x1237 at 0x7F542C7FA110>, label='F16J', model_output=None, messages=None, model_type='claude3haiku', mode=2)\n"
     ]
    },
    {
     "name": "stderr",
     "output_type": "stream",
     "text": [
      "295it [05:49,  1.10s/it]"
     ]
    },
    {
     "name": "stdout",
     "output_type": "stream",
     "text": [
      "Output: F16B, Expected: F16J, Current Accuracy: 0.14576271186440679, Token Usage: 0\n",
      "PatentData(text='A rotating movement control mechanism including a worm, and a main driving side worm wheel and a driven side worm wheel disposed across the worm. Both end portions of the worm in an axial direction are axially supported by bearing parts. Respective teeth of the main driving side worm wheel and the driven side worm wheel contact both sides of the worm in a direction substantially orthogonal to the axial center with a backlash, and are supported thereby. When the second member is relatively rotated with respect to the first member, the worm rotates relatively with respect to the main driving side worm wheel. The driven side worm wheel rotates by a rotational force of the worm, and a rotational force of the driven side worm wheel is regenerated in the worm. Whirling vibrations of the worm are suppressed, and relative rotation is performed smoothly.', image=<PIL.Image.Image image mode=RGB size=1750x3000 at 0x7F542C7DD890>, label='F16H', model_output=None, messages=None, model_type='claude3haiku', mode=2)\n"
     ]
    },
    {
     "name": "stderr",
     "output_type": "stream",
     "text": [
      "296it [05:51,  1.33s/it]"
     ]
    },
    {
     "name": "stdout",
     "output_type": "stream",
     "text": [
      "Output: F16C, Expected: F16H, Current Accuracy: 0.14527027027027026, Token Usage: 0\n",
      "PatentData(text='The present invention relates to a composition for enhancing collagen production, for enhancing elastin production and/or for enhancing keratinocyte migration, including sesaminol as an active component. The present invention also relates to a method for enhancing collagen production, for enhancing elastin production and/or for enhancing keratinocyte migration, including administering the composition.', image=<PIL.Image.Image image mode=RGB size=1434x3000 at 0x7F542C7E6E90>, label='A61K', model_output=None, messages=None, model_type='claude3haiku', mode=2)\n"
     ]
    },
    {
     "name": "stderr",
     "output_type": "stream",
     "text": [
      "297it [05:52,  1.23s/it]"
     ]
    },
    {
     "name": "stdout",
     "output_type": "stream",
     "text": [
      "Output: A61K, Expected: A61K, Current Accuracy: 0.14814814814814814, Token Usage: 0\n",
      "PatentData(text='A dispenser device including a dispenser head (1), an outlet (10); an air expeller (20), and a reservoir (30). The reservoir includes an air inlet (31) connected to the air expeller and a composition outlet (32) connected to the dispenser outlet. The air inlet includes a composition retainer member (40), and the composition outlet (32) is closed by a closure element (50) force fitted in the composition outlet. A mechanical opening system (61, 62) co-operates with the closure element (50) to expel it. The reservoir removably mounted on the air expeller, so that after actuation, the empty reservoir can be removed and replaced. The air expeller is returned to its rest position while an empty reservoir is replaced. A breakable part (70) is assembled on the reservoir and/or the dispenser head and includes an indicator element (71) connected by a breakable bridge (72).', image=<PIL.Image.Image image mode=RGB size=1868x3000 at 0x7F542C7F1790>, label='B05B', model_output=None, messages=None, model_type='claude3haiku', mode=2)\n"
     ]
    },
    {
     "name": "stderr",
     "output_type": "stream",
     "text": [
      "298it [05:53,  1.24s/it]"
     ]
    },
    {
     "name": "stdout",
     "output_type": "stream",
     "text": [
      "Output: F04B, Expected: B05B, Current Accuracy: 0.1476510067114094, Token Usage: 0\n",
      "PatentData(text='The present invention relates to a method for receiving signals in a wireless communication system. A method by which a terminal receives signals in a wireless communication system, according to one embodiment of the present invention, can comprise the steps of: receiving N signals through N channels; and decoding the N signals by using a low density parity check (LDPC) sum-product channel decoder, wherein a first weight value is applied to a variable node of the LDPC sum-product channel decoder, a second weight value is applied to a reception signal node thereof, and the first weight value is less than 1 for channels of which a channel state has a reference value or less among the N channels.', image=<PIL.Image.Image image mode=RGB size=3000x1847 at 0x7F542C7EFFD0>, label='H04L', model_output=None, messages=None, model_type='claude3haiku', mode=2)\n"
     ]
    },
    {
     "name": "stderr",
     "output_type": "stream",
     "text": [
      "299it [05:54,  1.24s/it]"
     ]
    },
    {
     "name": "stdout",
     "output_type": "stream",
     "text": [
      "Output: H04L, Expected: H04L, Current Accuracy: 0.1505016722408027, Token Usage: 0\n",
      "PatentData(text='A wave energy converter (100) is provided which comprises a heaving buoy point absorber (122) having a surface piercing float (120) operably coupled to an adjustable reference mass (125) defining a volume for accommodating sea water therein. The surface piercing float and the adjustable reference mass are configured to move together in response to passing waves. A chamber (105) provided within the surface piercing float is in fluid communication with the sea for trapping a volume of air above an enclosed column of water. The height of the enclosed column of water varies as the point absorber reacts against its surface via an adjustable air-spring. A power take off (140) is configured for being driven by a stream of vented air in communication with the chamber as the heaving buoy point absorber reacts against a trapped volume of air. A control mechanism is configured for tuning one or more operating characteristics of the heaving buoy point absorber.', image=<PIL.Image.Image image mode=RGB size=2165x3000 at 0x7F542C8048D0>, label='F03B', model_output=None, messages=None, model_type='claude3haiku', mode=2)\n"
     ]
    },
    {
     "name": "stderr",
     "output_type": "stream",
     "text": [
      "300it [05:56,  1.35s/it]"
     ]
    },
    {
     "name": "stdout",
     "output_type": "stream",
     "text": [
      "Output: H02M, Expected: F03B, Current Accuracy: 0.15, Token Usage: 0\n",
      "PatentData(text='The present invention relates to a light extraction substrate for an organic light-emitting element, a method for manufacturing the same and an organic light-emitting element including the same, which can shed its dependence on light extraction in a specific wavelength range appearing in a light determining pattern of a cyclical form and induce light extraction in a broader wavelength range. To this end, the present invention relates to a light extraction substrate for an organic light-emitting element, a method for manufacturing the same and an organic light-emitting element including the same. The light extraction substrate is disposed on one surface through which light emitted from the organic light-emitting element is outwardly released and comprises: a base substrate; a light determining pattern formed on the base substrate; and a leveling layer formed on the light determining pattern and having a surface contacting the organic light-emitting element, wherein a plurality of air voids having a random shape and size are irregularly distributed on an interface between the light determining pattern and the leveling layer.', image=<PIL.Image.Image image mode=RGB size=2538x2212 at 0x7F542C7EF490>, label='H01L', model_output=None, messages=None, model_type='claude3haiku', mode=2)\n"
     ]
    },
    {
     "name": "stderr",
     "output_type": "stream",
     "text": [
      "301it [05:57,  1.28s/it]"
     ]
    },
    {
     "name": "stdout",
     "output_type": "stream",
     "text": [
      "Output: G02F, Expected: H01L, Current Accuracy: 0.14950166112956811, Token Usage: 0\n",
      "PatentData(text='A method for receiving a signal from a base station by a user equipment, using beamforming based on a massive antenna array of the base station in a wireless communication system is disclosed. The method includes configuring an effective antenna array in the massive antenna array, receiving a pilot signal corresponding to the effective antenna array from the base station, reporting channel state information for beamforming to the base station, using the pilot signal, and receiving a user equipment-specifically beamformed signal through the effective antenna array from the base station, wherein the effective antenna array is defined as one or more horizontal antenna ports and one or more vertical antenna ports.', image=<PIL.Image.Image image mode=RGB size=3000x2203 at 0x7F542C8138D0>, label='H04L', model_output=None, messages=None, model_type='claude3haiku', mode=2)\n"
     ]
    },
    {
     "name": "stderr",
     "output_type": "stream",
     "text": [
      "302it [05:58,  1.27s/it]"
     ]
    },
    {
     "name": "stdout",
     "output_type": "stream",
     "text": [
      "Output: H04L, Expected: H04L, Current Accuracy: 0.152317880794702, Token Usage: 0\n",
      "PatentData(text='A method and an injection mold for carrying out the method. The method according to this invention allows for a collar made of plastic to be injected molded onto an insert part having a circumferential edge. According to this invention, the insert part is inserted into a receptacle cavity of an injection mold. In a first step, plastic webs directed radially outward are formed and then mobility or means of the injection mold are lowered, the bottom part of the collar is completely formed and finally, in a third injection step, a top plastic layer of the collar is formed at the top on the edge.', image=<PIL.Image.Image image mode=RGB size=3000x2763 at 0x7F542C812D50>, label='B29C', model_output=None, messages=None, model_type='claude3haiku', mode=2)\n"
     ]
    },
    {
     "name": "stderr",
     "output_type": "stream",
     "text": [
      "304it [05:59,  1.07it/s]"
     ]
    },
    {
     "name": "stdout",
     "output_type": "stream",
     "text": [
      "Output: A47B, Expected: B29C, Current Accuracy: 0.1513157894736842, Token Usage: 0\n",
      "PatentData(text='The invention relates to a method for producing a solar cell, in particular a silicon thin-film solar cell wherein a TCO layer (3) is applied to a glass substrate (1) and at least one silicon layer (4, 5) is applied to the TCO layer (3). Before the TCO layer (3) is applied, electron radiation is applied to the glass substrate (1), such that a light-scattering layer (2) of the glass substrate (1) is produced, to which light-scattering layer the TCO layer (3) is applied. Alternatively or additionally, according to the invention, a first silicon layer (4) can be applied to the TCO layer (3), a laser radiation or electron radiation can be applied to the first silicon layer (4), and a second silicon layer (5) can be applied to the irradiated first silicon layer (4).', image=<PIL.Image.Image image mode=RGB size=1904x1746 at 0x7F542C7F0650>, label='H01L', model_output=None, messages=None, model_type='claude3haiku', mode=2)\n"
     ]
    },
    {
     "name": "stderr",
     "output_type": "stream",
     "text": [
      "305it [06:00,  1.15it/s]"
     ]
    },
    {
     "name": "stdout",
     "output_type": "stream",
     "text": [
      "Output: B32B, Expected: H01L, Current Accuracy: 0.15081967213114755, Token Usage: 0\n",
      "PatentData(text='The present invention relates to a method for transmitting a media broadcasting signal and an apparatus for receiving the media broadcasting signal in a broadcasting system. The apparatus for receiving the media broadcasting signal comprises: a receiving unit for receiving a packet by a protocol for real time transport, wherein the payload of the packet includes a media file format (MFF) divided according to the type of data, and the divided media file format (MFF) file is one of an initial past MFF file comprising meta data having entire play information and initial play information, and a media part MFF file including meta data having media data and partial play information related to the media data; a parsing unit for distinguishing the meta data and the media data from each other by analyzing the media file format (MFF) file and extracting information required to play; a decoder for decoding the media file format (MFF) file output from the parsing unit; and a play unit for playing a decoded media file format (MFF) file by using the information extracted from the parsing unit.', image=<PIL.Image.Image image mode=RGB size=3000x2008 at 0x7F542C813910>, label='H04L', model_output=None, messages=None, model_type='claude3haiku', mode=2)\n"
     ]
    },
    {
     "name": "stderr",
     "output_type": "stream",
     "text": [
      "306it [06:01,  1.04s/it]"
     ]
    },
    {
     "name": "stdout",
     "output_type": "stream",
     "text": [
      "Output: H04L, Expected: H04L, Current Accuracy: 0.15359477124183007, Token Usage: 0\n",
      "PatentData(text='A data-oriented information technology system has a data registration center, a data resource pool and a data service unit layer. The data resource pool is a space for storing data; the data registration center is used for constructing uniform data definition, naming and registration functions to realize data management; the data service unit layer includes a plurality of data-oriented, relevant function-encapsulated data function units, and data function units are used for accessing data in the data resource pool; when they first accesses the data resource pool, when the data registration center takes the initiative to refresh the information and informs the data function units, and when abnormalities occur during accessing, it is necessary to obtain information required for access from the data registration center, so that they can access data in the data resource pool.', image=<PIL.Image.Image image mode=RGB size=955x3000 at 0x7F542C7FAFD0>, label='H04L', model_output=None, messages=None, model_type='claude3haiku', mode=2)\n"
     ]
    },
    {
     "name": "stderr",
     "output_type": "stream",
     "text": [
      "307it [06:02,  1.05it/s]"
     ]
    },
    {
     "name": "stdout",
     "output_type": "stream",
     "text": [
      "Output: G06F, Expected: H04L, Current Accuracy: 0.15309446254071662, Token Usage: 0\n",
      "PatentData(text='Disclosed herein are compounds, compositions and methods for the treatment of a disease or disorder related to activation of deacetylase enzymes. The compounds and methods are related to boronic acid derivatives of resveratrol. In some forms, the compound, compositions and methods relate to treatment of prostate cancer, colon cancer, or breast cancer, a cardiovascular disease, inflammation, obesity, diabetes, or a neurodegenerative disease.', image=<PIL.Image.Image image mode=RGB size=3000x2523 at 0x7F542C8008D0>, label='A61K', model_output=None, messages=None, model_type='claude3haiku', mode=2)\n"
     ]
    },
    {
     "name": "stderr",
     "output_type": "stream",
     "text": [
      "308it [06:03,  1.05s/it]"
     ]
    },
    {
     "name": "stdout",
     "output_type": "stream",
     "text": [
      "Output: C12Q, Expected: A61K, Current Accuracy: 0.1525974025974026, Token Usage: 0\n",
      "PatentData(text='Methods may be provided to operate a network node in a radio access network, RAN. For example, a first sub-subframe of a subframe may be transmitted wherein the first sub-subframe includes reference signals for a wireless terminal. After transmitting the first sub-subframe, a second sub-subframe of the subframe may be transmitted, wherein the second sub-subframe includes downlink data for the wireless terminal, and wherein the second sub-subframe is free of reference signals. Related wireless terminal methods, network nodes, and wireless terminals are also disclosed.', image=<PIL.Image.Image image mode=RGB size=1410x3000 at 0x7F542C7E0D50>, label='H04W', model_output=None, messages=None, model_type='claude3haiku', mode=2)\n"
     ]
    },
    {
     "name": "stderr",
     "output_type": "stream",
     "text": [
      "309it [06:05,  1.17s/it]"
     ]
    },
    {
     "name": "stdout",
     "output_type": "stream",
     "text": [
      "Output: H04W, Expected: H04W, Current Accuracy: 0.1553398058252427, Token Usage: 0\n",
      "PatentData(text='A location configuration information response (250) comprises a single frame of data. The response includes a data field having a length equal to the length indicated in the length field and including data indicating yaw, pitch and roll orientation parameter values of the subject. A location configuration information request (249) comprises a single frame of data. The request includes a data field indicating an orientation request.', image=<PIL.Image.Image image mode=RGB size=2727x3000 at 0x7F542C7E88D0>, label='H04W', model_output=None, messages=None, model_type='claude3haiku', mode=2)\n"
     ]
    },
    {
     "name": "stderr",
     "output_type": "stream",
     "text": [
      "310it [06:06,  1.29s/it]"
     ]
    },
    {
     "name": "stdout",
     "output_type": "stream",
     "text": [
      "Output: G01C, Expected: H04W, Current Accuracy: 0.15483870967741936, Token Usage: 0\n",
      "PatentData(text='A microfluidic flow cell having a dry substance arranged within the flow cell in a cavity for interaction with a fluid located in the cavity. A passage opens into the cavity and a carrier element that can be inserted into the passage is provided with a carrier surface for the dry substance, adjoining the cavity.', image=<PIL.Image.Image image mode=RGB size=2112x3000 at 0x7F542C7E9690>, label='B01L', model_output=None, messages=None, model_type='claude3haiku', mode=2)\n"
     ]
    },
    {
     "name": "stderr",
     "output_type": "stream",
     "text": [
      "312it [06:07,  1.08it/s]"
     ]
    },
    {
     "name": "stdout",
     "output_type": "stream",
     "text": [
      "Output: E04B, Expected: B01L, Current Accuracy: 0.15384615384615385, Token Usage: 0\n",
      "PatentData(text='An injection-molded rolling-element bearing cage has a radially outer-lying surface, a radially inner-lying surface, first and second radial walls connecting the radially outer-lying surface and the radially inner-lying surface, and a plurality of receiving pockets configured to receive rolling elements. The receiving pockets are spaced from the first radial wall by a first annular band of the radially inner-lying surface and from the second radial wall by a second annular band of the radially inner-lying surface, and at least one projection extends radially inward from the radially inner-lying surface into a spaced defined by the radially inner-lying surface, at least part of the at least one projection being located in the first annular band.', image=<PIL.Image.Image image mode=RGB size=1808x3000 at 0x7F542C7E1150>, label='F16C', model_output=None, messages=None, model_type='claude3haiku', mode=2)\n"
     ]
    },
    {
     "name": "stderr",
     "output_type": "stream",
     "text": [
      "313it [06:09,  1.01it/s]"
     ]
    },
    {
     "name": "stdout",
     "output_type": "stream",
     "text": [
      "Output: F16K, Expected: F16C, Current Accuracy: 0.15335463258785942, Token Usage: 0\n",
      "PatentData(text='A method for controlling an application in a terminal includes receiving a request for executing the application from a user, executing the application, outputting one or more pieces of guide data in a first area of a screen for the executed application based on context data of the terminal and controlling the application according to the user selection.', image=<PIL.Image.Image image mode=RGB size=2635x3000 at 0x7F542C800890>, label='G06F', model_output=None, messages=None, model_type='claude3haiku', mode=2)\n"
     ]
    },
    {
     "name": "stderr",
     "output_type": "stream",
     "text": [
      "314it [06:10,  1.03s/it]"
     ]
    },
    {
     "name": "stdout",
     "output_type": "stream",
     "text": [
      "Output: G06F, Expected: G06F, Current Accuracy: 0.15605095541401273, Token Usage: 0\n",
      "PatentData(text='The present disclosure relates to polymorphic forms of the hydrochloride salt of ponatinib (“compound 1”) and to processes for the preparation of these polymorphic forms. The present disclosure also generally relates to a pharmaceutical composition comprising the forms, as well of methods of using the form(s) in the treatment of disorders associated with pathological cellular proliferation, such as neoplasms, and cancer.', image=<PIL.Image.Image image mode=RGB size=2059x3000 at 0x7F542C7F1C90>, label='C07D', model_output=None, messages=None, model_type='claude3haiku', mode=2)\n"
     ]
    },
    {
     "name": "stderr",
     "output_type": "stream",
     "text": [
      "315it [06:11,  1.12s/it]"
     ]
    },
    {
     "name": "stdout",
     "output_type": "stream",
     "text": [
      "Output: G01N, Expected: C07D, Current Accuracy: 0.15555555555555556, Token Usage: 0\n",
      "PatentData(text='A method for automatically landing a container on a landing target using a container crane is disclosed. The container crane includes a trolley and spreader for holding and lifting the container and a crane control system for controlling movements of the container crane. A distance from the container to the landing target is measured and the container is moved towards the landing target dependent on the measured distance. A plurality of images of the landing target is made using at least one camera mounted on the spreader. The images are processed to identify one or more landing features in the images of the landing target. Distances from the container to the landing target are calculated based on a measurement of distance between the container and the landing features in the images. A video control unit, a system for controlling automatic landings of a container, a computer readable data carrier comprising a computer program and a computer program product arranged for carrying out the methods are also described.', image=<PIL.Image.Image image mode=RGB size=3000x2191 at 0x7F542C811750>, label='B66C', model_output=None, messages=None, model_type='claude3haiku', mode=2)\n"
     ]
    },
    {
     "name": "stderr",
     "output_type": "stream",
     "text": [
      "316it [06:12,  1.16s/it]"
     ]
    },
    {
     "name": "stdout",
     "output_type": "stream",
     "text": [
      "Output: B60P, Expected: B66C, Current Accuracy: 0.1550632911392405, Token Usage: 0\n",
      "PatentData(text='A method for receiving a signal from a base station by a user equipment, using massive antenna array based beamforming of the base station in a wireless communication system is disclosed. The method includes receiving, from the base station, antenna shuffling information corresponding to a preferred antenna port set among a plurality of antenna ports included in the massive antenna array, measuring channel state information according to the antenna shuffling information and reporting the channel state information to the base station, and receiving, from the base station, a beamformed signal using the preferred antenna port set based on the channel state information, wherein the antenna shuffling information includes at least one of information about a start index of antenna ports included in the preferred antenna port set and information about a direction to which antenna port indexes are allocated.', image=<PIL.Image.Image image mode=RGB size=3000x2500 at 0x7F542C806610>, label='H04B', model_output=None, messages=None, model_type='claude3haiku', mode=2)\n"
     ]
    },
    {
     "name": "stderr",
     "output_type": "stream",
     "text": [
      "317it [06:13,  1.15s/it]"
     ]
    },
    {
     "name": "stdout",
     "output_type": "stream",
     "text": [
      "Output: H04W, Expected: H04B, Current Accuracy: 0.15457413249211358, Token Usage: 0\n",
      "PatentData(text='A starting valve (100) for a fluid operating machine (200) for a vacuum system (1000). The starting valve (100) comprises: a valve body (10) with an opening (17) to let a gas in; and an actuating piston (13) splined on a stem (16) free to slide in a guide (18A). The actuating piston (13), with a portion of the valve body (10), defines a chamber (30). The actuating piston (13) is subject to the action of a deformable diaphragm (15). A calibrated throttling hole (16B) is provided in series with a through hole (16A) in line with the stem (16) to establish a fluid communication between the chamber (30) and a fluid-dynamic line (500) of the vacuum system (1000). A shutter (20) is furthermore provided also splined on the stem (16). The shutter (20) closes a gas passage opening (10B) as a function of the pressure difference between the chamber (30) and the fluid-dynamic line (500). The calibrated throttling hole (16B) and the through hole (16A) establish a fluid communication between the space enclosed by a connection (25) and a space (22) defined by a cover element (23) positioned in the upper part of the valve body (10).', image=<PIL.Image.Image image mode=RGB size=1644x3000 at 0x7F542C7E8790>, label='F04B', model_output=None, messages=None, model_type='claude3haiku', mode=2)\n"
     ]
    },
    {
     "name": "stderr",
     "output_type": "stream",
     "text": [
      "318it [06:15,  1.13s/it]"
     ]
    },
    {
     "name": "stdout",
     "output_type": "stream",
     "text": [
      "Output: F16D, Expected: F04B, Current Accuracy: 0.1540880503144654, Token Usage: 0\n",
      "PatentData(text='The invention relates to an electrical vehicle (100), including an electric engine (102) and on-board energy storage means (104, 106) that are electrically connected to the engine in order to supply same with electrical energy, in which the energy storage means include a first energy storage module (104) including at least one supercapacitor, and a second energy storage module (106) including at least one battery, the first and the second energy storage modules (104,106) being arranged on parallel electrical branches, the vehicle including interconnection means (108), arranged between the energy storage means (104, 106) and the engine (102), capable of electrically connecting the two electrical arms to the engine (102) and configured such that a single one of the two electrical arms is connected to the engine (102) at a time. The invention also relates to a facility comprising the vehicle (100) and at least one station (200) for recharging the vehicle.', image=<PIL.Image.Image image mode=RGB size=2682x3000 at 0x7F542C804BD0>, label='B61C', model_output=None, messages=None, model_type='claude3haiku', mode=2)\n"
     ]
    },
    {
     "name": "stderr",
     "output_type": "stream",
     "text": [
      "319it [06:16,  1.09s/it]"
     ]
    },
    {
     "name": "stdout",
     "output_type": "stream",
     "text": [
      "Output: F16L, Expected: B61C, Current Accuracy: 0.1536050156739812, Token Usage: 0\n",
      "PatentData(text=\"Apparatus, techniques and systems are described for facilitating identification of a target area during a probe-guided radio-localization surgical procedure. The described apparatus, techniques and systems can be used to implement a nuclear-uptake mode controller integrated into a probe to allow a user to instantly switch between multiple nuclear-uptake modes directly from the probe hand-piece. For example, a nuclear-uptake mode controller integrated into the probe can be used to instantly switch between a high-sensitivity nuclear-up take mode and a high-resolution nuclear-uptake mode to effectively identify the target area in the presence of interfering nuclear signals by better matching the probe's nuclear detection parameters to a search task for that target area.\", image=<PIL.Image.Image image mode=RGB size=2493x3000 at 0x7F542C7EE190>, label='G01T', model_output=None, messages=None, model_type='claude3haiku', mode=2)\n"
     ]
    },
    {
     "name": "stderr",
     "output_type": "stream",
     "text": [
      "320it [06:17,  1.14s/it]"
     ]
    },
    {
     "name": "stdout",
     "output_type": "stream",
     "text": [
      "Output: A61B, Expected: G01T, Current Accuracy: 0.153125, Token Usage: 0\n",
      "PatentData(text='The various embodiments of the present invention provide implantable occlusion devices and methods of using the occlusion devices. In an embodiment, the occlusion devices include an openable channel to facilitate reversible female contraception.', image=<PIL.Image.Image image mode=RGB size=2530x3000 at 0x7F542C804D10>, label='A61F', model_output=None, messages=None, model_type='claude3haiku', mode=2)\n"
     ]
    },
    {
     "name": "stderr",
     "output_type": "stream",
     "text": [
      "321it [06:19,  1.33s/it]"
     ]
    },
    {
     "name": "stdout",
     "output_type": "stream",
     "text": [
      "Output: B64C, Expected: A61F, Current Accuracy: 0.1526479750778816, Token Usage: 0\n",
      "PatentData(text='A method for ascertaining a closing state of a house door or of a house window, having the following method steps: acquisition of a rate of rotation of the house door or of the house window using a first acquisition device, and calculation of an opening angle of the house door or of the house window on the basis of the acquired rate of rotation, and ascertaining whether the calculated opening angle falls below a prespecified angular threshold value; acquisition of a rate of vibration of the house door or of the house window using a second acquisition device, and ascertaining whether the acquired rate of vibration exceeds a prespecified rate of vibration threshold value within a prespecified first time span; and ascertaining whether the acquired rate of rotation exceeds a prespecified rate of rotation threshold value within a prespecified second time span since the exceeding of the vibration rate threshold value.', image=<PIL.Image.Image image mode=RGB size=3000x1910 at 0x7F542C805990>, label='E05F', model_output=None, messages=None, model_type='claude3haiku', mode=2)\n"
     ]
    },
    {
     "name": "stderr",
     "output_type": "stream",
     "text": [
      "322it [06:19,  1.19s/it]"
     ]
    },
    {
     "name": "stdout",
     "output_type": "stream",
     "text": [
      "Output: G01H, Expected: E05F, Current Accuracy: 0.15217391304347827, Token Usage: 0\n",
      "PatentData(text='Switching valve for controlling a mass flow in a cold or hot circuit. The valve includes a valve housing having a feed opening and a discharge opening; a valve piston which has a valve-closure member directed towards the discharge opening and which, in a closed position, abuts a valve seat of a through-bore between the feed opening and the discharge opening; a pilot valve having a pilot bore in the valve piston, which bore opens into the through-bore and traverses the valve piston; a path-generating device having an actuatable ram accommodating a closure member which closes the pilot bore and, with the closure member, can be moved into an opening position which opens the pilot bore; and a bypass duct formed between the feed opening and the pilot bore. At least one connection element forcibly transfers at least some of the stroke movement of the ram onto the valve piston.', image=<PIL.Image.Image image mode=RGB size=1019x3000 at 0x7F542C7F3AD0>, label='F16K', model_output=None, messages=None, model_type='claude3haiku', mode=2)\n"
     ]
    },
    {
     "name": "stderr",
     "output_type": "stream",
     "text": [
      "323it [06:20,  1.08s/it]"
     ]
    },
    {
     "name": "stdout",
     "output_type": "stream",
     "text": [
      "Output: F16H, Expected: F16K, Current Accuracy: 0.15170278637770898, Token Usage: 0\n",
      "PatentData(text='A transfer device for a measurement device includes a raw data interface for direct access to the raw measurement data of the measurement device; an identification device identifying the raw measurement data with a measurement device identifier; and a transmission device transmitting the raw data that have been identified to an external evaluation device. The external evaluation device is arranged externally to the measurement device and/or externally to the transmission device, and the measurement device identifier allows the external evaluation device to associate the raw measurement data with the measurement device and/or the transmission device, said raw measurement data being transmitted substantially unchanged.', image=<PIL.Image.Image image mode=RGB size=1863x3000 at 0x7F542C7E8490>, label='G05B', model_output=None, messages=None, model_type='claude3haiku', mode=2)\n"
     ]
    },
    {
     "name": "stderr",
     "output_type": "stream",
     "text": [
      "324it [06:21,  1.05s/it]"
     ]
    },
    {
     "name": "stdout",
     "output_type": "stream",
     "text": [
      "Output: H04L, Expected: G05B, Current Accuracy: 0.15123456790123457, Token Usage: 0\n",
      "PatentData(text='Disclosed in an air conditioner including a control box having a space formed therein, a PCB arranged to form an air circulation passage in the space, the PCB having a plurality of electric components mounted thereto, a cooling module for making a first electric component of the plurality of electric components to heat exchange with refrigerant, and a circulating fan arranged in the air circulation passage to make air to flow to a second electric component of the plurality of electric components after cooled by the cooling module, thereby dissipating heat from an inside of the control box with a mixed cooling system of a refrigerant cooling system and an air cooling system, efficiently.', image=<PIL.Image.Image image mode=RGB size=3000x2053 at 0x7F542C7ECE50>, label='H05K', model_output=None, messages=None, model_type='claude3haiku', mode=2)\n"
     ]
    },
    {
     "name": "stderr",
     "output_type": "stream",
     "text": [
      "325it [06:22,  1.01s/it]"
     ]
    },
    {
     "name": "stdout",
     "output_type": "stream",
     "text": [
      "Output: A47B, Expected: H05K, Current Accuracy: 0.15076923076923077, Token Usage: 0\n",
      "PatentData(text='The invention relates to a sensory deprivation booth foldable between a folded transport position and an unfolded usage position forming a closed space for receiving a user to perform a sensory analysis; the booth comprising: walls, each wall being airtight or suitable for filtering the flow of air passing through the wall; airtight articulations and closing devices, positioned at the joint of the walls and connecting the walls in an airtight manner in the unfolded usage position of the booth, the folded joints allowing superposition of the walls on one another in the transport position of the booth.', image=<PIL.Image.Image image mode=RGB size=1421x3000 at 0x7F542C7DF610>, label='E04B', model_output=None, messages=None, model_type='claude3haiku', mode=2)\n"
     ]
    },
    {
     "name": "stderr",
     "output_type": "stream",
     "text": [
      "326it [06:23,  1.03it/s]"
     ]
    },
    {
     "name": "stdout",
     "output_type": "stream",
     "text": [
      "Output: A47B, Expected: E04B, Current Accuracy: 0.15030674846625766, Token Usage: 0\n",
      "PatentData(text='Disclosed is a method of preparing pure or substantially pure D-myo-inositol-3-phosphate from glucose-6-phosphate and/or fructose-6-phosphate. The method may also be applied to protected and/or derivative forms of glucose-6-phosphate and/or fructose-6-phosphate so as to form protected/derivative forms of D-myo-inositol-3-phosphate, for use in further chemical reactions. The enzyme D-myo-inositol-3-phosphate synthase (INO1) is contacted with the glucose-6-phosphate and/or fructose-6-phosphate to generate labeled or unlabeled, protected or unprotected D-myo-inositol-3-phosphate, which may be further reacted and/or purified.', image=<PIL.Image.Image image mode=RGB size=2614x3000 at 0x7F542C7ECE50>, label='C12P', model_output=None, messages=None, model_type='claude3haiku', mode=2)\n"
     ]
    },
    {
     "name": "stderr",
     "output_type": "stream",
     "text": [
      "327it [06:24,  1.11s/it]"
     ]
    },
    {
     "name": "stdout",
     "output_type": "stream",
     "text": [
      "Output: C07H, Expected: C12P, Current Accuracy: 0.14984709480122324, Token Usage: 0\n",
      "PatentData(text='An apparatus for smoothing an inner toothing and/or an outer toothing of a component part. At least two radially adjustable smoothing gears, which engage in the inner toothing and/or outer toothing, are rotatably arranged inside the inner toothing and/or outside of the outer toothing. During smoothing, the component part is not firmly clamped but rather only rests loosely on a support. A thrust ring is provided at least at one of the smoothing gears for limiting axial movements of the component part, which occur during smoothing.', image=<PIL.Image.Image image mode=RGB size=3000x2634 at 0x7F542C7EFAD0>, label='B21H', model_output=None, messages=None, model_type='claude3haiku', mode=2)\n"
     ]
    },
    {
     "name": "stderr",
     "output_type": "stream",
     "text": [
      "328it [06:26,  1.17s/it]"
     ]
    },
    {
     "name": "stdout",
     "output_type": "stream",
     "text": [
      "Output: F16D, Expected: B21H, Current Accuracy: 0.14939024390243902, Token Usage: 0\n",
      "PatentData(text='Apparatus and method for recording the amount of medicament ejected from an injection device Apparatus (200) for recording the amount of medicament ejected from an injection device (100), the apparatus comprising: a processor (208) coupled to receive information from a primary sensor (214) and a secondary sensor (216); and a memory (213), wherein: the primary sensor is configured to detect information displayed or generated by said injection device and to generate output corresponding thereto, the secondary sensor is configured to detect ejection of medicament from said injection device, and the processor is configured to process the output generated by the primary sensor and to record in the memory information indicative of an amount of medicament ejected from said injection device only when the processor determines, on the basis of information received from the secondary sensor, that more than a predetermined amount of medicament has been ejected. Method of operating the apparatus.', image=<PIL.Image.Image image mode=RGB size=2386x3000 at 0x7F542C8115D0>, label='A61M', model_output=None, messages=None, model_type='claude3haiku', mode=2)\n"
     ]
    },
    {
     "name": "stderr",
     "output_type": "stream",
     "text": [
      "329it [06:27,  1.16s/it]"
     ]
    },
    {
     "name": "stdout",
     "output_type": "stream",
     "text": [
      "Output: G06F, Expected: A61M, Current Accuracy: 0.14893617021276595, Token Usage: 0\n",
      "PatentData(text='In certain embodiments, a system and method for generating a stereoscopic image pair from a 2D satellite or aerial image and a 3D model.', image=<PIL.Image.Image image mode=RGB size=2988x2766 at 0x7F542C7EC8D0>, label='H04N', model_output=None, messages=None, model_type='claude3haiku', mode=2)\n"
     ]
    },
    {
     "name": "stderr",
     "output_type": "stream",
     "text": [
      "330it [06:28,  1.09s/it]"
     ]
    },
    {
     "name": "stdout",
     "output_type": "stream",
     "text": [
      "Output: G06T, Expected: H04N, Current Accuracy: 0.1484848484848485, Token Usage: 0\n",
      "PatentData(text='There is provided a liver cancer related specific siRNA and high efficiency double-stranded oligo RNA molecules containing the same. The double-stranded oligo RNA molecules have a structure in which hydrophilic and hydrophobic compounds are conjugated to both ends of the double-stranded oligo RNA molecules by a simple covalent bond or a linker-mediated covalent bond in order to be efficiently delivered into cells and may be converted into nanoparticles in an aqueous solution by hydrophobic interactions of the double-stranded oligo RNA molecules. The siRNA contained in the double-stranded oligo RNA molecules may be liver cancer related genes, particularly Gankyrin or BMI-1 specific siRNA. In addition, the present invention relates to a method of preparing the double-stranded oligo RNA molecules, and a pharmaceutical composition for preventing or treating cancer, particularly, liver cancer, containing the double-stranded oligo RNA molecules.', image=<PIL.Image.Image image mode=RGB size=2835x3000 at 0x7F542C7EF0D0>, label='C12N', model_output=None, messages=None, model_type='claude3haiku', mode=2)\n"
     ]
    },
    {
     "name": "stderr",
     "output_type": "stream",
     "text": [
      "331it [06:29,  1.20s/it]"
     ]
    },
    {
     "name": "stdout",
     "output_type": "stream",
     "text": [
      "Output: C12Q, Expected: C12N, Current Accuracy: 0.14803625377643503, Token Usage: 0\n",
      "PatentData(text='A receiver for processing a broadcast signal in a hybrid broadcasting system combining a broadcast network and a broadband network, according to one embodiment of the present invention, comprises a receiving unit for receiving a digital broadcast signal; a signal decoder for parsing FAC data or a common data unit included in the received broadcast signal and parsing network information from the FAC data or the common data; a service signaling channel processor for parsing a base data unit indicated by a base data unit identifier and parsing signaling data from the base data unit; and an audio/video processor for decoding broadcasting service using the signaling data.', image=<PIL.Image.Image image mode=RGB size=2746x3000 at 0x7F542C806F50>, label='H04N', model_output=None, messages=None, model_type='claude3haiku', mode=2)\n"
     ]
    },
    {
     "name": "stderr",
     "output_type": "stream",
     "text": [
      "331it [06:30,  1.18s/it]\n"
     ]
    },
    {
     "ename": "KeyboardInterrupt",
     "evalue": "",
     "output_type": "error",
     "traceback": [
      "\u001b[0;31m---------------------------------------------------------------------------\u001b[0m",
      "\u001b[0;31mKeyboardInterrupt\u001b[0m                         Traceback (most recent call last)",
      "Cell \u001b[0;32mIn[3], line 12\u001b[0m\n\u001b[1;32m     10\u001b[0m messages \u001b[38;5;241m=\u001b[39m prompts\u001b[38;5;241m.\u001b[39mgenerate_prompt_claude(obj)\n\u001b[1;32m     11\u001b[0m \u001b[38;5;28;01mtry\u001b[39;00m:\n\u001b[0;32m---> 12\u001b[0m     result \u001b[38;5;241m=\u001b[39m \u001b[43mcalling\u001b[49m\u001b[38;5;241;43m.\u001b[39;49m\u001b[43mcall_anthropic\u001b[49m\u001b[43m(\u001b[49m\u001b[43mobj\u001b[49m\u001b[43m)\u001b[49m\n\u001b[1;32m     13\u001b[0m \u001b[38;5;28;01mexcept\u001b[39;00m \u001b[38;5;167;01mException\u001b[39;00m \u001b[38;5;28;01mas\u001b[39;00m e:\n\u001b[1;32m     14\u001b[0m     \u001b[38;5;28mprint\u001b[39m(e)\n",
      "File \u001b[0;32m~/cs477-final-project/calling.py:100\u001b[0m, in \u001b[0;36mcall_anthropic\u001b[0;34m(data)\u001b[0m\n\u001b[1;32m     93\u001b[0m request_body \u001b[38;5;241m=\u001b[39m {\n\u001b[1;32m     94\u001b[0m     \u001b[38;5;124m\"\u001b[39m\u001b[38;5;124manthropic_version\u001b[39m\u001b[38;5;124m\"\u001b[39m: \u001b[38;5;124m\"\u001b[39m\u001b[38;5;124mbedrock-2023-05-31\u001b[39m\u001b[38;5;124m\"\u001b[39m,\n\u001b[1;32m     95\u001b[0m     \u001b[38;5;124m\"\u001b[39m\u001b[38;5;124mmax_tokens\u001b[39m\u001b[38;5;124m\"\u001b[39m: \u001b[38;5;241m10\u001b[39m,\n\u001b[1;32m     96\u001b[0m     \u001b[38;5;124m\"\u001b[39m\u001b[38;5;124mmessages\u001b[39m\u001b[38;5;124m\"\u001b[39m: data\u001b[38;5;241m.\u001b[39mmessages\n\u001b[1;32m     97\u001b[0m }\n\u001b[1;32m     99\u001b[0m \u001b[38;5;28;01mtry\u001b[39;00m:\n\u001b[0;32m--> 100\u001b[0m     response \u001b[38;5;241m=\u001b[39m \u001b[43mboto3_client\u001b[49m\u001b[38;5;241;43m.\u001b[39;49m\u001b[43minvoke_model\u001b[49m\u001b[43m(\u001b[49m\n\u001b[1;32m    101\u001b[0m \u001b[43m        \u001b[49m\u001b[43mmodelId\u001b[49m\u001b[38;5;241;43m=\u001b[39;49m\u001b[43mmodel_id\u001b[49m\u001b[43m,\u001b[49m\n\u001b[1;32m    102\u001b[0m \u001b[43m        \u001b[49m\u001b[43mbody\u001b[49m\u001b[38;5;241;43m=\u001b[39;49m\u001b[43mjson\u001b[49m\u001b[38;5;241;43m.\u001b[39;49m\u001b[43mdumps\u001b[49m\u001b[43m(\u001b[49m\u001b[43mrequest_body\u001b[49m\u001b[43m)\u001b[49m\u001b[43m,\u001b[49m\n\u001b[1;32m    103\u001b[0m \u001b[43m    \u001b[49m\u001b[43m)\u001b[49m\n\u001b[1;32m    105\u001b[0m     \u001b[38;5;66;03m# Process and print the response\u001b[39;00m\n\u001b[1;32m    106\u001b[0m     result \u001b[38;5;241m=\u001b[39m json\u001b[38;5;241m.\u001b[39mloads(response\u001b[38;5;241m.\u001b[39mget(\u001b[38;5;124m\"\u001b[39m\u001b[38;5;124mbody\u001b[39m\u001b[38;5;124m\"\u001b[39m)\u001b[38;5;241m.\u001b[39mread())\n",
      "File \u001b[0;32m~/cs477-final-project/.conda/lib/python3.11/site-packages/botocore/client.py:565\u001b[0m, in \u001b[0;36mClientCreator._create_api_method.<locals>._api_call\u001b[0;34m(self, *args, **kwargs)\u001b[0m\n\u001b[1;32m    561\u001b[0m     \u001b[38;5;28;01mraise\u001b[39;00m \u001b[38;5;167;01mTypeError\u001b[39;00m(\n\u001b[1;32m    562\u001b[0m         \u001b[38;5;124mf\u001b[39m\u001b[38;5;124m\"\u001b[39m\u001b[38;5;132;01m{\u001b[39;00mpy_operation_name\u001b[38;5;132;01m}\u001b[39;00m\u001b[38;5;124m() only accepts keyword arguments.\u001b[39m\u001b[38;5;124m\"\u001b[39m\n\u001b[1;32m    563\u001b[0m     )\n\u001b[1;32m    564\u001b[0m \u001b[38;5;66;03m# The \"self\" in this scope is referring to the BaseClient.\u001b[39;00m\n\u001b[0;32m--> 565\u001b[0m \u001b[38;5;28;01mreturn\u001b[39;00m \u001b[38;5;28;43mself\u001b[39;49m\u001b[38;5;241;43m.\u001b[39;49m\u001b[43m_make_api_call\u001b[49m\u001b[43m(\u001b[49m\u001b[43moperation_name\u001b[49m\u001b[43m,\u001b[49m\u001b[43m \u001b[49m\u001b[43mkwargs\u001b[49m\u001b[43m)\u001b[49m\n",
      "File \u001b[0;32m~/cs477-final-project/.conda/lib/python3.11/site-packages/botocore/client.py:1001\u001b[0m, in \u001b[0;36mBaseClient._make_api_call\u001b[0;34m(self, operation_name, api_params)\u001b[0m\n\u001b[1;32m    997\u001b[0m     maybe_compress_request(\n\u001b[1;32m    998\u001b[0m         \u001b[38;5;28mself\u001b[39m\u001b[38;5;241m.\u001b[39mmeta\u001b[38;5;241m.\u001b[39mconfig, request_dict, operation_model\n\u001b[1;32m    999\u001b[0m     )\n\u001b[1;32m   1000\u001b[0m     apply_request_checksum(request_dict)\n\u001b[0;32m-> 1001\u001b[0m     http, parsed_response \u001b[38;5;241m=\u001b[39m \u001b[38;5;28;43mself\u001b[39;49m\u001b[38;5;241;43m.\u001b[39;49m\u001b[43m_make_request\u001b[49m\u001b[43m(\u001b[49m\n\u001b[1;32m   1002\u001b[0m \u001b[43m        \u001b[49m\u001b[43moperation_model\u001b[49m\u001b[43m,\u001b[49m\u001b[43m \u001b[49m\u001b[43mrequest_dict\u001b[49m\u001b[43m,\u001b[49m\u001b[43m \u001b[49m\u001b[43mrequest_context\u001b[49m\n\u001b[1;32m   1003\u001b[0m \u001b[43m    \u001b[49m\u001b[43m)\u001b[49m\n\u001b[1;32m   1005\u001b[0m \u001b[38;5;28mself\u001b[39m\u001b[38;5;241m.\u001b[39mmeta\u001b[38;5;241m.\u001b[39mevents\u001b[38;5;241m.\u001b[39memit(\n\u001b[1;32m   1006\u001b[0m     \u001b[38;5;124m'\u001b[39m\u001b[38;5;124mafter-call.\u001b[39m\u001b[38;5;132;01m{service_id}\u001b[39;00m\u001b[38;5;124m.\u001b[39m\u001b[38;5;132;01m{operation_name}\u001b[39;00m\u001b[38;5;124m'\u001b[39m\u001b[38;5;241m.\u001b[39mformat(\n\u001b[1;32m   1007\u001b[0m         service_id\u001b[38;5;241m=\u001b[39mservice_id, operation_name\u001b[38;5;241m=\u001b[39moperation_name\n\u001b[0;32m   (...)\u001b[0m\n\u001b[1;32m   1012\u001b[0m     context\u001b[38;5;241m=\u001b[39mrequest_context,\n\u001b[1;32m   1013\u001b[0m )\n\u001b[1;32m   1015\u001b[0m \u001b[38;5;28;01mif\u001b[39;00m http\u001b[38;5;241m.\u001b[39mstatus_code \u001b[38;5;241m>\u001b[39m\u001b[38;5;241m=\u001b[39m \u001b[38;5;241m300\u001b[39m:\n",
      "File \u001b[0;32m~/cs477-final-project/.conda/lib/python3.11/site-packages/botocore/client.py:1027\u001b[0m, in \u001b[0;36mBaseClient._make_request\u001b[0;34m(self, operation_model, request_dict, request_context)\u001b[0m\n\u001b[1;32m   1025\u001b[0m \u001b[38;5;28;01mdef\u001b[39;00m \u001b[38;5;21m_make_request\u001b[39m(\u001b[38;5;28mself\u001b[39m, operation_model, request_dict, request_context):\n\u001b[1;32m   1026\u001b[0m     \u001b[38;5;28;01mtry\u001b[39;00m:\n\u001b[0;32m-> 1027\u001b[0m         \u001b[38;5;28;01mreturn\u001b[39;00m \u001b[38;5;28;43mself\u001b[39;49m\u001b[38;5;241;43m.\u001b[39;49m\u001b[43m_endpoint\u001b[49m\u001b[38;5;241;43m.\u001b[39;49m\u001b[43mmake_request\u001b[49m\u001b[43m(\u001b[49m\u001b[43moperation_model\u001b[49m\u001b[43m,\u001b[49m\u001b[43m \u001b[49m\u001b[43mrequest_dict\u001b[49m\u001b[43m)\u001b[49m\n\u001b[1;32m   1028\u001b[0m     \u001b[38;5;28;01mexcept\u001b[39;00m \u001b[38;5;167;01mException\u001b[39;00m \u001b[38;5;28;01mas\u001b[39;00m e:\n\u001b[1;32m   1029\u001b[0m         \u001b[38;5;28mself\u001b[39m\u001b[38;5;241m.\u001b[39mmeta\u001b[38;5;241m.\u001b[39mevents\u001b[38;5;241m.\u001b[39memit(\n\u001b[1;32m   1030\u001b[0m             \u001b[38;5;124m'\u001b[39m\u001b[38;5;124mafter-call-error.\u001b[39m\u001b[38;5;132;01m{service_id}\u001b[39;00m\u001b[38;5;124m.\u001b[39m\u001b[38;5;132;01m{operation_name}\u001b[39;00m\u001b[38;5;124m'\u001b[39m\u001b[38;5;241m.\u001b[39mformat(\n\u001b[1;32m   1031\u001b[0m                 service_id\u001b[38;5;241m=\u001b[39m\u001b[38;5;28mself\u001b[39m\u001b[38;5;241m.\u001b[39m_service_model\u001b[38;5;241m.\u001b[39mservice_id\u001b[38;5;241m.\u001b[39mhyphenize(),\n\u001b[0;32m   (...)\u001b[0m\n\u001b[1;32m   1035\u001b[0m             context\u001b[38;5;241m=\u001b[39mrequest_context,\n\u001b[1;32m   1036\u001b[0m         )\n",
      "File \u001b[0;32m~/cs477-final-project/.conda/lib/python3.11/site-packages/botocore/endpoint.py:119\u001b[0m, in \u001b[0;36mEndpoint.make_request\u001b[0;34m(self, operation_model, request_dict)\u001b[0m\n\u001b[1;32m    113\u001b[0m \u001b[38;5;28;01mdef\u001b[39;00m \u001b[38;5;21mmake_request\u001b[39m(\u001b[38;5;28mself\u001b[39m, operation_model, request_dict):\n\u001b[1;32m    114\u001b[0m     logger\u001b[38;5;241m.\u001b[39mdebug(\n\u001b[1;32m    115\u001b[0m         \u001b[38;5;124m\"\u001b[39m\u001b[38;5;124mMaking request for \u001b[39m\u001b[38;5;132;01m%s\u001b[39;00m\u001b[38;5;124m with params: \u001b[39m\u001b[38;5;132;01m%s\u001b[39;00m\u001b[38;5;124m\"\u001b[39m,\n\u001b[1;32m    116\u001b[0m         operation_model,\n\u001b[1;32m    117\u001b[0m         request_dict,\n\u001b[1;32m    118\u001b[0m     )\n\u001b[0;32m--> 119\u001b[0m     \u001b[38;5;28;01mreturn\u001b[39;00m \u001b[38;5;28;43mself\u001b[39;49m\u001b[38;5;241;43m.\u001b[39;49m\u001b[43m_send_request\u001b[49m\u001b[43m(\u001b[49m\u001b[43mrequest_dict\u001b[49m\u001b[43m,\u001b[49m\u001b[43m \u001b[49m\u001b[43moperation_model\u001b[49m\u001b[43m)\u001b[49m\n",
      "File \u001b[0;32m~/cs477-final-project/.conda/lib/python3.11/site-packages/botocore/endpoint.py:199\u001b[0m, in \u001b[0;36mEndpoint._send_request\u001b[0;34m(self, request_dict, operation_model)\u001b[0m\n\u001b[1;32m    197\u001b[0m \u001b[38;5;28mself\u001b[39m\u001b[38;5;241m.\u001b[39m_update_retries_context(context, attempts)\n\u001b[1;32m    198\u001b[0m request \u001b[38;5;241m=\u001b[39m \u001b[38;5;28mself\u001b[39m\u001b[38;5;241m.\u001b[39mcreate_request(request_dict, operation_model)\n\u001b[0;32m--> 199\u001b[0m success_response, exception \u001b[38;5;241m=\u001b[39m \u001b[38;5;28;43mself\u001b[39;49m\u001b[38;5;241;43m.\u001b[39;49m\u001b[43m_get_response\u001b[49m\u001b[43m(\u001b[49m\n\u001b[1;32m    200\u001b[0m \u001b[43m    \u001b[49m\u001b[43mrequest\u001b[49m\u001b[43m,\u001b[49m\u001b[43m \u001b[49m\u001b[43moperation_model\u001b[49m\u001b[43m,\u001b[49m\u001b[43m \u001b[49m\u001b[43mcontext\u001b[49m\n\u001b[1;32m    201\u001b[0m \u001b[43m\u001b[49m\u001b[43m)\u001b[49m\n\u001b[1;32m    202\u001b[0m \u001b[38;5;28;01mwhile\u001b[39;00m \u001b[38;5;28mself\u001b[39m\u001b[38;5;241m.\u001b[39m_needs_retry(\n\u001b[1;32m    203\u001b[0m     attempts,\n\u001b[1;32m    204\u001b[0m     operation_model,\n\u001b[0;32m   (...)\u001b[0m\n\u001b[1;32m    207\u001b[0m     exception,\n\u001b[1;32m    208\u001b[0m ):\n\u001b[1;32m    209\u001b[0m     attempts \u001b[38;5;241m+\u001b[39m\u001b[38;5;241m=\u001b[39m \u001b[38;5;241m1\u001b[39m\n",
      "File \u001b[0;32m~/cs477-final-project/.conda/lib/python3.11/site-packages/botocore/endpoint.py:241\u001b[0m, in \u001b[0;36mEndpoint._get_response\u001b[0;34m(self, request, operation_model, context)\u001b[0m\n\u001b[1;32m    235\u001b[0m \u001b[38;5;28;01mdef\u001b[39;00m \u001b[38;5;21m_get_response\u001b[39m(\u001b[38;5;28mself\u001b[39m, request, operation_model, context):\n\u001b[1;32m    236\u001b[0m     \u001b[38;5;66;03m# This will return a tuple of (success_response, exception)\u001b[39;00m\n\u001b[1;32m    237\u001b[0m     \u001b[38;5;66;03m# and success_response is itself a tuple of\u001b[39;00m\n\u001b[1;32m    238\u001b[0m     \u001b[38;5;66;03m# (http_response, parsed_dict).\u001b[39;00m\n\u001b[1;32m    239\u001b[0m     \u001b[38;5;66;03m# If an exception occurs then the success_response is None.\u001b[39;00m\n\u001b[1;32m    240\u001b[0m     \u001b[38;5;66;03m# If no exception occurs then exception is None.\u001b[39;00m\n\u001b[0;32m--> 241\u001b[0m     success_response, exception \u001b[38;5;241m=\u001b[39m \u001b[38;5;28;43mself\u001b[39;49m\u001b[38;5;241;43m.\u001b[39;49m\u001b[43m_do_get_response\u001b[49m\u001b[43m(\u001b[49m\n\u001b[1;32m    242\u001b[0m \u001b[43m        \u001b[49m\u001b[43mrequest\u001b[49m\u001b[43m,\u001b[49m\u001b[43m \u001b[49m\u001b[43moperation_model\u001b[49m\u001b[43m,\u001b[49m\u001b[43m \u001b[49m\u001b[43mcontext\u001b[49m\n\u001b[1;32m    243\u001b[0m \u001b[43m    \u001b[49m\u001b[43m)\u001b[49m\n\u001b[1;32m    244\u001b[0m     kwargs_to_emit \u001b[38;5;241m=\u001b[39m {\n\u001b[1;32m    245\u001b[0m         \u001b[38;5;124m'\u001b[39m\u001b[38;5;124mresponse_dict\u001b[39m\u001b[38;5;124m'\u001b[39m: \u001b[38;5;28;01mNone\u001b[39;00m,\n\u001b[1;32m    246\u001b[0m         \u001b[38;5;124m'\u001b[39m\u001b[38;5;124mparsed_response\u001b[39m\u001b[38;5;124m'\u001b[39m: \u001b[38;5;28;01mNone\u001b[39;00m,\n\u001b[1;32m    247\u001b[0m         \u001b[38;5;124m'\u001b[39m\u001b[38;5;124mcontext\u001b[39m\u001b[38;5;124m'\u001b[39m: context,\n\u001b[1;32m    248\u001b[0m         \u001b[38;5;124m'\u001b[39m\u001b[38;5;124mexception\u001b[39m\u001b[38;5;124m'\u001b[39m: exception,\n\u001b[1;32m    249\u001b[0m     }\n\u001b[1;32m    250\u001b[0m     \u001b[38;5;28;01mif\u001b[39;00m success_response \u001b[38;5;129;01mis\u001b[39;00m \u001b[38;5;129;01mnot\u001b[39;00m \u001b[38;5;28;01mNone\u001b[39;00m:\n",
      "File \u001b[0;32m~/cs477-final-project/.conda/lib/python3.11/site-packages/botocore/endpoint.py:281\u001b[0m, in \u001b[0;36mEndpoint._do_get_response\u001b[0;34m(self, request, operation_model, context)\u001b[0m\n\u001b[1;32m    279\u001b[0m     http_response \u001b[38;5;241m=\u001b[39m first_non_none_response(responses)\n\u001b[1;32m    280\u001b[0m     \u001b[38;5;28;01mif\u001b[39;00m http_response \u001b[38;5;129;01mis\u001b[39;00m \u001b[38;5;28;01mNone\u001b[39;00m:\n\u001b[0;32m--> 281\u001b[0m         http_response \u001b[38;5;241m=\u001b[39m \u001b[38;5;28;43mself\u001b[39;49m\u001b[38;5;241;43m.\u001b[39;49m\u001b[43m_send\u001b[49m\u001b[43m(\u001b[49m\u001b[43mrequest\u001b[49m\u001b[43m)\u001b[49m\n\u001b[1;32m    282\u001b[0m \u001b[38;5;28;01mexcept\u001b[39;00m HTTPClientError \u001b[38;5;28;01mas\u001b[39;00m e:\n\u001b[1;32m    283\u001b[0m     \u001b[38;5;28;01mreturn\u001b[39;00m (\u001b[38;5;28;01mNone\u001b[39;00m, e)\n",
      "File \u001b[0;32m~/cs477-final-project/.conda/lib/python3.11/site-packages/botocore/endpoint.py:377\u001b[0m, in \u001b[0;36mEndpoint._send\u001b[0;34m(self, request)\u001b[0m\n\u001b[1;32m    376\u001b[0m \u001b[38;5;28;01mdef\u001b[39;00m \u001b[38;5;21m_send\u001b[39m(\u001b[38;5;28mself\u001b[39m, request):\n\u001b[0;32m--> 377\u001b[0m     \u001b[38;5;28;01mreturn\u001b[39;00m \u001b[38;5;28;43mself\u001b[39;49m\u001b[38;5;241;43m.\u001b[39;49m\u001b[43mhttp_session\u001b[49m\u001b[38;5;241;43m.\u001b[39;49m\u001b[43msend\u001b[49m\u001b[43m(\u001b[49m\u001b[43mrequest\u001b[49m\u001b[43m)\u001b[49m\n",
      "File \u001b[0;32m~/cs477-final-project/.conda/lib/python3.11/site-packages/botocore/httpsession.py:464\u001b[0m, in \u001b[0;36mURLLib3Session.send\u001b[0;34m(self, request)\u001b[0m\n\u001b[1;32m    461\u001b[0m     conn\u001b[38;5;241m.\u001b[39mproxy_headers[\u001b[38;5;124m'\u001b[39m\u001b[38;5;124mhost\u001b[39m\u001b[38;5;124m'\u001b[39m] \u001b[38;5;241m=\u001b[39m host\n\u001b[1;32m    463\u001b[0m request_target \u001b[38;5;241m=\u001b[39m \u001b[38;5;28mself\u001b[39m\u001b[38;5;241m.\u001b[39m_get_request_target(request\u001b[38;5;241m.\u001b[39murl, proxy_url)\n\u001b[0;32m--> 464\u001b[0m urllib_response \u001b[38;5;241m=\u001b[39m \u001b[43mconn\u001b[49m\u001b[38;5;241;43m.\u001b[39;49m\u001b[43murlopen\u001b[49m\u001b[43m(\u001b[49m\n\u001b[1;32m    465\u001b[0m \u001b[43m    \u001b[49m\u001b[43mmethod\u001b[49m\u001b[38;5;241;43m=\u001b[39;49m\u001b[43mrequest\u001b[49m\u001b[38;5;241;43m.\u001b[39;49m\u001b[43mmethod\u001b[49m\u001b[43m,\u001b[49m\n\u001b[1;32m    466\u001b[0m \u001b[43m    \u001b[49m\u001b[43murl\u001b[49m\u001b[38;5;241;43m=\u001b[39;49m\u001b[43mrequest_target\u001b[49m\u001b[43m,\u001b[49m\n\u001b[1;32m    467\u001b[0m \u001b[43m    \u001b[49m\u001b[43mbody\u001b[49m\u001b[38;5;241;43m=\u001b[39;49m\u001b[43mrequest\u001b[49m\u001b[38;5;241;43m.\u001b[39;49m\u001b[43mbody\u001b[49m\u001b[43m,\u001b[49m\n\u001b[1;32m    468\u001b[0m \u001b[43m    \u001b[49m\u001b[43mheaders\u001b[49m\u001b[38;5;241;43m=\u001b[39;49m\u001b[43mrequest\u001b[49m\u001b[38;5;241;43m.\u001b[39;49m\u001b[43mheaders\u001b[49m\u001b[43m,\u001b[49m\n\u001b[1;32m    469\u001b[0m \u001b[43m    \u001b[49m\u001b[43mretries\u001b[49m\u001b[38;5;241;43m=\u001b[39;49m\u001b[43mRetry\u001b[49m\u001b[43m(\u001b[49m\u001b[38;5;28;43;01mFalse\u001b[39;49;00m\u001b[43m)\u001b[49m\u001b[43m,\u001b[49m\n\u001b[1;32m    470\u001b[0m \u001b[43m    \u001b[49m\u001b[43massert_same_host\u001b[49m\u001b[38;5;241;43m=\u001b[39;49m\u001b[38;5;28;43;01mFalse\u001b[39;49;00m\u001b[43m,\u001b[49m\n\u001b[1;32m    471\u001b[0m \u001b[43m    \u001b[49m\u001b[43mpreload_content\u001b[49m\u001b[38;5;241;43m=\u001b[39;49m\u001b[38;5;28;43;01mFalse\u001b[39;49;00m\u001b[43m,\u001b[49m\n\u001b[1;32m    472\u001b[0m \u001b[43m    \u001b[49m\u001b[43mdecode_content\u001b[49m\u001b[38;5;241;43m=\u001b[39;49m\u001b[38;5;28;43;01mFalse\u001b[39;49;00m\u001b[43m,\u001b[49m\n\u001b[1;32m    473\u001b[0m \u001b[43m    \u001b[49m\u001b[43mchunked\u001b[49m\u001b[38;5;241;43m=\u001b[39;49m\u001b[38;5;28;43mself\u001b[39;49m\u001b[38;5;241;43m.\u001b[39;49m\u001b[43m_chunked\u001b[49m\u001b[43m(\u001b[49m\u001b[43mrequest\u001b[49m\u001b[38;5;241;43m.\u001b[39;49m\u001b[43mheaders\u001b[49m\u001b[43m)\u001b[49m\u001b[43m,\u001b[49m\n\u001b[1;32m    474\u001b[0m \u001b[43m\u001b[49m\u001b[43m)\u001b[49m\n\u001b[1;32m    476\u001b[0m http_response \u001b[38;5;241m=\u001b[39m botocore\u001b[38;5;241m.\u001b[39mawsrequest\u001b[38;5;241m.\u001b[39mAWSResponse(\n\u001b[1;32m    477\u001b[0m     request\u001b[38;5;241m.\u001b[39murl,\n\u001b[1;32m    478\u001b[0m     urllib_response\u001b[38;5;241m.\u001b[39mstatus,\n\u001b[1;32m    479\u001b[0m     urllib_response\u001b[38;5;241m.\u001b[39mheaders,\n\u001b[1;32m    480\u001b[0m     urllib_response,\n\u001b[1;32m    481\u001b[0m )\n\u001b[1;32m    483\u001b[0m \u001b[38;5;28;01mif\u001b[39;00m \u001b[38;5;129;01mnot\u001b[39;00m request\u001b[38;5;241m.\u001b[39mstream_output:\n\u001b[1;32m    484\u001b[0m     \u001b[38;5;66;03m# Cause the raw stream to be exhausted immediately. We do it\u001b[39;00m\n\u001b[1;32m    485\u001b[0m     \u001b[38;5;66;03m# this way instead of using preload_content because\u001b[39;00m\n\u001b[1;32m    486\u001b[0m     \u001b[38;5;66;03m# preload_content will never buffer chunked responses\u001b[39;00m\n",
      "File \u001b[0;32m~/cs477-final-project/.conda/lib/python3.11/site-packages/urllib3/connectionpool.py:793\u001b[0m, in \u001b[0;36mHTTPConnectionPool.urlopen\u001b[0;34m(self, method, url, body, headers, retries, redirect, assert_same_host, timeout, pool_timeout, release_conn, chunked, body_pos, preload_content, decode_content, **response_kw)\u001b[0m\n\u001b[1;32m    790\u001b[0m response_conn \u001b[38;5;241m=\u001b[39m conn \u001b[38;5;28;01mif\u001b[39;00m \u001b[38;5;129;01mnot\u001b[39;00m release_conn \u001b[38;5;28;01melse\u001b[39;00m \u001b[38;5;28;01mNone\u001b[39;00m\n\u001b[1;32m    792\u001b[0m \u001b[38;5;66;03m# Make the request on the HTTPConnection object\u001b[39;00m\n\u001b[0;32m--> 793\u001b[0m response \u001b[38;5;241m=\u001b[39m \u001b[38;5;28;43mself\u001b[39;49m\u001b[38;5;241;43m.\u001b[39;49m\u001b[43m_make_request\u001b[49m\u001b[43m(\u001b[49m\n\u001b[1;32m    794\u001b[0m \u001b[43m    \u001b[49m\u001b[43mconn\u001b[49m\u001b[43m,\u001b[49m\n\u001b[1;32m    795\u001b[0m \u001b[43m    \u001b[49m\u001b[43mmethod\u001b[49m\u001b[43m,\u001b[49m\n\u001b[1;32m    796\u001b[0m \u001b[43m    \u001b[49m\u001b[43murl\u001b[49m\u001b[43m,\u001b[49m\n\u001b[1;32m    797\u001b[0m \u001b[43m    \u001b[49m\u001b[43mtimeout\u001b[49m\u001b[38;5;241;43m=\u001b[39;49m\u001b[43mtimeout_obj\u001b[49m\u001b[43m,\u001b[49m\n\u001b[1;32m    798\u001b[0m \u001b[43m    \u001b[49m\u001b[43mbody\u001b[49m\u001b[38;5;241;43m=\u001b[39;49m\u001b[43mbody\u001b[49m\u001b[43m,\u001b[49m\n\u001b[1;32m    799\u001b[0m \u001b[43m    \u001b[49m\u001b[43mheaders\u001b[49m\u001b[38;5;241;43m=\u001b[39;49m\u001b[43mheaders\u001b[49m\u001b[43m,\u001b[49m\n\u001b[1;32m    800\u001b[0m \u001b[43m    \u001b[49m\u001b[43mchunked\u001b[49m\u001b[38;5;241;43m=\u001b[39;49m\u001b[43mchunked\u001b[49m\u001b[43m,\u001b[49m\n\u001b[1;32m    801\u001b[0m \u001b[43m    \u001b[49m\u001b[43mretries\u001b[49m\u001b[38;5;241;43m=\u001b[39;49m\u001b[43mretries\u001b[49m\u001b[43m,\u001b[49m\n\u001b[1;32m    802\u001b[0m \u001b[43m    \u001b[49m\u001b[43mresponse_conn\u001b[49m\u001b[38;5;241;43m=\u001b[39;49m\u001b[43mresponse_conn\u001b[49m\u001b[43m,\u001b[49m\n\u001b[1;32m    803\u001b[0m \u001b[43m    \u001b[49m\u001b[43mpreload_content\u001b[49m\u001b[38;5;241;43m=\u001b[39;49m\u001b[43mpreload_content\u001b[49m\u001b[43m,\u001b[49m\n\u001b[1;32m    804\u001b[0m \u001b[43m    \u001b[49m\u001b[43mdecode_content\u001b[49m\u001b[38;5;241;43m=\u001b[39;49m\u001b[43mdecode_content\u001b[49m\u001b[43m,\u001b[49m\n\u001b[1;32m    805\u001b[0m \u001b[43m    \u001b[49m\u001b[38;5;241;43m*\u001b[39;49m\u001b[38;5;241;43m*\u001b[39;49m\u001b[43mresponse_kw\u001b[49m\u001b[43m,\u001b[49m\n\u001b[1;32m    806\u001b[0m \u001b[43m\u001b[49m\u001b[43m)\u001b[49m\n\u001b[1;32m    808\u001b[0m \u001b[38;5;66;03m# Everything went great!\u001b[39;00m\n\u001b[1;32m    809\u001b[0m clean_exit \u001b[38;5;241m=\u001b[39m \u001b[38;5;28;01mTrue\u001b[39;00m\n",
      "File \u001b[0;32m~/cs477-final-project/.conda/lib/python3.11/site-packages/urllib3/connectionpool.py:537\u001b[0m, in \u001b[0;36mHTTPConnectionPool._make_request\u001b[0;34m(self, conn, method, url, body, headers, retries, timeout, chunked, response_conn, preload_content, decode_content, enforce_content_length)\u001b[0m\n\u001b[1;32m    535\u001b[0m \u001b[38;5;66;03m# Receive the response from the server\u001b[39;00m\n\u001b[1;32m    536\u001b[0m \u001b[38;5;28;01mtry\u001b[39;00m:\n\u001b[0;32m--> 537\u001b[0m     response \u001b[38;5;241m=\u001b[39m \u001b[43mconn\u001b[49m\u001b[38;5;241;43m.\u001b[39;49m\u001b[43mgetresponse\u001b[49m\u001b[43m(\u001b[49m\u001b[43m)\u001b[49m\n\u001b[1;32m    538\u001b[0m \u001b[38;5;28;01mexcept\u001b[39;00m (BaseSSLError, \u001b[38;5;167;01mOSError\u001b[39;00m) \u001b[38;5;28;01mas\u001b[39;00m e:\n\u001b[1;32m    539\u001b[0m     \u001b[38;5;28mself\u001b[39m\u001b[38;5;241m.\u001b[39m_raise_timeout(err\u001b[38;5;241m=\u001b[39me, url\u001b[38;5;241m=\u001b[39murl, timeout_value\u001b[38;5;241m=\u001b[39mread_timeout)\n",
      "File \u001b[0;32m~/cs477-final-project/.conda/lib/python3.11/site-packages/urllib3/connection.py:466\u001b[0m, in \u001b[0;36mHTTPConnection.getresponse\u001b[0;34m(self)\u001b[0m\n\u001b[1;32m    463\u001b[0m \u001b[38;5;28;01mfrom\u001b[39;00m \u001b[38;5;21;01m.\u001b[39;00m\u001b[38;5;21;01mresponse\u001b[39;00m \u001b[38;5;28;01mimport\u001b[39;00m HTTPResponse\n\u001b[1;32m    465\u001b[0m \u001b[38;5;66;03m# Get the response from http.client.HTTPConnection\u001b[39;00m\n\u001b[0;32m--> 466\u001b[0m httplib_response \u001b[38;5;241m=\u001b[39m \u001b[38;5;28;43msuper\u001b[39;49m\u001b[43m(\u001b[49m\u001b[43m)\u001b[49m\u001b[38;5;241;43m.\u001b[39;49m\u001b[43mgetresponse\u001b[49m\u001b[43m(\u001b[49m\u001b[43m)\u001b[49m\n\u001b[1;32m    468\u001b[0m \u001b[38;5;28;01mtry\u001b[39;00m:\n\u001b[1;32m    469\u001b[0m     assert_header_parsing(httplib_response\u001b[38;5;241m.\u001b[39mmsg)\n",
      "File \u001b[0;32m~/cs477-final-project/.conda/lib/python3.11/http/client.py:1395\u001b[0m, in \u001b[0;36mHTTPConnection.getresponse\u001b[0;34m(self)\u001b[0m\n\u001b[1;32m   1393\u001b[0m \u001b[38;5;28;01mtry\u001b[39;00m:\n\u001b[1;32m   1394\u001b[0m     \u001b[38;5;28;01mtry\u001b[39;00m:\n\u001b[0;32m-> 1395\u001b[0m         \u001b[43mresponse\u001b[49m\u001b[38;5;241;43m.\u001b[39;49m\u001b[43mbegin\u001b[49m\u001b[43m(\u001b[49m\u001b[43m)\u001b[49m\n\u001b[1;32m   1396\u001b[0m     \u001b[38;5;28;01mexcept\u001b[39;00m \u001b[38;5;167;01mConnectionError\u001b[39;00m:\n\u001b[1;32m   1397\u001b[0m         \u001b[38;5;28mself\u001b[39m\u001b[38;5;241m.\u001b[39mclose()\n",
      "File \u001b[0;32m~/cs477-final-project/.conda/lib/python3.11/http/client.py:325\u001b[0m, in \u001b[0;36mHTTPResponse.begin\u001b[0;34m(self)\u001b[0m\n\u001b[1;32m    323\u001b[0m \u001b[38;5;66;03m# read until we get a non-100 response\u001b[39;00m\n\u001b[1;32m    324\u001b[0m \u001b[38;5;28;01mwhile\u001b[39;00m \u001b[38;5;28;01mTrue\u001b[39;00m:\n\u001b[0;32m--> 325\u001b[0m     version, status, reason \u001b[38;5;241m=\u001b[39m \u001b[38;5;28;43mself\u001b[39;49m\u001b[38;5;241;43m.\u001b[39;49m\u001b[43m_read_status\u001b[49m\u001b[43m(\u001b[49m\u001b[43m)\u001b[49m\n\u001b[1;32m    326\u001b[0m     \u001b[38;5;28;01mif\u001b[39;00m status \u001b[38;5;241m!=\u001b[39m CONTINUE:\n\u001b[1;32m    327\u001b[0m         \u001b[38;5;28;01mbreak\u001b[39;00m\n",
      "File \u001b[0;32m~/cs477-final-project/.conda/lib/python3.11/http/client.py:286\u001b[0m, in \u001b[0;36mHTTPResponse._read_status\u001b[0;34m(self)\u001b[0m\n\u001b[1;32m    285\u001b[0m \u001b[38;5;28;01mdef\u001b[39;00m \u001b[38;5;21m_read_status\u001b[39m(\u001b[38;5;28mself\u001b[39m):\n\u001b[0;32m--> 286\u001b[0m     line \u001b[38;5;241m=\u001b[39m \u001b[38;5;28mstr\u001b[39m(\u001b[38;5;28mself\u001b[39m\u001b[38;5;241m.\u001b[39mfp\u001b[38;5;241m.\u001b[39mreadline(_MAXLINE \u001b[38;5;241m+\u001b[39m \u001b[38;5;241m1\u001b[39m), \u001b[38;5;124m\"\u001b[39m\u001b[38;5;124miso-8859-1\u001b[39m\u001b[38;5;124m\"\u001b[39m)\n\u001b[1;32m    287\u001b[0m     \u001b[38;5;28;01mif\u001b[39;00m \u001b[38;5;28mlen\u001b[39m(line) \u001b[38;5;241m>\u001b[39m _MAXLINE:\n\u001b[1;32m    288\u001b[0m         \u001b[38;5;28;01mraise\u001b[39;00m LineTooLong(\u001b[38;5;124m\"\u001b[39m\u001b[38;5;124mstatus line\u001b[39m\u001b[38;5;124m\"\u001b[39m)\n",
      "File \u001b[0;32m~/cs477-final-project/.conda/lib/python3.11/socket.py:706\u001b[0m, in \u001b[0;36mSocketIO.readinto\u001b[0;34m(self, b)\u001b[0m\n\u001b[1;32m    704\u001b[0m \u001b[38;5;28;01mwhile\u001b[39;00m \u001b[38;5;28;01mTrue\u001b[39;00m:\n\u001b[1;32m    705\u001b[0m     \u001b[38;5;28;01mtry\u001b[39;00m:\n\u001b[0;32m--> 706\u001b[0m         \u001b[38;5;28;01mreturn\u001b[39;00m \u001b[38;5;28;43mself\u001b[39;49m\u001b[38;5;241;43m.\u001b[39;49m\u001b[43m_sock\u001b[49m\u001b[38;5;241;43m.\u001b[39;49m\u001b[43mrecv_into\u001b[49m\u001b[43m(\u001b[49m\u001b[43mb\u001b[49m\u001b[43m)\u001b[49m\n\u001b[1;32m    707\u001b[0m     \u001b[38;5;28;01mexcept\u001b[39;00m timeout:\n\u001b[1;32m    708\u001b[0m         \u001b[38;5;28mself\u001b[39m\u001b[38;5;241m.\u001b[39m_timeout_occurred \u001b[38;5;241m=\u001b[39m \u001b[38;5;28;01mTrue\u001b[39;00m\n",
      "File \u001b[0;32m~/cs477-final-project/.conda/lib/python3.11/ssl.py:1314\u001b[0m, in \u001b[0;36mSSLSocket.recv_into\u001b[0;34m(self, buffer, nbytes, flags)\u001b[0m\n\u001b[1;32m   1310\u001b[0m     \u001b[38;5;28;01mif\u001b[39;00m flags \u001b[38;5;241m!=\u001b[39m \u001b[38;5;241m0\u001b[39m:\n\u001b[1;32m   1311\u001b[0m         \u001b[38;5;28;01mraise\u001b[39;00m \u001b[38;5;167;01mValueError\u001b[39;00m(\n\u001b[1;32m   1312\u001b[0m           \u001b[38;5;124m\"\u001b[39m\u001b[38;5;124mnon-zero flags not allowed in calls to recv_into() on \u001b[39m\u001b[38;5;132;01m%s\u001b[39;00m\u001b[38;5;124m\"\u001b[39m \u001b[38;5;241m%\u001b[39m\n\u001b[1;32m   1313\u001b[0m           \u001b[38;5;28mself\u001b[39m\u001b[38;5;241m.\u001b[39m\u001b[38;5;18m__class__\u001b[39m)\n\u001b[0;32m-> 1314\u001b[0m     \u001b[38;5;28;01mreturn\u001b[39;00m \u001b[38;5;28;43mself\u001b[39;49m\u001b[38;5;241;43m.\u001b[39;49m\u001b[43mread\u001b[49m\u001b[43m(\u001b[49m\u001b[43mnbytes\u001b[49m\u001b[43m,\u001b[49m\u001b[43m \u001b[49m\u001b[43mbuffer\u001b[49m\u001b[43m)\u001b[49m\n\u001b[1;32m   1315\u001b[0m \u001b[38;5;28;01melse\u001b[39;00m:\n\u001b[1;32m   1316\u001b[0m     \u001b[38;5;28;01mreturn\u001b[39;00m \u001b[38;5;28msuper\u001b[39m()\u001b[38;5;241m.\u001b[39mrecv_into(buffer, nbytes, flags)\n",
      "File \u001b[0;32m~/cs477-final-project/.conda/lib/python3.11/ssl.py:1166\u001b[0m, in \u001b[0;36mSSLSocket.read\u001b[0;34m(self, len, buffer)\u001b[0m\n\u001b[1;32m   1164\u001b[0m \u001b[38;5;28;01mtry\u001b[39;00m:\n\u001b[1;32m   1165\u001b[0m     \u001b[38;5;28;01mif\u001b[39;00m buffer \u001b[38;5;129;01mis\u001b[39;00m \u001b[38;5;129;01mnot\u001b[39;00m \u001b[38;5;28;01mNone\u001b[39;00m:\n\u001b[0;32m-> 1166\u001b[0m         \u001b[38;5;28;01mreturn\u001b[39;00m \u001b[38;5;28;43mself\u001b[39;49m\u001b[38;5;241;43m.\u001b[39;49m\u001b[43m_sslobj\u001b[49m\u001b[38;5;241;43m.\u001b[39;49m\u001b[43mread\u001b[49m\u001b[43m(\u001b[49m\u001b[38;5;28;43mlen\u001b[39;49m\u001b[43m,\u001b[49m\u001b[43m \u001b[49m\u001b[43mbuffer\u001b[49m\u001b[43m)\u001b[49m\n\u001b[1;32m   1167\u001b[0m     \u001b[38;5;28;01melse\u001b[39;00m:\n\u001b[1;32m   1168\u001b[0m         \u001b[38;5;28;01mreturn\u001b[39;00m \u001b[38;5;28mself\u001b[39m\u001b[38;5;241m.\u001b[39m_sslobj\u001b[38;5;241m.\u001b[39mread(\u001b[38;5;28mlen\u001b[39m)\n",
      "\u001b[0;31mKeyboardInterrupt\u001b[0m: "
     ]
    }
   ],
   "source": [
    "import calling\n",
    "from tqdm import tqdm\n",
    "results = []\n",
    "num_pass = 0\n",
    "token_usage = 0\n",
    "for i, row in tqdm(df.iterrows()):\n",
    "    obj = prompts.to_patent_data(row, \"claude3haiku\", prefer_local=True, mode=IMAGE_ONLY)\n",
    "    if (obj is None): continue\n",
    "    print(obj)\n",
    "    messages = prompts.generate_prompt_claude(obj)\n",
    "    try:\n",
    "        result = calling.call_anthropic(obj)\n",
    "    except Exception as e:\n",
    "        print(e)\n",
    "        continue\n",
    "    results.append(result)\n",
    "    if obj.label in result:\n",
    "        num_pass += 1\n",
    "    print(f\"Output: {result}, Expected: {obj.label}, Current Accuracy: {num_pass/(i+1)}, Token Usage: {token_usage}\")"
   ]
  },
  {
   "cell_type": "markdown",
   "metadata": {},
   "source": [
    "## Text Only"
   ]
  },
  {
   "cell_type": "code",
   "execution_count": 4,
   "metadata": {},
   "outputs": [
    {
     "name": "stderr",
     "output_type": "stream",
     "text": [
      "0it [00:00, ?it/s]"
     ]
    },
    {
     "name": "stdout",
     "output_type": "stream",
     "text": [
      "PatentData(text='A portable drug dispenser includes a chamber for holding a plurality of separately contained drug products, a dispensing mechanism for dispensing one or more of the plurality of drug products, and may optionally include a processor to determine the time of each activation of the dispensing mechanism and to transmit the determined time of activation to a computer located remote to the dispenser. The dispenser may include more than one chamber for holding drugs.', image=None, label='A61J', model_output=None, messages=None, model_type='claude3haiku', mode=1)\n"
     ]
    },
    {
     "name": "stderr",
     "output_type": "stream",
     "text": [
      "1it [00:00,  2.99it/s]"
     ]
    },
    {
     "name": "stdout",
     "output_type": "stream",
     "text": [
      "Output: A61J7/04, Expected: A61J, Current Accuracy: 1.0, Token Usage: 0\n",
      "PatentData(text='A crystal growth furnace comprising a crucible containing at least feedstock material and a liquid-cooled heat exchanger that is vertically movable beneath the crucible to extract heat from it to promote the growth of a crystalline ingot is disclosed. The liquid-cooled heat exchanger comprises a heat extraction bulb made of high thermal conductivity material that is vertically movable into thermal communication with the crucible to extract heat from the crucible using a liquid coolant. A liquid-cooled heat exchanger enclosed in a sealed tubular outer jacket is also disclosed as is a method for producing a crystalline ingot using a vertically movable liquid-cooled heat exchanger.', image=None, label='C30B', model_output=None, messages=None, model_type='claude3haiku', mode=1)\n"
     ]
    },
    {
     "name": "stderr",
     "output_type": "stream",
     "text": [
      "2it [00:00,  3.15it/s]"
     ]
    },
    {
     "name": "stdout",
     "output_type": "stream",
     "text": [
      "Output: C30B, Expected: C30B, Current Accuracy: 1.0, Token Usage: 0\n",
      "PatentData(text='A shoe midsole is composed of a base plate (1), a cover (2), a plurality of blades (3), and liquid (4). The blades (3) are formed in such a manner as to rise within a first region (11) of the base plate (1). The blades (3) are each composed of a plurality of flat-shaped blade elements (32, 33) separated each other by slits (31), and are tilted toward the toe side or the heel side. The flat-shaped blade elements (32, 33) are disposed in such a manner as to be divergent toward the toe side or the heel side. The base plate (1) and the cover (2) are joined together, thereby forming a closed space (5), and the liquid (4) is sealed in the closed space.', image=None, label='A43B', model_output=None, messages=None, model_type='claude3haiku', mode=1)\n"
     ]
    },
    {
     "name": "stderr",
     "output_type": "stream",
     "text": [
      "3it [00:01,  1.76it/s]"
     ]
    },
    {
     "name": "stdout",
     "output_type": "stream",
     "text": [
      "Output: A61F5/14, Expected: A43B, Current Accuracy: 0.6666666666666666, Token Usage: 0\n",
      "PatentData(text='A ratchet tool includes a shaft member, a handle and a ratchet mechanism, in which the handle is connected to the ratchet mechanism, and the shaft member extends into the interior of the ratchet mechanism along the central axle of the ratchet mechanism from the front end of the ratchet mechanism and is connected to the ratchet mechanism. The shaft member includes a shaft and an extension portion which passes through the rear end of the ratchet mechanism along the central axle of the ratchet mechanism from the front end of the ratchet mechanism and is connected to the ratchet mechanism, and the shaft is designed to be integrated with or separated from the extension portion. Such a design of the shaft member solves the wobble problem of the shaft. The ratchet tool of the present invention also includes a lighting device. The ratchet tool of the present invention requires small turning force when turning back and has strong capacity of torque transferring, and at the same time achieves lighting feature.', image=None, label='B25B', model_output=None, messages=None, model_type='claude3haiku', mode=1)\n"
     ]
    },
    {
     "name": "stderr",
     "output_type": "stream",
     "text": [
      "4it [00:01,  2.17it/s]"
     ]
    },
    {
     "name": "stdout",
     "output_type": "stream",
     "text": [
      "Output: B25B, Expected: B25B, Current Accuracy: 0.75, Token Usage: 0\n",
      "PatentData(text='Provided are a rubber composition using an antioxidant synthesized from biological resources including botanical resources, wherein the value of δ13C of the antioxidant is from −30‰ to −26‰, or −22‰ or more, and a tire using the rubber composition.', image=None, label='C08K', model_output=None, messages=None, model_type='claude3haiku', mode=1)\n"
     ]
    },
    {
     "name": "stderr",
     "output_type": "stream",
     "text": [
      "5it [00:02,  2.24it/s]"
     ]
    },
    {
     "name": "stdout",
     "output_type": "stream",
     "text": [
      "Output: C08K, Expected: C08K, Current Accuracy: 0.8, Token Usage: 0\n",
      "PatentData(text='Glazings comprising first and second channel-section glazing elements are described. The first and second channel-section glazing elements are arranged to define a cavity in which is located an inner glazing element comprising a glass glazing element, in particular a soda-lime-silica glass sheet, channel-section glazing element or sheet of rolled glass having at least one fire polished edge. The inner glazing element divides the cavity into at least two spaces to improve the thermal and/or noise performance of the glazing. By using low emissivity coatings on one or more major surfaces of one or more of the glazing elements, the thermal performance may be further improved. Mechanical performance may be modified by the particular type of inner glazing element used. It is possible to retrofit existing glazings to improve the thermal and/or noise performance thereof.', image=None, label='E04C', model_output=None, messages=None, model_type='claude3haiku', mode=1)\n"
     ]
    },
    {
     "name": "stderr",
     "output_type": "stream",
     "text": [
      "6it [00:02,  2.04it/s]"
     ]
    },
    {
     "name": "stdout",
     "output_type": "stream",
     "text": [
      "Output: E06B, Expected: E04C, Current Accuracy: 0.6666666666666666, Token Usage: 0\n",
      "PatentData(text='An exhaust stem for use with a valve assembly is provided. The exhaust stem is a hollow body which comprises an inner surface, a distal end, and an outer surface. The inner surface forms a portion of a fluid conduit through the exhaust stem. The distal end is shaped to sealingly engage a valve of the valve assembly. The outer surface defines a plurality of turbulence reducing protuberances. The plurality of turbulence reducing protuberances distributes a fluid within a valve housing of the valve assembly to facilitate operation of the valve assembly. The valve assembly decreases an amount of fluid turbulence in a tire inflation system, provides greater flexibility in configuring the tire inflation system, and facilitates accurate control of a pressure within individual tires of a vehicle.', image=None, label='B60C', model_output=None, messages=None, model_type='claude3haiku', mode=1)\n"
     ]
    },
    {
     "name": "stderr",
     "output_type": "stream",
     "text": [
      "7it [00:03,  2.38it/s]"
     ]
    },
    {
     "name": "stdout",
     "output_type": "stream",
     "text": [
      "Output: F16K, Expected: B60C, Current Accuracy: 0.5714285714285714, Token Usage: 0\n",
      "PatentData(text='Liquefied gas tank that is easy to machine and quick to operate and bag for sealing cable ducts incorporating said tank. The tank is provided with breaking means for inflating sealed compartments composed of a main pipe (1) closed on one side, an outlet pipe (4) inserted on the other side of the main tube through a first end (6) and closed on the distal end thereof, wherein the outlet pipe is provided with a narrowing (5) that defines a breaking point and an internal orifice (8) that extends from the first end of the outlet pipe to the narrowing (5) towards the distal end, and wherein the size of the narrowing (5), the size of the orifice (8) and the length of the outlet pipe (4) are determined such that a force applied on a lever of between 19N and 80N will break the outlet pipe (4) at the breaking point (5), releasing the gas through the orifice (8).', image=None, label='F17C', model_output=None, messages=None, model_type='claude3haiku', mode=1)\n"
     ]
    },
    {
     "name": "stderr",
     "output_type": "stream",
     "text": [
      "8it [00:03,  2.51it/s]"
     ]
    },
    {
     "name": "stdout",
     "output_type": "stream",
     "text": [
      "Output: B65D, Expected: F17C, Current Accuracy: 0.5, Token Usage: 0\n",
      "PatentData(text='A paper product comprising a planar fibrous cellulose substrate, and a coating composition disposed on a surface of said substrate comprising an interpolymer prepared by the emulsion polymerization of (i) one or more vinyl ester monomers; (ii) ethylene; (iii) an unsaturated silane co-monomer; and (iv) one or more emulsion-stabilizing ionic co-monomers comprising one or more of unsaturated, substituted sulfonic acid, one or more of an unsaturated phosphonic acid, or an ester of one of those acids, in the presence of (v) a stabilizing system which comprises one or more anionic and/or nonionic surfactants but less than about 1 pphm of any protective colloid material; and (v) water.', image=None, label='D21H', model_output=None, messages=None, model_type='claude3haiku', mode=1)\n"
     ]
    },
    {
     "name": "stderr",
     "output_type": "stream",
     "text": [
      "9it [00:03,  2.63it/s]"
     ]
    },
    {
     "name": "stdout",
     "output_type": "stream",
     "text": [
      "Output: D21H19/58, Expected: D21H, Current Accuracy: 0.5555555555555556, Token Usage: 0\n",
      "PatentData(text='The present disclosure relates to a display panel, a pixel structure, and a method for driving the display panel. The pixel structure comprises a plurality of sub-pixels, each of which comprises: a main portion configured to receive a scan signal of a first scan line, and then to receive a data signal of a data line, so that it has a main-portion voltage; a first portion configured to receive the scan signal of the first scan line, and then to receive the data signal of the data line, so that it has a first-portion voltage; and a second portion configured to receive a scan signal of a second scan line, and then to receive the data signal of the data line, so that it a second-portion voltage, wherein the main-portion voltage, the first-portion voltage and the second-portion voltage are different from one another. The display panel can not only achieve lower color shift for 2D display, but also enable lower color shift for 3D display by using a voltage difference between the main portion and the first portion after turning the second portion into a light shielding area.', image=None, label='G09G', model_output=None, messages=None, model_type='claude3haiku', mode=1)\n"
     ]
    },
    {
     "name": "stderr",
     "output_type": "stream",
     "text": [
      "10it [00:04,  2.69it/s]"
     ]
    },
    {
     "name": "stdout",
     "output_type": "stream",
     "text": [
      "Output: G09G, Expected: G09G, Current Accuracy: 0.6, Token Usage: 0\n",
      "PatentData(text='The disclosed broadband supercontinuum light emitting device includes a nonlinear optical fiber, a pump system, a cavity, and an active medium. The active medium may comprise an active fiber and may be located inside the cavity. The active medium is configured and arranged, by means of a pumping provided by the pump system, to generate and emit chaotic pulses of laser light towards the nonlinear optical fiber, which excite the nonlinear effects thereof for the generation and emission of supercontinuum light in the form of pulses of light distributed randomly over time. Numerous uses of the device are disclosed for multiple applications that require a low-cost, very bright light source with an adequate broadband spectrum.', image=None, label='H01S', model_output=None, messages=None, model_type='claude3haiku', mode=1)\n"
     ]
    },
    {
     "name": "stderr",
     "output_type": "stream",
     "text": [
      "12it [00:04,  3.21it/s]"
     ]
    },
    {
     "name": "stdout",
     "output_type": "stream",
     "text": [
      "Output: H01S3/10, Expected: H01S, Current Accuracy: 0.6363636363636364, Token Usage: 0\n",
      "PatentData(text='An offshore power generation structure comprising a submerged portion having a first deck portion comprising an integral multi-stage evaporator system, a second deck portion comprising an integral multi-stage condensing system, a third deck portion housing power generation equipment, cold water pipe; and a cold water pipe connection.', image=None, label='F03G', model_output=None, messages=None, model_type='claude3haiku', mode=1)\n",
      "Output: A47J, Expected: F03G, Current Accuracy: 0.5833333333333334, Token Usage: 0\n",
      "PatentData(text='A burst-mode laser control circuit and related methods thereof are disclosed. Using an APC loop with an additional burst-mode control circuit, and a switch in series with a diode and in parallel with the laser, a continuous-mode laser driver is enabled to operate in burst-mode by turning the switch on or off via external logic. Burst-mode control manages the switch, and a bandwidth-select circuit using a high or low logic level input, wherein the laser is disabled and the bandwidth-select circuit enters a fast-track mode when the external logic signal has a first level. The laser provides regular optical signals, and the bandwidth-select circuit enters a slow-track mode, thereby enabling the APC loop to operate normally, when the external logic signal has a second level. In addition to a low cost and simple implementation, the control circuit and method provide lasers with a fast response capability using one or more externally-controlled switch circuits to meet demands of PON systems for burst-mode ONUs.', image=None, label='H04B', model_output=None, messages=None, model_type='claude3haiku', mode=1)\n"
     ]
    },
    {
     "name": "stderr",
     "output_type": "stream",
     "text": [
      "13it [00:05,  3.04it/s]"
     ]
    },
    {
     "name": "stdout",
     "output_type": "stream",
     "text": [
      "Output: H04B, Expected: H04B, Current Accuracy: 0.6153846153846154, Token Usage: 0\n",
      "PatentData(text='Automated device for opening and closing metal goods-transportation boxes for stowage on ships relates to an automated device designed to open and close metal goods-transportation boxes for stowage on ships that obviates the need for storage silos close to the quay of the port and the conveyer belts and accessories thereof for loading the ship.', image=None, label='B66C', model_output=None, messages=None, model_type='claude3haiku', mode=1)\n"
     ]
    },
    {
     "name": "stderr",
     "output_type": "stream",
     "text": [
      "14it [00:05,  3.21it/s]"
     ]
    },
    {
     "name": "stdout",
     "output_type": "stream",
     "text": [
      "Output: B65G, Expected: B66C, Current Accuracy: 0.5714285714285714, Token Usage: 0\n",
      "PatentData(text='A method for protecting data transmission in an ad hoc network including nodes, each node including a private key, a public key and a certificate of the public key signed by a certification authority, the method including transmitting by the first node to the second node: a first message signed with the private key of the first node; a third message containing a first set of initialization data including: a first certificate including the public key of the first node, signed by the certification authority; a second data set including the IP address of the first node; and the first certificate associated with the IP address of the first node, wherein the second data set is signed with the private key of the first node.', image=None, label='H04L', model_output=None, messages=None, model_type='claude3haiku', mode=1)\n"
     ]
    },
    {
     "name": "stderr",
     "output_type": "stream",
     "text": [
      "15it [00:05,  2.49it/s]"
     ]
    },
    {
     "name": "stdout",
     "output_type": "stream",
     "text": [
      "Output: H04L9/32, Expected: H04L, Current Accuracy: 0.6, Token Usage: 0\n",
      "PatentData(text='A method for merging two sub-networks of an ad hoc network implementing the D2HCP routing protocol includes transmitting a first data set from the master node to the slave node, the first set including the identifiers of all the nodes of the sub-network containing the master node, the IP addresses of all the nodes of the sub-network containing the master node, each node identifier being associated with a single IP address, comparing each received IP address of the first set with the IP addresses of the routing table of the slave node in order to identify a list of duplicates corresponding to nodes of each sub-network having the same IP addresses.', image=None, label='H04L', model_output=None, messages=None, model_type='claude3haiku', mode=1)\n"
     ]
    },
    {
     "name": "stderr",
     "output_type": "stream",
     "text": [
      "16it [00:06,  2.72it/s]"
     ]
    },
    {
     "name": "stdout",
     "output_type": "stream",
     "text": [
      "Output: H04W40/24, Expected: H04L, Current Accuracy: 0.5625, Token Usage: 0\n",
      "PatentData(text='A pharmaceutical composition comprising at least two peptides of from 15 to 60 amino acids in length, selected from peptides comprising a sequence of at least 15 contiguous amino acids of one of the sequences shown in SEQ ID NOs: 1 to 4 or of a sequence having at least 80% identity to one of the sequences shown in SEQ ID NOs: to 4, wherein each peptide comprises at least one CD8+ T-cell epitope and/or at least one CD4+ T-cell epitope and wherein each peptide elicits a response in peripheral blood mononuclear cells (PBMC) from at least one chronically infected HBV individual in an 10 in vitroassay.', image=None, label='A61K', model_output=None, messages=None, model_type='claude3haiku', mode=1)\n"
     ]
    },
    {
     "name": "stderr",
     "output_type": "stream",
     "text": [
      "17it [00:06,  2.90it/s]"
     ]
    },
    {
     "name": "stdout",
     "output_type": "stream",
     "text": [
      "Output: A61K, Expected: A61K, Current Accuracy: 0.5882352941176471, Token Usage: 0\n",
      "PatentData(text='To expose a desired feature, focused ion beam milling of thin slices from a cross section alternate with forming a scanning electron image of each newly exposed cross section. Milling is stopped when automatic analysis of an electron beam image of the newly exposed cross section shows that a pre-determined criterion is met.', image=None, label='H01J', model_output=None, messages=None, model_type='claude3haiku', mode=1)\n"
     ]
    },
    {
     "name": "stderr",
     "output_type": "stream",
     "text": [
      "18it [00:06,  2.70it/s]"
     ]
    },
    {
     "name": "stdout",
     "output_type": "stream",
     "text": [
      "Output: A61B10/04, Expected: H01J, Current Accuracy: 0.5555555555555556, Token Usage: 0\n",
      "PatentData(text='A lift with guide rails and guide device and by using a cable winch reduction, an electric drive or a hydraulic cylinder enables a lift platform or a double platform to move vertically over a lifting and the swimming pool lift includes a flotation body, which can receive the drive, the hydraulic system and the swimming pool cleaning system.', image=None, label='A61G', model_output=None, messages=None, model_type='claude3haiku', mode=1)\n"
     ]
    },
    {
     "name": "stderr",
     "output_type": "stream",
     "text": [
      "19it [00:07,  2.44it/s]"
     ]
    },
    {
     "name": "stdout",
     "output_type": "stream",
     "text": [
      "Output: A62C, Expected: A61G, Current Accuracy: 0.5263157894736842, Token Usage: 0\n",
      "PatentData(text=\"Disclosed are compounds of formula (1)-(V): where the substituents are as provided herein. Further disclosed are methods of inhibiting tau aggregation, treating or ameliorating a tauopathy or cancer by administration of such a compound. Tau is a microtubule-binding protein that accumulates in a number of neurodegenerative disorders, including frontotemporal dementia and Alzheimer's disease (AD). The presence of abnormal tau correlates with neuron loss and memory deficits in patients with AD and other neurodegenerative disorders that involve tau accumulation.\", image=None, label='A61K', model_output=None, messages=None, model_type='claude3haiku', mode=1)\n"
     ]
    },
    {
     "name": "stderr",
     "output_type": "stream",
     "text": [
      "20it [00:07,  2.50it/s]"
     ]
    },
    {
     "name": "stdout",
     "output_type": "stream",
     "text": [
      "Output: A61K, Expected: A61K, Current Accuracy: 0.55, Token Usage: 0\n",
      "PatentData(text='The present invention relates to a method for targeted inactivation of transcription factor using an artificial small interfering peptide and a use thereof. According to the present invention, an artificial small interfering peptide (a-siPEP) as a truncated from of the transcription factor for regulating transcription by dimerization was produced. It was also confirmed that, as a-siPEP forms a heterodimer with a transcription factor, DNA binding and transport into a nucleus of the transcription factor are inhibited, so that inactivation of the transcription factor is achieved at protein level. The method for inhibiting transcription factor activity using a-siPEP can replace a gene knock-out method and it allows protein-level inhibition of a transcription factor. Also, it is a transcription regulation method with high precision and high efficiency that can be applied for both monocot and dicot plants.', image=None, label='C12N', model_output=None, messages=None, model_type='claude3haiku', mode=1)\n"
     ]
    },
    {
     "name": "stderr",
     "output_type": "stream",
     "text": [
      "21it [00:08,  2.61it/s]"
     ]
    },
    {
     "name": "stdout",
     "output_type": "stream",
     "text": [
      "Output: C12N, Expected: C12N, Current Accuracy: 0.5714285714285714, Token Usage: 0\n",
      "PatentData(text='Provided are: a polymer-supported phosphane compound exhibiting excellent catalytic reaction activity; a complex including the compound and a transition metal; and a catalyst including the complex. This polymer compound includes: units of threefold styrene cross-linked phosphane; and styrene units having substituent groups (R) in position 4 (provided that R represents hydrogen, a C1-6 lower alkyl group, a C1-6 lower alkoxy group, or a polar functional group). In the formula in which the polymer compound includes structure (1), PS represents a polystyrene unit chain including the styrene units having the substituent groups (R). The complex includes the polymer and a transition metal. The catalyst for an organic compound coupling reaction includes the complex.', image=None, label='B01J', model_output=None, messages=None, model_type='claude3haiku', mode=1)\n"
     ]
    },
    {
     "name": "stderr",
     "output_type": "stream",
     "text": [
      "22it [00:08,  2.78it/s]"
     ]
    },
    {
     "name": "stdout",
     "output_type": "stream",
     "text": [
      "Output: C07F, Expected: B01J, Current Accuracy: 0.5454545454545454, Token Usage: 0\n",
      "PatentData(text='The inner surface of one side section of a frame (1) has the base-end section of a rotation arm (44) of a rotation-biasing means (4) provided so as to be rotatable. A roller (47) is provided on the tip-end section of the rotation arm (44). The roller (47) is pressed against and contacts the rear surface (2a) of a door (2) as a result of the biasing by the rotation-biasing, means (nut illustrated). The rear surface of the door (2) is equipped with a damper means (5). The damper means (5) has a contact member (52) for pressing against and contacting the roller (47) when the door is in the closed position or in a prescribed intermediate position. The contact member (52) minimizes the speed at which the roller (47) moves forward.', image=None, label='E05F', model_output=None, messages=None, model_type='claude3haiku', mode=1)\n"
     ]
    },
    {
     "name": "stderr",
     "output_type": "stream",
     "text": [
      "23it [00:08,  3.00it/s]"
     ]
    },
    {
     "name": "stdout",
     "output_type": "stream",
     "text": [
      "Output: E05F, Expected: E05F, Current Accuracy: 0.5652173913043478, Token Usage: 0\n",
      "PatentData(text='Disclosed herein is a spindle drive for an adjustable element of a motor vehicle, wherein a drive unit and a spindle/spindle nut mechanism arranged downstream of the drive unit in the drivetrain, for generating linear drive movements are provided, wherein the spindle/spindle nut mechanism has a spindle and a spindle nut meshing with the spindle, wherein the spindle drive has two drive portions which run telescopically inside one another during a motorized adjustment, wherein the spindle is assigned to one drive portion and the spindle nut is assigned to the other drive portion wherein the two drive portions are coupled in a torque-transmitting manner to provide an antitwist safeguard.', image=None, label='F16H', model_output=None, messages=None, model_type='claude3haiku', mode=1)\n"
     ]
    },
    {
     "name": "stderr",
     "output_type": "stream",
     "text": [
      "24it [00:09,  2.34it/s]"
     ]
    },
    {
     "name": "stdout",
     "output_type": "stream",
     "text": [
      "Output: F16H, Expected: F16H, Current Accuracy: 0.5833333333333334, Token Usage: 0\n",
      "PatentData(text='In front view of the application nozzle, all of the pressurized air flow K and adhesive flow H are made to run parallel to each other in the vertical direction. Of the pressurized air flows K from the pressurized air hole b in the pressurized air plate, the two that are located on one side of the adhesive hole opening a and from a pair in the front-to-back direction are tilted so as to approach each other. The extension lines thereof are located on the side of the adhesive bead, which results from the adhesive flow discharged from the adhesive hole opening, and have directions that converge. The respective pressurized air flows on the two side of the adhesive bead are made to flow downward while uniting in the direction of convergence. A web in which the adhesive bead is elongated while being swung in the transverse direction is formed and, near the bottom surface of the application nozzle, a non-interference space Q is formed between the adhesive bead and the fore pressurized air flow. The adhesive bead, resulting from the adhesive flow discharged from the adhesive hole opening, and the pressurized air flows do not interfere with each other and walls R of pressurized air flows are formed below the non-interference space Q and on either side of the adhesive bead.', image=None, label='B05B', model_output=None, messages=None, model_type='claude3haiku', mode=1)\n"
     ]
    },
    {
     "name": "stderr",
     "output_type": "stream",
     "text": [
      "25it [00:09,  2.62it/s]"
     ]
    },
    {
     "name": "stdout",
     "output_type": "stream",
     "text": [
      "Output: B05C, Expected: B05B, Current Accuracy: 0.56, Token Usage: 0\n",
      "PatentData(text='A fast-response horizontal vibration micro motor that includes a housing, a cover plate, a vibration assembly and coils. The cover plate is installed on the housing; the vibration assembly is suspended in the installation space; the coils are located at positions a certain distance above the vibration assembly; the vibration assembly can perform reciprocating vibration in a direction substantially parallel to the bottom surface of the housing, and also enables the two elastic supporting members located on the two opposite sidewalls to be correspondingly stretched and compressed during vibration; the vibration assembly includes a vibration block, and the vibration block is provided with at least three installation through holes and permanent magnets installed in the installation through holes. The arrangement of the three permanent magnets increases the response speed of the motor, and the arrangement of the two serially-connected coils also increases the response speed of the motor.', image=None, label='H02K', model_output=None, messages=None, model_type='claude3haiku', mode=1)\n"
     ]
    },
    {
     "name": "stderr",
     "output_type": "stream",
     "text": [
      "26it [00:09,  2.94it/s]"
     ]
    },
    {
     "name": "stdout",
     "output_type": "stream",
     "text": [
      "Output: H02K, Expected: H02K, Current Accuracy: 0.5769230769230769, Token Usage: 0\n",
      "PatentData(text='The invention relates to a process for manufacturing light-emitting diodes comprising the following steps: a) forming light-emitting diodes (5) on a silicon layer (1) of an SOI wafer (1, 2, 3), said layer resting on a carrier (2, 3); b) bonding, on the light-emitting diode side, a silicon wafer forming a cap (7) equipped with a void facing each light-emitting diode; c) thinning the silicon wafer to form an aperture facing each light-emitting diode; d) filling each aperture with a transparent material (21, 23); and e) at least partially removing the carrier of the SOI wafer (3) and producing connecting and heat-sinking metallisations.', image=None, label='H01L', model_output=None, messages=None, model_type='claude3haiku', mode=1)\n"
     ]
    },
    {
     "name": "stderr",
     "output_type": "stream",
     "text": [
      "27it [00:10,  3.12it/s]"
     ]
    },
    {
     "name": "stdout",
     "output_type": "stream",
     "text": [
      "Output: H01L, Expected: H01L, Current Accuracy: 0.5925925925925926, Token Usage: 0\n",
      "PatentData(text='Provided is a method for producing a lignin degradation product that includes (1) a degradation step of degrading a raw material containing a plant biomass, in a mixed solvent of water and an aliphatic alcohol having from 4 to 10 carbon atoms, which separates into two phases at 0° C. or higher and 50° C. or lower, under the following conditions, and (2) after the degradation step, a liquid-liquid separation step of separating the lignin degradation product-containing organic phase from the solvent that has separated at the temperature for two-phase separation. The method produces a lignin degradation product at a high yield from lignin or a material containing lignin. Condition A: The concentration of the raw material to be in the mixed solvent is 1% by mass or more and 20% by mass or less. Condition B: The reaction temperature is 100° C. or higher and 350° C. or lower. Condition C: The reaction time is 0.1 hours or more and 10 hours or less.', image=None, label='C08H', model_output=None, messages=None, model_type='claude3haiku', mode=1)\n"
     ]
    },
    {
     "name": "stderr",
     "output_type": "stream",
     "text": [
      "28it [00:10,  3.15it/s]"
     ]
    },
    {
     "name": "stdout",
     "output_type": "stream",
     "text": [
      "Output: C08B, Expected: C08H, Current Accuracy: 0.5714285714285714, Token Usage: 0\n",
      "PatentData(text='There is provided a solar shading device for window that can set the window shading area minimum, ventilate a space between a rolling screen and a window, and have inexpensive and simple structure. The solar shading device for window includes a rolling screen installed at an upper portion of a window on the outdoor side of a building. An upper end of the rolling screen being fixed to a winding shaft biased in a winding direction by a biasing means. A lower end of the rolling screen is supported by a support shaft. One ends of a pair of arms are coupled to respective ends of the support shaft so as for the pair of arm to be disposed on planes perpendicular to the axis of the support shaft. The other ends of the pair of arms are fixed to respective sides of the window on the outdoor side via hinges capable of holding the arms at a desired rotational angle.', image=None, label='E04F', model_output=None, messages=None, model_type='claude3haiku', mode=1)\n"
     ]
    },
    {
     "name": "stderr",
     "output_type": "stream",
     "text": [
      "29it [00:10,  3.30it/s]"
     ]
    },
    {
     "name": "stdout",
     "output_type": "stream",
     "text": [
      "Output: E06B, Expected: E04F, Current Accuracy: 0.5517241379310345, Token Usage: 0\n",
      "PatentData(text='The present invention relates to metal complexes in accordance with formula (1), to use thereof in electronic devices and to electronic devices, particularly organic electroluminescent devices, containing said metal complexes.', image=None, label='H01L', model_output=None, messages=None, model_type='claude3haiku', mode=1)\n"
     ]
    },
    {
     "name": "stderr",
     "output_type": "stream",
     "text": [
      "30it [00:10,  3.49it/s]"
     ]
    },
    {
     "name": "stdout",
     "output_type": "stream",
     "text": [
      "Output: A61K, Expected: H01L, Current Accuracy: 0.5333333333333333, Token Usage: 0\n",
      "PatentData(text='A 3D printer spray nozzle includes a feeding pipeline, an extruder located under the feeding pipeline, an external housing and a driving device; wherein the feeding pipeline is embedded in the external housing, the extruder is coaxially fixed under the feeding pipeline, a center of gravity of a cross section area of an inner channel of the feeding pipeline and that of the extruder are located on a same axis which is perpendicular to the cross section area of the inner channel of the feeding pipeline and that of the extruder, the feeding pipeline is driven by the driving device to rotate around the axis relative to the extruder, thereby aiming at different rotation angles, widths of extruding forming areas of the extruder at a same direction are different so as to adjust a cross section area of a sprayed filament.', image=None, label='B29C', model_output=None, messages=None, model_type='claude3haiku', mode=1)\n"
     ]
    },
    {
     "name": "stderr",
     "output_type": "stream",
     "text": [
      "31it [00:11,  3.70it/s]"
     ]
    },
    {
     "name": "stdout",
     "output_type": "stream",
     "text": [
      "Output: B29C, Expected: B29C, Current Accuracy: 0.5483870967741935, Token Usage: 0\n",
      "PatentData(text='There is provided a polymerizable compound-containing liquid crystal composition having strong alignment regulating force of a liquid crystal compound. The polymerizable compound-containing liquid crystal composition includes: a polymerizable compound; and a liquid crystal compound, in which the polymerizable compound includes at least one polymerizable compound represented by General Formula (I), and in which the liquid crystal compound includes at least one component selected from the group consisting of at least one compound represented by General Formula (II) as a second component, at least one compound represented by General Formulae (IIIa), (IIIb), and (IIIc) as a third component, and at least one compound represented by General Formulae (IVa), (IVb), and (IVc) as a fourth component.', image=None, label='C09K', model_output=None, messages=None, model_type='claude3haiku', mode=1)\n"
     ]
    },
    {
     "name": "stderr",
     "output_type": "stream",
     "text": [
      "32it [00:11,  3.46it/s]"
     ]
    },
    {
     "name": "stdout",
     "output_type": "stream",
     "text": [
      "Output: C09K19/00, Expected: C09K, Current Accuracy: 0.5625, Token Usage: 0\n",
      "PatentData(text='The polymerizable composition and the liquid crystal composition containing the polymerizable compound of the present invention have favorable storage stability as evaluated on the basis of the occurrence of precipitation, separation, or the like of crystals during storage. The present invention relates to a polymerizable compound, a liquid crystal composition which contains the compound, and further a liquid crystal display element which contains an optically anisotropic material which is a cured product of the liquid crystal composition, or a cured product which controls alignment of liquid crystal molecules. That is, the present invention relates to a polymerizable compound, and a liquid crystal composition containing the polymerizable compound which contains the polymerizable compound and a liquid crystal compound. The polymerizable compound is a compound represented by General Formula (I), and is useful for an optically anisotropic material, a retardation layer, an alignment film, or a polarizing layer.', image=None, label='C09K', model_output=None, messages=None, model_type='claude3haiku', mode=1)\n"
     ]
    },
    {
     "name": "stderr",
     "output_type": "stream",
     "text": [
      "33it [00:11,  3.35it/s]"
     ]
    },
    {
     "name": "stdout",
     "output_type": "stream",
     "text": [
      "Output: C09K, Expected: C09K, Current Accuracy: 0.5757575757575758, Token Usage: 0\n",
      "PatentData(text='The present invention relates to a method for preparing a protein cage which comprises: a 1st step of preparing an amphiphilic polymer comprising a 1st hydrophobic polymer and a 1st hydrophilic functional group; a 2nd step of preparing a hydrophilic protein comprising a 2nd functional group binding to the 1st functional group; a 3rd step of forming an amphiphilic polymer-protein hybrid by the binding of the 1st functional group and the 2nd functional group, and forming core-shell structured particles comprising a protein shell and an amphiphilic polymer core by the self-assembly of the amphiphilic polymer in a hydrophilic solvent; and a fourth step of removing some or all of the hydrophobic polymer of the core part from the core-shell structured particles.', image=None, label='A61K', model_output=None, messages=None, model_type='claude3haiku', mode=1)\n"
     ]
    },
    {
     "name": "stderr",
     "output_type": "stream",
     "text": [
      "34it [00:12,  2.74it/s]"
     ]
    },
    {
     "name": "stdout",
     "output_type": "stream",
     "text": [
      "Output: A61K, Expected: A61K, Current Accuracy: 0.5882352941176471, Token Usage: 0\n",
      "PatentData(text='Disclosed is a lithagogue equipment in vitro, comprising a vibrating bed (10) and a control device (20) located externally, wherein said vibrating bed (10) includes a primary oscillator (111) located above a bed body (102) and connected therewith via an adjustable mechanical arm (108) and a sub oscillator (107) protruding from an upper surface of the bed body (120), wherein said control device (20) is used for controlling the vibration of the primary oscillator (111) and the sub oscillator (107) and the movement of the bed body (102). Said control device (20) and said vibrating bed (10) are separated from each other, and a display (201) is arranged on the control device (20). Accordingly, medical personnel are able to timely adjust the vibrating bed (10), the primary oscillator (111) and the sub vibrator (107) based on the calculus condition displayed via the display (201), greatly improving the operational efficiency.', image=None, label='A61B', model_output=None, messages=None, model_type='claude3haiku', mode=1)\n"
     ]
    },
    {
     "name": "stderr",
     "output_type": "stream",
     "text": [
      "35it [00:12,  2.71it/s]"
     ]
    },
    {
     "name": "stdout",
     "output_type": "stream",
     "text": [
      "Output: A61H, Expected: A61B, Current Accuracy: 0.5714285714285714, Token Usage: 0\n",
      "PatentData(text='A plant for manufacturing long-fiber legume hay and grass hay-based feed pellets for zootechnical use includes a loading station loading predetermined amounts of the hays, a processing station processing the hays to reduce fiber length to a predetermined average value, a mixing station mixing the reduced hays with predetermined amounts of binders and nutritional additives to obtain a dough, a forming station forming the dough which has a collection chamber, a forming die communicating with the collection chamber, and an extrusion passage, a pushing element, held within the collection chamber and feeding the dough toward said passage, an extruder downstream of the pushing element and moving in the collection chamber to cyclically push predetermined amounts of dough into the passage and form a stratified bead of dough, and a breaking system for breaking the bead forming stratified feed pellets. A method of manufacturing long-fiber feed pellets for zootechnical use.', image=None, label='A23K', model_output=None, messages=None, model_type='claude3haiku', mode=1)\n"
     ]
    },
    {
     "name": "stderr",
     "output_type": "stream",
     "text": [
      "36it [00:13,  2.79it/s]"
     ]
    },
    {
     "name": "stdout",
     "output_type": "stream",
     "text": [
      "Output: A01F25/00, Expected: A23K, Current Accuracy: 0.5555555555555556, Token Usage: 0\n",
      "PatentData(text='A privacy masking method is provided. The privacy masking method is configured to accurately position a mask area on a privacy area in a captured image despite any kind of camera movement. Therefore, even if a camera makes any one or more of pan, tilt, and zoom movements, the present invention can accurately match a mask area with a privacy area.', image=None, label='H04N', model_output=None, messages=None, model_type='claude3haiku', mode=1)\n"
     ]
    },
    {
     "name": "stderr",
     "output_type": "stream",
     "text": [
      "37it [00:13,  2.46it/s]"
     ]
    },
    {
     "name": "stdout",
     "output_type": "stream",
     "text": [
      "Output: G06T7/00, Expected: H04N, Current Accuracy: 0.5405405405405406, Token Usage: 0\n",
      "PatentData(text='An object of the present invention is to provide a liquid crystal composition which has a positive Δ∈, a liquid crystal phase in a wide temperature range, an good solubility at a low temperature, excellent ODE process compatibility, high specific resistance, and a high voltage holding ratio, and is stable with respect to heat and light, and in order to achieve the object, a liquid crystal composition containing compounds represented by the following Formulas (i) and (ii) is provided. (In the formula, Ri1 represents an alkyl group having 2 to 5 carbon atoms, Rii1 represents an alkenyl group having 2 to 5 carbon atoms, and Rii2 represents an alkyl group having 1 to 5 carbon atoms or an alkoxy group having 1 to 4 carbon atoms.)', image=None, label='C09K', model_output=None, messages=None, model_type='claude3haiku', mode=1)\n"
     ]
    },
    {
     "name": "stderr",
     "output_type": "stream",
     "text": [
      "38it [00:13,  2.74it/s]"
     ]
    },
    {
     "name": "stdout",
     "output_type": "stream",
     "text": [
      "Output: C09K19, Expected: C09K, Current Accuracy: 0.5526315789473685, Token Usage: 0\n",
      "PatentData(text='A battery system having a secondary battery and a battery-side control device, and a discharger configured to discharge the secondary battery to output direct-current power and convert power from an alternating-current power supply into direct current to charge the secondary battery; the charger/discharger having a charge/discharge-side control device that controls charge and discharge; and when the charge/discharge-side control device establishes communicable connection with the battery-side control device, and receives specific information for specifying a charge/discharge control program, which is a program for controlling the charge and discharge transmitted from the battery system, the charge/discharge-side control device establishes communicable connection with the external server device, acquires charge/discharge control program specified by the specific information, and performs control according to the charge/discharge control program.', image=None, label='H02J', model_output=None, messages=None, model_type='claude3haiku', mode=1)\n"
     ]
    },
    {
     "name": "stderr",
     "output_type": "stream",
     "text": [
      "39it [00:14,  2.54it/s]"
     ]
    },
    {
     "name": "stdout",
     "output_type": "stream",
     "text": [
      "Output: H02J7/00, Expected: H02J, Current Accuracy: 0.5641025641025641, Token Usage: 0\n",
      "PatentData(text='Provided are: a rubber composition (a silica master batch) that contains silica in a highly dispersed state, which is prepared by mixing a suspension with an emulsion of an emulsion-polymerized conjugated diene polymer and then coagulating the resultant mixture, wherein the suspension is prepared by highly dispersing wet silica, which does not undergo secondary coagulation yet, or silica, which is prepared by mechanically dissociating secondary coagulation masses of silica, in water and the emulsion-polymerized conjugated diene polymer contains a functional group that is reactive with silica or has high affinity for silica; and a method for producing the rubber composition. A clam (a small mass of a rubber) which contains silica in a highly dispersed state is hardly dried. Therefore, the clam is dried in an apparatus which is composed of a drying apparatus composed of a dehydrator and a hot-air drier and a heating roll for drying purposes provided to the drying apparatus, whereby a rubber composition in which silica is highly dispersed and which has high reinforcing performance can be produced. As a method for mixing the emulsion of the emulsion-polymerized conjugated diene copolymer with the silica suspension, a mere agitating/mixing procedure can be employed, and a process of mixing the components homogenously while applying a stimulus such as heat or pressure to the mixture of the components using a steam ejector to cause the coagulation of the components can also be employed desirably.', image=None, label='C08K', model_output=None, messages=None, model_type='claude3haiku', mode=1)\n"
     ]
    },
    {
     "name": "stderr",
     "output_type": "stream",
     "text": [
      "40it [00:14,  2.78it/s]"
     ]
    },
    {
     "name": "stdout",
     "output_type": "stream",
     "text": [
      "Output: C08K, Expected: C08K, Current Accuracy: 0.575, Token Usage: 0\n",
      "PatentData(text='The object of the present invention is to provide an electrode member with the hydrogel substrate, capable of producing a high-voltage pulse. Further, the other object of the present invention is to provide an electrode member which is not broken due to a deformation of the hydrogel. The object can be solved by a porous substrate electrode member characterized in that an electrode is bound to a porous body by an adhesion layer of an electrically conducting polymer, and the electrode is at least one selected from a group consisting of a metallic electrode, a stretch electrode, a carbon electrode, and a composite electrode thereof.', image=None, label='H01B', model_output=None, messages=None, model_type='claude3haiku', mode=1)\n"
     ]
    },
    {
     "name": "stderr",
     "output_type": "stream",
     "text": [
      "41it [00:15,  2.21it/s]"
     ]
    },
    {
     "name": "stdout",
     "output_type": "stream",
     "text": [
      "Output: A61B5/04, Expected: H01B, Current Accuracy: 0.5609756097560976, Token Usage: 0\n",
      "PatentData(text='Disclosed is a main synchronization sequence design method for global covering multi-beam satellite LTE, comprising the follow steps: extending a standard Zadoff-Chu sequence to a generalized Zadoff-Chu sequence so as to obtain an initial candidate main synchronization sequence set of more candidate sequences; gradually narrowing down the candidate main synchronization sequence set according to a selection standard of a main synchronization sequence to obtain a final candidate main synchronization sequence set; and obtaining a main synchronization sequence set with optimal eclectic performance and complexity from the final candidate main synchronization sequence set. According to the present invention, a main synchronization sequence with optimal eclectic performance and calculation complexity can be designed for a global covering same-frequency networking multi-beam satellite LTE system.', image=None, label='H04W', model_output=None, messages=None, model_type='claude3haiku', mode=1)\n"
     ]
    },
    {
     "name": "stderr",
     "output_type": "stream",
     "text": [
      "42it [00:15,  2.49it/s]"
     ]
    },
    {
     "name": "stdout",
     "output_type": "stream",
     "text": [
      "Output: H04B, Expected: H04W, Current Accuracy: 0.5476190476190477, Token Usage: 0\n",
      "PatentData(text='A new multiparameter device for measuring by optical means, the level of filling of tanks and reservoirs for liquids and liquefied products, index of refraction and image analysis, without moving parts, which is more specifically intended, but without restrictions of application, for the measuring the level of a liquid in a reservoir, besides being able to make possible the distinction and detection of the type of liquid included in this reservoir, by measuring the index of refraction and image analysis of these liquids, performing this task in a simple, practical and efficient manner through a specific configuration utilizing optical and electronic means, without use of moving parts, what allows that the same may be used for numerous applications between them, for the fuel quality control, the fuel identification, the measuring of the index of refraction, flow measurement, color measurement, temperature measurement and pressure measurement, inter alia, and more specifically for application in the automotive and associated industries.', image=None, label='G01F', model_output=None, messages=None, model_type='claude3haiku', mode=1)\n"
     ]
    },
    {
     "name": "stderr",
     "output_type": "stream",
     "text": [
      "43it [00:15,  2.67it/s]"
     ]
    },
    {
     "name": "stdout",
     "output_type": "stream",
     "text": [
      "Output: G01F, Expected: G01F, Current Accuracy: 0.5581395348837209, Token Usage: 0\n",
      "PatentData(text='The present invention refers to a stationary swimming pool (1) which comprises a structural system having a modular design, with a tank (3), a stationary swimming device connected to the structural system and to an in-place swimmer in the tank (3), a strain measurement device (6) associated with the stationary swimming device and mounted on the structural system, a training monitoring system which receives and processes the information from the strain measurement device, and an internal display system (8) capable of displaying both information received from the monitoring system and information for entertaining the swimmer. The present invention further refers to a station for practicing stationary swimming, comprising one or more pools as previously defined.', image=None, label='A63B', model_output=None, messages=None, model_type='claude3haiku', mode=1)\n"
     ]
    },
    {
     "name": "stderr",
     "output_type": "stream",
     "text": [
      "44it [00:16,  2.88it/s]"
     ]
    },
    {
     "name": "stdout",
     "output_type": "stream",
     "text": [
      "Output: A63B21/008, Expected: A63B, Current Accuracy: 0.5681818181818182, Token Usage: 0\n",
      "PatentData(text='Provided is a material that, when compared with SAPd, exhibits the similar activity in cross-coupling (CC) reactions, can decrease the amount of catalytic metal that is mixed into the reaction product, and increases the number of times use can be repeated. Provided are a catalyst and a catalyst precursor that use a catalytic metal other than Pd and that exhibit the CC reaction activity similar to when Pd is used. Provided are a catalyst and a catalyst precursor that exhibit the similar CC reaction activity when using Pd or a catalytic metal other than Pd, without using a carrier such as metal and without using piranha solution. A composite wherein catalytic metal nanoparticles are dispersed in a continuous phase comprising a polymer having C2-6 alkylene group units and phenylene group units (an alkylene group unit being bonded to at least the first and fourth position of the phenylene group unit). The particle diameter of the catalytic metal nanoparticles is at most 20 nm. A composite structure including a substrate, and the aforementioned composite provided to the surface of the substrate. A method for manufacturing the composite structure by dehydrocondensating, in the presence of a catalytic metal compound, a benzene compound having at least two alkyl groups (two of the alkyl groups being at the first and fourth position) in order to form the composite on the substrate surface.', image=None, label='C07D', model_output=None, messages=None, model_type='claude3haiku', mode=1)\n"
     ]
    },
    {
     "name": "stderr",
     "output_type": "stream",
     "text": [
      "45it [00:16,  3.07it/s]"
     ]
    },
    {
     "name": "stdout",
     "output_type": "stream",
     "text": [
      "Output: C08F, Expected: C07D, Current Accuracy: 0.5555555555555556, Token Usage: 0\n",
      "PatentData(text='A curable epoxy composition comprising an epoxy compound (A), active ester compound (B), and triazine structure-containing phenol resin (C), wherein the epoxy compound (A) includes a polyvalent epoxy compound (A-1) which has an alicyclic condensed polyvalent structure in a ratio of content of 30 wt % or more is provided.', image=None, label='C08L', model_output=None, messages=None, model_type='claude3haiku', mode=1)\n"
     ]
    },
    {
     "name": "stderr",
     "output_type": "stream",
     "text": [
      "46it [00:16,  2.92it/s]"
     ]
    },
    {
     "name": "stdout",
     "output_type": "stream",
     "text": [
      "Output: C08L63/00, Expected: C08L, Current Accuracy: 0.5652173913043478, Token Usage: 0\n",
      "PatentData(text='The invention relates to a fitting (1) for a glass element (5) having at least one drivable liquid crystal film (6). The fitting (1) has at least one interface (8) for at least one control device (12) for driving the liquid crystals (6, 7).', image=None, label='G02F', model_output=None, messages=None, model_type='claude3haiku', mode=1)\n"
     ]
    },
    {
     "name": "stderr",
     "output_type": "stream",
     "text": [
      "47it [00:17,  2.81it/s]"
     ]
    },
    {
     "name": "stdout",
     "output_type": "stream",
     "text": [
      "Output: G02F1/13, Expected: G02F, Current Accuracy: 0.574468085106383, Token Usage: 0\n",
      "PatentData(text='An inclination detection unit detects an inclination of the terminal device. A screen image rotation unit rotates a screen image when an inclination state of the terminal device detected by the inclination detection unit becomes a predetermined state. A captured image obtaining unit obtains a captured image of an image capturing unit for capturing an image of a user seeing the screen image. A comparison unit compares a captured image of the image capturing unit before the inclination state of the terminal device becomes the predetermined state with a captured image of the image capturing unit when or after the inclination state of the terminal device becomes the predetermined state. A suppression unit suppresses a rotation of the screen image by the screen image rotation unit, based on a result of comparison by the comparison unit.', image=None, label='G09G', model_output=None, messages=None, model_type='claude3haiku', mode=1)\n"
     ]
    },
    {
     "name": "stderr",
     "output_type": "stream",
     "text": [
      "48it [00:17,  2.68it/s]"
     ]
    },
    {
     "name": "stdout",
     "output_type": "stream",
     "text": [
      "Output: G06F, Expected: G09G, Current Accuracy: 0.5625, Token Usage: 0\n",
      "PatentData(text='This system (18) comprises a holding and separating tank (36), an inlet (38) for moving untreated waste water into the holding tank (36), and a bubble generator (32), able to introduce a quantity of bubbles into the waste water of the holding tank (36), in order to form, in a lower region (50) of the holding tank (36), a treated water and, in an upper region (52) of the holding tank (36), a supernatant. The system (18) comprises a lower outlet (40) for recovering a treated water from the holding tank (36) and an upper outlet (42) for discharging a foamy supernatant from the holding tank (36). The system (18) is devoid of means for injecting a compound for flocculating and/or coagulating the waste water, at least upstream from the holding tank (36).', image=None, label='C02F', model_output=None, messages=None, model_type='claude3haiku', mode=1)\n"
     ]
    },
    {
     "name": "stderr",
     "output_type": "stream",
     "text": [
      "49it [00:17,  2.93it/s]"
     ]
    },
    {
     "name": "stdout",
     "output_type": "stream",
     "text": [
      "Output: C02F, Expected: C02F, Current Accuracy: 0.5714285714285714, Token Usage: 0\n",
      "PatentData(text='The present invention addresses the problem of providing an orthodontic retainer with which there are no aesthetic concerns and smooth pronunciation during conversation is possible, and which is able to secure favorable fitting and can be worn for long periods. The retainer is configured so that, by being fitted so as to surround the entire dental arch (T) of the maxilla (A) or the mandible and by the inner surface being fitted, on the front and back surfaces of the entire dental arch (T), with a specified vertical width (H) that encompasses the cervical sections (T1, T2) of said teeth, a retaining force is applied on a portion of the crown (T3) of each tooth from the front and back surfaces.', image=None, label='A61C', model_output=None, messages=None, model_type='claude3haiku', mode=1)\n"
     ]
    },
    {
     "name": "stderr",
     "output_type": "stream",
     "text": [
      "50it [00:18,  2.94it/s]"
     ]
    },
    {
     "name": "stdout",
     "output_type": "stream",
     "text": [
      "Output: A61C7/08, Expected: A61C, Current Accuracy: 0.58, Token Usage: 0\n",
      "PatentData(text='A fast magnetic resonance imaging method and system, the method comprising: applying a periodic radio-frequency pulse train to drive the magnetization vector of an imaging volume into a steady state (102); acquiring a free induction decay (FID) signal and an echo signal alternately in a steady-state free precession sequence (104); conducting an FID signal imaging and a T2-weighted imaging (106). Alternate acquisition of the FID signal and the echo signal in the steady-state free precession sequence effectively increases the signal-to-noise ratio (SNR) of the acquired signals and reduces the sensitivity of the sequence to motions.', image=None, label='G01R', model_output=None, messages=None, model_type='claude3haiku', mode=1)\n"
     ]
    },
    {
     "name": "stderr",
     "output_type": "stream",
     "text": [
      "51it [00:18,  3.06it/s]"
     ]
    },
    {
     "name": "stdout",
     "output_type": "stream",
     "text": [
      "Output: A61B5/055, Expected: G01R, Current Accuracy: 0.5686274509803921, Token Usage: 0\n",
      "PatentData(text='Disclosed are methods for receiving device discovery information and sending device discovery information, and UE. The method for receiving the device discovery information includes that: first UE receives device discovery information sent by second UE, wherein the device discovery information contains at least one piece of the following information: UE identification information and attribute information of the UE; and the first UE performs D2D discovery and/or D2D communication under the condition that the device discovery information is consistent with a preset condition. By the disclosure, the technical problem of difficulty in meeting a requirement on D2D communication diversity caused by containing of only an ID in the device discovery information in the related technology is effectively solved, and the technical effect of improving D2D communication effectiveness and flexibility is achieved.', image=None, label='H04W', model_output=None, messages=None, model_type='claude3haiku', mode=1)\n"
     ]
    },
    {
     "name": "stderr",
     "output_type": "stream",
     "text": [
      "52it [00:18,  3.14it/s]"
     ]
    },
    {
     "name": "stdout",
     "output_type": "stream",
     "text": [
      "Output: H04W4/80, Expected: H04W, Current Accuracy: 0.5769230769230769, Token Usage: 0\n",
      "PatentData(text='The reverberation chamber comprises a shielded enclosure (10) made up of a floor (11), side walls (13 to 16), and a ceiling (12), together with an antenna (2) for emitting radiofrequency waves in order to generate radiation inside the enclosure (10) at a lowest usable frequency. The chamber also comprises, inside the enclosure (10), a set (5, 6) of passive and selective elements for absorbing radiofrequencies in a defined frequency band.', image=None, label='G01R', model_output=None, messages=None, model_type='claude3haiku', mode=1)\n"
     ]
    },
    {
     "name": "stderr",
     "output_type": "stream",
     "text": [
      "53it [00:19,  3.20it/s]"
     ]
    },
    {
     "name": "stdout",
     "output_type": "stream",
     "text": [
      "Output: H04B, Expected: G01R, Current Accuracy: 0.5660377358490566, Token Usage: 0\n",
      "PatentData(text='A microscope includes: a sample placement part having a placement surface on which to place a sample and a bottom face opposite to the placement surface; an observation lens; and an optical unit for generating sheet light and use of the microscope. The microscope of an embodiment is arranged such that the sheet light enters the sample placement part from the bottom face and passing through the sample placement part to irradiate the sample, and fluorescence from the sample passes through the sample placement part toward the bottom face to be received by the observation lens. The microscope can, with this arrangement, utilize the advantages of a SPIM, and allows observation of a sample which observation is free from a restriction of the size of a sample.', image=None, label='G02B', model_output=None, messages=None, model_type='claude3haiku', mode=1)\n"
     ]
    },
    {
     "name": "stderr",
     "output_type": "stream",
     "text": [
      "54it [00:19,  3.44it/s]"
     ]
    },
    {
     "name": "stdout",
     "output_type": "stream",
     "text": [
      "Output: H01L, Expected: G02B, Current Accuracy: 0.5555555555555556, Token Usage: 0\n",
      "PatentData(text='There is provided an eddy current flaw detection technique capable of, even when inspecting an object having a narrow portion with a small curvature radius, recognizing detection sensitivity change due to change of attitude of a probe. An eddy current flaw detection apparatus 10 includes: an AC power source 14 which generates an excitation magnetic field in each of excitation coils 12a accommodated in a probe 11 to excite an eddy current in an inspection object 13; a detecting section 15 which detects a detection signal generated by an induction magnetic field induced by the eddy current in each of detection coils 12 accommodated in the probe 11; an output section 16 which outputs flaw detection data based on the detection signals; a storage section 17 which mutually associates and stores the detection signals detected at the same timing from the plurality of coils 12b; and an evaluating section 18 which evaluates an attitude of the probe 11 based on the plurality of detection signals detected at the same timing and associated with each other.', image=None, label='G01N', model_output=None, messages=None, model_type='claude3haiku', mode=1)\n"
     ]
    },
    {
     "name": "stderr",
     "output_type": "stream",
     "text": [
      "55it [00:19,  3.32it/s]"
     ]
    },
    {
     "name": "stdout",
     "output_type": "stream",
     "text": [
      "Output: G01N27/90, Expected: G01N, Current Accuracy: 0.5636363636363636, Token Usage: 0\n",
      "PatentData(text='A near-infrared cut filter of which a transmittance satisfies the conditions (A) and (B), and a solid-state image pickup device including the filter are provided.', image=None, label='G02B', model_output=None, messages=None, model_type='claude3haiku', mode=1)\n"
     ]
    },
    {
     "name": "stderr",
     "output_type": "stream",
     "text": [
      "56it [00:20,  2.79it/s]"
     ]
    },
    {
     "name": "stdout",
     "output_type": "stream",
     "text": [
      "Output: A01G, Expected: G02B, Current Accuracy: 0.5535714285714286, Token Usage: 0\n",
      "PatentData(text='The present invention relates to a method for separation of a polymer from a polymer solution or dispersion, wherein (i) a solution or dispersion of a polymer in an organic solvent is atomized by being brought into contact with water vapour in an atomizer container; (ii) the mixture obtained in the atomizer container is routed into a polymer degasification container and flows through same, wherein the organic solvent present in the polymer particles is driven at least partially out of the polymer particles due to the thermal contact between the polymer particles and the water vapour and transitions into the gas phase (iii) the mixture exiting from the polymer degasification container is routed into a phase separator (1) and the organic solvent present in the gas phase is separated from the polymer particles and the condensed water vapour; and (iv) the polymer particles and the condensed water vapour are routed into a phase separator (2) in order to separate the polymer particles from the condensed water vapour.', image=None, label='C08F', model_output=None, messages=None, model_type='claude3haiku', mode=1)\n"
     ]
    },
    {
     "name": "stderr",
     "output_type": "stream",
     "text": [
      "57it [00:20,  2.96it/s]"
     ]
    },
    {
     "name": "stdout",
     "output_type": "stream",
     "text": [
      "Output: B01D, Expected: C08F, Current Accuracy: 0.543859649122807, Token Usage: 0\n",
      "PatentData(text='The present invention relates to an extrusion-type connecting rod which is installed between a piston and a crank and can convert the reciprocating motion of the piston into the rotary motion of a crank shaft, an extrusion apparatus for a connecting rod, and a manufacturing method for the extrusion-type connecting rod. The extrusion-type connecting rod may comprise: a first big end having a portion of a crank shaft hole formed on one side and having a seam-line divided surface, which comprises a seam line formed at the time of extrusion, formed on the other side; a second big end, being extrusion-molded simultaneously with the first big end, having the other portion of the crank shaft hole formed on one side, and having a seam-line divided surface, which comprises a seam line formed at the time of extrusion, formed so as to contact the seam-line divided surface of the first big end; a connection part which is extrusion-molded integrally with the second big end; and a small end which is extrusion-molded integrally with the connection part.', image=None, label='F16C', model_output=None, messages=None, model_type='claude3haiku', mode=1)\n"
     ]
    },
    {
     "name": "stderr",
     "output_type": "stream",
     "text": [
      "58it [00:20,  3.13it/s]"
     ]
    },
    {
     "name": "stdout",
     "output_type": "stream",
     "text": [
      "Output: F16C, Expected: F16C, Current Accuracy: 0.5517241379310345, Token Usage: 0\n",
      "PatentData(text='Provided are an adhesive composition for a touch panel, including: a hydrophilic functional group-containing monomer, wherein a dielectric constant at a frequency of 100 kHz to 2 MHz is 3.5 or less, and an adhesive film having an adhesive layer including a cured product of the adhesive composition for a touch panel. In addition, provided is a touch panel including: a conductive plastic film having a conductive layer formed on one surface; and an adhesive layer attached onto the conductive layer and including a cured product of the adhesive composition for a touch panel.', image=None, label='C09J', model_output=None, messages=None, model_type='claude3haiku', mode=1)\n"
     ]
    },
    {
     "name": "stderr",
     "output_type": "stream",
     "text": [
      "59it [00:21,  2.58it/s]"
     ]
    },
    {
     "name": "stdout",
     "output_type": "stream",
     "text": [
      "Output: C09J, Expected: C09J, Current Accuracy: 0.559322033898305, Token Usage: 0\n",
      "PatentData(text='The invention regards to a device for comminuting ore and/or slag, which comprises an ore feed unit for feeding ore to be comminuted to a first comminuting means, the first comminuting means being composed of at least two comminuting elements that can be moved relative to each other, which elements form at least one comminuting space for the ore to be comminuted with each other such that, by a relative movement in the form of a rotation around the rotational axis of at least one of the two comminuting elements, the ore to be comminuted is pulverised in that one or more accelerating elements, in particular protrusions, are provided on at least one of the comminuting elements, said accelerating elements being arranged in particular on the end face of one of the two comminuting elements and accelerating and comminuting the ore to be comminuted by the rotation of one of the two comminuting elements, and wherein at least one of the two comminuting elements comprises a functional connection with a spring means, wherein the spring means is formed in such a way, that it mounts the comminuting element being in functional connection with variably in the direction of the other comminuting element.', image=None, label='B02C', model_output=None, messages=None, model_type='claude3haiku', mode=1)\n"
     ]
    },
    {
     "name": "stderr",
     "output_type": "stream",
     "text": [
      "60it [00:21,  2.96it/s]"
     ]
    },
    {
     "name": "stdout",
     "output_type": "stream",
     "text": [
      "Output: B02C, Expected: B02C, Current Accuracy: 0.5666666666666667, Token Usage: 0\n",
      "PatentData(text='The invention regards to a device for comminuting ore and/or slag, which comprises an ore feed unit for feeding ore to be comminuted to a first comminuting means. The first comminuting means being composed of at least two comminuting elements that can be moved relative to each other, which elements form at least one comminuting space for the ore to be comminuted with each other such that, by a relative movement in the form of a rotation around the rotational axis of at least one of the two comminuting elements. The ore to be comminuted is pulverised in that one or more accelerating elements, in particular protrusions, are provided on at least one of the comminuting elements. The accelerating elements being arranged in particular on the end face of one of the two comminuting elements and accelerating and comminuting the ore to be comminuted by the rotation of one of the two comminuting elements. Between the two comminuting elements and/or in at least one of the two comminuting elements, an intermediate space is provided through which during the rotation the pulverised ore can be conveyed away outwards from the centre of the rotation and from the two comminuting elements. An outlet unit for outletting ore comminuted by the first comminuting means is provided which is connected to the intermediate space. The outlet unit is connected with a separating means, by means of which the comminuted ore is separated into two portions. A first portion of the comminuted ore comprises a particle size, which is essentially larger as a predefined particle size of a second portion of comminuted ore. The first portion of the comminuted ore is guided to the first comminuting means or to a second comminuting means and the second portion of the comminuted ore is guided to a flotation means.', image=None, label='B02C', model_output=None, messages=None, model_type='claude3haiku', mode=1)\n"
     ]
    },
    {
     "name": "stderr",
     "output_type": "stream",
     "text": [
      "61it [00:21,  2.77it/s]"
     ]
    },
    {
     "name": "stdout",
     "output_type": "stream",
     "text": [
      "Output: B02C, Expected: B02C, Current Accuracy: 0.5737704918032787, Token Usage: 0\n",
      "PatentData(text='The purpose of the invention is to ensure proper action of a latch member. A brake cylinder device (2) having a parking spring brake mechanism (25), provided with a clutch mechanism (27) configured so as to transmit or block urging force of a piston (35) to or from a brake force transmitting unit (14); a latch member (49) for restricting displacement of the brake force transmitting unit (14) relative to the piston (35) by engaging with the clutch mechanism (27), and allowing displacement of the brake force transmitting unit (14) relative to the piston (35) by disengaging from the clutch mechanism (27); a latch lock member (51) for engaging at an inclined part with a protruding part of the latch member (49); and a rotation-preventing part (5) for preventing the latch lock member (51) from rotating.', image=None, label='B60T', model_output=None, messages=None, model_type='claude3haiku', mode=1)\n"
     ]
    },
    {
     "name": "stderr",
     "output_type": "stream",
     "text": [
      "62it [00:22,  2.49it/s]"
     ]
    },
    {
     "name": "stdout",
     "output_type": "stream",
     "text": [
      "Output: B60T, Expected: B60T, Current Accuracy: 0.5806451612903226, Token Usage: 0\n",
      "PatentData(text='A closure is shown and described, preferably for an orthosis, which has a belt assembly, having a first closure part (1) and a second closure part (21), which can be releasably connected to one another, wherein the first and the second closure parts (1, 21) have connecting means for belts of the belt assembly, wherein the first closure part (1) has a pin (3), wherein the second closure part (21) has a connection end (23) and a coupling end (25), and between the connection end (23) and the coupling end (25) a guide track (37) extending in a closure plane is provided, which extends from an entrance opening (41) to a guide track end (43), wherein the pin (3) has a first section (7) and a second section (9), wherein the dimensions of the first section (7) perpendicular to the direction of extension of the pin (3) correspond to the dimensions of the guide track (37) in the closure plane at the guide track end (43), and wherein the dimensions of the second section (9) perpendicular to the direction of extension of the pin (3) are greater than the dimensions of the guide track (37) at the guide track end (43), so that the second section (9) restricts a movement of the pin (3) relative to the second closure part (21) perpendicular to the closure plane.', image=None, label='A44B', model_output=None, messages=None, model_type='claude3haiku', mode=1)\n"
     ]
    },
    {
     "name": "stderr",
     "output_type": "stream",
     "text": [
      "63it [00:22,  2.63it/s]"
     ]
    },
    {
     "name": "stdout",
     "output_type": "stream",
     "text": [
      "Output: A44B, Expected: A44B, Current Accuracy: 0.5873015873015873, Token Usage: 0\n",
      "PatentData(text='Provided is a novel use of a plasminogen activator inhibitor-1 inhibitor (PAI-1 inhibitor) that is used as an active ingredient of an agent for controlling a tumor stem cell, an agent for enhancing the antitumor effect of an antitumor agent, an agent for tumor chemotherapy, a stem-cell protecting drug, or a hematopoietic disorder improving agent.', image=None, label='A61K', model_output=None, messages=None, model_type='claude3haiku', mode=1)\n"
     ]
    },
    {
     "name": "stderr",
     "output_type": "stream",
     "text": [
      "64it [00:23,  2.70it/s]"
     ]
    },
    {
     "name": "stdout",
     "output_type": "stream",
     "text": [
      "Output: A61K, Expected: A61K, Current Accuracy: 0.59375, Token Usage: 0\n",
      "PatentData(text='[Object] Provided are a press-molded product in which the plank pieces can be appropriately matched with each other and the weight of the product is not increased even when the plank pieces can be appropriately matched with each other, and a method of manufacturing the same. [Solving Means] The present invention is a press-molded product (100) formed by bending a blank (B) to divide the blank into a first plank piece (10) and a second plank piece (20) with a bending portion interposed therebetween and making the first plank piece and the second plank piece come into contact with each other through the bending. The first plank piece and the second plank piece include punching portions (11, 21) formed by punching the blank, and a first rising portion (12) and a second rising portion (22) formed by raising the rims of the punching portions. There is provided a positioning portion (40) that positions the first plank piece and the second plank piece by engaging the first rising portion of the first plank piece with the second rising portion of the second plank piece.', image=None, label='B21D', model_output=None, messages=None, model_type='claude3haiku', mode=1)\n"
     ]
    },
    {
     "name": "stderr",
     "output_type": "stream",
     "text": [
      "65it [00:23,  3.12it/s]"
     ]
    },
    {
     "name": "stdout",
     "output_type": "stream",
     "text": [
      "Output: B29C, Expected: B21D, Current Accuracy: 0.5846153846153846, Token Usage: 0\n",
      "PatentData(text='A process for producing an electrode-gel electrolyte assembly based on porous carbonaceous material comprising radical-trapping sites comprises: a step of forming a bond between the radical-trapping sites of the carbonaceous material and functionalizing molecules, a step of preparing a solution comprising at least one monofunctional monomer and at least one polyfunctional monomer, an ionically conductive electrolyte and a radical initiator, a step of impregnating the solution of the monomers into the pores of the carbonaceous material, and a step of in situ radical polymerization of the monomers.', image=None, label='H01G', model_output=None, messages=None, model_type='claude3haiku', mode=1)\n"
     ]
    },
    {
     "name": "stderr",
     "output_type": "stream",
     "text": [
      "66it [00:23,  3.38it/s]"
     ]
    },
    {
     "name": "stdout",
     "output_type": "stream",
     "text": [
      "Output: H01M, Expected: H01G, Current Accuracy: 0.5757575757575758, Token Usage: 0\n",
      "PatentData(text='A device for recognizing the inscription on the wall of a tire, including a driving surface plane, at least one directional light source to illuminate the tire; at least one camera to record multiple images of a wall of the tire rolling on the driving surface plane; and an evaluation device to synthesize an image of the wall of the tire from the multiple recorded images and to evaluate the synthesized image with the aid of a text recognition method.', image=None, label='H04N', model_output=None, messages=None, model_type='claude3haiku', mode=1)\n"
     ]
    },
    {
     "name": "stderr",
     "output_type": "stream",
     "text": [
      "67it [00:23,  3.27it/s]"
     ]
    },
    {
     "name": "stdout",
     "output_type": "stream",
     "text": [
      "Output: B60C 23/00, Expected: H04N, Current Accuracy: 0.5671641791044776, Token Usage: 0\n",
      "PatentData(text='A folding house having a housing block and a base block. In one example, the folding house provides that the housing block has a housing block floor, a housing block front wall and two housing block side walls rigidly connected to the housing block front wall and the housing block floor, and the base block has a base block back wall, a base block floor and two base block side walls rigidly connected to the base block back wall and the base block floor, wherein the housing block and the base block can be brought into a housing position in which the housing block supplements the base block, and into a transport position in which the base block is arranged in the housing block.', image=None, label='E04B', model_output=None, messages=None, model_type='claude3haiku', mode=1)\n"
     ]
    },
    {
     "name": "stderr",
     "output_type": "stream",
     "text": [
      "68it [00:24,  2.75it/s]"
     ]
    },
    {
     "name": "stdout",
     "output_type": "stream",
     "text": [
      "Output: E04B, Expected: E04B, Current Accuracy: 0.5735294117647058, Token Usage: 0\n",
      "PatentData(text='System for managing a collection of objects, for example in a store, employing identification tags (RFID) assigned to object (O) locations and individual labels (ID-O) associated with the objects. The objects are identified using a portable label scanner (RFIDL) operating in either a local mode (M1) or in a single mode (M2), with said scanner being connected to a control unit (CPU) that controls the operation of the scanner. The local mode (M1) consists of reading the label (ID-Pj) of the display location (Pj) of a batch of objects (Oi) and of scanning the label of the objects located in this location for comparison and verification. The single mode (M2) is a close-up scan of the label of an object, taken individually.', image=None, label='G06Q', model_output=None, messages=None, model_type='claude3haiku', mode=1)\n"
     ]
    },
    {
     "name": "stderr",
     "output_type": "stream",
     "text": [
      "69it [00:24,  2.90it/s]"
     ]
    },
    {
     "name": "stdout",
     "output_type": "stream",
     "text": [
      "Output: G06K7/10, Expected: G06Q, Current Accuracy: 0.5652173913043478, Token Usage: 0\n",
      "PatentData(text='Provided herein is a method for forming a transparent electrode film for display and the transparent electrode film for display, the method comprising forming an electrode pattern by printing a fine electrode pattern on a release film using a conductive ink composition; forming an insulating layer by applying an insulating resin on the release film on which the electrode pattern has been formed; forming a substrate layer by laminating a substrate on the insulating layer; and removing the release film.', image=None, label='H05K', model_output=None, messages=None, model_type='claude3haiku', mode=1)\n"
     ]
    },
    {
     "name": "stderr",
     "output_type": "stream",
     "text": [
      "70it [00:25,  2.67it/s]"
     ]
    },
    {
     "name": "stdout",
     "output_type": "stream",
     "text": [
      "Output: A61F13/02, Expected: H05K, Current Accuracy: 0.5571428571428572, Token Usage: 0\n",
      "PatentData(text='Knitting spirality stabilizer constituted of the main frame and the internal mechanism (removable capsule). The main body of the machine is constituted of the frame (1) in which is placed a circle pattern constituted of two rings, one constant (2) and one removable (3). Circumferentially and symmetrically of the movable ring (3) has been placed a layout that regulates the operation diameter according to the fabric. It is constituted of independent rests (4), which can be height regulated (5) and can be stabilized in the desirable location by using pins (6). Lengthwise of the vertical surface of rests, magnets have been placed (7), which have been covered with Teflon. There are turn wheels on the rests (10) with coating made from soft material so that is performed smooth fabric rolling without wears. Inside the frame it is found the internal mechanism (9) that is constituted of foldable frame (11) and pins (6) for the initial placement. On the foldable frame edges (11) rests have been placed (12) that correspond to those on the external movable ring, that respectively have their own turn wheels (10) with coating made from soft material and magnets (8) with opposite polarity to create magnetic field and flexible metal stripes (13) that are used as drivers during the fabric passage.', image=None, label='D06C', model_output=None, messages=None, model_type='claude3haiku', mode=1)\n"
     ]
    },
    {
     "name": "stderr",
     "output_type": "stream",
     "text": [
      "71it [00:25,  2.94it/s]"
     ]
    },
    {
     "name": "stdout",
     "output_type": "stream",
     "text": [
      "Output: D04B, Expected: D06C, Current Accuracy: 0.5492957746478874, Token Usage: 0\n",
      "PatentData(text='A high-quality polyacetal copolymer produced by a simple process in an economical manner. The process includes supplying a raw material including trioxane and the like to a reaction device; setting the polymerization environmental temperature to no more than 100° C. until the reaction device conversion rate becomes 0.5, and then carrying out further polymerization; vaporizing and separating unreacted monomers from the reaction mixture at an environmental temperature of at least 115° C. and less than 140° C.; supplying the separated monomers to the raw material supply; and recovering the polyacetal copolymer from the reaction mixture.', image=None, label='C08G', model_output=None, messages=None, model_type='claude3haiku', mode=1)\n"
     ]
    },
    {
     "name": "stderr",
     "output_type": "stream",
     "text": [
      "72it [00:25,  3.18it/s]"
     ]
    },
    {
     "name": "stdout",
     "output_type": "stream",
     "text": [
      "Output: C08G, Expected: C08G, Current Accuracy: 0.5555555555555556, Token Usage: 0\n",
      "PatentData(text='The present invention is to provide a color material dispersion liquid which is able to form a high-luminance coating film having excellent heat resistance, with adjusting the color tone of the coating film to a desired color tone. Disclosed is a color material dispersion liquid containing: (A) a color material, (B) a dispersant and (C) a solvent, wherein the color material (A) contains a color material (A-1) in which at least a cation represented by the following general formula (I) and a monovalent anion represented by the following general formula (II) form a salt: (symbols in the general formulae (I) and (II) are as described in the Description.)', image=None, label='G02B', model_output=None, messages=None, model_type='claude3haiku', mode=1)\n"
     ]
    },
    {
     "name": "stderr",
     "output_type": "stream",
     "text": [
      "73it [00:25,  3.30it/s]"
     ]
    },
    {
     "name": "stdout",
     "output_type": "stream",
     "text": [
      "Output: C09B, Expected: G02B, Current Accuracy: 0.547945205479452, Token Usage: 0\n",
      "PatentData(text='The object of the present invention is to provide a method for screening peptide(s) highly specific to a target molecule. The object can be solved by a peptide-presenting protein wherein a peptide is presented in a presentation region consisting of the 131st to 139th amino acids in the amino acid sequence of the SEQ ID NO: 54, wherein the peptide consisting of 4 to 15 amino acids is inserted in the 131st to 139th amino acids sequence, or substituted for any of 1 to 9 amino acid(s) sequence in the 131st to 139th amino acids sequence; and a total length of an amino acid sequence corresponding to the 131st to 139th amino acids sequence is 15 or less.', image=None, label='C12N', model_output=None, messages=None, model_type='claude3haiku', mode=1)\n"
     ]
    },
    {
     "name": "stderr",
     "output_type": "stream",
     "text": [
      "74it [00:26,  2.99it/s]"
     ]
    },
    {
     "name": "stdout",
     "output_type": "stream",
     "text": [
      "Output: C40B, Expected: C12N, Current Accuracy: 0.5405405405405406, Token Usage: 0\n",
      "PatentData(text='The present invention relates to a polypropylene composition comprising a multimodal propylene random copolymer (A) with at least one comonomer selected from alpha-olefins with 2 or 4 to 8 carbon atoms and a nucleating agent (B), wherein the polypropylene composition has a Charpy Notched Impact Strength at 23° C. of at least 30 kJ/m2, determined according to ISO 179/1eA:2000 using notched injection moulded specimens, a process for producing said polypropylene composition, an article comprising said polypropylene composition and the use of said polypropylene composition for the production of an article.', image=None, label='C08L', model_output=None, messages=None, model_type='claude3haiku', mode=1)\n"
     ]
    },
    {
     "name": "stderr",
     "output_type": "stream",
     "text": [
      "75it [00:26,  2.69it/s]"
     ]
    },
    {
     "name": "stdout",
     "output_type": "stream",
     "text": [
      "Output: C08L23/14, Expected: C08L, Current Accuracy: 0.5466666666666666, Token Usage: 0\n",
      "PatentData(text='The invention relates to a process for producing an aqueous gel comprising hyaluronic acid, vitamin C, and a stabilizing agent selected from the metabisulfites. According to the invention, such a process comprises the steps of a) preparing a mixture comprising crosslinked or non-crosslinked hyaluronic acid and/or a salt thereof with a molar mass of between 1000 Da and 10 MDa, from 0.1 to 20.0% by weight of vitamin C in its acid form, or its equivalent in ascorbate derived from a vitamin C salt, from 0.01 to 1.00% by weight of a stabilizing agent selected from the metabisulfites, and an aqueous solution added so that the hyaluronic acid content is between 0.01 and 100 mg/ml, so as to form a hydrogel, and b) degassing the mixture before the hydrogel being formed is completely swollen.', image=None, label='A61K', model_output=None, messages=None, model_type='claude3haiku', mode=1)\n"
     ]
    },
    {
     "name": "stderr",
     "output_type": "stream",
     "text": [
      "76it [00:27,  3.04it/s]"
     ]
    },
    {
     "name": "stdout",
     "output_type": "stream",
     "text": [
      "Output: A61K, Expected: A61K, Current Accuracy: 0.5526315789473685, Token Usage: 0\n",
      "PatentData(text='The component (100) according to the invention has a first wood element (110) with at least a first main fiber direction (114) and a second wood element (120) with at least a second main fiber direction (124). At the end, and spaced apart, the first wood element (110) is adhesively bonded, on a first side cutting through the first main fiber direction (114), to a first side (121) of the second wood element (120) cutting through the second main fiber direction (124).', image=None, label='B27M', model_output=None, messages=None, model_type='claude3haiku', mode=1)\n"
     ]
    },
    {
     "name": "stderr",
     "output_type": "stream",
     "text": [
      "77it [00:27,  3.23it/s]"
     ]
    },
    {
     "name": "stdout",
     "output_type": "stream",
     "text": [
      "Output: B27D, Expected: B27M, Current Accuracy: 0.5454545454545454, Token Usage: 0\n",
      "PatentData(text='The present invention relates to novel formulations of soluble Fc receptors and especially to formulations containing high concentrations of soluble FcγRIIB receptor. The invention further relates to the use of such formulations as pharmaceutical compounds for the treatment of autoimmune diseases, infections and other conditions where the immune system is involved.', image=None, label='A61K', model_output=None, messages=None, model_type='claude3haiku', mode=1)\n"
     ]
    },
    {
     "name": "stderr",
     "output_type": "stream",
     "text": [
      "78it [00:27,  3.42it/s]"
     ]
    },
    {
     "name": "stdout",
     "output_type": "stream",
     "text": [
      "Output: A61K, Expected: A61K, Current Accuracy: 0.5512820512820513, Token Usage: 0\n",
      "PatentData(text='The present disclosure discloses a non-invasive wireless glucose level monitoring device. The device is fitted into a contact lens and can analyze glucose levels in tear fluid. The results of the analysis can be continuously transmitted to a nearby receiver and uploaded to a computer, mobile device or server.', image=None, label='G01N', model_output=None, messages=None, model_type='claude3haiku', mode=1)\n"
     ]
    },
    {
     "name": "stderr",
     "output_type": "stream",
     "text": [
      "79it [00:27,  3.48it/s]"
     ]
    },
    {
     "name": "stdout",
     "output_type": "stream",
     "text": [
      "Output: A61B5/145, Expected: G01N, Current Accuracy: 0.5443037974683544, Token Usage: 0\n",
      "PatentData(text='A vacuum condenser adapted to reduce pressure in an enclosure containing a secondary liquid and thereby cause the accelerated production of vapor from the secondary liquid by the passage of a primary liquid through the vacuum condenser and whereby the vapor produced is absorbed by the primary liquid within the vacuum condenser by being entrained and condensed within the primary liquid wherein the vacuum condenser is configured to cause the operating temperature of the secondary liquid within the enclosure to maintain a stable minimum temperature for a predetermined substantial rate of production of vapor.', image=None, label='B01D', model_output=None, messages=None, model_type='claude3haiku', mode=1)\n"
     ]
    },
    {
     "name": "stderr",
     "output_type": "stream",
     "text": [
      "80it [00:28,  3.11it/s]"
     ]
    },
    {
     "name": "stdout",
     "output_type": "stream",
     "text": [
      "Output: F25B, Expected: B01D, Current Accuracy: 0.5375, Token Usage: 0\n",
      "PatentData(text='A zinc production method includes a reaction step such as a leaching step (101) of bringing electric arc furnace dust (1) containing zinc oxide or the like into contact with a chlorine gas (8) to obtain a zinc oxide component in the electric arc furnace dust (1) or the like as crude zinc chloride (3), a purification step (102) of heating the crude zinc chloride (3) obtained at the reaction step to produce zinc chloride vapor, and cooling and condensing the zinc chloride vapor, thereby obtaining purified zinc chloride (6), and an electrolysis step (103) of electrolyzing the purified zinc chloride (6) obtained at the purification step (102) in a molten state to obtain a zinc melt (9) and the chlorine gas (8).', image=None, label='C22B', model_output=None, messages=None, model_type='claude3haiku', mode=1)\n"
     ]
    },
    {
     "name": "stderr",
     "output_type": "stream",
     "text": [
      "81it [00:28,  2.94it/s]"
     ]
    },
    {
     "name": "stdout",
     "output_type": "stream",
     "text": [
      "Output: C22B, Expected: C22B, Current Accuracy: 0.5432098765432098, Token Usage: 0\n",
      "PatentData(text='The invention relates to a transport carriage for cargo, particularly balls compressed from agricultural crops such as straw or silage, having a loading platform, which is designed to reach under the cargo in the loading state of the transport carriage, and having a strapping system which enables the cargo so be secured on the loading platform. The strapping system comprises at least one, preferably a plurality of tensioning means, arranged spaced apart from each other, which can be guided around the cargo loaded on the loading platform, at least in sections, by means of a common conveying device.', image=None, label='B60P', model_output=None, messages=None, model_type='claude3haiku', mode=1)\n"
     ]
    },
    {
     "name": "stderr",
     "output_type": "stream",
     "text": [
      "82it [00:29,  2.52it/s]"
     ]
    },
    {
     "name": "stdout",
     "output_type": "stream",
     "text": [
      "Output: B65D, Expected: B60P, Current Accuracy: 0.5365853658536586, Token Usage: 0\n",
      "PatentData(text='The present disclosure provides an information transmission method and an information transmission device. The information transmission method includes a step of transmitting, by a network-side device, at least one of information about a power back-off value, information about a resource allocation mode and DRX configuration information to a UE in accordance with information about a type or a capability level of a PA reported by the UE.', image=None, label='H04W', model_output=None, messages=None, model_type='claude3haiku', mode=1)\n"
     ]
    },
    {
     "name": "stderr",
     "output_type": "stream",
     "text": [
      "83it [00:29,  2.75it/s]"
     ]
    },
    {
     "name": "stdout",
     "output_type": "stream",
     "text": [
      "Output: H04W52/14, Expected: H04W, Current Accuracy: 0.5421686746987951, Token Usage: 0\n",
      "PatentData(text='The present invention relates to a diketopyrrolopyrrole polymer, which is an organic semiconductor compound for an organic electronic device, and a use thereof. The diketopyrrolopyrrole polymer according to the present invention is a novel organic semiconductor compound having high π-electron stacking by introducing an electron donor compound, and an organic electronic device employing the same has excellent charge mobility and on/off ratio.', image=None, label='H01L', model_output=None, messages=None, model_type='claude3haiku', mode=1)\n"
     ]
    },
    {
     "name": "stderr",
     "output_type": "stream",
     "text": [
      "84it [00:29,  3.05it/s]"
     ]
    },
    {
     "name": "stdout",
     "output_type": "stream",
     "text": [
      "Output: C07D, Expected: H01L, Current Accuracy: 0.5357142857142857, Token Usage: 0\n",
      "PatentData(text='An object of the present invention is to provide a curable epoxy resin composition, which is cured to provide a cured product having a high glass-transition temperature and particularly having excellent balance between heat resistance and transparency. The present invention relates to a curable epoxy resin composition comprising an alicyclic epoxy compound (A) represented by the following formula (1) and a curing agent (B), or a curable epoxy resin composition comprising an alicyclic epoxy compound (A) represented by the following formula (1) and a curing catalyst (C). wherein R1 to R22, which may be the same or different, each represent a hydrogen atom, a methyl group or an ethyl group; and m and n, which may be the same or different, each represent an integer of 1 to 4.', image=None, label='C08G', model_output=None, messages=None, model_type='claude3haiku', mode=1)\n"
     ]
    },
    {
     "name": "stderr",
     "output_type": "stream",
     "text": [
      "85it [00:29,  3.12it/s]"
     ]
    },
    {
     "name": "stdout",
     "output_type": "stream",
     "text": [
      "Output: C08G, Expected: C08G, Current Accuracy: 0.5411764705882353, Token Usage: 0\n",
      "PatentData(text='The invention relates to fastening elements for connecting transmission means such as tie rods, Bowden cables or the like to lever elements, in particular for motor vehicle locks, and to connecting arrangements equipped with such fastening elements. In order to allow reliable mounting and a structurally simple manufacture of the fastening elements, the fastening element is provided with a bayonet contour in such a manner that the fastening element, when mounted, is hinged to the lever element so as to be swiveled about a swivel axis. Owing to the swivelability and secure fastening to the lever element, the fastening element is particularly suitable for use in an actuation-force transmission chain between a motor vehicle lock and an actuating element for actuating said motor vehicle lock.', image=None, label='F16C', model_output=None, messages=None, model_type='claude3haiku', mode=1)\n"
     ]
    },
    {
     "name": "stderr",
     "output_type": "stream",
     "text": [
      "86it [00:30,  3.40it/s]"
     ]
    },
    {
     "name": "stdout",
     "output_type": "stream",
     "text": [
      "Output: F16B, Expected: F16C, Current Accuracy: 0.5348837209302325, Token Usage: 0\n",
      "PatentData(text='New designed ankyrin repeat proteins with binding specificity for HGF are described, as well as nucleic acids encoding such HGF binding proteins, pharmaceutical compositions comprising such proteins and the use of such proteins in the treatment of diseases.', image=None, label='C07K', model_output=None, messages=None, model_type='claude3haiku', mode=1)\n"
     ]
    },
    {
     "name": "stderr",
     "output_type": "stream",
     "text": [
      "87it [00:30,  3.45it/s]"
     ]
    },
    {
     "name": "stdout",
     "output_type": "stream",
     "text": [
      "Output: C07K16/18, Expected: C07K, Current Accuracy: 0.5402298850574713, Token Usage: 0\n",
      "PatentData(text=\"A method for providing a assistance for maintaining or improving an individual's wellness, comprising the steps of measuring a presence and/or concentration of one or more biomarkers in a sample from the individual; predicting a wellness need for maintaining or improving the individual's wellness based on the measured presence and/or concentration of the one or more biomarkers, wherein the one or more biomarkers are indicators of the wellness need; and altering the living environment of the individual, providing a wellness product or service to the individual or providing information, guidance or advice to the individual for addressing the wellness need of the individual. A system providing assistance for maintaining or improving an individual's wellness is also provided.\", image=None, label='G06F', model_output=None, messages=None, model_type='claude3haiku', mode=1)\n"
     ]
    },
    {
     "name": "stderr",
     "output_type": "stream",
     "text": [
      "88it [00:30,  3.68it/s]"
     ]
    },
    {
     "name": "stdout",
     "output_type": "stream",
     "text": [
      "Output: A61B, Expected: G06F, Current Accuracy: 0.5340909090909091, Token Usage: 0\n",
      "PatentData(text='A wafer holding apparatus for holding a wafer including a wafer holder on which the wafer is placed; and a lift pin that is configured to be lifted up and down with respect to the wafer holder in a direction along a normal line of a placement surface of the wafer, the lift pin includes a tip part, the tip part includes: a bottom part that forms a suction region for sucking a rear surface of the wafer; and a convex part that supports the rear surface of the wafer in the suction region. When a substrate is placed on a target position, it is possible to prevent a local deterioration of flatness of the substrate even if the substrate is large.', image=None, label='H01L', model_output=None, messages=None, model_type='claude3haiku', mode=1)\n"
     ]
    },
    {
     "name": "stderr",
     "output_type": "stream",
     "text": [
      "89it [00:30,  3.66it/s]"
     ]
    },
    {
     "name": "stdout",
     "output_type": "stream",
     "text": [
      "Output: H01L21/68, Expected: H01L, Current Accuracy: 0.5393258426966292, Token Usage: 0\n",
      "PatentData(text='An X-ray source is provided, the X-ray source including an outer housing that may be evacuated, including at least one radiation exit window, an electron source for emitting an electron beam, and an anode for producing X-rays. When the X-ray source is in operation, the anode is present in a vapor phase, wherein the vaporous anode may be produced by evaporating a stock of anode material present in a condensed phase by exposure to the electron beam. A method for producing X-rays is also provided, in which inside of an outer housing of an X-ray, which may be evacuated, a vaporous anode is continuously formed by bombarding the anode material that is present in a condensed phase with an electron beam. The vaporous anode emits X-rays by interaction with the electron beam.', image=None, label='H05G', model_output=None, messages=None, model_type='claude3haiku', mode=1)\n"
     ]
    },
    {
     "name": "stderr",
     "output_type": "stream",
     "text": [
      "90it [00:31,  3.53it/s]"
     ]
    },
    {
     "name": "stdout",
     "output_type": "stream",
     "text": [
      "Output: H05G, Expected: H05G, Current Accuracy: 0.5444444444444444, Token Usage: 0\n",
      "PatentData(text='The invention relates to a device for water purification, especially in flowing or stagnant waterbodies. In this connection, the present embodiments propose that the device has a container in which xylitol fibers are accommodated and/or that the xylitol fibers are surrounded by a structure through which it is firstly possible for water to flow and which secondly retains the xylitol fibers within the structure.', image=None, label='C02F', model_output=None, messages=None, model_type='claude3haiku', mode=1)\n"
     ]
    },
    {
     "name": "stderr",
     "output_type": "stream",
     "text": [
      "91it [00:31,  3.72it/s]"
     ]
    },
    {
     "name": "stdout",
     "output_type": "stream",
     "text": [
      "Output: C02F, Expected: C02F, Current Accuracy: 0.5494505494505495, Token Usage: 0\n",
      "PatentData(text='A blow-molded panel with reinforced edges and a folding table. A flange is extended downward on the periphery of the panel and surrounding the reinforced edge. The flange includes an inner flange layer and an outer flange layer. A hollow space is formed between the upper portion of the inner flange layer and the upper curvy portion of the outer flange layer, and the lower portion of the inner flange layer is attached to the lower straight portion of the outer flange layer. The flange has two layers, and the lower portion of the inner flange layer is attached to the lower straight portion of the outer flange layer, so that the firmness and the shock resistance of the fragile parts on the periphery of the panel are remarkably improved.', image=None, label='A47B', model_output=None, messages=None, model_type='claude3haiku', mode=1)\n"
     ]
    },
    {
     "name": "stderr",
     "output_type": "stream",
     "text": [
      "92it [00:31,  3.87it/s]"
     ]
    },
    {
     "name": "stdout",
     "output_type": "stream",
     "text": [
      "Output: B65D, Expected: A47B, Current Accuracy: 0.5434782608695652, Token Usage: 0\n",
      "PatentData(text='The present invention provides a novel compound isolated from a plant of the genus Quamoclit and a method for preparing a novel compound isolated from a plant of the genus Quamoclit through chemical synthesis, and relates to a novel compound and a composition containing the novel compound as an active ingredient for preventing or treating diabetes and diabetic complications. The compound derived from a plant of the genus Quamoclit and the composition containing the compound as an active ingredient according to the present invention have an excellent effect of promoting insulin secretion, thereby exhibiting efficacies in preventing or treating diabetes and the resulting various complications.', image=None, label='C07H', model_output=None, messages=None, model_type='claude3haiku', mode=1)\n"
     ]
    },
    {
     "name": "stderr",
     "output_type": "stream",
     "text": [
      "93it [00:32,  3.05it/s]"
     ]
    },
    {
     "name": "stdout",
     "output_type": "stream",
     "text": [
      "Output: A61K, Expected: C07H, Current Accuracy: 0.5376344086021505, Token Usage: 0\n",
      "PatentData(text='An electronic actuator according to the present invention comprises: a shaft; a bobbin; a nut; an upper bushing; a housing; a bearing; and a lower bushing. The shaft rotates by receiving a rotational force from an engine crank shaft. The bobbin is mounted to surround the middle portion of the shaft, wherein the bobbin has a coil wound inside thereof. The nut is made of a magnetic material and mounted to surround one side in the longitudinal direction of the shaft, while being screw-connected to a clutch. The upper bushing is made of as nonmagnetic material and is press-fit between the one side in the longitudinal direction of the shaft and the nut, so as to connect the shaft and the nut to form a single body. The housing is made of a magnetic material and comprises a bottom plate and a side wall to surround the other side in the longitudinal direction of the shaft, wherein the side wall extends to partially overlap the nut. The bearing is mounted on the outer peripheral surface on the other side in the longitudinal direction of the shaft, positioned inside the housing. The lower hushing is made of a nonmagnetic material and is press-fit between the bearing and the housing so as to connect the bearing and the housing to form a single body.', image=None, label='F16D', model_output=None, messages=None, model_type='claude3haiku', mode=1)\n"
     ]
    },
    {
     "name": "stderr",
     "output_type": "stream",
     "text": [
      "94it [00:32,  3.20it/s]"
     ]
    },
    {
     "name": "stdout",
     "output_type": "stream",
     "text": [
      "Output: H02K, Expected: F16D, Current Accuracy: 0.5319148936170213, Token Usage: 0\n",
      "PatentData(text='The present invention has an object to provide an X-ray fluorescence spectrometer capable of preventing a decrease in analysis precision of light elements whose atomic number is less than 23 and making helium gas replacement for the inside of an analysis chamber more efficient. An X-ray fluorescence spectrometer of the present invention includes: an X-ray tube 12 for irradiating a sample S on a sample stage 14 with a primary X-ray, the sample stage 14 having an X-ray passing port 141; a detector 13 for detecting a fluorescent X-ray emitted from the sample S; an analysis chamber 16 having an introduction port 17 for the primary X-ray emitted from the X-ray tube 12 and a detection port 181 for the detector 13, the analysis chamber 16 containing an internal space including an optical path of the primary X-ray from the introduction port 17 to the X-ray passing port 141 and an optical path of the fluorescent X-ray from the X-ray passing port 141 to the detection port 181; first and second introduction pipes 201 and 202 for introducing helium gas supplied from a helium gas cylinder 22 into the analysis chamber 16 through the introduction port 17 and the detection port 181, respectively; and a flow rate control valve 24 for controlling a helium gas flow rate in each of the first and second introduction pipes 201 and 202.', image=None, label='G01N', model_output=None, messages=None, model_type='claude3haiku', mode=1)\n"
     ]
    },
    {
     "name": "stderr",
     "output_type": "stream",
     "text": [
      "95it [00:32,  2.86it/s]"
     ]
    },
    {
     "name": "stdout",
     "output_type": "stream",
     "text": [
      "Output: G01N, Expected: G01N, Current Accuracy: 0.5368421052631579, Token Usage: 0\n",
      "PatentData(text='A clothing wire for a clothing roller of a carding machine extends in a wire longitudinal direction and having a base segment, which is thicker transversely to the wire longitudinal direction. A leaf segment, which is narrower compared to the base segment, protrudes from the base segment. A plurality of teeth is formed on the leaf segment along the clothing wire in the wire longitudinal direction. Each tooth has two leaf segment lateral surfaces adjoining the base segment. On at least one of the leaf segment lateral surfaces, at least one projection is formed on each tooth. The cross-sectional profile of the projection is asymmetric and preferably has the contour of a nose. The design of the clothing wire results in a homogenization or parallelization of the fibers, with little wear of the clothing wire and less damage to the fibers.', image=None, label='D01G', model_output=None, messages=None, model_type='claude3haiku', mode=1)\n"
     ]
    },
    {
     "name": "stderr",
     "output_type": "stream",
     "text": [
      "96it [00:33,  3.08it/s]"
     ]
    },
    {
     "name": "stdout",
     "output_type": "stream",
     "text": [
      "Output: D01G15/00, Expected: D01G, Current Accuracy: 0.5416666666666666, Token Usage: 0\n",
      "PatentData(text='The present invention consists of an improved System and Method for managing and operating a company on a global basis wherein company data, income, costs and expenditures may be assigned down to the level of Practice Group, Sub Practice Group, a Timekeeper or Local Profit Center. In lieu of managing a company by the top down from a main parent Global Corporation, an International company is managed horizontally by grouping workers into categories, and then managing those workers across Local Worker Groups, then Regional and then National. In such a manner, the company may run reports to show optimal profitability and management of workers.', image=None, label='G06Q', model_output=None, messages=None, model_type='claude3haiku', mode=1)\n"
     ]
    },
    {
     "name": "stderr",
     "output_type": "stream",
     "text": [
      "97it [00:33,  3.09it/s]"
     ]
    },
    {
     "name": "stdout",
     "output_type": "stream",
     "text": [
      "Output: G06Q10/10, Expected: G06Q, Current Accuracy: 0.5463917525773195, Token Usage: 0\n",
      "PatentData(text='Methods and compositions for environmentally-friendly weed control are provided. In particular, bioherbicide compositions are provided comprising plant extracts selected from Russian Olive, Austrian Pine, Tree of Heaven, Autumn Olive, and Black Walnut extract, either alone, or combination with at least one mulching substrate. Methods of using the herbicide compositions are also provided.', image=None, label='A01N', model_output=None, messages=None, model_type='claude3haiku', mode=1)\n"
     ]
    },
    {
     "name": "stderr",
     "output_type": "stream",
     "text": [
      "98it [00:33,  3.07it/s]"
     ]
    },
    {
     "name": "stdout",
     "output_type": "stream",
     "text": [
      "Output: A01N43/08, Expected: A01N, Current Accuracy: 0.5510204081632653, Token Usage: 0\n",
      "PatentData(text='A stack array in a solid oxide fuel cell power generation system is provided. The stack array comprises a supporting body and a stack group, wherein the supporting body is in a layered structure and comprises one layer or at least two layers of supporting units; and on each layer of the supporting units, a plurality of stacks are sequentially arranged to form the stack group, and each stack is horizontal, and fasteners are provided between the stacks to enable the stack groups and the supporting units to form a pressurized fastening structure. The stack array of the present disclosure simplifies the arrangement of pipelines in the related art, enables effective pressurized fastening on the stacks, so as to allow the whole stack array to be compact and steady, while facilitating the detach, repair and maintenance of the stacks, which is favorable for the integration of the system.', image=None, label='H01M', model_output=None, messages=None, model_type='claude3haiku', mode=1)\n"
     ]
    },
    {
     "name": "stderr",
     "output_type": "stream",
     "text": [
      "99it [00:34,  3.30it/s]"
     ]
    },
    {
     "name": "stdout",
     "output_type": "stream",
     "text": [
      "Output: H01M, Expected: H01M, Current Accuracy: 0.5555555555555556, Token Usage: 0\n",
      "PatentData(text='A method of access to a motor vehicle includes establishing contactless communication according to an NFC protocol between a badge of the motor vehicle and a smartphone, communicating an authentication key from the badge to the smartphone, transmitting the authentication key of the smartphone to a server by telephone communication, the server being capable of communicating with the vehicle, and recognizing the authentication key by the server and transmitting data concerning a status of the vehicle from the server to the smartphone.', image=None, label='G07C', model_output=None, messages=None, model_type='claude3haiku', mode=1)\n"
     ]
    },
    {
     "name": "stderr",
     "output_type": "stream",
     "text": [
      "100it [00:34,  3.31it/s]"
     ]
    },
    {
     "name": "stdout",
     "output_type": "stream",
     "text": [
      "Output: H04W4/80, Expected: G07C, Current Accuracy: 0.55, Token Usage: 0\n",
      "PatentData(text='A resin-impregnated boron nitride sintered body having superior thermal conductivity and superior strength, and a resin-impregnated boron nitride sintered body having superior conductivity and small anisotropy of thermal conductivity are provided. A resin-impregnated boron nitride sintered body, including: 30 to 90 volume % of a boron nitride sintered body having boron nitride particles bonded three-dimensionally; and 10 to 70 volume % of a resin; wherein the boron nitride sintered body has a porosity of 10 to 70%; the boron nitride particles of the boron nitride sintered body has an average long diameter of 10 μm or more; the boron nitride sintered body has a graphitization index by powder X-ray diffractometry is 4.0 or less; and an orientation degree of the boron nitride particles of the boron nitride sintered body by I.O.P is 0.01 to 0.05 or 20 to 100; and a resin-impregnated boron nitride sintered body, including: 30 to 90 volume % of a boron nitride sintered body having boron nitride particles bonded three-dimensionally is provided.', image=None, label='C04B', model_output=None, messages=None, model_type='claude3haiku', mode=1)\n"
     ]
    },
    {
     "name": "stderr",
     "output_type": "stream",
     "text": [
      "101it [00:34,  3.38it/s]"
     ]
    },
    {
     "name": "stdout",
     "output_type": "stream",
     "text": [
      "Output: C04B, Expected: C04B, Current Accuracy: 0.5544554455445545, Token Usage: 0\n",
      "PatentData(text='Provided are a method, device and system for implementing address sharing. An address pool configured for unified management over IP addresses is configured on an AAA server; and the AAA server may allocate an IP address to a CGN device according to the configured address pool. By such a technology for implementing address sharing in the present disclosure, IP address resource sharing among CGN devices is implemented, so that problems about resource load sharing among the CGN devices may be solved, a sharing rate of IP address resources is increased, and resource optimization may be implemented; and moreover, in terms of IP address management, a more available platform is provided for an operating company. In addition, the IP addresses are managed by the AAA server in a unified manner, and then the address pool is not required to be configured on the CGN device, so that the CGN device may be started without any address pool.', image=None, label='H04L', model_output=None, messages=None, model_type='claude3haiku', mode=1)\n"
     ]
    },
    {
     "name": "stderr",
     "output_type": "stream",
     "text": [
      "102it [00:35,  3.15it/s]"
     ]
    },
    {
     "name": "stdout",
     "output_type": "stream",
     "text": [
      "Output: H04L29/12, Expected: H04L, Current Accuracy: 0.5588235294117647, Token Usage: 0\n",
      "PatentData(text='An object of the present invention is to provide an orally disintegrating tablet (ultrafast-disintegrating tablet) having an extremely high disintegrability (short disintegration time), and a high tablet hardness, and to provide a simple method for the production of said ultrafast-disintegrating tablet without such a complicated process as freeze-drying. This invention relates to an orally disintegrating tablet comprising a first disintegrator component of an acid-type carboxymethylcellulose, and having a tablet hardness of 10 N or more and a disintegration time in water of less than 15 seconds, a method for the production of said orally disintegrating tablet, and to a disintegrative particulate composition for use in said method.', image=None, label='A61K', model_output=None, messages=None, model_type='claude3haiku', mode=1)\n"
     ]
    },
    {
     "name": "stderr",
     "output_type": "stream",
     "text": [
      "103it [00:35,  3.35it/s]"
     ]
    },
    {
     "name": "stdout",
     "output_type": "stream",
     "text": [
      "Output: A61K9/20, Expected: A61K, Current Accuracy: 0.5631067961165048, Token Usage: 0\n",
      "PatentData(text='A control valve including: a valve body, a flow shutter operatively interposed between an inlet and an outlet, a driving spindle having at least a first actuating end and a second end connected to the flow shutter. The valve also includes a differential pressure automatic regulation device, comprising: a cup-shaped body arranged around the driving spindle and axially mobile with respect to said driving spindle; a spring operatively interposed between the valve body and the cup-shaped body to push the latter away from the flow shutter; a rolling membrane having a radially inner edge fixed to the cup-shaped body and a radially outer edge fixed to the valve body to delimit a first chamber in fluid communication with the inlet and a second chamber in fluid communication with the outlet.', image=None, label='G05D', model_output=None, messages=None, model_type='claude3haiku', mode=1)\n"
     ]
    },
    {
     "name": "stderr",
     "output_type": "stream",
     "text": [
      "104it [00:36,  2.21it/s]"
     ]
    },
    {
     "name": "stdout",
     "output_type": "stream",
     "text": [
      "Output: F16K, Expected: G05D, Current Accuracy: 0.5576923076923077, Token Usage: 0\n",
      "PatentData(text='The invention relates to a high-pressure pump (1), in particular for a motor vehicle, for pumping a fluid, in particular fuel, such as diesel, comprising: a drive shaft (2), which is supported in such a way that the drive shaft can be rotated about an axis of rotation (26) and which has at least one cam (3); at least two pistons (5); at least two cylinders (6) for supporting the at least two pistons (5); wherein the pistons (5) each have a piston longitudinal axis (16) and the piston longitudinal axes (16) are oriented at an angle to each other in a projection of the piston longitudinal axes (16) in the direction of the axis of rotation (26) of the drive shaft (2) onto a fictitious projection plane perpendicular to the axis of rotation (26), wherein each of the at least two pistons (5) is supported on a shaft rolling surface (4) of the drive shaft (2) having the at least one cam (3) indirectly by means of a respective supporting element (14) having a supporting rolling surface (15), such that a translational motion can be performed by the at least two pistons (5) as the result of a rotational motion of the drive shaft (2), wherein the piston longitudinal axes (16) of the pistons (5) have an axial distance in the direction of the axis of rotation (26) of the drive shaft (2).', image=None, label='F02M', model_output=None, messages=None, model_type='claude3haiku', mode=1)\n"
     ]
    },
    {
     "name": "stderr",
     "output_type": "stream",
     "text": [
      "105it [00:36,  2.62it/s]"
     ]
    },
    {
     "name": "stdout",
     "output_type": "stream",
     "text": [
      "Output: F04B, Expected: F02M, Current Accuracy: 0.5523809523809524, Token Usage: 0\n",
      "PatentData(text='The present invention relates to a liquid crystal display device that includes a particular color filter containing a material containing chiral liquid crystals and a particular pigment. The present invention provides a liquid crystal display device that can prevent a decrease in the voltage holding ratio (VHR) of a liquid crystal layer and solve the problem of display defects, such as white spots, variations in alignment, and burn-in. Because liquid crystal display devices according to the present invention characteristically prevent a decrease in the voltage holding ratio (VHR) of a liquid crystal layer and reduces the occurrence of display defects, such as burn-in, the liquid crystal display devices are particularly useful as liquid crystal display devices in IPS mode and FFS mode for active-matrix driving and can be applied to household electrical appliances, automobiles, production facilities, measuring and analytical instruments, and communication devices.', image=None, label='C09K', model_output=None, messages=None, model_type='claude3haiku', mode=1)\n"
     ]
    },
    {
     "name": "stderr",
     "output_type": "stream",
     "text": [
      "106it [00:37,  1.58it/s]"
     ]
    },
    {
     "name": "stdout",
     "output_type": "stream",
     "text": [
      "Output: G02F1/13, Expected: C09K, Current Accuracy: 0.5471698113207547, Token Usage: 0\n",
      "PatentData(text='The invention relates to a bursting device (1) for a high-voltage device (2). The bursting device (1) is suitable in particular for on-load tap changers or high-voltage transformers filled with a filling medium such as gas or oil. The bursting device (1) according to the invention has a bursting cork (3) with support blocks (7) arranged on the inner surface (3B). A shear pin (8) is in arranged in each receiving block (7), said shear pin being divided into a first portion (8A) and a second portion (8B). The first portion (8A) of the shear pin (8) protrudes into the receiving block (7). The second portion (8B) of the shear pin (8) is arranged below the circumferential edge (9) of an opening (5) of the high-voltage device (2).', image=None, label='H01F', model_output=None, messages=None, model_type='claude3haiku', mode=1)\n"
     ]
    },
    {
     "name": "stderr",
     "output_type": "stream",
     "text": [
      "107it [00:37,  1.91it/s]"
     ]
    },
    {
     "name": "stdout",
     "output_type": "stream",
     "text": [
      "Output: H02B, Expected: H01F, Current Accuracy: 0.5420560747663551, Token Usage: 0\n",
      "PatentData(text='The present invention relates to a device for efficiently preparing magnesium hydroxide, comprising a material mixing tank, a pressure control linkage unit I, a reactor, a pressure control linkage unit II, a condenser, a three-way valve, a material storage tank, a pressure control linkage unit III and a vapor generator. The beneficial effect of the present invention is that magnesium hydroxide slurry can be prepared quickly and efficiently.', image=None, label='C01F', model_output=None, messages=None, model_type='claude3haiku', mode=1)\n"
     ]
    },
    {
     "name": "stderr",
     "output_type": "stream",
     "text": [
      "108it [00:38,  2.09it/s]"
     ]
    },
    {
     "name": "stdout",
     "output_type": "stream",
     "text": [
      "Output: C01F5/14, Expected: C01F, Current Accuracy: 0.5462962962962963, Token Usage: 0\n",
      "PatentData(text='An atomizer-humidifier includes a water reservoir and an atomizer module. The atomizer module has an atomizer housing and an oscillation element that can be induced to oscillate and which, in the normal mode of the humidifier, is covered by water. The humidifier also includes a device for supplying water from the water reservoir to a water receiving zone above the atomizer module. The atomizer module has at least one ultraviolet light source fastened to the atomizer module housing.', image=None, label='F24F', model_output=None, messages=None, model_type='claude3haiku', mode=1)\n"
     ]
    },
    {
     "name": "stderr",
     "output_type": "stream",
     "text": [
      "109it [00:38,  2.24it/s]"
     ]
    },
    {
     "name": "stdout",
     "output_type": "stream",
     "text": [
      "Output: A61M11/04, Expected: F24F, Current Accuracy: 0.5412844036697247, Token Usage: 0\n",
      "PatentData(text='The invention relates to a bending press (1) for bending workpieces, comprising an upper tool (2) and a lower tool (3), a tool holder (4), in which the upper tool (2) is inserted, and a tool holder (5), in which the lower tool (3) is inserted, wherein the upper tool (2) and the lower tool (3) can be fixed in various positions within the respective tool holder (4, 5), a control device (13) for controlling the bending press (1), a sensor device (8), which is connected to the control device (13), and a stop (6) for positioning the workpiece within the bending press (1), wherein the stop (6) can be moved in relation to the tools (2, 3) by means of a drive (9) controlled by the control device (13). The sensor device (8) is designed to detect the position of the upper tool (2) and of the lower tool (3) within the bending press (1) without contact, and the control device (13) is designed to adapt the movement process by means of which the stop (6) is positioned in relation to the tools (2, 3), in dependence on the position of the upper tool (2) and of the lower tool (3) detected by means of the sensor device (8).', image=None, label='B21D', model_output=None, messages=None, model_type='claude3haiku', mode=1)\n"
     ]
    },
    {
     "name": "stderr",
     "output_type": "stream",
     "text": [
      "110it [00:38,  2.47it/s]"
     ]
    },
    {
     "name": "stdout",
     "output_type": "stream",
     "text": [
      "Output: B21D, Expected: B21D, Current Accuracy: 0.5454545454545454, Token Usage: 0\n",
      "PatentData(text='The invention relates to a method for synthesizing an intermediate of Apixaban comprising reacting a compound of formula I with 5-chloro-valeryl chloride in the presence of inorganic base in an inert solvent to obtain a compound of formula II, with the reaction formula of (A), wherein R is selected from nitro group and the group (B). The method is mild in reaction condition, simple in operation, easy in purification, inexpensive in production cost, environmental-friendly, and suitable for industrial production.', image=None, label='C07D', model_output=None, messages=None, model_type='claude3haiku', mode=1)\n"
     ]
    },
    {
     "name": "stderr",
     "output_type": "stream",
     "text": [
      "111it [00:39,  2.26it/s]"
     ]
    },
    {
     "name": "stdout",
     "output_type": "stream",
     "text": [
      "Output: A61K, Expected: C07D, Current Accuracy: 0.5405405405405406, Token Usage: 0\n",
      "PatentData(text='There is provided an internal combustion engine, provided with a crankshaft and one or several cylinders provided on the wall thereof with exhaust ports and closed at the top by a cylinder head provided with intake ports; each cylinder accommodating an engine piston connected to the crankshaft and a coaxial auxiliary piston opposite the engine piston, defining an intake chamber and a combustion chamber; said auxiliary piston axially determining on the side of the combustion chamber a housing that communicates with the intake chamber via transfer ports, the housing of which includes a secondary piston which opens and closes the transfer ports in a back-and-forth movement between a rear position and a forward position.', image=None, label='F01L', model_output=None, messages=None, model_type='claude3haiku', mode=1)\n"
     ]
    },
    {
     "name": "stderr",
     "output_type": "stream",
     "text": [
      "112it [00:39,  2.51it/s]"
     ]
    },
    {
     "name": "stdout",
     "output_type": "stream",
     "text": [
      "Output: F02B, Expected: F01L, Current Accuracy: 0.5357142857142857, Token Usage: 0\n",
      "PatentData(text='An electronically commutated motor has a rotor with a permanent magnet arrangement, a stator (30) with a bundle of laminations (32) and a winding (34). The bundle of laminations is, at at least at one axial end (32′), provided with an insulator (41) and the winding (34) has a plurality of coils (38A, 38B, 38C, 38D) that are wound from at least one winding wire (36); at least one winding wire contact element (50) which is attached to an insulator body (41) and mechanically and electrically conductive connected with at least one section (36A) of at least one winding wire (36); at least one contact track (60) with a first section (61) which is mechanically and electrically conductive connected to the winding wire contact element (50), a second section (62) which is arranged with an internal threaded part (65) with an internal thread (66) to enable an electrical connection of the winding (34) to the associated voltage source and a third section (63) which connects the first section (61) with the second section (62) electrically conductive.', image=None, label='H02K', model_output=None, messages=None, model_type='claude3haiku', mode=1)\n"
     ]
    },
    {
     "name": "stderr",
     "output_type": "stream",
     "text": [
      "113it [00:39,  2.79it/s]"
     ]
    },
    {
     "name": "stdout",
     "output_type": "stream",
     "text": [
      "Output: H02K, Expected: H02K, Current Accuracy: 0.5398230088495575, Token Usage: 0\n",
      "PatentData(text='The present invention relates to a method for determining an amount of a peroxide in a sample, wherein the method comprises the steps of: —providing a sample, —contacting the sample with a terbium(III) benzene dicarboxylic acid complex, and —determining the luminescence of the terbium(III) benzene dicarboxylic acid complex.', image=None, label='C12Q', model_output=None, messages=None, model_type='claude3haiku', mode=1)\n"
     ]
    },
    {
     "name": "stderr",
     "output_type": "stream",
     "text": [
      "114it [00:40,  2.97it/s]"
     ]
    },
    {
     "name": "stdout",
     "output_type": "stream",
     "text": [
      "Output: G01N21/76, Expected: C12Q, Current Accuracy: 0.5350877192982456, Token Usage: 0\n",
      "PatentData(text='A method and apparatus for planning medical treatment, the method comprising: displaying a first image of a patient or a body part, wherein the body part is to be designed or operated on, the first image having first imaging characteristics; displaying a second image of the patient or the body part, the second image having imaging characteristics different from the first imaging characteristics; displaying an image of a model of the body part; receiving a user indication associated with adapting the model for the patient; and outputting a model adapted for the patient, the adapted model based on the model and on the user indication.', image=None, label='A61C', model_output=None, messages=None, model_type='claude3haiku', mode=1)\n"
     ]
    },
    {
     "name": "stderr",
     "output_type": "stream",
     "text": [
      "115it [00:40,  3.25it/s]"
     ]
    },
    {
     "name": "stdout",
     "output_type": "stream",
     "text": [
      "Output: A61B, Expected: A61C, Current Accuracy: 0.5304347826086957, Token Usage: 0\n",
      "PatentData(text='The present invention discloses a 3D printer, comprising a printing chamber, and the printing chamber comprises a printing assembly and a loading platform inside, and the printing assembly is located above the loading platform, and the printing assembly comprises a printing support and a printing head assembly and a curing lamp assembly connected on the printing support, and the printing support is moved along a printing direction, and in the printing direction, the printing head assembly is in front of the curing lamp assembly, and the printing head assembly comprises a main printing head of printing a model mainbody and a sub printing head of printing support material, and material of the model mainbody is photosensitive resin, and a printing temperature inside the printing chamber is lower than a solidification temperature of the support material, and the support material is solidified at the printing temperature.', image=None, label='B29C', model_output=None, messages=None, model_type='claude3haiku', mode=1)\n"
     ]
    },
    {
     "name": "stderr",
     "output_type": "stream",
     "text": [
      "116it [00:40,  3.42it/s]"
     ]
    },
    {
     "name": "stdout",
     "output_type": "stream",
     "text": [
      "Output: B29C, Expected: B29C, Current Accuracy: 0.5344827586206896, Token Usage: 0\n",
      "PatentData(text='The invention relates to medicine, in particular, to agents for prophylaxis and treatment of conditions associated with various forms of catarrhal diseases, as well as for immunity improvement.', image=None, label='A61K', model_output=None, messages=None, model_type='claude3haiku', mode=1)\n"
     ]
    },
    {
     "name": "stderr",
     "output_type": "stream",
     "text": [
      "117it [00:41,  3.35it/s]"
     ]
    },
    {
     "name": "stdout",
     "output_type": "stream",
     "text": [
      "Output: A61K, Expected: A61K, Current Accuracy: 0.5384615384615384, Token Usage: 0\n",
      "PatentData(text='The present invention relates to an oligonucleotide structure and a method for preparing the same and, more particularly, to an oligonucleotide structure in which a polymer compound is linked to an oligonucleotide via a covalent bond to improve in vivo stability of the oligonucleotide and cellular delivery efficiency of the oligonucleotide; and to a method for preparing the same. The oligonucleotide structure is improved into a homogenous material, thereby solving the problem in material verification due to polydispersion characteristics occurring when a hydrophilic material linked to the oligonucleotide is a synthetic polymer; the oligonucleotide structure is easy to synthesize compared with the existing process; and the size of a double-stranded oligo RNA structure can be accurately adjusted through the control of the repetition number of a hydrophilic material block, and thus, the gene expression regulation function of the oligonucleotide does not deteriorate through the synthesis of the optimized oligonucleotide structure, and the oligonucleotide can be delivered into cells at even a relatively low-concentration dosage. Therefore, the oligonucleotide structure of the present invention can be useful as a novel type oligonucleotide delivery system as well as a tool for treating cancers, infectious diseases, and the like.', image=None, label='C12N', model_output=None, messages=None, model_type='claude3haiku', mode=1)\n"
     ]
    },
    {
     "name": "stderr",
     "output_type": "stream",
     "text": [
      "118it [00:41,  3.36it/s]"
     ]
    },
    {
     "name": "stdout",
     "output_type": "stream",
     "text": [
      "Output: C12N, Expected: C12N, Current Accuracy: 0.5423728813559322, Token Usage: 0\n",
      "PatentData(text='The present invention relates to a dengue virus-specific siRNA, a double-stranded oligo RNA structure comprising the siRNA, and a composition for inhibiting dengue virus replication, which comprises the same, in which the double-stranded oligo RNA structure comprises a hydrophilic compound and hydrophobic compound conjugated to both ends of the double-stranded RNA (siRNA) by a single covalent bond or a linker-mediated covalent bond so that they will be efficiently delivered into cells, and can be converted into nanoparticles by hydrophobic interactions between the double-stranded oligo RNA structures in an aqueous solution. The siRNA included in the double-stranded oligo RNA structure acts specifically on all dengue virus serotypes. The present invention also relates to a method for preparing the double-stranded oligo RNA structure, and a pharmaceutical composition for preventing or treating dengue virus infection, which comprises the double-stranded oligo RNA structure.', image=None, label='C12N', model_output=None, messages=None, model_type='claude3haiku', mode=1)\n"
     ]
    },
    {
     "name": "stderr",
     "output_type": "stream",
     "text": [
      "119it [00:41,  3.51it/s]"
     ]
    },
    {
     "name": "stdout",
     "output_type": "stream",
     "text": [
      "Output: A61K, Expected: C12N, Current Accuracy: 0.5378151260504201, Token Usage: 0\n",
      "PatentData(text='Described is a method for the production of 3-buten-2-one comprising the enzymatic conversion of 4-hydroxy-2-butanone into 3-buten-2-one by making use of an enzyme catalyzing 4-hydroxy-2-butanone dehydration, wherein said enzyme catalyzing 4-hydroxy-2-butanone dehydration is (a) a 3-hydroxypropiony-CoA dehydratase (EC 4.2.1.116), (b) a 3-hydroxybutyryl-CoA dehydratase (EC 4.2.1.55), (c) an enoyl-CoA hydratase (EC 4.2.1.17), (d) a 3-hydroxyoctanoyl-[acyl-carrier-protein] dehydratase (EC 4.2.1.59), (e) a crotonyl-[acyl-carrier-protein] hydratase (EC 4.2.1.58), (f) a 3-hydroxydecanoyl-[acyl-carrier-protein] dehydratase (EC 4.2.1.60), (g) a 3-hydroxypalmitoyl-[acyl-carrier-protein] dehydratase (EC 4.2.1.61), (h) a long-chain-enoyl-CoA hydratase (EC 4.2.1.74), or (i) a 3-methylglutaconyl-CoA hydratase (EC 4.2.1.18). The produced 3-buten-2-one can be further converted into 3-buten-2-ol and finally into 1,3-butadiene.', image=None, label='C12P', model_output=None, messages=None, model_type='claude3haiku', mode=1)\n"
     ]
    },
    {
     "name": "stderr",
     "output_type": "stream",
     "text": [
      "120it [00:41,  3.58it/s]"
     ]
    },
    {
     "name": "stdout",
     "output_type": "stream",
     "text": [
      "Output: C07C, Expected: C12P, Current Accuracy: 0.5333333333333333, Token Usage: 0\n",
      "PatentData(text='The present invention relates to a gene specific siRNA related with respiratory diseases, particularly, to a gene specific siRNA related with idiopathic pulmonary fibrosis and chronic obstructive pulmonary disease (COPD), and a highly efficient double-helical oligo RNA structure containing the same, wherein the double-helical oligo RNA structure has a structure in which hydrophilic and hydrophobic materials are bonded at the both ends of the double-helical RNA (siRNA) using a simple covalent bond or a linker-mediated covalent bond to be effectively transferred into a cell, and may be converted into nanoparticles by the hydrophobic interaction of the double-helical oligo RNA structure in a solution. It is desirable that the siRNA contained in the double-helical oligo RNA structure is a siRNA specific to a CTGF, Cyr61, or Plekho1, which are genes related with respiratory diseases, particularly idiopathic pulmonary fibrosis and COPD. In addition, the present invention relates to a method for producing the double-helical oligo RNA structure and a pharmaceutical composition containing the double-helical oligo RNA structure for preventing or treating respiratory diseases, particularly idiopathic pulmonary fibrosis and COPD.', image=None, label='C12N', model_output=None, messages=None, model_type='claude3haiku', mode=1)\n"
     ]
    },
    {
     "name": "stderr",
     "output_type": "stream",
     "text": [
      "121it [00:42,  3.45it/s]"
     ]
    },
    {
     "name": "stdout",
     "output_type": "stream",
     "text": [
      "Output: C12N, Expected: C12N, Current Accuracy: 0.5371900826446281, Token Usage: 0\n",
      "PatentData(text='The economic efficiency of wind turbines improves by upscaling but the weight to strength ratio deteriorates. This is especially true for the large shaft and bearing of the rotor, the gearbox and the generator. Solutions to this was the gearless generator, getting heavy because the amount of magnetic material is inversely proportional to speed, or several smaller generators adapted to the wind on a distribution gear as shown in references (1), (2) and (3). The large roller bearing of the rotor has relatively large bearing clearance so only the top or lower rollers bear the entire weight of the rotor and thus must be dimensioned relatively large. The present invention spreads the load on the support bearing to more rollers and to smaller faster running and thereby lighter generators. It has the rotor attached to the outer ring, each roller rotatably mounted to the nacelle and the inner ring free wheeling. The outer and inner rings are relatively stiffer than the rotatable fixation of the upper rollers to the nacelle, so that the upper rollers flex slightly down under the weight of the rotor allowing some of the force of gravity to be transferred to the inner ring and on to the bottom relatively stiff journalled rollers. Gear teeth can be used to transfer torque to all rollers, or the inner ring pressed against the side rollers, or the conical rollers can be pressed dynamically in between the outer and inner ring with relatively constant force. This is shown in FIGS. 1 and 6 in perspective and FIG. 2 and FIG. 3, in radial section. The relatively small roller shafts can now be used as PTO with gear ratio bearing diameter to roller diameter. The cost of the extra bearings for each roller is offset by savings in the usual center shaft and gear. Also, the friction from the edge of the outer or inner ring to keep the large rollers in place is missing. These benefits are especially important for wind turbines with heavy hub, axle and gear on a tall tower, and large wing rotor bearing clearance causing inappropriate vibrations of the long components. With no central hub shaft, gear and generator in the nacelle center there is space for force carrying structures as strong as the top of the tower to a point on the centre line of the rotor in front of it. To this a bearing for sustaining the varying moments of the wind can be affixed so the weight carrying bearing and gear unit can be designed cylindrical; or stays can be continued to other tower elements achieving a tower structure with significantly lower weight and higher natural frequency than usual wind moment influenced single column towers.', image=None, label='F03D', model_output=None, messages=None, model_type='claude3haiku', mode=1)\n"
     ]
    },
    {
     "name": "stderr",
     "output_type": "stream",
     "text": [
      "123it [00:42,  3.78it/s]"
     ]
    },
    {
     "name": "stdout",
     "output_type": "stream",
     "text": [
      "Output: F03D, Expected: F03D, Current Accuracy: 0.5409836065573771, Token Usage: 0\n",
      "PatentData(text='A method for extracting coalbed gas. A wellhead device delivers power fluid into a downhole power fluid pipe in a well shaft, and conveys the fluid to a pump in a pump cylinder connected with the downhole power fluid pipe. The pump sucks in formation fluid via a suction inlet, mixes the fluid with the power fluid to produce a mixed fluid, and conveys the mixed fluid to ground surface. The mixed fluid containing coal dust travels at a flow rate greater than a sedimentation rate of the coal dust, passes though the wellhead device, and flows to the ground surface, thereby preventing a sedimentation of the coal dust. The suction inlet of the pump reaches a lower boundary of a coalbed so as to prevent coal dust from burying the coalbed, and the coalbed gas automatically shoots through an annular space of a well shaft casing.', image=None, label='E21B', model_output=None, messages=None, model_type='claude3haiku', mode=1)\n",
      "Output: E21B, Expected: E21B, Current Accuracy: 0.5447154471544715, Token Usage: 0\n",
      "PatentData(text='The present invention relates to set comprising an apparatus (100) for folding or unfolding at least one medical implant (300) by means of at least one tension thread (11, 11′), wherein the apparatus (100) comprises a shaft (1) and a tensioning device for altering a form or shape of the foldable and/or unfoldable implant (300) by means of the tension thread (11, 11′). In at least one shaft section thereof, the shaft (1) comprises a plurality of individual shaft fibers (13).', image=None, label='A61F', model_output=None, messages=None, model_type='claude3haiku', mode=1)\n"
     ]
    },
    {
     "name": "stderr",
     "output_type": "stream",
     "text": [
      "124it [00:43,  3.49it/s]"
     ]
    },
    {
     "name": "stdout",
     "output_type": "stream",
     "text": [
      "Output: A61F2/00, Expected: A61F, Current Accuracy: 0.5483870967741935, Token Usage: 0\n",
      "PatentData(text='A mailbox assembly includes a replacement mailbox having an outer surface, a rib extending along the outer surface of the replacement mailbox, a notification device secured to a front end of the replacement mailbox. A method to replace a damaged mailbox includes providing a replacement mailbox having a geometric shape smaller than a geometric shape of the damaged mailbox, sliding the replacement mailbox within the damaged mailbox, and securing the replacement mailbox at a spaced distance within the damaged mailbox with a rib secured to an outer surface of the replacement mailbox.', image=None, label='A47G', model_output=None, messages=None, model_type='claude3haiku', mode=1)\n"
     ]
    },
    {
     "name": "stderr",
     "output_type": "stream",
     "text": [
      "125it [00:43,  3.45it/s]"
     ]
    },
    {
     "name": "stdout",
     "output_type": "stream",
     "text": [
      "Output: B65D, Expected: A47G, Current Accuracy: 0.544, Token Usage: 0\n",
      "PatentData(text='A cooking apparatus comprises a heated compartment to warm cooking media that may be packaged in metal containers or the like. The heater system includes at least one heater disposed at a location to heat the bottom of the unused cooking medium container. The heater system may also include at least one heater disposed at a location to heat at least one side of the unused cooking medium container. A cooking apparatus comprises at least one supply reservoir, a fluid motive device, various enclosed cooking medium conductors or lines, a three-way valve that introduces air for purging the lines, and a cooking medium receiving system.', image=None, label='A47J', model_output=None, messages=None, model_type='claude3haiku', mode=1)\n"
     ]
    },
    {
     "name": "stderr",
     "output_type": "stream",
     "text": [
      "126it [00:43,  3.01it/s]"
     ]
    },
    {
     "name": "stdout",
     "output_type": "stream",
     "text": [
      "Output: A47J, Expected: A47J, Current Accuracy: 0.5476190476190477, Token Usage: 0\n",
      "PatentData(text='A method of operating a turbine engine, the turbine engine having an inlet, a shaft, a turbine, a control system, a fuel system and a modular liquid fuel burner system having at least two interchangeable liquid burners and a liquid-fuel manifold. The control system controls a fuel supply via the liquid-fuel manifold to the burners dependent on demanded output power. The at least two interchangeable liquid fuel burners have different operating power output ranges and having at least a high power output liquid fuel burner and a low power output liquid fuel burner. The method of operating the turbine engine includes the steps of controlling a liquid fuel supply to the high power output burner for a high power output having a turbine entry temperature limit and controlling a liquid fuel supply to the low power output burner for a low power output having a liquid fuel manifold pressure limit.', image=None, label='F02C', model_output=None, messages=None, model_type='claude3haiku', mode=1)\n"
     ]
    },
    {
     "name": "stderr",
     "output_type": "stream",
     "text": [
      "127it [00:44,  3.20it/s]"
     ]
    },
    {
     "name": "stdout",
     "output_type": "stream",
     "text": [
      "Output: F02C, Expected: F02C, Current Accuracy: 0.5511811023622047, Token Usage: 0\n",
      "PatentData(text='Hydrogels and composite material containing hydrogels and liposomes dispersed therein, which exhibit a reduced friction coefficient compared to neat hydrogels or composites containing hydrogels, processes for preparing the same, and methods for using the same are disclosed.', image=None, label='A61L', model_output=None, messages=None, model_type='claude3haiku', mode=1)\n"
     ]
    },
    {
     "name": "stderr",
     "output_type": "stream",
     "text": [
      "128it [00:44,  3.16it/s]"
     ]
    },
    {
     "name": "stdout",
     "output_type": "stream",
     "text": [
      "Output: A61K9/127, Expected: A61L, Current Accuracy: 0.546875, Token Usage: 0\n",
      "PatentData(text='A method for performing reactive sputtering processes while maintaining the sputtering characteristic at: the target as well as the deposition rate constant, or at least in an acceptable range for the industrial production context, independent of the target age.', image=None, label='C23C', model_output=None, messages=None, model_type='claude3haiku', mode=1)\n"
     ]
    },
    {
     "name": "stderr",
     "output_type": "stream",
     "text": [
      "129it [00:44,  3.31it/s]"
     ]
    },
    {
     "name": "stdout",
     "output_type": "stream",
     "text": [
      "Output: E04B, Expected: C23C, Current Accuracy: 0.5426356589147286, Token Usage: 0\n",
      "PatentData(text='Recreational mobile structure for letting children play and for transporting and securing them while protecting them from falling objects, smoke and flames. The structure is also suitable to simultaneously fill the need of containing and entertaining children, as in a playpen, ensuring that they do not exit, and to store and transport toys.', image=None, label='B62B', model_output=None, messages=None, model_type='claude3haiku', mode=1)\n"
     ]
    },
    {
     "name": "stderr",
     "output_type": "stream",
     "text": [
      "130it [00:45,  2.29it/s]"
     ]
    },
    {
     "name": "stdout",
     "output_type": "stream",
     "text": [
      "Output: A47D, Expected: B62B, Current Accuracy: 0.5384615384615384, Token Usage: 0\n",
      "PatentData(text='A device for cooling a target, having a component that includes a cooling duct and having an additional thermally conductive plate that is detachably fastened to the cooling side of the component, the cooling side being the side on which the cooling duct exerts its cooling action, characterized in that between the additional thermally conductive plate and the cooling side of the component, a first self-adhesive carbon film is provided, which is extensively and self-adhesively glued to the one side of the additional thermally conductive plate that faces the cooling side.', image=None, label='H01J', model_output=None, messages=None, model_type='claude3haiku', mode=1)\n"
     ]
    },
    {
     "name": "stderr",
     "output_type": "stream",
     "text": [
      "131it [00:45,  2.41it/s]"
     ]
    },
    {
     "name": "stdout",
     "output_type": "stream",
     "text": [
      "Output: F28F, Expected: H01J, Current Accuracy: 0.5343511450381679, Token Usage: 0\n",
      "PatentData(text='It is an object of the present invention to provide a seal ring which has small oil leak and low torque generation performance for improving fuel consumption in a favorable balance as originally intended by the present invention. A seal ring (1) is mounted on an annular groove formed on one member consisting of either a housing having a shaft hole or a rotary shaft inserted into the shaft hole, contacts a surface of other member consisting of either the housing or the rotary shaft, and slidably contacts a side wall surface of the annular groove at a non-sealed fluid side thereof. V-shaped concave portions (3) which do not contact the side wall surface of the annular groove are formed on at least one portion of an end of an inner diameter side of a side surface (2) of the seal ring (1).', image=None, label='F16J', model_output=None, messages=None, model_type='claude3haiku', mode=1)\n"
     ]
    },
    {
     "name": "stderr",
     "output_type": "stream",
     "text": [
      "132it [00:46,  2.65it/s]"
     ]
    },
    {
     "name": "stdout",
     "output_type": "stream",
     "text": [
      "Output: F16J15/32, Expected: F16J, Current Accuracy: 0.5378787878787878, Token Usage: 0\n",
      "PatentData(text='A composite polymer composition comprising the emulsion polymerization product of: (i) an aqueous dispersion comprising the melt kneading product of one or more polyolefins, from 2 to 25 wt % of one or more dispersion stabilizing agents, water and optionally a neutralizing agent, and (ii) one or more (meth)acrylic monomers; wherein the one or more polyolefins have a Tg equal to or less than 50° C. and comprise from 0.5 to 100 wt % functionalized polyolefin; and wherein the melt kneading product (i) comprises polymer particles having a volume average particle size between 150 nm and 2000 nm dispersed in the water; and wherein the one or more (meth)acrylic monomers polymerize onto the polymer particles form composite polymer particles using an emulsion polymerization process is provided.', image=None, label='C08L', model_output=None, messages=None, model_type='claude3haiku', mode=1)\n"
     ]
    },
    {
     "name": "stderr",
     "output_type": "stream",
     "text": [
      "133it [00:46,  2.85it/s]"
     ]
    },
    {
     "name": "stdout",
     "output_type": "stream",
     "text": [
      "Output: C08L, Expected: C08L, Current Accuracy: 0.5413533834586466, Token Usage: 0\n",
      "PatentData(text='A composite polymer composition comprising: the emulsion polymerization product of: (i) an aqueous polyolefin dispersion comprising the melt kneading product of one or more polyolefins, from 2 to 25 wt % of one or more dispersion stabilizing agents and water, and (ii) one or more (meth)acrylic monomers; wherein the one or more polyolefins have a Tg equal to or less than 50° C.; and wherein the melt kneading product (i) comprises polymer particles having a volume average particle size between 150 nm and 2000 nm dispersed in the water; and wherein the one or more (meth)acrylic monomers polymerize onto the polymer particles form composite polymer particles is provided. Also provided is a method of making the composition and impact modifiers comprising the composition.', image=None, label='C08L', model_output=None, messages=None, model_type='claude3haiku', mode=1)\n"
     ]
    },
    {
     "name": "stderr",
     "output_type": "stream",
     "text": [
      "134it [00:46,  2.80it/s]"
     ]
    },
    {
     "name": "stdout",
     "output_type": "stream",
     "text": [
      "Output: C08F, Expected: C08L, Current Accuracy: 0.5373134328358209, Token Usage: 0\n",
      "PatentData(text='A method for coating workpieces includes the following steps: charging a coating chamber with the workpieces to be coated; closing and evacuating the coating chamber to a predetermined process pressure, starting a coating source, which comprises a target as a material source, whereby particles are accelerated from the surface of the target toward substrates, characterized in that until the target has been conditioned a shield is provided between the target surface and the substrate, wherein meanwhile the substrates to be coated are at least partially subjected to a pretreatment.', image=None, label='C23C', model_output=None, messages=None, model_type='claude3haiku', mode=1)\n"
     ]
    },
    {
     "name": "stderr",
     "output_type": "stream",
     "text": [
      "135it [00:47,  2.83it/s]"
     ]
    },
    {
     "name": "stdout",
     "output_type": "stream",
     "text": [
      "Output: C23C, Expected: C23C, Current Accuracy: 0.5407407407407407, Token Usage: 0\n",
      "PatentData(text='A computing system includes a plurality of processing circuits and a storage device. The processing circuits have at least a first processing circuit and a second processing circuit. The storage device is shared between at least the first processing circuit and the second processing circuit. The first processing circuit performs a whole cache flush operation to prepare exchange data in the storage device. The second processing circuit gets the exchange data from the storage device.', image=None, label='G06F', model_output=None, messages=None, model_type='claude3haiku', mode=1)\n"
     ]
    },
    {
     "name": "stderr",
     "output_type": "stream",
     "text": [
      "136it [00:47,  3.01it/s]"
     ]
    },
    {
     "name": "stdout",
     "output_type": "stream",
     "text": [
      "Output: G06F, Expected: G06F, Current Accuracy: 0.5441176470588235, Token Usage: 0\n",
      "PatentData(text='The present invention provides a method for manufacturing a quantum dot color filter. The method for manufacturing a quantum dot color filter of the present invention, after forming a blue sub-pixel part of a quantum dot color filter by applying a photolithographic operation to a transparent organic photoresist material, applies hydrophobicity treatment to the transparent organic photoresist layer so as to make use of hydrophobic characteristics so formed to help coat green quantum dot curable paste and red quantum dot photoresist sequentially on corresponding areas to form, in sequence, a green quantum dot curable paste layer and a red quantum dot photoresist layer located thereon, and then applies photolithographic operations to subject portions of the red quantum dot photoresist layer to etching for forming a green sub-pixel part and a red sub-pixel part of the quantum dot color filter, whereby compared to the conventional ways of manufacturing a quantum dot color filter, at least one round of photolithographic operation can be saved to greatly simplify the manufacturing process, reduce cost, and improve manufacturing efficiency, and it only needs to develop one type of quantum dot photoresist so as to greatly reduce difficulty and cost of development.', image=None, label='G03F', model_output=None, messages=None, model_type='claude3haiku', mode=1)\n"
     ]
    },
    {
     "name": "stderr",
     "output_type": "stream",
     "text": [
      "137it [00:47,  3.05it/s]"
     ]
    },
    {
     "name": "stdout",
     "output_type": "stream",
     "text": [
      "Output: H01L, Expected: G03F, Current Accuracy: 0.5401459854014599, Token Usage: 0\n",
      "PatentData(text='The present invention relates to novel brazing filler metals comprising copper, silver, zinc, manganese and at least one metal selected from the group indium, gallium and tin, the brazing filler metal is free from cadmium and phosphorus, aside from unavoidable impurities, comprising copper, from 15.5 weight percent to 49 weight percent silver, from 10 weight percent to 35 weight percent zinc, from 6 weight percent to 19 weight percent manganese, from 0.1 weight percent to 5 weight percent of at least one metal selected from the group consisting of Indium, Gallium, Tin and combinations thereof, the balance being copper and unavoidable impurities, with the proviso that if the silver content is from 35 weight percent to 49 weight percent, the manganese content is more than 8 weight percent. The present invention further relates to a sandwich brazing filler metal, Use of the brazing filler metal, and a combination of a brazing filler metal with a flux and a method for joining metal parts by brazing, a brazed article.', image=None, label='B23K', model_output=None, messages=None, model_type='claude3haiku', mode=1)\n"
     ]
    },
    {
     "name": "stderr",
     "output_type": "stream",
     "text": [
      "138it [00:47,  3.30it/s]"
     ]
    },
    {
     "name": "stdout",
     "output_type": "stream",
     "text": [
      "Output: B23K, Expected: B23K, Current Accuracy: 0.5434782608695652, Token Usage: 0\n",
      "PatentData(text='The subject of the invention is a device for dispensing a cosmetic composition, comprising a dispensing head (1) intended to be fitted on a container containing said cosmetic composition to be dispensed, (i) the dispensing head comprising: a body (3) that is open at its two opposite axial ends, an engaging part (10) that is open at its two opposite axial ends and at least partially defines at least one dispensing orifice (12), the cross section of the dispensing orifice being between 0.05 mm2 and 0.5 mm2, (ii) the anhydrous cosmetic composition comprising, in a cosmetically acceptable medium, at least one oily phase comprising one or more oils chosen from silicone oils, hydrocarbon-based oils and fluoro oils, at least one cosmetic active agent, in particular at least one deodorant active agent and/or antiperspirant active agent.', image=None, label='B65D', model_output=None, messages=None, model_type='claude3haiku', mode=1)\n"
     ]
    },
    {
     "name": "stderr",
     "output_type": "stream",
     "text": [
      "139it [00:48,  3.01it/s]"
     ]
    },
    {
     "name": "stdout",
     "output_type": "stream",
     "text": [
      "Output: A61K, Expected: B65D, Current Accuracy: 0.539568345323741, Token Usage: 0\n",
      "PatentData(text='The present invention provides a photoresist composition and a color filter manufacturing method. The photoresist composition of the present invention includes a first solvent, a second solvent, a photo initiator, a monomer, a polymer, an additive, and a pigment. After heating, phase separation occurs between the first solvent and the second solvent. After the phase separation, the first solvent is located above the second solvent. At least one of the photo initiator, the monomer, the polymer, and the additive has solubility in the second solvent that is higher than that in the first solvent so as to alleviate the wrinkling issue caused by different degrees of solidification between upper and lower layers of the photoresist during a manufacturing process of a color filter.', image=None, label='G03F', model_output=None, messages=None, model_type='claude3haiku', mode=1)\n"
     ]
    },
    {
     "name": "stderr",
     "output_type": "stream",
     "text": [
      "140it [00:48,  2.83it/s]"
     ]
    },
    {
     "name": "stdout",
     "output_type": "stream",
     "text": [
      "Output: G03F7/09, Expected: G03F, Current Accuracy: 0.5428571428571428, Token Usage: 0\n",
      "PatentData(text='The subject of the invention is a device for dispensing a cosmetic composition, comprising a dispensing head (1) intended to be fitted on a container containing said cosmetic composition to be dispensed, (i) the dispensing head comprising: a body (3) that is open at its two opposite axial ends, an engaging part (10) that is open at its two opposite axial ends and at least partially defines at least one dispensing orifice (12), the individual cross section of the dispensing orifice being between 0.03 mm2 and 0.5 mm2, and (ii) the cosmetic composition comprising, in a cosmetically acceptable medium, at least one emulsion chosen from a water-in-oil emulsion and an oil-in-water emulsion, at least one cosmetic active agent, in particular at least one deodorant active agent and/or antiperspirant active agent.', image=None, label='A45D', model_output=None, messages=None, model_type='claude3haiku', mode=1)\n"
     ]
    },
    {
     "name": "stderr",
     "output_type": "stream",
     "text": [
      "141it [00:49,  2.87it/s]"
     ]
    },
    {
     "name": "stdout",
     "output_type": "stream",
     "text": [
      "Output: A47K, Expected: A45D, Current Accuracy: 0.5390070921985816, Token Usage: 0\n",
      "PatentData(text='The subject of the invention is a device for dispensing a cosmetic composition, said device comprising a dispensing head (1) intended to be fitted on a container containing said cosmetic composition to be dispensed, (i) the dispensing head comprising: a body (3) that is open at its two opposite axial ends, an engaging part (10) that is open at its two opposite axial ends and at least partially defines a dispensing orifice (12), and (ii) the cosmetic composition comprising, in a cosmetically acceptable medium, at least one cosmetic active agent, in particular at least one deodorant active agent and/or antiperspirant active agent, at least one C1 to C5 alcohol, at least one propellant, the concentration of propellant being between 60% and 90% by weight with respect to the total weight of the pressurized composition.', image=None, label='B65D', model_output=None, messages=None, model_type='claude3haiku', mode=1)\n"
     ]
    },
    {
     "name": "stderr",
     "output_type": "stream",
     "text": [
      "142it [00:49,  2.98it/s]"
     ]
    },
    {
     "name": "stdout",
     "output_type": "stream",
     "text": [
      "Output: A47K, Expected: B65D, Current Accuracy: 0.5352112676056338, Token Usage: 0\n",
      "PatentData(text='The present invention relates to a band-rejection filter comprising, on a substrate with a ground plane, three printed line sections or “stubs” open circuit at one of their extremities, called first extremities, and first and second printed transmission lines connected in series between an input terminal and an output terminal and connecting between each other the other extremities, called second extremities, said stubs, each of said first and second transmission lines being inserted between the second extremities of two stubs, said stubs being dimensioned to reject a first frequency band. According to the invention, an open circuit stub is inserted in at least one of said first and second printed transmission lines to reject a second frequency band.', image=None, label='H01P', model_output=None, messages=None, model_type='claude3haiku', mode=1)\n"
     ]
    },
    {
     "name": "stderr",
     "output_type": "stream",
     "text": [
      "143it [00:49,  2.95it/s]"
     ]
    },
    {
     "name": "stdout",
     "output_type": "stream",
     "text": [
      "Output: H01P1/20, Expected: H01P, Current Accuracy: 0.5384615384615384, Token Usage: 0\n",
      "PatentData(text='The present invention relates to a tablet capable of sensing a location using electromagnetic induction and electrostatic capacitance. The tablet comprises: a loop antenna, having a closed-loop shape for surrounding a sensing area, capable of sensing an electromagnetic wave emitted from an electronic pen; a first line antenna provided with a plurality of first conductive patterns, both ends of each of the plurality of first conductive patterns being located on one side of the first line antenna; a second line antenna provided with a plurality of second conductive patterns which cross the plurality of first conductive patterns in the sensing area, both ends of each of the plurality of second conductive patterns being located on the side on which the both ends of each of the plurality of first conductive patterns are located; and a control circuit for sensing a location using electromagnetic induction and electrostatic capacitance by controlling a connection relation between the plurality of first conductive patterns and the plurality of second conductive patterns. Accordingly, it is possible to selectively recognize the manipulation of the electronic pen and the touch of a finger with the same antenna pattern.', image=None, label='G06F', model_output=None, messages=None, model_type='claude3haiku', mode=1)\n"
     ]
    },
    {
     "name": "stderr",
     "output_type": "stream",
     "text": [
      "144it [00:49,  3.18it/s]"
     ]
    },
    {
     "name": "stdout",
     "output_type": "stream",
     "text": [
      "Output: G06F3/03, Expected: G06F, Current Accuracy: 0.5416666666666666, Token Usage: 0\n",
      "PatentData(text='A projection display component of an electronic device includes a carrier and a first cover. The carrier is arranged to carry the electronic device. The first cover is arranged to partially reflect a projected image from the electronic device. The first cover is attached to the carrier via a first hinge set.', image=None, label='H04N', model_output=None, messages=None, model_type='claude3haiku', mode=1)\n"
     ]
    },
    {
     "name": "stderr",
     "output_type": "stream",
     "text": [
      "145it [00:50,  3.04it/s]"
     ]
    },
    {
     "name": "stdout",
     "output_type": "stream",
     "text": [
      "Output: A61B5/00, Expected: H04N, Current Accuracy: 0.5379310344827586, Token Usage: 0\n",
      "PatentData(text='An aluminum alloy brazing sheet which is thin but has excellent weldability and post-brazing strength. An aluminum alloy brazing sheet having a core material comprising an aluminum alloy, an Al—Si based brazing filler metal clad on one surface of the core material and a sacrificial anode material clad on the other surface of the core material: wherein the core material comprises certain amounts of Si, Fe, Cu and Mn and certain amounts of one, two or more selected from Ti, Zr, Cr and V; the sacrificial anode material comprises certain amounts of Si, Fe, Mg and Zn; in a cross section parallel to the longitudinal direction and along the thickness direction, the interface between the core material and the sacrificial anode material includes 300 pieces/mm or less of an Al—Mg—Cu based intermetallic compound; and the core material and the sacrificial anode material have an unrecrystallized structure.', image=None, label='F28F', model_output=None, messages=None, model_type='claude3haiku', mode=1)\n"
     ]
    },
    {
     "name": "stderr",
     "output_type": "stream",
     "text": [
      "146it [00:50,  3.11it/s]"
     ]
    },
    {
     "name": "stdout",
     "output_type": "stream",
     "text": [
      "Output: C22C, Expected: F28F, Current Accuracy: 0.5342465753424658, Token Usage: 0\n",
      "PatentData(text='A pneumatic tire includes plural land portions that are provided at a tread and that are partitioned by plural circumferential direction grooves that extend along a tire circumferential direction. A lug groove is provided at at least one land portion among the plural land portions and crosses the land portion in a tire width direction. A fine groove is provided at a groove bottom portion of the lug groove, has a narrower groove width than the lug groove, and has a groove bottom face formed with a circular arc shaped profile when viewed in cross-section at right angles to a groove length direction. A coupling curved face joins the groove bottom face and a groove side face at a length direction end portion of the fine groove, to a groove side face of the circumferential direction grooves.', image=None, label='B60C', model_output=None, messages=None, model_type='claude3haiku', mode=1)\n"
     ]
    },
    {
     "name": "stderr",
     "output_type": "stream",
     "text": [
      "147it [00:51,  2.92it/s]"
     ]
    },
    {
     "name": "stdout",
     "output_type": "stream",
     "text": [
      "Output: B60C011/11, Expected: B60C, Current Accuracy: 0.5374149659863946, Token Usage: 0\n",
      "PatentData(text='A forward and backward speed adjusting handle for an electric vehicle includes a bar handle, a fixing element formed by a handle seat, and a twist grip. A leftward rotation spring and a rightward rotation spring are provided between the fixing element and the twist grip. The leftward rotation spring drives the twist grip to rotate counter-clockwise relative to the bar handle; the rightward rotation spring drives the twist grip to rotate clockwise relative to the bar handle. Under a common effect of the two springs, the twist grip is at an idle position. When the twist grip is applied with an external force, the twist grip is rotated away from the idle position. A Hall-effect sensor and an arc permanent magnet are respectively provided on the twist grip and the fixing element. When the twist grip is rotated, the Hall-effect sensor moves relative to the arc permanent magnet.', image=None, label='B62K', model_output=None, messages=None, model_type='claude3haiku', mode=1)\n"
     ]
    },
    {
     "name": "stderr",
     "output_type": "stream",
     "text": [
      "148it [00:51,  2.84it/s]"
     ]
    },
    {
     "name": "stdout",
     "output_type": "stream",
     "text": [
      "Output: B60K, Expected: B62K, Current Accuracy: 0.5337837837837838, Token Usage: 0\n",
      "PatentData(text='A liquid crystal composition satisfying at least one of characteristics such as a high maximum temperature of nematic phase, a low minimum temperature of nematic phase, small viscosity, suitable optical anisotropy, large dielectric anisotropy, large specific resistance, and high stability to UV light and heat, or having a suitable balance regarding at least two thereof, and an AM device including the composition and having a short response time, a large voltage holding ratio, a large contrast ratio or a long service life are shown. The composition has the nematic phase and contains a specific compound having large dielectric anisotropy as a first component, a specific compound having small viscosity as a second component, and may contain a specific compound having a high maximum temperature or small viscosity as a third component and a specific compound having large dielectric anisotropy as a fourth component. The LCD device includes the composition.', image=None, label='C09K', model_output=None, messages=None, model_type='claude3haiku', mode=1)\n"
     ]
    },
    {
     "name": "stderr",
     "output_type": "stream",
     "text": [
      "149it [00:51,  3.02it/s]"
     ]
    },
    {
     "name": "stdout",
     "output_type": "stream",
     "text": [
      "Output: C09K19/52, Expected: C09K, Current Accuracy: 0.5369127516778524, Token Usage: 0\n",
      "PatentData(text='A memory pool management method includes: allocating a plurality of memory pools in a memory device according to information about a plurality of computing units, wherein the computing units are independently executed on a same processor; and assigning one of the memory pools to one of the computing units, wherein at least one of the memory pools is shared among different computing units of the computing units.', image=None, label='G06F', model_output=None, messages=None, model_type='claude3haiku', mode=1)\n"
     ]
    },
    {
     "name": "stderr",
     "output_type": "stream",
     "text": [
      "150it [00:51,  3.08it/s]"
     ]
    },
    {
     "name": "stdout",
     "output_type": "stream",
     "text": [
      "Output: A61B, Expected: G06F, Current Accuracy: 0.5333333333333333, Token Usage: 0\n",
      "PatentData(text='A jewelry system with interchangeable decorative segments is provided. The jewelry system includes a plurality of decorative segments, each such segment having a center aperture that extends through the segment along a vertical axis in the center of the segment from a top surface to a bottom surface. The jewelry system also includes a central rod for receiving one or more segments, the rod including a stopper at the lower end to support the received segments and an eyelet at the upper end to receive a chain which when received, prevents the received segments from slipping off the top part of the rod while also facilitating the jewelry to be worn.', image=None, label='A44C', model_output=None, messages=None, model_type='claude3haiku', mode=1)\n"
     ]
    },
    {
     "name": "stderr",
     "output_type": "stream",
     "text": [
      "151it [00:52,  3.37it/s]"
     ]
    },
    {
     "name": "stdout",
     "output_type": "stream",
     "text": [
      "Output: A44C, Expected: A44C, Current Accuracy: 0.5364238410596026, Token Usage: 0\n",
      "PatentData(text='The invention relates to a fabric comprising at least one weft thread and at least one warp thread, wherein the fabric exhibits a polymer layer on at least one surface, characterized in that the diameter of the weft thread is larger than the diameter of the warp thread, the use of this fabric, as well as a process for the production thereof.', image=None, label='B08B', model_output=None, messages=None, model_type='claude3haiku', mode=1)\n"
     ]
    },
    {
     "name": "stderr",
     "output_type": "stream",
     "text": [
      "152it [00:52,  3.55it/s]"
     ]
    },
    {
     "name": "stdout",
     "output_type": "stream",
     "text": [
      "Output: D06N, Expected: B08B, Current Accuracy: 0.5328947368421053, Token Usage: 0\n",
      "PatentData(text='An electronic cigarette case, comprising a case body (2) and a case cover (1) movably connected to the case body (2), also comprising a flexible structure (3). One end of the flexible structure (3) is connected to the case body (2), while the other end is connected to the case cover (1). When opening the case cover (1), the flexible structure (3) undergoes a first elastic deformation along a moving direction of the case cover (1) relative to the case body (2). When closing the case cover (1), the flexible structure (3) undergoes a second elastic deformation in a direction opposite to the moving direction in which the first elastic deformation occurs. The electronic cigarette case is structurally simple and low-cost.', image=None, label='A24F', model_output=None, messages=None, model_type='claude3haiku', mode=1)\n"
     ]
    },
    {
     "name": "stderr",
     "output_type": "stream",
     "text": [
      "153it [00:52,  3.27it/s]"
     ]
    },
    {
     "name": "stdout",
     "output_type": "stream",
     "text": [
      "Output: A61M15/06, Expected: A24F, Current Accuracy: 0.5294117647058824, Token Usage: 0\n",
      "PatentData(text='Rotary indexing device for manufacturing packaging tubes, comprising an indexing turntable (3) mounted in a rotary manner about an axis (9), and mandrels (4) and respective supports (14) secured to said turntable (3) and disposed radially with respect to said axis (9); radial actuating means (10, 11) for moving the mandrels (4) in a direction perpendicular to said axis (9) and linear guide means (13) for moving the mandrels (4) in a direction perpendicular to said axis (9); characterized in that the mandrels and respective supports (14), the radial actuating means (10, 11) and the linear guide means (13) are disposed in a direction parallel to said axis (9).', image=None, label='B29C', model_output=None, messages=None, model_type='claude3haiku', mode=1)\n"
     ]
    },
    {
     "name": "stderr",
     "output_type": "stream",
     "text": [
      "154it [00:53,  2.59it/s]"
     ]
    },
    {
     "name": "stdout",
     "output_type": "stream",
     "text": [
      "Output: B65B, Expected: B29C, Current Accuracy: 0.525974025974026, Token Usage: 0\n",
      "PatentData(text='An electromagnetic actuating apparatus with two armature means which are designed to exert an actuating force on two tappet units which are extended in the longitudinal direction along a longitudinal movement axis and are guided such that they can be moved in a parallel manner in a common guide section of a housing which accommodates the armature means, wherein the tappet units each have an engagement end which is designed to interact with an actuating groove in a motor vehicle motor adjustment system and projects from the guide section at least in an engaged state, and the common guide section forms a guide end surface in which guide openings associated with the two tappet units, are open, wherein a connecting path which runs through centre axes of the only two guide openings in the guide end surface forms an offset (v) from a surface centre point of the guide end surface and/or from a surface centre point of a housing end surface of the housing, wherein the surface centre point lies on a perpendicular bisector of the connecting path.', image=None, label='F01L', model_output=None, messages=None, model_type='claude3haiku', mode=1)\n"
     ]
    },
    {
     "name": "stderr",
     "output_type": "stream",
     "text": [
      "155it [00:53,  2.80it/s]"
     ]
    },
    {
     "name": "stdout",
     "output_type": "stream",
     "text": [
      "Output: H01H, Expected: F01L, Current Accuracy: 0.5225806451612903, Token Usage: 0\n",
      "PatentData(text='A programming device creating a program in FBD language describing processes by connecting FBD parts on an editor screen, includes: a part information managing unit managing size information indicating a size of an FBD part; a recommended order determining unit acquiring, when operation to newly arrange an FBD part relative to an already-arranged FBD part on the editor screen is performed, size information on the already-arranged FBD part and size information on the FBD part to be newly arranged, from the part information managing unit, detecting regions where the FBD part to be newly arranged can be arranged based on the acquired size information, and determining a recommended priority order of part arrangement among the regions based on positions of the detected regions; and an editor unit displaying the recommended priority order determined by the recommended order determining unit in the regions.', image=None, label='G06F', model_output=None, messages=None, model_type='claude3haiku', mode=1)\n"
     ]
    },
    {
     "name": "stderr",
     "output_type": "stream",
     "text": [
      "156it [00:53,  3.07it/s]"
     ]
    },
    {
     "name": "stdout",
     "output_type": "stream",
     "text": [
      "Output: G06F, Expected: G06F, Current Accuracy: 0.5256410256410257, Token Usage: 0\n",
      "PatentData(text='A parenteral vial, stopper and cap assembly comprises a vial having a body defining an interior, and an opening leading to the interior. The assembly further comprises a stopper configured to sealingly engage the opening, a cap configured to cover the opening and the stopper. The stopper and the cap fit together to form an integral unit configured to cap the vial. The cap moves with respect to the vial between a partially engaged position that permits gas flow out from the vial interior, and a fully engaged position in which the stopper sealingly engages the opening.', image=None, label='A61J', model_output=None, messages=None, model_type='claude3haiku', mode=1)\n"
     ]
    },
    {
     "name": "stderr",
     "output_type": "stream",
     "text": [
      "157it [00:54,  2.95it/s]"
     ]
    },
    {
     "name": "stdout",
     "output_type": "stream",
     "text": [
      "Output: A61J1/20, Expected: A61J, Current Accuracy: 0.5286624203821656, Token Usage: 0\n",
      "PatentData(text='Many internet of things (IoT) are “sleepy” and thus occasionally go into a sleep mode. As described herein, nodes in a connected network of nodes may determine that other nodes in the network are sleepy. Further, nodes, such as endpoint devices and routers for example, may process packets in the network based on a reachability state of their neighboring nodes.', image=None, label='H04W', model_output=None, messages=None, model_type='claude3haiku', mode=1)\n"
     ]
    },
    {
     "name": "stderr",
     "output_type": "stream",
     "text": [
      "158it [00:54,  2.43it/s]"
     ]
    },
    {
     "name": "stdout",
     "output_type": "stream",
     "text": [
      "Output: H04W52/02, Expected: H04W, Current Accuracy: 0.5316455696202531, Token Usage: 0\n",
      "PatentData(text='A system for preparing recipes with components coming from closed containers (S1-S5) provides for using one or more robotic units (1), each of which withdraws a selected container, arranging a plurality of hoppers (7.1-7.5), in each of which the withdrawn selected container is inserted by the robotic unit (1), and in each of which the container is automatically opened for loading the component into the hopper (7), discharging a preset component dose from each hopper (7), and collecting the dosed components for preparing the required recipe; a driving and control unit (15) provides for driving and controlling all of these operations as a function of the required recipe. Thereby, an automatic system for preparing recipes is achieved, which is fast, with a low processing cost, and free from risks related to the processing.', image=None, label='B01F', model_output=None, messages=None, model_type='claude3haiku', mode=1)\n"
     ]
    },
    {
     "name": "stderr",
     "output_type": "stream",
     "text": [
      "159it [00:55,  2.67it/s]"
     ]
    },
    {
     "name": "stdout",
     "output_type": "stream",
     "text": [
      "Output: A47J, Expected: B01F, Current Accuracy: 0.5283018867924528, Token Usage: 0\n",
      "PatentData(text='The present invention relates to sample holders for holding a sample, particularly for an atomic force microscope. Such a sample holder comprising a sample dish (1) comprising a bottom (2), and an opening (3) arranged in said bottom (2) for receiving and holding the sample (15). Furthermore the present invention relates to a sample holder system and to a method for transferring an e.g. biological sample (15) from a biopsy tool (18) to a sample holder.', image=None, label='G01Q', model_output=None, messages=None, model_type='claude3haiku', mode=1)\n"
     ]
    },
    {
     "name": "stderr",
     "output_type": "stream",
     "text": [
      "160it [00:55,  2.43it/s]"
     ]
    },
    {
     "name": "stdout",
     "output_type": "stream",
     "text": [
      "Output: G01Q, Expected: G01Q, Current Accuracy: 0.53125, Token Usage: 0\n",
      "PatentData(text='The problem to be solved by the present invention is to provide a polyester resin excellent in various properties wherein the film formability is good, film fracture (hairs) and scraping (galling) are not easily generated in the drawing/ironing process when applied to a metal-sheet-coating polyester film, the film surface is not damaged when used as the inner-surface film for a metallic can, and the metallic can is hardly corroded (dent resistance), by dropping or external impact (denting), after a product is made by enclosing contents into the can. The copolyester resin of the present invention is characterized by comprising, as the constituent units, 50 to 93 mass % of (A) ester oligomer with the number-average molecular weight of 700 or lower and consisting of a dicarboxylic acid unit (a1) containing 70 mole % or more of the terephthalic acid component and a diol unit (a2) containing 70 mole % or more of the ethylene glycol component; and 7 to 50 mass % of (B) polyester polyol with the number-average molecular weight of 1500 to 3000 and consisting of a hydrogenated dimer acid unit (b1) and a 1,4-butanediol unit (b2).', image=None, label='C09D', model_output=None, messages=None, model_type='claude3haiku', mode=1)\n"
     ]
    },
    {
     "name": "stderr",
     "output_type": "stream",
     "text": [
      "161it [00:55,  2.61it/s]"
     ]
    },
    {
     "name": "stdout",
     "output_type": "stream",
     "text": [
      "Output: C08G, Expected: C09D, Current Accuracy: 0.5279503105590062, Token Usage: 0\n",
      "PatentData(text='The invention relates to a carburetor assembly (10) for a two-stroke internal combustion engine, the assembly comprising a main intake passage (12) accommodating a throttle valve (30), an additional air passage (14) accommodating an additional air valve (50), a pivotable air valve lever (55) turning together with the air valve (50), and an interlock lever (35) turning together with the throttle valve (30). The interlock lever (35) is configured to be settable in an interlocked pivotal position, in which the throttle valve (30) is open to a certain degree in order to provide a start gas position of the throttle valve (30), wherein the interlock is arranged to be released if the interlock lever (35) is pivoted further in the opening direction of the throttle valve (30). The assembly further comprising a pivotable trigger lever (45) responsive to e.g. pulling of a throttle trigger and being operatively connected to the air valve lever (55). The pivotable trigger lever (45) is operatively connectable to the interlock lever (35) or a member that moves with the interlock lever (35) via an abutting engagement at predetermined relative positions of the trigger lever (45) and the interlock lever (35). Further, the trigger lever (45) is arranged to permit the interlock lever (35) to pivot away from the abutting engagement in the opening direction of the throttle valve (30) at least to an offset angle ( ) relative to the trigger lever (45), such that the interlocked lever (35) can be set in the interlocked position without affecting the pivotal position of the trigger lever (45).', image=None, label='F02M', model_output=None, messages=None, model_type='claude3haiku', mode=1)\n"
     ]
    },
    {
     "name": "stderr",
     "output_type": "stream",
     "text": [
      "162it [00:56,  2.71it/s]"
     ]
    },
    {
     "name": "stdout",
     "output_type": "stream",
     "text": [
      "Output: F02M, Expected: F02M, Current Accuracy: 0.5308641975308642, Token Usage: 0\n",
      "PatentData(text='One variation may include a method of controlling exhaust gas flow in an internal combustion engine system, and products and systems using same.', image=None, label='F01N', model_output=None, messages=None, model_type='claude3haiku', mode=1)\n"
     ]
    },
    {
     "name": "stderr",
     "output_type": "stream",
     "text": [
      "163it [00:56,  2.88it/s]"
     ]
    },
    {
     "name": "stdout",
     "output_type": "stream",
     "text": [
      "Output: B60K, Expected: F01N, Current Accuracy: 0.5276073619631901, Token Usage: 0\n",
      "PatentData(text='Methods and apparatus for connecting a user equipment to at least one of a plurality of radio access networks. Retrieving charging data for a subscription of a user of the telecommunications network. Transmitting the charging data to one or more of the user equipment and a radio access network node of the one or more of the plurality of radio access networks. Selecting, at least partially, at least one of the plurality of radio access networks based on one or more of: the charging data received from the core network node and selection data received from the user equipment and relating to a selection of one of the plurality of radio access networks by the user equipment. Connecting the user equipment to at least one of the plurality of radio access nodes, the connection being based at least partly on the selection made by the radio access network selector of the radio access network node.', image=None, label='H04W', model_output=None, messages=None, model_type='claude3haiku', mode=1)\n"
     ]
    },
    {
     "name": "stderr",
     "output_type": "stream",
     "text": [
      "164it [00:57,  2.76it/s]"
     ]
    },
    {
     "name": "stdout",
     "output_type": "stream",
     "text": [
      "Output: H04W48/18, Expected: H04W, Current Accuracy: 0.5304878048780488, Token Usage: 0\n",
      "PatentData(text='In a programmable controller system, a program display device includes: a command name conversion table; a second conversion unit that receives a program list from a programmable controller and converts a command number described in the program list into a command name on the basis of a command name conversion table; a non-corresponding command name acquisition unit that acquires a command name corresponding to a non-corresponding command number among the command numbers described in the program list on the basis of an additional command information table; and a display unit that displays the command name converted by the second conversion unit and the command name acquired by the non-corresponding command name acquisition unit.', image=None, label='G05B', model_output=None, messages=None, model_type='claude3haiku', mode=1)\n"
     ]
    },
    {
     "name": "stderr",
     "output_type": "stream",
     "text": [
      "165it [00:57,  2.97it/s]"
     ]
    },
    {
     "name": "stdout",
     "output_type": "stream",
     "text": [
      "Output: G05B, Expected: G05B, Current Accuracy: 0.5333333333333333, Token Usage: 0\n",
      "PatentData(text='The present invention relates to a unit and a method for energy regulation of an electrical production and consumption system as well as such a system. The regulating unit (1) comprises means for storing a plurality of estimated mean production and/or consumption values, means for decoding the instantaneous productions and/or consumption thus measured, processing means for calculating the average instantaneous productions and/or consumption measured per given time period, calculating and recording the deviation between each instantaneous average production or consumption thus calculated and each estimated production or consumption value, and formulating/generating and revising an estimated and previously recorded production and/or consumption value, as well as means for driving the system regulation means according to a function whose parameters comprise the production and/or consumption values estimated for the current given time period.', image=None, label='G05F', model_output=None, messages=None, model_type='claude3haiku', mode=1)\n"
     ]
    },
    {
     "name": "stderr",
     "output_type": "stream",
     "text": [
      "166it [00:57,  3.04it/s]"
     ]
    },
    {
     "name": "stdout",
     "output_type": "stream",
     "text": [
      "Output: H02J, Expected: G05F, Current Accuracy: 0.5301204819277109, Token Usage: 0\n",
      "PatentData(text='The present invention relates to novel alternative splice transcripts (AST) for MICA (MHC class I related chain alpha) encoding novel MICA protein isoforms and uses thereof. In particular, the present invention relates to an isolated polypeptide at least 80% of identity with a sequence selected from the group consisting of SEQ ID NO:1 (MICA-A), SEQ ID NO:2 (MICA-B1), SEQ ID NO:3 (MICA-B2); SEQ ID NO:4 (MICA-C) and SEQ ID NO: (MICA-D).', image=None, label='C07K', model_output=None, messages=None, model_type='claude3haiku', mode=1)\n"
     ]
    },
    {
     "name": "stderr",
     "output_type": "stream",
     "text": [
      "167it [00:57,  3.16it/s]"
     ]
    },
    {
     "name": "stdout",
     "output_type": "stream",
     "text": [
      "Output: C07K14/705, Expected: C07K, Current Accuracy: 0.5329341317365269, Token Usage: 0\n",
      "PatentData(text='Personal cleansers and surfactant blends useful therein are disclosed. The cleansers comprise a primary anionic surfactant, a saturated C8-C-14 alkyl N,N-dialkylamide, and water. The cleansers have good foaming properties and improved viscosity build profiles compared with cleansers that rely on alkanolamides or betaines as the secondary surfactant. The saturated C8-C14 alkyl N,N-dialkylamides are water-white liquids that solubilize cleanser components well, including high levels of fragrances, and can be formulated easily without heating at any actives level up to 100%. Importantly, the surfactant blends build viscosity with less added salt compared with alkanolamide or betaine-based blends, even with more challenging anionic surfactants. Moisturizing cleansers disclosed herein have excellent flash foaming character, foam volume, and foam feel and provide a luxurious, lotion-like after-feel. The personal cleansers include, among others, shampoos, body washes, facial cleansers, shower gels, liquid soaps, hand soaps, baby liquid cleansers, pet shampoos, and bubble baths. The fatty N,N-dialkylamides are also valuable for formulating oil-in-water emulsions with good stability.', image=None, label='A61K', model_output=None, messages=None, model_type='claude3haiku', mode=1)\n"
     ]
    },
    {
     "name": "stderr",
     "output_type": "stream",
     "text": [
      "168it [00:58,  3.31it/s]"
     ]
    },
    {
     "name": "stdout",
     "output_type": "stream",
     "text": [
      "Output: A61K, Expected: A61K, Current Accuracy: 0.5357142857142857, Token Usage: 0\n",
      "PatentData(text='A display device, a reflective display panel and the reflective unit are disclosed. The reflective display panel includes a top substrate unit; a down substrate unit opposite to the top substrate unit; a liquid crystal layer arranged between the top substrate unit and the down substrate unit; a mirror reflective layer arranged at an inner side of the down substrate unit; a color-film polarizer unit arranged at an outer side of the top substrate unit; and wherein external light beams are reflected by the mirror reflective layer and pass through the color-film polarizer unit to generate diffused reflection effect. Compared to conventional technology, the cost of the mask may be reduced and the manufacturing process may be simplified. In this way, the defects are avoided and the reflection performance is enhanced.', image=None, label='G02F', model_output=None, messages=None, model_type='claude3haiku', mode=1)\n"
     ]
    },
    {
     "name": "stderr",
     "output_type": "stream",
     "text": [
      "169it [00:58,  3.18it/s]"
     ]
    },
    {
     "name": "stdout",
     "output_type": "stream",
     "text": [
      "Output: G02F1/13, Expected: G02F, Current Accuracy: 0.5384615384615384, Token Usage: 0\n",
      "PatentData(text='A control method for an electrical hair removal device, the electrical hair removal device including a heat generator having a heating wire formed thereon, including the steps of step S11: starting the electrical hair removal device and letting it go into a standby state; step S12: placing the heat generator on an hair removal needed area; and step S13: electrifying the heating wire to a predetermined temperature, for realizing hair removal with a constant heating temperature. An electrical hair removal device includes a main body and a cover for accommodating the main body. The main body has a heat generator having a heating wire thereon, a supporting element and a printed circuit board (PCB). The heating wire is electrically connected to the PCB, which is electrified and heated to a predetermined temperature, for realizing hair removal with a constant heating temperature.', image=None, label='A45D', model_output=None, messages=None, model_type='claude3haiku', mode=1)\n"
     ]
    },
    {
     "name": "stderr",
     "output_type": "stream",
     "text": [
      "170it [00:58,  2.88it/s]"
     ]
    },
    {
     "name": "stdout",
     "output_type": "stream",
     "text": [
      "Output: A45D, Expected: A45D, Current Accuracy: 0.5411764705882353, Token Usage: 0\n",
      "PatentData(text='Methods of compensating for source signature effects in seismic data are described. One method includes a step of receiving seismic data recorded with a receiver; a step of receiving source data of the seismic waves generated by the moving source; a step of receiving position data of the source while generating the seismic waves; a step of determining a transform operator using the source data, the position data, and a selected domain-transform operator; a step of determining a seismic model by mathematically optimizing a relationship between the transform and the seismic data; and a step of compensating for the source signature effects in the seismic data using the seismic model. A method for generating an image of a subsurface of a geographical area using seismic data includes compensating the seismic data for source signature effects using a model which assumes a moving, non-impulsive source.', image=None, label='G01V', model_output=None, messages=None, model_type='claude3haiku', mode=1)\n"
     ]
    },
    {
     "name": "stderr",
     "output_type": "stream",
     "text": [
      "171it [00:59,  2.36it/s]"
     ]
    },
    {
     "name": "stdout",
     "output_type": "stream",
     "text": [
      "Output: G01V1/36, Expected: G01V, Current Accuracy: 0.543859649122807, Token Usage: 0\n",
      "PatentData(text='An electrode slipping device comprises an upper holder and a lower holder, both holders containing one or more clamping shoes and one or more clamping cylinders in cooperation with the clamping shoes. The clamping shoes are operable between a position where the electrode is clamped and a position where the electrode is unclamped. The clamping cylinder is connected to the electrode holder by first fastening means and to the clamping shoe by second fastening means such that the clamping cylinder can be released from engagement with the holder by unlocking both sets of fastening means.', image=None, label='H05B', model_output=None, messages=None, model_type='claude3haiku', mode=1)\n"
     ]
    },
    {
     "name": "stderr",
     "output_type": "stream",
     "text": [
      "172it [00:59,  2.37it/s]"
     ]
    },
    {
     "name": "stdout",
     "output_type": "stream",
     "text": [
      "Output: B23Q, Expected: H05B, Current Accuracy: 0.5406976744186046, Token Usage: 0\n",
      "PatentData(text='An internal combustion heat engine, of which the architecture of one elementary “cylinder” includes 4 identical mobile couplings distributed about the Z axis of the engine, consisting of a segmented “piston” driven by the crank pin of a crankshaft and guided by a roller rolling in a slide. The crankshafts, which are parallel and synchronised by a gear mechanism, perform one revolution per cycle. Each piston includes a sliding surface that nearly touches the cylinder face of the adjacent piston, but on which the segmentation slides in sealed contact. The concave shape of the 4 overlapping faces encloses a chamber volume that changes cyclically: at a minimum, having a quasi-spherical shape during combustion, reducing the heat losses at the walls, and at a maximum, uncovering the ports allowing intake and exhaust via transfer units and manifolds with the possibility of more economical Miller/Atkinson distribution, via rotary plates.', image=None, label='F01B', model_output=None, messages=None, model_type='claude3haiku', mode=1)\n"
     ]
    },
    {
     "name": "stderr",
     "output_type": "stream",
     "text": [
      "173it [01:00,  2.47it/s]"
     ]
    },
    {
     "name": "stdout",
     "output_type": "stream",
     "text": [
      "Output: F02B, Expected: F01B, Current Accuracy: 0.5375722543352601, Token Usage: 0\n",
      "PatentData(text='A method for screening catalytic peptides using phage display technology is disclosed. A compound is exposed to a phage library. If a peptide in the library catalyzes a reaction, a gel is formed about the phage that displays the peptide. The gel, including the first phage, is separated from un-reacted phages and released from the gel. The phage is then replicated and analyzed to determine the composition of the peptide that functioned as a catalyst.', image=None, label='C12N', model_output=None, messages=None, model_type='claude3haiku', mode=1)\n"
     ]
    },
    {
     "name": "stderr",
     "output_type": "stream",
     "text": [
      "174it [01:00,  2.61it/s]"
     ]
    },
    {
     "name": "stdout",
     "output_type": "stream",
     "text": [
      "Output: C12N, Expected: C12N, Current Accuracy: 0.5402298850574713, Token Usage: 0\n",
      "PatentData(text='An electromagnetic valve device with an armature unit (10) which is designed for carrying out an opening or closing operation of a fluid channel and, as a reaction to stationary coil means (18, 20, 22), which at least partially surround the armature unit, being energized, is driveable so as to be movable along an axial direction (12) relative thereto, wherein the coil means have a coil former (20) which forms a winding section (20) for a winding (22) to be energized, and the coil former forms an axially extending inner casing which is designed for guiding the armature unit and in the lateral surface of which slot- or groove-like channels (54) permitting drainage of an armature movement space are formed, wherein the coil former provides a channel outlet (56) for the channels (54) lying axially opposite an inlet- or respectively outlet section (24) of the fluid channel and on the end face, with which channel outlet blocking and/or deflection means against infiltrating intrusive media are associated.', image=None, label='F16K', model_output=None, messages=None, model_type='claude3haiku', mode=1)\n"
     ]
    },
    {
     "name": "stderr",
     "output_type": "stream",
     "text": [
      "175it [01:00,  2.81it/s]"
     ]
    },
    {
     "name": "stdout",
     "output_type": "stream",
     "text": [
      "Output: F16K 31/06, Expected: F16K, Current Accuracy: 0.5428571428571428, Token Usage: 0\n",
      "PatentData(text='An apparatus (10) and method for controlling an angular position of a camshaft (12) in an internal combustion engine having a camshaft phaser (14) for controllably varying the phase relationship between a crankshaft of the internal combustion engine and the camshaft (12). The camshaft phaser (14) can be actuated by an electric motor (16) having an actuator shaft (18) operating through a gear reduction drive train (20) having a stationary adjusting member (22) which rotates when a phase change adjustment is desired. A sensor (30) can generate a signal corresponding to an angular position of the stationary adjusting member (22) of the gear reduction drive train (20). An engine control unit (40) can adjust a position of the camshaft (12) through operation of the electric motor (16) for rotating the stationary adjusting member (22) based on the generated signal corresponding to the angular position of the stationary adjusting member (22).', image=None, label='F01L', model_output=None, messages=None, model_type='claude3haiku', mode=1)\n"
     ]
    },
    {
     "name": "stderr",
     "output_type": "stream",
     "text": [
      "176it [01:01,  2.97it/s]"
     ]
    },
    {
     "name": "stdout",
     "output_type": "stream",
     "text": [
      "Output: F02D, Expected: F01L, Current Accuracy: 0.5397727272727273, Token Usage: 0\n",
      "PatentData(text='The present invention is related to an intermediate node, an end node, and method for avoiding latency in a packet-switched network. According to the invention, the maximum bandwidth per flow is determined locally and transferred from the sending node to the receiving node. At each node, the information is updated if a lower local value is computed. By adjusting the transmission rate based on the maximum bandwidth per flow receiving at the receiving node, the link capacity can be optimally utilized and congestion can be minimized.', image=None, label='H04L', model_output=None, messages=None, model_type='claude3haiku', mode=1)\n"
     ]
    },
    {
     "name": "stderr",
     "output_type": "stream",
     "text": [
      "177it [01:01,  3.13it/s]"
     ]
    },
    {
     "name": "stdout",
     "output_type": "stream",
     "text": [
      "Output: H04L12/56, Expected: H04L, Current Accuracy: 0.5423728813559322, Token Usage: 0\n",
      "PatentData(text='A workpiece having a coating which has at least one TiB2 layer, characterized in that the TiB2 layers have a texture, in the XRD-spectrum, which leads to significant peaks which display a pronounced (002) orientation. The invention also relates to a method for producing said type of workpiece with a coating.', image=None, label='C23C', model_output=None, messages=None, model_type='claude3haiku', mode=1)\n"
     ]
    },
    {
     "name": "stderr",
     "output_type": "stream",
     "text": [
      "178it [01:01,  3.21it/s]"
     ]
    },
    {
     "name": "stdout",
     "output_type": "stream",
     "text": [
      "Output: A01N, Expected: C23C, Current Accuracy: 0.5393258426966292, Token Usage: 0\n",
      "PatentData(text='A video decoding method includes determining, from among a first sample and a second sample with different color components, at least one second sample that is used to correct a value of the first sample; determining a filter parameter set based on a band including the value of the first sample, wherein the band is from among a plurality of bands determined by dividing a total range of sample values into signaled intervals or predetermined intervals; and filtering a value of the at least one second sample by using the determined filter parameter set and correcting the value of the first sample by using a value obtained by the filtering, wherein the first sample is any one of a luma sample and a chroma sample, and the second sample is any one of the luma sample and the chroma sample that is not the first sample.', image=None, label='H04N', model_output=None, messages=None, model_type='claude3haiku', mode=1)\n"
     ]
    },
    {
     "name": "stderr",
     "output_type": "stream",
     "text": [
      "179it [01:02,  3.15it/s]"
     ]
    },
    {
     "name": "stdout",
     "output_type": "stream",
     "text": [
      "Output: H04N7/26, Expected: H04N, Current Accuracy: 0.5418994413407822, Token Usage: 0\n",
      "PatentData(text='A heat transfer profile has coaxial cylindrical inner and outer peripheries. A cylindrical first space is formed inside the inner periphery. The cylindrical outer periphery has a shape cut on at least one side. Blade-like heat transfer flanges extend between and contact both the inner periphery and the outer periphery. A second space is provided inside the cut part of the outer periphery, defined in part by a section of the inner periphery and two heat transfer flanges. The second space is open at least from the cut side of the outer periphery to the exterior of the outer periphery.', image=None, label='F28F', model_output=None, messages=None, model_type='claude3haiku', mode=1)\n"
     ]
    },
    {
     "name": "stderr",
     "output_type": "stream",
     "text": [
      "180it [01:02,  3.37it/s]"
     ]
    },
    {
     "name": "stdout",
     "output_type": "stream",
     "text": [
      "Output: F28D, Expected: F28F, Current Accuracy: 0.5388888888888889, Token Usage: 0\n",
      "PatentData(text=\"A bone screw includes a screw shaft with an external thread. The screw shaft anchors the bone screw in a bone. A proximal end of the screw shaft includes a screw head. The ratio between the outer thread diameter and the thread core diameter increases toward the screw head in a proximal screw shaft portion or in the area of the thread's run-out.\", image=None, label='A61B', model_output=None, messages=None, model_type='claude3haiku', mode=1)\n"
     ]
    },
    {
     "name": "stderr",
     "output_type": "stream",
     "text": [
      "181it [01:02,  2.82it/s]"
     ]
    },
    {
     "name": "stdout",
     "output_type": "stream",
     "text": [
      "Output: A61B17/86, Expected: A61B, Current Accuracy: 0.5414364640883977, Token Usage: 0\n",
      "PatentData(text='A method for continuously detecting a fill level of a conveyor for transporting containers on a transport plane includes forming a container stream along said first transport section of the conveyor, forming a container knot at a measuring section, the container knot comprising a tightly packed multi-row stream of containers, using a first contactless distance sensor, measuring a distance from a first side of the measuring section to the container knot, and, based on the measured distance, determining a fill level of the conveyor.', image=None, label='B65G', model_output=None, messages=None, model_type='claude3haiku', mode=1)\n"
     ]
    },
    {
     "name": "stderr",
     "output_type": "stream",
     "text": [
      "182it [01:03,  2.33it/s]"
     ]
    },
    {
     "name": "stdout",
     "output_type": "stream",
     "text": [
      "Output: B65G, Expected: B65G, Current Accuracy: 0.5439560439560439, Token Usage: 0\n",
      "PatentData(text='Provided are a method and a system for theme management. According to the method, a client obtains a desktop theme, extracts characteristic value information of one or more comparative items from the desktop theme, then sends the characteristic value information of the one or more comparative items of the desktop theme to the theme management server; the theme management server calculates and obtains similarity degrees between a plurality of desktop themes and a pre-selected reference desktop theme by using a plurality of similarity-degree-calculation-dimensions; ranks the similarity degrees of the plurality of desktop themes; selects a pre-determined number of desktop themes whose similarity degrees are of top ranks and/or bottom ranks, and then sends the selected desktop themes to the client; the client displays to a user a list of desktop themes sent from the theme management server.', image=None, label='G06F', model_output=None, messages=None, model_type='claude3haiku', mode=1)\n"
     ]
    },
    {
     "name": "stderr",
     "output_type": "stream",
     "text": [
      "183it [01:03,  2.59it/s]"
     ]
    },
    {
     "name": "stdout",
     "output_type": "stream",
     "text": [
      "Output: G06F3/00, Expected: G06F, Current Accuracy: 0.546448087431694, Token Usage: 0\n",
      "PatentData(text='A device for moving at least one cutting and welding arrangement able to cut, then weld a tail of a first metal strip to a head of a second metal strip, includes at least one first carriage holding at least one welding head. The first carriage is movable over a guide path following a first course across a transverse strip region. At least one second carriage is movable separately from the first carriage and holds a cutting head. The second carriage is movable on a guide path following a second course. The welding head is used exclusively for a welding mode, the second carriage is used exclusively for a cutting mode and the two carriages have parked positions on either side of the tail and head widths of the strips. A welding method which is associated with the device is also provided.', image=None, label='B23Q', model_output=None, messages=None, model_type='claude3haiku', mode=1)\n"
     ]
    },
    {
     "name": "stderr",
     "output_type": "stream",
     "text": [
      "184it [01:04,  2.88it/s]"
     ]
    },
    {
     "name": "stdout",
     "output_type": "stream",
     "text": [
      "Output: B23K, Expected: B23Q, Current Accuracy: 0.5434782608695652, Token Usage: 0\n",
      "PatentData(text='A device and a method for operating decentralized functional units in an industrial system include a) a higher-level control system which exchanges information with the decentralized functional units by data telegrams, b) a data transport network with network access points; c) communication units connected to a network access point and providing the decentralized functional units with access to the data transport network; d) an energy transport network to which the decentralized functional units are connected and which supplies electric energy to the decentralized functional units; e) intelligent energy storage devices connected to the energy transport network and consuming or outputting energy in accordance with the higher-level control system and/or with at least one of the remaining energy storage devices. The energy transport network has energy supply points distributed along a bus structure. Selectively one of at least two independent energy backbones can supply corresponding electric power to the supply points.', image=None, label='B61L', model_output=None, messages=None, model_type='claude3haiku', mode=1)\n"
     ]
    },
    {
     "name": "stderr",
     "output_type": "stream",
     "text": [
      "185it [01:04,  2.90it/s]"
     ]
    },
    {
     "name": "stdout",
     "output_type": "stream",
     "text": [
      "Output: H02J, Expected: B61L, Current Accuracy: 0.5405405405405406, Token Usage: 0\n",
      "PatentData(text='There are provided a data processing device for chromatograph and a data processing method for chromatograph which allow a peak to be desirably checked. A peak (correction target peak (P1)) whose intensity exceeds a predetermined threshold in a chromatogram at a target wavelength (X1) is corrected based on correction reference values (height (H1) and area (A1) of a peak (P11)) and a sensitivity coefficient (R=I1/I2), and the chromatogram after correction is displayed or printed. Therefore, even if the correction target peak (P1) is saturated, display or printing may be performed in a state where correction has been performed so that the chromatogram at the peak (P1) is not cut off in the middle. Accordingly, at the time of display or printing of the chromatogram, a fine peak may be prevented from becoming too small, and also the correction target peak (P1) may be prevented from being cut off in the middle, and thus the peaks may be desirably checked.', image=None, label='G01N', model_output=None, messages=None, model_type='claude3haiku', mode=1)\n"
     ]
    },
    {
     "name": "stderr",
     "output_type": "stream",
     "text": [
      "186it [01:04,  3.25it/s]"
     ]
    },
    {
     "name": "stdout",
     "output_type": "stream",
     "text": [
      "Output: G01N, Expected: G01N, Current Accuracy: 0.543010752688172, Token Usage: 0\n",
      "PatentData(text='An adaptation method for a modelling method in which, by means of target geometry, model geometry, which is derived from the target geometry, is created for an object to be produced by a selective laser melting method is provided. In the adaptation method, adapted model geometry is produced from the derived model geometry by dimension adaptation by means of a correction factor and/or by geometry adaptation by means of correction geometry.', image=None, label='B29C', model_output=None, messages=None, model_type='claude3haiku', mode=1)\n"
     ]
    },
    {
     "name": "stderr",
     "output_type": "stream",
     "text": [
      "187it [01:04,  3.26it/s]"
     ]
    },
    {
     "name": "stdout",
     "output_type": "stream",
     "text": [
      "Output: B29C64/393, Expected: B29C, Current Accuracy: 0.5454545454545454, Token Usage: 0\n",
      "PatentData(text='A membrane excelling in flame retardancy and a seat device using the same are provided. A membrane includes a first film haying at least a first wiring. A layer of flame retardant material is formed on a surface not formed with the first wiring of the first film. The layer contains an organic substance and phosphorus, and that forms a layer of carbide for physically supporting the first wiring by combustion.', image=None, label='H01H', model_output=None, messages=None, model_type='claude3haiku', mode=1)\n"
     ]
    },
    {
     "name": "stderr",
     "output_type": "stream",
     "text": [
      "188it [01:05,  2.65it/s]"
     ]
    },
    {
     "name": "stdout",
     "output_type": "stream",
     "text": [
      "Output: A62D0001/00, Expected: H01H, Current Accuracy: 0.5425531914893617, Token Usage: 0\n",
      "PatentData(text='The application describes improvements to (MEMS) transducers (100) having a flexible membrane (301) with a membrane electrode (302), especially where the membrane is crystalline or polycrystalline and the membrane electrode is metal or a metal alloy. Such transducers may typically include a back-plate having at least one back-plate layer (304) coupled to a back-plate electrode (303), with a plurality of holes (314) in the back-plate electrode corresponding to a plurality back-plate holes (312) through the back-plate. In embodiments of the invention the membrane electrode has at least one opening (313) in the membrane electrode wherein, at least part of the area of the opening corresponds to the area of at least one back-plate hole, in a direction normal to the membrane, and there is no hole in the flexible membrane at said opening in the membrane electrode. There may be a plurality of such openings. The openings effectively allow a reduction in the amount of membrane electrode material, e.g. metal, that may undergo plastic deformation and permanently deform the membrane. The openings are at least partly aligned with the back-plate holes to minimise any loss of capacitance.', image=None, label='B81B', model_output=None, messages=None, model_type='claude3haiku', mode=1)\n"
     ]
    },
    {
     "name": "stderr",
     "output_type": "stream",
     "text": [
      "189it [01:05,  2.89it/s]"
     ]
    },
    {
     "name": "stdout",
     "output_type": "stream",
     "text": [
      "Output: H01G, Expected: B81B, Current Accuracy: 0.5396825396825397, Token Usage: 0\n",
      "PatentData(text='Actuator system comprising at least one electrically driven linear actuator with an electric motor and an electric controller with an operating unit, wherein the electric motor is furnished with means for electrical noise dampening of the motor, which comprises a first inductance and a second inductance for electrical noise dampening of the motor, said first and second inductance are physically wound on the same coil form and thus provides a more compact construction, which moreover reduces the costs.', image=None, label='H02K', model_output=None, messages=None, model_type='claude3haiku', mode=1)\n"
     ]
    },
    {
     "name": "stderr",
     "output_type": "stream",
     "text": [
      "190it [01:06,  2.97it/s]"
     ]
    },
    {
     "name": "stdout",
     "output_type": "stream",
     "text": [
      "Output: B60L1/00, Expected: H02K, Current Accuracy: 0.5368421052631579, Token Usage: 0\n",
      "PatentData(text='Methods as disclosed herein are generally configured to help determine a pressure differential (or pressure head) in a fluid circulation system of for example, a HVAC system, for controlling the fluid circulation system. The method may include ob taming a correlation between a fluid flow rate and a pressure differential in the fluid circulation system by varying an operation speed of the pump. The method may also include obtaining a desired fluid flow rate for matching a cooling capacity of the HVAC system and determining a pressure differential setpoint corresponding to the desired fluid flow rate based on the correlation between the fluid flow rate and the pressure differential. The methods can be executed by, for example, a controller of the HVAC system so as to eliminate the requirement of a user to set up the pressure differential.', image=None, label='F24F', model_output=None, messages=None, model_type='claude3haiku', mode=1)\n"
     ]
    },
    {
     "name": "stderr",
     "output_type": "stream",
     "text": [
      "191it [01:06,  3.05it/s]"
     ]
    },
    {
     "name": "stdout",
     "output_type": "stream",
     "text": [
      "Output: F24F, Expected: F24F, Current Accuracy: 0.5392670157068062, Token Usage: 0\n",
      "PatentData(text=\"Method for temporarily closing off a grate (111)-covered gutter (110) of a paved part of the earth's surface (100) by means of a closing organ (130), the gutter (110) being connected to a sewage pipe (120). Thus, the draining away of contaminating liquid can be prevented. According to the invention the gutter (110) comprises a closing organ (130) comprising a valve (131), which valve (131) is fitted rotatably in the gutter (110). The valve (131) can be in a first stable position wherein the valve (131) seals. The valve can also be in a second stable position in which the valve (131) releases the gutter (110) for the discharge of liquid (rainwater) to the sewage pipe. The invention also relates to a closing organ (130) suitable for use with the method.\", image=None, label='E03F', model_output=None, messages=None, model_type='claude3haiku', mode=1)\n"
     ]
    },
    {
     "name": "stderr",
     "output_type": "stream",
     "text": [
      "192it [01:06,  2.42it/s]"
     ]
    },
    {
     "name": "stdout",
     "output_type": "stream",
     "text": [
      "Output: E03F, Expected: E03F, Current Accuracy: 0.5416666666666666, Token Usage: 0\n",
      "PatentData(text='A wearable magnetic device, a method for subjecting a body region to a magnetic field and a set of parts. The wearable magnetic device comprises a magnetic structure configured to generate a magnetic field in a field area of the device; an auxiliary magnet connected to the magnetic structure and configured to increase the intensity of the magnetic field in the field area of the device; and a fastener; wherein the auxiliary magnet and the fastener are configured to magnetically secure the fastener on a side of the auxiliary magnet facing away from the field area of the device with a piece of fabric or a piece of garment disposed between the auxiliary magnet and the fastener.', image=None, label='A61N', model_output=None, messages=None, model_type='claude3haiku', mode=1)\n"
     ]
    },
    {
     "name": "stderr",
     "output_type": "stream",
     "text": [
      "193it [01:07,  2.71it/s]"
     ]
    },
    {
     "name": "stdout",
     "output_type": "stream",
     "text": [
      "Output: A61N2/00, Expected: A61N, Current Accuracy: 0.5440414507772021, Token Usage: 0\n",
      "PatentData(text='A filling element for filling containers includes a liquid valve disposed to control flow into the container. The valve has an elastic diaphragm and a valve surface. An actuator causes the diaphragm to transition between a first state, in which it butts against the valve surface, and a second state, in which it is spaced apart from the valve surface.', image=None, label='B67C', model_output=None, messages=None, model_type='claude3haiku', mode=1)\n"
     ]
    },
    {
     "name": "stderr",
     "output_type": "stream",
     "text": [
      "194it [01:07,  2.68it/s]"
     ]
    },
    {
     "name": "stdout",
     "output_type": "stream",
     "text": [
      "Output: B67D, Expected: B67C, Current Accuracy: 0.5412371134020618, Token Usage: 0\n",
      "PatentData(text='This disclosure relates to scheduling by a processor the supply a consumable liquid to a mobile machine, such as the supply of water to a blasthole drill. The processor receives from the one or more mobile machines status information relative to a machine cycle. The machine cycle comprises one or more first periods where supply of the consumable liquid is preferred. The processor then determines based on the status information the supply schedule to supply the liquid to the one or more machines during their respective one or more first periods. The supply schedule is determined such that the supply schedule reduces the likelihood that any of the one or more mobile machines has an insufficient amount of the consumable liquid available. This method reduces downtime of the mobile machines because liquid is supplied during the preferred periods while reducing the likelihood of running out of liquid.', image=None, label='G06Q', model_output=None, messages=None, model_type='claude3haiku', mode=1)\n"
     ]
    },
    {
     "name": "stderr",
     "output_type": "stream",
     "text": [
      "195it [01:07,  3.01it/s]"
     ]
    },
    {
     "name": "stdout",
     "output_type": "stream",
     "text": [
      "Output: E02F, Expected: G06Q, Current Accuracy: 0.5384615384615384, Token Usage: 0\n",
      "PatentData(text='A drug-delivery composition includes an intermediate composition having a hydrophilic matrix of a cross-linked polymer in form of particles, and a pharmaceutically active composition distributed in the cross-linked polymer of the particles.', image=None, label='A61K', model_output=None, messages=None, model_type='claude3haiku', mode=1)\n"
     ]
    },
    {
     "name": "stderr",
     "output_type": "stream",
     "text": [
      "196it [01:08,  2.91it/s]"
     ]
    },
    {
     "name": "stdout",
     "output_type": "stream",
     "text": [
      "Output: A61K, Expected: A61K, Current Accuracy: 0.5408163265306123, Token Usage: 0\n",
      "PatentData(text='The present invention provides a trioxane composition which comprises trioxane as a main component, an antioxidant, and at least one alkaline organic compound selected from the group consisting of an amine compound having an alcoholic hydroxy group in the molecule thereof, a thiocarbamate compound, and an organophosphorus compound, wherein the amount of the alkaline organic compound contained is 0.01 to 10 ppm, based on the trioxane, and wherein the trioxane composition is a liquid.', image=None, label='C08G', model_output=None, messages=None, model_type='claude3haiku', mode=1)\n"
     ]
    },
    {
     "name": "stderr",
     "output_type": "stream",
     "text": [
      "197it [01:08,  3.21it/s]"
     ]
    },
    {
     "name": "stdout",
     "output_type": "stream",
     "text": [
      "Output: C07D, Expected: C08G, Current Accuracy: 0.5380710659898477, Token Usage: 0\n",
      "PatentData(text='A device for acquiring a combined eye gaze image of an object under dark-eye effect conditions, with a first camera, a second camera, a first light source and a second light source being located on opposite sides of, and on essentially equal distance to a central optical axis. A control unit is arranged to acquire the combined eye gaze image by capturing, in a first point in time, a first frame of the object with the first camera with the second light source activated, and, at a second point in time, capturing a second frame of the object with the second camera with the first light source activated. The device comprises no additional light sources further away from the central optical axis than the first location and the second location. The device is thereby designed as compact as possible while a sufficient eye gaze tracking accuracy and robustness is maintained.', image=None, label='G06F', model_output=None, messages=None, model_type='claude3haiku', mode=1)\n"
     ]
    },
    {
     "name": "stderr",
     "output_type": "stream",
     "text": [
      "198it [01:08,  3.07it/s]"
     ]
    },
    {
     "name": "stdout",
     "output_type": "stream",
     "text": [
      "Output: A61B3/113, Expected: G06F, Current Accuracy: 0.5353535353535354, Token Usage: 0\n",
      "PatentData(text='A sensor for sensing an angular orientation of a magnet producing a magnetic field includes a sensing unit having N≧2 magnetic field sensing devices MFSD; a scanning circuit for repeatedly sequentially probing at least two of the MFSDs and concatenating signals outputted by the respective MFSDs for obtaining a magnetic signal; a magnet-signal output for outputting the magnetic signal; and a reference output for outputting a reference signal independent of the magnetic field. The sensor includes a first signal processing unit SPU1 and a second signal processing unit which are identically constructed, each having an input and an output; a phase detection unit PDU having a first input PDU1 and a second input PDU2, for deriving phase differences between inputted signals, and for outputting a signal related to the angular orientation.', image=None, label='G01D', model_output=None, messages=None, model_type='claude3haiku', mode=1)\n"
     ]
    },
    {
     "name": "stderr",
     "output_type": "stream",
     "text": [
      "199it [01:09,  3.17it/s]"
     ]
    },
    {
     "name": "stdout",
     "output_type": "stream",
     "text": [
      "Output: G01D, Expected: G01D, Current Accuracy: 0.5376884422110553, Token Usage: 0\n",
      "PatentData(text='A skinning device for removing skin from an animal carcass has a housing, a manipulation arm extending from the housing, an cutting blade, a motor driven tooth roll mounted on the housing having plurality of tooth wheels arranged in axially spaced apart arrangement such that the space between adjacent tooth wheels has a pre-set distance. The tooth wheels have circumferentially arranged teeth projecting outwardly therefrom adapted to grab the skin with the circumferentially arranged teeth and pull it towards the cutting blade. The skinning device includes a support structure mounted on the housing arranged in proximity to the tooth roll, and is adapted to engage the skin while the skin is simultaneously being pulled off the carcass. Strippers are arranged in the space of pre-set distance and circumferentially surround at least a space portion where the arc-shaped contour essentially follows the tooth roll.', image=None, label='A22B', model_output=None, messages=None, model_type='claude3haiku', mode=1)\n"
     ]
    },
    {
     "name": "stderr",
     "output_type": "stream",
     "text": [
      "200it [01:09,  3.18it/s]"
     ]
    },
    {
     "name": "stdout",
     "output_type": "stream",
     "text": [
      "Output: A01K 11/00, Expected: A22B, Current Accuracy: 0.535, Token Usage: 0\n",
      "PatentData(text='Reflective microstructured films include a base layer, and an ordered arrangement of a plurality of microstructures projecting from the base layer. The microstructures have rounded peaks defined by an radius of curvature. Additionally, the micro-structures include a reflective layer. These reflective microstructured films can be used in solar modules.', image=None, label='H01L', model_output=None, messages=None, model_type='claude3haiku', mode=1)\n"
     ]
    },
    {
     "name": "stderr",
     "output_type": "stream",
     "text": [
      "201it [01:09,  3.36it/s]"
     ]
    },
    {
     "name": "stdout",
     "output_type": "stream",
     "text": [
      "Output: B32B, Expected: H01L, Current Accuracy: 0.5323383084577115, Token Usage: 0\n",
      "PatentData(text='The present invention relates to a synthesis of chromanones or chromanes in a stereospecific matter in view of the 2-position in the chromanone or chromane ring. It has been found that this synthesis is particularly possible in the presence of a chiral compound of a specific type and of at least one Bransted acid or in the presence a specific chiral compound having a Bransted acid functional group in the molecule.', image=None, label='C07D', model_output=None, messages=None, model_type='claude3haiku', mode=1)\n"
     ]
    },
    {
     "name": "stderr",
     "output_type": "stream",
     "text": [
      "202it [01:09,  3.54it/s]"
     ]
    },
    {
     "name": "stdout",
     "output_type": "stream",
     "text": [
      "Output: A61K, Expected: C07D, Current Accuracy: 0.5297029702970297, Token Usage: 0\n",
      "PatentData(text='The present invention relates to a synthesis of chromanones or chromanes in a stereospecific matter in view of the 2-position in the chromanone or chromane ring. It has been found that this synthesis is particularly possible in the presence of a chiral compound of formula of a specific type and of at least one phenol or thiophenol.', image=None, label='C07D', model_output=None, messages=None, model_type='claude3haiku', mode=1)\n"
     ]
    },
    {
     "name": "stderr",
     "output_type": "stream",
     "text": [
      "203it [01:10,  3.59it/s]"
     ]
    },
    {
     "name": "stdout",
     "output_type": "stream",
     "text": [
      "Output: A61K, Expected: C07D, Current Accuracy: 0.5270935960591133, Token Usage: 0\n",
      "PatentData(text='Embodiments relate to formulations comprising sodium acetate trihydrate and other components. In addition, embodiments further relate to methods of preparing such formulations. Furthermore, embodiments relate to products including such formulations.', image=None, label='C09K', model_output=None, messages=None, model_type='claude3haiku', mode=1)\n"
     ]
    },
    {
     "name": "stderr",
     "output_type": "stream",
     "text": [
      "204it [01:10,  3.76it/s]"
     ]
    },
    {
     "name": "stdout",
     "output_type": "stream",
     "text": [
      "Output: C09K, Expected: C09K, Current Accuracy: 0.5294117647058824, Token Usage: 0\n",
      "PatentData(text='Vibrations of a hydraulic pressure in an upstream portion due to operations of a slip control device during anti-lock control are transmitted to a control pressure chamber via a pressurizing piston of a master cylinder and a control piston of a regulator. During anti-lock control, in contrast, a pressure-increase linear valve and a pressure-reduction linear valve are opened, allowing change in volume of the control pressure chamber, resulting in reduction in stiffness. This reduction suppresses vibrations of a hydraulic pressure in the control pressure chamber, resulting in suppression of vibrations of a hydraulic pressure in a front pressure chamber. As a result, it is possible to reduce the lowering in control accuracy for a hydraulic pressure in a brake cylinder in anti-lock control using the hydraulic pressure in the front pressure chamber, which can well avoid a long braking distance.', image=None, label='B60T', model_output=None, messages=None, model_type='claude3haiku', mode=1)\n"
     ]
    },
    {
     "name": "stderr",
     "output_type": "stream",
     "text": [
      "205it [01:10,  3.78it/s]"
     ]
    },
    {
     "name": "stdout",
     "output_type": "stream",
     "text": [
      "Output: B60T, Expected: B60T, Current Accuracy: 0.5317073170731708, Token Usage: 0\n",
      "PatentData(text='A method of alkoxylating a humus material comprising heating a reaction mixture comprising a humus material, a C3+ cyclic ether, a catalyst and an inert reaction solvent, and recovering a C3+ alkoxylated humus material from the reaction mixture. A method of alkoxylating a humus material comprising heating a reaction mixture comprising a humus material, a C3+ cyclic ether, a catalyst and an inert reaction solvent to a temperature of from about 130° C. to about 170° C., wherein the humus material comprises leonardite, the C3+ cyclic ether comprises propylene oxide, and the inert reaction solvent comprises xylene, and recovering a C3+ alkoxylated humus material from the reaction mixture. A C3+ alkoxylated humus material.', image=None, label='C08H', model_output=None, messages=None, model_type='claude3haiku', mode=1)\n"
     ]
    },
    {
     "name": "stderr",
     "output_type": "stream",
     "text": [
      "206it [01:10,  3.96it/s]"
     ]
    },
    {
     "name": "stdout",
     "output_type": "stream",
     "text": [
      "Output: C08G, Expected: C08H, Current Accuracy: 0.529126213592233, Token Usage: 0\n",
      "PatentData(text='A method, apparatus and computer program product are provided to enhance the experience of a user of a computing device, such as a computing device having a plurality of speakers. In the context of a method, content is caused to be presented upon the display. The content is associated with a representation of an audio source. The method also includes determining a location of the representation of the audio source relative to the display. The method further includes preferentially directing audio signals generated by the audio source to one or more of a plurality of speakers that have different respective positions relative to the display. In this regard, the method may preferentially direct the audio signals by preferentially directing audio signals based upon the location of the representation of the audio source relative to the display and also based upon the respective positions of the speakers relative to the display.', image=None, label='G06F', model_output=None, messages=None, model_type='claude3haiku', mode=1)\n"
     ]
    },
    {
     "name": "stderr",
     "output_type": "stream",
     "text": [
      "206it [01:11,  2.88it/s]\n"
     ]
    },
    {
     "ename": "KeyboardInterrupt",
     "evalue": "",
     "output_type": "error",
     "traceback": [
      "\u001b[0;31m---------------------------------------------------------------------------\u001b[0m",
      "\u001b[0;31mKeyboardInterrupt\u001b[0m                         Traceback (most recent call last)",
      "Cell \u001b[0;32mIn[4], line 12\u001b[0m\n\u001b[1;32m     10\u001b[0m messages \u001b[38;5;241m=\u001b[39m prompts\u001b[38;5;241m.\u001b[39mgenerate_prompt_claude(obj)\n\u001b[1;32m     11\u001b[0m \u001b[38;5;28;01mtry\u001b[39;00m:\n\u001b[0;32m---> 12\u001b[0m     result \u001b[38;5;241m=\u001b[39m \u001b[43mcalling\u001b[49m\u001b[38;5;241;43m.\u001b[39;49m\u001b[43mcall_anthropic\u001b[49m\u001b[43m(\u001b[49m\u001b[43mobj\u001b[49m\u001b[43m)\u001b[49m\n\u001b[1;32m     13\u001b[0m \u001b[38;5;28;01mexcept\u001b[39;00m \u001b[38;5;167;01mException\u001b[39;00m \u001b[38;5;28;01mas\u001b[39;00m e:\n\u001b[1;32m     14\u001b[0m     \u001b[38;5;28mprint\u001b[39m(e)\n",
      "File \u001b[0;32m~/cs477-final-project/calling.py:100\u001b[0m, in \u001b[0;36mcall_anthropic\u001b[0;34m(data)\u001b[0m\n\u001b[1;32m     93\u001b[0m request_body \u001b[38;5;241m=\u001b[39m {\n\u001b[1;32m     94\u001b[0m     \u001b[38;5;124m\"\u001b[39m\u001b[38;5;124manthropic_version\u001b[39m\u001b[38;5;124m\"\u001b[39m: \u001b[38;5;124m\"\u001b[39m\u001b[38;5;124mbedrock-2023-05-31\u001b[39m\u001b[38;5;124m\"\u001b[39m,\n\u001b[1;32m     95\u001b[0m     \u001b[38;5;124m\"\u001b[39m\u001b[38;5;124mmax_tokens\u001b[39m\u001b[38;5;124m\"\u001b[39m: \u001b[38;5;241m10\u001b[39m,\n\u001b[1;32m     96\u001b[0m     \u001b[38;5;124m\"\u001b[39m\u001b[38;5;124mmessages\u001b[39m\u001b[38;5;124m\"\u001b[39m: data\u001b[38;5;241m.\u001b[39mmessages\n\u001b[1;32m     97\u001b[0m }\n\u001b[1;32m     99\u001b[0m \u001b[38;5;28;01mtry\u001b[39;00m:\n\u001b[0;32m--> 100\u001b[0m     response \u001b[38;5;241m=\u001b[39m \u001b[43mboto3_client\u001b[49m\u001b[38;5;241;43m.\u001b[39;49m\u001b[43minvoke_model\u001b[49m\u001b[43m(\u001b[49m\n\u001b[1;32m    101\u001b[0m \u001b[43m        \u001b[49m\u001b[43mmodelId\u001b[49m\u001b[38;5;241;43m=\u001b[39;49m\u001b[43mmodel_id\u001b[49m\u001b[43m,\u001b[49m\n\u001b[1;32m    102\u001b[0m \u001b[43m        \u001b[49m\u001b[43mbody\u001b[49m\u001b[38;5;241;43m=\u001b[39;49m\u001b[43mjson\u001b[49m\u001b[38;5;241;43m.\u001b[39;49m\u001b[43mdumps\u001b[49m\u001b[43m(\u001b[49m\u001b[43mrequest_body\u001b[49m\u001b[43m)\u001b[49m\u001b[43m,\u001b[49m\n\u001b[1;32m    103\u001b[0m \u001b[43m    \u001b[49m\u001b[43m)\u001b[49m\n\u001b[1;32m    105\u001b[0m     \u001b[38;5;66;03m# Process and print the response\u001b[39;00m\n\u001b[1;32m    106\u001b[0m     result \u001b[38;5;241m=\u001b[39m json\u001b[38;5;241m.\u001b[39mloads(response\u001b[38;5;241m.\u001b[39mget(\u001b[38;5;124m\"\u001b[39m\u001b[38;5;124mbody\u001b[39m\u001b[38;5;124m\"\u001b[39m)\u001b[38;5;241m.\u001b[39mread())\n",
      "File \u001b[0;32m~/cs477-final-project/.conda/lib/python3.11/site-packages/botocore/client.py:565\u001b[0m, in \u001b[0;36mClientCreator._create_api_method.<locals>._api_call\u001b[0;34m(self, *args, **kwargs)\u001b[0m\n\u001b[1;32m    561\u001b[0m     \u001b[38;5;28;01mraise\u001b[39;00m \u001b[38;5;167;01mTypeError\u001b[39;00m(\n\u001b[1;32m    562\u001b[0m         \u001b[38;5;124mf\u001b[39m\u001b[38;5;124m\"\u001b[39m\u001b[38;5;132;01m{\u001b[39;00mpy_operation_name\u001b[38;5;132;01m}\u001b[39;00m\u001b[38;5;124m() only accepts keyword arguments.\u001b[39m\u001b[38;5;124m\"\u001b[39m\n\u001b[1;32m    563\u001b[0m     )\n\u001b[1;32m    564\u001b[0m \u001b[38;5;66;03m# The \"self\" in this scope is referring to the BaseClient.\u001b[39;00m\n\u001b[0;32m--> 565\u001b[0m \u001b[38;5;28;01mreturn\u001b[39;00m \u001b[38;5;28;43mself\u001b[39;49m\u001b[38;5;241;43m.\u001b[39;49m\u001b[43m_make_api_call\u001b[49m\u001b[43m(\u001b[49m\u001b[43moperation_name\u001b[49m\u001b[43m,\u001b[49m\u001b[43m \u001b[49m\u001b[43mkwargs\u001b[49m\u001b[43m)\u001b[49m\n",
      "File \u001b[0;32m~/cs477-final-project/.conda/lib/python3.11/site-packages/botocore/client.py:1001\u001b[0m, in \u001b[0;36mBaseClient._make_api_call\u001b[0;34m(self, operation_name, api_params)\u001b[0m\n\u001b[1;32m    997\u001b[0m     maybe_compress_request(\n\u001b[1;32m    998\u001b[0m         \u001b[38;5;28mself\u001b[39m\u001b[38;5;241m.\u001b[39mmeta\u001b[38;5;241m.\u001b[39mconfig, request_dict, operation_model\n\u001b[1;32m    999\u001b[0m     )\n\u001b[1;32m   1000\u001b[0m     apply_request_checksum(request_dict)\n\u001b[0;32m-> 1001\u001b[0m     http, parsed_response \u001b[38;5;241m=\u001b[39m \u001b[38;5;28;43mself\u001b[39;49m\u001b[38;5;241;43m.\u001b[39;49m\u001b[43m_make_request\u001b[49m\u001b[43m(\u001b[49m\n\u001b[1;32m   1002\u001b[0m \u001b[43m        \u001b[49m\u001b[43moperation_model\u001b[49m\u001b[43m,\u001b[49m\u001b[43m \u001b[49m\u001b[43mrequest_dict\u001b[49m\u001b[43m,\u001b[49m\u001b[43m \u001b[49m\u001b[43mrequest_context\u001b[49m\n\u001b[1;32m   1003\u001b[0m \u001b[43m    \u001b[49m\u001b[43m)\u001b[49m\n\u001b[1;32m   1005\u001b[0m \u001b[38;5;28mself\u001b[39m\u001b[38;5;241m.\u001b[39mmeta\u001b[38;5;241m.\u001b[39mevents\u001b[38;5;241m.\u001b[39memit(\n\u001b[1;32m   1006\u001b[0m     \u001b[38;5;124m'\u001b[39m\u001b[38;5;124mafter-call.\u001b[39m\u001b[38;5;132;01m{service_id}\u001b[39;00m\u001b[38;5;124m.\u001b[39m\u001b[38;5;132;01m{operation_name}\u001b[39;00m\u001b[38;5;124m'\u001b[39m\u001b[38;5;241m.\u001b[39mformat(\n\u001b[1;32m   1007\u001b[0m         service_id\u001b[38;5;241m=\u001b[39mservice_id, operation_name\u001b[38;5;241m=\u001b[39moperation_name\n\u001b[0;32m   (...)\u001b[0m\n\u001b[1;32m   1012\u001b[0m     context\u001b[38;5;241m=\u001b[39mrequest_context,\n\u001b[1;32m   1013\u001b[0m )\n\u001b[1;32m   1015\u001b[0m \u001b[38;5;28;01mif\u001b[39;00m http\u001b[38;5;241m.\u001b[39mstatus_code \u001b[38;5;241m>\u001b[39m\u001b[38;5;241m=\u001b[39m \u001b[38;5;241m300\u001b[39m:\n",
      "File \u001b[0;32m~/cs477-final-project/.conda/lib/python3.11/site-packages/botocore/client.py:1027\u001b[0m, in \u001b[0;36mBaseClient._make_request\u001b[0;34m(self, operation_model, request_dict, request_context)\u001b[0m\n\u001b[1;32m   1025\u001b[0m \u001b[38;5;28;01mdef\u001b[39;00m \u001b[38;5;21m_make_request\u001b[39m(\u001b[38;5;28mself\u001b[39m, operation_model, request_dict, request_context):\n\u001b[1;32m   1026\u001b[0m     \u001b[38;5;28;01mtry\u001b[39;00m:\n\u001b[0;32m-> 1027\u001b[0m         \u001b[38;5;28;01mreturn\u001b[39;00m \u001b[38;5;28;43mself\u001b[39;49m\u001b[38;5;241;43m.\u001b[39;49m\u001b[43m_endpoint\u001b[49m\u001b[38;5;241;43m.\u001b[39;49m\u001b[43mmake_request\u001b[49m\u001b[43m(\u001b[49m\u001b[43moperation_model\u001b[49m\u001b[43m,\u001b[49m\u001b[43m \u001b[49m\u001b[43mrequest_dict\u001b[49m\u001b[43m)\u001b[49m\n\u001b[1;32m   1028\u001b[0m     \u001b[38;5;28;01mexcept\u001b[39;00m \u001b[38;5;167;01mException\u001b[39;00m \u001b[38;5;28;01mas\u001b[39;00m e:\n\u001b[1;32m   1029\u001b[0m         \u001b[38;5;28mself\u001b[39m\u001b[38;5;241m.\u001b[39mmeta\u001b[38;5;241m.\u001b[39mevents\u001b[38;5;241m.\u001b[39memit(\n\u001b[1;32m   1030\u001b[0m             \u001b[38;5;124m'\u001b[39m\u001b[38;5;124mafter-call-error.\u001b[39m\u001b[38;5;132;01m{service_id}\u001b[39;00m\u001b[38;5;124m.\u001b[39m\u001b[38;5;132;01m{operation_name}\u001b[39;00m\u001b[38;5;124m'\u001b[39m\u001b[38;5;241m.\u001b[39mformat(\n\u001b[1;32m   1031\u001b[0m                 service_id\u001b[38;5;241m=\u001b[39m\u001b[38;5;28mself\u001b[39m\u001b[38;5;241m.\u001b[39m_service_model\u001b[38;5;241m.\u001b[39mservice_id\u001b[38;5;241m.\u001b[39mhyphenize(),\n\u001b[0;32m   (...)\u001b[0m\n\u001b[1;32m   1035\u001b[0m             context\u001b[38;5;241m=\u001b[39mrequest_context,\n\u001b[1;32m   1036\u001b[0m         )\n",
      "File \u001b[0;32m~/cs477-final-project/.conda/lib/python3.11/site-packages/botocore/endpoint.py:119\u001b[0m, in \u001b[0;36mEndpoint.make_request\u001b[0;34m(self, operation_model, request_dict)\u001b[0m\n\u001b[1;32m    113\u001b[0m \u001b[38;5;28;01mdef\u001b[39;00m \u001b[38;5;21mmake_request\u001b[39m(\u001b[38;5;28mself\u001b[39m, operation_model, request_dict):\n\u001b[1;32m    114\u001b[0m     logger\u001b[38;5;241m.\u001b[39mdebug(\n\u001b[1;32m    115\u001b[0m         \u001b[38;5;124m\"\u001b[39m\u001b[38;5;124mMaking request for \u001b[39m\u001b[38;5;132;01m%s\u001b[39;00m\u001b[38;5;124m with params: \u001b[39m\u001b[38;5;132;01m%s\u001b[39;00m\u001b[38;5;124m\"\u001b[39m,\n\u001b[1;32m    116\u001b[0m         operation_model,\n\u001b[1;32m    117\u001b[0m         request_dict,\n\u001b[1;32m    118\u001b[0m     )\n\u001b[0;32m--> 119\u001b[0m     \u001b[38;5;28;01mreturn\u001b[39;00m \u001b[38;5;28;43mself\u001b[39;49m\u001b[38;5;241;43m.\u001b[39;49m\u001b[43m_send_request\u001b[49m\u001b[43m(\u001b[49m\u001b[43mrequest_dict\u001b[49m\u001b[43m,\u001b[49m\u001b[43m \u001b[49m\u001b[43moperation_model\u001b[49m\u001b[43m)\u001b[49m\n",
      "File \u001b[0;32m~/cs477-final-project/.conda/lib/python3.11/site-packages/botocore/endpoint.py:199\u001b[0m, in \u001b[0;36mEndpoint._send_request\u001b[0;34m(self, request_dict, operation_model)\u001b[0m\n\u001b[1;32m    197\u001b[0m \u001b[38;5;28mself\u001b[39m\u001b[38;5;241m.\u001b[39m_update_retries_context(context, attempts)\n\u001b[1;32m    198\u001b[0m request \u001b[38;5;241m=\u001b[39m \u001b[38;5;28mself\u001b[39m\u001b[38;5;241m.\u001b[39mcreate_request(request_dict, operation_model)\n\u001b[0;32m--> 199\u001b[0m success_response, exception \u001b[38;5;241m=\u001b[39m \u001b[38;5;28;43mself\u001b[39;49m\u001b[38;5;241;43m.\u001b[39;49m\u001b[43m_get_response\u001b[49m\u001b[43m(\u001b[49m\n\u001b[1;32m    200\u001b[0m \u001b[43m    \u001b[49m\u001b[43mrequest\u001b[49m\u001b[43m,\u001b[49m\u001b[43m \u001b[49m\u001b[43moperation_model\u001b[49m\u001b[43m,\u001b[49m\u001b[43m \u001b[49m\u001b[43mcontext\u001b[49m\n\u001b[1;32m    201\u001b[0m \u001b[43m\u001b[49m\u001b[43m)\u001b[49m\n\u001b[1;32m    202\u001b[0m \u001b[38;5;28;01mwhile\u001b[39;00m \u001b[38;5;28mself\u001b[39m\u001b[38;5;241m.\u001b[39m_needs_retry(\n\u001b[1;32m    203\u001b[0m     attempts,\n\u001b[1;32m    204\u001b[0m     operation_model,\n\u001b[0;32m   (...)\u001b[0m\n\u001b[1;32m    207\u001b[0m     exception,\n\u001b[1;32m    208\u001b[0m ):\n\u001b[1;32m    209\u001b[0m     attempts \u001b[38;5;241m+\u001b[39m\u001b[38;5;241m=\u001b[39m \u001b[38;5;241m1\u001b[39m\n",
      "File \u001b[0;32m~/cs477-final-project/.conda/lib/python3.11/site-packages/botocore/endpoint.py:241\u001b[0m, in \u001b[0;36mEndpoint._get_response\u001b[0;34m(self, request, operation_model, context)\u001b[0m\n\u001b[1;32m    235\u001b[0m \u001b[38;5;28;01mdef\u001b[39;00m \u001b[38;5;21m_get_response\u001b[39m(\u001b[38;5;28mself\u001b[39m, request, operation_model, context):\n\u001b[1;32m    236\u001b[0m     \u001b[38;5;66;03m# This will return a tuple of (success_response, exception)\u001b[39;00m\n\u001b[1;32m    237\u001b[0m     \u001b[38;5;66;03m# and success_response is itself a tuple of\u001b[39;00m\n\u001b[1;32m    238\u001b[0m     \u001b[38;5;66;03m# (http_response, parsed_dict).\u001b[39;00m\n\u001b[1;32m    239\u001b[0m     \u001b[38;5;66;03m# If an exception occurs then the success_response is None.\u001b[39;00m\n\u001b[1;32m    240\u001b[0m     \u001b[38;5;66;03m# If no exception occurs then exception is None.\u001b[39;00m\n\u001b[0;32m--> 241\u001b[0m     success_response, exception \u001b[38;5;241m=\u001b[39m \u001b[38;5;28;43mself\u001b[39;49m\u001b[38;5;241;43m.\u001b[39;49m\u001b[43m_do_get_response\u001b[49m\u001b[43m(\u001b[49m\n\u001b[1;32m    242\u001b[0m \u001b[43m        \u001b[49m\u001b[43mrequest\u001b[49m\u001b[43m,\u001b[49m\u001b[43m \u001b[49m\u001b[43moperation_model\u001b[49m\u001b[43m,\u001b[49m\u001b[43m \u001b[49m\u001b[43mcontext\u001b[49m\n\u001b[1;32m    243\u001b[0m \u001b[43m    \u001b[49m\u001b[43m)\u001b[49m\n\u001b[1;32m    244\u001b[0m     kwargs_to_emit \u001b[38;5;241m=\u001b[39m {\n\u001b[1;32m    245\u001b[0m         \u001b[38;5;124m'\u001b[39m\u001b[38;5;124mresponse_dict\u001b[39m\u001b[38;5;124m'\u001b[39m: \u001b[38;5;28;01mNone\u001b[39;00m,\n\u001b[1;32m    246\u001b[0m         \u001b[38;5;124m'\u001b[39m\u001b[38;5;124mparsed_response\u001b[39m\u001b[38;5;124m'\u001b[39m: \u001b[38;5;28;01mNone\u001b[39;00m,\n\u001b[1;32m    247\u001b[0m         \u001b[38;5;124m'\u001b[39m\u001b[38;5;124mcontext\u001b[39m\u001b[38;5;124m'\u001b[39m: context,\n\u001b[1;32m    248\u001b[0m         \u001b[38;5;124m'\u001b[39m\u001b[38;5;124mexception\u001b[39m\u001b[38;5;124m'\u001b[39m: exception,\n\u001b[1;32m    249\u001b[0m     }\n\u001b[1;32m    250\u001b[0m     \u001b[38;5;28;01mif\u001b[39;00m success_response \u001b[38;5;129;01mis\u001b[39;00m \u001b[38;5;129;01mnot\u001b[39;00m \u001b[38;5;28;01mNone\u001b[39;00m:\n",
      "File \u001b[0;32m~/cs477-final-project/.conda/lib/python3.11/site-packages/botocore/endpoint.py:281\u001b[0m, in \u001b[0;36mEndpoint._do_get_response\u001b[0;34m(self, request, operation_model, context)\u001b[0m\n\u001b[1;32m    279\u001b[0m     http_response \u001b[38;5;241m=\u001b[39m first_non_none_response(responses)\n\u001b[1;32m    280\u001b[0m     \u001b[38;5;28;01mif\u001b[39;00m http_response \u001b[38;5;129;01mis\u001b[39;00m \u001b[38;5;28;01mNone\u001b[39;00m:\n\u001b[0;32m--> 281\u001b[0m         http_response \u001b[38;5;241m=\u001b[39m \u001b[38;5;28;43mself\u001b[39;49m\u001b[38;5;241;43m.\u001b[39;49m\u001b[43m_send\u001b[49m\u001b[43m(\u001b[49m\u001b[43mrequest\u001b[49m\u001b[43m)\u001b[49m\n\u001b[1;32m    282\u001b[0m \u001b[38;5;28;01mexcept\u001b[39;00m HTTPClientError \u001b[38;5;28;01mas\u001b[39;00m e:\n\u001b[1;32m    283\u001b[0m     \u001b[38;5;28;01mreturn\u001b[39;00m (\u001b[38;5;28;01mNone\u001b[39;00m, e)\n",
      "File \u001b[0;32m~/cs477-final-project/.conda/lib/python3.11/site-packages/botocore/endpoint.py:377\u001b[0m, in \u001b[0;36mEndpoint._send\u001b[0;34m(self, request)\u001b[0m\n\u001b[1;32m    376\u001b[0m \u001b[38;5;28;01mdef\u001b[39;00m \u001b[38;5;21m_send\u001b[39m(\u001b[38;5;28mself\u001b[39m, request):\n\u001b[0;32m--> 377\u001b[0m     \u001b[38;5;28;01mreturn\u001b[39;00m \u001b[38;5;28;43mself\u001b[39;49m\u001b[38;5;241;43m.\u001b[39;49m\u001b[43mhttp_session\u001b[49m\u001b[38;5;241;43m.\u001b[39;49m\u001b[43msend\u001b[49m\u001b[43m(\u001b[49m\u001b[43mrequest\u001b[49m\u001b[43m)\u001b[49m\n",
      "File \u001b[0;32m~/cs477-final-project/.conda/lib/python3.11/site-packages/botocore/httpsession.py:464\u001b[0m, in \u001b[0;36mURLLib3Session.send\u001b[0;34m(self, request)\u001b[0m\n\u001b[1;32m    461\u001b[0m     conn\u001b[38;5;241m.\u001b[39mproxy_headers[\u001b[38;5;124m'\u001b[39m\u001b[38;5;124mhost\u001b[39m\u001b[38;5;124m'\u001b[39m] \u001b[38;5;241m=\u001b[39m host\n\u001b[1;32m    463\u001b[0m request_target \u001b[38;5;241m=\u001b[39m \u001b[38;5;28mself\u001b[39m\u001b[38;5;241m.\u001b[39m_get_request_target(request\u001b[38;5;241m.\u001b[39murl, proxy_url)\n\u001b[0;32m--> 464\u001b[0m urllib_response \u001b[38;5;241m=\u001b[39m \u001b[43mconn\u001b[49m\u001b[38;5;241;43m.\u001b[39;49m\u001b[43murlopen\u001b[49m\u001b[43m(\u001b[49m\n\u001b[1;32m    465\u001b[0m \u001b[43m    \u001b[49m\u001b[43mmethod\u001b[49m\u001b[38;5;241;43m=\u001b[39;49m\u001b[43mrequest\u001b[49m\u001b[38;5;241;43m.\u001b[39;49m\u001b[43mmethod\u001b[49m\u001b[43m,\u001b[49m\n\u001b[1;32m    466\u001b[0m \u001b[43m    \u001b[49m\u001b[43murl\u001b[49m\u001b[38;5;241;43m=\u001b[39;49m\u001b[43mrequest_target\u001b[49m\u001b[43m,\u001b[49m\n\u001b[1;32m    467\u001b[0m \u001b[43m    \u001b[49m\u001b[43mbody\u001b[49m\u001b[38;5;241;43m=\u001b[39;49m\u001b[43mrequest\u001b[49m\u001b[38;5;241;43m.\u001b[39;49m\u001b[43mbody\u001b[49m\u001b[43m,\u001b[49m\n\u001b[1;32m    468\u001b[0m \u001b[43m    \u001b[49m\u001b[43mheaders\u001b[49m\u001b[38;5;241;43m=\u001b[39;49m\u001b[43mrequest\u001b[49m\u001b[38;5;241;43m.\u001b[39;49m\u001b[43mheaders\u001b[49m\u001b[43m,\u001b[49m\n\u001b[1;32m    469\u001b[0m \u001b[43m    \u001b[49m\u001b[43mretries\u001b[49m\u001b[38;5;241;43m=\u001b[39;49m\u001b[43mRetry\u001b[49m\u001b[43m(\u001b[49m\u001b[38;5;28;43;01mFalse\u001b[39;49;00m\u001b[43m)\u001b[49m\u001b[43m,\u001b[49m\n\u001b[1;32m    470\u001b[0m \u001b[43m    \u001b[49m\u001b[43massert_same_host\u001b[49m\u001b[38;5;241;43m=\u001b[39;49m\u001b[38;5;28;43;01mFalse\u001b[39;49;00m\u001b[43m,\u001b[49m\n\u001b[1;32m    471\u001b[0m \u001b[43m    \u001b[49m\u001b[43mpreload_content\u001b[49m\u001b[38;5;241;43m=\u001b[39;49m\u001b[38;5;28;43;01mFalse\u001b[39;49;00m\u001b[43m,\u001b[49m\n\u001b[1;32m    472\u001b[0m \u001b[43m    \u001b[49m\u001b[43mdecode_content\u001b[49m\u001b[38;5;241;43m=\u001b[39;49m\u001b[38;5;28;43;01mFalse\u001b[39;49;00m\u001b[43m,\u001b[49m\n\u001b[1;32m    473\u001b[0m \u001b[43m    \u001b[49m\u001b[43mchunked\u001b[49m\u001b[38;5;241;43m=\u001b[39;49m\u001b[38;5;28;43mself\u001b[39;49m\u001b[38;5;241;43m.\u001b[39;49m\u001b[43m_chunked\u001b[49m\u001b[43m(\u001b[49m\u001b[43mrequest\u001b[49m\u001b[38;5;241;43m.\u001b[39;49m\u001b[43mheaders\u001b[49m\u001b[43m)\u001b[49m\u001b[43m,\u001b[49m\n\u001b[1;32m    474\u001b[0m \u001b[43m\u001b[49m\u001b[43m)\u001b[49m\n\u001b[1;32m    476\u001b[0m http_response \u001b[38;5;241m=\u001b[39m botocore\u001b[38;5;241m.\u001b[39mawsrequest\u001b[38;5;241m.\u001b[39mAWSResponse(\n\u001b[1;32m    477\u001b[0m     request\u001b[38;5;241m.\u001b[39murl,\n\u001b[1;32m    478\u001b[0m     urllib_response\u001b[38;5;241m.\u001b[39mstatus,\n\u001b[1;32m    479\u001b[0m     urllib_response\u001b[38;5;241m.\u001b[39mheaders,\n\u001b[1;32m    480\u001b[0m     urllib_response,\n\u001b[1;32m    481\u001b[0m )\n\u001b[1;32m    483\u001b[0m \u001b[38;5;28;01mif\u001b[39;00m \u001b[38;5;129;01mnot\u001b[39;00m request\u001b[38;5;241m.\u001b[39mstream_output:\n\u001b[1;32m    484\u001b[0m     \u001b[38;5;66;03m# Cause the raw stream to be exhausted immediately. We do it\u001b[39;00m\n\u001b[1;32m    485\u001b[0m     \u001b[38;5;66;03m# this way instead of using preload_content because\u001b[39;00m\n\u001b[1;32m    486\u001b[0m     \u001b[38;5;66;03m# preload_content will never buffer chunked responses\u001b[39;00m\n",
      "File \u001b[0;32m~/cs477-final-project/.conda/lib/python3.11/site-packages/urllib3/connectionpool.py:793\u001b[0m, in \u001b[0;36mHTTPConnectionPool.urlopen\u001b[0;34m(self, method, url, body, headers, retries, redirect, assert_same_host, timeout, pool_timeout, release_conn, chunked, body_pos, preload_content, decode_content, **response_kw)\u001b[0m\n\u001b[1;32m    790\u001b[0m response_conn \u001b[38;5;241m=\u001b[39m conn \u001b[38;5;28;01mif\u001b[39;00m \u001b[38;5;129;01mnot\u001b[39;00m release_conn \u001b[38;5;28;01melse\u001b[39;00m \u001b[38;5;28;01mNone\u001b[39;00m\n\u001b[1;32m    792\u001b[0m \u001b[38;5;66;03m# Make the request on the HTTPConnection object\u001b[39;00m\n\u001b[0;32m--> 793\u001b[0m response \u001b[38;5;241m=\u001b[39m \u001b[38;5;28;43mself\u001b[39;49m\u001b[38;5;241;43m.\u001b[39;49m\u001b[43m_make_request\u001b[49m\u001b[43m(\u001b[49m\n\u001b[1;32m    794\u001b[0m \u001b[43m    \u001b[49m\u001b[43mconn\u001b[49m\u001b[43m,\u001b[49m\n\u001b[1;32m    795\u001b[0m \u001b[43m    \u001b[49m\u001b[43mmethod\u001b[49m\u001b[43m,\u001b[49m\n\u001b[1;32m    796\u001b[0m \u001b[43m    \u001b[49m\u001b[43murl\u001b[49m\u001b[43m,\u001b[49m\n\u001b[1;32m    797\u001b[0m \u001b[43m    \u001b[49m\u001b[43mtimeout\u001b[49m\u001b[38;5;241;43m=\u001b[39;49m\u001b[43mtimeout_obj\u001b[49m\u001b[43m,\u001b[49m\n\u001b[1;32m    798\u001b[0m \u001b[43m    \u001b[49m\u001b[43mbody\u001b[49m\u001b[38;5;241;43m=\u001b[39;49m\u001b[43mbody\u001b[49m\u001b[43m,\u001b[49m\n\u001b[1;32m    799\u001b[0m \u001b[43m    \u001b[49m\u001b[43mheaders\u001b[49m\u001b[38;5;241;43m=\u001b[39;49m\u001b[43mheaders\u001b[49m\u001b[43m,\u001b[49m\n\u001b[1;32m    800\u001b[0m \u001b[43m    \u001b[49m\u001b[43mchunked\u001b[49m\u001b[38;5;241;43m=\u001b[39;49m\u001b[43mchunked\u001b[49m\u001b[43m,\u001b[49m\n\u001b[1;32m    801\u001b[0m \u001b[43m    \u001b[49m\u001b[43mretries\u001b[49m\u001b[38;5;241;43m=\u001b[39;49m\u001b[43mretries\u001b[49m\u001b[43m,\u001b[49m\n\u001b[1;32m    802\u001b[0m \u001b[43m    \u001b[49m\u001b[43mresponse_conn\u001b[49m\u001b[38;5;241;43m=\u001b[39;49m\u001b[43mresponse_conn\u001b[49m\u001b[43m,\u001b[49m\n\u001b[1;32m    803\u001b[0m \u001b[43m    \u001b[49m\u001b[43mpreload_content\u001b[49m\u001b[38;5;241;43m=\u001b[39;49m\u001b[43mpreload_content\u001b[49m\u001b[43m,\u001b[49m\n\u001b[1;32m    804\u001b[0m \u001b[43m    \u001b[49m\u001b[43mdecode_content\u001b[49m\u001b[38;5;241;43m=\u001b[39;49m\u001b[43mdecode_content\u001b[49m\u001b[43m,\u001b[49m\n\u001b[1;32m    805\u001b[0m \u001b[43m    \u001b[49m\u001b[38;5;241;43m*\u001b[39;49m\u001b[38;5;241;43m*\u001b[39;49m\u001b[43mresponse_kw\u001b[49m\u001b[43m,\u001b[49m\n\u001b[1;32m    806\u001b[0m \u001b[43m\u001b[49m\u001b[43m)\u001b[49m\n\u001b[1;32m    808\u001b[0m \u001b[38;5;66;03m# Everything went great!\u001b[39;00m\n\u001b[1;32m    809\u001b[0m clean_exit \u001b[38;5;241m=\u001b[39m \u001b[38;5;28;01mTrue\u001b[39;00m\n",
      "File \u001b[0;32m~/cs477-final-project/.conda/lib/python3.11/site-packages/urllib3/connectionpool.py:537\u001b[0m, in \u001b[0;36mHTTPConnectionPool._make_request\u001b[0;34m(self, conn, method, url, body, headers, retries, timeout, chunked, response_conn, preload_content, decode_content, enforce_content_length)\u001b[0m\n\u001b[1;32m    535\u001b[0m \u001b[38;5;66;03m# Receive the response from the server\u001b[39;00m\n\u001b[1;32m    536\u001b[0m \u001b[38;5;28;01mtry\u001b[39;00m:\n\u001b[0;32m--> 537\u001b[0m     response \u001b[38;5;241m=\u001b[39m \u001b[43mconn\u001b[49m\u001b[38;5;241;43m.\u001b[39;49m\u001b[43mgetresponse\u001b[49m\u001b[43m(\u001b[49m\u001b[43m)\u001b[49m\n\u001b[1;32m    538\u001b[0m \u001b[38;5;28;01mexcept\u001b[39;00m (BaseSSLError, \u001b[38;5;167;01mOSError\u001b[39;00m) \u001b[38;5;28;01mas\u001b[39;00m e:\n\u001b[1;32m    539\u001b[0m     \u001b[38;5;28mself\u001b[39m\u001b[38;5;241m.\u001b[39m_raise_timeout(err\u001b[38;5;241m=\u001b[39me, url\u001b[38;5;241m=\u001b[39murl, timeout_value\u001b[38;5;241m=\u001b[39mread_timeout)\n",
      "File \u001b[0;32m~/cs477-final-project/.conda/lib/python3.11/site-packages/urllib3/connection.py:466\u001b[0m, in \u001b[0;36mHTTPConnection.getresponse\u001b[0;34m(self)\u001b[0m\n\u001b[1;32m    463\u001b[0m \u001b[38;5;28;01mfrom\u001b[39;00m \u001b[38;5;21;01m.\u001b[39;00m\u001b[38;5;21;01mresponse\u001b[39;00m \u001b[38;5;28;01mimport\u001b[39;00m HTTPResponse\n\u001b[1;32m    465\u001b[0m \u001b[38;5;66;03m# Get the response from http.client.HTTPConnection\u001b[39;00m\n\u001b[0;32m--> 466\u001b[0m httplib_response \u001b[38;5;241m=\u001b[39m \u001b[38;5;28;43msuper\u001b[39;49m\u001b[43m(\u001b[49m\u001b[43m)\u001b[49m\u001b[38;5;241;43m.\u001b[39;49m\u001b[43mgetresponse\u001b[49m\u001b[43m(\u001b[49m\u001b[43m)\u001b[49m\n\u001b[1;32m    468\u001b[0m \u001b[38;5;28;01mtry\u001b[39;00m:\n\u001b[1;32m    469\u001b[0m     assert_header_parsing(httplib_response\u001b[38;5;241m.\u001b[39mmsg)\n",
      "File \u001b[0;32m~/cs477-final-project/.conda/lib/python3.11/http/client.py:1395\u001b[0m, in \u001b[0;36mHTTPConnection.getresponse\u001b[0;34m(self)\u001b[0m\n\u001b[1;32m   1393\u001b[0m \u001b[38;5;28;01mtry\u001b[39;00m:\n\u001b[1;32m   1394\u001b[0m     \u001b[38;5;28;01mtry\u001b[39;00m:\n\u001b[0;32m-> 1395\u001b[0m         \u001b[43mresponse\u001b[49m\u001b[38;5;241;43m.\u001b[39;49m\u001b[43mbegin\u001b[49m\u001b[43m(\u001b[49m\u001b[43m)\u001b[49m\n\u001b[1;32m   1396\u001b[0m     \u001b[38;5;28;01mexcept\u001b[39;00m \u001b[38;5;167;01mConnectionError\u001b[39;00m:\n\u001b[1;32m   1397\u001b[0m         \u001b[38;5;28mself\u001b[39m\u001b[38;5;241m.\u001b[39mclose()\n",
      "File \u001b[0;32m~/cs477-final-project/.conda/lib/python3.11/http/client.py:325\u001b[0m, in \u001b[0;36mHTTPResponse.begin\u001b[0;34m(self)\u001b[0m\n\u001b[1;32m    323\u001b[0m \u001b[38;5;66;03m# read until we get a non-100 response\u001b[39;00m\n\u001b[1;32m    324\u001b[0m \u001b[38;5;28;01mwhile\u001b[39;00m \u001b[38;5;28;01mTrue\u001b[39;00m:\n\u001b[0;32m--> 325\u001b[0m     version, status, reason \u001b[38;5;241m=\u001b[39m \u001b[38;5;28;43mself\u001b[39;49m\u001b[38;5;241;43m.\u001b[39;49m\u001b[43m_read_status\u001b[49m\u001b[43m(\u001b[49m\u001b[43m)\u001b[49m\n\u001b[1;32m    326\u001b[0m     \u001b[38;5;28;01mif\u001b[39;00m status \u001b[38;5;241m!=\u001b[39m CONTINUE:\n\u001b[1;32m    327\u001b[0m         \u001b[38;5;28;01mbreak\u001b[39;00m\n",
      "File \u001b[0;32m~/cs477-final-project/.conda/lib/python3.11/http/client.py:286\u001b[0m, in \u001b[0;36mHTTPResponse._read_status\u001b[0;34m(self)\u001b[0m\n\u001b[1;32m    285\u001b[0m \u001b[38;5;28;01mdef\u001b[39;00m \u001b[38;5;21m_read_status\u001b[39m(\u001b[38;5;28mself\u001b[39m):\n\u001b[0;32m--> 286\u001b[0m     line \u001b[38;5;241m=\u001b[39m \u001b[38;5;28mstr\u001b[39m(\u001b[38;5;28mself\u001b[39m\u001b[38;5;241m.\u001b[39mfp\u001b[38;5;241m.\u001b[39mreadline(_MAXLINE \u001b[38;5;241m+\u001b[39m \u001b[38;5;241m1\u001b[39m), \u001b[38;5;124m\"\u001b[39m\u001b[38;5;124miso-8859-1\u001b[39m\u001b[38;5;124m\"\u001b[39m)\n\u001b[1;32m    287\u001b[0m     \u001b[38;5;28;01mif\u001b[39;00m \u001b[38;5;28mlen\u001b[39m(line) \u001b[38;5;241m>\u001b[39m _MAXLINE:\n\u001b[1;32m    288\u001b[0m         \u001b[38;5;28;01mraise\u001b[39;00m LineTooLong(\u001b[38;5;124m\"\u001b[39m\u001b[38;5;124mstatus line\u001b[39m\u001b[38;5;124m\"\u001b[39m)\n",
      "File \u001b[0;32m~/cs477-final-project/.conda/lib/python3.11/socket.py:706\u001b[0m, in \u001b[0;36mSocketIO.readinto\u001b[0;34m(self, b)\u001b[0m\n\u001b[1;32m    704\u001b[0m \u001b[38;5;28;01mwhile\u001b[39;00m \u001b[38;5;28;01mTrue\u001b[39;00m:\n\u001b[1;32m    705\u001b[0m     \u001b[38;5;28;01mtry\u001b[39;00m:\n\u001b[0;32m--> 706\u001b[0m         \u001b[38;5;28;01mreturn\u001b[39;00m \u001b[38;5;28;43mself\u001b[39;49m\u001b[38;5;241;43m.\u001b[39;49m\u001b[43m_sock\u001b[49m\u001b[38;5;241;43m.\u001b[39;49m\u001b[43mrecv_into\u001b[49m\u001b[43m(\u001b[49m\u001b[43mb\u001b[49m\u001b[43m)\u001b[49m\n\u001b[1;32m    707\u001b[0m     \u001b[38;5;28;01mexcept\u001b[39;00m timeout:\n\u001b[1;32m    708\u001b[0m         \u001b[38;5;28mself\u001b[39m\u001b[38;5;241m.\u001b[39m_timeout_occurred \u001b[38;5;241m=\u001b[39m \u001b[38;5;28;01mTrue\u001b[39;00m\n",
      "File \u001b[0;32m~/cs477-final-project/.conda/lib/python3.11/ssl.py:1314\u001b[0m, in \u001b[0;36mSSLSocket.recv_into\u001b[0;34m(self, buffer, nbytes, flags)\u001b[0m\n\u001b[1;32m   1310\u001b[0m     \u001b[38;5;28;01mif\u001b[39;00m flags \u001b[38;5;241m!=\u001b[39m \u001b[38;5;241m0\u001b[39m:\n\u001b[1;32m   1311\u001b[0m         \u001b[38;5;28;01mraise\u001b[39;00m \u001b[38;5;167;01mValueError\u001b[39;00m(\n\u001b[1;32m   1312\u001b[0m           \u001b[38;5;124m\"\u001b[39m\u001b[38;5;124mnon-zero flags not allowed in calls to recv_into() on \u001b[39m\u001b[38;5;132;01m%s\u001b[39;00m\u001b[38;5;124m\"\u001b[39m \u001b[38;5;241m%\u001b[39m\n\u001b[1;32m   1313\u001b[0m           \u001b[38;5;28mself\u001b[39m\u001b[38;5;241m.\u001b[39m\u001b[38;5;18m__class__\u001b[39m)\n\u001b[0;32m-> 1314\u001b[0m     \u001b[38;5;28;01mreturn\u001b[39;00m \u001b[38;5;28;43mself\u001b[39;49m\u001b[38;5;241;43m.\u001b[39;49m\u001b[43mread\u001b[49m\u001b[43m(\u001b[49m\u001b[43mnbytes\u001b[49m\u001b[43m,\u001b[49m\u001b[43m \u001b[49m\u001b[43mbuffer\u001b[49m\u001b[43m)\u001b[49m\n\u001b[1;32m   1315\u001b[0m \u001b[38;5;28;01melse\u001b[39;00m:\n\u001b[1;32m   1316\u001b[0m     \u001b[38;5;28;01mreturn\u001b[39;00m \u001b[38;5;28msuper\u001b[39m()\u001b[38;5;241m.\u001b[39mrecv_into(buffer, nbytes, flags)\n",
      "File \u001b[0;32m~/cs477-final-project/.conda/lib/python3.11/ssl.py:1166\u001b[0m, in \u001b[0;36mSSLSocket.read\u001b[0;34m(self, len, buffer)\u001b[0m\n\u001b[1;32m   1164\u001b[0m \u001b[38;5;28;01mtry\u001b[39;00m:\n\u001b[1;32m   1165\u001b[0m     \u001b[38;5;28;01mif\u001b[39;00m buffer \u001b[38;5;129;01mis\u001b[39;00m \u001b[38;5;129;01mnot\u001b[39;00m \u001b[38;5;28;01mNone\u001b[39;00m:\n\u001b[0;32m-> 1166\u001b[0m         \u001b[38;5;28;01mreturn\u001b[39;00m \u001b[38;5;28;43mself\u001b[39;49m\u001b[38;5;241;43m.\u001b[39;49m\u001b[43m_sslobj\u001b[49m\u001b[38;5;241;43m.\u001b[39;49m\u001b[43mread\u001b[49m\u001b[43m(\u001b[49m\u001b[38;5;28;43mlen\u001b[39;49m\u001b[43m,\u001b[49m\u001b[43m \u001b[49m\u001b[43mbuffer\u001b[49m\u001b[43m)\u001b[49m\n\u001b[1;32m   1167\u001b[0m     \u001b[38;5;28;01melse\u001b[39;00m:\n\u001b[1;32m   1168\u001b[0m         \u001b[38;5;28;01mreturn\u001b[39;00m \u001b[38;5;28mself\u001b[39m\u001b[38;5;241m.\u001b[39m_sslobj\u001b[38;5;241m.\u001b[39mread(\u001b[38;5;28mlen\u001b[39m)\n",
      "\u001b[0;31mKeyboardInterrupt\u001b[0m: "
     ]
    }
   ],
   "source": [
    "import calling\n",
    "from tqdm import tqdm\n",
    "results = []\n",
    "num_pass = 0\n",
    "token_usage = 0\n",
    "for i, row in tqdm(df.iterrows()):\n",
    "    obj = prompts.to_patent_data(row, \"claude3haiku\", prefer_local=True, mode=TEXT_ONLY)\n",
    "    if (obj is None): continue\n",
    "    print(obj)\n",
    "    messages = prompts.generate_prompt_claude(obj)\n",
    "    try:\n",
    "        result = calling.call_anthropic(obj)\n",
    "    except Exception as e:\n",
    "        print(e)\n",
    "        continue\n",
    "    results.append(result)\n",
    "    if obj.label in result:\n",
    "        num_pass += 1\n",
    "    print(f\"Output: {result}, Expected: {obj.label}, Current Accuracy: {num_pass/(i+1)}, Token Usage: {token_usage}\")"
   ]
  },
  {
   "cell_type": "markdown",
   "metadata": {},
   "source": [
    "## Text and Image"
   ]
  },
  {
   "cell_type": "code",
   "execution_count": 5,
   "metadata": {},
   "outputs": [
    {
     "name": "stderr",
     "output_type": "stream",
     "text": [
      "0it [00:00, ?it/s]"
     ]
    },
    {
     "name": "stdout",
     "output_type": "stream",
     "text": [
      "PatentData(text='A portable drug dispenser includes a chamber for holding a plurality of separately contained drug products, a dispensing mechanism for dispensing one or more of the plurality of drug products, and may optionally include a processor to determine the time of each activation of the dispensing mechanism and to transmit the determined time of activation to a computer located remote to the dispenser. The dispenser may include more than one chamber for holding drugs.', image=<PIL.Image.Image image mode=RGB size=3000x1882 at 0x7F5426BCA550>, label='A61J', model_output=None, messages=None, model_type='claude3haiku', mode=0)\n"
     ]
    },
    {
     "name": "stderr",
     "output_type": "stream",
     "text": [
      "1it [00:01,  1.12s/it]"
     ]
    },
    {
     "name": "stdout",
     "output_type": "stream",
     "text": [
      "Output: A61J, Expected: A61J, Current Accuracy: 1.0, Token Usage: 0\n",
      "PatentData(text='A crystal growth furnace comprising a crucible containing at least feedstock material and a liquid-cooled heat exchanger that is vertically movable beneath the crucible to extract heat from it to promote the growth of a crystalline ingot is disclosed. The liquid-cooled heat exchanger comprises a heat extraction bulb made of high thermal conductivity material that is vertically movable into thermal communication with the crucible to extract heat from the crucible using a liquid coolant. A liquid-cooled heat exchanger enclosed in a sealed tubular outer jacket is also disclosed as is a method for producing a crystalline ingot using a vertically movable liquid-cooled heat exchanger.', image=<PIL.Image.Image image mode=RGB size=2651x3000 at 0x7F5426D8FE50>, label='C30B', model_output=None, messages=None, model_type='claude3haiku', mode=0)\n"
     ]
    },
    {
     "name": "stderr",
     "output_type": "stream",
     "text": [
      "2it [00:02,  1.18s/it]"
     ]
    },
    {
     "name": "stdout",
     "output_type": "stream",
     "text": [
      "Output: C30B, Expected: C30B, Current Accuracy: 1.0, Token Usage: 0\n",
      "PatentData(text='A shoe midsole is composed of a base plate (1), a cover (2), a plurality of blades (3), and liquid (4). The blades (3) are formed in such a manner as to rise within a first region (11) of the base plate (1). The blades (3) are each composed of a plurality of flat-shaped blade elements (32, 33) separated each other by slits (31), and are tilted toward the toe side or the heel side. The flat-shaped blade elements (32, 33) are disposed in such a manner as to be divergent toward the toe side or the heel side. The base plate (1) and the cover (2) are joined together, thereby forming a closed space (5), and the liquid (4) is sealed in the closed space.', image=<PIL.Image.Image image mode=RGB size=1470x3000 at 0x7F5426D8F090>, label='A43B', model_output=None, messages=None, model_type='claude3haiku', mode=0)\n"
     ]
    },
    {
     "name": "stderr",
     "output_type": "stream",
     "text": [
      "3it [00:03,  1.22s/it]"
     ]
    },
    {
     "name": "stdout",
     "output_type": "stream",
     "text": [
      "Output: A43B, Expected: A43B, Current Accuracy: 1.0, Token Usage: 0\n",
      "PatentData(text='A ratchet tool includes a shaft member, a handle and a ratchet mechanism, in which the handle is connected to the ratchet mechanism, and the shaft member extends into the interior of the ratchet mechanism along the central axle of the ratchet mechanism from the front end of the ratchet mechanism and is connected to the ratchet mechanism. The shaft member includes a shaft and an extension portion which passes through the rear end of the ratchet mechanism along the central axle of the ratchet mechanism from the front end of the ratchet mechanism and is connected to the ratchet mechanism, and the shaft is designed to be integrated with or separated from the extension portion. Such a design of the shaft member solves the wobble problem of the shaft. The ratchet tool of the present invention also includes a lighting device. The ratchet tool of the present invention requires small turning force when turning back and has strong capacity of torque transferring, and at the same time achieves lighting feature.', image=<PIL.Image.Image image mode=RGB size=2716x3000 at 0x7F5426D96950>, label='B25B', model_output=None, messages=None, model_type='claude3haiku', mode=0)\n"
     ]
    },
    {
     "name": "stderr",
     "output_type": "stream",
     "text": [
      "4it [00:04,  1.16s/it]"
     ]
    },
    {
     "name": "stdout",
     "output_type": "stream",
     "text": [
      "Output: B25B, Expected: B25B, Current Accuracy: 1.0, Token Usage: 0\n",
      "PatentData(text='Provided are a rubber composition using an antioxidant synthesized from biological resources including botanical resources, wherein the value of δ13C of the antioxidant is from −30‰ to −26‰, or −22‰ or more, and a tire using the rubber composition.', image=<PIL.Image.Image image mode=RGB size=2064x1423 at 0x7F5426D8C8D0>, label='C08K', model_output=None, messages=None, model_type='claude3haiku', mode=0)\n"
     ]
    },
    {
     "name": "stderr",
     "output_type": "stream",
     "text": [
      "5it [00:05,  1.07s/it]"
     ]
    },
    {
     "name": "stdout",
     "output_type": "stream",
     "text": [
      "Output: C08K, Expected: C08K, Current Accuracy: 1.0, Token Usage: 0\n",
      "PatentData(text='Glazings comprising first and second channel-section glazing elements are described. The first and second channel-section glazing elements are arranged to define a cavity in which is located an inner glazing element comprising a glass glazing element, in particular a soda-lime-silica glass sheet, channel-section glazing element or sheet of rolled glass having at least one fire polished edge. The inner glazing element divides the cavity into at least two spaces to improve the thermal and/or noise performance of the glazing. By using low emissivity coatings on one or more major surfaces of one or more of the glazing elements, the thermal performance may be further improved. Mechanical performance may be modified by the particular type of inner glazing element used. It is possible to retrofit existing glazings to improve the thermal and/or noise performance thereof.', image=<PIL.Image.Image image mode=RGB size=3000x1274 at 0x7F5426D96DD0>, label='E04C', model_output=None, messages=None, model_type='claude3haiku', mode=0)\n"
     ]
    },
    {
     "name": "stderr",
     "output_type": "stream",
     "text": [
      "6it [00:06,  1.05s/it]"
     ]
    },
    {
     "name": "stdout",
     "output_type": "stream",
     "text": [
      "Output: E06B, Expected: E04C, Current Accuracy: 0.8333333333333334, Token Usage: 0\n",
      "PatentData(text='An exhaust stem for use with a valve assembly is provided. The exhaust stem is a hollow body which comprises an inner surface, a distal end, and an outer surface. The inner surface forms a portion of a fluid conduit through the exhaust stem. The distal end is shaped to sealingly engage a valve of the valve assembly. The outer surface defines a plurality of turbulence reducing protuberances. The plurality of turbulence reducing protuberances distributes a fluid within a valve housing of the valve assembly to facilitate operation of the valve assembly. The valve assembly decreases an amount of fluid turbulence in a tire inflation system, provides greater flexibility in configuring the tire inflation system, and facilitates accurate control of a pressure within individual tires of a vehicle.', image=<PIL.Image.Image image mode=RGB size=2452x2700 at 0x7F5426D94C10>, label='B60C', model_output=None, messages=None, model_type='claude3haiku', mode=0)\n"
     ]
    },
    {
     "name": "stderr",
     "output_type": "stream",
     "text": [
      "7it [00:07,  1.04it/s]"
     ]
    },
    {
     "name": "stdout",
     "output_type": "stream",
     "text": [
      "Output: F16K, Expected: B60C, Current Accuracy: 0.7142857142857143, Token Usage: 0\n",
      "PatentData(text='Liquefied gas tank that is easy to machine and quick to operate and bag for sealing cable ducts incorporating said tank. The tank is provided with breaking means for inflating sealed compartments composed of a main pipe (1) closed on one side, an outlet pipe (4) inserted on the other side of the main tube through a first end (6) and closed on the distal end thereof, wherein the outlet pipe is provided with a narrowing (5) that defines a breaking point and an internal orifice (8) that extends from the first end of the outlet pipe to the narrowing (5) towards the distal end, and wherein the size of the narrowing (5), the size of the orifice (8) and the length of the outlet pipe (4) are determined such that a force applied on a lever of between 19N and 80N will break the outlet pipe (4) at the breaking point (5), releasing the gas through the orifice (8).', image=<PIL.Image.Image image mode=RGB size=3000x1330 at 0x7F5426D95E50>, label='F17C', model_output=None, messages=None, model_type='claude3haiku', mode=0)\n"
     ]
    },
    {
     "name": "stderr",
     "output_type": "stream",
     "text": [
      "8it [00:08,  1.14s/it]"
     ]
    },
    {
     "name": "stdout",
     "output_type": "stream",
     "text": [
      "Output: F16J, Expected: F17C, Current Accuracy: 0.625, Token Usage: 0\n",
      "PatentData(text='A paper product comprising a planar fibrous cellulose substrate, and a coating composition disposed on a surface of said substrate comprising an interpolymer prepared by the emulsion polymerization of (i) one or more vinyl ester monomers; (ii) ethylene; (iii) an unsaturated silane co-monomer; and (iv) one or more emulsion-stabilizing ionic co-monomers comprising one or more of unsaturated, substituted sulfonic acid, one or more of an unsaturated phosphonic acid, or an ester of one of those acids, in the presence of (v) a stabilizing system which comprises one or more anionic and/or nonionic surfactants but less than about 1 pphm of any protective colloid material; and (v) water.', image=<PIL.Image.Image image mode=RGB size=1242x1516 at 0x7F5426D94E50>, label='D21H', model_output=None, messages=None, model_type='claude3haiku', mode=0)\n"
     ]
    },
    {
     "name": "stderr",
     "output_type": "stream",
     "text": [
      "9it [00:09,  1.02it/s]"
     ]
    },
    {
     "name": "stdout",
     "output_type": "stream",
     "text": [
      "Output: D21H, Expected: D21H, Current Accuracy: 0.6666666666666666, Token Usage: 0\n",
      "PatentData(text='The present disclosure relates to a display panel, a pixel structure, and a method for driving the display panel. The pixel structure comprises a plurality of sub-pixels, each of which comprises: a main portion configured to receive a scan signal of a first scan line, and then to receive a data signal of a data line, so that it has a main-portion voltage; a first portion configured to receive the scan signal of the first scan line, and then to receive the data signal of the data line, so that it has a first-portion voltage; and a second portion configured to receive a scan signal of a second scan line, and then to receive the data signal of the data line, so that it a second-portion voltage, wherein the main-portion voltage, the first-portion voltage and the second-portion voltage are different from one another. The display panel can not only achieve lower color shift for 2D display, but also enable lower color shift for 3D display by using a voltage difference between the main portion and the first portion after turning the second portion into a light shielding area.', image=<PIL.Image.Image image mode=RGB size=2284x3000 at 0x7F5426D94FD0>, label='G09G', model_output=None, messages=None, model_type='claude3haiku', mode=0)\n"
     ]
    },
    {
     "name": "stderr",
     "output_type": "stream",
     "text": [
      "10it [00:10,  1.03it/s]"
     ]
    },
    {
     "name": "stdout",
     "output_type": "stream",
     "text": [
      "Output: G09G, Expected: G09G, Current Accuracy: 0.7, Token Usage: 0\n",
      "PatentData(text='The disclosed broadband supercontinuum light emitting device includes a nonlinear optical fiber, a pump system, a cavity, and an active medium. The active medium may comprise an active fiber and may be located inside the cavity. The active medium is configured and arranged, by means of a pumping provided by the pump system, to generate and emit chaotic pulses of laser light towards the nonlinear optical fiber, which excite the nonlinear effects thereof for the generation and emission of supercontinuum light in the form of pulses of light distributed randomly over time. Numerous uses of the device are disclosed for multiple applications that require a low-cost, very bright light source with an adequate broadband spectrum.', image=<PIL.Image.Image image mode=RGB size=3000x2202 at 0x7F5426D97990>, label='H01S', model_output=None, messages=None, model_type='claude3haiku', mode=0)\n"
     ]
    },
    {
     "name": "stderr",
     "output_type": "stream",
     "text": [
      "11it [00:11,  1.01it/s]"
     ]
    },
    {
     "name": "stdout",
     "output_type": "stream",
     "text": [
      "Output: G02F, Expected: H01S, Current Accuracy: 0.6363636363636364, Token Usage: 0\n",
      "PatentData(text='An offshore power generation structure comprising a submerged portion having a first deck portion comprising an integral multi-stage evaporator system, a second deck portion comprising an integral multi-stage condensing system, a third deck portion housing power generation equipment, cold water pipe; and a cold water pipe connection.', image=<PIL.Image.Image image mode=RGB size=2975x3000 at 0x7F5426DDA0D0>, label='F03G', model_output=None, messages=None, model_type='claude3haiku', mode=0)\n"
     ]
    },
    {
     "name": "stderr",
     "output_type": "stream",
     "text": [
      "12it [00:13,  1.37s/it]"
     ]
    },
    {
     "name": "stdout",
     "output_type": "stream",
     "text": [
      "Output: F03G, Expected: F03G, Current Accuracy: 0.6666666666666666, Token Usage: 0\n",
      "PatentData(text='A burst-mode laser control circuit and related methods thereof are disclosed. Using an APC loop with an additional burst-mode control circuit, and a switch in series with a diode and in parallel with the laser, a continuous-mode laser driver is enabled to operate in burst-mode by turning the switch on or off via external logic. Burst-mode control manages the switch, and a bandwidth-select circuit using a high or low logic level input, wherein the laser is disabled and the bandwidth-select circuit enters a fast-track mode when the external logic signal has a first level. The laser provides regular optical signals, and the bandwidth-select circuit enters a slow-track mode, thereby enabling the APC loop to operate normally, when the external logic signal has a second level. In addition to a low cost and simple implementation, the control circuit and method provide lasers with a fast response capability using one or more externally-controlled switch circuits to meet demands of PON systems for burst-mode ONUs.', image=<PIL.Image.Image image mode=RGB size=2101x3000 at 0x7F5426BEBB50>, label='H04B', model_output=None, messages=None, model_type='claude3haiku', mode=0)\n"
     ]
    },
    {
     "name": "stderr",
     "output_type": "stream",
     "text": [
      "13it [00:14,  1.29s/it]"
     ]
    },
    {
     "name": "stdout",
     "output_type": "stream",
     "text": [
      "Output: H04B, Expected: H04B, Current Accuracy: 0.6923076923076923, Token Usage: 0\n",
      "PatentData(text='Automated device for opening and closing metal goods-transportation boxes for stowage on ships relates to an automated device designed to open and close metal goods-transportation boxes for stowage on ships that obviates the need for storage silos close to the quay of the port and the conveyer belts and accessories thereof for loading the ship.', image=<PIL.Image.Image image mode=RGB size=2958x3000 at 0x7F5426D8C490>, label='B66C', model_output=None, messages=None, model_type='claude3haiku', mode=0)\n"
     ]
    },
    {
     "name": "stderr",
     "output_type": "stream",
     "text": [
      "14it [00:16,  1.29s/it]"
     ]
    },
    {
     "name": "stdout",
     "output_type": "stream",
     "text": [
      "Output: B65G, Expected: B66C, Current Accuracy: 0.6428571428571429, Token Usage: 0\n",
      "PatentData(text='A method for protecting data transmission in an ad hoc network including nodes, each node including a private key, a public key and a certificate of the public key signed by a certification authority, the method including transmitting by the first node to the second node: a first message signed with the private key of the first node; a third message containing a first set of initialization data including: a first certificate including the public key of the first node, signed by the certification authority; a second data set including the IP address of the first node; and the first certificate associated with the IP address of the first node, wherein the second data set is signed with the private key of the first node.', image=<PIL.Image.Image image mode=RGB size=3000x2182 at 0x7F5426DBE110>, label='H04L', model_output=None, messages=None, model_type='claude3haiku', mode=0)\n"
     ]
    },
    {
     "name": "stderr",
     "output_type": "stream",
     "text": [
      "15it [00:17,  1.26s/it]"
     ]
    },
    {
     "name": "stdout",
     "output_type": "stream",
     "text": [
      "Output: H04L, Expected: H04L, Current Accuracy: 0.6666666666666666, Token Usage: 0\n",
      "PatentData(text='A method for merging two sub-networks of an ad hoc network implementing the D2HCP routing protocol includes transmitting a first data set from the master node to the slave node, the first set including the identifiers of all the nodes of the sub-network containing the master node, the IP addresses of all the nodes of the sub-network containing the master node, each node identifier being associated with a single IP address, comparing each received IP address of the first set with the IP addresses of the routing table of the slave node in order to identify a list of duplicates corresponding to nodes of each sub-network having the same IP addresses.', image=<PIL.Image.Image image mode=RGB size=1767x2382 at 0x7F5426DBFB90>, label='H04L', model_output=None, messages=None, model_type='claude3haiku', mode=0)\n"
     ]
    },
    {
     "name": "stderr",
     "output_type": "stream",
     "text": [
      "16it [00:18,  1.15s/it]"
     ]
    },
    {
     "name": "stdout",
     "output_type": "stream",
     "text": [
      "Output: H04W40/12, Expected: H04L, Current Accuracy: 0.625, Token Usage: 0\n",
      "PatentData(text='A pharmaceutical composition comprising at least two peptides of from 15 to 60 amino acids in length, selected from peptides comprising a sequence of at least 15 contiguous amino acids of one of the sequences shown in SEQ ID NOs: 1 to 4 or of a sequence having at least 80% identity to one of the sequences shown in SEQ ID NOs: to 4, wherein each peptide comprises at least one CD8+ T-cell epitope and/or at least one CD4+ T-cell epitope and wherein each peptide elicits a response in peripheral blood mononuclear cells (PBMC) from at least one chronically infected HBV individual in an 10 in vitroassay.', image=<PIL.Image.Image image mode=RGB size=3000x2161 at 0x7F5426DBFD90>, label='A61K', model_output=None, messages=None, model_type='claude3haiku', mode=0)\n"
     ]
    },
    {
     "name": "stderr",
     "output_type": "stream",
     "text": [
      "17it [00:19,  1.33s/it]"
     ]
    },
    {
     "name": "stdout",
     "output_type": "stream",
     "text": [
      "Output: A61K, Expected: A61K, Current Accuracy: 0.6470588235294118, Token Usage: 0\n",
      "PatentData(text='To expose a desired feature, focused ion beam milling of thin slices from a cross section alternate with forming a scanning electron image of each newly exposed cross section. Milling is stopped when automatic analysis of an electron beam image of the newly exposed cross section shows that a pre-determined criterion is met.', image=<PIL.Image.Image image mode=RGB size=1678x3000 at 0x7F5426DBD2D0>, label='H01J', model_output=None, messages=None, model_type='claude3haiku', mode=0)\n"
     ]
    },
    {
     "name": "stderr",
     "output_type": "stream",
     "text": [
      "18it [00:21,  1.31s/it]"
     ]
    },
    {
     "name": "stdout",
     "output_type": "stream",
     "text": [
      "Output: H01J, Expected: H01J, Current Accuracy: 0.6666666666666666, Token Usage: 0\n",
      "PatentData(text='A lift with guide rails and guide device and by using a cable winch reduction, an electric drive or a hydraulic cylinder enables a lift platform or a double platform to move vertically over a lifting and the swimming pool lift includes a flotation body, which can receive the drive, the hydraulic system and the swimming pool cleaning system.', image=<PIL.Image.Image image mode=RGB size=2522x3000 at 0x7F5426D96C90>, label='A61G', model_output=None, messages=None, model_type='claude3haiku', mode=0)\n"
     ]
    },
    {
     "name": "stderr",
     "output_type": "stream",
     "text": [
      "19it [00:22,  1.28s/it]"
     ]
    },
    {
     "name": "stdout",
     "output_type": "stream",
     "text": [
      "Output: B66B, Expected: A61G, Current Accuracy: 0.631578947368421, Token Usage: 0\n",
      "PatentData(text=\"Disclosed are compounds of formula (1)-(V): where the substituents are as provided herein. Further disclosed are methods of inhibiting tau aggregation, treating or ameliorating a tauopathy or cancer by administration of such a compound. Tau is a microtubule-binding protein that accumulates in a number of neurodegenerative disorders, including frontotemporal dementia and Alzheimer's disease (AD). The presence of abnormal tau correlates with neuron loss and memory deficits in patients with AD and other neurodegenerative disorders that involve tau accumulation.\", image=<PIL.Image.Image image mode=RGB size=1553x3000 at 0x7F5426DD9D50>, label='A61K', model_output=None, messages=None, model_type='claude3haiku', mode=0)\n"
     ]
    },
    {
     "name": "stderr",
     "output_type": "stream",
     "text": [
      "20it [00:23,  1.28s/it]"
     ]
    },
    {
     "name": "stdout",
     "output_type": "stream",
     "text": [
      "Output: A61P, Expected: A61K, Current Accuracy: 0.6, Token Usage: 0\n",
      "PatentData(text='The present invention relates to a method for targeted inactivation of transcription factor using an artificial small interfering peptide and a use thereof. According to the present invention, an artificial small interfering peptide (a-siPEP) as a truncated from of the transcription factor for regulating transcription by dimerization was produced. It was also confirmed that, as a-siPEP forms a heterodimer with a transcription factor, DNA binding and transport into a nucleus of the transcription factor are inhibited, so that inactivation of the transcription factor is achieved at protein level. The method for inhibiting transcription factor activity using a-siPEP can replace a gene knock-out method and it allows protein-level inhibition of a transcription factor. Also, it is a transcription regulation method with high precision and high efficiency that can be applied for both monocot and dicot plants.', image=<PIL.Image.Image image mode=RGB size=2303x3000 at 0x7F5426DBC290>, label='C12N', model_output=None, messages=None, model_type='claude3haiku', mode=0)\n"
     ]
    },
    {
     "name": "stderr",
     "output_type": "stream",
     "text": [
      "21it [00:25,  1.29s/it]"
     ]
    },
    {
     "name": "stdout",
     "output_type": "stream",
     "text": [
      "Output: C12N, Expected: C12N, Current Accuracy: 0.6190476190476191, Token Usage: 0\n",
      "PatentData(text='Provided are: a polymer-supported phosphane compound exhibiting excellent catalytic reaction activity; a complex including the compound and a transition metal; and a catalyst including the complex. This polymer compound includes: units of threefold styrene cross-linked phosphane; and styrene units having substituent groups (R) in position 4 (provided that R represents hydrogen, a C1-6 lower alkyl group, a C1-6 lower alkoxy group, or a polar functional group). In the formula in which the polymer compound includes structure (1), PS represents a polystyrene unit chain including the styrene units having the substituent groups (R). The complex includes the polymer and a transition metal. The catalyst for an organic compound coupling reaction includes the complex.', image=<PIL.Image.Image image mode=RGB size=480x480 at 0x7F5426D8D250>, label='B01J', model_output=None, messages=None, model_type='claude3haiku', mode=0)\n"
     ]
    },
    {
     "name": "stderr",
     "output_type": "stream",
     "text": [
      "22it [00:25,  1.12s/it]"
     ]
    },
    {
     "name": "stdout",
     "output_type": "stream",
     "text": [
      "Output: C07F, Expected: B01J, Current Accuracy: 0.5909090909090909, Token Usage: 0\n",
      "PatentData(text='The inner surface of one side section of a frame (1) has the base-end section of a rotation arm (44) of a rotation-biasing means (4) provided so as to be rotatable. A roller (47) is provided on the tip-end section of the rotation arm (44). The roller (47) is pressed against and contacts the rear surface (2a) of a door (2) as a result of the biasing by the rotation-biasing, means (nut illustrated). The rear surface of the door (2) is equipped with a damper means (5). The damper means (5) has a contact member (52) for pressing against and contacting the roller (47) when the door is in the closed position or in a prescribed intermediate position. The contact member (52) minimizes the speed at which the roller (47) moves forward.', image=<PIL.Image.Image image mode=RGB size=2078x3000 at 0x7F5426DD8790>, label='E05F', model_output=None, messages=None, model_type='claude3haiku', mode=0)\n"
     ]
    },
    {
     "name": "stderr",
     "output_type": "stream",
     "text": [
      "23it [00:27,  1.17s/it]"
     ]
    },
    {
     "name": "stdout",
     "output_type": "stream",
     "text": [
      "Output: E05F, Expected: E05F, Current Accuracy: 0.6086956521739131, Token Usage: 0\n"
     ]
    },
    {
     "name": "stderr",
     "output_type": "stream",
     "text": [
      "23it [00:27,  1.19s/it]\n"
     ]
    },
    {
     "ename": "KeyboardInterrupt",
     "evalue": "",
     "output_type": "error",
     "traceback": [
      "\u001b[0;31m---------------------------------------------------------------------------\u001b[0m",
      "\u001b[0;31mKeyboardInterrupt\u001b[0m                         Traceback (most recent call last)",
      "Cell \u001b[0;32mIn[5], line 7\u001b[0m\n\u001b[1;32m      5\u001b[0m token_usage \u001b[38;5;241m=\u001b[39m \u001b[38;5;241m0\u001b[39m\n\u001b[1;32m      6\u001b[0m \u001b[38;5;28;01mfor\u001b[39;00m i, row \u001b[38;5;129;01min\u001b[39;00m tqdm(df\u001b[38;5;241m.\u001b[39miterrows()):\n\u001b[0;32m----> 7\u001b[0m     obj \u001b[38;5;241m=\u001b[39m \u001b[43mprompts\u001b[49m\u001b[38;5;241;43m.\u001b[39;49m\u001b[43mto_patent_data\u001b[49m\u001b[43m(\u001b[49m\u001b[43mrow\u001b[49m\u001b[43m,\u001b[49m\u001b[43m \u001b[49m\u001b[38;5;124;43m\"\u001b[39;49m\u001b[38;5;124;43mclaude3haiku\u001b[39;49m\u001b[38;5;124;43m\"\u001b[39;49m\u001b[43m,\u001b[49m\u001b[43m \u001b[49m\u001b[43mprefer_local\u001b[49m\u001b[38;5;241;43m=\u001b[39;49m\u001b[38;5;28;43;01mTrue\u001b[39;49;00m\u001b[43m,\u001b[49m\u001b[43m \u001b[49m\u001b[43mmode\u001b[49m\u001b[38;5;241;43m=\u001b[39;49m\u001b[43mTEXT_IMAGE\u001b[49m\u001b[43m)\u001b[49m\n\u001b[1;32m      8\u001b[0m     \u001b[38;5;28;01mif\u001b[39;00m (obj \u001b[38;5;129;01mis\u001b[39;00m \u001b[38;5;28;01mNone\u001b[39;00m): \u001b[38;5;28;01mcontinue\u001b[39;00m\n\u001b[1;32m      9\u001b[0m     \u001b[38;5;28mprint\u001b[39m(obj)\n",
      "File \u001b[0;32m~/cs477-final-project/prompts.py:76\u001b[0m, in \u001b[0;36mto_patent_data\u001b[0;34m(data, model_type, prefer_local, mode)\u001b[0m\n\u001b[1;32m     72\u001b[0m     \u001b[38;5;28;01mreturn\u001b[39;00m \u001b[38;5;28;01mNone\u001b[39;00m\n\u001b[1;32m     73\u001b[0m \u001b[38;5;66;03m# print(mode, mode == TEXT_IMAGE, mode == IMAGE_ONLY)\u001b[39;00m\n\u001b[1;32m     74\u001b[0m \u001b[38;5;28;01mreturn\u001b[39;00m PatentData(\n\u001b[1;32m     75\u001b[0m     text\u001b[38;5;241m=\u001b[39m data[\u001b[38;5;124m\"\u001b[39m\u001b[38;5;124mabstract\u001b[39m\u001b[38;5;124m\"\u001b[39m],\n\u001b[0;32m---> 76\u001b[0m     image \u001b[38;5;241m=\u001b[39m \u001b[43mimage_collage\u001b[49m\u001b[43m(\u001b[49m\u001b[43mimage_urls\u001b[49m\u001b[43m)\u001b[49m \u001b[38;5;28;01mif\u001b[39;00m (mode \u001b[38;5;241m==\u001b[39m TEXT_IMAGE \u001b[38;5;129;01mor\u001b[39;00m mode \u001b[38;5;241m==\u001b[39m IMAGE_ONLY) \u001b[38;5;28;01melse\u001b[39;00m \u001b[38;5;28;01mNone\u001b[39;00m,\n\u001b[1;32m     77\u001b[0m     label \u001b[38;5;241m=\u001b[39m target,\n\u001b[1;32m     78\u001b[0m     model_type\u001b[38;5;241m=\u001b[39mmodel_type,\n\u001b[1;32m     79\u001b[0m     model_output\u001b[38;5;241m=\u001b[39m\u001b[38;5;28;01mNone\u001b[39;00m,\n\u001b[1;32m     80\u001b[0m     messages\u001b[38;5;241m=\u001b[39m\u001b[38;5;28;01mNone\u001b[39;00m,\n\u001b[1;32m     81\u001b[0m     mode\u001b[38;5;241m=\u001b[39mmode\n\u001b[1;32m     82\u001b[0m )\n",
      "File \u001b[0;32m~/cs477-final-project/prompts.py:51\u001b[0m, in \u001b[0;36mimage_collage\u001b[0;34m(images)\u001b[0m\n\u001b[1;32m     49\u001b[0m images \u001b[38;5;241m=\u001b[39m [load_image(image) \u001b[38;5;28;01mfor\u001b[39;00m image \u001b[38;5;129;01min\u001b[39;00m images]\n\u001b[1;32m     50\u001b[0m images \u001b[38;5;241m=\u001b[39m [image \u001b[38;5;28;01mfor\u001b[39;00m image \u001b[38;5;129;01min\u001b[39;00m images \u001b[38;5;28;01mif\u001b[39;00m image \u001b[38;5;129;01mis\u001b[39;00m \u001b[38;5;129;01mnot\u001b[39;00m \u001b[38;5;28;01mNone\u001b[39;00m]\n\u001b[0;32m---> 51\u001b[0m collage \u001b[38;5;241m=\u001b[39m \u001b[43mcreate_collage\u001b[49m\u001b[43m(\u001b[49m\u001b[43mimages\u001b[49m\u001b[43m)\u001b[49m\n\u001b[1;32m     53\u001b[0m \u001b[38;5;28;01mreturn\u001b[39;00m collage\n",
      "File \u001b[0;32m~/cs477-final-project/prompts.py:129\u001b[0m, in \u001b[0;36mcreate_collage\u001b[0;34m(image_list)\u001b[0m\n\u001b[1;32m    127\u001b[0m max_size \u001b[38;5;241m=\u001b[39m \u001b[38;5;241m3000\u001b[39m\n\u001b[1;32m    128\u001b[0m \u001b[38;5;28;01mif\u001b[39;00m collage\u001b[38;5;241m.\u001b[39msize[\u001b[38;5;241m0\u001b[39m] \u001b[38;5;241m>\u001b[39m max_size \u001b[38;5;129;01mor\u001b[39;00m collage\u001b[38;5;241m.\u001b[39msize[\u001b[38;5;241m1\u001b[39m] \u001b[38;5;241m>\u001b[39m max_size:\n\u001b[0;32m--> 129\u001b[0m     \u001b[43mcollage\u001b[49m\u001b[38;5;241;43m.\u001b[39;49m\u001b[43mthumbnail\u001b[49m\u001b[43m(\u001b[49m\u001b[43m(\u001b[49m\u001b[43mmax_size\u001b[49m\u001b[43m,\u001b[49m\u001b[43m \u001b[49m\u001b[43mmax_size\u001b[49m\u001b[43m)\u001b[49m\u001b[43m)\u001b[49m\n\u001b[1;32m    132\u001b[0m \u001b[38;5;28;01mreturn\u001b[39;00m collage\n",
      "File \u001b[0;32m~/cs477-final-project/.conda/lib/python3.11/site-packages/PIL/Image.py:2645\u001b[0m, in \u001b[0;36mImage.thumbnail\u001b[0;34m(self, size, resample, reducing_gap)\u001b[0m\n\u001b[1;32m   2642\u001b[0m         \u001b[38;5;28;01mreturn\u001b[39;00m\n\u001b[1;32m   2644\u001b[0m \u001b[38;5;28;01mif\u001b[39;00m \u001b[38;5;28mself\u001b[39m\u001b[38;5;241m.\u001b[39msize \u001b[38;5;241m!=\u001b[39m size:\n\u001b[0;32m-> 2645\u001b[0m     im \u001b[38;5;241m=\u001b[39m \u001b[38;5;28;43mself\u001b[39;49m\u001b[38;5;241;43m.\u001b[39;49m\u001b[43mresize\u001b[49m\u001b[43m(\u001b[49m\u001b[43msize\u001b[49m\u001b[43m,\u001b[49m\u001b[43m \u001b[49m\u001b[43mresample\u001b[49m\u001b[43m,\u001b[49m\u001b[43m \u001b[49m\u001b[43mbox\u001b[49m\u001b[38;5;241;43m=\u001b[39;49m\u001b[43mbox\u001b[49m\u001b[43m,\u001b[49m\u001b[43m \u001b[49m\u001b[43mreducing_gap\u001b[49m\u001b[38;5;241;43m=\u001b[39;49m\u001b[43mreducing_gap\u001b[49m\u001b[43m)\u001b[49m\n\u001b[1;32m   2647\u001b[0m     \u001b[38;5;28mself\u001b[39m\u001b[38;5;241m.\u001b[39mim \u001b[38;5;241m=\u001b[39m im\u001b[38;5;241m.\u001b[39mim\n\u001b[1;32m   2648\u001b[0m     \u001b[38;5;28mself\u001b[39m\u001b[38;5;241m.\u001b[39m_size \u001b[38;5;241m=\u001b[39m size\n",
      "File \u001b[0;32m~/cs477-final-project/.conda/lib/python3.11/site-packages/PIL/Image.py:2222\u001b[0m, in \u001b[0;36mImage.resize\u001b[0;34m(self, size, resample, box, reducing_gap)\u001b[0m\n\u001b[1;32m   2210\u001b[0m         \u001b[38;5;28mself\u001b[39m \u001b[38;5;241m=\u001b[39m (\n\u001b[1;32m   2211\u001b[0m             \u001b[38;5;28mself\u001b[39m\u001b[38;5;241m.\u001b[39mreduce(factor, box\u001b[38;5;241m=\u001b[39mreduce_box)\n\u001b[1;32m   2212\u001b[0m             \u001b[38;5;28;01mif\u001b[39;00m \u001b[38;5;28mcallable\u001b[39m(\u001b[38;5;28mself\u001b[39m\u001b[38;5;241m.\u001b[39mreduce)\n\u001b[1;32m   2213\u001b[0m             \u001b[38;5;28;01melse\u001b[39;00m Image\u001b[38;5;241m.\u001b[39mreduce(\u001b[38;5;28mself\u001b[39m, factor, box\u001b[38;5;241m=\u001b[39mreduce_box)\n\u001b[1;32m   2214\u001b[0m         )\n\u001b[1;32m   2215\u001b[0m         box \u001b[38;5;241m=\u001b[39m (\n\u001b[1;32m   2216\u001b[0m             (box[\u001b[38;5;241m0\u001b[39m] \u001b[38;5;241m-\u001b[39m reduce_box[\u001b[38;5;241m0\u001b[39m]) \u001b[38;5;241m/\u001b[39m factor_x,\n\u001b[1;32m   2217\u001b[0m             (box[\u001b[38;5;241m1\u001b[39m] \u001b[38;5;241m-\u001b[39m reduce_box[\u001b[38;5;241m1\u001b[39m]) \u001b[38;5;241m/\u001b[39m factor_y,\n\u001b[1;32m   2218\u001b[0m             (box[\u001b[38;5;241m2\u001b[39m] \u001b[38;5;241m-\u001b[39m reduce_box[\u001b[38;5;241m0\u001b[39m]) \u001b[38;5;241m/\u001b[39m factor_x,\n\u001b[1;32m   2219\u001b[0m             (box[\u001b[38;5;241m3\u001b[39m] \u001b[38;5;241m-\u001b[39m reduce_box[\u001b[38;5;241m1\u001b[39m]) \u001b[38;5;241m/\u001b[39m factor_y,\n\u001b[1;32m   2220\u001b[0m         )\n\u001b[0;32m-> 2222\u001b[0m \u001b[38;5;28;01mreturn\u001b[39;00m \u001b[38;5;28mself\u001b[39m\u001b[38;5;241m.\u001b[39m_new(\u001b[38;5;28;43mself\u001b[39;49m\u001b[38;5;241;43m.\u001b[39;49m\u001b[43mim\u001b[49m\u001b[38;5;241;43m.\u001b[39;49m\u001b[43mresize\u001b[49m\u001b[43m(\u001b[49m\u001b[43msize\u001b[49m\u001b[43m,\u001b[49m\u001b[43m \u001b[49m\u001b[43mresample\u001b[49m\u001b[43m,\u001b[49m\u001b[43m \u001b[49m\u001b[43mbox\u001b[49m\u001b[43m)\u001b[49m)\n",
      "\u001b[0;31mKeyboardInterrupt\u001b[0m: "
     ]
    }
   ],
   "source": [
    "import calling\n",
    "from tqdm import tqdm\n",
    "results = []\n",
    "num_pass = 0\n",
    "token_usage = 0\n",
    "for i, row in tqdm(df.iterrows()):\n",
    "    obj = prompts.to_patent_data(row, \"claude3haiku\", prefer_local=True, mode=TEXT_IMAGE)\n",
    "    if (obj is None): continue\n",
    "    print(obj)\n",
    "    messages = prompts.generate_prompt_claude(obj)\n",
    "    try:\n",
    "        result = calling.call_anthropic(obj)\n",
    "    except Exception as e:\n",
    "        print(e)\n",
    "        continue\n",
    "    results.append(result)\n",
    "    if obj.label in result:\n",
    "        num_pass += 1\n",
    "    print(f\"Output: {result}, Expected: {obj.label}, Current Accuracy: {num_pass/(i+1)}, Token Usage: {token_usage}\")"
   ]
  }
 ],
 "metadata": {
  "kernelspec": {
   "display_name": "Python 3",
   "language": "python",
   "name": "python3"
  },
  "language_info": {
   "codemirror_mode": {
    "name": "ipython",
    "version": 3
   },
   "file_extension": ".py",
   "mimetype": "text/x-python",
   "name": "python",
   "nbconvert_exporter": "python",
   "pygments_lexer": "ipython3",
   "version": "3.11.9"
  }
 },
 "nbformat": 4,
 "nbformat_minor": 2
}
