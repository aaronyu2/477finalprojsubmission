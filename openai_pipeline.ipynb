{
 "cells": [
  {
   "cell_type": "code",
   "execution_count": 2,
   "metadata": {},
   "outputs": [],
   "source": [
    "import prompts\n",
    "import pandas as pd\n",
    "from prompts import TEXT_IMAGE, TEXT_ONLY, IMAGE_ONLY"
   ]
  },
  {
   "cell_type": "code",
   "execution_count": 3,
   "metadata": {},
   "outputs": [],
   "source": [
    "df = pd.read_feather(\"data/hupd_sample_train_images_merged.feather\")"
   ]
  },
  {
   "cell_type": "markdown",
   "metadata": {},
   "source": [
    "## Image Only"
   ]
  },
  {
   "cell_type": "code",
   "execution_count": 5,
   "metadata": {},
   "outputs": [
    {
     "name": "stderr",
     "output_type": "stream",
     "text": [
      "0it [00:00, ?it/s]"
     ]
    },
    {
     "name": "stdout",
     "output_type": "stream",
     "text": [
      "['images/data/US2/017/032/603/US20170326033A1-20171116-D00000.png', 'images/data/US2/017/032/603/US20170326033A1-20171116-D00001.png', 'images/data/US2/017/032/603/US20170326033A1-20171116-D00002.png']\n",
      "2 False True\n",
      "PatentData(text='A portable drug dispenser includes a chamber for holding a plurality of separately contained drug products, a dispensing mechanism for dispensing one or more of the plurality of drug products, and may optionally include a processor to determine the time of each activation of the dispensing mechanism and to transmit the determined time of activation to a computer located remote to the dispenser. The dispenser may include more than one chamber for holding drugs.', image=<PIL.Image.Image image mode=RGB size=3000x1882 at 0x7F4620F4D350>, label='A61J', model_output=None, messages=None, model_type='gpt4v', mode=2)\n"
     ]
    },
    {
     "name": "stderr",
     "output_type": "stream",
     "text": [
      "1it [00:08,  8.80s/it]"
     ]
    },
    {
     "name": "stdout",
     "output_type": "stream",
     "text": [
      "Output: H01L, Expected: A61J, Current Accuracy: 0.0, Token Usage: 1150\n",
      "['images/data/US2/016/013/072/US20160130721A1-20160512-D00000.png', 'images/data/US2/016/013/072/US20160130721A1-20160512-D00001.png', 'images/data/US2/016/013/072/US20160130721A1-20160512-D00002.png', 'images/data/US2/016/013/072/US20160130721A1-20160512-D00003.png']\n",
      "2 False True\n",
      "PatentData(text='A crystal growth furnace comprising a crucible containing at least feedstock material and a liquid-cooled heat exchanger that is vertically movable beneath the crucible to extract heat from it to promote the growth of a crystalline ingot is disclosed. The liquid-cooled heat exchanger comprises a heat extraction bulb made of high thermal conductivity material that is vertically movable into thermal communication with the crucible to extract heat from the crucible using a liquid coolant. A liquid-cooled heat exchanger enclosed in a sealed tubular outer jacket is also disclosed as is a method for producing a crystalline ingot using a vertically movable liquid-cooled heat exchanger.', image=<PIL.Image.Image image mode=RGB size=2651x3000 at 0x7F461BFED710>, label='C30B', model_output=None, messages=None, model_type='gpt4v', mode=2)\n"
     ]
    },
    {
     "name": "stderr",
     "output_type": "stream",
     "text": [
      "2it [00:20, 10.32s/it]"
     ]
    },
    {
     "name": "stdout",
     "output_type": "stream",
     "text": [
      "Output: F28D, Expected: C30B, Current Accuracy: 0.0, Token Usage: 810\n",
      "['images/data/US2/016/012/842/US20160128423A1-20160512-D00000.png', 'images/data/US2/016/012/842/US20160128423A1-20160512-D00001.png', 'images/data/US2/016/012/842/US20160128423A1-20160512-D00002.png', 'images/data/US2/016/012/842/US20160128423A1-20160512-D00003.png', 'images/data/US2/016/012/842/US20160128423A1-20160512-D00004.png', 'images/data/US2/016/012/842/US20160128423A1-20160512-D00005.png', 'images/data/US2/016/012/842/US20160128423A1-20160512-D00006.png', 'images/data/US2/016/012/842/US20160128423A1-20160512-D00007.png', 'images/data/US2/016/012/842/US20160128423A1-20160512-D00008.png', 'images/data/US2/016/012/842/US20160128423A1-20160512-D00009.png']\n",
      "2 False True\n",
      "PatentData(text='A shoe midsole is composed of a base plate (1), a cover (2), a plurality of blades (3), and liquid (4). The blades (3) are formed in such a manner as to rise within a first region (11) of the base plate (1). The blades (3) are each composed of a plurality of flat-shaped blade elements (32, 33) separated each other by slits (31), and are tilted toward the toe side or the heel side. The flat-shaped blade elements (32, 33) are disposed in such a manner as to be divergent toward the toe side or the heel side. The base plate (1) and the cover (2) are joined together, thereby forming a closed space (5), and the liquid (4) is sealed in the closed space.', image=<PIL.Image.Image image mode=RGB size=1470x3000 at 0x7F461BFDF590>, label='A43B', model_output=None, messages=None, model_type='gpt4v', mode=2)\n"
     ]
    },
    {
     "name": "stderr",
     "output_type": "stream",
     "text": [
      "3it [00:28,  9.44s/it]"
     ]
    },
    {
     "name": "stdout",
     "output_type": "stream",
     "text": [
      "Output: A43B, Expected: A43B, Current Accuracy: 0.3333333333333333, Token Usage: 1490\n",
      "['images/data/US2/017/008/769/US20170087696A1-20170330-D00000.png', 'images/data/US2/017/008/769/US20170087696A1-20170330-D00001.png', 'images/data/US2/017/008/769/US20170087696A1-20170330-D00002.png', 'images/data/US2/017/008/769/US20170087696A1-20170330-D00003.png', 'images/data/US2/017/008/769/US20170087696A1-20170330-D00004.png', 'images/data/US2/017/008/769/US20170087696A1-20170330-D00005.png', 'images/data/US2/017/008/769/US20170087696A1-20170330-D00006.png', 'images/data/US2/017/008/769/US20170087696A1-20170330-D00007.png', 'images/data/US2/017/008/769/US20170087696A1-20170330-D00008.png', 'images/data/US2/017/008/769/US20170087696A1-20170330-D00009.png', 'images/data/US2/017/008/769/US20170087696A1-20170330-D00010.png']\n",
      "2 False True\n",
      "PatentData(text='A ratchet tool includes a shaft member, a handle and a ratchet mechanism, in which the handle is connected to the ratchet mechanism, and the shaft member extends into the interior of the ratchet mechanism along the central axle of the ratchet mechanism from the front end of the ratchet mechanism and is connected to the ratchet mechanism. The shaft member includes a shaft and an extension portion which passes through the rear end of the ratchet mechanism along the central axle of the ratchet mechanism from the front end of the ratchet mechanism and is connected to the ratchet mechanism, and the shaft is designed to be integrated with or separated from the extension portion. Such a design of the shaft member solves the wobble problem of the shaft. The ratchet tool of the present invention also includes a lighting device. The ratchet tool of the present invention requires small turning force when turning back and has strong capacity of torque transferring, and at the same time achieves lighting feature.', image=<PIL.Image.Image image mode=RGB size=2716x3000 at 0x7F461BFE7C10>, label='B25B', model_output=None, messages=None, model_type='gpt4v', mode=2)\n"
     ]
    },
    {
     "name": "stderr",
     "output_type": "stream",
     "text": [
      "4it [00:47, 13.26s/it]"
     ]
    },
    {
     "name": "stdout",
     "output_type": "stream",
     "text": [
      "Output: F16H, Expected: B25B, Current Accuracy: 0.25, Token Usage: 810\n",
      "['images/data/US2/016/018/593/US20160185938A1-20160630-D00001.png']\n",
      "2 False True\n",
      "PatentData(text='Provided are a rubber composition using an antioxidant synthesized from biological resources including botanical resources, wherein the value of δ13C of the antioxidant is from −30‰ to −26‰, or −22‰ or more, and a tire using the rubber composition.', image=<PIL.Image.Image image mode=RGB size=2064x1423 at 0x7F461BF3A090>, label='C08K', model_output=None, messages=None, model_type='gpt4v', mode=2)\n"
     ]
    },
    {
     "name": "stderr",
     "output_type": "stream",
     "text": [
      "4it [01:01, 15.47s/it]\n"
     ]
    },
    {
     "ename": "KeyboardInterrupt",
     "evalue": "",
     "output_type": "error",
     "traceback": [
      "\u001b[0;31m---------------------------------------------------------------------------\u001b[0m",
      "\u001b[0;31mKeyboardInterrupt\u001b[0m                         Traceback (most recent call last)",
      "Cell \u001b[0;32mIn[5], line 12\u001b[0m\n\u001b[1;32m     10\u001b[0m messages \u001b[38;5;241m=\u001b[39m prompts\u001b[38;5;241m.\u001b[39mgenerate_prompt_openai(obj)\n\u001b[1;32m     11\u001b[0m \u001b[38;5;28;01mtry\u001b[39;00m:\n\u001b[0;32m---> 12\u001b[0m     result, token_usage \u001b[38;5;241m=\u001b[39m \u001b[43mcalling\u001b[49m\u001b[38;5;241;43m.\u001b[39;49m\u001b[43mcall_openai\u001b[49m\u001b[43m(\u001b[49m\u001b[43mobj\u001b[49m\u001b[43m,\u001b[49m\u001b[43m \u001b[49m\u001b[43mreturn_token_usage\u001b[49m\u001b[38;5;241;43m=\u001b[39;49m\u001b[38;5;28;43;01mTrue\u001b[39;49;00m\u001b[43m)\u001b[49m\n\u001b[1;32m     13\u001b[0m \u001b[38;5;28;01mexcept\u001b[39;00m \u001b[38;5;167;01mException\u001b[39;00m \u001b[38;5;28;01mas\u001b[39;00m e:\n\u001b[1;32m     14\u001b[0m     \u001b[38;5;28mprint\u001b[39m(e)\n",
      "File \u001b[0;32m~/cs477-final-project/calling.py:37\u001b[0m, in \u001b[0;36mcall_openai\u001b[0;34m(data, model, return_token_usage)\u001b[0m\n\u001b[1;32m     35\u001b[0m \u001b[38;5;28;01mif\u001b[39;00m data\u001b[38;5;241m.\u001b[39mmessages \u001b[38;5;129;01mis\u001b[39;00m \u001b[38;5;28;01mNone\u001b[39;00m:\n\u001b[1;32m     36\u001b[0m     \u001b[38;5;28;01mraise\u001b[39;00m \u001b[38;5;167;01mValueError\u001b[39;00m(\u001b[38;5;124m\"\u001b[39m\u001b[38;5;124mPromptData object must have messages attribute set.\u001b[39m\u001b[38;5;124m\"\u001b[39m)\n\u001b[0;32m---> 37\u001b[0m response \u001b[38;5;241m=\u001b[39m \u001b[43mazure_client\u001b[49m\u001b[38;5;241;43m.\u001b[39;49m\u001b[43mchat\u001b[49m\u001b[38;5;241;43m.\u001b[39;49m\u001b[43mcompletions\u001b[49m\u001b[38;5;241;43m.\u001b[39;49m\u001b[43mcreate\u001b[49m\u001b[43m(\u001b[49m\n\u001b[1;32m     38\u001b[0m \u001b[43m    \u001b[49m\u001b[43mmodel\u001b[49m\u001b[38;5;241;43m=\u001b[39;49m\u001b[43mmodel\u001b[49m\u001b[43m,\u001b[49m\n\u001b[1;32m     39\u001b[0m \u001b[43m    \u001b[49m\u001b[43mmessages\u001b[49m\u001b[38;5;241;43m=\u001b[39;49m\u001b[43mdata\u001b[49m\u001b[38;5;241;43m.\u001b[39;49m\u001b[43mmessages\u001b[49m\u001b[43m,\u001b[49m\n\u001b[1;32m     40\u001b[0m \u001b[43m    \u001b[49m\u001b[43mmax_tokens\u001b[49m\u001b[38;5;241;43m=\u001b[39;49m\u001b[38;5;241;43m10\u001b[39;49m\n\u001b[1;32m     41\u001b[0m \u001b[43m\u001b[49m\u001b[43m)\u001b[49m\n\u001b[1;32m     42\u001b[0m \u001b[38;5;28;01mif\u001b[39;00m return_token_usage:\n\u001b[1;32m     43\u001b[0m     \u001b[38;5;28;01mreturn\u001b[39;00m response\u001b[38;5;241m.\u001b[39mchoices[\u001b[38;5;241m0\u001b[39m]\u001b[38;5;241m.\u001b[39mmessage\u001b[38;5;241m.\u001b[39mcontent, response\u001b[38;5;241m.\u001b[39musage\u001b[38;5;241m.\u001b[39mtotal_tokens\n",
      "File \u001b[0;32m~/cs477-final-project/.conda/lib/python3.11/site-packages/openai/_utils/_utils.py:277\u001b[0m, in \u001b[0;36mrequired_args.<locals>.inner.<locals>.wrapper\u001b[0;34m(*args, **kwargs)\u001b[0m\n\u001b[1;32m    275\u001b[0m             msg \u001b[38;5;241m=\u001b[39m \u001b[38;5;124mf\u001b[39m\u001b[38;5;124m\"\u001b[39m\u001b[38;5;124mMissing required argument: \u001b[39m\u001b[38;5;132;01m{\u001b[39;00mquote(missing[\u001b[38;5;241m0\u001b[39m])\u001b[38;5;132;01m}\u001b[39;00m\u001b[38;5;124m\"\u001b[39m\n\u001b[1;32m    276\u001b[0m     \u001b[38;5;28;01mraise\u001b[39;00m \u001b[38;5;167;01mTypeError\u001b[39;00m(msg)\n\u001b[0;32m--> 277\u001b[0m \u001b[38;5;28;01mreturn\u001b[39;00m \u001b[43mfunc\u001b[49m\u001b[43m(\u001b[49m\u001b[38;5;241;43m*\u001b[39;49m\u001b[43margs\u001b[49m\u001b[43m,\u001b[49m\u001b[43m \u001b[49m\u001b[38;5;241;43m*\u001b[39;49m\u001b[38;5;241;43m*\u001b[39;49m\u001b[43mkwargs\u001b[49m\u001b[43m)\u001b[49m\n",
      "File \u001b[0;32m~/cs477-final-project/.conda/lib/python3.11/site-packages/openai/resources/chat/completions.py:581\u001b[0m, in \u001b[0;36mCompletions.create\u001b[0;34m(self, messages, model, frequency_penalty, function_call, functions, logit_bias, logprobs, max_tokens, n, presence_penalty, response_format, seed, stop, stream, temperature, tool_choice, tools, top_logprobs, top_p, user, extra_headers, extra_query, extra_body, timeout)\u001b[0m\n\u001b[1;32m    550\u001b[0m \u001b[38;5;129m@required_args\u001b[39m([\u001b[38;5;124m\"\u001b[39m\u001b[38;5;124mmessages\u001b[39m\u001b[38;5;124m\"\u001b[39m, \u001b[38;5;124m\"\u001b[39m\u001b[38;5;124mmodel\u001b[39m\u001b[38;5;124m\"\u001b[39m], [\u001b[38;5;124m\"\u001b[39m\u001b[38;5;124mmessages\u001b[39m\u001b[38;5;124m\"\u001b[39m, \u001b[38;5;124m\"\u001b[39m\u001b[38;5;124mmodel\u001b[39m\u001b[38;5;124m\"\u001b[39m, \u001b[38;5;124m\"\u001b[39m\u001b[38;5;124mstream\u001b[39m\u001b[38;5;124m\"\u001b[39m])\n\u001b[1;32m    551\u001b[0m \u001b[38;5;28;01mdef\u001b[39;00m \u001b[38;5;21mcreate\u001b[39m(\n\u001b[1;32m    552\u001b[0m     \u001b[38;5;28mself\u001b[39m,\n\u001b[0;32m   (...)\u001b[0m\n\u001b[1;32m    579\u001b[0m     timeout: \u001b[38;5;28mfloat\u001b[39m \u001b[38;5;241m|\u001b[39m httpx\u001b[38;5;241m.\u001b[39mTimeout \u001b[38;5;241m|\u001b[39m \u001b[38;5;28;01mNone\u001b[39;00m \u001b[38;5;241m|\u001b[39m NotGiven \u001b[38;5;241m=\u001b[39m NOT_GIVEN,\n\u001b[1;32m    580\u001b[0m ) \u001b[38;5;241m-\u001b[39m\u001b[38;5;241m>\u001b[39m ChatCompletion \u001b[38;5;241m|\u001b[39m Stream[ChatCompletionChunk]:\n\u001b[0;32m--> 581\u001b[0m     \u001b[38;5;28;01mreturn\u001b[39;00m \u001b[38;5;28;43mself\u001b[39;49m\u001b[38;5;241;43m.\u001b[39;49m\u001b[43m_post\u001b[49m\u001b[43m(\u001b[49m\n\u001b[1;32m    582\u001b[0m \u001b[43m        \u001b[49m\u001b[38;5;124;43m\"\u001b[39;49m\u001b[38;5;124;43m/chat/completions\u001b[39;49m\u001b[38;5;124;43m\"\u001b[39;49m\u001b[43m,\u001b[49m\n\u001b[1;32m    583\u001b[0m \u001b[43m        \u001b[49m\u001b[43mbody\u001b[49m\u001b[38;5;241;43m=\u001b[39;49m\u001b[43mmaybe_transform\u001b[49m\u001b[43m(\u001b[49m\n\u001b[1;32m    584\u001b[0m \u001b[43m            \u001b[49m\u001b[43m{\u001b[49m\n\u001b[1;32m    585\u001b[0m \u001b[43m                \u001b[49m\u001b[38;5;124;43m\"\u001b[39;49m\u001b[38;5;124;43mmessages\u001b[39;49m\u001b[38;5;124;43m\"\u001b[39;49m\u001b[43m:\u001b[49m\u001b[43m \u001b[49m\u001b[43mmessages\u001b[49m\u001b[43m,\u001b[49m\n\u001b[1;32m    586\u001b[0m \u001b[43m                \u001b[49m\u001b[38;5;124;43m\"\u001b[39;49m\u001b[38;5;124;43mmodel\u001b[39;49m\u001b[38;5;124;43m\"\u001b[39;49m\u001b[43m:\u001b[49m\u001b[43m \u001b[49m\u001b[43mmodel\u001b[49m\u001b[43m,\u001b[49m\n\u001b[1;32m    587\u001b[0m \u001b[43m                \u001b[49m\u001b[38;5;124;43m\"\u001b[39;49m\u001b[38;5;124;43mfrequency_penalty\u001b[39;49m\u001b[38;5;124;43m\"\u001b[39;49m\u001b[43m:\u001b[49m\u001b[43m \u001b[49m\u001b[43mfrequency_penalty\u001b[49m\u001b[43m,\u001b[49m\n\u001b[1;32m    588\u001b[0m \u001b[43m                \u001b[49m\u001b[38;5;124;43m\"\u001b[39;49m\u001b[38;5;124;43mfunction_call\u001b[39;49m\u001b[38;5;124;43m\"\u001b[39;49m\u001b[43m:\u001b[49m\u001b[43m \u001b[49m\u001b[43mfunction_call\u001b[49m\u001b[43m,\u001b[49m\n\u001b[1;32m    589\u001b[0m \u001b[43m                \u001b[49m\u001b[38;5;124;43m\"\u001b[39;49m\u001b[38;5;124;43mfunctions\u001b[39;49m\u001b[38;5;124;43m\"\u001b[39;49m\u001b[43m:\u001b[49m\u001b[43m \u001b[49m\u001b[43mfunctions\u001b[49m\u001b[43m,\u001b[49m\n\u001b[1;32m    590\u001b[0m \u001b[43m                \u001b[49m\u001b[38;5;124;43m\"\u001b[39;49m\u001b[38;5;124;43mlogit_bias\u001b[39;49m\u001b[38;5;124;43m\"\u001b[39;49m\u001b[43m:\u001b[49m\u001b[43m \u001b[49m\u001b[43mlogit_bias\u001b[49m\u001b[43m,\u001b[49m\n\u001b[1;32m    591\u001b[0m \u001b[43m                \u001b[49m\u001b[38;5;124;43m\"\u001b[39;49m\u001b[38;5;124;43mlogprobs\u001b[39;49m\u001b[38;5;124;43m\"\u001b[39;49m\u001b[43m:\u001b[49m\u001b[43m \u001b[49m\u001b[43mlogprobs\u001b[49m\u001b[43m,\u001b[49m\n\u001b[1;32m    592\u001b[0m \u001b[43m                \u001b[49m\u001b[38;5;124;43m\"\u001b[39;49m\u001b[38;5;124;43mmax_tokens\u001b[39;49m\u001b[38;5;124;43m\"\u001b[39;49m\u001b[43m:\u001b[49m\u001b[43m \u001b[49m\u001b[43mmax_tokens\u001b[49m\u001b[43m,\u001b[49m\n\u001b[1;32m    593\u001b[0m \u001b[43m                \u001b[49m\u001b[38;5;124;43m\"\u001b[39;49m\u001b[38;5;124;43mn\u001b[39;49m\u001b[38;5;124;43m\"\u001b[39;49m\u001b[43m:\u001b[49m\u001b[43m \u001b[49m\u001b[43mn\u001b[49m\u001b[43m,\u001b[49m\n\u001b[1;32m    594\u001b[0m \u001b[43m                \u001b[49m\u001b[38;5;124;43m\"\u001b[39;49m\u001b[38;5;124;43mpresence_penalty\u001b[39;49m\u001b[38;5;124;43m\"\u001b[39;49m\u001b[43m:\u001b[49m\u001b[43m \u001b[49m\u001b[43mpresence_penalty\u001b[49m\u001b[43m,\u001b[49m\n\u001b[1;32m    595\u001b[0m \u001b[43m                \u001b[49m\u001b[38;5;124;43m\"\u001b[39;49m\u001b[38;5;124;43mresponse_format\u001b[39;49m\u001b[38;5;124;43m\"\u001b[39;49m\u001b[43m:\u001b[49m\u001b[43m \u001b[49m\u001b[43mresponse_format\u001b[49m\u001b[43m,\u001b[49m\n\u001b[1;32m    596\u001b[0m \u001b[43m                \u001b[49m\u001b[38;5;124;43m\"\u001b[39;49m\u001b[38;5;124;43mseed\u001b[39;49m\u001b[38;5;124;43m\"\u001b[39;49m\u001b[43m:\u001b[49m\u001b[43m \u001b[49m\u001b[43mseed\u001b[49m\u001b[43m,\u001b[49m\n\u001b[1;32m    597\u001b[0m \u001b[43m                \u001b[49m\u001b[38;5;124;43m\"\u001b[39;49m\u001b[38;5;124;43mstop\u001b[39;49m\u001b[38;5;124;43m\"\u001b[39;49m\u001b[43m:\u001b[49m\u001b[43m \u001b[49m\u001b[43mstop\u001b[49m\u001b[43m,\u001b[49m\n\u001b[1;32m    598\u001b[0m \u001b[43m                \u001b[49m\u001b[38;5;124;43m\"\u001b[39;49m\u001b[38;5;124;43mstream\u001b[39;49m\u001b[38;5;124;43m\"\u001b[39;49m\u001b[43m:\u001b[49m\u001b[43m \u001b[49m\u001b[43mstream\u001b[49m\u001b[43m,\u001b[49m\n\u001b[1;32m    599\u001b[0m \u001b[43m                \u001b[49m\u001b[38;5;124;43m\"\u001b[39;49m\u001b[38;5;124;43mtemperature\u001b[39;49m\u001b[38;5;124;43m\"\u001b[39;49m\u001b[43m:\u001b[49m\u001b[43m \u001b[49m\u001b[43mtemperature\u001b[49m\u001b[43m,\u001b[49m\n\u001b[1;32m    600\u001b[0m \u001b[43m                \u001b[49m\u001b[38;5;124;43m\"\u001b[39;49m\u001b[38;5;124;43mtool_choice\u001b[39;49m\u001b[38;5;124;43m\"\u001b[39;49m\u001b[43m:\u001b[49m\u001b[43m \u001b[49m\u001b[43mtool_choice\u001b[49m\u001b[43m,\u001b[49m\n\u001b[1;32m    601\u001b[0m \u001b[43m                \u001b[49m\u001b[38;5;124;43m\"\u001b[39;49m\u001b[38;5;124;43mtools\u001b[39;49m\u001b[38;5;124;43m\"\u001b[39;49m\u001b[43m:\u001b[49m\u001b[43m \u001b[49m\u001b[43mtools\u001b[49m\u001b[43m,\u001b[49m\n\u001b[1;32m    602\u001b[0m \u001b[43m                \u001b[49m\u001b[38;5;124;43m\"\u001b[39;49m\u001b[38;5;124;43mtop_logprobs\u001b[39;49m\u001b[38;5;124;43m\"\u001b[39;49m\u001b[43m:\u001b[49m\u001b[43m \u001b[49m\u001b[43mtop_logprobs\u001b[49m\u001b[43m,\u001b[49m\n\u001b[1;32m    603\u001b[0m \u001b[43m                \u001b[49m\u001b[38;5;124;43m\"\u001b[39;49m\u001b[38;5;124;43mtop_p\u001b[39;49m\u001b[38;5;124;43m\"\u001b[39;49m\u001b[43m:\u001b[49m\u001b[43m \u001b[49m\u001b[43mtop_p\u001b[49m\u001b[43m,\u001b[49m\n\u001b[1;32m    604\u001b[0m \u001b[43m                \u001b[49m\u001b[38;5;124;43m\"\u001b[39;49m\u001b[38;5;124;43muser\u001b[39;49m\u001b[38;5;124;43m\"\u001b[39;49m\u001b[43m:\u001b[49m\u001b[43m \u001b[49m\u001b[43muser\u001b[49m\u001b[43m,\u001b[49m\n\u001b[1;32m    605\u001b[0m \u001b[43m            \u001b[49m\u001b[43m}\u001b[49m\u001b[43m,\u001b[49m\n\u001b[1;32m    606\u001b[0m \u001b[43m            \u001b[49m\u001b[43mcompletion_create_params\u001b[49m\u001b[38;5;241;43m.\u001b[39;49m\u001b[43mCompletionCreateParams\u001b[49m\u001b[43m,\u001b[49m\n\u001b[1;32m    607\u001b[0m \u001b[43m        \u001b[49m\u001b[43m)\u001b[49m\u001b[43m,\u001b[49m\n\u001b[1;32m    608\u001b[0m \u001b[43m        \u001b[49m\u001b[43moptions\u001b[49m\u001b[38;5;241;43m=\u001b[39;49m\u001b[43mmake_request_options\u001b[49m\u001b[43m(\u001b[49m\n\u001b[1;32m    609\u001b[0m \u001b[43m            \u001b[49m\u001b[43mextra_headers\u001b[49m\u001b[38;5;241;43m=\u001b[39;49m\u001b[43mextra_headers\u001b[49m\u001b[43m,\u001b[49m\u001b[43m \u001b[49m\u001b[43mextra_query\u001b[49m\u001b[38;5;241;43m=\u001b[39;49m\u001b[43mextra_query\u001b[49m\u001b[43m,\u001b[49m\u001b[43m \u001b[49m\u001b[43mextra_body\u001b[49m\u001b[38;5;241;43m=\u001b[39;49m\u001b[43mextra_body\u001b[49m\u001b[43m,\u001b[49m\u001b[43m \u001b[49m\u001b[43mtimeout\u001b[49m\u001b[38;5;241;43m=\u001b[39;49m\u001b[43mtimeout\u001b[49m\n\u001b[1;32m    610\u001b[0m \u001b[43m        \u001b[49m\u001b[43m)\u001b[49m\u001b[43m,\u001b[49m\n\u001b[1;32m    611\u001b[0m \u001b[43m        \u001b[49m\u001b[43mcast_to\u001b[49m\u001b[38;5;241;43m=\u001b[39;49m\u001b[43mChatCompletion\u001b[49m\u001b[43m,\u001b[49m\n\u001b[1;32m    612\u001b[0m \u001b[43m        \u001b[49m\u001b[43mstream\u001b[49m\u001b[38;5;241;43m=\u001b[39;49m\u001b[43mstream\u001b[49m\u001b[43m \u001b[49m\u001b[38;5;129;43;01mor\u001b[39;49;00m\u001b[43m \u001b[49m\u001b[38;5;28;43;01mFalse\u001b[39;49;00m\u001b[43m,\u001b[49m\n\u001b[1;32m    613\u001b[0m \u001b[43m        \u001b[49m\u001b[43mstream_cls\u001b[49m\u001b[38;5;241;43m=\u001b[39;49m\u001b[43mStream\u001b[49m\u001b[43m[\u001b[49m\u001b[43mChatCompletionChunk\u001b[49m\u001b[43m]\u001b[49m\u001b[43m,\u001b[49m\n\u001b[1;32m    614\u001b[0m \u001b[43m    \u001b[49m\u001b[43m)\u001b[49m\n",
      "File \u001b[0;32m~/cs477-final-project/.conda/lib/python3.11/site-packages/openai/_base_client.py:1232\u001b[0m, in \u001b[0;36mSyncAPIClient.post\u001b[0;34m(self, path, cast_to, body, options, files, stream, stream_cls)\u001b[0m\n\u001b[1;32m   1218\u001b[0m \u001b[38;5;28;01mdef\u001b[39;00m \u001b[38;5;21mpost\u001b[39m(\n\u001b[1;32m   1219\u001b[0m     \u001b[38;5;28mself\u001b[39m,\n\u001b[1;32m   1220\u001b[0m     path: \u001b[38;5;28mstr\u001b[39m,\n\u001b[0;32m   (...)\u001b[0m\n\u001b[1;32m   1227\u001b[0m     stream_cls: \u001b[38;5;28mtype\u001b[39m[_StreamT] \u001b[38;5;241m|\u001b[39m \u001b[38;5;28;01mNone\u001b[39;00m \u001b[38;5;241m=\u001b[39m \u001b[38;5;28;01mNone\u001b[39;00m,\n\u001b[1;32m   1228\u001b[0m ) \u001b[38;5;241m-\u001b[39m\u001b[38;5;241m>\u001b[39m ResponseT \u001b[38;5;241m|\u001b[39m _StreamT:\n\u001b[1;32m   1229\u001b[0m     opts \u001b[38;5;241m=\u001b[39m FinalRequestOptions\u001b[38;5;241m.\u001b[39mconstruct(\n\u001b[1;32m   1230\u001b[0m         method\u001b[38;5;241m=\u001b[39m\u001b[38;5;124m\"\u001b[39m\u001b[38;5;124mpost\u001b[39m\u001b[38;5;124m\"\u001b[39m, url\u001b[38;5;241m=\u001b[39mpath, json_data\u001b[38;5;241m=\u001b[39mbody, files\u001b[38;5;241m=\u001b[39mto_httpx_files(files), \u001b[38;5;241m*\u001b[39m\u001b[38;5;241m*\u001b[39moptions\n\u001b[1;32m   1231\u001b[0m     )\n\u001b[0;32m-> 1232\u001b[0m     \u001b[38;5;28;01mreturn\u001b[39;00m cast(ResponseT, \u001b[38;5;28;43mself\u001b[39;49m\u001b[38;5;241;43m.\u001b[39;49m\u001b[43mrequest\u001b[49m\u001b[43m(\u001b[49m\u001b[43mcast_to\u001b[49m\u001b[43m,\u001b[49m\u001b[43m \u001b[49m\u001b[43mopts\u001b[49m\u001b[43m,\u001b[49m\u001b[43m \u001b[49m\u001b[43mstream\u001b[49m\u001b[38;5;241;43m=\u001b[39;49m\u001b[43mstream\u001b[49m\u001b[43m,\u001b[49m\u001b[43m \u001b[49m\u001b[43mstream_cls\u001b[49m\u001b[38;5;241;43m=\u001b[39;49m\u001b[43mstream_cls\u001b[49m\u001b[43m)\u001b[49m)\n",
      "File \u001b[0;32m~/cs477-final-project/.conda/lib/python3.11/site-packages/openai/_base_client.py:921\u001b[0m, in \u001b[0;36mSyncAPIClient.request\u001b[0;34m(self, cast_to, options, remaining_retries, stream, stream_cls)\u001b[0m\n\u001b[1;32m    912\u001b[0m \u001b[38;5;28;01mdef\u001b[39;00m \u001b[38;5;21mrequest\u001b[39m(\n\u001b[1;32m    913\u001b[0m     \u001b[38;5;28mself\u001b[39m,\n\u001b[1;32m    914\u001b[0m     cast_to: Type[ResponseT],\n\u001b[0;32m   (...)\u001b[0m\n\u001b[1;32m    919\u001b[0m     stream_cls: \u001b[38;5;28mtype\u001b[39m[_StreamT] \u001b[38;5;241m|\u001b[39m \u001b[38;5;28;01mNone\u001b[39;00m \u001b[38;5;241m=\u001b[39m \u001b[38;5;28;01mNone\u001b[39;00m,\n\u001b[1;32m    920\u001b[0m ) \u001b[38;5;241m-\u001b[39m\u001b[38;5;241m>\u001b[39m ResponseT \u001b[38;5;241m|\u001b[39m _StreamT:\n\u001b[0;32m--> 921\u001b[0m     \u001b[38;5;28;01mreturn\u001b[39;00m \u001b[38;5;28;43mself\u001b[39;49m\u001b[38;5;241;43m.\u001b[39;49m\u001b[43m_request\u001b[49m\u001b[43m(\u001b[49m\n\u001b[1;32m    922\u001b[0m \u001b[43m        \u001b[49m\u001b[43mcast_to\u001b[49m\u001b[38;5;241;43m=\u001b[39;49m\u001b[43mcast_to\u001b[49m\u001b[43m,\u001b[49m\n\u001b[1;32m    923\u001b[0m \u001b[43m        \u001b[49m\u001b[43moptions\u001b[49m\u001b[38;5;241;43m=\u001b[39;49m\u001b[43moptions\u001b[49m\u001b[43m,\u001b[49m\n\u001b[1;32m    924\u001b[0m \u001b[43m        \u001b[49m\u001b[43mstream\u001b[49m\u001b[38;5;241;43m=\u001b[39;49m\u001b[43mstream\u001b[49m\u001b[43m,\u001b[49m\n\u001b[1;32m    925\u001b[0m \u001b[43m        \u001b[49m\u001b[43mstream_cls\u001b[49m\u001b[38;5;241;43m=\u001b[39;49m\u001b[43mstream_cls\u001b[49m\u001b[43m,\u001b[49m\n\u001b[1;32m    926\u001b[0m \u001b[43m        \u001b[49m\u001b[43mremaining_retries\u001b[49m\u001b[38;5;241;43m=\u001b[39;49m\u001b[43mremaining_retries\u001b[49m\u001b[43m,\u001b[49m\n\u001b[1;32m    927\u001b[0m \u001b[43m    \u001b[49m\u001b[43m)\u001b[49m\n",
      "File \u001b[0;32m~/cs477-final-project/.conda/lib/python3.11/site-packages/openai/_base_client.py:950\u001b[0m, in \u001b[0;36mSyncAPIClient._request\u001b[0;34m(self, cast_to, options, remaining_retries, stream, stream_cls)\u001b[0m\n\u001b[1;32m    947\u001b[0m     kwargs[\u001b[38;5;124m\"\u001b[39m\u001b[38;5;124mauth\u001b[39m\u001b[38;5;124m\"\u001b[39m] \u001b[38;5;241m=\u001b[39m \u001b[38;5;28mself\u001b[39m\u001b[38;5;241m.\u001b[39mcustom_auth\n\u001b[1;32m    949\u001b[0m \u001b[38;5;28;01mtry\u001b[39;00m:\n\u001b[0;32m--> 950\u001b[0m     response \u001b[38;5;241m=\u001b[39m \u001b[38;5;28;43mself\u001b[39;49m\u001b[38;5;241;43m.\u001b[39;49m\u001b[43m_client\u001b[49m\u001b[38;5;241;43m.\u001b[39;49m\u001b[43msend\u001b[49m\u001b[43m(\u001b[49m\n\u001b[1;32m    951\u001b[0m \u001b[43m        \u001b[49m\u001b[43mrequest\u001b[49m\u001b[43m,\u001b[49m\n\u001b[1;32m    952\u001b[0m \u001b[43m        \u001b[49m\u001b[43mstream\u001b[49m\u001b[38;5;241;43m=\u001b[39;49m\u001b[43mstream\u001b[49m\u001b[43m \u001b[49m\u001b[38;5;129;43;01mor\u001b[39;49;00m\u001b[43m \u001b[49m\u001b[38;5;28;43mself\u001b[39;49m\u001b[38;5;241;43m.\u001b[39;49m\u001b[43m_should_stream_response_body\u001b[49m\u001b[43m(\u001b[49m\u001b[43mrequest\u001b[49m\u001b[38;5;241;43m=\u001b[39;49m\u001b[43mrequest\u001b[49m\u001b[43m)\u001b[49m\u001b[43m,\u001b[49m\n\u001b[1;32m    953\u001b[0m \u001b[43m        \u001b[49m\u001b[38;5;241;43m*\u001b[39;49m\u001b[38;5;241;43m*\u001b[39;49m\u001b[43mkwargs\u001b[49m\u001b[43m,\u001b[49m\n\u001b[1;32m    954\u001b[0m \u001b[43m    \u001b[49m\u001b[43m)\u001b[49m\n\u001b[1;32m    955\u001b[0m \u001b[38;5;28;01mexcept\u001b[39;00m httpx\u001b[38;5;241m.\u001b[39mTimeoutException \u001b[38;5;28;01mas\u001b[39;00m err:\n\u001b[1;32m    956\u001b[0m     log\u001b[38;5;241m.\u001b[39mdebug(\u001b[38;5;124m\"\u001b[39m\u001b[38;5;124mEncountered httpx.TimeoutException\u001b[39m\u001b[38;5;124m\"\u001b[39m, exc_info\u001b[38;5;241m=\u001b[39m\u001b[38;5;28;01mTrue\u001b[39;00m)\n",
      "File \u001b[0;32m~/cs477-final-project/.conda/lib/python3.11/site-packages/httpx/_client.py:901\u001b[0m, in \u001b[0;36mClient.send\u001b[0;34m(self, request, stream, auth, follow_redirects)\u001b[0m\n\u001b[1;32m    893\u001b[0m follow_redirects \u001b[38;5;241m=\u001b[39m (\n\u001b[1;32m    894\u001b[0m     \u001b[38;5;28mself\u001b[39m\u001b[38;5;241m.\u001b[39mfollow_redirects\n\u001b[1;32m    895\u001b[0m     \u001b[38;5;28;01mif\u001b[39;00m \u001b[38;5;28misinstance\u001b[39m(follow_redirects, UseClientDefault)\n\u001b[1;32m    896\u001b[0m     \u001b[38;5;28;01melse\u001b[39;00m follow_redirects\n\u001b[1;32m    897\u001b[0m )\n\u001b[1;32m    899\u001b[0m auth \u001b[38;5;241m=\u001b[39m \u001b[38;5;28mself\u001b[39m\u001b[38;5;241m.\u001b[39m_build_request_auth(request, auth)\n\u001b[0;32m--> 901\u001b[0m response \u001b[38;5;241m=\u001b[39m \u001b[38;5;28;43mself\u001b[39;49m\u001b[38;5;241;43m.\u001b[39;49m\u001b[43m_send_handling_auth\u001b[49m\u001b[43m(\u001b[49m\n\u001b[1;32m    902\u001b[0m \u001b[43m    \u001b[49m\u001b[43mrequest\u001b[49m\u001b[43m,\u001b[49m\n\u001b[1;32m    903\u001b[0m \u001b[43m    \u001b[49m\u001b[43mauth\u001b[49m\u001b[38;5;241;43m=\u001b[39;49m\u001b[43mauth\u001b[49m\u001b[43m,\u001b[49m\n\u001b[1;32m    904\u001b[0m \u001b[43m    \u001b[49m\u001b[43mfollow_redirects\u001b[49m\u001b[38;5;241;43m=\u001b[39;49m\u001b[43mfollow_redirects\u001b[49m\u001b[43m,\u001b[49m\n\u001b[1;32m    905\u001b[0m \u001b[43m    \u001b[49m\u001b[43mhistory\u001b[49m\u001b[38;5;241;43m=\u001b[39;49m\u001b[43m[\u001b[49m\u001b[43m]\u001b[49m\u001b[43m,\u001b[49m\n\u001b[1;32m    906\u001b[0m \u001b[43m\u001b[49m\u001b[43m)\u001b[49m\n\u001b[1;32m    907\u001b[0m \u001b[38;5;28;01mtry\u001b[39;00m:\n\u001b[1;32m    908\u001b[0m     \u001b[38;5;28;01mif\u001b[39;00m \u001b[38;5;129;01mnot\u001b[39;00m stream:\n",
      "File \u001b[0;32m~/cs477-final-project/.conda/lib/python3.11/site-packages/httpx/_client.py:929\u001b[0m, in \u001b[0;36mClient._send_handling_auth\u001b[0;34m(self, request, auth, follow_redirects, history)\u001b[0m\n\u001b[1;32m    926\u001b[0m request \u001b[38;5;241m=\u001b[39m \u001b[38;5;28mnext\u001b[39m(auth_flow)\n\u001b[1;32m    928\u001b[0m \u001b[38;5;28;01mwhile\u001b[39;00m \u001b[38;5;28;01mTrue\u001b[39;00m:\n\u001b[0;32m--> 929\u001b[0m     response \u001b[38;5;241m=\u001b[39m \u001b[38;5;28;43mself\u001b[39;49m\u001b[38;5;241;43m.\u001b[39;49m\u001b[43m_send_handling_redirects\u001b[49m\u001b[43m(\u001b[49m\n\u001b[1;32m    930\u001b[0m \u001b[43m        \u001b[49m\u001b[43mrequest\u001b[49m\u001b[43m,\u001b[49m\n\u001b[1;32m    931\u001b[0m \u001b[43m        \u001b[49m\u001b[43mfollow_redirects\u001b[49m\u001b[38;5;241;43m=\u001b[39;49m\u001b[43mfollow_redirects\u001b[49m\u001b[43m,\u001b[49m\n\u001b[1;32m    932\u001b[0m \u001b[43m        \u001b[49m\u001b[43mhistory\u001b[49m\u001b[38;5;241;43m=\u001b[39;49m\u001b[43mhistory\u001b[49m\u001b[43m,\u001b[49m\n\u001b[1;32m    933\u001b[0m \u001b[43m    \u001b[49m\u001b[43m)\u001b[49m\n\u001b[1;32m    934\u001b[0m     \u001b[38;5;28;01mtry\u001b[39;00m:\n\u001b[1;32m    935\u001b[0m         \u001b[38;5;28;01mtry\u001b[39;00m:\n",
      "File \u001b[0;32m~/cs477-final-project/.conda/lib/python3.11/site-packages/httpx/_client.py:966\u001b[0m, in \u001b[0;36mClient._send_handling_redirects\u001b[0;34m(self, request, follow_redirects, history)\u001b[0m\n\u001b[1;32m    963\u001b[0m \u001b[38;5;28;01mfor\u001b[39;00m hook \u001b[38;5;129;01min\u001b[39;00m \u001b[38;5;28mself\u001b[39m\u001b[38;5;241m.\u001b[39m_event_hooks[\u001b[38;5;124m\"\u001b[39m\u001b[38;5;124mrequest\u001b[39m\u001b[38;5;124m\"\u001b[39m]:\n\u001b[1;32m    964\u001b[0m     hook(request)\n\u001b[0;32m--> 966\u001b[0m response \u001b[38;5;241m=\u001b[39m \u001b[38;5;28;43mself\u001b[39;49m\u001b[38;5;241;43m.\u001b[39;49m\u001b[43m_send_single_request\u001b[49m\u001b[43m(\u001b[49m\u001b[43mrequest\u001b[49m\u001b[43m)\u001b[49m\n\u001b[1;32m    967\u001b[0m \u001b[38;5;28;01mtry\u001b[39;00m:\n\u001b[1;32m    968\u001b[0m     \u001b[38;5;28;01mfor\u001b[39;00m hook \u001b[38;5;129;01min\u001b[39;00m \u001b[38;5;28mself\u001b[39m\u001b[38;5;241m.\u001b[39m_event_hooks[\u001b[38;5;124m\"\u001b[39m\u001b[38;5;124mresponse\u001b[39m\u001b[38;5;124m\"\u001b[39m]:\n",
      "File \u001b[0;32m~/cs477-final-project/.conda/lib/python3.11/site-packages/httpx/_client.py:1002\u001b[0m, in \u001b[0;36mClient._send_single_request\u001b[0;34m(self, request)\u001b[0m\n\u001b[1;32m    997\u001b[0m     \u001b[38;5;28;01mraise\u001b[39;00m \u001b[38;5;167;01mRuntimeError\u001b[39;00m(\n\u001b[1;32m    998\u001b[0m         \u001b[38;5;124m\"\u001b[39m\u001b[38;5;124mAttempted to send an async request with a sync Client instance.\u001b[39m\u001b[38;5;124m\"\u001b[39m\n\u001b[1;32m    999\u001b[0m     )\n\u001b[1;32m   1001\u001b[0m \u001b[38;5;28;01mwith\u001b[39;00m request_context(request\u001b[38;5;241m=\u001b[39mrequest):\n\u001b[0;32m-> 1002\u001b[0m     response \u001b[38;5;241m=\u001b[39m \u001b[43mtransport\u001b[49m\u001b[38;5;241;43m.\u001b[39;49m\u001b[43mhandle_request\u001b[49m\u001b[43m(\u001b[49m\u001b[43mrequest\u001b[49m\u001b[43m)\u001b[49m\n\u001b[1;32m   1004\u001b[0m \u001b[38;5;28;01massert\u001b[39;00m \u001b[38;5;28misinstance\u001b[39m(response\u001b[38;5;241m.\u001b[39mstream, SyncByteStream)\n\u001b[1;32m   1006\u001b[0m response\u001b[38;5;241m.\u001b[39mrequest \u001b[38;5;241m=\u001b[39m request\n",
      "File \u001b[0;32m~/cs477-final-project/.conda/lib/python3.11/site-packages/httpx/_transports/default.py:218\u001b[0m, in \u001b[0;36mHTTPTransport.handle_request\u001b[0;34m(self, request)\u001b[0m\n\u001b[1;32m    205\u001b[0m req \u001b[38;5;241m=\u001b[39m httpcore\u001b[38;5;241m.\u001b[39mRequest(\n\u001b[1;32m    206\u001b[0m     method\u001b[38;5;241m=\u001b[39mrequest\u001b[38;5;241m.\u001b[39mmethod,\n\u001b[1;32m    207\u001b[0m     url\u001b[38;5;241m=\u001b[39mhttpcore\u001b[38;5;241m.\u001b[39mURL(\n\u001b[0;32m   (...)\u001b[0m\n\u001b[1;32m    215\u001b[0m     extensions\u001b[38;5;241m=\u001b[39mrequest\u001b[38;5;241m.\u001b[39mextensions,\n\u001b[1;32m    216\u001b[0m )\n\u001b[1;32m    217\u001b[0m \u001b[38;5;28;01mwith\u001b[39;00m map_httpcore_exceptions():\n\u001b[0;32m--> 218\u001b[0m     resp \u001b[38;5;241m=\u001b[39m \u001b[38;5;28;43mself\u001b[39;49m\u001b[38;5;241;43m.\u001b[39;49m\u001b[43m_pool\u001b[49m\u001b[38;5;241;43m.\u001b[39;49m\u001b[43mhandle_request\u001b[49m\u001b[43m(\u001b[49m\u001b[43mreq\u001b[49m\u001b[43m)\u001b[49m\n\u001b[1;32m    220\u001b[0m \u001b[38;5;28;01massert\u001b[39;00m \u001b[38;5;28misinstance\u001b[39m(resp\u001b[38;5;241m.\u001b[39mstream, typing\u001b[38;5;241m.\u001b[39mIterable)\n\u001b[1;32m    222\u001b[0m \u001b[38;5;28;01mreturn\u001b[39;00m Response(\n\u001b[1;32m    223\u001b[0m     status_code\u001b[38;5;241m=\u001b[39mresp\u001b[38;5;241m.\u001b[39mstatus,\n\u001b[1;32m    224\u001b[0m     headers\u001b[38;5;241m=\u001b[39mresp\u001b[38;5;241m.\u001b[39mheaders,\n\u001b[1;32m    225\u001b[0m     stream\u001b[38;5;241m=\u001b[39mResponseStream(resp\u001b[38;5;241m.\u001b[39mstream),\n\u001b[1;32m    226\u001b[0m     extensions\u001b[38;5;241m=\u001b[39mresp\u001b[38;5;241m.\u001b[39mextensions,\n\u001b[1;32m    227\u001b[0m )\n",
      "File \u001b[0;32m~/cs477-final-project/.conda/lib/python3.11/site-packages/httpcore/_sync/connection_pool.py:262\u001b[0m, in \u001b[0;36mConnectionPool.handle_request\u001b[0;34m(self, request)\u001b[0m\n\u001b[1;32m    260\u001b[0m     \u001b[38;5;28;01mwith\u001b[39;00m ShieldCancellation():\n\u001b[1;32m    261\u001b[0m         \u001b[38;5;28mself\u001b[39m\u001b[38;5;241m.\u001b[39mresponse_closed(status)\n\u001b[0;32m--> 262\u001b[0m     \u001b[38;5;28;01mraise\u001b[39;00m exc\n\u001b[1;32m    263\u001b[0m \u001b[38;5;28;01melse\u001b[39;00m:\n\u001b[1;32m    264\u001b[0m     \u001b[38;5;28;01mbreak\u001b[39;00m\n",
      "File \u001b[0;32m~/cs477-final-project/.conda/lib/python3.11/site-packages/httpcore/_sync/connection_pool.py:245\u001b[0m, in \u001b[0;36mConnectionPool.handle_request\u001b[0;34m(self, request)\u001b[0m\n\u001b[1;32m    242\u001b[0m         \u001b[38;5;28;01mraise\u001b[39;00m exc\n\u001b[1;32m    244\u001b[0m \u001b[38;5;28;01mtry\u001b[39;00m:\n\u001b[0;32m--> 245\u001b[0m     response \u001b[38;5;241m=\u001b[39m \u001b[43mconnection\u001b[49m\u001b[38;5;241;43m.\u001b[39;49m\u001b[43mhandle_request\u001b[49m\u001b[43m(\u001b[49m\u001b[43mrequest\u001b[49m\u001b[43m)\u001b[49m\n\u001b[1;32m    246\u001b[0m \u001b[38;5;28;01mexcept\u001b[39;00m ConnectionNotAvailable:\n\u001b[1;32m    247\u001b[0m     \u001b[38;5;66;03m# The ConnectionNotAvailable exception is a special case, that\u001b[39;00m\n\u001b[1;32m    248\u001b[0m     \u001b[38;5;66;03m# indicates we need to retry the request on a new connection.\u001b[39;00m\n\u001b[0;32m   (...)\u001b[0m\n\u001b[1;32m    252\u001b[0m     \u001b[38;5;66;03m# might end up as an HTTP/2 connection, but which actually ends\u001b[39;00m\n\u001b[1;32m    253\u001b[0m     \u001b[38;5;66;03m# up as HTTP/1.1.\u001b[39;00m\n\u001b[1;32m    254\u001b[0m     \u001b[38;5;28;01mwith\u001b[39;00m \u001b[38;5;28mself\u001b[39m\u001b[38;5;241m.\u001b[39m_pool_lock:\n\u001b[1;32m    255\u001b[0m         \u001b[38;5;66;03m# Maintain our position in the request queue, but reset the\u001b[39;00m\n\u001b[1;32m    256\u001b[0m         \u001b[38;5;66;03m# status so that the request becomes queued again.\u001b[39;00m\n",
      "File \u001b[0;32m~/cs477-final-project/.conda/lib/python3.11/site-packages/httpcore/_sync/connection.py:96\u001b[0m, in \u001b[0;36mHTTPConnection.handle_request\u001b[0;34m(self, request)\u001b[0m\n\u001b[1;32m     93\u001b[0m     \u001b[38;5;28;01melif\u001b[39;00m \u001b[38;5;129;01mnot\u001b[39;00m \u001b[38;5;28mself\u001b[39m\u001b[38;5;241m.\u001b[39m_connection\u001b[38;5;241m.\u001b[39mis_available():\n\u001b[1;32m     94\u001b[0m         \u001b[38;5;28;01mraise\u001b[39;00m ConnectionNotAvailable()\n\u001b[0;32m---> 96\u001b[0m \u001b[38;5;28;01mreturn\u001b[39;00m \u001b[38;5;28;43mself\u001b[39;49m\u001b[38;5;241;43m.\u001b[39;49m\u001b[43m_connection\u001b[49m\u001b[38;5;241;43m.\u001b[39;49m\u001b[43mhandle_request\u001b[49m\u001b[43m(\u001b[49m\u001b[43mrequest\u001b[49m\u001b[43m)\u001b[49m\n",
      "File \u001b[0;32m~/cs477-final-project/.conda/lib/python3.11/site-packages/httpcore/_sync/http11.py:121\u001b[0m, in \u001b[0;36mHTTP11Connection.handle_request\u001b[0;34m(self, request)\u001b[0m\n\u001b[1;32m    119\u001b[0m     \u001b[38;5;28;01mwith\u001b[39;00m Trace(\u001b[38;5;124m\"\u001b[39m\u001b[38;5;124mresponse_closed\u001b[39m\u001b[38;5;124m\"\u001b[39m, logger, request) \u001b[38;5;28;01mas\u001b[39;00m trace:\n\u001b[1;32m    120\u001b[0m         \u001b[38;5;28mself\u001b[39m\u001b[38;5;241m.\u001b[39m_response_closed()\n\u001b[0;32m--> 121\u001b[0m \u001b[38;5;28;01mraise\u001b[39;00m exc\n",
      "File \u001b[0;32m~/cs477-final-project/.conda/lib/python3.11/site-packages/httpcore/_sync/http11.py:99\u001b[0m, in \u001b[0;36mHTTP11Connection.handle_request\u001b[0;34m(self, request)\u001b[0m\n\u001b[1;32m     90\u001b[0m     \u001b[38;5;28mself\u001b[39m\u001b[38;5;241m.\u001b[39m_send_request_body(\u001b[38;5;241m*\u001b[39m\u001b[38;5;241m*\u001b[39mkwargs)\n\u001b[1;32m     91\u001b[0m \u001b[38;5;28;01mwith\u001b[39;00m Trace(\n\u001b[1;32m     92\u001b[0m     \u001b[38;5;124m\"\u001b[39m\u001b[38;5;124mreceive_response_headers\u001b[39m\u001b[38;5;124m\"\u001b[39m, logger, request, kwargs\n\u001b[1;32m     93\u001b[0m ) \u001b[38;5;28;01mas\u001b[39;00m trace:\n\u001b[1;32m     94\u001b[0m     (\n\u001b[1;32m     95\u001b[0m         http_version,\n\u001b[1;32m     96\u001b[0m         status,\n\u001b[1;32m     97\u001b[0m         reason_phrase,\n\u001b[1;32m     98\u001b[0m         headers,\n\u001b[0;32m---> 99\u001b[0m     ) \u001b[38;5;241m=\u001b[39m \u001b[38;5;28;43mself\u001b[39;49m\u001b[38;5;241;43m.\u001b[39;49m\u001b[43m_receive_response_headers\u001b[49m\u001b[43m(\u001b[49m\u001b[38;5;241;43m*\u001b[39;49m\u001b[38;5;241;43m*\u001b[39;49m\u001b[43mkwargs\u001b[49m\u001b[43m)\u001b[49m\n\u001b[1;32m    100\u001b[0m     trace\u001b[38;5;241m.\u001b[39mreturn_value \u001b[38;5;241m=\u001b[39m (\n\u001b[1;32m    101\u001b[0m         http_version,\n\u001b[1;32m    102\u001b[0m         status,\n\u001b[1;32m    103\u001b[0m         reason_phrase,\n\u001b[1;32m    104\u001b[0m         headers,\n\u001b[1;32m    105\u001b[0m     )\n\u001b[1;32m    107\u001b[0m \u001b[38;5;28;01mreturn\u001b[39;00m Response(\n\u001b[1;32m    108\u001b[0m     status\u001b[38;5;241m=\u001b[39mstatus,\n\u001b[1;32m    109\u001b[0m     headers\u001b[38;5;241m=\u001b[39mheaders,\n\u001b[0;32m   (...)\u001b[0m\n\u001b[1;32m    115\u001b[0m     },\n\u001b[1;32m    116\u001b[0m )\n",
      "File \u001b[0;32m~/cs477-final-project/.conda/lib/python3.11/site-packages/httpcore/_sync/http11.py:164\u001b[0m, in \u001b[0;36mHTTP11Connection._receive_response_headers\u001b[0;34m(self, request)\u001b[0m\n\u001b[1;32m    161\u001b[0m timeout \u001b[38;5;241m=\u001b[39m timeouts\u001b[38;5;241m.\u001b[39mget(\u001b[38;5;124m\"\u001b[39m\u001b[38;5;124mread\u001b[39m\u001b[38;5;124m\"\u001b[39m, \u001b[38;5;28;01mNone\u001b[39;00m)\n\u001b[1;32m    163\u001b[0m \u001b[38;5;28;01mwhile\u001b[39;00m \u001b[38;5;28;01mTrue\u001b[39;00m:\n\u001b[0;32m--> 164\u001b[0m     event \u001b[38;5;241m=\u001b[39m \u001b[38;5;28;43mself\u001b[39;49m\u001b[38;5;241;43m.\u001b[39;49m\u001b[43m_receive_event\u001b[49m\u001b[43m(\u001b[49m\u001b[43mtimeout\u001b[49m\u001b[38;5;241;43m=\u001b[39;49m\u001b[43mtimeout\u001b[49m\u001b[43m)\u001b[49m\n\u001b[1;32m    165\u001b[0m     \u001b[38;5;28;01mif\u001b[39;00m \u001b[38;5;28misinstance\u001b[39m(event, h11\u001b[38;5;241m.\u001b[39mResponse):\n\u001b[1;32m    166\u001b[0m         \u001b[38;5;28;01mbreak\u001b[39;00m\n",
      "File \u001b[0;32m~/cs477-final-project/.conda/lib/python3.11/site-packages/httpcore/_sync/http11.py:200\u001b[0m, in \u001b[0;36mHTTP11Connection._receive_event\u001b[0;34m(self, timeout)\u001b[0m\n\u001b[1;32m    197\u001b[0m     event \u001b[38;5;241m=\u001b[39m \u001b[38;5;28mself\u001b[39m\u001b[38;5;241m.\u001b[39m_h11_state\u001b[38;5;241m.\u001b[39mnext_event()\n\u001b[1;32m    199\u001b[0m \u001b[38;5;28;01mif\u001b[39;00m event \u001b[38;5;129;01mis\u001b[39;00m h11\u001b[38;5;241m.\u001b[39mNEED_DATA:\n\u001b[0;32m--> 200\u001b[0m     data \u001b[38;5;241m=\u001b[39m \u001b[38;5;28;43mself\u001b[39;49m\u001b[38;5;241;43m.\u001b[39;49m\u001b[43m_network_stream\u001b[49m\u001b[38;5;241;43m.\u001b[39;49m\u001b[43mread\u001b[49m\u001b[43m(\u001b[49m\n\u001b[1;32m    201\u001b[0m \u001b[43m        \u001b[49m\u001b[38;5;28;43mself\u001b[39;49m\u001b[38;5;241;43m.\u001b[39;49m\u001b[43mREAD_NUM_BYTES\u001b[49m\u001b[43m,\u001b[49m\u001b[43m \u001b[49m\u001b[43mtimeout\u001b[49m\u001b[38;5;241;43m=\u001b[39;49m\u001b[43mtimeout\u001b[49m\n\u001b[1;32m    202\u001b[0m \u001b[43m    \u001b[49m\u001b[43m)\u001b[49m\n\u001b[1;32m    204\u001b[0m     \u001b[38;5;66;03m# If we feed this case through h11 we'll raise an exception like:\u001b[39;00m\n\u001b[1;32m    205\u001b[0m     \u001b[38;5;66;03m#\u001b[39;00m\n\u001b[1;32m    206\u001b[0m     \u001b[38;5;66;03m#     httpcore.RemoteProtocolError: can't handle event type\u001b[39;00m\n\u001b[0;32m   (...)\u001b[0m\n\u001b[1;32m    210\u001b[0m     \u001b[38;5;66;03m# perspective. Instead we handle this case distinctly and treat\u001b[39;00m\n\u001b[1;32m    211\u001b[0m     \u001b[38;5;66;03m# it as a ConnectError.\u001b[39;00m\n\u001b[1;32m    212\u001b[0m     \u001b[38;5;28;01mif\u001b[39;00m data \u001b[38;5;241m==\u001b[39m \u001b[38;5;124mb\u001b[39m\u001b[38;5;124m\"\u001b[39m\u001b[38;5;124m\"\u001b[39m \u001b[38;5;129;01mand\u001b[39;00m \u001b[38;5;28mself\u001b[39m\u001b[38;5;241m.\u001b[39m_h11_state\u001b[38;5;241m.\u001b[39mtheir_state \u001b[38;5;241m==\u001b[39m h11\u001b[38;5;241m.\u001b[39mSEND_RESPONSE:\n",
      "File \u001b[0;32m~/cs477-final-project/.conda/lib/python3.11/site-packages/httpcore/_backends/sync.py:28\u001b[0m, in \u001b[0;36mSyncStream.read\u001b[0;34m(self, max_bytes, timeout)\u001b[0m\n\u001b[1;32m     26\u001b[0m \u001b[38;5;28;01mwith\u001b[39;00m map_exceptions(exc_map):\n\u001b[1;32m     27\u001b[0m     \u001b[38;5;28mself\u001b[39m\u001b[38;5;241m.\u001b[39m_sock\u001b[38;5;241m.\u001b[39msettimeout(timeout)\n\u001b[0;32m---> 28\u001b[0m     \u001b[38;5;28;01mreturn\u001b[39;00m \u001b[38;5;28;43mself\u001b[39;49m\u001b[38;5;241;43m.\u001b[39;49m\u001b[43m_sock\u001b[49m\u001b[38;5;241;43m.\u001b[39;49m\u001b[43mrecv\u001b[49m\u001b[43m(\u001b[49m\u001b[43mmax_bytes\u001b[49m\u001b[43m)\u001b[49m\n",
      "File \u001b[0;32m~/cs477-final-project/.conda/lib/python3.11/ssl.py:1295\u001b[0m, in \u001b[0;36mSSLSocket.recv\u001b[0;34m(self, buflen, flags)\u001b[0m\n\u001b[1;32m   1291\u001b[0m     \u001b[38;5;28;01mif\u001b[39;00m flags \u001b[38;5;241m!=\u001b[39m \u001b[38;5;241m0\u001b[39m:\n\u001b[1;32m   1292\u001b[0m         \u001b[38;5;28;01mraise\u001b[39;00m \u001b[38;5;167;01mValueError\u001b[39;00m(\n\u001b[1;32m   1293\u001b[0m             \u001b[38;5;124m\"\u001b[39m\u001b[38;5;124mnon-zero flags not allowed in calls to recv() on \u001b[39m\u001b[38;5;132;01m%s\u001b[39;00m\u001b[38;5;124m\"\u001b[39m \u001b[38;5;241m%\u001b[39m\n\u001b[1;32m   1294\u001b[0m             \u001b[38;5;28mself\u001b[39m\u001b[38;5;241m.\u001b[39m\u001b[38;5;18m__class__\u001b[39m)\n\u001b[0;32m-> 1295\u001b[0m     \u001b[38;5;28;01mreturn\u001b[39;00m \u001b[38;5;28;43mself\u001b[39;49m\u001b[38;5;241;43m.\u001b[39;49m\u001b[43mread\u001b[49m\u001b[43m(\u001b[49m\u001b[43mbuflen\u001b[49m\u001b[43m)\u001b[49m\n\u001b[1;32m   1296\u001b[0m \u001b[38;5;28;01melse\u001b[39;00m:\n\u001b[1;32m   1297\u001b[0m     \u001b[38;5;28;01mreturn\u001b[39;00m \u001b[38;5;28msuper\u001b[39m()\u001b[38;5;241m.\u001b[39mrecv(buflen, flags)\n",
      "File \u001b[0;32m~/cs477-final-project/.conda/lib/python3.11/ssl.py:1168\u001b[0m, in \u001b[0;36mSSLSocket.read\u001b[0;34m(self, len, buffer)\u001b[0m\n\u001b[1;32m   1166\u001b[0m         \u001b[38;5;28;01mreturn\u001b[39;00m \u001b[38;5;28mself\u001b[39m\u001b[38;5;241m.\u001b[39m_sslobj\u001b[38;5;241m.\u001b[39mread(\u001b[38;5;28mlen\u001b[39m, buffer)\n\u001b[1;32m   1167\u001b[0m     \u001b[38;5;28;01melse\u001b[39;00m:\n\u001b[0;32m-> 1168\u001b[0m         \u001b[38;5;28;01mreturn\u001b[39;00m \u001b[38;5;28;43mself\u001b[39;49m\u001b[38;5;241;43m.\u001b[39;49m\u001b[43m_sslobj\u001b[49m\u001b[38;5;241;43m.\u001b[39;49m\u001b[43mread\u001b[49m\u001b[43m(\u001b[49m\u001b[38;5;28;43mlen\u001b[39;49m\u001b[43m)\u001b[49m\n\u001b[1;32m   1169\u001b[0m \u001b[38;5;28;01mexcept\u001b[39;00m SSLError \u001b[38;5;28;01mas\u001b[39;00m x:\n\u001b[1;32m   1170\u001b[0m     \u001b[38;5;28;01mif\u001b[39;00m x\u001b[38;5;241m.\u001b[39margs[\u001b[38;5;241m0\u001b[39m] \u001b[38;5;241m==\u001b[39m SSL_ERROR_EOF \u001b[38;5;129;01mand\u001b[39;00m \u001b[38;5;28mself\u001b[39m\u001b[38;5;241m.\u001b[39msuppress_ragged_eofs:\n",
      "\u001b[0;31mKeyboardInterrupt\u001b[0m: "
     ]
    }
   ],
   "source": [
    "import calling\n",
    "from tqdm import tqdm\n",
    "results = []\n",
    "num_pass = 0\n",
    "token_usage = 0\n",
    "for i, row in tqdm(df.iterrows()):\n",
    "    obj = prompts.to_patent_data(row, \"gpt4v\", prefer_local=True, mode=IMAGE_ONLY)\n",
    "    if (obj is None): continue\n",
    "    print(obj)\n",
    "    messages = prompts.generate_prompt_openai(obj)\n",
    "    try:\n",
    "        result, token_usage = calling.call_openai(obj, return_token_usage=True)\n",
    "    except Exception as e:\n",
    "        print(e)\n",
    "        continue\n",
    "    results.append(result)\n",
    "    if obj.label in result:\n",
    "        num_pass += 1\n",
    "    print(f\"Output: {result}, Expected: {obj.label}, Current Accuracy: {num_pass/(i+1)}, Token Usage: {token_usage}\")"
   ]
  },
  {
   "cell_type": "markdown",
   "metadata": {},
   "source": [
    "## Text Only"
   ]
  },
  {
   "cell_type": "code",
   "execution_count": 4,
   "metadata": {},
   "outputs": [
    {
     "name": "stderr",
     "output_type": "stream",
     "text": [
      "0it [00:00, ?it/s]"
     ]
    },
    {
     "name": "stdout",
     "output_type": "stream",
     "text": [
      "PatentData(text='A portable drug dispenser includes a chamber for holding a plurality of separately contained drug products, a dispensing mechanism for dispensing one or more of the plurality of drug products, and may optionally include a processor to determine the time of each activation of the dispensing mechanism and to transmit the determined time of activation to a computer located remote to the dispenser. The dispenser may include more than one chamber for holding drugs.', image=None, label='A61J', model_output=None, messages=None, model_type='gpt4v', mode=1)\n"
     ]
    },
    {
     "name": "stderr",
     "output_type": "stream",
     "text": [
      "1it [00:09,  9.42s/it]"
     ]
    },
    {
     "name": "stdout",
     "output_type": "stream",
     "text": [
      "Output: A61J 7/04, Expected: A61J, Current Accuracy: 1.0, Token Usage: 130\n",
      "PatentData(text='A crystal growth furnace comprising a crucible containing at least feedstock material and a liquid-cooled heat exchanger that is vertically movable beneath the crucible to extract heat from it to promote the growth of a crystalline ingot is disclosed. The liquid-cooled heat exchanger comprises a heat extraction bulb made of high thermal conductivity material that is vertically movable into thermal communication with the crucible to extract heat from the crucible using a liquid coolant. A liquid-cooled heat exchanger enclosed in a sealed tubular outer jacket is also disclosed as is a method for producing a crystalline ingot using a vertically movable liquid-cooled heat exchanger.', image=None, label='C30B', model_output=None, messages=None, model_type='gpt4v', mode=1)\n"
     ]
    },
    {
     "name": "stderr",
     "output_type": "stream",
     "text": [
      "2it [00:11,  5.09s/it]"
     ]
    },
    {
     "name": "stdout",
     "output_type": "stream",
     "text": [
      "Output: C30B 15/00, Expected: C30B, Current Accuracy: 1.0, Token Usage: 178\n",
      "PatentData(text='A shoe midsole is composed of a base plate (1), a cover (2), a plurality of blades (3), and liquid (4). The blades (3) are formed in such a manner as to rise within a first region (11) of the base plate (1). The blades (3) are each composed of a plurality of flat-shaped blade elements (32, 33) separated each other by slits (31), and are tilted toward the toe side or the heel side. The flat-shaped blade elements (32, 33) are disposed in such a manner as to be divergent toward the toe side or the heel side. The base plate (1) and the cover (2) are joined together, thereby forming a closed space (5), and the liquid (4) is sealed in the closed space.', image=None, label='A43B', model_output=None, messages=None, model_type='gpt4v', mode=1)\n"
     ]
    },
    {
     "name": "stderr",
     "output_type": "stream",
     "text": [
      "3it [00:13,  3.76s/it]"
     ]
    },
    {
     "name": "stdout",
     "output_type": "stream",
     "text": [
      "Output: A43B 13/18, Expected: A43B, Current Accuracy: 1.0, Token Usage: 218\n",
      "PatentData(text='A ratchet tool includes a shaft member, a handle and a ratchet mechanism, in which the handle is connected to the ratchet mechanism, and the shaft member extends into the interior of the ratchet mechanism along the central axle of the ratchet mechanism from the front end of the ratchet mechanism and is connected to the ratchet mechanism. The shaft member includes a shaft and an extension portion which passes through the rear end of the ratchet mechanism along the central axle of the ratchet mechanism from the front end of the ratchet mechanism and is connected to the ratchet mechanism, and the shaft is designed to be integrated with or separated from the extension portion. Such a design of the shaft member solves the wobble problem of the shaft. The ratchet tool of the present invention also includes a lighting device. The ratchet tool of the present invention requires small turning force when turning back and has strong capacity of torque transferring, and at the same time achieves lighting feature.', image=None, label='B25B', model_output=None, messages=None, model_type='gpt4v', mode=1)\n"
     ]
    },
    {
     "name": "stderr",
     "output_type": "stream",
     "text": [
      "4it [00:15,  2.98s/it]"
     ]
    },
    {
     "name": "stdout",
     "output_type": "stream",
     "text": [
      "Output: B25B13, Expected: B25B, Current Accuracy: 1.0, Token Usage: 241\n",
      "PatentData(text='Provided are a rubber composition using an antioxidant synthesized from biological resources including botanical resources, wherein the value of δ13C of the antioxidant is from −30‰ to −26‰, or −22‰ or more, and a tire using the rubber composition.', image=None, label='C08K', model_output=None, messages=None, model_type='gpt4v', mode=1)\n"
     ]
    },
    {
     "name": "stderr",
     "output_type": "stream",
     "text": [
      "5it [00:16,  2.18s/it]"
     ]
    },
    {
     "name": "stdout",
     "output_type": "stream",
     "text": [
      "Output: C08K, Expected: C08K, Current Accuracy: 1.0, Token Usage: 97\n",
      "PatentData(text='Glazings comprising first and second channel-section glazing elements are described. The first and second channel-section glazing elements are arranged to define a cavity in which is located an inner glazing element comprising a glass glazing element, in particular a soda-lime-silica glass sheet, channel-section glazing element or sheet of rolled glass having at least one fire polished edge. The inner glazing element divides the cavity into at least two spaces to improve the thermal and/or noise performance of the glazing. By using low emissivity coatings on one or more major surfaces of one or more of the glazing elements, the thermal performance may be further improved. Mechanical performance may be modified by the particular type of inner glazing element used. It is possible to retrofit existing glazings to improve the thermal and/or noise performance thereof.', image=None, label='E04C', model_output=None, messages=None, model_type='gpt4v', mode=1)\n"
     ]
    },
    {
     "name": "stderr",
     "output_type": "stream",
     "text": [
      "6it [00:31,  6.53s/it]"
     ]
    },
    {
     "name": "stdout",
     "output_type": "stream",
     "text": [
      "Output: E06B3/00, Expected: E04C, Current Accuracy: 0.8333333333333334, Token Usage: 215\n",
      "PatentData(text='An exhaust stem for use with a valve assembly is provided. The exhaust stem is a hollow body which comprises an inner surface, a distal end, and an outer surface. The inner surface forms a portion of a fluid conduit through the exhaust stem. The distal end is shaped to sealingly engage a valve of the valve assembly. The outer surface defines a plurality of turbulence reducing protuberances. The plurality of turbulence reducing protuberances distributes a fluid within a valve housing of the valve assembly to facilitate operation of the valve assembly. The valve assembly decreases an amount of fluid turbulence in a tire inflation system, provides greater flexibility in configuring the tire inflation system, and facilitates accurate control of a pressure within individual tires of a vehicle.', image=None, label='B60C', model_output=None, messages=None, model_type='gpt4v', mode=1)\n"
     ]
    },
    {
     "name": "stderr",
     "output_type": "stream",
     "text": [
      "7it [00:31,  4.59s/it]"
     ]
    },
    {
     "name": "stdout",
     "output_type": "stream",
     "text": [
      "Output: F16K, Expected: B60C, Current Accuracy: 0.7142857142857143, Token Usage: 191\n",
      "PatentData(text='Liquefied gas tank that is easy to machine and quick to operate and bag for sealing cable ducts incorporating said tank. The tank is provided with breaking means for inflating sealed compartments composed of a main pipe (1) closed on one side, an outlet pipe (4) inserted on the other side of the main tube through a first end (6) and closed on the distal end thereof, wherein the outlet pipe is provided with a narrowing (5) that defines a breaking point and an internal orifice (8) that extends from the first end of the outlet pipe to the narrowing (5) towards the distal end, and wherein the size of the narrowing (5), the size of the orifice (8) and the length of the outlet pipe (4) are determined such that a force applied on a lever of between 19N and 80N will break the outlet pipe (4) at the breaking point (5), releasing the gas through the orifice (8).', image=None, label='F17C', model_output=None, messages=None, model_type='gpt4v', mode=1)\n"
     ]
    },
    {
     "name": "stderr",
     "output_type": "stream",
     "text": [
      "8it [00:36,  4.75s/it]"
     ]
    },
    {
     "name": "stdout",
     "output_type": "stream",
     "text": [
      "Output: F17C, Expected: F17C, Current Accuracy: 0.75, Token Usage: 247\n",
      "PatentData(text='A paper product comprising a planar fibrous cellulose substrate, and a coating composition disposed on a surface of said substrate comprising an interpolymer prepared by the emulsion polymerization of (i) one or more vinyl ester monomers; (ii) ethylene; (iii) an unsaturated silane co-monomer; and (iv) one or more emulsion-stabilizing ionic co-monomers comprising one or more of unsaturated, substituted sulfonic acid, one or more of an unsaturated phosphonic acid, or an ester of one of those acids, in the presence of (v) a stabilizing system which comprises one or more anionic and/or nonionic surfactants but less than about 1 pphm of any protective colloid material; and (v) water.', image=None, label='D21H', model_output=None, messages=None, model_type='gpt4v', mode=1)\n"
     ]
    },
    {
     "name": "stderr",
     "output_type": "stream",
     "text": [
      "9it [00:37,  3.51s/it]"
     ]
    },
    {
     "name": "stdout",
     "output_type": "stream",
     "text": [
      "Output: D21H 19/00, Expected: D21H, Current Accuracy: 0.7777777777777778, Token Usage: 216\n",
      "PatentData(text='The present disclosure relates to a display panel, a pixel structure, and a method for driving the display panel. The pixel structure comprises a plurality of sub-pixels, each of which comprises: a main portion configured to receive a scan signal of a first scan line, and then to receive a data signal of a data line, so that it has a main-portion voltage; a first portion configured to receive the scan signal of the first scan line, and then to receive the data signal of the data line, so that it has a first-portion voltage; and a second portion configured to receive a scan signal of a second scan line, and then to receive the data signal of the data line, so that it a second-portion voltage, wherein the main-portion voltage, the first-portion voltage and the second-portion voltage are different from one another. The display panel can not only achieve lower color shift for 2D display, but also enable lower color shift for 3D display by using a voltage difference between the main portion and the first portion after turning the second portion into a light shielding area.', image=None, label='G09G', model_output=None, messages=None, model_type='gpt4v', mode=1)\n"
     ]
    },
    {
     "name": "stderr",
     "output_type": "stream",
     "text": [
      "10it [00:39,  2.95s/it]"
     ]
    },
    {
     "name": "stdout",
     "output_type": "stream",
     "text": [
      "Output: G09G 3/36, Expected: G09G, Current Accuracy: 0.8, Token Usage: 273\n",
      "PatentData(text='The disclosed broadband supercontinuum light emitting device includes a nonlinear optical fiber, a pump system, a cavity, and an active medium. The active medium may comprise an active fiber and may be located inside the cavity. The active medium is configured and arranged, by means of a pumping provided by the pump system, to generate and emit chaotic pulses of laser light towards the nonlinear optical fiber, which excite the nonlinear effects thereof for the generation and emission of supercontinuum light in the form of pulses of light distributed randomly over time. Numerous uses of the device are disclosed for multiple applications that require a low-cost, very bright light source with an adequate broadband spectrum.', image=None, label='H01S', model_output=None, messages=None, model_type='gpt4v', mode=1)\n"
     ]
    },
    {
     "name": "stderr",
     "output_type": "stream",
     "text": [
      "11it [00:40,  2.26s/it]"
     ]
    },
    {
     "name": "stdout",
     "output_type": "stream",
     "text": [
      "Output: H01S 3/00, Expected: H01S, Current Accuracy: 0.8181818181818182, Token Usage: 181\n",
      "PatentData(text='An offshore power generation structure comprising a submerged portion having a first deck portion comprising an integral multi-stage evaporator system, a second deck portion comprising an integral multi-stage condensing system, a third deck portion housing power generation equipment, cold water pipe; and a cold water pipe connection.', image=None, label='F03G', model_output=None, messages=None, model_type='gpt4v', mode=1)\n"
     ]
    },
    {
     "name": "stderr",
     "output_type": "stream",
     "text": [
      "12it [00:42,  2.38s/it]"
     ]
    },
    {
     "name": "stdout",
     "output_type": "stream",
     "text": [
      "Output: F03B13/18, Expected: F03G, Current Accuracy: 0.75, Token Usage: 104\n",
      "PatentData(text='A burst-mode laser control circuit and related methods thereof are disclosed. Using an APC loop with an additional burst-mode control circuit, and a switch in series with a diode and in parallel with the laser, a continuous-mode laser driver is enabled to operate in burst-mode by turning the switch on or off via external logic. Burst-mode control manages the switch, and a bandwidth-select circuit using a high or low logic level input, wherein the laser is disabled and the bandwidth-select circuit enters a fast-track mode when the external logic signal has a first level. The laser provides regular optical signals, and the bandwidth-select circuit enters a slow-track mode, thereby enabling the APC loop to operate normally, when the external logic signal has a second level. In addition to a low cost and simple implementation, the control circuit and method provide lasers with a fast response capability using one or more externally-controlled switch circuits to meet demands of PON systems for burst-mode ONUs.', image=None, label='H04B', model_output=None, messages=None, model_type='gpt4v', mode=1)\n"
     ]
    },
    {
     "name": "stderr",
     "output_type": "stream",
     "text": [
      "13it [00:55,  5.50s/it]"
     ]
    },
    {
     "name": "stdout",
     "output_type": "stream",
     "text": [
      "Output: H01S 5/00, Expected: H04B, Current Accuracy: 0.6923076923076923, Token Usage: 239\n",
      "PatentData(text='Automated device for opening and closing metal goods-transportation boxes for stowage on ships relates to an automated device designed to open and close metal goods-transportation boxes for stowage on ships that obviates the need for storage silos close to the quay of the port and the conveyer belts and accessories thereof for loading the ship.', image=None, label='B66C', model_output=None, messages=None, model_type='gpt4v', mode=1)\n"
     ]
    },
    {
     "name": "stderr",
     "output_type": "stream",
     "text": [
      "14it [00:58,  4.89s/it]"
     ]
    },
    {
     "name": "stdout",
     "output_type": "stream",
     "text": [
      "Output: B63B25/00, Expected: B66C, Current Accuracy: 0.6428571428571429, Token Usage: 120\n",
      "PatentData(text='A method for protecting data transmission in an ad hoc network including nodes, each node including a private key, a public key and a certificate of the public key signed by a certification authority, the method including transmitting by the first node to the second node: a first message signed with the private key of the first node; a third message containing a first set of initialization data including: a first certificate including the public key of the first node, signed by the certification authority; a second data set including the IP address of the first node; and the first certificate associated with the IP address of the first node, wherein the second data set is signed with the private key of the first node.', image=None, label='H04L', model_output=None, messages=None, model_type='gpt4v', mode=1)\n"
     ]
    },
    {
     "name": "stderr",
     "output_type": "stream",
     "text": [
      "15it [01:02,  4.54s/it]"
     ]
    },
    {
     "name": "stdout",
     "output_type": "stream",
     "text": [
      "Output: H04L, Expected: H04L, Current Accuracy: 0.6666666666666666, Token Usage: 181\n",
      "PatentData(text='A method for merging two sub-networks of an ad hoc network implementing the D2HCP routing protocol includes transmitting a first data set from the master node to the slave node, the first set including the identifiers of all the nodes of the sub-network containing the master node, the IP addresses of all the nodes of the sub-network containing the master node, each node identifier being associated with a single IP address, comparing each received IP address of the first set with the IP addresses of the routing table of the slave node in order to identify a list of duplicates corresponding to nodes of each sub-network having the same IP addresses.', image=None, label='H04L', model_output=None, messages=None, model_type='gpt4v', mode=1)\n"
     ]
    },
    {
     "name": "stderr",
     "output_type": "stream",
     "text": [
      "16it [01:09,  5.33s/it]"
     ]
    },
    {
     "name": "stdout",
     "output_type": "stream",
     "text": [
      "Output: H04W, Expected: H04L, Current Accuracy: 0.625, Token Usage: 169\n",
      "PatentData(text='A pharmaceutical composition comprising at least two peptides of from 15 to 60 amino acids in length, selected from peptides comprising a sequence of at least 15 contiguous amino acids of one of the sequences shown in SEQ ID NOs: 1 to 4 or of a sequence having at least 80% identity to one of the sequences shown in SEQ ID NOs: to 4, wherein each peptide comprises at least one CD8+ T-cell epitope and/or at least one CD4+ T-cell epitope and wherein each peptide elicits a response in peripheral blood mononuclear cells (PBMC) from at least one chronically infected HBV individual in an 10 in vitroassay.', image=None, label='A61K', model_output=None, messages=None, model_type='gpt4v', mode=1)\n"
     ]
    },
    {
     "name": "stderr",
     "output_type": "stream",
     "text": [
      "17it [01:10,  4.04s/it]"
     ]
    },
    {
     "name": "stdout",
     "output_type": "stream",
     "text": [
      "Output: A61K, Expected: A61K, Current Accuracy: 0.6470588235294118, Token Usage: 187\n",
      "PatentData(text='To expose a desired feature, focused ion beam milling of thin slices from a cross section alternate with forming a scanning electron image of each newly exposed cross section. Milling is stopped when automatic analysis of an electron beam image of the newly exposed cross section shows that a pre-determined criterion is met.', image=None, label='H01J', model_output=None, messages=None, model_type='gpt4v', mode=1)\n"
     ]
    },
    {
     "name": "stderr",
     "output_type": "stream",
     "text": [
      "18it [01:11,  3.09s/it]"
     ]
    },
    {
     "name": "stdout",
     "output_type": "stream",
     "text": [
      "Output: H01L, Expected: H01J, Current Accuracy: 0.6111111111111112, Token Usage: 104\n",
      "PatentData(text='A lift with guide rails and guide device and by using a cable winch reduction, an electric drive or a hydraulic cylinder enables a lift platform or a double platform to move vertically over a lifting and the swimming pool lift includes a flotation body, which can receive the drive, the hydraulic system and the swimming pool cleaning system.', image=None, label='A61G', model_output=None, messages=None, model_type='gpt4v', mode=1)\n"
     ]
    },
    {
     "name": "stderr",
     "output_type": "stream",
     "text": [
      "19it [01:14,  2.89s/it]"
     ]
    },
    {
     "name": "stdout",
     "output_type": "stream",
     "text": [
      "Output: B66B 9/00, Expected: A61G, Current Accuracy: 0.5789473684210527, Token Usage: 113\n",
      "PatentData(text=\"Disclosed are compounds of formula (1)-(V): where the substituents are as provided herein. Further disclosed are methods of inhibiting tau aggregation, treating or ameliorating a tauopathy or cancer by administration of such a compound. Tau is a microtubule-binding protein that accumulates in a number of neurodegenerative disorders, including frontotemporal dementia and Alzheimer's disease (AD). The presence of abnormal tau correlates with neuron loss and memory deficits in patients with AD and other neurodegenerative disorders that involve tau accumulation.\", image=None, label='A61K', model_output=None, messages=None, model_type='gpt4v', mode=1)\n"
     ]
    },
    {
     "name": "stderr",
     "output_type": "stream",
     "text": [
      "20it [01:14,  2.25s/it]"
     ]
    },
    {
     "name": "stdout",
     "output_type": "stream",
     "text": [
      "Output: A61K, Expected: A61K, Current Accuracy: 0.6, Token Usage: 157\n",
      "PatentData(text='The present invention relates to a method for targeted inactivation of transcription factor using an artificial small interfering peptide and a use thereof. According to the present invention, an artificial small interfering peptide (a-siPEP) as a truncated from of the transcription factor for regulating transcription by dimerization was produced. It was also confirmed that, as a-siPEP forms a heterodimer with a transcription factor, DNA binding and transport into a nucleus of the transcription factor are inhibited, so that inactivation of the transcription factor is achieved at protein level. The method for inhibiting transcription factor activity using a-siPEP can replace a gene knock-out method and it allows protein-level inhibition of a transcription factor. Also, it is a transcription regulation method with high precision and high efficiency that can be applied for both monocot and dicot plants.', image=None, label='C12N', model_output=None, messages=None, model_type='gpt4v', mode=1)\n"
     ]
    },
    {
     "name": "stderr",
     "output_type": "stream",
     "text": [
      "21it [01:15,  1.75s/it]"
     ]
    },
    {
     "name": "stdout",
     "output_type": "stream",
     "text": [
      "Output: A01H, Expected: C12N, Current Accuracy: 0.5714285714285714, Token Usage: 215\n",
      "PatentData(text='Provided are: a polymer-supported phosphane compound exhibiting excellent catalytic reaction activity; a complex including the compound and a transition metal; and a catalyst including the complex. This polymer compound includes: units of threefold styrene cross-linked phosphane; and styrene units having substituent groups (R) in position 4 (provided that R represents hydrogen, a C1-6 lower alkyl group, a C1-6 lower alkoxy group, or a polar functional group). In the formula in which the polymer compound includes structure (1), PS represents a polystyrene unit chain including the styrene units having the substituent groups (R). The complex includes the polymer and a transition metal. The catalyst for an organic compound coupling reaction includes the complex.', image=None, label='B01J', model_output=None, messages=None, model_type='gpt4v', mode=1)\n"
     ]
    },
    {
     "name": "stderr",
     "output_type": "stream",
     "text": [
      "22it [01:16,  1.52s/it]"
     ]
    },
    {
     "name": "stdout",
     "output_type": "stream",
     "text": [
      "Output: C08F, Expected: B01J, Current Accuracy: 0.5454545454545454, Token Usage: 201\n",
      "PatentData(text='The inner surface of one side section of a frame (1) has the base-end section of a rotation arm (44) of a rotation-biasing means (4) provided so as to be rotatable. A roller (47) is provided on the tip-end section of the rotation arm (44). The roller (47) is pressed against and contacts the rear surface (2a) of a door (2) as a result of the biasing by the rotation-biasing, means (nut illustrated). The rear surface of the door (2) is equipped with a damper means (5). The damper means (5) has a contact member (52) for pressing against and contacting the roller (47) when the door is in the closed position or in a prescribed intermediate position. The contact member (52) minimizes the speed at which the roller (47) moves forward.', image=None, label='E05F', model_output=None, messages=None, model_type='gpt4v', mode=1)\n"
     ]
    },
    {
     "name": "stderr",
     "output_type": "stream",
     "text": [
      "23it [01:20,  2.26s/it]"
     ]
    },
    {
     "name": "stdout",
     "output_type": "stream",
     "text": [
      "Output: E05C, Expected: E05F, Current Accuracy: 0.5217391304347826, Token Usage: 227\n",
      "PatentData(text='Disclosed herein is a spindle drive for an adjustable element of a motor vehicle, wherein a drive unit and a spindle/spindle nut mechanism arranged downstream of the drive unit in the drivetrain, for generating linear drive movements are provided, wherein the spindle/spindle nut mechanism has a spindle and a spindle nut meshing with the spindle, wherein the spindle drive has two drive portions which run telescopically inside one another during a motorized adjustment, wherein the spindle is assigned to one drive portion and the spindle nut is assigned to the other drive portion wherein the two drive portions are coupled in a torque-transmitting manner to provide an antitwist safeguard.', image=None, label='F16H', model_output=None, messages=None, model_type='gpt4v', mode=1)\n"
     ]
    },
    {
     "name": "stderr",
     "output_type": "stream",
     "text": [
      "24it [01:21,  1.90s/it]"
     ]
    },
    {
     "name": "stdout",
     "output_type": "stream",
     "text": [
      "Output: B60G17/00, Expected: F16H, Current Accuracy: 0.5, Token Usage: 180\n",
      "PatentData(text='In front view of the application nozzle, all of the pressurized air flow K and adhesive flow H are made to run parallel to each other in the vertical direction. Of the pressurized air flows K from the pressurized air hole b in the pressurized air plate, the two that are located on one side of the adhesive hole opening a and from a pair in the front-to-back direction are tilted so as to approach each other. The extension lines thereof are located on the side of the adhesive bead, which results from the adhesive flow discharged from the adhesive hole opening, and have directions that converge. The respective pressurized air flows on the two side of the adhesive bead are made to flow downward while uniting in the direction of convergence. A web in which the adhesive bead is elongated while being swung in the transverse direction is formed and, near the bottom surface of the application nozzle, a non-interference space Q is formed between the adhesive bead and the fore pressurized air flow. The adhesive bead, resulting from the adhesive flow discharged from the adhesive hole opening, and the pressurized air flows do not interfere with each other and walls R of pressurized air flows are formed below the non-interference space Q and on either side of the adhesive bead.', image=None, label='B05B', model_output=None, messages=None, model_type='gpt4v', mode=1)\n"
     ]
    },
    {
     "name": "stderr",
     "output_type": "stream",
     "text": [
      "25it [01:22,  1.60s/it]"
     ]
    },
    {
     "name": "stdout",
     "output_type": "stream",
     "text": [
      "Output: B05B, Expected: B05B, Current Accuracy: 0.52, Token Usage: 306\n",
      "PatentData(text='A fast-response horizontal vibration micro motor that includes a housing, a cover plate, a vibration assembly and coils. The cover plate is installed on the housing; the vibration assembly is suspended in the installation space; the coils are located at positions a certain distance above the vibration assembly; the vibration assembly can perform reciprocating vibration in a direction substantially parallel to the bottom surface of the housing, and also enables the two elastic supporting members located on the two opposite sidewalls to be correspondingly stretched and compressed during vibration; the vibration assembly includes a vibration block, and the vibration block is provided with at least three installation through holes and permanent magnets installed in the installation through holes. The arrangement of the three permanent magnets increases the response speed of the motor, and the arrangement of the two serially-connected coils also increases the response speed of the motor.', image=None, label='H02K', model_output=None, messages=None, model_type='gpt4v', mode=1)\n"
     ]
    },
    {
     "name": "stderr",
     "output_type": "stream",
     "text": [
      "26it [01:23,  1.54s/it]"
     ]
    },
    {
     "name": "stdout",
     "output_type": "stream",
     "text": [
      "Output: H02N 2/00, Expected: H02K, Current Accuracy: 0.5, Token Usage: 216\n",
      "PatentData(text='The invention relates to a process for manufacturing light-emitting diodes comprising the following steps: a) forming light-emitting diodes (5) on a silicon layer (1) of an SOI wafer (1, 2, 3), said layer resting on a carrier (2, 3); b) bonding, on the light-emitting diode side, a silicon wafer forming a cap (7) equipped with a void facing each light-emitting diode; c) thinning the silicon wafer to form an aperture facing each light-emitting diode; d) filling each aperture with a transparent material (21, 23); and e) at least partially removing the carrier of the SOI wafer (3) and producing connecting and heat-sinking metallisations.', image=None, label='H01L', model_output=None, messages=None, model_type='gpt4v', mode=1)\n"
     ]
    },
    {
     "name": "stderr",
     "output_type": "stream",
     "text": [
      "27it [01:24,  1.39s/it]"
     ]
    },
    {
     "name": "stdout",
     "output_type": "stream",
     "text": [
      "Output: H01L, Expected: H01L, Current Accuracy: 0.5185185185185185, Token Usage: 206\n",
      "PatentData(text='Provided is a method for producing a lignin degradation product that includes (1) a degradation step of degrading a raw material containing a plant biomass, in a mixed solvent of water and an aliphatic alcohol having from 4 to 10 carbon atoms, which separates into two phases at 0° C. or higher and 50° C. or lower, under the following conditions, and (2) after the degradation step, a liquid-liquid separation step of separating the lignin degradation product-containing organic phase from the solvent that has separated at the temperature for two-phase separation. The method produces a lignin degradation product at a high yield from lignin or a material containing lignin. Condition A: The concentration of the raw material to be in the mixed solvent is 1% by mass or more and 20% by mass or less. Condition B: The reaction temperature is 100° C. or higher and 350° C. or lower. Condition C: The reaction time is 0.1 hours or more and 10 hours or less.', image=None, label='C08H', model_output=None, messages=None, model_type='gpt4v', mode=1)\n"
     ]
    },
    {
     "name": "stderr",
     "output_type": "stream",
     "text": [
      "28it [01:30,  2.75s/it]"
     ]
    },
    {
     "name": "stdout",
     "output_type": "stream",
     "text": [
      "Output: C08B 1/00, Expected: C08H, Current Accuracy: 0.5, Token Usage: 266\n",
      "PatentData(text='There is provided a solar shading device for window that can set the window shading area minimum, ventilate a space between a rolling screen and a window, and have inexpensive and simple structure. The solar shading device for window includes a rolling screen installed at an upper portion of a window on the outdoor side of a building. An upper end of the rolling screen being fixed to a winding shaft biased in a winding direction by a biasing means. A lower end of the rolling screen is supported by a support shaft. One ends of a pair of arms are coupled to respective ends of the support shaft so as for the pair of arm to be disposed on planes perpendicular to the axis of the support shaft. The other ends of the pair of arms are fixed to respective sides of the window on the outdoor side via hinges capable of holding the arms at a desired rotational angle.', image=None, label='E04F', model_output=None, messages=None, model_type='gpt4v', mode=1)\n"
     ]
    },
    {
     "name": "stderr",
     "output_type": "stream",
     "text": [
      "29it [01:31,  2.12s/it]"
     ]
    },
    {
     "name": "stdout",
     "output_type": "stream",
     "text": [
      "Output: E06B9/24, Expected: E04F, Current Accuracy: 0.4827586206896552, Token Usage: 219\n",
      "PatentData(text='The present invention relates to metal complexes in accordance with formula (1), to use thereof in electronic devices and to electronic devices, particularly organic electroluminescent devices, containing said metal complexes.', image=None, label='H01L', model_output=None, messages=None, model_type='gpt4v', mode=1)\n"
     ]
    },
    {
     "name": "stderr",
     "output_type": "stream",
     "text": [
      "30it [01:36,  3.12s/it]"
     ]
    },
    {
     "name": "stdout",
     "output_type": "stream",
     "text": [
      "Output: C07F, Expected: H01L, Current Accuracy: 0.4666666666666667, Token Usage: 84\n",
      "PatentData(text='A 3D printer spray nozzle includes a feeding pipeline, an extruder located under the feeding pipeline, an external housing and a driving device; wherein the feeding pipeline is embedded in the external housing, the extruder is coaxially fixed under the feeding pipeline, a center of gravity of a cross section area of an inner channel of the feeding pipeline and that of the extruder are located on a same axis which is perpendicular to the cross section area of the inner channel of the feeding pipeline and that of the extruder, the feeding pipeline is driven by the driving device to rotate around the axis relative to the extruder, thereby aiming at different rotation angles, widths of extruding forming areas of the extruder at a same direction are different so as to adjust a cross section area of a sprayed filament.', image=None, label='B29C', model_output=None, messages=None, model_type='gpt4v', mode=1)\n"
     ]
    },
    {
     "name": "stderr",
     "output_type": "stream",
     "text": [
      "31it [01:52,  6.96s/it]"
     ]
    },
    {
     "name": "stdout",
     "output_type": "stream",
     "text": [
      "Output: B29C 64/393, Expected: B29C, Current Accuracy: 0.4838709677419355, Token Usage: 209\n",
      "PatentData(text='There is provided a polymerizable compound-containing liquid crystal composition having strong alignment regulating force of a liquid crystal compound. The polymerizable compound-containing liquid crystal composition includes: a polymerizable compound; and a liquid crystal compound, in which the polymerizable compound includes at least one polymerizable compound represented by General Formula (I), and in which the liquid crystal compound includes at least one component selected from the group consisting of at least one compound represented by General Formula (II) as a second component, at least one compound represented by General Formulae (IIIa), (IIIb), and (IIIc) as a third component, and at least one compound represented by General Formulae (IVa), (IVb), and (IVc) as a fourth component.', image=None, label='C09K', model_output=None, messages=None, model_type='gpt4v', mode=1)\n"
     ]
    },
    {
     "name": "stderr",
     "output_type": "stream",
     "text": [
      "32it [02:18, 12.62s/it]"
     ]
    },
    {
     "name": "stdout",
     "output_type": "stream",
     "text": [
      "Output: C09K19/00, Expected: C09K, Current Accuracy: 0.5, Token Usage: 200\n",
      "PatentData(text='The polymerizable composition and the liquid crystal composition containing the polymerizable compound of the present invention have favorable storage stability as evaluated on the basis of the occurrence of precipitation, separation, or the like of crystals during storage. The present invention relates to a polymerizable compound, a liquid crystal composition which contains the compound, and further a liquid crystal display element which contains an optically anisotropic material which is a cured product of the liquid crystal composition, or a cured product which controls alignment of liquid crystal molecules. That is, the present invention relates to a polymerizable compound, and a liquid crystal composition containing the polymerizable compound which contains the polymerizable compound and a liquid crystal compound. The polymerizable compound is a compound represented by General Formula (I), and is useful for an optically anisotropic material, a retardation layer, an alignment film, or a polarizing layer.', image=None, label='C09K', model_output=None, messages=None, model_type='gpt4v', mode=1)\n"
     ]
    },
    {
     "name": "stderr",
     "output_type": "stream",
     "text": [
      "33it [02:19,  9.06s/it]"
     ]
    },
    {
     "name": "stdout",
     "output_type": "stream",
     "text": [
      "Output: C09K 19/52, Expected: C09K, Current Accuracy: 0.5151515151515151, Token Usage: 226\n",
      "PatentData(text='The present invention relates to a method for preparing a protein cage which comprises: a 1st step of preparing an amphiphilic polymer comprising a 1st hydrophobic polymer and a 1st hydrophilic functional group; a 2nd step of preparing a hydrophilic protein comprising a 2nd functional group binding to the 1st functional group; a 3rd step of forming an amphiphilic polymer-protein hybrid by the binding of the 1st functional group and the 2nd functional group, and forming core-shell structured particles comprising a protein shell and an amphiphilic polymer core by the self-assembly of the amphiphilic polymer in a hydrophilic solvent; and a fourth step of removing some or all of the hydrophobic polymer of the core part from the core-shell structured particles.', image=None, label='A61K', model_output=None, messages=None, model_type='gpt4v', mode=1)\n"
     ]
    },
    {
     "name": "stderr",
     "output_type": "stream",
     "text": [
      "34it [02:49, 15.43s/it]"
     ]
    },
    {
     "name": "stdout",
     "output_type": "stream",
     "text": [
      "Output: C08L 89/00, Expected: A61K, Current Accuracy: 0.5, Token Usage: 222\n",
      "PatentData(text='Disclosed is a lithagogue equipment in vitro, comprising a vibrating bed (10) and a control device (20) located externally, wherein said vibrating bed (10) includes a primary oscillator (111) located above a bed body (102) and connected therewith via an adjustable mechanical arm (108) and a sub oscillator (107) protruding from an upper surface of the bed body (120), wherein said control device (20) is used for controlling the vibration of the primary oscillator (111) and the sub oscillator (107) and the movement of the bed body (102). Said control device (20) and said vibrating bed (10) are separated from each other, and a display (201) is arranged on the control device (20). Accordingly, medical personnel are able to timely adjust the vibrating bed (10), the primary oscillator (111) and the sub vibrator (107) based on the calculus condition displayed via the display (201), greatly improving the operational efficiency.', image=None, label='A61B', model_output=None, messages=None, model_type='gpt4v', mode=1)\n"
     ]
    },
    {
     "name": "stderr",
     "output_type": "stream",
     "text": [
      "35it [03:10, 17.11s/it]"
     ]
    },
    {
     "name": "stdout",
     "output_type": "stream",
     "text": [
      "Output: A61H23/00, Expected: A61B, Current Accuracy: 0.4857142857142857, Token Usage: 246\n",
      "PatentData(text='A plant for manufacturing long-fiber legume hay and grass hay-based feed pellets for zootechnical use includes a loading station loading predetermined amounts of the hays, a processing station processing the hays to reduce fiber length to a predetermined average value, a mixing station mixing the reduced hays with predetermined amounts of binders and nutritional additives to obtain a dough, a forming station forming the dough which has a collection chamber, a forming die communicating with the collection chamber, and an extrusion passage, a pushing element, held within the collection chamber and feeding the dough toward said passage, an extruder downstream of the pushing element and moving in the collection chamber to cyclically push predetermined amounts of dough into the passage and form a stratified bead of dough, and a breaking system for breaking the bead forming stratified feed pellets. A method of manufacturing long-fiber feed pellets for zootechnical use.', image=None, label='A23K', model_output=None, messages=None, model_type='gpt4v', mode=1)\n"
     ]
    },
    {
     "name": "stderr",
     "output_type": "stream",
     "text": [
      "36it [03:38, 20.40s/it]"
     ]
    },
    {
     "name": "stdout",
     "output_type": "stream",
     "text": [
      "Output: A23K 10/00, Expected: A23K, Current Accuracy: 0.5, Token Usage: 228\n",
      "PatentData(text='A privacy masking method is provided. The privacy masking method is configured to accurately position a mask area on a privacy area in a captured image despite any kind of camera movement. Therefore, even if a camera makes any one or more of pan, tilt, and zoom movements, the present invention can accurately match a mask area with a privacy area.', image=None, label='H04N', model_output=None, messages=None, model_type='gpt4v', mode=1)\n"
     ]
    },
    {
     "name": "stderr",
     "output_type": "stream",
     "text": [
      "37it [03:58, 20.29s/it]"
     ]
    },
    {
     "name": "stdout",
     "output_type": "stream",
     "text": [
      "Output: H04N7/18, Expected: H04N, Current Accuracy: 0.5135135135135135, Token Usage: 116\n",
      "PatentData(text='An object of the present invention is to provide a liquid crystal composition which has a positive Δ∈, a liquid crystal phase in a wide temperature range, an good solubility at a low temperature, excellent ODE process compatibility, high specific resistance, and a high voltage holding ratio, and is stable with respect to heat and light, and in order to achieve the object, a liquid crystal composition containing compounds represented by the following Formulas (i) and (ii) is provided. (In the formula, Ri1 represents an alkyl group having 2 to 5 carbon atoms, Rii1 represents an alkenyl group having 2 to 5 carbon atoms, and Rii2 represents an alkyl group having 1 to 5 carbon atoms or an alkoxy group having 1 to 4 carbon atoms.)', image=None, label='C09K', model_output=None, messages=None, model_type='gpt4v', mode=1)\n"
     ]
    },
    {
     "name": "stderr",
     "output_type": "stream",
     "text": [
      "38it [04:06, 16.39s/it]"
     ]
    },
    {
     "name": "stdout",
     "output_type": "stream",
     "text": [
      "Output: C09K 19/06, Expected: C09K, Current Accuracy: 0.5263157894736842, Token Usage: 218\n",
      "PatentData(text='A battery system having a secondary battery and a battery-side control device, and a discharger configured to discharge the secondary battery to output direct-current power and convert power from an alternating-current power supply into direct current to charge the secondary battery; the charger/discharger having a charge/discharge-side control device that controls charge and discharge; and when the charge/discharge-side control device establishes communicable connection with the battery-side control device, and receives specific information for specifying a charge/discharge control program, which is a program for controlling the charge and discharge transmitted from the battery system, the charge/discharge-side control device establishes communicable connection with the external server device, acquires charge/discharge control program specified by the specific information, and performs control according to the charge/discharge control program.', image=None, label='H02J', model_output=None, messages=None, model_type='gpt4v', mode=1)\n"
     ]
    },
    {
     "name": "stderr",
     "output_type": "stream",
     "text": [
      "39it [04:06, 11.67s/it]"
     ]
    },
    {
     "name": "stdout",
     "output_type": "stream",
     "text": [
      "Output: H02J, Expected: H02J, Current Accuracy: 0.5384615384615384, Token Usage: 202\n",
      "PatentData(text='Provided are: a rubber composition (a silica master batch) that contains silica in a highly dispersed state, which is prepared by mixing a suspension with an emulsion of an emulsion-polymerized conjugated diene polymer and then coagulating the resultant mixture, wherein the suspension is prepared by highly dispersing wet silica, which does not undergo secondary coagulation yet, or silica, which is prepared by mechanically dissociating secondary coagulation masses of silica, in water and the emulsion-polymerized conjugated diene polymer contains a functional group that is reactive with silica or has high affinity for silica; and a method for producing the rubber composition. A clam (a small mass of a rubber) which contains silica in a highly dispersed state is hardly dried. Therefore, the clam is dried in an apparatus which is composed of a drying apparatus composed of a dehydrator and a hot-air drier and a heating roll for drying purposes provided to the drying apparatus, whereby a rubber composition in which silica is highly dispersed and which has high reinforcing performance can be produced. As a method for mixing the emulsion of the emulsion-polymerized conjugated diene copolymer with the silica suspension, a mere agitating/mixing procedure can be employed, and a process of mixing the components homogenously while applying a stimulus such as heat or pressure to the mixture of the components using a steam ejector to cause the coagulation of the components can also be employed desirably.', image=None, label='C08K', model_output=None, messages=None, model_type='gpt4v', mode=1)\n"
     ]
    },
    {
     "name": "stderr",
     "output_type": "stream",
     "text": [
      "40it [04:08,  8.86s/it]"
     ]
    },
    {
     "name": "stdout",
     "output_type": "stream",
     "text": [
      "Output: C08L 21/00, Expected: C08K, Current Accuracy: 0.525, Token Usage: 354\n",
      "PatentData(text='The object of the present invention is to provide an electrode member with the hydrogel substrate, capable of producing a high-voltage pulse. Further, the other object of the present invention is to provide an electrode member which is not broken due to a deformation of the hydrogel. The object can be solved by a porous substrate electrode member characterized in that an electrode is bound to a porous body by an adhesion layer of an electrically conducting polymer, and the electrode is at least one selected from a group consisting of a metallic electrode, a stretch electrode, a carbon electrode, and a composite electrode thereof.', image=None, label='H01B', model_output=None, messages=None, model_type='gpt4v', mode=1)\n"
     ]
    },
    {
     "name": "stderr",
     "output_type": "stream",
     "text": [
      "41it [04:13,  7.41s/it]"
     ]
    },
    {
     "name": "stdout",
     "output_type": "stream",
     "text": [
      "Output: H01G9/00, Expected: H01B, Current Accuracy: 0.5121951219512195, Token Usage: 168\n",
      "PatentData(text='Disclosed is a main synchronization sequence design method for global covering multi-beam satellite LTE, comprising the follow steps: extending a standard Zadoff-Chu sequence to a generalized Zadoff-Chu sequence so as to obtain an initial candidate main synchronization sequence set of more candidate sequences; gradually narrowing down the candidate main synchronization sequence set according to a selection standard of a main synchronization sequence to obtain a final candidate main synchronization sequence set; and obtaining a main synchronization sequence set with optimal eclectic performance and complexity from the final candidate main synchronization sequence set. According to the present invention, a main synchronization sequence with optimal eclectic performance and calculation complexity can be designed for a global covering same-frequency networking multi-beam satellite LTE system.', image=None, label='H04W', model_output=None, messages=None, model_type='gpt4v', mode=1)\n"
     ]
    },
    {
     "name": "stderr",
     "output_type": "stream",
     "text": [
      "42it [04:28,  9.81s/it]"
     ]
    },
    {
     "name": "stdout",
     "output_type": "stream",
     "text": [
      "Output: H04B, Expected: H04W, Current Accuracy: 0.5, Token Usage: 187\n",
      "PatentData(text='A new multiparameter device for measuring by optical means, the level of filling of tanks and reservoirs for liquids and liquefied products, index of refraction and image analysis, without moving parts, which is more specifically intended, but without restrictions of application, for the measuring the level of a liquid in a reservoir, besides being able to make possible the distinction and detection of the type of liquid included in this reservoir, by measuring the index of refraction and image analysis of these liquids, performing this task in a simple, practical and efficient manner through a specific configuration utilizing optical and electronic means, without use of moving parts, what allows that the same may be used for numerous applications between them, for the fuel quality control, the fuel identification, the measuring of the index of refraction, flow measurement, color measurement, temperature measurement and pressure measurement, inter alia, and more specifically for application in the automotive and associated industries.', image=None, label='G01F', model_output=None, messages=None, model_type='gpt4v', mode=1)\n"
     ]
    },
    {
     "name": "stderr",
     "output_type": "stream",
     "text": [
      "43it [04:40, 10.37s/it]"
     ]
    },
    {
     "name": "stdout",
     "output_type": "stream",
     "text": [
      "Output: G01F23/00, Expected: G01F, Current Accuracy: 0.5116279069767442, Token Usage: 235\n",
      "PatentData(text='The present invention refers to a stationary swimming pool (1) which comprises a structural system having a modular design, with a tank (3), a stationary swimming device connected to the structural system and to an in-place swimmer in the tank (3), a strain measurement device (6) associated with the stationary swimming device and mounted on the structural system, a training monitoring system which receives and processes the information from the strain measurement device, and an internal display system (8) capable of displaying both information received from the monitoring system and information for entertaining the swimmer. The present invention further refers to a station for practicing stationary swimming, comprising one or more pools as previously defined.', image=None, label='A63B', model_output=None, messages=None, model_type='gpt4v', mode=1)\n"
     ]
    },
    {
     "name": "stderr",
     "output_type": "stream",
     "text": [
      "44it [04:40,  7.48s/it]"
     ]
    },
    {
     "name": "stdout",
     "output_type": "stream",
     "text": [
      "Output: A63B 69/00, Expected: A63B, Current Accuracy: 0.5227272727272727, Token Usage: 183\n",
      "PatentData(text='Provided is a material that, when compared with SAPd, exhibits the similar activity in cross-coupling (CC) reactions, can decrease the amount of catalytic metal that is mixed into the reaction product, and increases the number of times use can be repeated. Provided are a catalyst and a catalyst precursor that use a catalytic metal other than Pd and that exhibit the CC reaction activity similar to when Pd is used. Provided are a catalyst and a catalyst precursor that exhibit the similar CC reaction activity when using Pd or a catalytic metal other than Pd, without using a carrier such as metal and without using piranha solution. A composite wherein catalytic metal nanoparticles are dispersed in a continuous phase comprising a polymer having C2-6 alkylene group units and phenylene group units (an alkylene group unit being bonded to at least the first and fourth position of the phenylene group unit). The particle diameter of the catalytic metal nanoparticles is at most 20 nm. A composite structure including a substrate, and the aforementioned composite provided to the surface of the substrate. A method for manufacturing the composite structure by dehydrocondensating, in the presence of a catalytic metal compound, a benzene compound having at least two alkyl groups (two of the alkyl groups being at the first and fourth position) in order to form the composite on the substrate surface.', image=None, label='C07D', model_output=None, messages=None, model_type='gpt4v', mode=1)\n"
     ]
    },
    {
     "name": "stderr",
     "output_type": "stream",
     "text": [
      "45it [04:41,  5.42s/it]"
     ]
    },
    {
     "name": "stdout",
     "output_type": "stream",
     "text": [
      "Output: B01J, Expected: C07D, Current Accuracy: 0.5111111111111111, Token Usage: 325\n",
      "PatentData(text='A curable epoxy composition comprising an epoxy compound (A), active ester compound (B), and triazine structure-containing phenol resin (C), wherein the epoxy compound (A) includes a polyvalent epoxy compound (A-1) which has an alicyclic condensed polyvalent structure in a ratio of content of 30 wt % or more is provided.', image=None, label='C08L', model_output=None, messages=None, model_type='gpt4v', mode=1)\n"
     ]
    },
    {
     "name": "stderr",
     "output_type": "stream",
     "text": [
      "46it [04:42,  4.01s/it]"
     ]
    },
    {
     "name": "stdout",
     "output_type": "stream",
     "text": [
      "Output: C08G 59/00, Expected: C08L, Current Accuracy: 0.5, Token Usage: 124\n",
      "PatentData(text='The invention relates to a fitting (1) for a glass element (5) having at least one drivable liquid crystal film (6). The fitting (1) has at least one interface (8) for at least one control device (12) for driving the liquid crystals (6, 7).', image=None, label='G02F', model_output=None, messages=None, model_type='gpt4v', mode=1)\n"
     ]
    },
    {
     "name": "stderr",
     "output_type": "stream",
     "text": [
      "47it [04:46,  4.04s/it]"
     ]
    },
    {
     "name": "stdout",
     "output_type": "stream",
     "text": [
      "Output: E05D, Expected: G02F, Current Accuracy: 0.48936170212765956, Token Usage: 106\n",
      "PatentData(text='An inclination detection unit detects an inclination of the terminal device. A screen image rotation unit rotates a screen image when an inclination state of the terminal device detected by the inclination detection unit becomes a predetermined state. A captured image obtaining unit obtains a captured image of an image capturing unit for capturing an image of a user seeing the screen image. A comparison unit compares a captured image of the image capturing unit before the inclination state of the terminal device becomes the predetermined state with a captured image of the image capturing unit when or after the inclination state of the terminal device becomes the predetermined state. A suppression unit suppresses a rotation of the screen image by the screen image rotation unit, based on a result of comparison by the comparison unit.', image=None, label='G09G', model_output=None, messages=None, model_type='gpt4v', mode=1)\n"
     ]
    },
    {
     "name": "stderr",
     "output_type": "stream",
     "text": [
      "48it [04:51,  4.25s/it]"
     ]
    },
    {
     "name": "stdout",
     "output_type": "stream",
     "text": [
      "Output: G06F3/01, Expected: G09G, Current Accuracy: 0.4791666666666667, Token Usage: 191\n",
      "PatentData(text='This system (18) comprises a holding and separating tank (36), an inlet (38) for moving untreated waste water into the holding tank (36), and a bubble generator (32), able to introduce a quantity of bubbles into the waste water of the holding tank (36), in order to form, in a lower region (50) of the holding tank (36), a treated water and, in an upper region (52) of the holding tank (36), a supernatant. The system (18) comprises a lower outlet (40) for recovering a treated water from the holding tank (36) and an upper outlet (42) for discharging a foamy supernatant from the holding tank (36). The system (18) is devoid of means for injecting a compound for flocculating and/or coagulating the waste water, at least upstream from the holding tank (36).', image=None, label='C02F', model_output=None, messages=None, model_type='gpt4v', mode=1)\n"
     ]
    },
    {
     "name": "stderr",
     "output_type": "stream",
     "text": [
      "49it [04:51,  3.20s/it]"
     ]
    },
    {
     "name": "stdout",
     "output_type": "stream",
     "text": [
      "Output: C02F 1/24, Expected: C02F, Current Accuracy: 0.4897959183673469, Token Usage: 231\n",
      "PatentData(text='The present invention addresses the problem of providing an orthodontic retainer with which there are no aesthetic concerns and smooth pronunciation during conversation is possible, and which is able to secure favorable fitting and can be worn for long periods. The retainer is configured so that, by being fitted so as to surround the entire dental arch (T) of the maxilla (A) or the mandible and by the inner surface being fitted, on the front and back surfaces of the entire dental arch (T), with a specified vertical width (H) that encompasses the cervical sections (T1, T2) of said teeth, a retaining force is applied on a portion of the crown (T3) of each tooth from the front and back surfaces.', image=None, label='A61C', model_output=None, messages=None, model_type='gpt4v', mode=1)\n"
     ]
    },
    {
     "name": "stderr",
     "output_type": "stream",
     "text": [
      "50it [05:00,  4.97s/it]"
     ]
    },
    {
     "name": "stdout",
     "output_type": "stream",
     "text": [
      "Output: A61C 7/00, Expected: A61C, Current Accuracy: 0.5, Token Usage: 198\n",
      "PatentData(text='A fast magnetic resonance imaging method and system, the method comprising: applying a periodic radio-frequency pulse train to drive the magnetization vector of an imaging volume into a steady state (102); acquiring a free induction decay (FID) signal and an echo signal alternately in a steady-state free precession sequence (104); conducting an FID signal imaging and a T2-weighted imaging (106). Alternate acquisition of the FID signal and the echo signal in the steady-state free precession sequence effectively increases the signal-to-noise ratio (SNR) of the acquired signals and reduces the sensitivity of the sequence to motions.', image=None, label='G01R', model_output=None, messages=None, model_type='gpt4v', mode=1)\n"
     ]
    },
    {
     "name": "stderr",
     "output_type": "stream",
     "text": [
      "51it [05:03,  4.28s/it]"
     ]
    },
    {
     "name": "stdout",
     "output_type": "stream",
     "text": [
      "Output: G01R, Expected: G01R, Current Accuracy: 0.5098039215686274, Token Usage: 170\n",
      "PatentData(text='Disclosed are methods for receiving device discovery information and sending device discovery information, and UE. The method for receiving the device discovery information includes that: first UE receives device discovery information sent by second UE, wherein the device discovery information contains at least one piece of the following information: UE identification information and attribute information of the UE; and the first UE performs D2D discovery and/or D2D communication under the condition that the device discovery information is consistent with a preset condition. By the disclosure, the technical problem of difficulty in meeting a requirement on D2D communication diversity caused by containing of only an ID in the device discovery information in the related technology is effectively solved, and the technical effect of improving D2D communication effectiveness and flexibility is achieved.', image=None, label='H04W', model_output=None, messages=None, model_type='gpt4v', mode=1)\n"
     ]
    },
    {
     "name": "stderr",
     "output_type": "stream",
     "text": [
      "52it [05:04,  3.27s/it]"
     ]
    },
    {
     "name": "stdout",
     "output_type": "stream",
     "text": [
      "Output: H04W 76/00, Expected: H04W, Current Accuracy: 0.5192307692307693, Token Usage: 199\n",
      "PatentData(text='The reverberation chamber comprises a shielded enclosure (10) made up of a floor (11), side walls (13 to 16), and a ceiling (12), together with an antenna (2) for emitting radiofrequency waves in order to generate radiation inside the enclosure (10) at a lowest usable frequency. The chamber also comprises, inside the enclosure (10), a set (5, 6) of passive and selective elements for absorbing radiofrequencies in a defined frequency band.', image=None, label='G01R', model_output=None, messages=None, model_type='gpt4v', mode=1)\n"
     ]
    },
    {
     "name": "stderr",
     "output_type": "stream",
     "text": [
      "53it [05:05,  2.46s/it]"
     ]
    },
    {
     "name": "stdout",
     "output_type": "stream",
     "text": [
      "Output: H01Q, Expected: G01R, Current Accuracy: 0.5094339622641509, Token Usage: 144\n",
      "PatentData(text='A microscope includes: a sample placement part having a placement surface on which to place a sample and a bottom face opposite to the placement surface; an observation lens; and an optical unit for generating sheet light and use of the microscope. The microscope of an embodiment is arranged such that the sheet light enters the sample placement part from the bottom face and passing through the sample placement part to irradiate the sample, and fluorescence from the sample passes through the sample placement part toward the bottom face to be received by the observation lens. The microscope can, with this arrangement, utilize the advantages of a SPIM, and allows observation of a sample which observation is free from a restriction of the size of a sample.', image=None, label='G02B', model_output=None, messages=None, model_type='gpt4v', mode=1)\n"
     ]
    },
    {
     "name": "stderr",
     "output_type": "stream",
     "text": [
      "54it [05:05,  1.96s/it]"
     ]
    },
    {
     "name": "stdout",
     "output_type": "stream",
     "text": [
      "Output: G02B-21/00, Expected: G02B, Current Accuracy: 0.5185185185185185, Token Usage: 188\n",
      "PatentData(text='There is provided an eddy current flaw detection technique capable of, even when inspecting an object having a narrow portion with a small curvature radius, recognizing detection sensitivity change due to change of attitude of a probe. An eddy current flaw detection apparatus 10 includes: an AC power source 14 which generates an excitation magnetic field in each of excitation coils 12a accommodated in a probe 11 to excite an eddy current in an inspection object 13; a detecting section 15 which detects a detection signal generated by an induction magnetic field induced by the eddy current in each of detection coils 12 accommodated in the probe 11; an output section 16 which outputs flaw detection data based on the detection signals; a storage section 17 which mutually associates and stores the detection signals detected at the same timing from the plurality of coils 12b; and an evaluating section 18 which evaluates an attitude of the probe 11 based on the plurality of detection signals detected at the same timing and associated with each other.', image=None, label='G01N', model_output=None, messages=None, model_type='gpt4v', mode=1)\n"
     ]
    },
    {
     "name": "stderr",
     "output_type": "stream",
     "text": [
      "55it [05:06,  1.70s/it]"
     ]
    },
    {
     "name": "stdout",
     "output_type": "stream",
     "text": [
      "Output: G01N 27/90, Expected: G01N, Current Accuracy: 0.5272727272727272, Token Usage: 258\n",
      "PatentData(text='A near-infrared cut filter of which a transmittance satisfies the conditions (A) and (B), and a solid-state image pickup device including the filter are provided.', image=None, label='G02B', model_output=None, messages=None, model_type='gpt4v', mode=1)\n"
     ]
    },
    {
     "name": "stderr",
     "output_type": "stream",
     "text": [
      "56it [05:10,  2.24s/it]"
     ]
    },
    {
     "name": "stdout",
     "output_type": "stream",
     "text": [
      "Output: G02B 5/20, Expected: G02B, Current Accuracy: 0.5357142857142857, Token Usage: 84\n",
      "PatentData(text='The present invention relates to a method for separation of a polymer from a polymer solution or dispersion, wherein (i) a solution or dispersion of a polymer in an organic solvent is atomized by being brought into contact with water vapour in an atomizer container; (ii) the mixture obtained in the atomizer container is routed into a polymer degasification container and flows through same, wherein the organic solvent present in the polymer particles is driven at least partially out of the polymer particles due to the thermal contact between the polymer particles and the water vapour and transitions into the gas phase (iii) the mixture exiting from the polymer degasification container is routed into a phase separator (1) and the organic solvent present in the gas phase is separated from the polymer particles and the condensed water vapour; and (iv) the polymer particles and the condensed water vapour are routed into a phase separator (2) in order to separate the polymer particles from the condensed water vapour.', image=None, label='C08F', model_output=None, messages=None, model_type='gpt4v', mode=1)\n"
     ]
    },
    {
     "name": "stderr",
     "output_type": "stream",
     "text": [
      "57it [05:14,  2.86s/it]"
     ]
    },
    {
     "name": "stdout",
     "output_type": "stream",
     "text": [
      "Output: B01D, Expected: C08F, Current Accuracy: 0.5263157894736842, Token Usage: 241\n",
      "PatentData(text='The present invention relates to an extrusion-type connecting rod which is installed between a piston and a crank and can convert the reciprocating motion of the piston into the rotary motion of a crank shaft, an extrusion apparatus for a connecting rod, and a manufacturing method for the extrusion-type connecting rod. The extrusion-type connecting rod may comprise: a first big end having a portion of a crank shaft hole formed on one side and having a seam-line divided surface, which comprises a seam line formed at the time of extrusion, formed on the other side; a second big end, being extrusion-molded simultaneously with the first big end, having the other portion of the crank shaft hole formed on one side, and having a seam-line divided surface, which comprises a seam line formed at the time of extrusion, formed so as to contact the seam-line divided surface of the first big end; a connection part which is extrusion-molded integrally with the second big end; and a small end which is extrusion-molded integrally with the connection part.', image=None, label='F16C', model_output=None, messages=None, model_type='gpt4v', mode=1)\n"
     ]
    },
    {
     "name": "stderr",
     "output_type": "stream",
     "text": [
      "58it [05:16,  2.67s/it]"
     ]
    },
    {
     "name": "stdout",
     "output_type": "stream",
     "text": [
      "Output: F16H 1/22, Expected: F16C, Current Accuracy: 0.5172413793103449, Token Usage: 267\n",
      "PatentData(text='Provided are an adhesive composition for a touch panel, including: a hydrophilic functional group-containing monomer, wherein a dielectric constant at a frequency of 100 kHz to 2 MHz is 3.5 or less, and an adhesive film having an adhesive layer including a cured product of the adhesive composition for a touch panel. In addition, provided is a touch panel including: a conductive plastic film having a conductive layer formed on one surface; and an adhesive layer attached onto the conductive layer and including a cured product of the adhesive composition for a touch panel.', image=None, label='C09J', model_output=None, messages=None, model_type='gpt4v', mode=1)\n"
     ]
    },
    {
     "name": "stderr",
     "output_type": "stream",
     "text": [
      "59it [05:22,  3.54s/it]"
     ]
    },
    {
     "name": "stdout",
     "output_type": "stream",
     "text": [
      "Output: C09J 7/02, Expected: C09J, Current Accuracy: 0.5254237288135594, Token Usage: 166\n",
      "PatentData(text='The invention regards to a device for comminuting ore and/or slag, which comprises an ore feed unit for feeding ore to be comminuted to a first comminuting means, the first comminuting means being composed of at least two comminuting elements that can be moved relative to each other, which elements form at least one comminuting space for the ore to be comminuted with each other such that, by a relative movement in the form of a rotation around the rotational axis of at least one of the two comminuting elements, the ore to be comminuted is pulverised in that one or more accelerating elements, in particular protrusions, are provided on at least one of the comminuting elements, said accelerating elements being arranged in particular on the end face of one of the two comminuting elements and accelerating and comminuting the ore to be comminuted by the rotation of one of the two comminuting elements, and wherein at least one of the two comminuting elements comprises a functional connection with a spring means, wherein the spring means is formed in such a way, that it mounts the comminuting element being in functional connection with variably in the direction of the other comminuting element.', image=None, label='B02C', model_output=None, messages=None, model_type='gpt4v', mode=1)\n"
     ]
    },
    {
     "name": "stderr",
     "output_type": "stream",
     "text": [
      "60it [05:24,  3.16s/it]"
     ]
    },
    {
     "name": "stdout",
     "output_type": "stream",
     "text": [
      "Output: B02C, Expected: B02C, Current Accuracy: 0.5333333333333333, Token Usage: 297\n",
      "PatentData(text='The invention regards to a device for comminuting ore and/or slag, which comprises an ore feed unit for feeding ore to be comminuted to a first comminuting means. The first comminuting means being composed of at least two comminuting elements that can be moved relative to each other, which elements form at least one comminuting space for the ore to be comminuted with each other such that, by a relative movement in the form of a rotation around the rotational axis of at least one of the two comminuting elements. The ore to be comminuted is pulverised in that one or more accelerating elements, in particular protrusions, are provided on at least one of the comminuting elements. The accelerating elements being arranged in particular on the end face of one of the two comminuting elements and accelerating and comminuting the ore to be comminuted by the rotation of one of the two comminuting elements. Between the two comminuting elements and/or in at least one of the two comminuting elements, an intermediate space is provided through which during the rotation the pulverised ore can be conveyed away outwards from the centre of the rotation and from the two comminuting elements. An outlet unit for outletting ore comminuted by the first comminuting means is provided which is connected to the intermediate space. The outlet unit is connected with a separating means, by means of which the comminuted ore is separated into two portions. A first portion of the comminuted ore comprises a particle size, which is essentially larger as a predefined particle size of a second portion of comminuted ore. The first portion of the comminuted ore is guided to the first comminuting means or to a second comminuting means and the second portion of the comminuted ore is guided to a flotation means.', image=None, label='B02C', model_output=None, messages=None, model_type='gpt4v', mode=1)\n"
     ]
    },
    {
     "name": "stderr",
     "output_type": "stream",
     "text": [
      "61it [05:25,  2.43s/it]"
     ]
    },
    {
     "name": "stdout",
     "output_type": "stream",
     "text": [
      "Output: B02C 23/00, Expected: B02C, Current Accuracy: 0.5409836065573771, Token Usage: 427\n",
      "PatentData(text='The purpose of the invention is to ensure proper action of a latch member. A brake cylinder device (2) having a parking spring brake mechanism (25), provided with a clutch mechanism (27) configured so as to transmit or block urging force of a piston (35) to or from a brake force transmitting unit (14); a latch member (49) for restricting displacement of the brake force transmitting unit (14) relative to the piston (35) by engaging with the clutch mechanism (27), and allowing displacement of the brake force transmitting unit (14) relative to the piston (35) by disengaging from the clutch mechanism (27); a latch lock member (51) for engaging at an inclined part with a protruding part of the latch member (49); and a rotation-preventing part (5) for preventing the latch lock member (51) from rotating.', image=None, label='B60T', model_output=None, messages=None, model_type='gpt4v', mode=1)\n"
     ]
    },
    {
     "name": "stderr",
     "output_type": "stream",
     "text": [
      "62it [05:33,  3.97s/it]"
     ]
    },
    {
     "name": "stdout",
     "output_type": "stream",
     "text": [
      "Output: F16D 65/14, Expected: B60T, Current Accuracy: 0.532258064516129, Token Usage: 224\n",
      "PatentData(text='A closure is shown and described, preferably for an orthosis, which has a belt assembly, having a first closure part (1) and a second closure part (21), which can be releasably connected to one another, wherein the first and the second closure parts (1, 21) have connecting means for belts of the belt assembly, wherein the first closure part (1) has a pin (3), wherein the second closure part (21) has a connection end (23) and a coupling end (25), and between the connection end (23) and the coupling end (25) a guide track (37) extending in a closure plane is provided, which extends from an entrance opening (41) to a guide track end (43), wherein the pin (3) has a first section (7) and a second section (9), wherein the dimensions of the first section (7) perpendicular to the direction of extension of the pin (3) correspond to the dimensions of the guide track (37) in the closure plane at the guide track end (43), and wherein the dimensions of the second section (9) perpendicular to the direction of extension of the pin (3) are greater than the dimensions of the guide track (37) at the guide track end (43), so that the second section (9) restricts a movement of the pin (3) relative to the second closure part (21) perpendicular to the closure plane.', image=None, label='A44B', model_output=None, messages=None, model_type='gpt4v', mode=1)\n"
     ]
    },
    {
     "name": "stderr",
     "output_type": "stream",
     "text": [
      "63it [05:39,  4.75s/it]"
     ]
    },
    {
     "name": "stdout",
     "output_type": "stream",
     "text": [
      "Output: A44B 11/00, Expected: A44B, Current Accuracy: 0.5396825396825397, Token Usage: 342\n",
      "PatentData(text='Provided is a novel use of a plasminogen activator inhibitor-1 inhibitor (PAI-1 inhibitor) that is used as an active ingredient of an agent for controlling a tumor stem cell, an agent for enhancing the antitumor effect of an antitumor agent, an agent for tumor chemotherapy, a stem-cell protecting drug, or a hematopoietic disorder improving agent.', image=None, label='A61K', model_output=None, messages=None, model_type='gpt4v', mode=1)\n"
     ]
    },
    {
     "name": "stderr",
     "output_type": "stream",
     "text": [
      "64it [05:43,  4.58s/it]"
     ]
    },
    {
     "name": "stdout",
     "output_type": "stream",
     "text": [
      "Output: A61P, Expected: A61K, Current Accuracy: 0.53125, Token Usage: 125\n",
      "PatentData(text='[Object] Provided are a press-molded product in which the plank pieces can be appropriately matched with each other and the weight of the product is not increased even when the plank pieces can be appropriately matched with each other, and a method of manufacturing the same. [Solving Means] The present invention is a press-molded product (100) formed by bending a blank (B) to divide the blank into a first plank piece (10) and a second plank piece (20) with a bending portion interposed therebetween and making the first plank piece and the second plank piece come into contact with each other through the bending. The first plank piece and the second plank piece include punching portions (11, 21) formed by punching the blank, and a first rising portion (12) and a second rising portion (22) formed by raising the rims of the punching portions. There is provided a positioning portion (40) that positions the first plank piece and the second plank piece by engaging the first rising portion of the first plank piece with the second rising portion of the second plank piece.', image=None, label='B21D', model_output=None, messages=None, model_type='gpt4v', mode=1)\n"
     ]
    },
    {
     "name": "stderr",
     "output_type": "stream",
     "text": [
      "65it [05:45,  3.64s/it]"
     ]
    },
    {
     "name": "stdout",
     "output_type": "stream",
     "text": [
      "Output: B21D, Expected: B21D, Current Accuracy: 0.5384615384615384, Token Usage: 265\n",
      "PatentData(text='A process for producing an electrode-gel electrolyte assembly based on porous carbonaceous material comprising radical-trapping sites comprises: a step of forming a bond between the radical-trapping sites of the carbonaceous material and functionalizing molecules, a step of preparing a solution comprising at least one monofunctional monomer and at least one polyfunctional monomer, an ionically conductive electrolyte and a radical initiator, a step of impregnating the solution of the monomers into the pores of the carbonaceous material, and a step of in situ radical polymerization of the monomers.', image=None, label='H01G', model_output=None, messages=None, model_type='gpt4v', mode=1)\n"
     ]
    },
    {
     "name": "stderr",
     "output_type": "stream",
     "text": [
      "66it [05:47,  3.23s/it]"
     ]
    },
    {
     "name": "stdout",
     "output_type": "stream",
     "text": [
      "Output: H01M 4/96, Expected: H01G, Current Accuracy: 0.5303030303030303, Token Usage: 167\n",
      "PatentData(text='A device for recognizing the inscription on the wall of a tire, including a driving surface plane, at least one directional light source to illuminate the tire; at least one camera to record multiple images of a wall of the tire rolling on the driving surface plane; and an evaluation device to synthesize an image of the wall of the tire from the multiple recorded images and to evaluate the synthesized image with the aid of a text recognition method.', image=None, label='H04N', model_output=None, messages=None, model_type='gpt4v', mode=1)\n"
     ]
    },
    {
     "name": "stderr",
     "output_type": "stream",
     "text": [
      "67it [05:53,  3.92s/it]"
     ]
    },
    {
     "name": "stdout",
     "output_type": "stream",
     "text": [
      "Output: B60C 25/00, Expected: H04N, Current Accuracy: 0.5223880597014925, Token Usage: 135\n",
      "PatentData(text='A folding house having a housing block and a base block. In one example, the folding house provides that the housing block has a housing block floor, a housing block front wall and two housing block side walls rigidly connected to the housing block front wall and the housing block floor, and the base block has a base block back wall, a base block floor and two base block side walls rigidly connected to the base block back wall and the base block floor, wherein the housing block and the base block can be brought into a housing position in which the housing block supplements the base block, and into a transport position in which the base block is arranged in the housing block.', image=None, label='E04B', model_output=None, messages=None, model_type='gpt4v', mode=1)\n"
     ]
    },
    {
     "name": "stderr",
     "output_type": "stream",
     "text": [
      "68it [05:53,  2.95s/it]"
     ]
    },
    {
     "name": "stdout",
     "output_type": "stream",
     "text": [
      "Output: E04B 1/344, Expected: E04B, Current Accuracy: 0.5294117647058824, Token Usage: 183\n",
      "PatentData(text='System for managing a collection of objects, for example in a store, employing identification tags (RFID) assigned to object (O) locations and individual labels (ID-O) associated with the objects. The objects are identified using a portable label scanner (RFIDL) operating in either a local mode (M1) or in a single mode (M2), with said scanner being connected to a control unit (CPU) that controls the operation of the scanner. The local mode (M1) consists of reading the label (ID-Pj) of the display location (Pj) of a batch of objects (Oi) and of scanning the label of the objects located in this location for comparison and verification. The single mode (M2) is a close-up scan of the label of an object, taken individually.', image=None, label='G06Q', model_output=None, messages=None, model_type='gpt4v', mode=1)\n"
     ]
    },
    {
     "name": "stderr",
     "output_type": "stream",
     "text": [
      "69it [05:55,  2.45s/it]"
     ]
    },
    {
     "name": "stdout",
     "output_type": "stream",
     "text": [
      "Output: G06K, Expected: G06Q, Current Accuracy: 0.5217391304347826, Token Usage: 209\n",
      "PatentData(text='Provided herein is a method for forming a transparent electrode film for display and the transparent electrode film for display, the method comprising forming an electrode pattern by printing a fine electrode pattern on a release film using a conductive ink composition; forming an insulating layer by applying an insulating resin on the release film on which the electrode pattern has been formed; forming a substrate layer by laminating a substrate on the insulating layer; and removing the release film.', image=None, label='H05K', model_output=None, messages=None, model_type='gpt4v', mode=1)\n"
     ]
    },
    {
     "name": "stderr",
     "output_type": "stream",
     "text": [
      "70it [05:56,  2.04s/it]"
     ]
    },
    {
     "name": "stdout",
     "output_type": "stream",
     "text": [
      "Output: H01L 21/00, Expected: H05K, Current Accuracy: 0.5142857142857142, Token Usage: 140\n",
      "PatentData(text='Knitting spirality stabilizer constituted of the main frame and the internal mechanism (removable capsule). The main body of the machine is constituted of the frame (1) in which is placed a circle pattern constituted of two rings, one constant (2) and one removable (3). Circumferentially and symmetrically of the movable ring (3) has been placed a layout that regulates the operation diameter according to the fabric. It is constituted of independent rests (4), which can be height regulated (5) and can be stabilized in the desirable location by using pins (6). Lengthwise of the vertical surface of rests, magnets have been placed (7), which have been covered with Teflon. There are turn wheels on the rests (10) with coating made from soft material so that is performed smooth fabric rolling without wears. Inside the frame it is found the internal mechanism (9) that is constituted of foldable frame (11) and pins (6) for the initial placement. On the foldable frame edges (11) rests have been placed (12) that correspond to those on the external movable ring, that respectively have their own turn wheels (10) with coating made from soft material and magnets (8) with opposite polarity to create magnetic field and flexible metal stripes (13) that are used as drivers during the fabric passage.', image=None, label='D06C', model_output=None, messages=None, model_type='gpt4v', mode=1)\n"
     ]
    },
    {
     "name": "stderr",
     "output_type": "stream",
     "text": [
      "71it [06:04,  4.06s/it]"
     ]
    },
    {
     "name": "stdout",
     "output_type": "stream",
     "text": [
      "Output: D04B 15/68, Expected: D06C, Current Accuracy: 0.5070422535211268, Token Usage: 320\n",
      "PatentData(text='A high-quality polyacetal copolymer produced by a simple process in an economical manner. The process includes supplying a raw material including trioxane and the like to a reaction device; setting the polymerization environmental temperature to no more than 100° C. until the reaction device conversion rate becomes 0.5, and then carrying out further polymerization; vaporizing and separating unreacted monomers from the reaction mixture at an environmental temperature of at least 115° C. and less than 140° C.; supplying the separated monomers to the raw material supply; and recovering the polyacetal copolymer from the reaction mixture.', image=None, label='C08G', model_output=None, messages=None, model_type='gpt4v', mode=1)\n"
     ]
    },
    {
     "name": "stderr",
     "output_type": "stream",
     "text": [
      "72it [06:05,  3.05s/it]"
     ]
    },
    {
     "name": "stdout",
     "output_type": "stream",
     "text": [
      "Output: C08G 2/00, Expected: C08G, Current Accuracy: 0.5138888888888888, Token Usage: 180\n",
      "PatentData(text='The present invention is to provide a color material dispersion liquid which is able to form a high-luminance coating film having excellent heat resistance, with adjusting the color tone of the coating film to a desired color tone. Disclosed is a color material dispersion liquid containing: (A) a color material, (B) a dispersant and (C) a solvent, wherein the color material (A) contains a color material (A-1) in which at least a cation represented by the following general formula (I) and a monovalent anion represented by the following general formula (II) form a salt: (symbols in the general formulae (I) and (II) are as described in the Description.)', image=None, label='G02B', model_output=None, messages=None, model_type='gpt4v', mode=1)\n"
     ]
    },
    {
     "name": "stderr",
     "output_type": "stream",
     "text": [
      "73it [06:08,  3.03s/it]"
     ]
    },
    {
     "name": "stdout",
     "output_type": "stream",
     "text": [
      "Output: C09B, Expected: G02B, Current Accuracy: 0.5068493150684932, Token Usage: 191\n",
      "PatentData(text='The object of the present invention is to provide a method for screening peptide(s) highly specific to a target molecule. The object can be solved by a peptide-presenting protein wherein a peptide is presented in a presentation region consisting of the 131st to 139th amino acids in the amino acid sequence of the SEQ ID NO: 54, wherein the peptide consisting of 4 to 15 amino acids is inserted in the 131st to 139th amino acids sequence, or substituted for any of 1 to 9 amino acid(s) sequence in the 131st to 139th amino acids sequence; and a total length of an amino acid sequence corresponding to the 131st to 139th amino acids sequence is 15 or less.', image=None, label='C12N', model_output=None, messages=None, model_type='gpt4v', mode=1)\n"
     ]
    },
    {
     "name": "stderr",
     "output_type": "stream",
     "text": [
      "74it [06:14,  3.91s/it]"
     ]
    },
    {
     "name": "stdout",
     "output_type": "stream",
     "text": [
      "Output: C07K, Expected: C12N, Current Accuracy: 0.5, Token Usage: 197\n",
      "PatentData(text='The present invention relates to a polypropylene composition comprising a multimodal propylene random copolymer (A) with at least one comonomer selected from alpha-olefins with 2 or 4 to 8 carbon atoms and a nucleating agent (B), wherein the polypropylene composition has a Charpy Notched Impact Strength at 23° C. of at least 30 kJ/m2, determined according to ISO 179/1eA:2000 using notched injection moulded specimens, a process for producing said polypropylene composition, an article comprising said polypropylene composition and the use of said polypropylene composition for the production of an article.', image=None, label='C08L', model_output=None, messages=None, model_type='gpt4v', mode=1)\n"
     ]
    },
    {
     "name": "stderr",
     "output_type": "stream",
     "text": [
      "75it [06:15,  2.96s/it]"
     ]
    },
    {
     "name": "stdout",
     "output_type": "stream",
     "text": [
      "Output: C08L 23/12, Expected: C08L, Current Accuracy: 0.5066666666666667, Token Usage: 190\n",
      "PatentData(text='The invention relates to a process for producing an aqueous gel comprising hyaluronic acid, vitamin C, and a stabilizing agent selected from the metabisulfites. According to the invention, such a process comprises the steps of a) preparing a mixture comprising crosslinked or non-crosslinked hyaluronic acid and/or a salt thereof with a molar mass of between 1000 Da and 10 MDa, from 0.1 to 20.0% by weight of vitamin C in its acid form, or its equivalent in ascorbate derived from a vitamin C salt, from 0.01 to 1.00% by weight of a stabilizing agent selected from the metabisulfites, and an aqueous solution added so that the hyaluronic acid content is between 0.01 and 100 mg/ml, so as to form a hydrogel, and b) degassing the mixture before the hydrogel being formed is completely swollen.', image=None, label='A61K', model_output=None, messages=None, model_type='gpt4v', mode=1)\n"
     ]
    },
    {
     "name": "stderr",
     "output_type": "stream",
     "text": [
      "76it [06:16,  2.29s/it]"
     ]
    },
    {
     "name": "stdout",
     "output_type": "stream",
     "text": [
      "Output: A61K 8/65, Expected: A61K, Current Accuracy: 0.5131578947368421, Token Usage: 248\n",
      "PatentData(text='The component (100) according to the invention has a first wood element (110) with at least a first main fiber direction (114) and a second wood element (120) with at least a second main fiber direction (124). At the end, and spaced apart, the first wood element (110) is adhesively bonded, on a first side cutting through the first main fiber direction (114), to a first side (121) of the second wood element (120) cutting through the second main fiber direction (124).', image=None, label='B27M', model_output=None, messages=None, model_type='gpt4v', mode=1)\n"
     ]
    },
    {
     "name": "stderr",
     "output_type": "stream",
     "text": [
      "77it [06:16,  1.85s/it]"
     ]
    },
    {
     "name": "stdout",
     "output_type": "stream",
     "text": [
      "Output: B27M, Expected: B27M, Current Accuracy: 0.5194805194805194, Token Usage: 152\n",
      "PatentData(text='The present invention relates to novel formulations of soluble Fc receptors and especially to formulations containing high concentrations of soluble FcγRIIB receptor. The invention further relates to the use of such formulations as pharmaceutical compounds for the treatment of autoimmune diseases, infections and other conditions where the immune system is involved.', image=None, label='A61K', model_output=None, messages=None, model_type='gpt4v', mode=1)\n"
     ]
    },
    {
     "name": "stderr",
     "output_type": "stream",
     "text": [
      "78it [06:18,  1.84s/it]"
     ]
    },
    {
     "name": "stdout",
     "output_type": "stream",
     "text": [
      "Output: A61K, Expected: A61K, Current Accuracy: 0.5256410256410257, Token Usage: 104\n",
      "PatentData(text='The present disclosure discloses a non-invasive wireless glucose level monitoring device. The device is fitted into a contact lens and can analyze glucose levels in tear fluid. The results of the analysis can be continuously transmitted to a nearby receiver and uploaded to a computer, mobile device or server.', image=None, label='G01N', model_output=None, messages=None, model_type='gpt4v', mode=1)\n"
     ]
    },
    {
     "name": "stderr",
     "output_type": "stream",
     "text": [
      "79it [06:24,  3.04s/it]"
     ]
    },
    {
     "name": "stdout",
     "output_type": "stream",
     "text": [
      "Output: A61B5/00, Expected: G01N, Current Accuracy: 0.5189873417721519, Token Usage: 104\n",
      "PatentData(text='A vacuum condenser adapted to reduce pressure in an enclosure containing a secondary liquid and thereby cause the accelerated production of vapor from the secondary liquid by the passage of a primary liquid through the vacuum condenser and whereby the vapor produced is absorbed by the primary liquid within the vacuum condenser by being entrained and condensed within the primary liquid wherein the vacuum condenser is configured to cause the operating temperature of the secondary liquid within the enclosure to maintain a stable minimum temperature for a predetermined substantial rate of production of vapor.', image=None, label='B01D', model_output=None, messages=None, model_type='gpt4v', mode=1)\n"
     ]
    },
    {
     "name": "stderr",
     "output_type": "stream",
     "text": [
      "80it [06:25,  2.33s/it]"
     ]
    },
    {
     "name": "stdout",
     "output_type": "stream",
     "text": [
      "Output: F25B 41/00, Expected: B01D, Current Accuracy: 0.5125, Token Usage: 149\n",
      "PatentData(text='A zinc production method includes a reaction step such as a leaching step (101) of bringing electric arc furnace dust (1) containing zinc oxide or the like into contact with a chlorine gas (8) to obtain a zinc oxide component in the electric arc furnace dust (1) or the like as crude zinc chloride (3), a purification step (102) of heating the crude zinc chloride (3) obtained at the reaction step to produce zinc chloride vapor, and cooling and condensing the zinc chloride vapor, thereby obtaining purified zinc chloride (6), and an electrolysis step (103) of electrolyzing the purified zinc chloride (6) obtained at the purification step (102) in a molten state to obtain a zinc melt (9) and the chlorine gas (8).', image=None, label='C22B', model_output=None, messages=None, model_type='gpt4v', mode=1)\n"
     ]
    },
    {
     "name": "stderr",
     "output_type": "stream",
     "text": [
      "81it [06:29,  3.01s/it]"
     ]
    },
    {
     "name": "stdout",
     "output_type": "stream",
     "text": [
      "Output: C22B 19/00, Expected: C22B, Current Accuracy: 0.5185185185185185, Token Usage: 205\n",
      "PatentData(text='The invention relates to a transport carriage for cargo, particularly balls compressed from agricultural crops such as straw or silage, having a loading platform, which is designed to reach under the cargo in the loading state of the transport carriage, and having a strapping system which enables the cargo so be secured on the loading platform. The strapping system comprises at least one, preferably a plurality of tensioning means, arranged spaced apart from each other, which can be guided around the cargo loaded on the loading platform, at least in sections, by means of a common conveying device.', image=None, label='B60P', model_output=None, messages=None, model_type='gpt4v', mode=1)\n"
     ]
    },
    {
     "name": "stderr",
     "output_type": "stream",
     "text": [
      "82it [06:30,  2.36s/it]"
     ]
    },
    {
     "name": "stdout",
     "output_type": "stream",
     "text": [
      "Output: B62D 63/06, Expected: B60P, Current Accuracy: 0.5121951219512195, Token Usage: 162\n",
      "PatentData(text='The present disclosure provides an information transmission method and an information transmission device. The information transmission method includes a step of transmitting, by a network-side device, at least one of information about a power back-off value, information about a resource allocation mode and DRX configuration information to a UE in accordance with information about a type or a capability level of a PA reported by the UE.', image=None, label='H04W', model_output=None, messages=None, model_type='gpt4v', mode=1)\n"
     ]
    },
    {
     "name": "stderr",
     "output_type": "stream",
     "text": [
      "83it [06:31,  1.84s/it]"
     ]
    },
    {
     "name": "stdout",
     "output_type": "stream",
     "text": [
      "Output: H04W, Expected: H04W, Current Accuracy: 0.5180722891566265, Token Usage: 120\n",
      "PatentData(text='The present invention relates to a diketopyrrolopyrrole polymer, which is an organic semiconductor compound for an organic electronic device, and a use thereof. The diketopyrrolopyrrole polymer according to the present invention is a novel organic semiconductor compound having high π-electron stacking by introducing an electron donor compound, and an organic electronic device employing the same has excellent charge mobility and on/off ratio.', image=None, label='H01L', model_output=None, messages=None, model_type='gpt4v', mode=1)\n"
     ]
    },
    {
     "name": "stderr",
     "output_type": "stream",
     "text": [
      "84it [06:45,  5.54s/it]"
     ]
    },
    {
     "name": "stdout",
     "output_type": "stream",
     "text": [
      "Output: C08G, Expected: H01L, Current Accuracy: 0.5119047619047619, Token Usage: 131\n",
      "PatentData(text='An object of the present invention is to provide a curable epoxy resin composition, which is cured to provide a cured product having a high glass-transition temperature and particularly having excellent balance between heat resistance and transparency. The present invention relates to a curable epoxy resin composition comprising an alicyclic epoxy compound (A) represented by the following formula (1) and a curing agent (B), or a curable epoxy resin composition comprising an alicyclic epoxy compound (A) represented by the following formula (1) and a curing catalyst (C). wherein R1 to R22, which may be the same or different, each represent a hydrogen atom, a methyl group or an ethyl group; and m and n, which may be the same or different, each represent an integer of 1 to 4.', image=None, label='C08G', model_output=None, messages=None, model_type='gpt4v', mode=1)\n"
     ]
    },
    {
     "name": "stderr",
     "output_type": "stream",
     "text": [
      "85it [06:46,  4.08s/it]"
     ]
    },
    {
     "name": "stdout",
     "output_type": "stream",
     "text": [
      "Output: C08G, Expected: C08G, Current Accuracy: 0.5176470588235295, Token Usage: 208\n",
      "PatentData(text='The invention relates to fastening elements for connecting transmission means such as tie rods, Bowden cables or the like to lever elements, in particular for motor vehicle locks, and to connecting arrangements equipped with such fastening elements. In order to allow reliable mounting and a structurally simple manufacture of the fastening elements, the fastening element is provided with a bayonet contour in such a manner that the fastening element, when mounted, is hinged to the lever element so as to be swiveled about a swivel axis. Owing to the swivelability and secure fastening to the lever element, the fastening element is particularly suitable for use in an actuation-force transmission chain between a motor vehicle lock and an actuating element for actuating said motor vehicle lock.', image=None, label='F16C', model_output=None, messages=None, model_type='gpt4v', mode=1)\n"
     ]
    },
    {
     "name": "stderr",
     "output_type": "stream",
     "text": [
      "86it [06:48,  3.50s/it]"
     ]
    },
    {
     "name": "stdout",
     "output_type": "stream",
     "text": [
      "Output: F16B, Expected: F16C, Current Accuracy: 0.5116279069767442, Token Usage: 201\n",
      "PatentData(text='New designed ankyrin repeat proteins with binding specificity for HGF are described, as well as nucleic acids encoding such HGF binding proteins, pharmaceutical compositions comprising such proteins and the use of such proteins in the treatment of diseases.', image=None, label='C07K', model_output=None, messages=None, model_type='gpt4v', mode=1)\n"
     ]
    },
    {
     "name": "stderr",
     "output_type": "stream",
     "text": [
      "87it [06:51,  3.36s/it]"
     ]
    },
    {
     "name": "stdout",
     "output_type": "stream",
     "text": [
      "Output: C07K, Expected: C07K, Current Accuracy: 0.5172413793103449, Token Usage: 91\n",
      "PatentData(text=\"A method for providing a assistance for maintaining or improving an individual's wellness, comprising the steps of measuring a presence and/or concentration of one or more biomarkers in a sample from the individual; predicting a wellness need for maintaining or improving the individual's wellness based on the measured presence and/or concentration of the one or more biomarkers, wherein the one or more biomarkers are indicators of the wellness need; and altering the living environment of the individual, providing a wellness product or service to the individual or providing information, guidance or advice to the individual for addressing the wellness need of the individual. A system providing assistance for maintaining or improving an individual's wellness is also provided.\", image=None, label='G06F', model_output=None, messages=None, model_type='gpt4v', mode=1)\n"
     ]
    },
    {
     "name": "stderr",
     "output_type": "stream",
     "text": [
      "88it [06:51,  2.54s/it]"
     ]
    },
    {
     "name": "stdout",
     "output_type": "stream",
     "text": [
      "Output: A61B, Expected: G06F, Current Accuracy: 0.5113636363636364, Token Usage: 178\n",
      "PatentData(text='A wafer holding apparatus for holding a wafer including a wafer holder on which the wafer is placed; and a lift pin that is configured to be lifted up and down with respect to the wafer holder in a direction along a normal line of a placement surface of the wafer, the lift pin includes a tip part, the tip part includes: a bottom part that forms a suction region for sucking a rear surface of the wafer; and a convex part that supports the rear surface of the wafer in the suction region. When a substrate is placed on a target position, it is possible to prevent a local deterioration of flatness of the substrate even if the substrate is large.', image=None, label='H01L', model_output=None, messages=None, model_type='gpt4v', mode=1)\n"
     ]
    },
    {
     "name": "stderr",
     "output_type": "stream",
     "text": [
      "89it [07:05,  5.71s/it]"
     ]
    },
    {
     "name": "stdout",
     "output_type": "stream",
     "text": [
      "Output: H01L, Expected: H01L, Current Accuracy: 0.5168539325842697, Token Usage: 184\n",
      "PatentData(text='An X-ray source is provided, the X-ray source including an outer housing that may be evacuated, including at least one radiation exit window, an electron source for emitting an electron beam, and an anode for producing X-rays. When the X-ray source is in operation, the anode is present in a vapor phase, wherein the vaporous anode may be produced by evaporating a stock of anode material present in a condensed phase by exposure to the electron beam. A method for producing X-rays is also provided, in which inside of an outer housing of an X-ray, which may be evacuated, a vaporous anode is continuously formed by bombarding the anode material that is present in a condensed phase with an electron beam. The vaporous anode emits X-rays by interaction with the electron beam.', image=None, label='H05G', model_output=None, messages=None, model_type='gpt4v', mode=1)\n"
     ]
    },
    {
     "name": "stderr",
     "output_type": "stream",
     "text": [
      "90it [07:15,  7.26s/it]"
     ]
    },
    {
     "name": "stdout",
     "output_type": "stream",
     "text": [
      "Output: H05G, Expected: H05G, Current Accuracy: 0.5222222222222223, Token Usage: 209\n",
      "PatentData(text='The invention relates to a device for water purification, especially in flowing or stagnant waterbodies. In this connection, the present embodiments propose that the device has a container in which xylitol fibers are accommodated and/or that the xylitol fibers are surrounded by a structure through which it is firstly possible for water to flow and which secondly retains the xylitol fibers within the structure.', image=None, label='C02F', model_output=None, messages=None, model_type='gpt4v', mode=1)\n"
     ]
    },
    {
     "name": "stderr",
     "output_type": "stream",
     "text": [
      "91it [07:19,  6.06s/it]"
     ]
    },
    {
     "name": "stdout",
     "output_type": "stream",
     "text": [
      "Output: C02F 1/00, Expected: C02F, Current Accuracy: 0.5274725274725275, Token Usage: 128\n",
      "PatentData(text='A blow-molded panel with reinforced edges and a folding table. A flange is extended downward on the periphery of the panel and surrounding the reinforced edge. The flange includes an inner flange layer and an outer flange layer. A hollow space is formed between the upper portion of the inner flange layer and the upper curvy portion of the outer flange layer, and the lower portion of the inner flange layer is attached to the lower straight portion of the outer flange layer. The flange has two layers, and the lower portion of the inner flange layer is attached to the lower straight portion of the outer flange layer, so that the firmness and the shock resistance of the fragile parts on the periphery of the panel are remarkably improved.', image=None, label='A47B', model_output=None, messages=None, model_type='gpt4v', mode=1)\n"
     ]
    },
    {
     "name": "stderr",
     "output_type": "stream",
     "text": [
      "92it [07:24,  5.89s/it]"
     ]
    },
    {
     "name": "stdout",
     "output_type": "stream",
     "text": [
      "Output: B29C, Expected: A47B, Current Accuracy: 0.5217391304347826, Token Usage: 201\n",
      "PatentData(text='The present invention provides a novel compound isolated from a plant of the genus Quamoclit and a method for preparing a novel compound isolated from a plant of the genus Quamoclit through chemical synthesis, and relates to a novel compound and a composition containing the novel compound as an active ingredient for preventing or treating diabetes and diabetic complications. The compound derived from a plant of the genus Quamoclit and the composition containing the compound as an active ingredient according to the present invention have an excellent effect of promoting insulin secretion, thereby exhibiting efficacies in preventing or treating diabetes and the resulting various complications.', image=None, label='C07H', model_output=None, messages=None, model_type='gpt4v', mode=1)\n"
     ]
    },
    {
     "name": "stderr",
     "output_type": "stream",
     "text": [
      "93it [07:25,  4.30s/it]"
     ]
    },
    {
     "name": "stdout",
     "output_type": "stream",
     "text": [
      "Output: A61P, Expected: C07H, Current Accuracy: 0.5161290322580645, Token Usage: 164\n",
      "PatentData(text='An electronic actuator according to the present invention comprises: a shaft; a bobbin; a nut; an upper bushing; a housing; a bearing; and a lower bushing. The shaft rotates by receiving a rotational force from an engine crank shaft. The bobbin is mounted to surround the middle portion of the shaft, wherein the bobbin has a coil wound inside thereof. The nut is made of a magnetic material and mounted to surround one side in the longitudinal direction of the shaft, while being screw-connected to a clutch. The upper bushing is made of as nonmagnetic material and is press-fit between the one side in the longitudinal direction of the shaft and the nut, so as to connect the shaft and the nut to form a single body. The housing is made of a magnetic material and comprises a bottom plate and a side wall to surround the other side in the longitudinal direction of the shaft, wherein the side wall extends to partially overlap the nut. The bearing is mounted on the outer peripheral surface on the other side in the longitudinal direction of the shaft, positioned inside the housing. The lower hushing is made of a nonmagnetic material and is press-fit between the bearing and the housing so as to connect the bearing and the housing to form a single body.', image=None, label='F16D', model_output=None, messages=None, model_type='gpt4v', mode=1)\n"
     ]
    },
    {
     "name": "stderr",
     "output_type": "stream",
     "text": [
      "94it [07:42,  8.21s/it]"
     ]
    },
    {
     "name": "stdout",
     "output_type": "stream",
     "text": [
      "Output: H02K 7/06, Expected: F16D, Current Accuracy: 0.5106382978723404, Token Usage: 306\n",
      "PatentData(text='The present invention has an object to provide an X-ray fluorescence spectrometer capable of preventing a decrease in analysis precision of light elements whose atomic number is less than 23 and making helium gas replacement for the inside of an analysis chamber more efficient. An X-ray fluorescence spectrometer of the present invention includes: an X-ray tube 12 for irradiating a sample S on a sample stage 14 with a primary X-ray, the sample stage 14 having an X-ray passing port 141; a detector 13 for detecting a fluorescent X-ray emitted from the sample S; an analysis chamber 16 having an introduction port 17 for the primary X-ray emitted from the X-ray tube 12 and a detection port 181 for the detector 13, the analysis chamber 16 containing an internal space including an optical path of the primary X-ray from the introduction port 17 to the X-ray passing port 141 and an optical path of the fluorescent X-ray from the X-ray passing port 141 to the detection port 181; first and second introduction pipes 201 and 202 for introducing helium gas supplied from a helium gas cylinder 22 into the analysis chamber 16 through the introduction port 17 and the detection port 181, respectively; and a flow rate control valve 24 for controlling a helium gas flow rate in each of the first and second introduction pipes 201 and 202.', image=None, label='G01N', model_output=None, messages=None, model_type='gpt4v', mode=1)\n"
     ]
    },
    {
     "name": "stderr",
     "output_type": "stream",
     "text": [
      "95it [07:43,  6.00s/it]"
     ]
    },
    {
     "name": "stdout",
     "output_type": "stream",
     "text": [
      "Output: G01N 23/22, Expected: G01N, Current Accuracy: 0.5157894736842106, Token Usage: 328\n",
      "PatentData(text='A clothing wire for a clothing roller of a carding machine extends in a wire longitudinal direction and having a base segment, which is thicker transversely to the wire longitudinal direction. A leaf segment, which is narrower compared to the base segment, protrudes from the base segment. A plurality of teeth is formed on the leaf segment along the clothing wire in the wire longitudinal direction. Each tooth has two leaf segment lateral surfaces adjoining the base segment. On at least one of the leaf segment lateral surfaces, at least one projection is formed on each tooth. The cross-sectional profile of the projection is asymmetric and preferably has the contour of a nose. The design of the clothing wire results in a homogenization or parallelization of the fibers, with little wear of the clothing wire and less damage to the fibers.', image=None, label='D01G', model_output=None, messages=None, model_type='gpt4v', mode=1)\n"
     ]
    },
    {
     "name": "stderr",
     "output_type": "stream",
     "text": [
      "96it [07:44,  4.46s/it]"
     ]
    },
    {
     "name": "stdout",
     "output_type": "stream",
     "text": [
      "Output: D01G 15/00, Expected: D01G, Current Accuracy: 0.5208333333333334, Token Usage: 210\n",
      "PatentData(text='The present invention consists of an improved System and Method for managing and operating a company on a global basis wherein company data, income, costs and expenditures may be assigned down to the level of Practice Group, Sub Practice Group, a Timekeeper or Local Profit Center. In lieu of managing a company by the top down from a main parent Global Corporation, an International company is managed horizontally by grouping workers into categories, and then managing those workers across Local Worker Groups, then Regional and then National. In such a manner, the company may run reports to show optimal profitability and management of workers.', image=None, label='G06Q', model_output=None, messages=None, model_type='gpt4v', mode=1)\n"
     ]
    },
    {
     "name": "stderr",
     "output_type": "stream",
     "text": [
      "97it [07:44,  3.33s/it]"
     ]
    },
    {
     "name": "stdout",
     "output_type": "stream",
     "text": [
      "Output: G06Q 10/06, Expected: G06Q, Current Accuracy: 0.5257731958762887, Token Usage: 165\n",
      "PatentData(text='Methods and compositions for environmentally-friendly weed control are provided. In particular, bioherbicide compositions are provided comprising plant extracts selected from Russian Olive, Austrian Pine, Tree of Heaven, Autumn Olive, and Black Walnut extract, either alone, or combination with at least one mulching substrate. Methods of using the herbicide compositions are also provided.', image=None, label='A01N', model_output=None, messages=None, model_type='gpt4v', mode=1)\n"
     ]
    },
    {
     "name": "stderr",
     "output_type": "stream",
     "text": [
      "98it [07:46,  2.66s/it]"
     ]
    },
    {
     "name": "stdout",
     "output_type": "stream",
     "text": [
      "Output: A01N 65/00, Expected: A01N, Current Accuracy: 0.5306122448979592, Token Usage: 117\n",
      "PatentData(text='A stack array in a solid oxide fuel cell power generation system is provided. The stack array comprises a supporting body and a stack group, wherein the supporting body is in a layered structure and comprises one layer or at least two layers of supporting units; and on each layer of the supporting units, a plurality of stacks are sequentially arranged to form the stack group, and each stack is horizontal, and fasteners are provided between the stacks to enable the stack groups and the supporting units to form a pressurized fastening structure. The stack array of the present disclosure simplifies the arrangement of pipelines in the related art, enables effective pressurized fastening on the stacks, so as to allow the whole stack array to be compact and steady, while facilitating the detach, repair and maintenance of the stacks, which is favorable for the integration of the system.', image=None, label='H01M', model_output=None, messages=None, model_type='gpt4v', mode=1)\n"
     ]
    },
    {
     "name": "stderr",
     "output_type": "stream",
     "text": [
      "99it [07:46,  2.06s/it]"
     ]
    },
    {
     "name": "stdout",
     "output_type": "stream",
     "text": [
      "Output: H01M 8/24, Expected: H01M, Current Accuracy: 0.5353535353535354, Token Usage: 218\n",
      "PatentData(text='A method of access to a motor vehicle includes establishing contactless communication according to an NFC protocol between a badge of the motor vehicle and a smartphone, communicating an authentication key from the badge to the smartphone, transmitting the authentication key of the smartphone to a server by telephone communication, the server being capable of communicating with the vehicle, and recognizing the authentication key by the server and transmitting data concerning a status of the vehicle from the server to the smartphone.', image=None, label='G07C', model_output=None, messages=None, model_type='gpt4v', mode=1)\n"
     ]
    },
    {
     "name": "stderr",
     "output_type": "stream",
     "text": [
      "100it [07:47,  1.69s/it]"
     ]
    },
    {
     "name": "stdout",
     "output_type": "stream",
     "text": [
      "Output: G07C 9/00, Expected: G07C, Current Accuracy: 0.54, Token Usage: 137\n",
      "PatentData(text='A resin-impregnated boron nitride sintered body having superior thermal conductivity and superior strength, and a resin-impregnated boron nitride sintered body having superior conductivity and small anisotropy of thermal conductivity are provided. A resin-impregnated boron nitride sintered body, including: 30 to 90 volume % of a boron nitride sintered body having boron nitride particles bonded three-dimensionally; and 10 to 70 volume % of a resin; wherein the boron nitride sintered body has a porosity of 10 to 70%; the boron nitride particles of the boron nitride sintered body has an average long diameter of 10 μm or more; the boron nitride sintered body has a graphitization index by powder X-ray diffractometry is 4.0 or less; and an orientation degree of the boron nitride particles of the boron nitride sintered body by I.O.P is 0.01 to 0.05 or 20 to 100; and a resin-impregnated boron nitride sintered body, including: 30 to 90 volume % of a boron nitride sintered body having boron nitride particles bonded three-dimensionally is provided.', image=None, label='C04B', model_output=None, messages=None, model_type='gpt4v', mode=1)\n"
     ]
    },
    {
     "name": "stderr",
     "output_type": "stream",
     "text": [
      "101it [07:50,  2.05s/it]"
     ]
    },
    {
     "name": "stdout",
     "output_type": "stream",
     "text": [
      "Output: C04B35/583, Expected: C04B, Current Accuracy: 0.5445544554455446, Token Usage: 330\n",
      "PatentData(text='Provided are a method, device and system for implementing address sharing. An address pool configured for unified management over IP addresses is configured on an AAA server; and the AAA server may allocate an IP address to a CGN device according to the configured address pool. By such a technology for implementing address sharing in the present disclosure, IP address resource sharing among CGN devices is implemented, so that problems about resource load sharing among the CGN devices may be solved, a sharing rate of IP address resources is increased, and resource optimization may be implemented; and moreover, in terms of IP address management, a more available platform is provided for an operating company. In addition, the IP addresses are managed by the AAA server in a unified manner, and then the address pool is not required to be configured on the CGN device, so that the CGN device may be started without any address pool.', image=None, label='H04L', model_output=None, messages=None, model_type='gpt4v', mode=1)\n"
     ]
    },
    {
     "name": "stderr",
     "output_type": "stream",
     "text": [
      "102it [07:51,  1.63s/it]"
     ]
    },
    {
     "name": "stdout",
     "output_type": "stream",
     "text": [
      "Output: H04L, Expected: H04L, Current Accuracy: 0.5490196078431373, Token Usage: 223\n",
      "PatentData(text='An object of the present invention is to provide an orally disintegrating tablet (ultrafast-disintegrating tablet) having an extremely high disintegrability (short disintegration time), and a high tablet hardness, and to provide a simple method for the production of said ultrafast-disintegrating tablet without such a complicated process as freeze-drying. This invention relates to an orally disintegrating tablet comprising a first disintegrator component of an acid-type carboxymethylcellulose, and having a tablet hardness of 10 N or more and a disintegration time in water of less than 15 seconds, a method for the production of said orally disintegrating tablet, and to a disintegrative particulate composition for use in said method.', image=None, label='A61K', model_output=None, messages=None, model_type='gpt4v', mode=1)\n"
     ]
    },
    {
     "name": "stderr",
     "output_type": "stream",
     "text": [
      "103it [07:53,  1.77s/it]"
     ]
    },
    {
     "name": "stdout",
     "output_type": "stream",
     "text": [
      "Output: A61K, Expected: A61K, Current Accuracy: 0.5533980582524272, Token Usage: 197\n",
      "PatentData(text='A control valve including: a valve body, a flow shutter operatively interposed between an inlet and an outlet, a driving spindle having at least a first actuating end and a second end connected to the flow shutter. The valve also includes a differential pressure automatic regulation device, comprising: a cup-shaped body arranged around the driving spindle and axially mobile with respect to said driving spindle; a spring operatively interposed between the valve body and the cup-shaped body to push the latter away from the flow shutter; a rolling membrane having a radially inner edge fixed to the cup-shaped body and a radially outer edge fixed to the valve body to delimit a first chamber in fluid communication with the inlet and a second chamber in fluid communication with the outlet.', image=None, label='G05D', model_output=None, messages=None, model_type='gpt4v', mode=1)\n"
     ]
    },
    {
     "name": "stderr",
     "output_type": "stream",
     "text": [
      "104it [07:53,  1.47s/it]"
     ]
    },
    {
     "name": "stdout",
     "output_type": "stream",
     "text": [
      "Output: F16K 31/06, Expected: G05D, Current Accuracy: 0.5480769230769231, Token Usage: 200\n",
      "PatentData(text='The invention relates to a high-pressure pump (1), in particular for a motor vehicle, for pumping a fluid, in particular fuel, such as diesel, comprising: a drive shaft (2), which is supported in such a way that the drive shaft can be rotated about an axis of rotation (26) and which has at least one cam (3); at least two pistons (5); at least two cylinders (6) for supporting the at least two pistons (5); wherein the pistons (5) each have a piston longitudinal axis (16) and the piston longitudinal axes (16) are oriented at an angle to each other in a projection of the piston longitudinal axes (16) in the direction of the axis of rotation (26) of the drive shaft (2) onto a fictitious projection plane perpendicular to the axis of rotation (26), wherein each of the at least two pistons (5) is supported on a shaft rolling surface (4) of the drive shaft (2) having the at least one cam (3) indirectly by means of a respective supporting element (14) having a supporting rolling surface (15), such that a translational motion can be performed by the at least two pistons (5) as the result of a rotational motion of the drive shaft (2), wherein the piston longitudinal axes (16) of the pistons (5) have an axial distance in the direction of the axis of rotation (26) of the drive shaft (2).', image=None, label='F02M', model_output=None, messages=None, model_type='gpt4v', mode=1)\n"
     ]
    },
    {
     "name": "stderr",
     "output_type": "stream",
     "text": [
      "105it [07:54,  1.23s/it]"
     ]
    },
    {
     "name": "stdout",
     "output_type": "stream",
     "text": [
      "Output: F04B, Expected: F02M, Current Accuracy: 0.5428571428571428, Token Usage: 345\n",
      "PatentData(text='The present invention relates to a liquid crystal display device that includes a particular color filter containing a material containing chiral liquid crystals and a particular pigment. The present invention provides a liquid crystal display device that can prevent a decrease in the voltage holding ratio (VHR) of a liquid crystal layer and solve the problem of display defects, such as white spots, variations in alignment, and burn-in. Because liquid crystal display devices according to the present invention characteristically prevent a decrease in the voltage holding ratio (VHR) of a liquid crystal layer and reduces the occurrence of display defects, such as burn-in, the liquid crystal display devices are particularly useful as liquid crystal display devices in IPS mode and FFS mode for active-matrix driving and can be applied to household electrical appliances, automobiles, production facilities, measuring and analytical instruments, and communication devices.', image=None, label='C09K', model_output=None, messages=None, model_type='gpt4v', mode=1)\n"
     ]
    },
    {
     "name": "stderr",
     "output_type": "stream",
     "text": [
      "106it [07:55,  1.15s/it]"
     ]
    },
    {
     "name": "stdout",
     "output_type": "stream",
     "text": [
      "Output: G02F 1/1337, Expected: C09K, Current Accuracy: 0.5377358490566038, Token Usage: 218\n",
      "PatentData(text='The invention relates to a bursting device (1) for a high-voltage device (2). The bursting device (1) is suitable in particular for on-load tap changers or high-voltage transformers filled with a filling medium such as gas or oil. The bursting device (1) according to the invention has a bursting cork (3) with support blocks (7) arranged on the inner surface (3B). A shear pin (8) is in arranged in each receiving block (7), said shear pin being divided into a first portion (8A) and a second portion (8B). The first portion (8A) of the shear pin (8) protrudes into the receiving block (7). The second portion (8B) of the shear pin (8) is arranged below the circumferential edge (9) of an opening (5) of the high-voltage device (2).', image=None, label='H01F', model_output=None, messages=None, model_type='gpt4v', mode=1)\n"
     ]
    },
    {
     "name": "stderr",
     "output_type": "stream",
     "text": [
      "107it [07:56,  1.05s/it]"
     ]
    },
    {
     "name": "stdout",
     "output_type": "stream",
     "text": [
      "Output: H01H 85/00, Expected: H01F, Current Accuracy: 0.5327102803738317, Token Usage: 232\n",
      "PatentData(text='The present invention relates to a device for efficiently preparing magnesium hydroxide, comprising a material mixing tank, a pressure control linkage unit I, a reactor, a pressure control linkage unit II, a condenser, a three-way valve, a material storage tank, a pressure control linkage unit III and a vapor generator. The beneficial effect of the present invention is that magnesium hydroxide slurry can be prepared quickly and efficiently.', image=None, label='C01F', model_output=None, messages=None, model_type='gpt4v', mode=1)\n"
     ]
    },
    {
     "name": "stderr",
     "output_type": "stream",
     "text": [
      "108it [07:57,  1.00s/it]"
     ]
    },
    {
     "name": "stdout",
     "output_type": "stream",
     "text": [
      "Output: C01F 5/26, Expected: C01F, Current Accuracy: 0.5370370370370371, Token Usage: 134\n",
      "PatentData(text='An atomizer-humidifier includes a water reservoir and an atomizer module. The atomizer module has an atomizer housing and an oscillation element that can be induced to oscillate and which, in the normal mode of the humidifier, is covered by water. The humidifier also includes a device for supplying water from the water reservoir to a water receiving zone above the atomizer module. The atomizer module has at least one ultraviolet light source fastened to the atomizer module housing.', image=None, label='F24F', model_output=None, messages=None, model_type='gpt4v', mode=1)\n"
     ]
    },
    {
     "name": "stderr",
     "output_type": "stream",
     "text": [
      "109it [07:58,  1.09it/s]"
     ]
    },
    {
     "name": "stdout",
     "output_type": "stream",
     "text": [
      "Output: A61L 9/16, Expected: F24F, Current Accuracy: 0.5321100917431193, Token Usage: 150\n",
      "PatentData(text='The invention relates to a bending press (1) for bending workpieces, comprising an upper tool (2) and a lower tool (3), a tool holder (4), in which the upper tool (2) is inserted, and a tool holder (5), in which the lower tool (3) is inserted, wherein the upper tool (2) and the lower tool (3) can be fixed in various positions within the respective tool holder (4, 5), a control device (13) for controlling the bending press (1), a sensor device (8), which is connected to the control device (13), and a stop (6) for positioning the workpiece within the bending press (1), wherein the stop (6) can be moved in relation to the tools (2, 3) by means of a drive (9) controlled by the control device (13). The sensor device (8) is designed to detect the position of the upper tool (2) and of the lower tool (3) within the bending press (1) without contact, and the control device (13) is designed to adapt the movement process by means of which the stop (6) is positioned in relation to the tools (2, 3), in dependence on the position of the upper tool (2) and of the lower tool (3) detected by means of the sensor device (8).', image=None, label='B21D', model_output=None, messages=None, model_type='gpt4v', mode=1)\n"
     ]
    },
    {
     "name": "stderr",
     "output_type": "stream",
     "text": [
      "110it [08:11,  4.72s/it]"
     ]
    },
    {
     "name": "stdout",
     "output_type": "stream",
     "text": [
      "Output: B21D 5/00, Expected: B21D, Current Accuracy: 0.5363636363636364, Token Usage: 331\n",
      "PatentData(text='The invention relates to a method for synthesizing an intermediate of Apixaban comprising reacting a compound of formula I with 5-chloro-valeryl chloride in the presence of inorganic base in an inert solvent to obtain a compound of formula II, with the reaction formula of (A), wherein R is selected from nitro group and the group (B). The method is mild in reaction condition, simple in operation, easy in purification, inexpensive in production cost, environmental-friendly, and suitable for industrial production.', image=None, label='C07D', model_output=None, messages=None, model_type='gpt4v', mode=1)\n"
     ]
    },
    {
     "name": "stderr",
     "output_type": "stream",
     "text": [
      "111it [08:12,  3.50s/it]"
     ]
    },
    {
     "name": "stdout",
     "output_type": "stream",
     "text": [
      "Output: C07D 401/12, Expected: C07D, Current Accuracy: 0.5405405405405406, Token Usage: 151\n",
      "PatentData(text='There is provided an internal combustion engine, provided with a crankshaft and one or several cylinders provided on the wall thereof with exhaust ports and closed at the top by a cylinder head provided with intake ports; each cylinder accommodating an engine piston connected to the crankshaft and a coaxial auxiliary piston opposite the engine piston, defining an intake chamber and a combustion chamber; said auxiliary piston axially determining on the side of the combustion chamber a housing that communicates with the intake chamber via transfer ports, the housing of which includes a secondary piston which opens and closes the transfer ports in a back-and-forth movement between a rear position and a forward position.', image=None, label='F01L', model_output=None, messages=None, model_type='gpt4v', mode=1)\n"
     ]
    },
    {
     "name": "stderr",
     "output_type": "stream",
     "text": [
      "112it [08:12,  2.64s/it]"
     ]
    },
    {
     "name": "stdout",
     "output_type": "stream",
     "text": [
      "Output: F02B, Expected: F01L, Current Accuracy: 0.5357142857142857, Token Usage: 172\n",
      "PatentData(text='An electronically commutated motor has a rotor with a permanent magnet arrangement, a stator (30) with a bundle of laminations (32) and a winding (34). The bundle of laminations is, at at least at one axial end (32′), provided with an insulator (41) and the winding (34) has a plurality of coils (38A, 38B, 38C, 38D) that are wound from at least one winding wire (36); at least one winding wire contact element (50) which is attached to an insulator body (41) and mechanically and electrically conductive connected with at least one section (36A) of at least one winding wire (36); at least one contact track (60) with a first section (61) which is mechanically and electrically conductive connected to the winding wire contact element (50), a second section (62) which is arranged with an internal threaded part (65) with an internal thread (66) to enable an electrical connection of the winding (34) to the associated voltage source and a third section (63) which connects the first section (61) with the second section (62) electrically conductive.', image=None, label='H02K', model_output=None, messages=None, model_type='gpt4v', mode=1)\n"
     ]
    },
    {
     "name": "stderr",
     "output_type": "stream",
     "text": [
      "113it [08:13,  2.04s/it]"
     ]
    },
    {
     "name": "stdout",
     "output_type": "stream",
     "text": [
      "Output: H02K, Expected: H02K, Current Accuracy: 0.5398230088495575, Token Usage: 293\n",
      "PatentData(text='The present invention relates to a method for determining an amount of a peroxide in a sample, wherein the method comprises the steps of: —providing a sample, —contacting the sample with a terbium(III) benzene dicarboxylic acid complex, and —determining the luminescence of the terbium(III) benzene dicarboxylic acid complex.', image=None, label='C12Q', model_output=None, messages=None, model_type='gpt4v', mode=1)\n"
     ]
    },
    {
     "name": "stderr",
     "output_type": "stream",
     "text": [
      "114it [08:14,  1.65s/it]"
     ]
    },
    {
     "name": "stdout",
     "output_type": "stream",
     "text": [
      "Output: G01N 21/64, Expected: C12Q, Current Accuracy: 0.5350877192982456, Token Usage: 133\n",
      "PatentData(text='A method and apparatus for planning medical treatment, the method comprising: displaying a first image of a patient or a body part, wherein the body part is to be designed or operated on, the first image having first imaging characteristics; displaying a second image of the patient or the body part, the second image having imaging characteristics different from the first imaging characteristics; displaying an image of a model of the body part; receiving a user indication associated with adapting the model for the patient; and outputting a model adapted for the patient, the adapted model based on the model and on the user indication.', image=None, label='A61C', model_output=None, messages=None, model_type='gpt4v', mode=1)\n"
     ]
    },
    {
     "name": "stderr",
     "output_type": "stream",
     "text": [
      "115it [08:20,  3.12s/it]"
     ]
    },
    {
     "name": "stdout",
     "output_type": "stream",
     "text": [
      "Output: A61B5/00, Expected: A61C, Current Accuracy: 0.5304347826086957, Token Usage: 165\n",
      "PatentData(text='The present invention discloses a 3D printer, comprising a printing chamber, and the printing chamber comprises a printing assembly and a loading platform inside, and the printing assembly is located above the loading platform, and the printing assembly comprises a printing support and a printing head assembly and a curing lamp assembly connected on the printing support, and the printing support is moved along a printing direction, and in the printing direction, the printing head assembly is in front of the curing lamp assembly, and the printing head assembly comprises a main printing head of printing a model mainbody and a sub printing head of printing support material, and material of the model mainbody is photosensitive resin, and a printing temperature inside the printing chamber is lower than a solidification temperature of the support material, and the support material is solidified at the printing temperature.', image=None, label='B29C', model_output=None, messages=None, model_type='gpt4v', mode=1)\n"
     ]
    },
    {
     "name": "stderr",
     "output_type": "stream",
     "text": [
      "116it [08:22,  2.61s/it]"
     ]
    },
    {
     "name": "stdout",
     "output_type": "stream",
     "text": [
      "Output: B29C 64/153, Expected: B29C, Current Accuracy: 0.5344827586206896, Token Usage: 214\n",
      "PatentData(text='The invention relates to medicine, in particular, to agents for prophylaxis and treatment of conditions associated with various forms of catarrhal diseases, as well as for immunity improvement.', image=None, label='A61K', model_output=None, messages=None, model_type='gpt4v', mode=1)\n"
     ]
    },
    {
     "name": "stderr",
     "output_type": "stream",
     "text": [
      "117it [08:22,  2.00s/it]"
     ]
    },
    {
     "name": "stdout",
     "output_type": "stream",
     "text": [
      "Output: A61P, Expected: A61K, Current Accuracy: 0.5299145299145299, Token Usage: 81\n",
      "PatentData(text='The present invention relates to an oligonucleotide structure and a method for preparing the same and, more particularly, to an oligonucleotide structure in which a polymer compound is linked to an oligonucleotide via a covalent bond to improve in vivo stability of the oligonucleotide and cellular delivery efficiency of the oligonucleotide; and to a method for preparing the same. The oligonucleotide structure is improved into a homogenous material, thereby solving the problem in material verification due to polydispersion characteristics occurring when a hydrophilic material linked to the oligonucleotide is a synthetic polymer; the oligonucleotide structure is easy to synthesize compared with the existing process; and the size of a double-stranded oligo RNA structure can be accurately adjusted through the control of the repetition number of a hydrophilic material block, and thus, the gene expression regulation function of the oligonucleotide does not deteriorate through the synthesis of the optimized oligonucleotide structure, and the oligonucleotide can be delivered into cells at even a relatively low-concentration dosage. Therefore, the oligonucleotide structure of the present invention can be useful as a novel type oligonucleotide delivery system as well as a tool for treating cancers, infectious diseases, and the like.', image=None, label='C12N', model_output=None, messages=None, model_type='gpt4v', mode=1)\n"
     ]
    },
    {
     "name": "stderr",
     "output_type": "stream",
     "text": [
      "118it [08:23,  1.61s/it]"
     ]
    },
    {
     "name": "stdout",
     "output_type": "stream",
     "text": [
      "Output: C07H, Expected: C12N, Current Accuracy: 0.5254237288135594, Token Usage: 310\n",
      "PatentData(text='The present invention relates to a dengue virus-specific siRNA, a double-stranded oligo RNA structure comprising the siRNA, and a composition for inhibiting dengue virus replication, which comprises the same, in which the double-stranded oligo RNA structure comprises a hydrophilic compound and hydrophobic compound conjugated to both ends of the double-stranded RNA (siRNA) by a single covalent bond or a linker-mediated covalent bond so that they will be efficiently delivered into cells, and can be converted into nanoparticles by hydrophobic interactions between the double-stranded oligo RNA structures in an aqueous solution. The siRNA included in the double-stranded oligo RNA structure acts specifically on all dengue virus serotypes. The present invention also relates to a method for preparing the double-stranded oligo RNA structure, and a pharmaceutical composition for preventing or treating dengue virus infection, which comprises the double-stranded oligo RNA structure.', image=None, label='C12N', model_output=None, messages=None, model_type='gpt4v', mode=1)\n"
     ]
    },
    {
     "name": "stderr",
     "output_type": "stream",
     "text": [
      "119it [08:24,  1.37s/it]"
     ]
    },
    {
     "name": "stdout",
     "output_type": "stream",
     "text": [
      "Output: C12N 15/11, Expected: C12N, Current Accuracy: 0.5294117647058824, Token Usage: 248\n",
      "PatentData(text='Described is a method for the production of 3-buten-2-one comprising the enzymatic conversion of 4-hydroxy-2-butanone into 3-buten-2-one by making use of an enzyme catalyzing 4-hydroxy-2-butanone dehydration, wherein said enzyme catalyzing 4-hydroxy-2-butanone dehydration is (a) a 3-hydroxypropiony-CoA dehydratase (EC 4.2.1.116), (b) a 3-hydroxybutyryl-CoA dehydratase (EC 4.2.1.55), (c) an enoyl-CoA hydratase (EC 4.2.1.17), (d) a 3-hydroxyoctanoyl-[acyl-carrier-protein] dehydratase (EC 4.2.1.59), (e) a crotonyl-[acyl-carrier-protein] hydratase (EC 4.2.1.58), (f) a 3-hydroxydecanoyl-[acyl-carrier-protein] dehydratase (EC 4.2.1.60), (g) a 3-hydroxypalmitoyl-[acyl-carrier-protein] dehydratase (EC 4.2.1.61), (h) a long-chain-enoyl-CoA hydratase (EC 4.2.1.74), or (i) a 3-methylglutaconyl-CoA hydratase (EC 4.2.1.18). The produced 3-buten-2-one can be further converted into 3-buten-2-ol and finally into 1,3-butadiene.', image=None, label='C12P', model_output=None, messages=None, model_type='gpt4v', mode=1)\n"
     ]
    },
    {
     "name": "stderr",
     "output_type": "stream",
     "text": [
      "120it [08:26,  1.69s/it]"
     ]
    },
    {
     "name": "stdout",
     "output_type": "stream",
     "text": [
      "Output: C12P, Expected: C12P, Current Accuracy: 0.5333333333333333, Token Usage: 431\n",
      "PatentData(text='The present invention relates to a gene specific siRNA related with respiratory diseases, particularly, to a gene specific siRNA related with idiopathic pulmonary fibrosis and chronic obstructive pulmonary disease (COPD), and a highly efficient double-helical oligo RNA structure containing the same, wherein the double-helical oligo RNA structure has a structure in which hydrophilic and hydrophobic materials are bonded at the both ends of the double-helical RNA (siRNA) using a simple covalent bond or a linker-mediated covalent bond to be effectively transferred into a cell, and may be converted into nanoparticles by the hydrophobic interaction of the double-helical oligo RNA structure in a solution. It is desirable that the siRNA contained in the double-helical oligo RNA structure is a siRNA specific to a CTGF, Cyr61, or Plekho1, which are genes related with respiratory diseases, particularly idiopathic pulmonary fibrosis and COPD. In addition, the present invention relates to a method for producing the double-helical oligo RNA structure and a pharmaceutical composition containing the double-helical oligo RNA structure for preventing or treating respiratory diseases, particularly idiopathic pulmonary fibrosis and COPD.', image=None, label='C12N', model_output=None, messages=None, model_type='gpt4v', mode=1)\n"
     ]
    },
    {
     "name": "stderr",
     "output_type": "stream",
     "text": [
      "121it [08:28,  1.61s/it]"
     ]
    },
    {
     "name": "stdout",
     "output_type": "stream",
     "text": [
      "Output: C12N 15/11, Expected: C12N, Current Accuracy: 0.5371900826446281, Token Usage: 302\n",
      "PatentData(text='The economic efficiency of wind turbines improves by upscaling but the weight to strength ratio deteriorates. This is especially true for the large shaft and bearing of the rotor, the gearbox and the generator. Solutions to this was the gearless generator, getting heavy because the amount of magnetic material is inversely proportional to speed, or several smaller generators adapted to the wind on a distribution gear as shown in references (1), (2) and (3). The large roller bearing of the rotor has relatively large bearing clearance so only the top or lower rollers bear the entire weight of the rotor and thus must be dimensioned relatively large. The present invention spreads the load on the support bearing to more rollers and to smaller faster running and thereby lighter generators. It has the rotor attached to the outer ring, each roller rotatably mounted to the nacelle and the inner ring free wheeling. The outer and inner rings are relatively stiffer than the rotatable fixation of the upper rollers to the nacelle, so that the upper rollers flex slightly down under the weight of the rotor allowing some of the force of gravity to be transferred to the inner ring and on to the bottom relatively stiff journalled rollers. Gear teeth can be used to transfer torque to all rollers, or the inner ring pressed against the side rollers, or the conical rollers can be pressed dynamically in between the outer and inner ring with relatively constant force. This is shown in FIGS. 1 and 6 in perspective and FIG. 2 and FIG. 3, in radial section. The relatively small roller shafts can now be used as PTO with gear ratio bearing diameter to roller diameter. The cost of the extra bearings for each roller is offset by savings in the usual center shaft and gear. Also, the friction from the edge of the outer or inner ring to keep the large rollers in place is missing. These benefits are especially important for wind turbines with heavy hub, axle and gear on a tall tower, and large wing rotor bearing clearance causing inappropriate vibrations of the long components. With no central hub shaft, gear and generator in the nacelle center there is space for force carrying structures as strong as the top of the tower to a point on the centre line of the rotor in front of it. To this a bearing for sustaining the varying moments of the wind can be affixed so the weight carrying bearing and gear unit can be designed cylindrical; or stays can be continued to other tower elements achieving a tower structure with significantly lower weight and higher natural frequency than usual wind moment influenced single column towers.', image=None, label='F03D', model_output=None, messages=None, model_type='gpt4v', mode=1)\n"
     ]
    },
    {
     "name": "stderr",
     "output_type": "stream",
     "text": [
      "122it [08:29,  1.37s/it]"
     ]
    },
    {
     "name": "stdout",
     "output_type": "stream",
     "text": [
      "Output: F03D, Expected: F03D, Current Accuracy: 0.5409836065573771, Token Usage: 561\n",
      "PatentData(text='A method for extracting coalbed gas. A wellhead device delivers power fluid into a downhole power fluid pipe in a well shaft, and conveys the fluid to a pump in a pump cylinder connected with the downhole power fluid pipe. The pump sucks in formation fluid via a suction inlet, mixes the fluid with the power fluid to produce a mixed fluid, and conveys the mixed fluid to ground surface. The mixed fluid containing coal dust travels at a flow rate greater than a sedimentation rate of the coal dust, passes though the wellhead device, and flows to the ground surface, thereby preventing a sedimentation of the coal dust. The suction inlet of the pump reaches a lower boundary of a coalbed so as to prevent coal dust from burying the coalbed, and the coalbed gas automatically shoots through an annular space of a well shaft casing.', image=None, label='E21B', model_output=None, messages=None, model_type='gpt4v', mode=1)\n"
     ]
    },
    {
     "name": "stderr",
     "output_type": "stream",
     "text": [
      "123it [08:29,  1.17s/it]"
     ]
    },
    {
     "name": "stdout",
     "output_type": "stream",
     "text": [
      "Output: E21B 43/00, Expected: E21B, Current Accuracy: 0.5447154471544715, Token Usage: 222\n",
      "PatentData(text='The present invention relates to set comprising an apparatus (100) for folding or unfolding at least one medical implant (300) by means of at least one tension thread (11, 11′), wherein the apparatus (100) comprises a shaft (1) and a tensioning device for altering a form or shape of the foldable and/or unfoldable implant (300) by means of the tension thread (11, 11′). In at least one shaft section thereof, the shaft (1) comprises a plurality of individual shaft fibers (13).', image=None, label='A61F', model_output=None, messages=None, model_type='gpt4v', mode=1)\n"
     ]
    },
    {
     "name": "stderr",
     "output_type": "stream",
     "text": [
      "124it [08:30,  1.00it/s]"
     ]
    },
    {
     "name": "stdout",
     "output_type": "stream",
     "text": [
      "Output: A61B, Expected: A61F, Current Accuracy: 0.5403225806451613, Token Usage: 155\n",
      "PatentData(text='A mailbox assembly includes a replacement mailbox having an outer surface, a rib extending along the outer surface of the replacement mailbox, a notification device secured to a front end of the replacement mailbox. A method to replace a damaged mailbox includes providing a replacement mailbox having a geometric shape smaller than a geometric shape of the damaged mailbox, sliding the replacement mailbox within the damaged mailbox, and securing the replacement mailbox at a spaced distance within the damaged mailbox with a rib secured to an outer surface of the replacement mailbox.', image=None, label='A47G', model_output=None, messages=None, model_type='gpt4v', mode=1)\n"
     ]
    },
    {
     "name": "stderr",
     "output_type": "stream",
     "text": [
      "125it [08:46,  5.67s/it]"
     ]
    },
    {
     "name": "stdout",
     "output_type": "stream",
     "text": [
      "Output: A47G 29/12, Expected: A47G, Current Accuracy: 0.544, Token Usage: 147\n",
      "PatentData(text='A cooking apparatus comprises a heated compartment to warm cooking media that may be packaged in metal containers or the like. The heater system includes at least one heater disposed at a location to heat the bottom of the unused cooking medium container. The heater system may also include at least one heater disposed at a location to heat at least one side of the unused cooking medium container. A cooking apparatus comprises at least one supply reservoir, a fluid motive device, various enclosed cooking medium conductors or lines, a three-way valve that introduces air for purging the lines, and a cooking medium receiving system.', image=None, label='A47J', model_output=None, messages=None, model_type='gpt4v', mode=1)\n"
     ]
    },
    {
     "name": "stderr",
     "output_type": "stream",
     "text": [
      "126it [08:47,  4.20s/it]"
     ]
    },
    {
     "name": "stdout",
     "output_type": "stream",
     "text": [
      "Output: A47J, Expected: A47J, Current Accuracy: 0.5476190476190477, Token Usage: 161\n",
      "PatentData(text='A method of operating a turbine engine, the turbine engine having an inlet, a shaft, a turbine, a control system, a fuel system and a modular liquid fuel burner system having at least two interchangeable liquid burners and a liquid-fuel manifold. The control system controls a fuel supply via the liquid-fuel manifold to the burners dependent on demanded output power. The at least two interchangeable liquid fuel burners have different operating power output ranges and having at least a high power output liquid fuel burner and a low power output liquid fuel burner. The method of operating the turbine engine includes the steps of controlling a liquid fuel supply to the high power output burner for a high power output having a turbine entry temperature limit and controlling a liquid fuel supply to the low power output burner for a low power output having a liquid fuel manifold pressure limit.', image=None, label='F02C', model_output=None, messages=None, model_type='gpt4v', mode=1)\n"
     ]
    },
    {
     "name": "stderr",
     "output_type": "stream",
     "text": [
      "127it [08:48,  3.17s/it]"
     ]
    },
    {
     "name": "stdout",
     "output_type": "stream",
     "text": [
      "Output: F02C 9/00, Expected: F02C, Current Accuracy: 0.5511811023622047, Token Usage: 215\n",
      "PatentData(text='Hydrogels and composite material containing hydrogels and liposomes dispersed therein, which exhibit a reduced friction coefficient compared to neat hydrogels or composites containing hydrogels, processes for preparing the same, and methods for using the same are disclosed.', image=None, label='A61L', model_output=None, messages=None, model_type='gpt4v', mode=1)\n"
     ]
    },
    {
     "name": "stderr",
     "output_type": "stream",
     "text": [
      "128it [08:49,  2.41s/it]"
     ]
    },
    {
     "name": "stdout",
     "output_type": "stream",
     "text": [
      "Output: C08L, Expected: A61L, Current Accuracy: 0.546875, Token Usage: 97\n",
      "PatentData(text='A method for performing reactive sputtering processes while maintaining the sputtering characteristic at: the target as well as the deposition rate constant, or at least in an acceptable range for the industrial production context, independent of the target age.', image=None, label='C23C', model_output=None, messages=None, model_type='gpt4v', mode=1)\n"
     ]
    },
    {
     "name": "stderr",
     "output_type": "stream",
     "text": [
      "129it [08:50,  2.13s/it]"
     ]
    },
    {
     "name": "stdout",
     "output_type": "stream",
     "text": [
      "Output: C23C 14/35, Expected: C23C, Current Accuracy: 0.5503875968992248, Token Usage: 96\n",
      "PatentData(text='Recreational mobile structure for letting children play and for transporting and securing them while protecting them from falling objects, smoke and flames. The structure is also suitable to simultaneously fill the need of containing and entertaining children, as in a playpen, ensuring that they do not exit, and to store and transport toys.', image=None, label='B62B', model_output=None, messages=None, model_type='gpt4v', mode=1)\n"
     ]
    },
    {
     "name": "stderr",
     "output_type": "stream",
     "text": [
      "130it [08:51,  1.67s/it]"
     ]
    },
    {
     "name": "stdout",
     "output_type": "stream",
     "text": [
      "Output: A63H3/00, Expected: B62B, Current Accuracy: 0.5461538461538461, Token Usage: 110\n",
      "PatentData(text='A device for cooling a target, having a component that includes a cooling duct and having an additional thermally conductive plate that is detachably fastened to the cooling side of the component, the cooling side being the side on which the cooling duct exerts its cooling action, characterized in that between the additional thermally conductive plate and the cooling side of the component, a first self-adhesive carbon film is provided, which is extensively and self-adhesively glued to the one side of the additional thermally conductive plate that faces the cooling side.', image=None, label='H01J', model_output=None, messages=None, model_type='gpt4v', mode=1)\n"
     ]
    },
    {
     "name": "stderr",
     "output_type": "stream",
     "text": [
      "131it [08:51,  1.38s/it]"
     ]
    },
    {
     "name": "stdout",
     "output_type": "stream",
     "text": [
      "Output: F28F, Expected: H01J, Current Accuracy: 0.5419847328244275, Token Usage: 156\n",
      "PatentData(text='It is an object of the present invention to provide a seal ring which has small oil leak and low torque generation performance for improving fuel consumption in a favorable balance as originally intended by the present invention. A seal ring (1) is mounted on an annular groove formed on one member consisting of either a housing having a shaft hole or a rotary shaft inserted into the shaft hole, contacts a surface of other member consisting of either the housing or the rotary shaft, and slidably contacts a side wall surface of the annular groove at a non-sealed fluid side thereof. V-shaped concave portions (3) which do not contact the side wall surface of the annular groove are formed on at least one portion of an end of an inner diameter side of a side surface (2) of the seal ring (1).', image=None, label='F16J', model_output=None, messages=None, model_type='gpt4v', mode=1)\n"
     ]
    },
    {
     "name": "stderr",
     "output_type": "stream",
     "text": [
      "132it [08:52,  1.15s/it]"
     ]
    },
    {
     "name": "stdout",
     "output_type": "stream",
     "text": [
      "Output: F16J, Expected: F16J, Current Accuracy: 0.5454545454545454, Token Usage: 208\n",
      "PatentData(text='A composite polymer composition comprising the emulsion polymerization product of: (i) an aqueous dispersion comprising the melt kneading product of one or more polyolefins, from 2 to 25 wt % of one or more dispersion stabilizing agents, water and optionally a neutralizing agent, and (ii) one or more (meth)acrylic monomers; wherein the one or more polyolefins have a Tg equal to or less than 50° C. and comprise from 0.5 to 100 wt % functionalized polyolefin; and wherein the melt kneading product (i) comprises polymer particles having a volume average particle size between 150 nm and 2000 nm dispersed in the water; and wherein the one or more (meth)acrylic monomers polymerize onto the polymer particles form composite polymer particles using an emulsion polymerization process is provided.', image=None, label='C08L', model_output=None, messages=None, model_type='gpt4v', mode=1)\n"
     ]
    },
    {
     "name": "stderr",
     "output_type": "stream",
     "text": [
      "133it [08:54,  1.42s/it]"
     ]
    },
    {
     "name": "stdout",
     "output_type": "stream",
     "text": [
      "Output: C08F 2/00, Expected: C08L, Current Accuracy: 0.5413533834586466, Token Usage: 231\n",
      "PatentData(text='A composite polymer composition comprising: the emulsion polymerization product of: (i) an aqueous polyolefin dispersion comprising the melt kneading product of one or more polyolefins, from 2 to 25 wt % of one or more dispersion stabilizing agents and water, and (ii) one or more (meth)acrylic monomers; wherein the one or more polyolefins have a Tg equal to or less than 50° C.; and wherein the melt kneading product (i) comprises polymer particles having a volume average particle size between 150 nm and 2000 nm dispersed in the water; and wherein the one or more (meth)acrylic monomers polymerize onto the polymer particles form composite polymer particles is provided. Also provided is a method of making the composition and impact modifiers comprising the composition.', image=None, label='C08L', model_output=None, messages=None, model_type='gpt4v', mode=1)\n"
     ]
    },
    {
     "name": "stderr",
     "output_type": "stream",
     "text": [
      "134it [08:57,  1.85s/it]"
     ]
    },
    {
     "name": "stdout",
     "output_type": "stream",
     "text": [
      "Output: C08F 255/00, Expected: C08L, Current Accuracy: 0.5373134328358209, Token Usage: 220\n",
      "PatentData(text='A method for coating workpieces includes the following steps: charging a coating chamber with the workpieces to be coated; closing and evacuating the coating chamber to a predetermined process pressure, starting a coating source, which comprises a target as a material source, whereby particles are accelerated from the surface of the target toward substrates, characterized in that until the target has been conditioned a shield is provided between the target surface and the substrate, wherein meanwhile the substrates to be coated are at least partially subjected to a pretreatment.', image=None, label='C23C', model_output=None, messages=None, model_type='gpt4v', mode=1)\n"
     ]
    },
    {
     "name": "stderr",
     "output_type": "stream",
     "text": [
      "135it [08:58,  1.50s/it]"
     ]
    },
    {
     "name": "stdout",
     "output_type": "stream",
     "text": [
      "Output: C23C 14/00, Expected: C23C, Current Accuracy: 0.5407407407407407, Token Usage: 152\n",
      "PatentData(text='A computing system includes a plurality of processing circuits and a storage device. The processing circuits have at least a first processing circuit and a second processing circuit. The storage device is shared between at least the first processing circuit and the second processing circuit. The first processing circuit performs a whole cache flush operation to prepare exchange data in the storage device. The second processing circuit gets the exchange data from the storage device.', image=None, label='G06F', model_output=None, messages=None, model_type='gpt4v', mode=1)\n"
     ]
    },
    {
     "name": "stderr",
     "output_type": "stream",
     "text": [
      "136it [08:59,  1.36s/it]"
     ]
    },
    {
     "name": "stdout",
     "output_type": "stream",
     "text": [
      "Output: G06F, Expected: G06F, Current Accuracy: 0.5441176470588235, Token Usage: 125\n",
      "PatentData(text='The present invention provides a method for manufacturing a quantum dot color filter. The method for manufacturing a quantum dot color filter of the present invention, after forming a blue sub-pixel part of a quantum dot color filter by applying a photolithographic operation to a transparent organic photoresist material, applies hydrophobicity treatment to the transparent organic photoresist layer so as to make use of hydrophobic characteristics so formed to help coat green quantum dot curable paste and red quantum dot photoresist sequentially on corresponding areas to form, in sequence, a green quantum dot curable paste layer and a red quantum dot photoresist layer located thereon, and then applies photolithographic operations to subject portions of the red quantum dot photoresist layer to etching for forming a green sub-pixel part and a red sub-pixel part of the quantum dot color filter, whereby compared to the conventional ways of manufacturing a quantum dot color filter, at least one round of photolithographic operation can be saved to greatly simplify the manufacturing process, reduce cost, and improve manufacturing efficiency, and it only needs to develop one type of quantum dot photoresist so as to greatly reduce difficulty and cost of development.', image=None, label='G03F', model_output=None, messages=None, model_type='gpt4v', mode=1)\n"
     ]
    },
    {
     "name": "stderr",
     "output_type": "stream",
     "text": [
      "137it [09:00,  1.49s/it]"
     ]
    },
    {
     "name": "stdout",
     "output_type": "stream",
     "text": [
      "Output: G03F 7/00, Expected: G03F, Current Accuracy: 0.5474452554744526, Token Usage: 290\n",
      "PatentData(text='The present invention relates to novel brazing filler metals comprising copper, silver, zinc, manganese and at least one metal selected from the group indium, gallium and tin, the brazing filler metal is free from cadmium and phosphorus, aside from unavoidable impurities, comprising copper, from 15.5 weight percent to 49 weight percent silver, from 10 weight percent to 35 weight percent zinc, from 6 weight percent to 19 weight percent manganese, from 0.1 weight percent to 5 weight percent of at least one metal selected from the group consisting of Indium, Gallium, Tin and combinations thereof, the balance being copper and unavoidable impurities, with the proviso that if the silver content is from 35 weight percent to 49 weight percent, the manganese content is more than 8 weight percent. The present invention further relates to a sandwich brazing filler metal, Use of the brazing filler metal, and a combination of a brazing filler metal with a flux and a method for joining metal parts by brazing, a brazed article.', image=None, label='B23K', model_output=None, messages=None, model_type='gpt4v', mode=1)\n"
     ]
    },
    {
     "name": "stderr",
     "output_type": "stream",
     "text": [
      "138it [09:01,  1.28s/it]"
     ]
    },
    {
     "name": "stdout",
     "output_type": "stream",
     "text": [
      "Output: B23K 35/30, Expected: B23K, Current Accuracy: 0.5507246376811594, Token Usage: 269\n",
      "PatentData(text='The subject of the invention is a device for dispensing a cosmetic composition, comprising a dispensing head (1) intended to be fitted on a container containing said cosmetic composition to be dispensed, (i) the dispensing head comprising: a body (3) that is open at its two opposite axial ends, an engaging part (10) that is open at its two opposite axial ends and at least partially defines at least one dispensing orifice (12), the cross section of the dispensing orifice being between 0.05 mm2 and 0.5 mm2, (ii) the anhydrous cosmetic composition comprising, in a cosmetically acceptable medium, at least one oily phase comprising one or more oils chosen from silicone oils, hydrocarbon-based oils and fluoro oils, at least one cosmetic active agent, in particular at least one deodorant active agent and/or antiperspirant active agent.', image=None, label='B65D', model_output=None, messages=None, model_type='gpt4v', mode=1)\n"
     ]
    },
    {
     "name": "stderr",
     "output_type": "stream",
     "text": [
      "139it [09:02,  1.18s/it]"
     ]
    },
    {
     "name": "stdout",
     "output_type": "stream",
     "text": [
      "Output: A45D, Expected: B65D, Current Accuracy: 0.5467625899280576, Token Usage: 233\n",
      "PatentData(text='The present invention provides a photoresist composition and a color filter manufacturing method. The photoresist composition of the present invention includes a first solvent, a second solvent, a photo initiator, a monomer, a polymer, an additive, and a pigment. After heating, phase separation occurs between the first solvent and the second solvent. After the phase separation, the first solvent is located above the second solvent. At least one of the photo initiator, the monomer, the polymer, and the additive has solubility in the second solvent that is higher than that in the first solvent so as to alleviate the wrinkling issue caused by different degrees of solidification between upper and lower layers of the photoresist during a manufacturing process of a color filter.', image=None, label='G03F', model_output=None, messages=None, model_type='gpt4v', mode=1)\n"
     ]
    },
    {
     "name": "stderr",
     "output_type": "stream",
     "text": [
      "140it [09:04,  1.39s/it]"
     ]
    },
    {
     "name": "stdout",
     "output_type": "stream",
     "text": [
      "Output: G03F 7/004, Expected: G03F, Current Accuracy: 0.55, Token Usage: 200\n",
      "PatentData(text='The subject of the invention is a device for dispensing a cosmetic composition, comprising a dispensing head (1) intended to be fitted on a container containing said cosmetic composition to be dispensed, (i) the dispensing head comprising: a body (3) that is open at its two opposite axial ends, an engaging part (10) that is open at its two opposite axial ends and at least partially defines at least one dispensing orifice (12), the individual cross section of the dispensing orifice being between 0.03 mm2 and 0.5 mm2, and (ii) the cosmetic composition comprising, in a cosmetically acceptable medium, at least one emulsion chosen from a water-in-oil emulsion and an oil-in-water emulsion, at least one cosmetic active agent, in particular at least one deodorant active agent and/or antiperspirant active agent.', image=None, label='A45D', model_output=None, messages=None, model_type='gpt4v', mode=1)\n"
     ]
    },
    {
     "name": "stderr",
     "output_type": "stream",
     "text": [
      "141it [09:13,  3.64s/it]"
     ]
    },
    {
     "name": "stdout",
     "output_type": "stream",
     "text": [
      "Output: A45D, Expected: A45D, Current Accuracy: 0.5531914893617021, Token Usage: 229\n",
      "PatentData(text='The subject of the invention is a device for dispensing a cosmetic composition, said device comprising a dispensing head (1) intended to be fitted on a container containing said cosmetic composition to be dispensed, (i) the dispensing head comprising: a body (3) that is open at its two opposite axial ends, an engaging part (10) that is open at its two opposite axial ends and at least partially defines a dispensing orifice (12), and (ii) the cosmetic composition comprising, in a cosmetically acceptable medium, at least one cosmetic active agent, in particular at least one deodorant active agent and/or antiperspirant active agent, at least one C1 to C5 alcohol, at least one propellant, the concentration of propellant being between 60% and 90% by weight with respect to the total weight of the pressurized composition.', image=None, label='B65D', model_output=None, messages=None, model_type='gpt4v', mode=1)\n"
     ]
    },
    {
     "name": "stderr",
     "output_type": "stream",
     "text": [
      "142it [09:20,  4.77s/it]"
     ]
    },
    {
     "name": "stdout",
     "output_type": "stream",
     "text": [
      "Output: A45D, Expected: B65D, Current Accuracy: 0.5492957746478874, Token Usage: 226\n",
      "PatentData(text='The present invention relates to a band-rejection filter comprising, on a substrate with a ground plane, three printed line sections or “stubs” open circuit at one of their extremities, called first extremities, and first and second printed transmission lines connected in series between an input terminal and an output terminal and connecting between each other the other extremities, called second extremities, said stubs, each of said first and second transmission lines being inserted between the second extremities of two stubs, said stubs being dimensioned to reject a first frequency band. According to the invention, an open circuit stub is inserted in at least one of said first and second printed transmission lines to reject a second frequency band.', image=None, label='H01P', model_output=None, messages=None, model_type='gpt4v', mode=1)\n"
     ]
    },
    {
     "name": "stderr",
     "output_type": "stream",
     "text": [
      "143it [09:21,  3.57s/it]"
     ]
    },
    {
     "name": "stdout",
     "output_type": "stream",
     "text": [
      "Output: H03H 7/46, Expected: H01P, Current Accuracy: 0.5454545454545454, Token Usage: 192\n",
      "PatentData(text='The present invention relates to a tablet capable of sensing a location using electromagnetic induction and electrostatic capacitance. The tablet comprises: a loop antenna, having a closed-loop shape for surrounding a sensing area, capable of sensing an electromagnetic wave emitted from an electronic pen; a first line antenna provided with a plurality of first conductive patterns, both ends of each of the plurality of first conductive patterns being located on one side of the first line antenna; a second line antenna provided with a plurality of second conductive patterns which cross the plurality of first conductive patterns in the sensing area, both ends of each of the plurality of second conductive patterns being located on the side on which the both ends of each of the plurality of first conductive patterns are located; and a control circuit for sensing a location using electromagnetic induction and electrostatic capacitance by controlling a connection relation between the plurality of first conductive patterns and the plurality of second conductive patterns. Accordingly, it is possible to selectively recognize the manipulation of the electronic pen and the touch of a finger with the same antenna pattern.', image=None, label='G06F', model_output=None, messages=None, model_type='gpt4v', mode=1)\n"
     ]
    },
    {
     "name": "stderr",
     "output_type": "stream",
     "text": [
      "144it [09:31,  5.63s/it]"
     ]
    },
    {
     "name": "stdout",
     "output_type": "stream",
     "text": [
      "Output: G06F3/041, Expected: G06F, Current Accuracy: 0.5486111111111112, Token Usage: 263\n",
      "PatentData(text='A projection display component of an electronic device includes a carrier and a first cover. The carrier is arranged to carry the electronic device. The first cover is arranged to partially reflect a projected image from the electronic device. The first cover is attached to the carrier via a first hinge set.', image=None, label='H04N', model_output=None, messages=None, model_type='gpt4v', mode=1)\n"
     ]
    },
    {
     "name": "stderr",
     "output_type": "stream",
     "text": [
      "145it [09:32,  4.10s/it]"
     ]
    },
    {
     "name": "stdout",
     "output_type": "stream",
     "text": [
      "Output: G03B, Expected: H04N, Current Accuracy: 0.5448275862068965, Token Usage: 101\n",
      "PatentData(text='An aluminum alloy brazing sheet which is thin but has excellent weldability and post-brazing strength. An aluminum alloy brazing sheet having a core material comprising an aluminum alloy, an Al—Si based brazing filler metal clad on one surface of the core material and a sacrificial anode material clad on the other surface of the core material: wherein the core material comprises certain amounts of Si, Fe, Cu and Mn and certain amounts of one, two or more selected from Ti, Zr, Cr and V; the sacrificial anode material comprises certain amounts of Si, Fe, Mg and Zn; in a cross section parallel to the longitudinal direction and along the thickness direction, the interface between the core material and the sacrificial anode material includes 300 pieces/mm or less of an Al—Mg—Cu based intermetallic compound; and the core material and the sacrificial anode material have an unrecrystallized structure.', image=None, label='F28F', model_output=None, messages=None, model_type='gpt4v', mode=1)\n"
     ]
    },
    {
     "name": "stderr",
     "output_type": "stream",
     "text": [
      "146it [09:33,  3.11s/it]"
     ]
    },
    {
     "name": "stdout",
     "output_type": "stream",
     "text": [
      "Output: C22C 21/00, Expected: F28F, Current Accuracy: 0.541095890410959, Token Usage: 243\n",
      "PatentData(text='A pneumatic tire includes plural land portions that are provided at a tread and that are partitioned by plural circumferential direction grooves that extend along a tire circumferential direction. A lug groove is provided at at least one land portion among the plural land portions and crosses the land portion in a tire width direction. A fine groove is provided at a groove bottom portion of the lug groove, has a narrower groove width than the lug groove, and has a groove bottom face formed with a circular arc shaped profile when viewed in cross-section at right angles to a groove length direction. A coupling curved face joins the groove bottom face and a groove side face at a length direction end portion of the fine groove, to a groove side face of the circumferential direction grooves.', image=None, label='B60C', model_output=None, messages=None, model_type='gpt4v', mode=1)\n"
     ]
    },
    {
     "name": "stderr",
     "output_type": "stream",
     "text": [
      "147it [09:34,  2.40s/it]"
     ]
    },
    {
     "name": "stdout",
     "output_type": "stream",
     "text": [
      "Output: B60C 11/00, Expected: B60C, Current Accuracy: 0.54421768707483, Token Usage: 204\n",
      "PatentData(text='A forward and backward speed adjusting handle for an electric vehicle includes a bar handle, a fixing element formed by a handle seat, and a twist grip. A leftward rotation spring and a rightward rotation spring are provided between the fixing element and the twist grip. The leftward rotation spring drives the twist grip to rotate counter-clockwise relative to the bar handle; the rightward rotation spring drives the twist grip to rotate clockwise relative to the bar handle. Under a common effect of the two springs, the twist grip is at an idle position. When the twist grip is applied with an external force, the twist grip is rotated away from the idle position. A Hall-effect sensor and an arc permanent magnet are respectively provided on the twist grip and the fixing element. When the twist grip is rotated, the Hall-effect sensor moves relative to the arc permanent magnet.', image=None, label='B62K', model_output=None, messages=None, model_type='gpt4v', mode=1)\n"
     ]
    },
    {
     "name": "stderr",
     "output_type": "stream",
     "text": [
      "148it [09:34,  1.86s/it]"
     ]
    },
    {
     "name": "stdout",
     "output_type": "stream",
     "text": [
      "Output: B62L, Expected: B62K, Current Accuracy: 0.5405405405405406, Token Usage: 215\n",
      "PatentData(text='A liquid crystal composition satisfying at least one of characteristics such as a high maximum temperature of nematic phase, a low minimum temperature of nematic phase, small viscosity, suitable optical anisotropy, large dielectric anisotropy, large specific resistance, and high stability to UV light and heat, or having a suitable balance regarding at least two thereof, and an AM device including the composition and having a short response time, a large voltage holding ratio, a large contrast ratio or a long service life are shown. The composition has the nematic phase and contains a specific compound having large dielectric anisotropy as a first component, a specific compound having small viscosity as a second component, and may contain a specific compound having a high maximum temperature or small viscosity as a third component and a specific compound having large dielectric anisotropy as a fourth component. The LCD device includes the composition.', image=None, label='C09K', model_output=None, messages=None, model_type='gpt4v', mode=1)\n"
     ]
    },
    {
     "name": "stderr",
     "output_type": "stream",
     "text": [
      "149it [09:35,  1.55s/it]"
     ]
    },
    {
     "name": "stdout",
     "output_type": "stream",
     "text": [
      "Output: C09K 19/52, Expected: C09K, Current Accuracy: 0.5436241610738255, Token Usage: 231\n",
      "PatentData(text='A memory pool management method includes: allocating a plurality of memory pools in a memory device according to information about a plurality of computing units, wherein the computing units are independently executed on a same processor; and assigning one of the memory pools to one of the computing units, wherein at least one of the memory pools is shared among different computing units of the computing units.', image=None, label='G06F', model_output=None, messages=None, model_type='gpt4v', mode=1)\n"
     ]
    },
    {
     "name": "stderr",
     "output_type": "stream",
     "text": [
      "150it [09:36,  1.33s/it]"
     ]
    },
    {
     "name": "stdout",
     "output_type": "stream",
     "text": [
      "Output: G06F12/02, Expected: G06F, Current Accuracy: 0.5466666666666666, Token Usage: 120\n",
      "PatentData(text='A jewelry system with interchangeable decorative segments is provided. The jewelry system includes a plurality of decorative segments, each such segment having a center aperture that extends through the segment along a vertical axis in the center of the segment from a top surface to a bottom surface. The jewelry system also includes a central rod for receiving one or more segments, the rod including a stopper at the lower end to support the received segments and an eyelet at the upper end to receive a chain which when received, prevents the received segments from slipping off the top part of the rod while also facilitating the jewelry to be worn.', image=None, label='A44C', model_output=None, messages=None, model_type='gpt4v', mode=1)\n"
     ]
    },
    {
     "name": "stderr",
     "output_type": "stream",
     "text": [
      "151it [09:54,  6.45s/it]"
     ]
    },
    {
     "name": "stdout",
     "output_type": "stream",
     "text": [
      "Output: A44C 17/00, Expected: A44C, Current Accuracy: 0.5496688741721855, Token Usage: 168\n",
      "PatentData(text='The invention relates to a fabric comprising at least one weft thread and at least one warp thread, wherein the fabric exhibits a polymer layer on at least one surface, characterized in that the diameter of the weft thread is larger than the diameter of the warp thread, the use of this fabric, as well as a process for the production thereof.', image=None, label='B08B', model_output=None, messages=None, model_type='gpt4v', mode=1)\n"
     ]
    },
    {
     "name": "stderr",
     "output_type": "stream",
     "text": [
      "152it [09:56,  4.93s/it]"
     ]
    },
    {
     "name": "stdout",
     "output_type": "stream",
     "text": [
      "Output: D03D, Expected: B08B, Current Accuracy: 0.5460526315789473, Token Usage: 114\n",
      "PatentData(text='An electronic cigarette case, comprising a case body (2) and a case cover (1) movably connected to the case body (2), also comprising a flexible structure (3). One end of the flexible structure (3) is connected to the case body (2), while the other end is connected to the case cover (1). When opening the case cover (1), the flexible structure (3) undergoes a first elastic deformation along a moving direction of the case cover (1) relative to the case body (2). When closing the case cover (1), the flexible structure (3) undergoes a second elastic deformation in a direction opposite to the moving direction in which the first elastic deformation occurs. The electronic cigarette case is structurally simple and low-cost.', image=None, label='A24F', model_output=None, messages=None, model_type='gpt4v', mode=1)\n"
     ]
    },
    {
     "name": "stderr",
     "output_type": "stream",
     "text": [
      "153it [09:56,  3.69s/it]"
     ]
    },
    {
     "name": "stdout",
     "output_type": "stream",
     "text": [
      "Output: A24F 15/00, Expected: A24F, Current Accuracy: 0.5490196078431373, Token Usage: 204\n",
      "PatentData(text='Rotary indexing device for manufacturing packaging tubes, comprising an indexing turntable (3) mounted in a rotary manner about an axis (9), and mandrels (4) and respective supports (14) secured to said turntable (3) and disposed radially with respect to said axis (9); radial actuating means (10, 11) for moving the mandrels (4) in a direction perpendicular to said axis (9) and linear guide means (13) for moving the mandrels (4) in a direction perpendicular to said axis (9); characterized in that the mandrels and respective supports (14), the radial actuating means (10, 11) and the linear guide means (13) are disposed in a direction parallel to said axis (9).', image=None, label='B29C', model_output=None, messages=None, model_type='gpt4v', mode=1)\n"
     ]
    },
    {
     "name": "stderr",
     "output_type": "stream",
     "text": [
      "154it [09:57,  2.81s/it]"
     ]
    },
    {
     "name": "stdout",
     "output_type": "stream",
     "text": [
      "Output: B65B 59/00, Expected: B29C, Current Accuracy: 0.5454545454545454, Token Usage: 205\n",
      "PatentData(text='An electromagnetic actuating apparatus with two armature means which are designed to exert an actuating force on two tappet units which are extended in the longitudinal direction along a longitudinal movement axis and are guided such that they can be moved in a parallel manner in a common guide section of a housing which accommodates the armature means, wherein the tappet units each have an engagement end which is designed to interact with an actuating groove in a motor vehicle motor adjustment system and projects from the guide section at least in an engaged state, and the common guide section forms a guide end surface in which guide openings associated with the two tappet units, are open, wherein a connecting path which runs through centre axes of the only two guide openings in the guide end surface forms an offset (v) from a surface centre point of the guide end surface and/or from a surface centre point of a housing end surface of the housing, wherein the surface centre point lies on a perpendicular bisector of the connecting path.', image=None, label='F01L', model_output=None, messages=None, model_type='gpt4v', mode=1)\n"
     ]
    },
    {
     "name": "stderr",
     "output_type": "stream",
     "text": [
      "155it [10:04,  3.90s/it]"
     ]
    },
    {
     "name": "stdout",
     "output_type": "stream",
     "text": [
      "Output: F16H 21/00, Expected: F01L, Current Accuracy: 0.5419354838709678, Token Usage: 250\n",
      "PatentData(text='A programming device creating a program in FBD language describing processes by connecting FBD parts on an editor screen, includes: a part information managing unit managing size information indicating a size of an FBD part; a recommended order determining unit acquiring, when operation to newly arrange an FBD part relative to an already-arranged FBD part on the editor screen is performed, size information on the already-arranged FBD part and size information on the FBD part to be newly arranged, from the part information managing unit, detecting regions where the FBD part to be newly arranged can be arranged based on the acquired size information, and determining a recommended priority order of part arrangement among the regions based on positions of the detected regions; and an editor unit displaying the recommended priority order determined by the recommended order determining unit in the regions.', image=None, label='G06F', model_output=None, messages=None, model_type='gpt4v', mode=1)\n"
     ]
    },
    {
     "name": "stderr",
     "output_type": "stream",
     "text": [
      "156it [10:09,  4.28s/it]"
     ]
    },
    {
     "name": "stdout",
     "output_type": "stream",
     "text": [
      "Output: G05B 19/05, Expected: G06F, Current Accuracy: 0.5384615384615384, Token Usage: 215\n",
      "PatentData(text='A parenteral vial, stopper and cap assembly comprises a vial having a body defining an interior, and an opening leading to the interior. The assembly further comprises a stopper configured to sealingly engage the opening, a cap configured to cover the opening and the stopper. The stopper and the cap fit together to form an integral unit configured to cap the vial. The cap moves with respect to the vial between a partially engaged position that permits gas flow out from the vial interior, and a fully engaged position in which the stopper sealingly engages the opening.', image=None, label='A61J', model_output=None, messages=None, model_type='gpt4v', mode=1)\n"
     ]
    },
    {
     "name": "stderr",
     "output_type": "stream",
     "text": [
      "157it [10:15,  4.88s/it]"
     ]
    },
    {
     "name": "stdout",
     "output_type": "stream",
     "text": [
      "Output: B65D55/02, Expected: A61J, Current Accuracy: 0.535031847133758, Token Usage: 166\n",
      "PatentData(text='Many internet of things (IoT) are “sleepy” and thus occasionally go into a sleep mode. As described herein, nodes in a connected network of nodes may determine that other nodes in the network are sleepy. Further, nodes, such as endpoint devices and routers for example, may process packets in the network based on a reachability state of their neighboring nodes.', image=None, label='H04W', model_output=None, messages=None, model_type='gpt4v', mode=1)\n"
     ]
    },
    {
     "name": "stderr",
     "output_type": "stream",
     "text": [
      "158it [10:16,  3.66s/it]"
     ]
    },
    {
     "name": "stdout",
     "output_type": "stream",
     "text": [
      "Output: H04W, Expected: H04W, Current Accuracy: 0.5379746835443038, Token Usage: 119\n",
      "PatentData(text='A system for preparing recipes with components coming from closed containers (S1-S5) provides for using one or more robotic units (1), each of which withdraws a selected container, arranging a plurality of hoppers (7.1-7.5), in each of which the withdrawn selected container is inserted by the robotic unit (1), and in each of which the container is automatically opened for loading the component into the hopper (7), discharging a preset component dose from each hopper (7), and collecting the dosed components for preparing the required recipe; a driving and control unit (15) provides for driving and controlling all of these operations as a function of the required recipe. Thereby, an automatic system for preparing recipes is achieved, which is fast, with a low processing cost, and free from risks related to the processing.', image=None, label='B01F', model_output=None, messages=None, model_type='gpt4v', mode=1)\n"
     ]
    },
    {
     "name": "stderr",
     "output_type": "stream",
     "text": [
      "159it [10:24,  4.89s/it]"
     ]
    },
    {
     "name": "stdout",
     "output_type": "stream",
     "text": [
      "Output: A23P 1/00, Expected: B01F, Current Accuracy: 0.5345911949685535, Token Usage: 220\n",
      "PatentData(text='The present invention relates to sample holders for holding a sample, particularly for an atomic force microscope. Such a sample holder comprising a sample dish (1) comprising a bottom (2), and an opening (3) arranged in said bottom (2) for receiving and holding the sample (15). Furthermore the present invention relates to a sample holder system and to a method for transferring an e.g. biological sample (15) from a biopsy tool (18) to a sample holder.', image=None, label='G01Q', model_output=None, messages=None, model_type='gpt4v', mode=1)\n"
     ]
    },
    {
     "name": "stderr",
     "output_type": "stream",
     "text": [
      "160it [10:24,  3.65s/it]"
     ]
    },
    {
     "name": "stdout",
     "output_type": "stream",
     "text": [
      "Output: G12B-3/00, Expected: G01Q, Current Accuracy: 0.53125, Token Usage: 144\n",
      "PatentData(text='The problem to be solved by the present invention is to provide a polyester resin excellent in various properties wherein the film formability is good, film fracture (hairs) and scraping (galling) are not easily generated in the drawing/ironing process when applied to a metal-sheet-coating polyester film, the film surface is not damaged when used as the inner-surface film for a metallic can, and the metallic can is hardly corroded (dent resistance), by dropping or external impact (denting), after a product is made by enclosing contents into the can. The copolyester resin of the present invention is characterized by comprising, as the constituent units, 50 to 93 mass % of (A) ester oligomer with the number-average molecular weight of 700 or lower and consisting of a dicarboxylic acid unit (a1) containing 70 mole % or more of the terephthalic acid component and a diol unit (a2) containing 70 mole % or more of the ethylene glycol component; and 7 to 50 mass % of (B) polyester polyol with the number-average molecular weight of 1500 to 3000 and consisting of a hydrogenated dimer acid unit (b1) and a 1,4-butanediol unit (b2).', image=None, label='C09D', model_output=None, messages=None, model_type='gpt4v', mode=1)\n"
     ]
    },
    {
     "name": "stderr",
     "output_type": "stream",
     "text": [
      "161it [10:28,  3.77s/it]"
     ]
    },
    {
     "name": "stdout",
     "output_type": "stream",
     "text": [
      "Output: C08G 63/00, Expected: C09D, Current Accuracy: 0.5279503105590062, Token Usage: 320\n",
      "PatentData(text='The invention relates to a carburetor assembly (10) for a two-stroke internal combustion engine, the assembly comprising a main intake passage (12) accommodating a throttle valve (30), an additional air passage (14) accommodating an additional air valve (50), a pivotable air valve lever (55) turning together with the air valve (50), and an interlock lever (35) turning together with the throttle valve (30). The interlock lever (35) is configured to be settable in an interlocked pivotal position, in which the throttle valve (30) is open to a certain degree in order to provide a start gas position of the throttle valve (30), wherein the interlock is arranged to be released if the interlock lever (35) is pivoted further in the opening direction of the throttle valve (30). The assembly further comprising a pivotable trigger lever (45) responsive to e.g. pulling of a throttle trigger and being operatively connected to the air valve lever (55). The pivotable trigger lever (45) is operatively connectable to the interlock lever (35) or a member that moves with the interlock lever (35) via an abutting engagement at predetermined relative positions of the trigger lever (45) and the interlock lever (35). Further, the trigger lever (45) is arranged to permit the interlock lever (35) to pivot away from the abutting engagement in the opening direction of the throttle valve (30) at least to an offset angle ( ) relative to the trigger lever (45), such that the interlocked lever (35) can be set in the interlocked position without affecting the pivotal position of the trigger lever (45).', image=None, label='F02M', model_output=None, messages=None, model_type='gpt4v', mode=1)\n"
     ]
    },
    {
     "name": "stderr",
     "output_type": "stream",
     "text": [
      "162it [10:31,  3.48s/it]"
     ]
    },
    {
     "name": "stdout",
     "output_type": "stream",
     "text": [
      "Output: F02M, Expected: F02M, Current Accuracy: 0.5308641975308642, Token Usage: 390\n",
      "PatentData(text='One variation may include a method of controlling exhaust gas flow in an internal combustion engine system, and products and systems using same.', image=None, label='F01N', model_output=None, messages=None, model_type='gpt4v', mode=1)\n"
     ]
    },
    {
     "name": "stderr",
     "output_type": "stream",
     "text": [
      "163it [10:32,  2.61s/it]"
     ]
    },
    {
     "name": "stdout",
     "output_type": "stream",
     "text": [
      "Output: F01N, Expected: F01N, Current Accuracy: 0.5337423312883436, Token Usage: 70\n",
      "PatentData(text='Methods and apparatus for connecting a user equipment to at least one of a plurality of radio access networks. Retrieving charging data for a subscription of a user of the telecommunications network. Transmitting the charging data to one or more of the user equipment and a radio access network node of the one or more of the plurality of radio access networks. Selecting, at least partially, at least one of the plurality of radio access networks based on one or more of: the charging data received from the core network node and selection data received from the user equipment and relating to a selection of one of the plurality of radio access networks by the user equipment. Connecting the user equipment to at least one of the plurality of radio access nodes, the connection being based at least partly on the selection made by the radio access network selector of the radio access network node.', image=None, label='H04W', model_output=None, messages=None, model_type='gpt4v', mode=1)\n"
     ]
    },
    {
     "name": "stderr",
     "output_type": "stream",
     "text": [
      "164it [10:33,  2.09s/it]"
     ]
    },
    {
     "name": "stdout",
     "output_type": "stream",
     "text": [
      "Output: H04W4/00, Expected: H04W, Current Accuracy: 0.5365853658536586, Token Usage: 215\n",
      "PatentData(text='In a programmable controller system, a program display device includes: a command name conversion table; a second conversion unit that receives a program list from a programmable controller and converts a command number described in the program list into a command name on the basis of a command name conversion table; a non-corresponding command name acquisition unit that acquires a command name corresponding to a non-corresponding command number among the command numbers described in the program list on the basis of an additional command information table; and a display unit that displays the command name converted by the second conversion unit and the command name acquired by the non-corresponding command name acquisition unit.', image=None, label='G05B', model_output=None, messages=None, model_type='gpt4v', mode=1)\n"
     ]
    },
    {
     "name": "stderr",
     "output_type": "stream",
     "text": [
      "165it [10:35,  2.07s/it]"
     ]
    },
    {
     "name": "stdout",
     "output_type": "stream",
     "text": [
      "Output: G05B 19/05, Expected: G05B, Current Accuracy: 0.5393939393939394, Token Usage: 180\n",
      "PatentData(text='The present invention relates to a unit and a method for energy regulation of an electrical production and consumption system as well as such a system. The regulating unit (1) comprises means for storing a plurality of estimated mean production and/or consumption values, means for decoding the instantaneous productions and/or consumption thus measured, processing means for calculating the average instantaneous productions and/or consumption measured per given time period, calculating and recording the deviation between each instantaneous average production or consumption thus calculated and each estimated production or consumption value, and formulating/generating and revising an estimated and previously recorded production and/or consumption value, as well as means for driving the system regulation means according to a function whose parameters comprise the production and/or consumption values estimated for the current given time period.', image=None, label='G05F', model_output=None, messages=None, model_type='gpt4v', mode=1)\n"
     ]
    },
    {
     "name": "stderr",
     "output_type": "stream",
     "text": [
      "166it [10:35,  1.65s/it]"
     ]
    },
    {
     "name": "stdout",
     "output_type": "stream",
     "text": [
      "Output: G05F, Expected: G05F, Current Accuracy: 0.5421686746987951, Token Usage: 194\n",
      "PatentData(text='The present invention relates to novel alternative splice transcripts (AST) for MICA (MHC class I related chain alpha) encoding novel MICA protein isoforms and uses thereof. In particular, the present invention relates to an isolated polypeptide at least 80% of identity with a sequence selected from the group consisting of SEQ ID NO:1 (MICA-A), SEQ ID NO:2 (MICA-B1), SEQ ID NO:3 (MICA-B2); SEQ ID NO:4 (MICA-C) and SEQ ID NO: (MICA-D).', image=None, label='C07K', model_output=None, messages=None, model_type='gpt4v', mode=1)\n"
     ]
    },
    {
     "name": "stderr",
     "output_type": "stream",
     "text": [
      "167it [10:36,  1.33s/it]"
     ]
    },
    {
     "name": "stdout",
     "output_type": "stream",
     "text": [
      "Output: C07K, Expected: C07K, Current Accuracy: 0.5449101796407185, Token Usage: 161\n",
      "PatentData(text='Personal cleansers and surfactant blends useful therein are disclosed. The cleansers comprise a primary anionic surfactant, a saturated C8-C-14 alkyl N,N-dialkylamide, and water. The cleansers have good foaming properties and improved viscosity build profiles compared with cleansers that rely on alkanolamides or betaines as the secondary surfactant. The saturated C8-C14 alkyl N,N-dialkylamides are water-white liquids that solubilize cleanser components well, including high levels of fragrances, and can be formulated easily without heating at any actives level up to 100%. Importantly, the surfactant blends build viscosity with less added salt compared with alkanolamide or betaine-based blends, even with more challenging anionic surfactants. Moisturizing cleansers disclosed herein have excellent flash foaming character, foam volume, and foam feel and provide a luxurious, lotion-like after-feel. The personal cleansers include, among others, shampoos, body washes, facial cleansers, shower gels, liquid soaps, hand soaps, baby liquid cleansers, pet shampoos, and bubble baths. The fatty N,N-dialkylamides are also valuable for formulating oil-in-water emulsions with good stability.', image=None, label='A61K', model_output=None, messages=None, model_type='gpt4v', mode=1)\n"
     ]
    },
    {
     "name": "stderr",
     "output_type": "stream",
     "text": [
      "168it [10:45,  3.65s/it]"
     ]
    },
    {
     "name": "stdout",
     "output_type": "stream",
     "text": [
      "Output: A61K, Expected: A61K, Current Accuracy: 0.5476190476190477, Token Usage: 319\n",
      "PatentData(text='A display device, a reflective display panel and the reflective unit are disclosed. The reflective display panel includes a top substrate unit; a down substrate unit opposite to the top substrate unit; a liquid crystal layer arranged between the top substrate unit and the down substrate unit; a mirror reflective layer arranged at an inner side of the down substrate unit; a color-film polarizer unit arranged at an outer side of the top substrate unit; and wherein external light beams are reflected by the mirror reflective layer and pass through the color-film polarizer unit to generate diffused reflection effect. Compared to conventional technology, the cost of the mask may be reduced and the manufacturing process may be simplified. In this way, the defects are avoided and the reflection performance is enhanced.', image=None, label='G02F', model_output=None, messages=None, model_type='gpt4v', mode=1)\n"
     ]
    },
    {
     "name": "stderr",
     "output_type": "stream",
     "text": [
      "169it [10:47,  3.25s/it]"
     ]
    },
    {
     "name": "stdout",
     "output_type": "stream",
     "text": [
      "Output: G02F 1/1335, Expected: G02F, Current Accuracy: 0.5502958579881657, Token Usage: 200\n",
      "PatentData(text='A control method for an electrical hair removal device, the electrical hair removal device including a heat generator having a heating wire formed thereon, including the steps of step S11: starting the electrical hair removal device and letting it go into a standby state; step S12: placing the heat generator on an hair removal needed area; and step S13: electrifying the heating wire to a predetermined temperature, for realizing hair removal with a constant heating temperature. An electrical hair removal device includes a main body and a cover for accommodating the main body. The main body has a heat generator having a heating wire thereon, a supporting element and a printed circuit board (PCB). The heating wire is electrically connected to the PCB, which is electrified and heated to a predetermined temperature, for realizing hair removal with a constant heating temperature.', image=None, label='A45D', model_output=None, messages=None, model_type='gpt4v', mode=1)\n"
     ]
    },
    {
     "name": "stderr",
     "output_type": "stream",
     "text": [
      "170it [10:53,  3.88s/it]"
     ]
    },
    {
     "name": "stdout",
     "output_type": "stream",
     "text": [
      "Output: A45D, Expected: A45D, Current Accuracy: 0.5529411764705883, Token Usage: 211\n",
      "PatentData(text='Methods of compensating for source signature effects in seismic data are described. One method includes a step of receiving seismic data recorded with a receiver; a step of receiving source data of the seismic waves generated by the moving source; a step of receiving position data of the source while generating the seismic waves; a step of determining a transform operator using the source data, the position data, and a selected domain-transform operator; a step of determining a seismic model by mathematically optimizing a relationship between the transform and the seismic data; and a step of compensating for the source signature effects in the seismic data using the seismic model. A method for generating an image of a subsurface of a geographical area using seismic data includes compensating the seismic data for source signature effects using a model which assumes a moving, non-impulsive source.', image=None, label='G01V', model_output=None, messages=None, model_type='gpt4v', mode=1)\n"
     ]
    },
    {
     "name": "stderr",
     "output_type": "stream",
     "text": [
      "171it [10:54,  3.13s/it]"
     ]
    },
    {
     "name": "stdout",
     "output_type": "stream",
     "text": [
      "Output: G01V 1/28, Expected: G01V, Current Accuracy: 0.5555555555555556, Token Usage: 214\n",
      "PatentData(text='An electrode slipping device comprises an upper holder and a lower holder, both holders containing one or more clamping shoes and one or more clamping cylinders in cooperation with the clamping shoes. The clamping shoes are operable between a position where the electrode is clamped and a position where the electrode is unclamped. The clamping cylinder is connected to the electrode holder by first fastening means and to the clamping shoe by second fastening means such that the clamping cylinder can be released from engagement with the holder by unlocking both sets of fastening means.', image=None, label='H05B', model_output=None, messages=None, model_type='gpt4v', mode=1)\n"
     ]
    },
    {
     "name": "stderr",
     "output_type": "stream",
     "text": [
      "172it [10:59,  3.58s/it]"
     ]
    },
    {
     "name": "stdout",
     "output_type": "stream",
     "text": [
      "Output: B25B 5/00, Expected: H05B, Current Accuracy: 0.5523255813953488, Token Usage: 162\n",
      "PatentData(text='An internal combustion heat engine, of which the architecture of one elementary “cylinder” includes 4 identical mobile couplings distributed about the Z axis of the engine, consisting of a segmented “piston” driven by the crank pin of a crankshaft and guided by a roller rolling in a slide. The crankshafts, which are parallel and synchronised by a gear mechanism, perform one revolution per cycle. Each piston includes a sliding surface that nearly touches the cylinder face of the adjacent piston, but on which the segmentation slides in sealed contact. The concave shape of the 4 overlapping faces encloses a chamber volume that changes cyclically: at a minimum, having a quasi-spherical shape during combustion, reducing the heat losses at the walls, and at a maximum, uncovering the ports allowing intake and exhaust via transfer units and manifolds with the possibility of more economical Miller/Atkinson distribution, via rotary plates.', image=None, label='F01B', model_output=None, messages=None, model_type='gpt4v', mode=1)\n"
     ]
    },
    {
     "name": "stderr",
     "output_type": "stream",
     "text": [
      "173it [11:10,  5.94s/it]"
     ]
    },
    {
     "name": "stdout",
     "output_type": "stream",
     "text": [
      "Output: F02B, Expected: F01B, Current Accuracy: 0.5491329479768786, Token Usage: 231\n",
      "PatentData(text='A method for screening catalytic peptides using phage display technology is disclosed. A compound is exposed to a phage library. If a peptide in the library catalyzes a reaction, a gel is formed about the phage that displays the peptide. The gel, including the first phage, is separated from un-reacted phages and released from the gel. The phage is then replicated and analyzed to determine the composition of the peptide that functioned as a catalyst.', image=None, label='C12N', model_output=None, messages=None, model_type='gpt4v', mode=1)\n"
     ]
    },
    {
     "name": "stderr",
     "output_type": "stream",
     "text": [
      "174it [11:13,  5.01s/it]"
     ]
    },
    {
     "name": "stdout",
     "output_type": "stream",
     "text": [
      "Output: C12N 15/10, Expected: C12N, Current Accuracy: 0.5517241379310345, Token Usage: 144\n",
      "PatentData(text='An electromagnetic valve device with an armature unit (10) which is designed for carrying out an opening or closing operation of a fluid channel and, as a reaction to stationary coil means (18, 20, 22), which at least partially surround the armature unit, being energized, is driveable so as to be movable along an axial direction (12) relative thereto, wherein the coil means have a coil former (20) which forms a winding section (20) for a winding (22) to be energized, and the coil former forms an axially extending inner casing which is designed for guiding the armature unit and in the lateral surface of which slot- or groove-like channels (54) permitting drainage of an armature movement space are formed, wherein the coil former provides a channel outlet (56) for the channels (54) lying axially opposite an inlet- or respectively outlet section (24) of the fluid channel and on the end face, with which channel outlet blocking and/or deflection means against infiltrating intrusive media are associated.', image=None, label='F16K', model_output=None, messages=None, model_type='gpt4v', mode=1)\n"
     ]
    },
    {
     "name": "stderr",
     "output_type": "stream",
     "text": [
      "175it [11:14,  3.71s/it]"
     ]
    },
    {
     "name": "stdout",
     "output_type": "stream",
     "text": [
      "Output: F16K, Expected: F16K, Current Accuracy: 0.5542857142857143, Token Usage: 259\n",
      "PatentData(text='An apparatus (10) and method for controlling an angular position of a camshaft (12) in an internal combustion engine having a camshaft phaser (14) for controllably varying the phase relationship between a crankshaft of the internal combustion engine and the camshaft (12). The camshaft phaser (14) can be actuated by an electric motor (16) having an actuator shaft (18) operating through a gear reduction drive train (20) having a stationary adjusting member (22) which rotates when a phase change adjustment is desired. A sensor (30) can generate a signal corresponding to an angular position of the stationary adjusting member (22) of the gear reduction drive train (20). An engine control unit (40) can adjust a position of the camshaft (12) through operation of the electric motor (16) for rotating the stationary adjusting member (22) based on the generated signal corresponding to the angular position of the stationary adjusting member (22).', image=None, label='F01L', model_output=None, messages=None, model_type='gpt4v', mode=1)\n"
     ]
    },
    {
     "name": "stderr",
     "output_type": "stream",
     "text": [
      "176it [11:15,  2.88s/it]"
     ]
    },
    {
     "name": "stdout",
     "output_type": "stream",
     "text": [
      "Output: F01L 1/34, Expected: F01L, Current Accuracy: 0.5568181818181818, Token Usage: 246\n",
      "PatentData(text='The present invention is related to an intermediate node, an end node, and method for avoiding latency in a packet-switched network. According to the invention, the maximum bandwidth per flow is determined locally and transferred from the sending node to the receiving node. At each node, the information is updated if a lower local value is computed. By adjusting the transmission rate based on the maximum bandwidth per flow receiving at the receiving node, the link capacity can be optimally utilized and congestion can be minimized.', image=None, label='H04L', model_output=None, messages=None, model_type='gpt4v', mode=1)\n"
     ]
    },
    {
     "name": "stderr",
     "output_type": "stream",
     "text": [
      "177it [11:15,  2.25s/it]"
     ]
    },
    {
     "name": "stdout",
     "output_type": "stream",
     "text": [
      "Output: H04L, Expected: H04L, Current Accuracy: 0.559322033898305, Token Usage: 143\n",
      "PatentData(text='A workpiece having a coating which has at least one TiB2 layer, characterized in that the TiB2 layers have a texture, in the XRD-spectrum, which leads to significant peaks which display a pronounced (002) orientation. The invention also relates to a method for producing said type of workpiece with a coating.', image=None, label='C23C', model_output=None, messages=None, model_type='gpt4v', mode=1)\n"
     ]
    },
    {
     "name": "stderr",
     "output_type": "stream",
     "text": [
      "178it [11:16,  1.76s/it]"
     ]
    },
    {
     "name": "stdout",
     "output_type": "stream",
     "text": [
      "Output: C23C, Expected: C23C, Current Accuracy: 0.5617977528089888, Token Usage: 112\n",
      "PatentData(text='A video decoding method includes determining, from among a first sample and a second sample with different color components, at least one second sample that is used to correct a value of the first sample; determining a filter parameter set based on a band including the value of the first sample, wherein the band is from among a plurality of bands determined by dividing a total range of sample values into signaled intervals or predetermined intervals; and filtering a value of the at least one second sample by using the determined filter parameter set and correcting the value of the first sample by using a value obtained by the filtering, wherein the first sample is any one of a luma sample and a chroma sample, and the second sample is any one of the luma sample and the chroma sample that is not the first sample.', image=None, label='H04N', model_output=None, messages=None, model_type='gpt4v', mode=1)\n"
     ]
    },
    {
     "name": "stderr",
     "output_type": "stream",
     "text": [
      "179it [11:18,  1.69s/it]"
     ]
    },
    {
     "name": "stdout",
     "output_type": "stream",
     "text": [
      "Output: H04N 19/00, Expected: H04N, Current Accuracy: 0.5642458100558659, Token Usage: 207\n",
      "PatentData(text='A heat transfer profile has coaxial cylindrical inner and outer peripheries. A cylindrical first space is formed inside the inner periphery. The cylindrical outer periphery has a shape cut on at least one side. Blade-like heat transfer flanges extend between and contact both the inner periphery and the outer periphery. A second space is provided inside the cut part of the outer periphery, defined in part by a section of the inner periphery and two heat transfer flanges. The second space is open at least from the cut side of the outer periphery to the exterior of the outer periphery.', image=None, label='F28F', model_output=None, messages=None, model_type='gpt4v', mode=1)\n"
     ]
    },
    {
     "name": "stderr",
     "output_type": "stream",
     "text": [
      "180it [11:18,  1.47s/it]"
     ]
    },
    {
     "name": "stdout",
     "output_type": "stream",
     "text": [
      "Output: F28F, Expected: F28F, Current Accuracy: 0.5666666666666667, Token Usage: 166\n",
      "PatentData(text=\"A bone screw includes a screw shaft with an external thread. The screw shaft anchors the bone screw in a bone. A proximal end of the screw shaft includes a screw head. The ratio between the outer thread diameter and the thread core diameter increases toward the screw head in a proximal screw shaft portion or in the area of the thread's run-out.\", image=None, label='A61B', model_output=None, messages=None, model_type='gpt4v', mode=1)\n"
     ]
    },
    {
     "name": "stderr",
     "output_type": "stream",
     "text": [
      "181it [11:30,  4.50s/it]"
     ]
    },
    {
     "name": "stdout",
     "output_type": "stream",
     "text": [
      "Output: A61B, Expected: A61B, Current Accuracy: 0.569060773480663, Token Usage: 116\n",
      "PatentData(text='A method for continuously detecting a fill level of a conveyor for transporting containers on a transport plane includes forming a container stream along said first transport section of the conveyor, forming a container knot at a measuring section, the container knot comprising a tightly packed multi-row stream of containers, using a first contactless distance sensor, measuring a distance from a first side of the measuring section to the container knot, and, based on the measured distance, determining a fill level of the conveyor.', image=None, label='B65G', model_output=None, messages=None, model_type='gpt4v', mode=1)\n"
     ]
    },
    {
     "name": "stderr",
     "output_type": "stream",
     "text": [
      "182it [11:31,  3.36s/it]"
     ]
    },
    {
     "name": "stdout",
     "output_type": "stream",
     "text": [
      "Output: B65G 43/10, Expected: B65G, Current Accuracy: 0.5714285714285714, Token Usage: 143\n",
      "PatentData(text='Provided are a method and a system for theme management. According to the method, a client obtains a desktop theme, extracts characteristic value information of one or more comparative items from the desktop theme, then sends the characteristic value information of the one or more comparative items of the desktop theme to the theme management server; the theme management server calculates and obtains similarity degrees between a plurality of desktop themes and a pre-selected reference desktop theme by using a plurality of similarity-degree-calculation-dimensions; ranks the similarity degrees of the plurality of desktop themes; selects a pre-determined number of desktop themes whose similarity degrees are of top ranks and/or bottom ranks, and then sends the selected desktop themes to the client; the client displays to a user a list of desktop themes sent from the theme management server.', image=None, label='G06F', model_output=None, messages=None, model_type='gpt4v', mode=1)\n"
     ]
    },
    {
     "name": "stderr",
     "output_type": "stream",
     "text": [
      "183it [11:45,  6.49s/it]"
     ]
    },
    {
     "name": "stdout",
     "output_type": "stream",
     "text": [
      "Output: G06F 3/048, Expected: G06F, Current Accuracy: 0.5737704918032787, Token Usage: 208\n",
      "PatentData(text='A device for moving at least one cutting and welding arrangement able to cut, then weld a tail of a first metal strip to a head of a second metal strip, includes at least one first carriage holding at least one welding head. The first carriage is movable over a guide path following a first course across a transverse strip region. At least one second carriage is movable separately from the first carriage and holds a cutting head. The second carriage is movable on a guide path following a second course. The welding head is used exclusively for a welding mode, the second carriage is used exclusively for a cutting mode and the two carriages have parked positions on either side of the tail and head widths of the strips. A welding method which is associated with the device is also provided.', image=None, label='B23Q', model_output=None, messages=None, model_type='gpt4v', mode=1)\n"
     ]
    },
    {
     "name": "stderr",
     "output_type": "stream",
     "text": [
      "184it [11:45,  4.81s/it]"
     ]
    },
    {
     "name": "stdout",
     "output_type": "stream",
     "text": [
      "Output: B23K 9/00, Expected: B23Q, Current Accuracy: 0.5706521739130435, Token Usage: 202\n",
      "PatentData(text='A device and a method for operating decentralized functional units in an industrial system include a) a higher-level control system which exchanges information with the decentralized functional units by data telegrams, b) a data transport network with network access points; c) communication units connected to a network access point and providing the decentralized functional units with access to the data transport network; d) an energy transport network to which the decentralized functional units are connected and which supplies electric energy to the decentralized functional units; e) intelligent energy storage devices connected to the energy transport network and consuming or outputting energy in accordance with the higher-level control system and/or with at least one of the remaining energy storage devices. The energy transport network has energy supply points distributed along a bus structure. Selectively one of at least two independent energy backbones can supply corresponding electric power to the supply points.', image=None, label='B61L', model_output=None, messages=None, model_type='gpt4v', mode=1)\n"
     ]
    },
    {
     "name": "stderr",
     "output_type": "stream",
     "text": [
      "185it [11:46,  3.55s/it]"
     ]
    },
    {
     "name": "stdout",
     "output_type": "stream",
     "text": [
      "Output: H04L, Expected: B61L, Current Accuracy: 0.5675675675675675, Token Usage: 214\n",
      "PatentData(text='There are provided a data processing device for chromatograph and a data processing method for chromatograph which allow a peak to be desirably checked. A peak (correction target peak (P1)) whose intensity exceeds a predetermined threshold in a chromatogram at a target wavelength (X1) is corrected based on correction reference values (height (H1) and area (A1) of a peak (P11)) and a sensitivity coefficient (R=I1/I2), and the chromatogram after correction is displayed or printed. Therefore, even if the correction target peak (P1) is saturated, display or printing may be performed in a state where correction has been performed so that the chromatogram at the peak (P1) is not cut off in the middle. Accordingly, at the time of display or printing of the chromatogram, a fine peak may be prevented from becoming too small, and also the correction target peak (P1) may be prevented from being cut off in the middle, and thus the peaks may be desirably checked.', image=None, label='G01N', model_output=None, messages=None, model_type='gpt4v', mode=1)\n"
     ]
    },
    {
     "name": "stderr",
     "output_type": "stream",
     "text": [
      "186it [11:54,  4.75s/it]"
     ]
    },
    {
     "name": "stdout",
     "output_type": "stream",
     "text": [
      "Output: G01N 30/88, Expected: G01N, Current Accuracy: 0.5698924731182796, Token Usage: 262\n",
      "PatentData(text='An adaptation method for a modelling method in which, by means of target geometry, model geometry, which is derived from the target geometry, is created for an object to be produced by a selective laser melting method is provided. In the adaptation method, adapted model geometry is produced from the derived model geometry by dimension adaptation by means of a correction factor and/or by geometry adaptation by means of correction geometry.', image=None, label='B29C', model_output=None, messages=None, model_type='gpt4v', mode=1)\n"
     ]
    },
    {
     "name": "stderr",
     "output_type": "stream",
     "text": [
      "187it [11:59,  4.94s/it]"
     ]
    },
    {
     "name": "stdout",
     "output_type": "stream",
     "text": [
      "Output: B33Y, Expected: B29C, Current Accuracy: 0.5668449197860963, Token Usage: 124\n",
      "PatentData(text='A membrane excelling in flame retardancy and a seat device using the same are provided. A membrane includes a first film haying at least a first wiring. A layer of flame retardant material is formed on a surface not formed with the first wiring of the first film. The layer contains an organic substance and phosphorus, and that forms a layer of carbide for physically supporting the first wiring by combustion.', image=None, label='H01H', model_output=None, messages=None, model_type='gpt4v', mode=1)\n"
     ]
    },
    {
     "name": "stderr",
     "output_type": "stream",
     "text": [
      "188it [12:00,  3.85s/it]"
     ]
    },
    {
     "name": "stdout",
     "output_type": "stream",
     "text": [
      "Output: B32B, Expected: H01H, Current Accuracy: 0.5638297872340425, Token Usage: 127\n",
      "PatentData(text='The application describes improvements to (MEMS) transducers (100) having a flexible membrane (301) with a membrane electrode (302), especially where the membrane is crystalline or polycrystalline and the membrane electrode is metal or a metal alloy. Such transducers may typically include a back-plate having at least one back-plate layer (304) coupled to a back-plate electrode (303), with a plurality of holes (314) in the back-plate electrode corresponding to a plurality back-plate holes (312) through the back-plate. In embodiments of the invention the membrane electrode has at least one opening (313) in the membrane electrode wherein, at least part of the area of the opening corresponds to the area of at least one back-plate hole, in a direction normal to the membrane, and there is no hole in the flexible membrane at said opening in the membrane electrode. There may be a plurality of such openings. The openings effectively allow a reduction in the amount of membrane electrode material, e.g. metal, that may undergo plastic deformation and permanently deform the membrane. The openings are at least partly aligned with the back-plate holes to minimise any loss of capacitance.', image=None, label='B81B', model_output=None, messages=None, model_type='gpt4v', mode=1)\n"
     ]
    },
    {
     "name": "stderr",
     "output_type": "stream",
     "text": [
      "189it [12:01,  2.90s/it]"
     ]
    },
    {
     "name": "stdout",
     "output_type": "stream",
     "text": [
      "Output: H04R, Expected: B81B, Current Accuracy: 0.5608465608465608, Token Usage: 289\n",
      "PatentData(text='Actuator system comprising at least one electrically driven linear actuator with an electric motor and an electric controller with an operating unit, wherein the electric motor is furnished with means for electrical noise dampening of the motor, which comprises a first inductance and a second inductance for electrical noise dampening of the motor, said first and second inductance are physically wound on the same coil form and thus provides a more compact construction, which moreover reduces the costs.', image=None, label='H02K', model_output=None, messages=None, model_type='gpt4v', mode=1)\n"
     ]
    },
    {
     "name": "stderr",
     "output_type": "stream",
     "text": [
      "190it [12:03,  2.78s/it]"
     ]
    },
    {
     "name": "stdout",
     "output_type": "stream",
     "text": [
      "Output: H02K 7/116, Expected: H02K, Current Accuracy: 0.5631578947368421, Token Usage: 143\n",
      "PatentData(text='Methods as disclosed herein are generally configured to help determine a pressure differential (or pressure head) in a fluid circulation system of for example, a HVAC system, for controlling the fluid circulation system. The method may include ob taming a correlation between a fluid flow rate and a pressure differential in the fluid circulation system by varying an operation speed of the pump. The method may also include obtaining a desired fluid flow rate for matching a cooling capacity of the HVAC system and determining a pressure differential setpoint corresponding to the desired fluid flow rate based on the correlation between the fluid flow rate and the pressure differential. The methods can be executed by, for example, a controller of the HVAC system so as to eliminate the requirement of a user to set up the pressure differential.', image=None, label='F24F', model_output=None, messages=None, model_type='gpt4v', mode=1)\n"
     ]
    },
    {
     "name": "stderr",
     "output_type": "stream",
     "text": [
      "191it [12:04,  2.15s/it]"
     ]
    },
    {
     "name": "stdout",
     "output_type": "stream",
     "text": [
      "Output: F24F11/00, Expected: F24F, Current Accuracy: 0.5654450261780105, Token Usage: 198\n",
      "PatentData(text=\"Method for temporarily closing off a grate (111)-covered gutter (110) of a paved part of the earth's surface (100) by means of a closing organ (130), the gutter (110) being connected to a sewage pipe (120). Thus, the draining away of contaminating liquid can be prevented. According to the invention the gutter (110) comprises a closing organ (130) comprising a valve (131), which valve (131) is fitted rotatably in the gutter (110). The valve (131) can be in a first stable position wherein the valve (131) seals. The valve can also be in a second stable position in which the valve (131) releases the gutter (110) for the discharge of liquid (rainwater) to the sewage pipe. The invention also relates to a closing organ (130) suitable for use with the method.\", image=None, label='E03F', model_output=None, messages=None, model_type='gpt4v', mode=1)\n"
     ]
    },
    {
     "name": "stderr",
     "output_type": "stream",
     "text": [
      "192it [12:05,  1.86s/it]"
     ]
    },
    {
     "name": "stdout",
     "output_type": "stream",
     "text": [
      "Output: E03F 5/10, Expected: E03F, Current Accuracy: 0.5677083333333334, Token Usage: 225\n",
      "PatentData(text='A wearable magnetic device, a method for subjecting a body region to a magnetic field and a set of parts. The wearable magnetic device comprises a magnetic structure configured to generate a magnetic field in a field area of the device; an auxiliary magnet connected to the magnetic structure and configured to increase the intensity of the magnetic field in the field area of the device; and a fastener; wherein the auxiliary magnet and the fastener are configured to magnetically secure the fastener on a side of the auxiliary magnet facing away from the field area of the device with a piece of fabric or a piece of garment disposed between the auxiliary magnet and the fastener.', image=None, label='A61N', model_output=None, messages=None, model_type='gpt4v', mode=1)\n"
     ]
    },
    {
     "name": "stderr",
     "output_type": "stream",
     "text": [
      "193it [12:06,  1.65s/it]"
     ]
    },
    {
     "name": "stdout",
     "output_type": "stream",
     "text": [
      "Output: A61N 2/00, Expected: A61N, Current Accuracy: 0.5699481865284974, Token Usage: 178\n",
      "PatentData(text='A filling element for filling containers includes a liquid valve disposed to control flow into the container. The valve has an elastic diaphragm and a valve surface. An actuator causes the diaphragm to transition between a first state, in which it butts against the valve surface, and a second state, in which it is spaced apart from the valve surface.', image=None, label='B67C', model_output=None, messages=None, model_type='gpt4v', mode=1)\n"
     ]
    },
    {
     "name": "stderr",
     "output_type": "stream",
     "text": [
      "194it [12:07,  1.36s/it]"
     ]
    },
    {
     "name": "stdout",
     "output_type": "stream",
     "text": [
      "Output: B67C 3/00, Expected: B67C, Current Accuracy: 0.5721649484536082, Token Usage: 121\n",
      "PatentData(text='This disclosure relates to scheduling by a processor the supply a consumable liquid to a mobile machine, such as the supply of water to a blasthole drill. The processor receives from the one or more mobile machines status information relative to a machine cycle. The machine cycle comprises one or more first periods where supply of the consumable liquid is preferred. The processor then determines based on the status information the supply schedule to supply the liquid to the one or more machines during their respective one or more first periods. The supply schedule is determined such that the supply schedule reduces the likelihood that any of the one or more mobile machines has an insufficient amount of the consumable liquid available. This method reduces downtime of the mobile machines because liquid is supplied during the preferred periods while reducing the likelihood of running out of liquid.', image=None, label='G06Q', model_output=None, messages=None, model_type='gpt4v', mode=1)\n"
     ]
    },
    {
     "name": "stderr",
     "output_type": "stream",
     "text": [
      "195it [12:19,  4.49s/it]"
     ]
    },
    {
     "name": "stdout",
     "output_type": "stream",
     "text": [
      "Output: G05B 19/00, Expected: G06Q, Current Accuracy: 0.5692307692307692, Token Usage: 207\n",
      "PatentData(text='A drug-delivery composition includes an intermediate composition having a hydrophilic matrix of a cross-linked polymer in form of particles, and a pharmaceutically active composition distributed in the cross-linked polymer of the particles.', image=None, label='A61K', model_output=None, messages=None, model_type='gpt4v', mode=1)\n"
     ]
    },
    {
     "name": "stderr",
     "output_type": "stream",
     "text": [
      "196it [12:20,  3.31s/it]"
     ]
    },
    {
     "name": "stdout",
     "output_type": "stream",
     "text": [
      "Output: A61K, Expected: A61K, Current Accuracy: 0.5714285714285714, Token Usage: 87\n",
      "PatentData(text='The present invention provides a trioxane composition which comprises trioxane as a main component, an antioxidant, and at least one alkaline organic compound selected from the group consisting of an amine compound having an alcoholic hydroxy group in the molecule thereof, a thiocarbamate compound, and an organophosphorus compound, wherein the amount of the alkaline organic compound contained is 0.01 to 10 ppm, based on the trioxane, and wherein the trioxane composition is a liquid.', image=None, label='C08G', model_output=None, messages=None, model_type='gpt4v', mode=1)\n"
     ]
    },
    {
     "name": "stderr",
     "output_type": "stream",
     "text": [
      "197it [12:20,  2.52s/it]"
     ]
    },
    {
     "name": "stdout",
     "output_type": "stream",
     "text": [
      "Output: C07D 323/00, Expected: C08G, Current Accuracy: 0.5685279187817259, Token Usage: 153\n",
      "PatentData(text='A device for acquiring a combined eye gaze image of an object under dark-eye effect conditions, with a first camera, a second camera, a first light source and a second light source being located on opposite sides of, and on essentially equal distance to a central optical axis. A control unit is arranged to acquire the combined eye gaze image by capturing, in a first point in time, a first frame of the object with the first camera with the second light source activated, and, at a second point in time, capturing a second frame of the object with the second camera with the first light source activated. The device comprises no additional light sources further away from the central optical axis than the first location and the second location. The device is thereby designed as compact as possible while a sufficient eye gaze tracking accuracy and robustness is maintained.', image=None, label='G06F', model_output=None, messages=None, model_type='gpt4v', mode=1)\n"
     ]
    },
    {
     "name": "stderr",
     "output_type": "stream",
     "text": [
      "198it [12:26,  3.60s/it]"
     ]
    },
    {
     "name": "stdout",
     "output_type": "stream",
     "text": [
      "Output: A61B3/113, Expected: G06F, Current Accuracy: 0.5656565656565656, Token Usage: 213\n",
      "PatentData(text='A sensor for sensing an angular orientation of a magnet producing a magnetic field includes a sensing unit having N≧2 magnetic field sensing devices MFSD; a scanning circuit for repeatedly sequentially probing at least two of the MFSDs and concatenating signals outputted by the respective MFSDs for obtaining a magnetic signal; a magnet-signal output for outputting the magnetic signal; and a reference output for outputting a reference signal independent of the magnetic field. The sensor includes a first signal processing unit SPU1 and a second signal processing unit which are identically constructed, each having an input and an output; a phase detection unit PDU having a first input PDU1 and a second input PDU2, for deriving phase differences between inputted signals, and for outputting a signal related to the angular orientation.', image=None, label='G01D', model_output=None, messages=None, model_type='gpt4v', mode=1)\n"
     ]
    },
    {
     "name": "stderr",
     "output_type": "stream",
     "text": [
      "199it [12:27,  2.72s/it]"
     ]
    },
    {
     "name": "stdout",
     "output_type": "stream",
     "text": [
      "Output: G01B, Expected: G01D, Current Accuracy: 0.5628140703517588, Token Usage: 209\n",
      "PatentData(text='A skinning device for removing skin from an animal carcass has a housing, a manipulation arm extending from the housing, an cutting blade, a motor driven tooth roll mounted on the housing having plurality of tooth wheels arranged in axially spaced apart arrangement such that the space between adjacent tooth wheels has a pre-set distance. The tooth wheels have circumferentially arranged teeth projecting outwardly therefrom adapted to grab the skin with the circumferentially arranged teeth and pull it towards the cutting blade. The skinning device includes a support structure mounted on the housing arranged in proximity to the tooth roll, and is adapted to engage the skin while the skin is simultaneously being pulled off the carcass. Strippers are arranged in the space of pre-set distance and circumferentially surround at least a space portion where the arc-shaped contour essentially follows the tooth roll.', image=None, label='A22B', model_output=None, messages=None, model_type='gpt4v', mode=1)\n"
     ]
    },
    {
     "name": "stderr",
     "output_type": "stream",
     "text": [
      "200it [12:28,  2.29s/it]"
     ]
    },
    {
     "name": "stdout",
     "output_type": "stream",
     "text": [
      "Output: A22C 25/00, Expected: A22B, Current Accuracy: 0.56, Token Usage: 217\n",
      "PatentData(text='Reflective microstructured films include a base layer, and an ordered arrangement of a plurality of microstructures projecting from the base layer. The microstructures have rounded peaks defined by an radius of curvature. Additionally, the micro-structures include a reflective layer. These reflective microstructured films can be used in solar modules.', image=None, label='H01L', model_output=None, messages=None, model_type='gpt4v', mode=1)\n"
     ]
    },
    {
     "name": "stderr",
     "output_type": "stream",
     "text": [
      "201it [12:29,  1.97s/it]"
     ]
    },
    {
     "name": "stdout",
     "output_type": "stream",
     "text": [
      "Output: G02B5/02, Expected: H01L, Current Accuracy: 0.5572139303482587, Token Usage: 110\n",
      "PatentData(text='The present invention relates to a synthesis of chromanones or chromanes in a stereospecific matter in view of the 2-position in the chromanone or chromane ring. It has been found that this synthesis is particularly possible in the presence of a chiral compound of a specific type and of at least one Bransted acid or in the presence a specific chiral compound having a Bransted acid functional group in the molecule.', image=None, label='C07D', model_output=None, messages=None, model_type='gpt4v', mode=1)\n"
     ]
    },
    {
     "name": "stderr",
     "output_type": "stream",
     "text": [
      "202it [12:30,  1.55s/it]"
     ]
    },
    {
     "name": "stdout",
     "output_type": "stream",
     "text": [
      "Output: C07D, Expected: C07D, Current Accuracy: 0.5594059405940595, Token Usage: 132\n",
      "PatentData(text='The present invention relates to a synthesis of chromanones or chromanes in a stereospecific matter in view of the 2-position in the chromanone or chromane ring. It has been found that this synthesis is particularly possible in the presence of a chiral compound of formula of a specific type and of at least one phenol or thiophenol.', image=None, label='C07D', model_output=None, messages=None, model_type='gpt4v', mode=1)\n"
     ]
    },
    {
     "name": "stderr",
     "output_type": "stream",
     "text": [
      "202it [12:32,  3.73s/it]\n"
     ]
    },
    {
     "ename": "KeyboardInterrupt",
     "evalue": "",
     "output_type": "error",
     "traceback": [
      "\u001b[0;31m---------------------------------------------------------------------------\u001b[0m",
      "\u001b[0;31mKeyboardInterrupt\u001b[0m                         Traceback (most recent call last)",
      "Cell \u001b[0;32mIn[4], line 12\u001b[0m\n\u001b[1;32m     10\u001b[0m messages \u001b[38;5;241m=\u001b[39m prompts\u001b[38;5;241m.\u001b[39mgenerate_prompt_openai(obj)\n\u001b[1;32m     11\u001b[0m \u001b[38;5;28;01mtry\u001b[39;00m:\n\u001b[0;32m---> 12\u001b[0m     result, token_usage \u001b[38;5;241m=\u001b[39m \u001b[43mcalling\u001b[49m\u001b[38;5;241;43m.\u001b[39;49m\u001b[43mcall_openai\u001b[49m\u001b[43m(\u001b[49m\u001b[43mobj\u001b[49m\u001b[43m,\u001b[49m\u001b[43m \u001b[49m\u001b[43mreturn_token_usage\u001b[49m\u001b[38;5;241;43m=\u001b[39;49m\u001b[38;5;28;43;01mTrue\u001b[39;49;00m\u001b[43m)\u001b[49m\n\u001b[1;32m     13\u001b[0m \u001b[38;5;28;01mexcept\u001b[39;00m \u001b[38;5;167;01mException\u001b[39;00m \u001b[38;5;28;01mas\u001b[39;00m e:\n\u001b[1;32m     14\u001b[0m     \u001b[38;5;28mprint\u001b[39m(e)\n",
      "File \u001b[0;32m~/cs477-final-project/calling.py:37\u001b[0m, in \u001b[0;36mcall_openai\u001b[0;34m(data, model, return_token_usage)\u001b[0m\n\u001b[1;32m     35\u001b[0m \u001b[38;5;28;01mif\u001b[39;00m data\u001b[38;5;241m.\u001b[39mmessages \u001b[38;5;129;01mis\u001b[39;00m \u001b[38;5;28;01mNone\u001b[39;00m:\n\u001b[1;32m     36\u001b[0m     \u001b[38;5;28;01mraise\u001b[39;00m \u001b[38;5;167;01mValueError\u001b[39;00m(\u001b[38;5;124m\"\u001b[39m\u001b[38;5;124mPromptData object must have messages attribute set.\u001b[39m\u001b[38;5;124m\"\u001b[39m)\n\u001b[0;32m---> 37\u001b[0m response \u001b[38;5;241m=\u001b[39m \u001b[43mazure_client\u001b[49m\u001b[38;5;241;43m.\u001b[39;49m\u001b[43mchat\u001b[49m\u001b[38;5;241;43m.\u001b[39;49m\u001b[43mcompletions\u001b[49m\u001b[38;5;241;43m.\u001b[39;49m\u001b[43mcreate\u001b[49m\u001b[43m(\u001b[49m\n\u001b[1;32m     38\u001b[0m \u001b[43m    \u001b[49m\u001b[43mmodel\u001b[49m\u001b[38;5;241;43m=\u001b[39;49m\u001b[43mmodel\u001b[49m\u001b[43m,\u001b[49m\n\u001b[1;32m     39\u001b[0m \u001b[43m    \u001b[49m\u001b[43mmessages\u001b[49m\u001b[38;5;241;43m=\u001b[39;49m\u001b[43mdata\u001b[49m\u001b[38;5;241;43m.\u001b[39;49m\u001b[43mmessages\u001b[49m\u001b[43m,\u001b[49m\n\u001b[1;32m     40\u001b[0m \u001b[43m    \u001b[49m\u001b[43mmax_tokens\u001b[49m\u001b[38;5;241;43m=\u001b[39;49m\u001b[38;5;241;43m10\u001b[39;49m\n\u001b[1;32m     41\u001b[0m \u001b[43m\u001b[49m\u001b[43m)\u001b[49m\n\u001b[1;32m     42\u001b[0m \u001b[38;5;28;01mif\u001b[39;00m return_token_usage:\n\u001b[1;32m     43\u001b[0m     \u001b[38;5;28;01mreturn\u001b[39;00m response\u001b[38;5;241m.\u001b[39mchoices[\u001b[38;5;241m0\u001b[39m]\u001b[38;5;241m.\u001b[39mmessage\u001b[38;5;241m.\u001b[39mcontent, response\u001b[38;5;241m.\u001b[39musage\u001b[38;5;241m.\u001b[39mtotal_tokens\n",
      "File \u001b[0;32m~/cs477-final-project/.conda/lib/python3.11/site-packages/openai/_utils/_utils.py:277\u001b[0m, in \u001b[0;36mrequired_args.<locals>.inner.<locals>.wrapper\u001b[0;34m(*args, **kwargs)\u001b[0m\n\u001b[1;32m    275\u001b[0m             msg \u001b[38;5;241m=\u001b[39m \u001b[38;5;124mf\u001b[39m\u001b[38;5;124m\"\u001b[39m\u001b[38;5;124mMissing required argument: \u001b[39m\u001b[38;5;132;01m{\u001b[39;00mquote(missing[\u001b[38;5;241m0\u001b[39m])\u001b[38;5;132;01m}\u001b[39;00m\u001b[38;5;124m\"\u001b[39m\n\u001b[1;32m    276\u001b[0m     \u001b[38;5;28;01mraise\u001b[39;00m \u001b[38;5;167;01mTypeError\u001b[39;00m(msg)\n\u001b[0;32m--> 277\u001b[0m \u001b[38;5;28;01mreturn\u001b[39;00m \u001b[43mfunc\u001b[49m\u001b[43m(\u001b[49m\u001b[38;5;241;43m*\u001b[39;49m\u001b[43margs\u001b[49m\u001b[43m,\u001b[49m\u001b[43m \u001b[49m\u001b[38;5;241;43m*\u001b[39;49m\u001b[38;5;241;43m*\u001b[39;49m\u001b[43mkwargs\u001b[49m\u001b[43m)\u001b[49m\n",
      "File \u001b[0;32m~/cs477-final-project/.conda/lib/python3.11/site-packages/openai/resources/chat/completions.py:581\u001b[0m, in \u001b[0;36mCompletions.create\u001b[0;34m(self, messages, model, frequency_penalty, function_call, functions, logit_bias, logprobs, max_tokens, n, presence_penalty, response_format, seed, stop, stream, temperature, tool_choice, tools, top_logprobs, top_p, user, extra_headers, extra_query, extra_body, timeout)\u001b[0m\n\u001b[1;32m    550\u001b[0m \u001b[38;5;129m@required_args\u001b[39m([\u001b[38;5;124m\"\u001b[39m\u001b[38;5;124mmessages\u001b[39m\u001b[38;5;124m\"\u001b[39m, \u001b[38;5;124m\"\u001b[39m\u001b[38;5;124mmodel\u001b[39m\u001b[38;5;124m\"\u001b[39m], [\u001b[38;5;124m\"\u001b[39m\u001b[38;5;124mmessages\u001b[39m\u001b[38;5;124m\"\u001b[39m, \u001b[38;5;124m\"\u001b[39m\u001b[38;5;124mmodel\u001b[39m\u001b[38;5;124m\"\u001b[39m, \u001b[38;5;124m\"\u001b[39m\u001b[38;5;124mstream\u001b[39m\u001b[38;5;124m\"\u001b[39m])\n\u001b[1;32m    551\u001b[0m \u001b[38;5;28;01mdef\u001b[39;00m \u001b[38;5;21mcreate\u001b[39m(\n\u001b[1;32m    552\u001b[0m     \u001b[38;5;28mself\u001b[39m,\n\u001b[0;32m   (...)\u001b[0m\n\u001b[1;32m    579\u001b[0m     timeout: \u001b[38;5;28mfloat\u001b[39m \u001b[38;5;241m|\u001b[39m httpx\u001b[38;5;241m.\u001b[39mTimeout \u001b[38;5;241m|\u001b[39m \u001b[38;5;28;01mNone\u001b[39;00m \u001b[38;5;241m|\u001b[39m NotGiven \u001b[38;5;241m=\u001b[39m NOT_GIVEN,\n\u001b[1;32m    580\u001b[0m ) \u001b[38;5;241m-\u001b[39m\u001b[38;5;241m>\u001b[39m ChatCompletion \u001b[38;5;241m|\u001b[39m Stream[ChatCompletionChunk]:\n\u001b[0;32m--> 581\u001b[0m     \u001b[38;5;28;01mreturn\u001b[39;00m \u001b[38;5;28;43mself\u001b[39;49m\u001b[38;5;241;43m.\u001b[39;49m\u001b[43m_post\u001b[49m\u001b[43m(\u001b[49m\n\u001b[1;32m    582\u001b[0m \u001b[43m        \u001b[49m\u001b[38;5;124;43m\"\u001b[39;49m\u001b[38;5;124;43m/chat/completions\u001b[39;49m\u001b[38;5;124;43m\"\u001b[39;49m\u001b[43m,\u001b[49m\n\u001b[1;32m    583\u001b[0m \u001b[43m        \u001b[49m\u001b[43mbody\u001b[49m\u001b[38;5;241;43m=\u001b[39;49m\u001b[43mmaybe_transform\u001b[49m\u001b[43m(\u001b[49m\n\u001b[1;32m    584\u001b[0m \u001b[43m            \u001b[49m\u001b[43m{\u001b[49m\n\u001b[1;32m    585\u001b[0m \u001b[43m                \u001b[49m\u001b[38;5;124;43m\"\u001b[39;49m\u001b[38;5;124;43mmessages\u001b[39;49m\u001b[38;5;124;43m\"\u001b[39;49m\u001b[43m:\u001b[49m\u001b[43m \u001b[49m\u001b[43mmessages\u001b[49m\u001b[43m,\u001b[49m\n\u001b[1;32m    586\u001b[0m \u001b[43m                \u001b[49m\u001b[38;5;124;43m\"\u001b[39;49m\u001b[38;5;124;43mmodel\u001b[39;49m\u001b[38;5;124;43m\"\u001b[39;49m\u001b[43m:\u001b[49m\u001b[43m \u001b[49m\u001b[43mmodel\u001b[49m\u001b[43m,\u001b[49m\n\u001b[1;32m    587\u001b[0m \u001b[43m                \u001b[49m\u001b[38;5;124;43m\"\u001b[39;49m\u001b[38;5;124;43mfrequency_penalty\u001b[39;49m\u001b[38;5;124;43m\"\u001b[39;49m\u001b[43m:\u001b[49m\u001b[43m \u001b[49m\u001b[43mfrequency_penalty\u001b[49m\u001b[43m,\u001b[49m\n\u001b[1;32m    588\u001b[0m \u001b[43m                \u001b[49m\u001b[38;5;124;43m\"\u001b[39;49m\u001b[38;5;124;43mfunction_call\u001b[39;49m\u001b[38;5;124;43m\"\u001b[39;49m\u001b[43m:\u001b[49m\u001b[43m \u001b[49m\u001b[43mfunction_call\u001b[49m\u001b[43m,\u001b[49m\n\u001b[1;32m    589\u001b[0m \u001b[43m                \u001b[49m\u001b[38;5;124;43m\"\u001b[39;49m\u001b[38;5;124;43mfunctions\u001b[39;49m\u001b[38;5;124;43m\"\u001b[39;49m\u001b[43m:\u001b[49m\u001b[43m \u001b[49m\u001b[43mfunctions\u001b[49m\u001b[43m,\u001b[49m\n\u001b[1;32m    590\u001b[0m \u001b[43m                \u001b[49m\u001b[38;5;124;43m\"\u001b[39;49m\u001b[38;5;124;43mlogit_bias\u001b[39;49m\u001b[38;5;124;43m\"\u001b[39;49m\u001b[43m:\u001b[49m\u001b[43m \u001b[49m\u001b[43mlogit_bias\u001b[49m\u001b[43m,\u001b[49m\n\u001b[1;32m    591\u001b[0m \u001b[43m                \u001b[49m\u001b[38;5;124;43m\"\u001b[39;49m\u001b[38;5;124;43mlogprobs\u001b[39;49m\u001b[38;5;124;43m\"\u001b[39;49m\u001b[43m:\u001b[49m\u001b[43m \u001b[49m\u001b[43mlogprobs\u001b[49m\u001b[43m,\u001b[49m\n\u001b[1;32m    592\u001b[0m \u001b[43m                \u001b[49m\u001b[38;5;124;43m\"\u001b[39;49m\u001b[38;5;124;43mmax_tokens\u001b[39;49m\u001b[38;5;124;43m\"\u001b[39;49m\u001b[43m:\u001b[49m\u001b[43m \u001b[49m\u001b[43mmax_tokens\u001b[49m\u001b[43m,\u001b[49m\n\u001b[1;32m    593\u001b[0m \u001b[43m                \u001b[49m\u001b[38;5;124;43m\"\u001b[39;49m\u001b[38;5;124;43mn\u001b[39;49m\u001b[38;5;124;43m\"\u001b[39;49m\u001b[43m:\u001b[49m\u001b[43m \u001b[49m\u001b[43mn\u001b[49m\u001b[43m,\u001b[49m\n\u001b[1;32m    594\u001b[0m \u001b[43m                \u001b[49m\u001b[38;5;124;43m\"\u001b[39;49m\u001b[38;5;124;43mpresence_penalty\u001b[39;49m\u001b[38;5;124;43m\"\u001b[39;49m\u001b[43m:\u001b[49m\u001b[43m \u001b[49m\u001b[43mpresence_penalty\u001b[49m\u001b[43m,\u001b[49m\n\u001b[1;32m    595\u001b[0m \u001b[43m                \u001b[49m\u001b[38;5;124;43m\"\u001b[39;49m\u001b[38;5;124;43mresponse_format\u001b[39;49m\u001b[38;5;124;43m\"\u001b[39;49m\u001b[43m:\u001b[49m\u001b[43m \u001b[49m\u001b[43mresponse_format\u001b[49m\u001b[43m,\u001b[49m\n\u001b[1;32m    596\u001b[0m \u001b[43m                \u001b[49m\u001b[38;5;124;43m\"\u001b[39;49m\u001b[38;5;124;43mseed\u001b[39;49m\u001b[38;5;124;43m\"\u001b[39;49m\u001b[43m:\u001b[49m\u001b[43m \u001b[49m\u001b[43mseed\u001b[49m\u001b[43m,\u001b[49m\n\u001b[1;32m    597\u001b[0m \u001b[43m                \u001b[49m\u001b[38;5;124;43m\"\u001b[39;49m\u001b[38;5;124;43mstop\u001b[39;49m\u001b[38;5;124;43m\"\u001b[39;49m\u001b[43m:\u001b[49m\u001b[43m \u001b[49m\u001b[43mstop\u001b[49m\u001b[43m,\u001b[49m\n\u001b[1;32m    598\u001b[0m \u001b[43m                \u001b[49m\u001b[38;5;124;43m\"\u001b[39;49m\u001b[38;5;124;43mstream\u001b[39;49m\u001b[38;5;124;43m\"\u001b[39;49m\u001b[43m:\u001b[49m\u001b[43m \u001b[49m\u001b[43mstream\u001b[49m\u001b[43m,\u001b[49m\n\u001b[1;32m    599\u001b[0m \u001b[43m                \u001b[49m\u001b[38;5;124;43m\"\u001b[39;49m\u001b[38;5;124;43mtemperature\u001b[39;49m\u001b[38;5;124;43m\"\u001b[39;49m\u001b[43m:\u001b[49m\u001b[43m \u001b[49m\u001b[43mtemperature\u001b[49m\u001b[43m,\u001b[49m\n\u001b[1;32m    600\u001b[0m \u001b[43m                \u001b[49m\u001b[38;5;124;43m\"\u001b[39;49m\u001b[38;5;124;43mtool_choice\u001b[39;49m\u001b[38;5;124;43m\"\u001b[39;49m\u001b[43m:\u001b[49m\u001b[43m \u001b[49m\u001b[43mtool_choice\u001b[49m\u001b[43m,\u001b[49m\n\u001b[1;32m    601\u001b[0m \u001b[43m                \u001b[49m\u001b[38;5;124;43m\"\u001b[39;49m\u001b[38;5;124;43mtools\u001b[39;49m\u001b[38;5;124;43m\"\u001b[39;49m\u001b[43m:\u001b[49m\u001b[43m \u001b[49m\u001b[43mtools\u001b[49m\u001b[43m,\u001b[49m\n\u001b[1;32m    602\u001b[0m \u001b[43m                \u001b[49m\u001b[38;5;124;43m\"\u001b[39;49m\u001b[38;5;124;43mtop_logprobs\u001b[39;49m\u001b[38;5;124;43m\"\u001b[39;49m\u001b[43m:\u001b[49m\u001b[43m \u001b[49m\u001b[43mtop_logprobs\u001b[49m\u001b[43m,\u001b[49m\n\u001b[1;32m    603\u001b[0m \u001b[43m                \u001b[49m\u001b[38;5;124;43m\"\u001b[39;49m\u001b[38;5;124;43mtop_p\u001b[39;49m\u001b[38;5;124;43m\"\u001b[39;49m\u001b[43m:\u001b[49m\u001b[43m \u001b[49m\u001b[43mtop_p\u001b[49m\u001b[43m,\u001b[49m\n\u001b[1;32m    604\u001b[0m \u001b[43m                \u001b[49m\u001b[38;5;124;43m\"\u001b[39;49m\u001b[38;5;124;43muser\u001b[39;49m\u001b[38;5;124;43m\"\u001b[39;49m\u001b[43m:\u001b[49m\u001b[43m \u001b[49m\u001b[43muser\u001b[49m\u001b[43m,\u001b[49m\n\u001b[1;32m    605\u001b[0m \u001b[43m            \u001b[49m\u001b[43m}\u001b[49m\u001b[43m,\u001b[49m\n\u001b[1;32m    606\u001b[0m \u001b[43m            \u001b[49m\u001b[43mcompletion_create_params\u001b[49m\u001b[38;5;241;43m.\u001b[39;49m\u001b[43mCompletionCreateParams\u001b[49m\u001b[43m,\u001b[49m\n\u001b[1;32m    607\u001b[0m \u001b[43m        \u001b[49m\u001b[43m)\u001b[49m\u001b[43m,\u001b[49m\n\u001b[1;32m    608\u001b[0m \u001b[43m        \u001b[49m\u001b[43moptions\u001b[49m\u001b[38;5;241;43m=\u001b[39;49m\u001b[43mmake_request_options\u001b[49m\u001b[43m(\u001b[49m\n\u001b[1;32m    609\u001b[0m \u001b[43m            \u001b[49m\u001b[43mextra_headers\u001b[49m\u001b[38;5;241;43m=\u001b[39;49m\u001b[43mextra_headers\u001b[49m\u001b[43m,\u001b[49m\u001b[43m \u001b[49m\u001b[43mextra_query\u001b[49m\u001b[38;5;241;43m=\u001b[39;49m\u001b[43mextra_query\u001b[49m\u001b[43m,\u001b[49m\u001b[43m \u001b[49m\u001b[43mextra_body\u001b[49m\u001b[38;5;241;43m=\u001b[39;49m\u001b[43mextra_body\u001b[49m\u001b[43m,\u001b[49m\u001b[43m \u001b[49m\u001b[43mtimeout\u001b[49m\u001b[38;5;241;43m=\u001b[39;49m\u001b[43mtimeout\u001b[49m\n\u001b[1;32m    610\u001b[0m \u001b[43m        \u001b[49m\u001b[43m)\u001b[49m\u001b[43m,\u001b[49m\n\u001b[1;32m    611\u001b[0m \u001b[43m        \u001b[49m\u001b[43mcast_to\u001b[49m\u001b[38;5;241;43m=\u001b[39;49m\u001b[43mChatCompletion\u001b[49m\u001b[43m,\u001b[49m\n\u001b[1;32m    612\u001b[0m \u001b[43m        \u001b[49m\u001b[43mstream\u001b[49m\u001b[38;5;241;43m=\u001b[39;49m\u001b[43mstream\u001b[49m\u001b[43m \u001b[49m\u001b[38;5;129;43;01mor\u001b[39;49;00m\u001b[43m \u001b[49m\u001b[38;5;28;43;01mFalse\u001b[39;49;00m\u001b[43m,\u001b[49m\n\u001b[1;32m    613\u001b[0m \u001b[43m        \u001b[49m\u001b[43mstream_cls\u001b[49m\u001b[38;5;241;43m=\u001b[39;49m\u001b[43mStream\u001b[49m\u001b[43m[\u001b[49m\u001b[43mChatCompletionChunk\u001b[49m\u001b[43m]\u001b[49m\u001b[43m,\u001b[49m\n\u001b[1;32m    614\u001b[0m \u001b[43m    \u001b[49m\u001b[43m)\u001b[49m\n",
      "File \u001b[0;32m~/cs477-final-project/.conda/lib/python3.11/site-packages/openai/_base_client.py:1232\u001b[0m, in \u001b[0;36mSyncAPIClient.post\u001b[0;34m(self, path, cast_to, body, options, files, stream, stream_cls)\u001b[0m\n\u001b[1;32m   1218\u001b[0m \u001b[38;5;28;01mdef\u001b[39;00m \u001b[38;5;21mpost\u001b[39m(\n\u001b[1;32m   1219\u001b[0m     \u001b[38;5;28mself\u001b[39m,\n\u001b[1;32m   1220\u001b[0m     path: \u001b[38;5;28mstr\u001b[39m,\n\u001b[0;32m   (...)\u001b[0m\n\u001b[1;32m   1227\u001b[0m     stream_cls: \u001b[38;5;28mtype\u001b[39m[_StreamT] \u001b[38;5;241m|\u001b[39m \u001b[38;5;28;01mNone\u001b[39;00m \u001b[38;5;241m=\u001b[39m \u001b[38;5;28;01mNone\u001b[39;00m,\n\u001b[1;32m   1228\u001b[0m ) \u001b[38;5;241m-\u001b[39m\u001b[38;5;241m>\u001b[39m ResponseT \u001b[38;5;241m|\u001b[39m _StreamT:\n\u001b[1;32m   1229\u001b[0m     opts \u001b[38;5;241m=\u001b[39m FinalRequestOptions\u001b[38;5;241m.\u001b[39mconstruct(\n\u001b[1;32m   1230\u001b[0m         method\u001b[38;5;241m=\u001b[39m\u001b[38;5;124m\"\u001b[39m\u001b[38;5;124mpost\u001b[39m\u001b[38;5;124m\"\u001b[39m, url\u001b[38;5;241m=\u001b[39mpath, json_data\u001b[38;5;241m=\u001b[39mbody, files\u001b[38;5;241m=\u001b[39mto_httpx_files(files), \u001b[38;5;241m*\u001b[39m\u001b[38;5;241m*\u001b[39moptions\n\u001b[1;32m   1231\u001b[0m     )\n\u001b[0;32m-> 1232\u001b[0m     \u001b[38;5;28;01mreturn\u001b[39;00m cast(ResponseT, \u001b[38;5;28;43mself\u001b[39;49m\u001b[38;5;241;43m.\u001b[39;49m\u001b[43mrequest\u001b[49m\u001b[43m(\u001b[49m\u001b[43mcast_to\u001b[49m\u001b[43m,\u001b[49m\u001b[43m \u001b[49m\u001b[43mopts\u001b[49m\u001b[43m,\u001b[49m\u001b[43m \u001b[49m\u001b[43mstream\u001b[49m\u001b[38;5;241;43m=\u001b[39;49m\u001b[43mstream\u001b[49m\u001b[43m,\u001b[49m\u001b[43m \u001b[49m\u001b[43mstream_cls\u001b[49m\u001b[38;5;241;43m=\u001b[39;49m\u001b[43mstream_cls\u001b[49m\u001b[43m)\u001b[49m)\n",
      "File \u001b[0;32m~/cs477-final-project/.conda/lib/python3.11/site-packages/openai/_base_client.py:921\u001b[0m, in \u001b[0;36mSyncAPIClient.request\u001b[0;34m(self, cast_to, options, remaining_retries, stream, stream_cls)\u001b[0m\n\u001b[1;32m    912\u001b[0m \u001b[38;5;28;01mdef\u001b[39;00m \u001b[38;5;21mrequest\u001b[39m(\n\u001b[1;32m    913\u001b[0m     \u001b[38;5;28mself\u001b[39m,\n\u001b[1;32m    914\u001b[0m     cast_to: Type[ResponseT],\n\u001b[0;32m   (...)\u001b[0m\n\u001b[1;32m    919\u001b[0m     stream_cls: \u001b[38;5;28mtype\u001b[39m[_StreamT] \u001b[38;5;241m|\u001b[39m \u001b[38;5;28;01mNone\u001b[39;00m \u001b[38;5;241m=\u001b[39m \u001b[38;5;28;01mNone\u001b[39;00m,\n\u001b[1;32m    920\u001b[0m ) \u001b[38;5;241m-\u001b[39m\u001b[38;5;241m>\u001b[39m ResponseT \u001b[38;5;241m|\u001b[39m _StreamT:\n\u001b[0;32m--> 921\u001b[0m     \u001b[38;5;28;01mreturn\u001b[39;00m \u001b[38;5;28;43mself\u001b[39;49m\u001b[38;5;241;43m.\u001b[39;49m\u001b[43m_request\u001b[49m\u001b[43m(\u001b[49m\n\u001b[1;32m    922\u001b[0m \u001b[43m        \u001b[49m\u001b[43mcast_to\u001b[49m\u001b[38;5;241;43m=\u001b[39;49m\u001b[43mcast_to\u001b[49m\u001b[43m,\u001b[49m\n\u001b[1;32m    923\u001b[0m \u001b[43m        \u001b[49m\u001b[43moptions\u001b[49m\u001b[38;5;241;43m=\u001b[39;49m\u001b[43moptions\u001b[49m\u001b[43m,\u001b[49m\n\u001b[1;32m    924\u001b[0m \u001b[43m        \u001b[49m\u001b[43mstream\u001b[49m\u001b[38;5;241;43m=\u001b[39;49m\u001b[43mstream\u001b[49m\u001b[43m,\u001b[49m\n\u001b[1;32m    925\u001b[0m \u001b[43m        \u001b[49m\u001b[43mstream_cls\u001b[49m\u001b[38;5;241;43m=\u001b[39;49m\u001b[43mstream_cls\u001b[49m\u001b[43m,\u001b[49m\n\u001b[1;32m    926\u001b[0m \u001b[43m        \u001b[49m\u001b[43mremaining_retries\u001b[49m\u001b[38;5;241;43m=\u001b[39;49m\u001b[43mremaining_retries\u001b[49m\u001b[43m,\u001b[49m\n\u001b[1;32m    927\u001b[0m \u001b[43m    \u001b[49m\u001b[43m)\u001b[49m\n",
      "File \u001b[0;32m~/cs477-final-project/.conda/lib/python3.11/site-packages/openai/_base_client.py:950\u001b[0m, in \u001b[0;36mSyncAPIClient._request\u001b[0;34m(self, cast_to, options, remaining_retries, stream, stream_cls)\u001b[0m\n\u001b[1;32m    947\u001b[0m     kwargs[\u001b[38;5;124m\"\u001b[39m\u001b[38;5;124mauth\u001b[39m\u001b[38;5;124m\"\u001b[39m] \u001b[38;5;241m=\u001b[39m \u001b[38;5;28mself\u001b[39m\u001b[38;5;241m.\u001b[39mcustom_auth\n\u001b[1;32m    949\u001b[0m \u001b[38;5;28;01mtry\u001b[39;00m:\n\u001b[0;32m--> 950\u001b[0m     response \u001b[38;5;241m=\u001b[39m \u001b[38;5;28;43mself\u001b[39;49m\u001b[38;5;241;43m.\u001b[39;49m\u001b[43m_client\u001b[49m\u001b[38;5;241;43m.\u001b[39;49m\u001b[43msend\u001b[49m\u001b[43m(\u001b[49m\n\u001b[1;32m    951\u001b[0m \u001b[43m        \u001b[49m\u001b[43mrequest\u001b[49m\u001b[43m,\u001b[49m\n\u001b[1;32m    952\u001b[0m \u001b[43m        \u001b[49m\u001b[43mstream\u001b[49m\u001b[38;5;241;43m=\u001b[39;49m\u001b[43mstream\u001b[49m\u001b[43m \u001b[49m\u001b[38;5;129;43;01mor\u001b[39;49;00m\u001b[43m \u001b[49m\u001b[38;5;28;43mself\u001b[39;49m\u001b[38;5;241;43m.\u001b[39;49m\u001b[43m_should_stream_response_body\u001b[49m\u001b[43m(\u001b[49m\u001b[43mrequest\u001b[49m\u001b[38;5;241;43m=\u001b[39;49m\u001b[43mrequest\u001b[49m\u001b[43m)\u001b[49m\u001b[43m,\u001b[49m\n\u001b[1;32m    953\u001b[0m \u001b[43m        \u001b[49m\u001b[38;5;241;43m*\u001b[39;49m\u001b[38;5;241;43m*\u001b[39;49m\u001b[43mkwargs\u001b[49m\u001b[43m,\u001b[49m\n\u001b[1;32m    954\u001b[0m \u001b[43m    \u001b[49m\u001b[43m)\u001b[49m\n\u001b[1;32m    955\u001b[0m \u001b[38;5;28;01mexcept\u001b[39;00m httpx\u001b[38;5;241m.\u001b[39mTimeoutException \u001b[38;5;28;01mas\u001b[39;00m err:\n\u001b[1;32m    956\u001b[0m     log\u001b[38;5;241m.\u001b[39mdebug(\u001b[38;5;124m\"\u001b[39m\u001b[38;5;124mEncountered httpx.TimeoutException\u001b[39m\u001b[38;5;124m\"\u001b[39m, exc_info\u001b[38;5;241m=\u001b[39m\u001b[38;5;28;01mTrue\u001b[39;00m)\n",
      "File \u001b[0;32m~/cs477-final-project/.conda/lib/python3.11/site-packages/httpx/_client.py:901\u001b[0m, in \u001b[0;36mClient.send\u001b[0;34m(self, request, stream, auth, follow_redirects)\u001b[0m\n\u001b[1;32m    893\u001b[0m follow_redirects \u001b[38;5;241m=\u001b[39m (\n\u001b[1;32m    894\u001b[0m     \u001b[38;5;28mself\u001b[39m\u001b[38;5;241m.\u001b[39mfollow_redirects\n\u001b[1;32m    895\u001b[0m     \u001b[38;5;28;01mif\u001b[39;00m \u001b[38;5;28misinstance\u001b[39m(follow_redirects, UseClientDefault)\n\u001b[1;32m    896\u001b[0m     \u001b[38;5;28;01melse\u001b[39;00m follow_redirects\n\u001b[1;32m    897\u001b[0m )\n\u001b[1;32m    899\u001b[0m auth \u001b[38;5;241m=\u001b[39m \u001b[38;5;28mself\u001b[39m\u001b[38;5;241m.\u001b[39m_build_request_auth(request, auth)\n\u001b[0;32m--> 901\u001b[0m response \u001b[38;5;241m=\u001b[39m \u001b[38;5;28;43mself\u001b[39;49m\u001b[38;5;241;43m.\u001b[39;49m\u001b[43m_send_handling_auth\u001b[49m\u001b[43m(\u001b[49m\n\u001b[1;32m    902\u001b[0m \u001b[43m    \u001b[49m\u001b[43mrequest\u001b[49m\u001b[43m,\u001b[49m\n\u001b[1;32m    903\u001b[0m \u001b[43m    \u001b[49m\u001b[43mauth\u001b[49m\u001b[38;5;241;43m=\u001b[39;49m\u001b[43mauth\u001b[49m\u001b[43m,\u001b[49m\n\u001b[1;32m    904\u001b[0m \u001b[43m    \u001b[49m\u001b[43mfollow_redirects\u001b[49m\u001b[38;5;241;43m=\u001b[39;49m\u001b[43mfollow_redirects\u001b[49m\u001b[43m,\u001b[49m\n\u001b[1;32m    905\u001b[0m \u001b[43m    \u001b[49m\u001b[43mhistory\u001b[49m\u001b[38;5;241;43m=\u001b[39;49m\u001b[43m[\u001b[49m\u001b[43m]\u001b[49m\u001b[43m,\u001b[49m\n\u001b[1;32m    906\u001b[0m \u001b[43m\u001b[49m\u001b[43m)\u001b[49m\n\u001b[1;32m    907\u001b[0m \u001b[38;5;28;01mtry\u001b[39;00m:\n\u001b[1;32m    908\u001b[0m     \u001b[38;5;28;01mif\u001b[39;00m \u001b[38;5;129;01mnot\u001b[39;00m stream:\n",
      "File \u001b[0;32m~/cs477-final-project/.conda/lib/python3.11/site-packages/httpx/_client.py:929\u001b[0m, in \u001b[0;36mClient._send_handling_auth\u001b[0;34m(self, request, auth, follow_redirects, history)\u001b[0m\n\u001b[1;32m    926\u001b[0m request \u001b[38;5;241m=\u001b[39m \u001b[38;5;28mnext\u001b[39m(auth_flow)\n\u001b[1;32m    928\u001b[0m \u001b[38;5;28;01mwhile\u001b[39;00m \u001b[38;5;28;01mTrue\u001b[39;00m:\n\u001b[0;32m--> 929\u001b[0m     response \u001b[38;5;241m=\u001b[39m \u001b[38;5;28;43mself\u001b[39;49m\u001b[38;5;241;43m.\u001b[39;49m\u001b[43m_send_handling_redirects\u001b[49m\u001b[43m(\u001b[49m\n\u001b[1;32m    930\u001b[0m \u001b[43m        \u001b[49m\u001b[43mrequest\u001b[49m\u001b[43m,\u001b[49m\n\u001b[1;32m    931\u001b[0m \u001b[43m        \u001b[49m\u001b[43mfollow_redirects\u001b[49m\u001b[38;5;241;43m=\u001b[39;49m\u001b[43mfollow_redirects\u001b[49m\u001b[43m,\u001b[49m\n\u001b[1;32m    932\u001b[0m \u001b[43m        \u001b[49m\u001b[43mhistory\u001b[49m\u001b[38;5;241;43m=\u001b[39;49m\u001b[43mhistory\u001b[49m\u001b[43m,\u001b[49m\n\u001b[1;32m    933\u001b[0m \u001b[43m    \u001b[49m\u001b[43m)\u001b[49m\n\u001b[1;32m    934\u001b[0m     \u001b[38;5;28;01mtry\u001b[39;00m:\n\u001b[1;32m    935\u001b[0m         \u001b[38;5;28;01mtry\u001b[39;00m:\n",
      "File \u001b[0;32m~/cs477-final-project/.conda/lib/python3.11/site-packages/httpx/_client.py:966\u001b[0m, in \u001b[0;36mClient._send_handling_redirects\u001b[0;34m(self, request, follow_redirects, history)\u001b[0m\n\u001b[1;32m    963\u001b[0m \u001b[38;5;28;01mfor\u001b[39;00m hook \u001b[38;5;129;01min\u001b[39;00m \u001b[38;5;28mself\u001b[39m\u001b[38;5;241m.\u001b[39m_event_hooks[\u001b[38;5;124m\"\u001b[39m\u001b[38;5;124mrequest\u001b[39m\u001b[38;5;124m\"\u001b[39m]:\n\u001b[1;32m    964\u001b[0m     hook(request)\n\u001b[0;32m--> 966\u001b[0m response \u001b[38;5;241m=\u001b[39m \u001b[38;5;28;43mself\u001b[39;49m\u001b[38;5;241;43m.\u001b[39;49m\u001b[43m_send_single_request\u001b[49m\u001b[43m(\u001b[49m\u001b[43mrequest\u001b[49m\u001b[43m)\u001b[49m\n\u001b[1;32m    967\u001b[0m \u001b[38;5;28;01mtry\u001b[39;00m:\n\u001b[1;32m    968\u001b[0m     \u001b[38;5;28;01mfor\u001b[39;00m hook \u001b[38;5;129;01min\u001b[39;00m \u001b[38;5;28mself\u001b[39m\u001b[38;5;241m.\u001b[39m_event_hooks[\u001b[38;5;124m\"\u001b[39m\u001b[38;5;124mresponse\u001b[39m\u001b[38;5;124m\"\u001b[39m]:\n",
      "File \u001b[0;32m~/cs477-final-project/.conda/lib/python3.11/site-packages/httpx/_client.py:1002\u001b[0m, in \u001b[0;36mClient._send_single_request\u001b[0;34m(self, request)\u001b[0m\n\u001b[1;32m    997\u001b[0m     \u001b[38;5;28;01mraise\u001b[39;00m \u001b[38;5;167;01mRuntimeError\u001b[39;00m(\n\u001b[1;32m    998\u001b[0m         \u001b[38;5;124m\"\u001b[39m\u001b[38;5;124mAttempted to send an async request with a sync Client instance.\u001b[39m\u001b[38;5;124m\"\u001b[39m\n\u001b[1;32m    999\u001b[0m     )\n\u001b[1;32m   1001\u001b[0m \u001b[38;5;28;01mwith\u001b[39;00m request_context(request\u001b[38;5;241m=\u001b[39mrequest):\n\u001b[0;32m-> 1002\u001b[0m     response \u001b[38;5;241m=\u001b[39m \u001b[43mtransport\u001b[49m\u001b[38;5;241;43m.\u001b[39;49m\u001b[43mhandle_request\u001b[49m\u001b[43m(\u001b[49m\u001b[43mrequest\u001b[49m\u001b[43m)\u001b[49m\n\u001b[1;32m   1004\u001b[0m \u001b[38;5;28;01massert\u001b[39;00m \u001b[38;5;28misinstance\u001b[39m(response\u001b[38;5;241m.\u001b[39mstream, SyncByteStream)\n\u001b[1;32m   1006\u001b[0m response\u001b[38;5;241m.\u001b[39mrequest \u001b[38;5;241m=\u001b[39m request\n",
      "File \u001b[0;32m~/cs477-final-project/.conda/lib/python3.11/site-packages/httpx/_transports/default.py:218\u001b[0m, in \u001b[0;36mHTTPTransport.handle_request\u001b[0;34m(self, request)\u001b[0m\n\u001b[1;32m    205\u001b[0m req \u001b[38;5;241m=\u001b[39m httpcore\u001b[38;5;241m.\u001b[39mRequest(\n\u001b[1;32m    206\u001b[0m     method\u001b[38;5;241m=\u001b[39mrequest\u001b[38;5;241m.\u001b[39mmethod,\n\u001b[1;32m    207\u001b[0m     url\u001b[38;5;241m=\u001b[39mhttpcore\u001b[38;5;241m.\u001b[39mURL(\n\u001b[0;32m   (...)\u001b[0m\n\u001b[1;32m    215\u001b[0m     extensions\u001b[38;5;241m=\u001b[39mrequest\u001b[38;5;241m.\u001b[39mextensions,\n\u001b[1;32m    216\u001b[0m )\n\u001b[1;32m    217\u001b[0m \u001b[38;5;28;01mwith\u001b[39;00m map_httpcore_exceptions():\n\u001b[0;32m--> 218\u001b[0m     resp \u001b[38;5;241m=\u001b[39m \u001b[38;5;28;43mself\u001b[39;49m\u001b[38;5;241;43m.\u001b[39;49m\u001b[43m_pool\u001b[49m\u001b[38;5;241;43m.\u001b[39;49m\u001b[43mhandle_request\u001b[49m\u001b[43m(\u001b[49m\u001b[43mreq\u001b[49m\u001b[43m)\u001b[49m\n\u001b[1;32m    220\u001b[0m \u001b[38;5;28;01massert\u001b[39;00m \u001b[38;5;28misinstance\u001b[39m(resp\u001b[38;5;241m.\u001b[39mstream, typing\u001b[38;5;241m.\u001b[39mIterable)\n\u001b[1;32m    222\u001b[0m \u001b[38;5;28;01mreturn\u001b[39;00m Response(\n\u001b[1;32m    223\u001b[0m     status_code\u001b[38;5;241m=\u001b[39mresp\u001b[38;5;241m.\u001b[39mstatus,\n\u001b[1;32m    224\u001b[0m     headers\u001b[38;5;241m=\u001b[39mresp\u001b[38;5;241m.\u001b[39mheaders,\n\u001b[1;32m    225\u001b[0m     stream\u001b[38;5;241m=\u001b[39mResponseStream(resp\u001b[38;5;241m.\u001b[39mstream),\n\u001b[1;32m    226\u001b[0m     extensions\u001b[38;5;241m=\u001b[39mresp\u001b[38;5;241m.\u001b[39mextensions,\n\u001b[1;32m    227\u001b[0m )\n",
      "File \u001b[0;32m~/cs477-final-project/.conda/lib/python3.11/site-packages/httpcore/_sync/connection_pool.py:262\u001b[0m, in \u001b[0;36mConnectionPool.handle_request\u001b[0;34m(self, request)\u001b[0m\n\u001b[1;32m    260\u001b[0m     \u001b[38;5;28;01mwith\u001b[39;00m ShieldCancellation():\n\u001b[1;32m    261\u001b[0m         \u001b[38;5;28mself\u001b[39m\u001b[38;5;241m.\u001b[39mresponse_closed(status)\n\u001b[0;32m--> 262\u001b[0m     \u001b[38;5;28;01mraise\u001b[39;00m exc\n\u001b[1;32m    263\u001b[0m \u001b[38;5;28;01melse\u001b[39;00m:\n\u001b[1;32m    264\u001b[0m     \u001b[38;5;28;01mbreak\u001b[39;00m\n",
      "File \u001b[0;32m~/cs477-final-project/.conda/lib/python3.11/site-packages/httpcore/_sync/connection_pool.py:245\u001b[0m, in \u001b[0;36mConnectionPool.handle_request\u001b[0;34m(self, request)\u001b[0m\n\u001b[1;32m    242\u001b[0m         \u001b[38;5;28;01mraise\u001b[39;00m exc\n\u001b[1;32m    244\u001b[0m \u001b[38;5;28;01mtry\u001b[39;00m:\n\u001b[0;32m--> 245\u001b[0m     response \u001b[38;5;241m=\u001b[39m \u001b[43mconnection\u001b[49m\u001b[38;5;241;43m.\u001b[39;49m\u001b[43mhandle_request\u001b[49m\u001b[43m(\u001b[49m\u001b[43mrequest\u001b[49m\u001b[43m)\u001b[49m\n\u001b[1;32m    246\u001b[0m \u001b[38;5;28;01mexcept\u001b[39;00m ConnectionNotAvailable:\n\u001b[1;32m    247\u001b[0m     \u001b[38;5;66;03m# The ConnectionNotAvailable exception is a special case, that\u001b[39;00m\n\u001b[1;32m    248\u001b[0m     \u001b[38;5;66;03m# indicates we need to retry the request on a new connection.\u001b[39;00m\n\u001b[0;32m   (...)\u001b[0m\n\u001b[1;32m    252\u001b[0m     \u001b[38;5;66;03m# might end up as an HTTP/2 connection, but which actually ends\u001b[39;00m\n\u001b[1;32m    253\u001b[0m     \u001b[38;5;66;03m# up as HTTP/1.1.\u001b[39;00m\n\u001b[1;32m    254\u001b[0m     \u001b[38;5;28;01mwith\u001b[39;00m \u001b[38;5;28mself\u001b[39m\u001b[38;5;241m.\u001b[39m_pool_lock:\n\u001b[1;32m    255\u001b[0m         \u001b[38;5;66;03m# Maintain our position in the request queue, but reset the\u001b[39;00m\n\u001b[1;32m    256\u001b[0m         \u001b[38;5;66;03m# status so that the request becomes queued again.\u001b[39;00m\n",
      "File \u001b[0;32m~/cs477-final-project/.conda/lib/python3.11/site-packages/httpcore/_sync/connection.py:96\u001b[0m, in \u001b[0;36mHTTPConnection.handle_request\u001b[0;34m(self, request)\u001b[0m\n\u001b[1;32m     93\u001b[0m     \u001b[38;5;28;01melif\u001b[39;00m \u001b[38;5;129;01mnot\u001b[39;00m \u001b[38;5;28mself\u001b[39m\u001b[38;5;241m.\u001b[39m_connection\u001b[38;5;241m.\u001b[39mis_available():\n\u001b[1;32m     94\u001b[0m         \u001b[38;5;28;01mraise\u001b[39;00m ConnectionNotAvailable()\n\u001b[0;32m---> 96\u001b[0m \u001b[38;5;28;01mreturn\u001b[39;00m \u001b[38;5;28;43mself\u001b[39;49m\u001b[38;5;241;43m.\u001b[39;49m\u001b[43m_connection\u001b[49m\u001b[38;5;241;43m.\u001b[39;49m\u001b[43mhandle_request\u001b[49m\u001b[43m(\u001b[49m\u001b[43mrequest\u001b[49m\u001b[43m)\u001b[49m\n",
      "File \u001b[0;32m~/cs477-final-project/.conda/lib/python3.11/site-packages/httpcore/_sync/http11.py:121\u001b[0m, in \u001b[0;36mHTTP11Connection.handle_request\u001b[0;34m(self, request)\u001b[0m\n\u001b[1;32m    119\u001b[0m     \u001b[38;5;28;01mwith\u001b[39;00m Trace(\u001b[38;5;124m\"\u001b[39m\u001b[38;5;124mresponse_closed\u001b[39m\u001b[38;5;124m\"\u001b[39m, logger, request) \u001b[38;5;28;01mas\u001b[39;00m trace:\n\u001b[1;32m    120\u001b[0m         \u001b[38;5;28mself\u001b[39m\u001b[38;5;241m.\u001b[39m_response_closed()\n\u001b[0;32m--> 121\u001b[0m \u001b[38;5;28;01mraise\u001b[39;00m exc\n",
      "File \u001b[0;32m~/cs477-final-project/.conda/lib/python3.11/site-packages/httpcore/_sync/http11.py:99\u001b[0m, in \u001b[0;36mHTTP11Connection.handle_request\u001b[0;34m(self, request)\u001b[0m\n\u001b[1;32m     90\u001b[0m     \u001b[38;5;28mself\u001b[39m\u001b[38;5;241m.\u001b[39m_send_request_body(\u001b[38;5;241m*\u001b[39m\u001b[38;5;241m*\u001b[39mkwargs)\n\u001b[1;32m     91\u001b[0m \u001b[38;5;28;01mwith\u001b[39;00m Trace(\n\u001b[1;32m     92\u001b[0m     \u001b[38;5;124m\"\u001b[39m\u001b[38;5;124mreceive_response_headers\u001b[39m\u001b[38;5;124m\"\u001b[39m, logger, request, kwargs\n\u001b[1;32m     93\u001b[0m ) \u001b[38;5;28;01mas\u001b[39;00m trace:\n\u001b[1;32m     94\u001b[0m     (\n\u001b[1;32m     95\u001b[0m         http_version,\n\u001b[1;32m     96\u001b[0m         status,\n\u001b[1;32m     97\u001b[0m         reason_phrase,\n\u001b[1;32m     98\u001b[0m         headers,\n\u001b[0;32m---> 99\u001b[0m     ) \u001b[38;5;241m=\u001b[39m \u001b[38;5;28;43mself\u001b[39;49m\u001b[38;5;241;43m.\u001b[39;49m\u001b[43m_receive_response_headers\u001b[49m\u001b[43m(\u001b[49m\u001b[38;5;241;43m*\u001b[39;49m\u001b[38;5;241;43m*\u001b[39;49m\u001b[43mkwargs\u001b[49m\u001b[43m)\u001b[49m\n\u001b[1;32m    100\u001b[0m     trace\u001b[38;5;241m.\u001b[39mreturn_value \u001b[38;5;241m=\u001b[39m (\n\u001b[1;32m    101\u001b[0m         http_version,\n\u001b[1;32m    102\u001b[0m         status,\n\u001b[1;32m    103\u001b[0m         reason_phrase,\n\u001b[1;32m    104\u001b[0m         headers,\n\u001b[1;32m    105\u001b[0m     )\n\u001b[1;32m    107\u001b[0m \u001b[38;5;28;01mreturn\u001b[39;00m Response(\n\u001b[1;32m    108\u001b[0m     status\u001b[38;5;241m=\u001b[39mstatus,\n\u001b[1;32m    109\u001b[0m     headers\u001b[38;5;241m=\u001b[39mheaders,\n\u001b[0;32m   (...)\u001b[0m\n\u001b[1;32m    115\u001b[0m     },\n\u001b[1;32m    116\u001b[0m )\n",
      "File \u001b[0;32m~/cs477-final-project/.conda/lib/python3.11/site-packages/httpcore/_sync/http11.py:164\u001b[0m, in \u001b[0;36mHTTP11Connection._receive_response_headers\u001b[0;34m(self, request)\u001b[0m\n\u001b[1;32m    161\u001b[0m timeout \u001b[38;5;241m=\u001b[39m timeouts\u001b[38;5;241m.\u001b[39mget(\u001b[38;5;124m\"\u001b[39m\u001b[38;5;124mread\u001b[39m\u001b[38;5;124m\"\u001b[39m, \u001b[38;5;28;01mNone\u001b[39;00m)\n\u001b[1;32m    163\u001b[0m \u001b[38;5;28;01mwhile\u001b[39;00m \u001b[38;5;28;01mTrue\u001b[39;00m:\n\u001b[0;32m--> 164\u001b[0m     event \u001b[38;5;241m=\u001b[39m \u001b[38;5;28;43mself\u001b[39;49m\u001b[38;5;241;43m.\u001b[39;49m\u001b[43m_receive_event\u001b[49m\u001b[43m(\u001b[49m\u001b[43mtimeout\u001b[49m\u001b[38;5;241;43m=\u001b[39;49m\u001b[43mtimeout\u001b[49m\u001b[43m)\u001b[49m\n\u001b[1;32m    165\u001b[0m     \u001b[38;5;28;01mif\u001b[39;00m \u001b[38;5;28misinstance\u001b[39m(event, h11\u001b[38;5;241m.\u001b[39mResponse):\n\u001b[1;32m    166\u001b[0m         \u001b[38;5;28;01mbreak\u001b[39;00m\n",
      "File \u001b[0;32m~/cs477-final-project/.conda/lib/python3.11/site-packages/httpcore/_sync/http11.py:200\u001b[0m, in \u001b[0;36mHTTP11Connection._receive_event\u001b[0;34m(self, timeout)\u001b[0m\n\u001b[1;32m    197\u001b[0m     event \u001b[38;5;241m=\u001b[39m \u001b[38;5;28mself\u001b[39m\u001b[38;5;241m.\u001b[39m_h11_state\u001b[38;5;241m.\u001b[39mnext_event()\n\u001b[1;32m    199\u001b[0m \u001b[38;5;28;01mif\u001b[39;00m event \u001b[38;5;129;01mis\u001b[39;00m h11\u001b[38;5;241m.\u001b[39mNEED_DATA:\n\u001b[0;32m--> 200\u001b[0m     data \u001b[38;5;241m=\u001b[39m \u001b[38;5;28;43mself\u001b[39;49m\u001b[38;5;241;43m.\u001b[39;49m\u001b[43m_network_stream\u001b[49m\u001b[38;5;241;43m.\u001b[39;49m\u001b[43mread\u001b[49m\u001b[43m(\u001b[49m\n\u001b[1;32m    201\u001b[0m \u001b[43m        \u001b[49m\u001b[38;5;28;43mself\u001b[39;49m\u001b[38;5;241;43m.\u001b[39;49m\u001b[43mREAD_NUM_BYTES\u001b[49m\u001b[43m,\u001b[49m\u001b[43m \u001b[49m\u001b[43mtimeout\u001b[49m\u001b[38;5;241;43m=\u001b[39;49m\u001b[43mtimeout\u001b[49m\n\u001b[1;32m    202\u001b[0m \u001b[43m    \u001b[49m\u001b[43m)\u001b[49m\n\u001b[1;32m    204\u001b[0m     \u001b[38;5;66;03m# If we feed this case through h11 we'll raise an exception like:\u001b[39;00m\n\u001b[1;32m    205\u001b[0m     \u001b[38;5;66;03m#\u001b[39;00m\n\u001b[1;32m    206\u001b[0m     \u001b[38;5;66;03m#     httpcore.RemoteProtocolError: can't handle event type\u001b[39;00m\n\u001b[0;32m   (...)\u001b[0m\n\u001b[1;32m    210\u001b[0m     \u001b[38;5;66;03m# perspective. Instead we handle this case distinctly and treat\u001b[39;00m\n\u001b[1;32m    211\u001b[0m     \u001b[38;5;66;03m# it as a ConnectError.\u001b[39;00m\n\u001b[1;32m    212\u001b[0m     \u001b[38;5;28;01mif\u001b[39;00m data \u001b[38;5;241m==\u001b[39m \u001b[38;5;124mb\u001b[39m\u001b[38;5;124m\"\u001b[39m\u001b[38;5;124m\"\u001b[39m \u001b[38;5;129;01mand\u001b[39;00m \u001b[38;5;28mself\u001b[39m\u001b[38;5;241m.\u001b[39m_h11_state\u001b[38;5;241m.\u001b[39mtheir_state \u001b[38;5;241m==\u001b[39m h11\u001b[38;5;241m.\u001b[39mSEND_RESPONSE:\n",
      "File \u001b[0;32m~/cs477-final-project/.conda/lib/python3.11/site-packages/httpcore/_backends/sync.py:28\u001b[0m, in \u001b[0;36mSyncStream.read\u001b[0;34m(self, max_bytes, timeout)\u001b[0m\n\u001b[1;32m     26\u001b[0m \u001b[38;5;28;01mwith\u001b[39;00m map_exceptions(exc_map):\n\u001b[1;32m     27\u001b[0m     \u001b[38;5;28mself\u001b[39m\u001b[38;5;241m.\u001b[39m_sock\u001b[38;5;241m.\u001b[39msettimeout(timeout)\n\u001b[0;32m---> 28\u001b[0m     \u001b[38;5;28;01mreturn\u001b[39;00m \u001b[38;5;28;43mself\u001b[39;49m\u001b[38;5;241;43m.\u001b[39;49m\u001b[43m_sock\u001b[49m\u001b[38;5;241;43m.\u001b[39;49m\u001b[43mrecv\u001b[49m\u001b[43m(\u001b[49m\u001b[43mmax_bytes\u001b[49m\u001b[43m)\u001b[49m\n",
      "File \u001b[0;32m~/cs477-final-project/.conda/lib/python3.11/ssl.py:1295\u001b[0m, in \u001b[0;36mSSLSocket.recv\u001b[0;34m(self, buflen, flags)\u001b[0m\n\u001b[1;32m   1291\u001b[0m     \u001b[38;5;28;01mif\u001b[39;00m flags \u001b[38;5;241m!=\u001b[39m \u001b[38;5;241m0\u001b[39m:\n\u001b[1;32m   1292\u001b[0m         \u001b[38;5;28;01mraise\u001b[39;00m \u001b[38;5;167;01mValueError\u001b[39;00m(\n\u001b[1;32m   1293\u001b[0m             \u001b[38;5;124m\"\u001b[39m\u001b[38;5;124mnon-zero flags not allowed in calls to recv() on \u001b[39m\u001b[38;5;132;01m%s\u001b[39;00m\u001b[38;5;124m\"\u001b[39m \u001b[38;5;241m%\u001b[39m\n\u001b[1;32m   1294\u001b[0m             \u001b[38;5;28mself\u001b[39m\u001b[38;5;241m.\u001b[39m\u001b[38;5;18m__class__\u001b[39m)\n\u001b[0;32m-> 1295\u001b[0m     \u001b[38;5;28;01mreturn\u001b[39;00m \u001b[38;5;28;43mself\u001b[39;49m\u001b[38;5;241;43m.\u001b[39;49m\u001b[43mread\u001b[49m\u001b[43m(\u001b[49m\u001b[43mbuflen\u001b[49m\u001b[43m)\u001b[49m\n\u001b[1;32m   1296\u001b[0m \u001b[38;5;28;01melse\u001b[39;00m:\n\u001b[1;32m   1297\u001b[0m     \u001b[38;5;28;01mreturn\u001b[39;00m \u001b[38;5;28msuper\u001b[39m()\u001b[38;5;241m.\u001b[39mrecv(buflen, flags)\n",
      "File \u001b[0;32m~/cs477-final-project/.conda/lib/python3.11/ssl.py:1168\u001b[0m, in \u001b[0;36mSSLSocket.read\u001b[0;34m(self, len, buffer)\u001b[0m\n\u001b[1;32m   1166\u001b[0m         \u001b[38;5;28;01mreturn\u001b[39;00m \u001b[38;5;28mself\u001b[39m\u001b[38;5;241m.\u001b[39m_sslobj\u001b[38;5;241m.\u001b[39mread(\u001b[38;5;28mlen\u001b[39m, buffer)\n\u001b[1;32m   1167\u001b[0m     \u001b[38;5;28;01melse\u001b[39;00m:\n\u001b[0;32m-> 1168\u001b[0m         \u001b[38;5;28;01mreturn\u001b[39;00m \u001b[38;5;28;43mself\u001b[39;49m\u001b[38;5;241;43m.\u001b[39;49m\u001b[43m_sslobj\u001b[49m\u001b[38;5;241;43m.\u001b[39;49m\u001b[43mread\u001b[49m\u001b[43m(\u001b[49m\u001b[38;5;28;43mlen\u001b[39;49m\u001b[43m)\u001b[49m\n\u001b[1;32m   1169\u001b[0m \u001b[38;5;28;01mexcept\u001b[39;00m SSLError \u001b[38;5;28;01mas\u001b[39;00m x:\n\u001b[1;32m   1170\u001b[0m     \u001b[38;5;28;01mif\u001b[39;00m x\u001b[38;5;241m.\u001b[39margs[\u001b[38;5;241m0\u001b[39m] \u001b[38;5;241m==\u001b[39m SSL_ERROR_EOF \u001b[38;5;129;01mand\u001b[39;00m \u001b[38;5;28mself\u001b[39m\u001b[38;5;241m.\u001b[39msuppress_ragged_eofs:\n",
      "\u001b[0;31mKeyboardInterrupt\u001b[0m: "
     ]
    }
   ],
   "source": [
    "import calling\n",
    "from tqdm import tqdm\n",
    "results = []\n",
    "num_pass = 0\n",
    "token_usage = 0\n",
    "for i, row in tqdm(df.iterrows()):\n",
    "    obj = prompts.to_patent_data(row, \"gpt4v\", prefer_local=True, mode=TEXT_ONLY)\n",
    "    if (obj is None): continue\n",
    "    print(obj)\n",
    "    messages = prompts.generate_prompt_openai(obj)\n",
    "    try:\n",
    "        result, token_usage = calling.call_openai(obj, return_token_usage=True)\n",
    "    except Exception as e:\n",
    "        print(e)\n",
    "        continue\n",
    "    results.append(result)\n",
    "    if obj.label in result:\n",
    "        num_pass += 1\n",
    "    print(f\"Output: {result}, Expected: {obj.label}, Current Accuracy: {num_pass/(i+1)}, Token Usage: {token_usage}\")"
   ]
  },
  {
   "cell_type": "markdown",
   "metadata": {},
   "source": [
    "## Text + Image"
   ]
  },
  {
   "cell_type": "code",
   "execution_count": null,
   "metadata": {},
   "outputs": [],
   "source": [
    "import calling\n",
    "from tqdm import tqdm\n",
    "results = []\n",
    "num_pass = 0\n",
    "token_usage = 0\n",
    "for i, row in tqdm(df.iterrows()):\n",
    "    obj = prompts.to_patent_data(row, \"gpt4v\", prefer_local=True, mode=TEXT_IMAGE)\n",
    "    if (obj is None): continue\n",
    "    print(obj)\n",
    "    messages = prompts.generate_prompt_openai(obj)\n",
    "    try:\n",
    "        result, token_usage = calling.call_openai(obj, return_token_usage=True)\n",
    "    except Exception as e:\n",
    "        print(e)\n",
    "        continue\n",
    "    results.append(result)\n",
    "    if obj.label in result:\n",
    "        num_pass += 1\n",
    "    print(f\"Output: {result}, Expected: {obj.label}, Current Accuracy: {num_pass/(i+1)}, Token Usage: {token_usage}\")"
   ]
  }
 ],
 "metadata": {
  "kernelspec": {
   "display_name": "Python 3",
   "language": "python",
   "name": "python3"
  },
  "language_info": {
   "codemirror_mode": {
    "name": "ipython",
    "version": 3
   },
   "file_extension": ".py",
   "mimetype": "text/x-python",
   "name": "python",
   "nbconvert_exporter": "python",
   "pygments_lexer": "ipython3",
   "version": "3.11.9"
  }
 },
 "nbformat": 4,
 "nbformat_minor": 2
}
