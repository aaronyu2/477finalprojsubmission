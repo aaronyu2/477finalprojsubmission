{
 "cells": [
  {
   "cell_type": "code",
   "execution_count": 1,
   "metadata": {},
   "outputs": [
    {
     "name": "stdout",
     "output_type": "stream",
     "text": [
      "Defaulting to user installation because normal site-packages is not writeable\n",
      "Requirement already satisfied: datasets in /home/accts/amy23/.local/lib/python3.11/site-packages (2.16.1)\n",
      "Requirement already satisfied: filelock in /usr/lib/python3.11/site-packages (from datasets) (3.8.2)\n",
      "Requirement already satisfied: numpy>=1.17 in /home/accts/amy23/.local/lib/python3.11/site-packages (from datasets) (1.24.4)\n",
      "Requirement already satisfied: pyarrow>=8.0.0 in /usr/lib64/python3.11/site-packages (from datasets) (11.0.0)\n",
      "Requirement already satisfied: pyarrow-hotfix in /home/accts/amy23/.local/lib/python3.11/site-packages (from datasets) (0.6)\n",
      "Requirement already satisfied: dill<0.3.8,>=0.3.0 in /home/accts/amy23/.local/lib/python3.11/site-packages (from datasets) (0.3.7)\n",
      "Requirement already satisfied: pandas in /home/accts/amy23/.local/lib/python3.11/site-packages (from datasets) (2.0.3)\n",
      "Requirement already satisfied: requests>=2.19.0 in /usr/lib/python3.11/site-packages (from datasets) (2.28.2)\n",
      "Requirement already satisfied: tqdm>=4.62.1 in /usr/lib/python3.11/site-packages (from datasets) (4.66.2)\n",
      "Requirement already satisfied: xxhash in /usr/lib64/python3.11/site-packages (from datasets) (3.4.1)\n",
      "Requirement already satisfied: multiprocess in /home/accts/amy23/.local/lib/python3.11/site-packages (from datasets) (0.70.15)\n",
      "Requirement already satisfied: fsspec[http]<=2023.10.0,>=2023.1.0 in /home/accts/amy23/.local/lib/python3.11/site-packages (from datasets) (2023.10.0)\n",
      "Requirement already satisfied: aiohttp in /usr/lib64/python3.11/site-packages (from datasets) (3.9.3)\n",
      "Requirement already satisfied: huggingface-hub>=0.19.4 in /home/accts/amy23/.local/lib/python3.11/site-packages (from datasets) (0.20.3)\n",
      "Requirement already satisfied: packaging in /usr/lib/python3.11/site-packages (from datasets) (23.0)\n",
      "Requirement already satisfied: pyyaml>=5.1 in /usr/lib64/python3.11/site-packages (from datasets) (6.0)\n",
      "Requirement already satisfied: aiosignal>=1.1.2 in /usr/lib/python3.11/site-packages (from aiohttp->datasets) (1.3.1)\n",
      "Requirement already satisfied: attrs>=17.3.0 in /home/accts/amy23/.local/lib/python3.11/site-packages (from aiohttp->datasets) (23.2.0)\n",
      "Requirement already satisfied: frozenlist>=1.1.1 in /usr/lib64/python3.11/site-packages (from aiohttp->datasets) (1.4.0)\n",
      "Requirement already satisfied: multidict<7.0,>=4.5 in /usr/lib64/python3.11/site-packages (from aiohttp->datasets) (6.0.4)\n",
      "Requirement already satisfied: yarl<2.0,>=1.0 in /usr/lib64/python3.11/site-packages (from aiohttp->datasets) (1.8.2)\n",
      "Requirement already satisfied: typing-extensions>=3.7.4.3 in /home/accts/amy23/.local/lib/python3.11/site-packages (from huggingface-hub>=0.19.4->datasets) (4.9.0)\n",
      "Requirement already satisfied: charset-normalizer<4,>=2 in /usr/lib/python3.11/site-packages (from requests>=2.19.0->datasets) (3.1.0)\n",
      "Requirement already satisfied: idna<4,>=2.5 in /usr/lib/python3.11/site-packages (from requests>=2.19.0->datasets) (3.4)\n",
      "Requirement already satisfied: urllib3<1.27,>=1.21.1 in /usr/lib/python3.11/site-packages (from requests>=2.19.0->datasets) (1.26.18)\n",
      "Requirement already satisfied: python-dateutil>=2.8.2 in /usr/lib/python3.11/site-packages (from pandas->datasets) (2.8.2)\n",
      "Requirement already satisfied: pytz>=2020.1 in /usr/lib/python3.11/site-packages (from pandas->datasets) (2024.1)\n",
      "Requirement already satisfied: tzdata>=2022.1 in /home/accts/amy23/.local/lib/python3.11/site-packages (from pandas->datasets) (2024.1)\n",
      "Requirement already satisfied: six>=1.5 in /usr/lib/python3.11/site-packages (from python-dateutil>=2.8.2->pandas->datasets) (1.16.0)\n",
      "Defaulting to user installation because normal site-packages is not writeable\n",
      "Requirement already satisfied: transformers in /home/accts/amy23/.local/lib/python3.11/site-packages (4.39.2)\n",
      "Requirement already satisfied: filelock in /usr/lib/python3.11/site-packages (from transformers) (3.8.2)\n",
      "Requirement already satisfied: huggingface-hub<1.0,>=0.19.3 in /home/accts/amy23/.local/lib/python3.11/site-packages (from transformers) (0.20.3)\n",
      "Requirement already satisfied: numpy>=1.17 in /home/accts/amy23/.local/lib/python3.11/site-packages (from transformers) (1.24.4)\n",
      "Requirement already satisfied: packaging>=20.0 in /usr/lib/python3.11/site-packages (from transformers) (23.0)\n",
      "Requirement already satisfied: pyyaml>=5.1 in /usr/lib64/python3.11/site-packages (from transformers) (6.0)\n",
      "Requirement already satisfied: regex!=2019.12.17 in /usr/lib64/python3.11/site-packages (from transformers) (2023.12.25)\n",
      "Requirement already satisfied: requests in /usr/lib/python3.11/site-packages (from transformers) (2.28.2)\n",
      "Requirement already satisfied: tokenizers<0.19,>=0.14 in /home/accts/amy23/.local/lib/python3.11/site-packages (from transformers) (0.15.2)\n",
      "Requirement already satisfied: safetensors>=0.4.1 in /home/accts/amy23/.local/lib/python3.11/site-packages (from transformers) (0.4.2)\n",
      "Requirement already satisfied: tqdm>=4.27 in /usr/lib/python3.11/site-packages (from transformers) (4.66.2)\n",
      "Requirement already satisfied: fsspec>=2023.5.0 in /home/accts/amy23/.local/lib/python3.11/site-packages (from huggingface-hub<1.0,>=0.19.3->transformers) (2023.10.0)\n",
      "Requirement already satisfied: typing-extensions>=3.7.4.3 in /home/accts/amy23/.local/lib/python3.11/site-packages (from huggingface-hub<1.0,>=0.19.3->transformers) (4.9.0)\n",
      "Requirement already satisfied: charset-normalizer<4,>=2 in /usr/lib/python3.11/site-packages (from requests->transformers) (3.1.0)\n",
      "Requirement already satisfied: idna<4,>=2.5 in /usr/lib/python3.11/site-packages (from requests->transformers) (3.4)\n",
      "Requirement already satisfied: urllib3<1.27,>=1.21.1 in /usr/lib/python3.11/site-packages (from requests->transformers) (1.26.18)\n",
      "Defaulting to user installation because normal site-packages is not writeable\n",
      "Requirement already satisfied: vertexai in /home/accts/amy23/.local/lib/python3.11/site-packages (1.48.0)\n",
      "Requirement already satisfied: google-cloud-aiplatform[all]==1.48.0 in /home/accts/amy23/.local/lib/python3.11/site-packages (from vertexai) (1.48.0)\n",
      "\u001b[33mWARNING: google-cloud-aiplatform 1.48.0 does not provide the extra 'all'\u001b[0m\u001b[33m\n",
      "\u001b[0mRequirement already satisfied: google-api-core[grpc]!=2.0.*,!=2.1.*,!=2.2.*,!=2.3.*,!=2.4.*,!=2.5.*,!=2.6.*,!=2.7.*,<3.0.0dev,>=1.34.1 in /usr/lib/python3.11/site-packages (from google-cloud-aiplatform[all]==1.48.0->vertexai) (2.11.1)\n",
      "Requirement already satisfied: google-auth<3.0.0dev,>=2.14.1 in /usr/lib/python3.11/site-packages (from google-cloud-aiplatform[all]==1.48.0->vertexai) (2.28.2)\n",
      "Requirement already satisfied: proto-plus<2.0.0dev,>=1.22.0 in /home/accts/amy23/.local/lib/python3.11/site-packages (from google-cloud-aiplatform[all]==1.48.0->vertexai) (1.23.0)\n",
      "Requirement already satisfied: protobuf!=3.20.0,!=3.20.1,!=4.21.0,!=4.21.1,!=4.21.2,!=4.21.3,!=4.21.4,!=4.21.5,<5.0.0dev,>=3.19.5 in /usr/lib64/python3.11/site-packages (from google-cloud-aiplatform[all]==1.48.0->vertexai) (3.19.6)\n",
      "Requirement already satisfied: packaging>=14.3 in /usr/lib/python3.11/site-packages (from google-cloud-aiplatform[all]==1.48.0->vertexai) (23.0)\n",
      "Requirement already satisfied: google-cloud-storage<3.0.0dev,>=1.32.0 in /usr/lib/python3.11/site-packages (from google-cloud-aiplatform[all]==1.48.0->vertexai) (2.13.0)\n",
      "Requirement already satisfied: google-cloud-bigquery!=3.20.0,<4.0.0dev,>=1.15.0 in /home/accts/amy23/.local/lib/python3.11/site-packages (from google-cloud-aiplatform[all]==1.48.0->vertexai) (3.20.1)\n",
      "Requirement already satisfied: google-cloud-resource-manager<3.0.0dev,>=1.3.3 in /home/accts/amy23/.local/lib/python3.11/site-packages (from google-cloud-aiplatform[all]==1.48.0->vertexai) (1.12.3)\n",
      "Requirement already satisfied: shapely<3.0.0dev in /usr/lib64/python3.11/site-packages (from google-cloud-aiplatform[all]==1.48.0->vertexai) (1.8.5.post1)\n",
      "Requirement already satisfied: pydantic<3 in /home/accts/amy23/.local/lib/python3.11/site-packages (from google-cloud-aiplatform[all]==1.48.0->vertexai) (2.7.0)\n",
      "Requirement already satisfied: docstring-parser<1 in /home/accts/amy23/.local/lib/python3.11/site-packages (from google-cloud-aiplatform[all]==1.48.0->vertexai) (0.16)\n",
      "Requirement already satisfied: googleapis-common-protos<2.0.dev0,>=1.56.2 in /usr/lib/python3.11/site-packages (from google-api-core[grpc]!=2.0.*,!=2.1.*,!=2.2.*,!=2.3.*,!=2.4.*,!=2.5.*,!=2.6.*,!=2.7.*,<3.0.0dev,>=1.34.1->google-cloud-aiplatform[all]==1.48.0->vertexai) (1.63.0)\n",
      "Requirement already satisfied: requests<3.0.0.dev0,>=2.18.0 in /usr/lib/python3.11/site-packages (from google-api-core[grpc]!=2.0.*,!=2.1.*,!=2.2.*,!=2.3.*,!=2.4.*,!=2.5.*,!=2.6.*,!=2.7.*,<3.0.0dev,>=1.34.1->google-cloud-aiplatform[all]==1.48.0->vertexai) (2.28.2)\n",
      "Requirement already satisfied: grpcio<2.0dev,>=1.33.2 in /usr/lib64/python3.11/site-packages (from google-api-core[grpc]!=2.0.*,!=2.1.*,!=2.2.*,!=2.3.*,!=2.4.*,!=2.5.*,!=2.6.*,!=2.7.*,<3.0.0dev,>=1.34.1->google-cloud-aiplatform[all]==1.48.0->vertexai) (1.48.4)\n",
      "Requirement already satisfied: grpcio-status<2.0.dev0,>=1.33.2 in /usr/lib/python3.11/site-packages (from google-api-core[grpc]!=2.0.*,!=2.1.*,!=2.2.*,!=2.3.*,!=2.4.*,!=2.5.*,!=2.6.*,!=2.7.*,<3.0.0dev,>=1.34.1->google-cloud-aiplatform[all]==1.48.0->vertexai) (1.48.4)\n",
      "Requirement already satisfied: cachetools<6.0,>=2.0.0 in /usr/lib/python3.11/site-packages (from google-auth<3.0.0dev,>=2.14.1->google-cloud-aiplatform[all]==1.48.0->vertexai) (5.3.0)\n",
      "Requirement already satisfied: pyasn1-modules>=0.2.1 in /usr/lib/python3.11/site-packages (from google-auth<3.0.0dev,>=2.14.1->google-cloud-aiplatform[all]==1.48.0->vertexai) (0.3.0)\n",
      "Requirement already satisfied: rsa<5,>=3.1.4 in /usr/lib/python3.11/site-packages (from google-auth<3.0.0dev,>=2.14.1->google-cloud-aiplatform[all]==1.48.0->vertexai) (4.9)\n",
      "Requirement already satisfied: google-cloud-core<3.0.0dev,>=1.6.0 in /usr/lib/python3.11/site-packages (from google-cloud-bigquery!=3.20.0,<4.0.0dev,>=1.15.0->google-cloud-aiplatform[all]==1.48.0->vertexai) (2.3.3)\n",
      "Requirement already satisfied: google-resumable-media<3.0dev,>=0.6.0 in /usr/lib/python3.11/site-packages (from google-cloud-bigquery!=3.20.0,<4.0.0dev,>=1.15.0->google-cloud-aiplatform[all]==1.48.0->vertexai) (2.7.0)\n",
      "Requirement already satisfied: python-dateutil<3.0dev,>=2.7.2 in /usr/lib/python3.11/site-packages (from google-cloud-bigquery!=3.20.0,<4.0.0dev,>=1.15.0->google-cloud-aiplatform[all]==1.48.0->vertexai) (2.8.2)\n",
      "Requirement already satisfied: grpc-google-iam-v1<1.0.0dev,>=0.12.4 in /home/accts/amy23/.local/lib/python3.11/site-packages (from google-cloud-resource-manager<3.0.0dev,>=1.3.3->google-cloud-aiplatform[all]==1.48.0->vertexai) (0.13.0)\n",
      "Requirement already satisfied: google-crc32c<2.0dev,>=1.0 in /usr/lib64/python3.11/site-packages (from google-cloud-storage<3.0.0dev,>=1.32.0->google-cloud-aiplatform[all]==1.48.0->vertexai) (1.5.0)\n",
      "Requirement already satisfied: annotated-types>=0.4.0 in /home/accts/amy23/.local/lib/python3.11/site-packages (from pydantic<3->google-cloud-aiplatform[all]==1.48.0->vertexai) (0.6.0)\n",
      "Requirement already satisfied: pydantic-core==2.18.1 in /home/accts/amy23/.local/lib/python3.11/site-packages (from pydantic<3->google-cloud-aiplatform[all]==1.48.0->vertexai) (2.18.1)\n",
      "Requirement already satisfied: typing-extensions>=4.6.1 in /home/accts/amy23/.local/lib/python3.11/site-packages (from pydantic<3->google-cloud-aiplatform[all]==1.48.0->vertexai) (4.9.0)\n",
      "Requirement already satisfied: six>=1.5.2 in /usr/lib/python3.11/site-packages (from grpcio<2.0dev,>=1.33.2->google-api-core[grpc]!=2.0.*,!=2.1.*,!=2.2.*,!=2.3.*,!=2.4.*,!=2.5.*,!=2.6.*,!=2.7.*,<3.0.0dev,>=1.34.1->google-cloud-aiplatform[all]==1.48.0->vertexai) (1.16.0)\n",
      "Requirement already satisfied: pyasn1<0.6.0,>=0.4.6 in /usr/lib/python3.11/site-packages (from pyasn1-modules>=0.2.1->google-auth<3.0.0dev,>=2.14.1->google-cloud-aiplatform[all]==1.48.0->vertexai) (0.5.1)\n",
      "Requirement already satisfied: charset-normalizer<4,>=2 in /usr/lib/python3.11/site-packages (from requests<3.0.0.dev0,>=2.18.0->google-api-core[grpc]!=2.0.*,!=2.1.*,!=2.2.*,!=2.3.*,!=2.4.*,!=2.5.*,!=2.6.*,!=2.7.*,<3.0.0dev,>=1.34.1->google-cloud-aiplatform[all]==1.48.0->vertexai) (3.1.0)\n",
      "Requirement already satisfied: idna<4,>=2.5 in /usr/lib/python3.11/site-packages (from requests<3.0.0.dev0,>=2.18.0->google-api-core[grpc]!=2.0.*,!=2.1.*,!=2.2.*,!=2.3.*,!=2.4.*,!=2.5.*,!=2.6.*,!=2.7.*,<3.0.0dev,>=1.34.1->google-cloud-aiplatform[all]==1.48.0->vertexai) (3.4)\n",
      "Requirement already satisfied: urllib3<1.27,>=1.21.1 in /usr/lib/python3.11/site-packages (from requests<3.0.0.dev0,>=2.18.0->google-api-core[grpc]!=2.0.*,!=2.1.*,!=2.2.*,!=2.3.*,!=2.4.*,!=2.5.*,!=2.6.*,!=2.7.*,<3.0.0dev,>=1.34.1->google-cloud-aiplatform[all]==1.48.0->vertexai) (1.26.18)\n"
     ]
    }
   ],
   "source": [
    "!pip install datasets\n",
    "!pip install transformers\n",
    "!pip install vertexai"
   ]
  },
  {
   "cell_type": "code",
   "execution_count": 2,
   "metadata": {},
   "outputs": [],
   "source": [
    "# Pretty print\n",
    "from pprint import pprint\n",
    "# Datasets load_dataset function\n",
    "from datasets import load_dataset\n",
    "# Transformers Autokenizer\n",
    "from transformers import AutoTokenizer\n",
    "tokenizer = AutoTokenizer.from_pretrained('distilbert-base-uncased')\n",
    "# Standard PyTorch DataLoader\n",
    "from torch.utils.data import DataLoader\n",
    "import pandas as pd\n",
    "import time\n",
    "\n",
    "from PIL import Image as PILImage\n",
    "\n",
    "import vertexai\n",
    "from vertexai.generative_models import Image as VertexImage, GenerativeModel\n",
    "import urllib.request\n",
    "import http.client\n",
    "import typing"
   ]
  },
  {
   "cell_type": "code",
   "execution_count": 3,
   "metadata": {},
   "outputs": [],
   "source": [
    "def concat_images(images):\n",
    "    if len(images) == 1:\n",
    "        return images[0]\n",
    "    if len(images) < 1:\n",
    "        return None\n",
    "    max_height = 0\n",
    "    total_width = 0\n",
    "    for image in images:\n",
    "        width, height = image.size\n",
    "        print(width, height)\n",
    "        max_height = max(height, max_height)\n",
    "        total_width += width\n",
    "    to_return = PILImage.new(\"RGB\", (total_width, max_height))\n",
    "    curr_x = 0\n",
    "    for image in images:\n",
    "        to_return.paste(image, (curr_x, 0))\n",
    "        curr_x += image.size[0]\n",
    "    # to_return.save(\"out.png\")\n",
    "    return to_return"
   ]
  },
  {
   "cell_type": "code",
   "execution_count": 27,
   "metadata": {},
   "outputs": [],
   "source": [
    "df_full = pd.read_feather(\"/home/accts/amy23/cs477/finalproj/hupd_metadata_2022-02-22.feather\")"
   ]
  },
  {
   "cell_type": "code",
   "execution_count": 80,
   "metadata": {},
   "outputs": [],
   "source": [
    "# dataset_dict = load_dataset('HUPD/hupd',\n",
    "#     name='all',\n",
    "#     data_files={\n",
    "#         'train': '/home/accts/amy23/cs477/finalproj/hupd_metadata_2022-02-22.feather',\n",
    "#         'val': '/home/accts/amy23/cs477/finalproj/hupd_metadata_2022-02-22.feather'\n",
    "#     },\n",
    "#     icpr_label=None,\n",
    "#     force_extract=True,\n",
    "    # train_filing_start_date='2016-01-01',\n",
    "    # train_filing_end_date='2016-01-20',\n",
    "#     val_filing_start_date='2016-01-21',\n",
    "#     val_filing_end_date='2016-01-30',\n",
    "#     trust_remote_code=True,\n",
    "# )\n",
    "# df = dataset_dict['train'].to_pandas()\n",
    "df_train = pd.read_feather(\"/home/accts/amy23/cs477/finalproj/hupd_sample_train.feather\")"
   ]
  },
  {
   "cell_type": "code",
   "execution_count": 85,
   "metadata": {},
   "outputs": [],
   "source": [
    "df_join = pd.merge(df_train, df_full.astype(\"object\"), left_on=[\"title\", \"filing_date\"], right_on=[\"invention_title\", \"filing_date\"], how=\"left\")"
   ]
  },
  {
   "cell_type": "code",
   "execution_count": 86,
   "metadata": {},
   "outputs": [
    {
     "data": {
      "text/plain": [
       "Index(['patent_number_x', 'decision_x', 'title', 'abstract', 'claims',\n",
       "       'background', 'summary', 'description', 'cpc_label', 'ipc_label',\n",
       "       'filing_date', 'patent_issue_date_x', 'date_published', 'examiner_id',\n",
       "       'application_number', 'application_invention_type',\n",
       "       'examiner_full_name', 'examiner_art_unit', 'uspc_class',\n",
       "       'uspc_subclass', 'confirm_number', 'atty_docket_number',\n",
       "       'appl_status_desc', 'appl_status_date', 'file_location',\n",
       "       'file_location_date', 'earliest_pgpub_number', 'earliest_pgpub_date',\n",
       "       'wipo_pub_number', 'wipo_pub_date', 'patent_number_y',\n",
       "       'patent_issue_date_y', 'invention_title', 'small_entity_indicator',\n",
       "       'aia_first_to_file', 'publication_number', 'date_application_produced',\n",
       "       'date_application_published', 'main_cpc_label', 'cpc_labels',\n",
       "       'main_ipcr_label', 'ipcr_labels', 'foreign', 'continuation',\n",
       "       'decision_y', 'decision_as_of_2020'],\n",
       "      dtype='object')"
      ]
     },
     "execution_count": 86,
     "metadata": {},
     "output_type": "execute_result"
    }
   ],
   "source": [
    "df_join.columns"
   ]
  },
  {
   "cell_type": "code",
   "execution_count": 87,
   "metadata": {},
   "outputs": [
    {
     "name": "stdout",
     "output_type": "stream",
     "text": [
      "(14802, 14)\n",
      "(14802, 46)\n"
     ]
    }
   ],
   "source": [
    "print(df_train.shape)\n",
    "print(df_join.shape)\n"
   ]
  },
  {
   "cell_type": "code",
   "execution_count": 88,
   "metadata": {},
   "outputs": [],
   "source": [
    "df_join.to_feather(\"hupd_sample_train_merged.feather\")  "
   ]
  },
  {
   "cell_type": "code",
   "execution_count": null,
   "metadata": {},
   "outputs": [],
   "source": [
    "vertexai.init(project=\"cs477-final-project\", location=\"us-central1\")"
   ]
  },
  {
   "cell_type": "code",
   "execution_count": 71,
   "metadata": {},
   "outputs": [],
   "source": [
    "# Gemini prompts\n",
    "PROMPT_INDEX = 0\n",
    "PROMPTS = [\n",
    "    \"This image is taken from a patent whose abstract is delimited by triple quotes. Which class in the International Patent Classification system does the following patent belong to? Answer with a 4-character IPC class.\",\n",
    "    \"Classify the following patent, whose abstract is delimited by triple quotes, into a class in the International Patent Classification system. Use the given image from the patent to aid in your answer. Answer with a 4-character IPC class.\",\n",
    "    \"This image is taken from a patent whose abstract is delimited by triple quotes. Determine which class in the International Patent Classification system the following patent belongs to. Answer with a 4-character IPC class.\",\n",
    "]\n",
    "\n",
    "# based on input format of https://cloud.google.com/vertex-ai/generative-ai/docs/multimodal/send-multimodal-prompts\n",
    "\n",
    "def load_image_from_url(image_url):\n",
    "    with urllib.request.urlopen(image_url) as response:\n",
    "        response = typing.cast(http.client.HTTPResponse, response)\n",
    "        image_bytes = response.read()\n",
    "    return VertexImage.from_bytes(image_bytes)\n",
    "\n",
    "def generate_prompt_gemini(patent_dict):\n",
    "    abstract = patent_dict[\"abstract\"]\n",
    "    messages = [\n",
    "        load_image_from_url(\"TODO\"),\n",
    "        f'{PROMPTS[PROMPT_INDEX]}\\n\"\"\"{abstract}\"\"\"'\n",
    "        # f'{PROMPT}\\n{abstract}'\n",
    "        # \"Classify the following patent into a class in the International Patent Classification system. Answer with a 4-character IPC class.\\n\" + patent_dict[\"abstract\"]\n",
    "    ]\n",
    "    return messages, patent_dict[\"ipc_label\"][:4]"
   ]
  },
  {
   "cell_type": "code",
   "execution_count": 74,
   "metadata": {},
   "outputs": [],
   "source": [
    "# gemini prompt engineering\n",
    "NUM_EXAMPLES = 1000\n",
    "model = GenerativeModel(\"gemini-1.0-pro-vision\")\n",
    "num_correct = 0\n",
    "num_total = 0\n",
    "num_not_generated = 0\n",
    "\n",
    "for i in range(NUM_EXAMPLES):\n",
    "    # wait to avoid going over quotas\n",
    "    time.sleep(0.5)\n",
    "    try:\n",
    "        messages, ground_truth = generate_prompt_gemini(df.iloc[i])\n",
    "        # print(messages)\n",
    "        response = model.generate_content(messages)\n",
    "\n",
    "        # print(response)\n",
    "        # print(response.candidates[0].finish_reason)\n",
    "        parts = response.candidates[0].content.parts\n",
    "        if len(parts) > 0:\n",
    "            # print(parts[0].text)\n",
    "            if parts[0].text[:4] == ground_truth:\n",
    "                num_correct += 1\n",
    "        else:\n",
    "            num_not_generated += 1\n",
    "        num_total += 1\n",
    "        # print(ground_truth)\n",
    "    except Exception as e:\n",
    "        print(i, e)\n",
    "print(num_correct, num_total, num_not_generated)\n",
    "\n"
   ]
  },
  {
   "cell_type": "code",
   "execution_count": 37,
   "metadata": {},
   "outputs": [
    {
     "name": "stdout",
     "output_type": "stream",
     "text": [
      "1\n",
      "H04J\n"
     ]
    }
   ],
   "source": [
    "# print(response.candidates[0].content.parts[0].text)\n",
    "print(len(response.candidates))\n",
    "# print(response.candidates[0].content)\n",
    "print(response.candidates[0].content.parts[0].text)"
   ]
  },
  {
   "cell_type": "code",
   "execution_count": null,
   "metadata": {},
   "outputs": [],
   "source": []
  }
 ],
 "metadata": {
  "kernelspec": {
   "display_name": "Python 3",
   "language": "python",
   "name": "python3"
  },
  "language_info": {
   "codemirror_mode": {
    "name": "ipython",
    "version": 3
   },
   "file_extension": ".py",
   "mimetype": "text/x-python",
   "name": "python",
   "nbconvert_exporter": "python",
   "pygments_lexer": "ipython3",
   "version": "3.11.8"
  }
 },
 "nbformat": 4,
 "nbformat_minor": 2
}
