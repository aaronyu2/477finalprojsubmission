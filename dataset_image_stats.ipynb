{
 "cells": [
  {
   "cell_type": "code",
   "execution_count": 1,
   "metadata": {},
   "outputs": [
    {
     "name": "stderr",
     "output_type": "stream",
     "text": [
      "100it [01:08,  1.47it/s]\n"
     ]
    }
   ],
   "source": [
    "import prompts\n",
    "import pandas as pd\n",
    "\n",
    "from tqdm import tqdm\n",
    "df = pd.read_feather(\"data/hupd_sample_train_images_merged.feather\")\n",
    "patentdata = []\n",
    "for i, row in tqdm(df.iterrows()):\n",
    "    if i>=100: break\n",
    "    obj = prompts.to_patent_data(row, \"gpt4v\", prefer_local=False)\n",
    "    patentdata.append(obj)"
   ]
  },
  {
   "cell_type": "code",
   "execution_count": 10,
   "metadata": {},
   "outputs": [],
   "source": [
    "total_pixels, total_num = 0, 0\n",
    "\n",
    "for obj in patentdata:\n",
    "  # obj.image is a PIL.Image object\n",
    "    try:\n",
    "        num_pixels = obj.image.size[0] * obj.image.size[1]\n",
    "        total_pixels += num_pixels\n",
    "        total_num+=1\n",
    "    except:\n",
    "        pass\n",
    "    "
   ]
  },
  {
   "cell_type": "code",
   "execution_count": 11,
   "metadata": {},
   "outputs": [
    {
     "data": {
      "text/plain": [
       "19227015.914893616"
      ]
     },
     "execution_count": 11,
     "metadata": {},
     "output_type": "execute_result"
    }
   ],
   "source": [
    "total_pixels / total_num"
   ]
  }
 ],
 "metadata": {
  "kernelspec": {
   "display_name": "Python 3",
   "language": "python",
   "name": "python3"
  },
  "language_info": {
   "codemirror_mode": {
    "name": "ipython",
    "version": 3
   },
   "file_extension": ".py",
   "mimetype": "text/x-python",
   "name": "python",
   "nbconvert_exporter": "python",
   "pygments_lexer": "ipython3",
   "version": "3.11.9"
  }
 },
 "nbformat": 4,
 "nbformat_minor": 2
}
